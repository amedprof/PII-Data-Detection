{
 "cells": [
  {
   "cell_type": "code",
   "execution_count": 1,
   "id": "84bf958e",
   "metadata": {},
   "outputs": [],
   "source": [
    "import os\n",
    "import gc\n",
    "import sys\n",
    "import json\n",
    "import time\n",
    "import torch\n",
    "import joblib\n",
    "import random\n",
    "import numpy as np\n",
    "import pandas as pd\n",
    "from tqdm.auto import tqdm\n",
    "from pathlib import Path\n",
    "import plotly.express as px\n",
    "import matplotlib.pyplot as plt\n",
    "\n",
    "pd.set_option('display.max_rows', 500)\n",
    "pd.set_option('display.max_columns', 500)\n",
    "pd.set_option('display.width', 1000)\n",
    "pd.set_option('display.float_format', lambda x: '%.4f' % x)"
   ]
  },
  {
   "cell_type": "markdown",
   "id": "8895aef6",
   "metadata": {},
   "source": [
    "# Params"
   ]
  },
  {
   "cell_type": "code",
   "execution_count": 2,
   "id": "5d0104cc",
   "metadata": {},
   "outputs": [
    {
     "data": {
      "text/plain": [
       "['train.json', 'test.json', 'sample_submission.csv']"
      ]
     },
     "execution_count": 2,
     "metadata": {},
     "output_type": "execute_result"
    }
   ],
   "source": [
    "data_path = Path(r\"/database/kaggle/PII/data\")\n",
    "os.listdir(data_path)"
   ]
  },
  {
   "cell_type": "code",
   "execution_count": 3,
   "id": "73fc670f",
   "metadata": {},
   "outputs": [
    {
     "data": {
      "text/plain": [
       "(26, 4)"
      ]
     },
     "execution_count": 3,
     "metadata": {},
     "output_type": "execute_result"
    }
   ],
   "source": [
    "sample_df = pd.read_csv(data_path/'sample_submission.csv')\n",
    "sample_df.shape"
   ]
  },
  {
   "cell_type": "code",
   "execution_count": 4,
   "id": "ced5d03d",
   "metadata": {},
   "outputs": [
    {
     "data": {
      "text/html": [
       "<div>\n",
       "<style scoped>\n",
       "    .dataframe tbody tr th:only-of-type {\n",
       "        vertical-align: middle;\n",
       "    }\n",
       "\n",
       "    .dataframe tbody tr th {\n",
       "        vertical-align: top;\n",
       "    }\n",
       "\n",
       "    .dataframe thead th {\n",
       "        text-align: right;\n",
       "    }\n",
       "</style>\n",
       "<table border=\"1\" class=\"dataframe\">\n",
       "  <thead>\n",
       "    <tr style=\"text-align: right;\">\n",
       "      <th></th>\n",
       "      <th>row_id</th>\n",
       "      <th>document</th>\n",
       "      <th>token</th>\n",
       "      <th>label</th>\n",
       "    </tr>\n",
       "  </thead>\n",
       "  <tbody>\n",
       "    <tr>\n",
       "      <th>0</th>\n",
       "      <td>0</td>\n",
       "      <td>7</td>\n",
       "      <td>9</td>\n",
       "      <td>B-NAME_STUDENT</td>\n",
       "    </tr>\n",
       "    <tr>\n",
       "      <th>1</th>\n",
       "      <td>1</td>\n",
       "      <td>7</td>\n",
       "      <td>10</td>\n",
       "      <td>I-NAME_STUDENT</td>\n",
       "    </tr>\n",
       "    <tr>\n",
       "      <th>2</th>\n",
       "      <td>2</td>\n",
       "      <td>7</td>\n",
       "      <td>482</td>\n",
       "      <td>B-NAME_STUDENT</td>\n",
       "    </tr>\n",
       "    <tr>\n",
       "      <th>3</th>\n",
       "      <td>3</td>\n",
       "      <td>7</td>\n",
       "      <td>483</td>\n",
       "      <td>I-NAME_STUDENT</td>\n",
       "    </tr>\n",
       "    <tr>\n",
       "      <th>4</th>\n",
       "      <td>4</td>\n",
       "      <td>7</td>\n",
       "      <td>741</td>\n",
       "      <td>B-NAME_STUDENT</td>\n",
       "    </tr>\n",
       "  </tbody>\n",
       "</table>\n",
       "</div>"
      ],
      "text/plain": [
       "   row_id  document  token           label\n",
       "0       0         7      9  B-NAME_STUDENT\n",
       "1       1         7     10  I-NAME_STUDENT\n",
       "2       2         7    482  B-NAME_STUDENT\n",
       "3       3         7    483  I-NAME_STUDENT\n",
       "4       4         7    741  B-NAME_STUDENT"
      ]
     },
     "execution_count": 4,
     "metadata": {},
     "output_type": "execute_result"
    }
   ],
   "source": [
    "sample_df.head(5)"
   ]
  },
  {
   "cell_type": "code",
   "execution_count": 5,
   "id": "80aa459d",
   "metadata": {},
   "outputs": [
    {
     "data": {
      "text/plain": [
       "array(['B-NAME_STUDENT', 'I-NAME_STUDENT'], dtype=object)"
      ]
     },
     "execution_count": 5,
     "metadata": {},
     "output_type": "execute_result"
    }
   ],
   "source": [
    "sample_df.label.unique()"
   ]
  },
  {
   "cell_type": "code",
   "execution_count": 6,
   "id": "bc125ae5",
   "metadata": {},
   "outputs": [
    {
     "data": {
      "text/plain": [
       "(6807, 5)"
      ]
     },
     "execution_count": 6,
     "metadata": {},
     "output_type": "execute_result"
    }
   ],
   "source": [
    "df = pd.read_json(data_path/'train.json')\n",
    "df.shape"
   ]
  },
  {
   "cell_type": "code",
   "execution_count": 7,
   "id": "777aa2f4",
   "metadata": {},
   "outputs": [
    {
     "data": {
      "text/html": [
       "<div>\n",
       "<style scoped>\n",
       "    .dataframe tbody tr th:only-of-type {\n",
       "        vertical-align: middle;\n",
       "    }\n",
       "\n",
       "    .dataframe tbody tr th {\n",
       "        vertical-align: top;\n",
       "    }\n",
       "\n",
       "    .dataframe thead th {\n",
       "        text-align: right;\n",
       "    }\n",
       "</style>\n",
       "<table border=\"1\" class=\"dataframe\">\n",
       "  <thead>\n",
       "    <tr style=\"text-align: right;\">\n",
       "      <th></th>\n",
       "      <th>document</th>\n",
       "      <th>full_text</th>\n",
       "      <th>tokens</th>\n",
       "      <th>trailing_whitespace</th>\n",
       "      <th>labels</th>\n",
       "    </tr>\n",
       "  </thead>\n",
       "  <tbody>\n",
       "    <tr>\n",
       "      <th>0</th>\n",
       "      <td>7</td>\n",
       "      <td>Design Thinking for innovation reflexion-Avril...</td>\n",
       "      <td>[Design, Thinking, for, innovation, reflexion,...</td>\n",
       "      <td>[True, True, True, True, False, False, True, F...</td>\n",
       "      <td>[O, O, O, O, O, O, O, O, O, B-NAME_STUDENT, I-...</td>\n",
       "    </tr>\n",
       "    <tr>\n",
       "      <th>1</th>\n",
       "      <td>10</td>\n",
       "      <td>Diego Estrada\\n\\nDesign Thinking Assignment\\n\\...</td>\n",
       "      <td>[Diego, Estrada, \\n\\n, Design, Thinking, Assig...</td>\n",
       "      <td>[True, False, False, True, True, False, False,...</td>\n",
       "      <td>[B-NAME_STUDENT, I-NAME_STUDENT, O, O, O, O, O...</td>\n",
       "    </tr>\n",
       "    <tr>\n",
       "      <th>2</th>\n",
       "      <td>16</td>\n",
       "      <td>Reporting process\\n\\nby Gilberto Gamboa\\n\\nCha...</td>\n",
       "      <td>[Reporting, process, \\n\\n, by, Gilberto, Gambo...</td>\n",
       "      <td>[True, False, False, True, True, False, False,...</td>\n",
       "      <td>[O, O, O, O, B-NAME_STUDENT, I-NAME_STUDENT, O...</td>\n",
       "    </tr>\n",
       "    <tr>\n",
       "      <th>3</th>\n",
       "      <td>20</td>\n",
       "      <td>Design Thinking for Innovation\\n\\nSindy Samaca...</td>\n",
       "      <td>[Design, Thinking, for, Innovation, \\n\\n, Sind...</td>\n",
       "      <td>[True, True, True, False, False, True, False, ...</td>\n",
       "      <td>[O, O, O, O, O, B-NAME_STUDENT, I-NAME_STUDENT...</td>\n",
       "    </tr>\n",
       "    <tr>\n",
       "      <th>4</th>\n",
       "      <td>56</td>\n",
       "      <td>Assignment:  Visualization Reflection  Submitt...</td>\n",
       "      <td>[Assignment, :,   , Visualization,  , Reflecti...</td>\n",
       "      <td>[False, False, False, False, False, False, Fal...</td>\n",
       "      <td>[O, O, O, O, O, O, O, O, O, O, O, O, B-NAME_ST...</td>\n",
       "    </tr>\n",
       "  </tbody>\n",
       "</table>\n",
       "</div>"
      ],
      "text/plain": [
       "   document                                          full_text                                             tokens                                trailing_whitespace                                             labels\n",
       "0         7  Design Thinking for innovation reflexion-Avril...  [Design, Thinking, for, innovation, reflexion,...  [True, True, True, True, False, False, True, F...  [O, O, O, O, O, O, O, O, O, B-NAME_STUDENT, I-...\n",
       "1        10  Diego Estrada\\n\\nDesign Thinking Assignment\\n\\...  [Diego, Estrada, \\n\\n, Design, Thinking, Assig...  [True, False, False, True, True, False, False,...  [B-NAME_STUDENT, I-NAME_STUDENT, O, O, O, O, O...\n",
       "2        16  Reporting process\\n\\nby Gilberto Gamboa\\n\\nCha...  [Reporting, process, \\n\\n, by, Gilberto, Gambo...  [True, False, False, True, True, False, False,...  [O, O, O, O, B-NAME_STUDENT, I-NAME_STUDENT, O...\n",
       "3        20  Design Thinking for Innovation\\n\\nSindy Samaca...  [Design, Thinking, for, Innovation, \\n\\n, Sind...  [True, True, True, False, False, True, False, ...  [O, O, O, O, O, B-NAME_STUDENT, I-NAME_STUDENT...\n",
       "4        56  Assignment:  Visualization Reflection  Submitt...  [Assignment, :,   , Visualization,  , Reflecti...  [False, False, False, False, False, False, Fal...  [O, O, O, O, O, O, O, O, O, O, O, O, B-NAME_ST..."
      ]
     },
     "execution_count": 7,
     "metadata": {},
     "output_type": "execute_result"
    }
   ],
   "source": [
    "df.head(5)"
   ]
  },
  {
   "cell_type": "code",
   "execution_count": 13,
   "id": "dfc7b295",
   "metadata": {},
   "outputs": [
    {
     "data": {
      "text/plain": [
       "8"
      ]
     },
     "execution_count": 13,
     "metadata": {},
     "output_type": "execute_result"
    }
   ],
   "source": [
    "LABEL2TYPE = ('NAME_STUDENT','EMAIL','USERNAME','ID_NUM', 'PHONE_NUM','URL_PERSONAL','STREET_ADDRESS','O')\n",
    "len(LABEL2TYPE)"
   ]
  },
  {
   "cell_type": "code",
   "execution_count": 21,
   "id": "400ffd38",
   "metadata": {},
   "outputs": [],
   "source": [
    "for name in LABEL2TYPE[:-1]:\n",
    "    df[name] = ((df['labels'].transform(lambda x:len([i for i in x if i.split('-')[-1]==name ])))>0)*1"
   ]
  },
  {
   "cell_type": "code",
   "execution_count": 22,
   "id": "d6aa3e30",
   "metadata": {},
   "outputs": [],
   "source": [
    "df['nb_labels'] = df['labels'].transform(lambda x:len([i for i in x if i!=\"O\" ]))"
   ]
  },
  {
   "cell_type": "code",
   "execution_count": 23,
   "id": "38e76e79",
   "metadata": {},
   "outputs": [
    {
     "data": {
      "text/plain": [
       "0     5862\n",
       "2      599\n",
       "4      108\n",
       "1       86\n",
       "3       52\n",
       "6       46\n",
       "8       14\n",
       "5       10\n",
       "12       6\n",
       "10       5\n",
       "11       3\n",
       "9        3\n",
       "15       2\n",
       "14       2\n",
       "21       2\n",
       "7        1\n",
       "23       1\n",
       "18       1\n",
       "17       1\n",
       "26       1\n",
       "34       1\n",
       "22       1\n",
       "Name: nb_labels, dtype: int64"
      ]
     },
     "execution_count": 23,
     "metadata": {},
     "output_type": "execute_result"
    }
   ],
   "source": [
    "df['nb_labels'].value_counts() "
   ]
  },
  {
   "cell_type": "code",
   "execution_count": 24,
   "id": "47cc3b0d",
   "metadata": {},
   "outputs": [
    {
     "data": {
      "text/plain": [
       "NAME_STUDENT       891\n",
       "EMAIL               24\n",
       "USERNAME             5\n",
       "ID_NUM              33\n",
       "PHONE_NUM            4\n",
       "URL_PERSONAL        72\n",
       "STREET_ADDRESS       2\n",
       "nb_labels         2739\n",
       "dtype: int64"
      ]
     },
     "execution_count": 24,
     "metadata": {},
     "output_type": "execute_result"
    }
   ],
   "source": [
    "df[list(LABEL2TYPE)[:-1]+['nb_labels']].sum()"
   ]
  },
  {
   "cell_type": "code",
   "execution_count": 25,
   "id": "a0419d8f",
   "metadata": {},
   "outputs": [],
   "source": [
    "from iterstrat.ml_stratifiers import MultilabelStratifiedKFold"
   ]
  },
  {
   "cell_type": "code",
   "execution_count": 26,
   "id": "33e14f2e",
   "metadata": {},
   "outputs": [],
   "source": [
    "seeds = [42]\n",
    "folds_names = []\n",
    "for K in [5]:  \n",
    "    for seed in seeds:\n",
    "        mskf = MultilabelStratifiedKFold(n_splits=K,shuffle=True,random_state=seed)\n",
    "        name = f\"fold_msk_{K}_seed_{seed}\"\n",
    "        df[name] = -1\n",
    "        for fold, (trn_, val_) in enumerate(mskf.split(df,df[list(LABEL2TYPE)[:-1]])):\n",
    "            df.loc[val_, name] = fold"
   ]
  },
  {
   "cell_type": "code",
   "execution_count": 27,
   "id": "8364b177",
   "metadata": {},
   "outputs": [
    {
     "data": {
      "text/html": [
       "<div>\n",
       "<style scoped>\n",
       "    .dataframe tbody tr th:only-of-type {\n",
       "        vertical-align: middle;\n",
       "    }\n",
       "\n",
       "    .dataframe tbody tr th {\n",
       "        vertical-align: top;\n",
       "    }\n",
       "\n",
       "    .dataframe thead th {\n",
       "        text-align: right;\n",
       "    }\n",
       "</style>\n",
       "<table border=\"1\" class=\"dataframe\">\n",
       "  <thead>\n",
       "    <tr style=\"text-align: right;\">\n",
       "      <th></th>\n",
       "      <th>NAME_STUDENT</th>\n",
       "      <th>EMAIL</th>\n",
       "      <th>USERNAME</th>\n",
       "      <th>ID_NUM</th>\n",
       "      <th>PHONE_NUM</th>\n",
       "      <th>URL_PERSONAL</th>\n",
       "      <th>STREET_ADDRESS</th>\n",
       "    </tr>\n",
       "    <tr>\n",
       "      <th>fold_msk_5_seed_42</th>\n",
       "      <th></th>\n",
       "      <th></th>\n",
       "      <th></th>\n",
       "      <th></th>\n",
       "      <th></th>\n",
       "      <th></th>\n",
       "      <th></th>\n",
       "    </tr>\n",
       "  </thead>\n",
       "  <tbody>\n",
       "    <tr>\n",
       "      <th>0</th>\n",
       "      <td>178</td>\n",
       "      <td>5</td>\n",
       "      <td>1</td>\n",
       "      <td>7</td>\n",
       "      <td>1</td>\n",
       "      <td>14</td>\n",
       "      <td>0</td>\n",
       "    </tr>\n",
       "    <tr>\n",
       "      <th>1</th>\n",
       "      <td>178</td>\n",
       "      <td>5</td>\n",
       "      <td>1</td>\n",
       "      <td>7</td>\n",
       "      <td>1</td>\n",
       "      <td>14</td>\n",
       "      <td>0</td>\n",
       "    </tr>\n",
       "    <tr>\n",
       "      <th>2</th>\n",
       "      <td>179</td>\n",
       "      <td>5</td>\n",
       "      <td>1</td>\n",
       "      <td>6</td>\n",
       "      <td>1</td>\n",
       "      <td>15</td>\n",
       "      <td>1</td>\n",
       "    </tr>\n",
       "    <tr>\n",
       "      <th>3</th>\n",
       "      <td>178</td>\n",
       "      <td>4</td>\n",
       "      <td>1</td>\n",
       "      <td>6</td>\n",
       "      <td>0</td>\n",
       "      <td>15</td>\n",
       "      <td>1</td>\n",
       "    </tr>\n",
       "    <tr>\n",
       "      <th>4</th>\n",
       "      <td>178</td>\n",
       "      <td>5</td>\n",
       "      <td>1</td>\n",
       "      <td>7</td>\n",
       "      <td>1</td>\n",
       "      <td>14</td>\n",
       "      <td>0</td>\n",
       "    </tr>\n",
       "  </tbody>\n",
       "</table>\n",
       "</div>"
      ],
      "text/plain": [
       "                    NAME_STUDENT  EMAIL  USERNAME  ID_NUM  PHONE_NUM  URL_PERSONAL  STREET_ADDRESS\n",
       "fold_msk_5_seed_42                                                                                \n",
       "0                            178      5         1       7          1            14               0\n",
       "1                            178      5         1       7          1            14               0\n",
       "2                            179      5         1       6          1            15               1\n",
       "3                            178      4         1       6          0            15               1\n",
       "4                            178      5         1       7          1            14               0"
      ]
     },
     "execution_count": 27,
     "metadata": {},
     "output_type": "execute_result"
    }
   ],
   "source": [
    "df.groupby(name)[list(LABEL2TYPE)[:-1]].sum()"
   ]
  },
  {
   "cell_type": "code",
   "execution_count": 50,
   "id": "105f6de3",
   "metadata": {},
   "outputs": [
    {
     "name": "stdout",
     "output_type": "stream",
     "text": [
      "fdixon: (28, 34) : B-USERNAME\n",
      "fdixon: (3111, 3117) : B-USERNAME\n"
     ]
    }
   ],
   "source": [
    "import re\n",
    "from difflib import SequenceMatcher\n",
    "\n",
    "def get_text_start_end(txt, s, search_from=0):\n",
    "    txt = txt[int(search_from):]\n",
    "    try:\n",
    "        idx = txt.find(s)\n",
    "        if idx >= 0:\n",
    "            st = idx\n",
    "            ed = st + len(s)\n",
    "        else:\n",
    "            raise ValueError('Error')\n",
    "    except:\n",
    "        res = [(m.start(0), m.end(0)) for m in re.finditer(s, txt)]\n",
    "        if len(res):\n",
    "            st, ed = res[0][0], res[0][1]\n",
    "        else:\n",
    "            m = SequenceMatcher(None, s, txt).get_opcodes()\n",
    "            for tag, i1, i2, j1, j2 in m:\n",
    "                if tag == 'replace':\n",
    "                    s = s[:i1] + txt[j1:j2] + s[i2:]\n",
    "                if tag == \"delete\":\n",
    "                    s = s[:i1] + s[i2:]\n",
    "\n",
    "            res = [(m.start(0), m.end(0)) for m in re.finditer(s, txt)]\n",
    "            if len(res):\n",
    "                st, ed = res[0][0], res[0][1]\n",
    "            else:\n",
    "                idx = txt.find(s)\n",
    "                if idx >= 0:\n",
    "                    st = idx\n",
    "                    ed = st + len(s)\n",
    "                else:\n",
    "                    st, ed = 0, 0\n",
    "    return st + search_from, ed + search_from\n",
    "\n",
    "\n",
    "def get_offset_mapping(full_text, tokens):\n",
    "    offset_mapping = []\n",
    "\n",
    "    current_offset = 0\n",
    "    for token in tokens:\n",
    "        start, end = get_text_start_end(full_text, token, search_from=current_offset)\n",
    "        offset_mapping.append((start, end))\n",
    "        current_offset = end\n",
    "\n",
    "    return offset_mapping\n",
    "\n",
    "\n",
    "# Example usage:\n",
    "# full_text = \"Design Thinking for innovation reflexion-Avril 2021-Nathalie Sylla\\n\\nChallenge & selection\\n\\nThe tool I use...\"\n",
    "# tokens = ['Design', 'Thinking', 'for', 'innovation', 'reflexion', '-', 'Avril', '2021', '-',\n",
    "#           'Nathalie', 'Sylla', '\\n\\n', 'Challenge', '&', 'selection', '\\n\\n', 'The', 'tool', 'I', 'use', 'to', 'help', 'all', 'stakeholders', 'finding', 'their', 'way', 'through', 'the', 'complexity', 'of', 'a', 'project', 'is', 'the', ' ', 'mind', 'map', '.', '\\n\\n', ...]\n",
    "idx = random.choice(df[df.USERNAME>0].index)\n",
    "# Example usage:\n",
    "full_text = df.iloc[idx]['full_text']\n",
    "tokens = df.iloc[idx]['tokens']\n",
    "trailing_whitespace = df.iloc[idx]['trailing_whitespace']\n",
    "labels = df.iloc[idx]['labels']\n",
    "\n",
    "\n",
    "offset_mapping = get_offset_mapping(full_text, tokens)\n",
    "for token, offset,l in zip(tokens, offset_mapping,labels):\n",
    "    if l!=\"O\":\n",
    "        print(f\"{token}: {offset} : {l}\")\n"
   ]
  },
  {
   "cell_type": "code",
   "execution_count": 51,
   "id": "5fa5cd67",
   "metadata": {},
   "outputs": [
    {
     "data": {
      "text/plain": [
       "'.  Sec'"
      ]
     },
     "execution_count": 51,
     "metadata": {},
     "output_type": "execute_result"
    }
   ],
   "source": [
    "full_text[1863:1869]"
   ]
  },
  {
   "cell_type": "code",
   "execution_count": 52,
   "id": "c1e200b2",
   "metadata": {},
   "outputs": [
    {
     "data": {
      "text/plain": [
       "('',)"
      ]
     },
     "execution_count": 52,
     "metadata": {},
     "output_type": "execute_result"
    }
   ],
   "source": [
    "full_text[8089:8094], "
   ]
  },
  {
   "cell_type": "code",
   "execution_count": 53,
   "id": "eb81fe1b",
   "metadata": {},
   "outputs": [
    {
     "data": {
      "text/plain": [
       "'Design Thinking Assignment\\n\\nfdixon | 3.17.2016\\n\\nChallenge\\n\\nMy Strategy team is working with a Non-Profit that has established critical goals that have a  dramatic impact on people’s lives and the success of the organization by the year 2017.  This  customer has a highly decentralized organizational design that over the decades has created  an extremely fractured experience for its constituency.  Our objective with this customer is  breaking a pattern of legacy thinking in terms of experience, approach, use of technology  and most importantly bringing an empathy and “member” viewpoint.  The early outcome of  some Design Thinking workshops have been a series of ideas and concepts but the  organization struggles with how to put prioritization across the organization much less a  capital business case to support the full execution of projects or a program.  We have asked  access to key business stakeholders and ‘members’ to create some tangible concepts that  allow the organization to learn which ideas have the chance for greatest impact, but just as  importantly that this process allows them to break out of a type of thinking constricting them  from really solving their member’s issues and transforming the way they engage in the future.\\n\\nSelection\\n\\nI selected the Learning Launch tool to help move the customer and our initiative to help  them forward.  I worked with our Strategy team and chose this tool for three major reasons.   First, because we had developed a good number of ideas that we believed would truly  transform their experience we needed a way to pragmatically vet them without engaging in a  more formal business case or ROI process.  We wanted to limit capital request given the  nature of that process with Non-Profits but wanted to get key executive visibility to the  impact potential and prioritize based on member feedback.  Secondly we knew that the  organization struggled with conceptualizing outcomes, especially when dealing with “non- traditional” experiences, in this case Digital.  This was only compounded by the fact that  anything that required interaction across organizational “units” was difficult but more easily  broken by enabling interactions across these concepts.  Third and maybe the most important  long term reason for choosing the Learning Launch at this stage was showing them  pragmatic ways to test these ideas and not wrap processes that stifled innovation.\\n\\nApplication\\n\\nI won’t walk through all the applications of Learning Launch but our top two are likely a good  example of how we executed the process.  Our first Learning Launch was looking at the  hypothesis that Members did not desire a “brand” attached experience that laddered up to  the cause but rather provided a valuable experience to solve a unique problem, in this case  healthy cooking.  We wanted to give members the ability to select concepts that forced them  through the “brand” and others that were targeted at known problem areas they were  looking to solve – finding a recipe, counting calories, searching ingredients.  We tried to get a\\n\\nDesign Thinking Assignment\\n\\nfdixon | 3.17.2016\\n\\nrepresentative grouping across demographic and ethnographic members and recorded their  selections and captured feedback through survey and interviews.  The results were  aggregated into an overall finding documented so we had empathetic data instead of  historical perspectives on member wants and needs.\\n\\nOur second hypothesis was that members had high expectations for a responsive experience  (and we mean truly responsive – contextual, ambient, personalized).  We used paper  prototypes and had 5 workstations with a series of tasks and asked members to select the  form (tablet, phone, laptop), position (landscape vs portrait) and annotate key things they  wanted to be unique.  We digitally recorded one exercise to show the collaboration and  interaction, a key goal.  Our findings were brought together and helped inform Persona  definition, User Experience Design and capture personalization requirements that will be used  in prototypes.\\n\\nInsight\\n\\nOne of our biggest team learnings was that because Learning Launch has elements of a  scientific approach in terms of hypothesis, testing and so on, that we should be more  “planful” on the testing and looking for ways to let some be “control” groups and others to  be more free form.  We learned that the outcomes helped provide key elements of both  tangible results, in terms of UX and measurement objectives, but also provided some  fundamental structure for digital business case to support actually executing  projects/program which was not intended but welcomed!\\n\\nApproach\\n\\nThe major action we would take to improve how we use this tool is to better document  hypothesis, tests, expected outcomes and then have a strong recording mechanism to  provide comparative results.  We underestimated the balance of facilitation and interaction  we had as a team in the process which limited out ability to actually document findings.  We  would also likely mix ideas or hypotheses that we generated and some that the customer  develops as a way to teach through the engagement.\\n\\n'"
      ]
     },
     "execution_count": 53,
     "metadata": {},
     "output_type": "execute_result"
    }
   ],
   "source": [
    "full_text"
   ]
  },
  {
   "cell_type": "code",
   "execution_count": 54,
   "id": "b35173a1",
   "metadata": {
    "scrolled": false
   },
   "outputs": [
    {
     "name": "stdout",
     "output_type": "stream",
     "text": [
      "Design Thinking Assignment\n",
      "\n",
      "fdixon | 3.17.2016\n",
      "\n",
      "Challenge\n",
      "\n",
      "My Strategy team is working with a Non-Profit that has established critical goals that have a  dramatic impact on people’s lives and the success of the organization by the year 2017.  This  customer has a highly decentralized organizational design that over the decades has created  an extremely fractured experience for its constituency.  Our objective with this customer is  breaking a pattern of legacy thinking in terms of experience, approach, use of technology  and most importantly bringing an empathy and “member” viewpoint.  The early outcome of  some Design Thinking workshops have been a series of ideas and concepts but the  organization struggles with how to put prioritization across the organization much less a  capital business case to support the full execution of projects or a program.  We have asked  access to key business stakeholders and ‘members’ to create some tangible concepts that  allow the organization to learn which ideas have the chance for greatest impact, but just as  importantly that this process allows them to break out of a type of thinking constricting them  from really solving their member’s issues and transforming the way they engage in the future.\n",
      "\n",
      "Selection\n",
      "\n",
      "I selected the Learning Launch tool to help move the customer and our initiative to help  them forward.  I worked with our Strategy team and chose this tool for three major reasons.   First, because we had developed a good number of ideas that we believed would truly  transform their experience we needed a way to pragmatically vet them without engaging in a  more formal business case or ROI process.  We wanted to limit capital request given the  nature of that process with Non-Profits but wanted to get key executive visibility to the  impact potential and prioritize based on member feedback.  Secondly we knew that the  organization struggled with conceptualizing outcomes, especially when dealing with “non- traditional” experiences, in this case Digital.  This was only compounded by the fact that  anything that required interaction across organizational “units” was difficult but more easily  broken by enabling interactions across these concepts.  Third and maybe the most important  long term reason for choosing the Learning Launch at this stage was showing them  pragmatic ways to test these ideas and not wrap processes that stifled innovation.\n",
      "\n",
      "Application\n",
      "\n",
      "I won’t walk through all the applications of Learning Launch but our top two are likely a good  example of how we executed the process.  Our first Learning Launch was looking at the  hypothesis that Members did not desire a “brand” attached experience that laddered up to  the cause but rather provided a valuable experience to solve a unique problem, in this case  healthy cooking.  We wanted to give members the ability to select concepts that forced them  through the “brand” and others that were targeted at known problem areas they were  looking to solve – finding a recipe, counting calories, searching ingredients.  We tried to get a\n",
      "\n",
      "Design Thinking Assignment\n",
      "\n",
      "fdixon | 3.17.2016\n",
      "\n",
      "representative grouping across demographic and ethnographic members and recorded their  selections and captured feedback through survey and interviews.  The results were  aggregated into an overall finding documented so we had empathetic data instead of  historical perspectives on member wants and needs.\n",
      "\n",
      "Our second hypothesis was that members had high expectations for a responsive experience  (and we mean truly responsive – contextual, ambient, personalized).  We used paper  prototypes and had 5 workstations with a series of tasks and asked members to select the  form (tablet, phone, laptop), position (landscape vs portrait) and annotate key things they  wanted to be unique.  We digitally recorded one exercise to show the collaboration and  interaction, a key goal.  Our findings were brought together and helped inform Persona  definition, User Experience Design and capture personalization requirements that will be used  in prototypes.\n",
      "\n",
      "Insight\n",
      "\n",
      "One of our biggest team learnings was that because Learning Launch has elements of a  scientific approach in terms of hypothesis, testing and so on, that we should be more  “planful” on the testing and looking for ways to let some be “control” groups and others to  be more free form.  We learned that the outcomes helped provide key elements of both  tangible results, in terms of UX and measurement objectives, but also provided some  fundamental structure for digital business case to support actually executing  projects/program which was not intended but welcomed!\n",
      "\n",
      "Approach\n",
      "\n",
      "The major action we would take to improve how we use this tool is to better document  hypothesis, tests, expected outcomes and then have a strong recording mechanism to  provide comparative results.  We underestimated the balance of facilitation and interaction  we had as a team in the process which limited out ability to actually document findings.  We  would also likely mix ideas or hypotheses that we generated and some that the customer  develops as a way to teach through the engagement.\n",
      "\n",
      "\n"
     ]
    }
   ],
   "source": [
    "print(full_text)"
   ]
  },
  {
   "cell_type": "code",
   "execution_count": 55,
   "id": "dfa9b0d4",
   "metadata": {},
   "outputs": [],
   "source": [
    "# pip install spacy"
   ]
  },
  {
   "cell_type": "code",
   "execution_count": 56,
   "id": "774ec67c",
   "metadata": {},
   "outputs": [],
   "source": [
    "import spacy\n",
    "from spacy import displacy\n",
    "from pylab import cm, matplotlib\n",
    "import os\n",
    "\n",
    "colors = {\n",
    "            'NAME_STUDENT': '#8000ff',\n",
    "            'EMAIL': '#2b7ff6',\n",
    "            'USERNAME': '#2adddd',\n",
    "            'ID_NUM': '#80ffb4',\n",
    "            'PHONE_NUM': 'd4dd80',\n",
    "            'URL_PERSONAL': '#ff8042',\n",
    "            'STREET_ADDRESS': '#ff0000'\n",
    "         }\n",
    "\n",
    "\n",
    "def visualize(full_text,offset_mapping,labels):\n",
    "    \n",
    "    ents = []\n",
    "    for offset,lab in zip(offset_mapping,labels):\n",
    "        ents.append({\n",
    "                        'start': int(offset[0]), \n",
    "                         'end': int(offset[1]), \n",
    "                         'label': str(lab.split('-')[1]) #+ ' - ' + str(row['discourse_effectiveness'])\n",
    "                    })\n",
    "\n",
    "    doc2 = {\n",
    "        \"text\": full_text,\n",
    "        \"ents\": ents,\n",
    "#         \"title\": \"idx\"\n",
    "    }\n",
    "\n",
    "    options = {\"ents\": list(colors.keys()), \"colors\": colors}\n",
    "    displacy.render(doc2, style=\"ent\", options=options, manual=True, jupyter=True)"
   ]
  },
  {
   "cell_type": "code",
   "execution_count": 57,
   "id": "d2b10295",
   "metadata": {},
   "outputs": [],
   "source": [
    "offset_mapping_ = [x for (x,y) in zip(offset_mapping,labels) if y!=\"O\"]\n",
    "labels_ = [x for x in labels if x!=\"O\"]"
   ]
  },
  {
   "cell_type": "code",
   "execution_count": 58,
   "id": "1f270391",
   "metadata": {
    "scrolled": false
   },
   "outputs": [
    {
     "data": {
      "text/html": [
       "<span class=\"tex2jax_ignore\"><div class=\"entities\" style=\"line-height: 2.5; direction: ltr\">Design Thinking Assignment<br><br>\n",
       "<mark class=\"entity\" style=\"background: #2adddd; padding: 0.45em 0.6em; margin: 0 0.25em; line-height: 1; border-radius: 0.35em;\">\n",
       "    fdixon\n",
       "    <span style=\"font-size: 0.8em; font-weight: bold; line-height: 1; border-radius: 0.35em; vertical-align: middle; margin-left: 0.5rem\">USERNAME</span>\n",
       "</mark>\n",
       " | 3.17.2016<br><br>Challenge<br><br>My Strategy team is working with a Non-Profit that has established critical goals that have a  dramatic impact on people’s lives and the success of the organization by the year 2017.  This  customer has a highly decentralized organizational design that over the decades has created  an extremely fractured experience for its constituency.  Our objective with this customer is  breaking a pattern of legacy thinking in terms of experience, approach, use of technology  and most importantly bringing an empathy and “member” viewpoint.  The early outcome of  some Design Thinking workshops have been a series of ideas and concepts but the  organization struggles with how to put prioritization across the organization much less a  capital business case to support the full execution of projects or a program.  We have asked  access to key business stakeholders and ‘members’ to create some tangible concepts that  allow the organization to learn which ideas have the chance for greatest impact, but just as  importantly that this process allows them to break out of a type of thinking constricting them  from really solving their member’s issues and transforming the way they engage in the future.<br><br>Selection<br><br>I selected the Learning Launch tool to help move the customer and our initiative to help  them forward.  I worked with our Strategy team and chose this tool for three major reasons.   First, because we had developed a good number of ideas that we believed would truly  transform their experience we needed a way to pragmatically vet them without engaging in a  more formal business case or ROI process.  We wanted to limit capital request given the  nature of that process with Non-Profits but wanted to get key executive visibility to the  impact potential and prioritize based on member feedback.  Secondly we knew that the  organization struggled with conceptualizing outcomes, especially when dealing with “non- traditional” experiences, in this case Digital.  This was only compounded by the fact that  anything that required interaction across organizational “units” was difficult but more easily  broken by enabling interactions across these concepts.  Third and maybe the most important  long term reason for choosing the Learning Launch at this stage was showing them  pragmatic ways to test these ideas and not wrap processes that stifled innovation.<br><br>Application<br><br>I won’t walk through all the applications of Learning Launch but our top two are likely a good  example of how we executed the process.  Our first Learning Launch was looking at the  hypothesis that Members did not desire a “brand” attached experience that laddered up to  the cause but rather provided a valuable experience to solve a unique problem, in this case  healthy cooking.  We wanted to give members the ability to select concepts that forced them  through the “brand” and others that were targeted at known problem areas they were  looking to solve – finding a recipe, counting calories, searching ingredients.  We tried to get a<br><br>Design Thinking Assignment<br><br>\n",
       "<mark class=\"entity\" style=\"background: #2adddd; padding: 0.45em 0.6em; margin: 0 0.25em; line-height: 1; border-radius: 0.35em;\">\n",
       "    fdixon\n",
       "    <span style=\"font-size: 0.8em; font-weight: bold; line-height: 1; border-radius: 0.35em; vertical-align: middle; margin-left: 0.5rem\">USERNAME</span>\n",
       "</mark>\n",
       " | 3.17.2016<br><br>representative grouping across demographic and ethnographic members and recorded their  selections and captured feedback through survey and interviews.  The results were  aggregated into an overall finding documented so we had empathetic data instead of  historical perspectives on member wants and needs.<br><br>Our second hypothesis was that members had high expectations for a responsive experience  (and we mean truly responsive – contextual, ambient, personalized).  We used paper  prototypes and had 5 workstations with a series of tasks and asked members to select the  form (tablet, phone, laptop), position (landscape vs portrait) and annotate key things they  wanted to be unique.  We digitally recorded one exercise to show the collaboration and  interaction, a key goal.  Our findings were brought together and helped inform Persona  definition, User Experience Design and capture personalization requirements that will be used  in prototypes.<br><br>Insight<br><br>One of our biggest team learnings was that because Learning Launch has elements of a  scientific approach in terms of hypothesis, testing and so on, that we should be more  “planful” on the testing and looking for ways to let some be “control” groups and others to  be more free form.  We learned that the outcomes helped provide key elements of both  tangible results, in terms of UX and measurement objectives, but also provided some  fundamental structure for digital business case to support actually executing  projects/program which was not intended but welcomed!<br><br>Approach<br><br>The major action we would take to improve how we use this tool is to better document  hypothesis, tests, expected outcomes and then have a strong recording mechanism to  provide comparative results.  We underestimated the balance of facilitation and interaction  we had as a team in the process which limited out ability to actually document findings.  We  would also likely mix ideas or hypotheses that we generated and some that the customer  develops as a way to teach through the engagement.<br><br></div></span>"
      ],
      "text/plain": [
       "<IPython.core.display.HTML object>"
      ]
     },
     "metadata": {},
     "output_type": "display_data"
    }
   ],
   "source": [
    "visualize(full_text,offset_mapping_,labels_)"
   ]
  },
  {
   "cell_type": "code",
   "execution_count": null,
   "id": "8e21e190",
   "metadata": {},
   "outputs": [],
   "source": []
  }
 ],
 "metadata": {
  "kernelspec": {
   "display_name": "Python 3 (ipykernel)",
   "language": "python",
   "name": "python3"
  },
  "language_info": {
   "codemirror_mode": {
    "name": "ipython",
    "version": 3
   },
   "file_extension": ".py",
   "mimetype": "text/x-python",
   "name": "python",
   "nbconvert_exporter": "python",
   "pygments_lexer": "ipython3",
   "version": "3.10.9"
  }
 },
 "nbformat": 4,
 "nbformat_minor": 5
}

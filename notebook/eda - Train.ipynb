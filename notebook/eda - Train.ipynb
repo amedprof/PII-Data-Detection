{
 "cells": [
  {
   "cell_type": "code",
   "execution_count": 2,
   "id": "84bf958e",
   "metadata": {},
   "outputs": [],
   "source": [
    "import os\n",
    "import gc\n",
    "import sys\n",
    "import json\n",
    "import time\n",
    "import torch\n",
    "import joblib\n",
    "import random\n",
    "import numpy as np\n",
    "import pandas as pd\n",
    "from tqdm.auto import tqdm\n",
    "from pathlib import Path\n",
    "import plotly.express as px\n",
    "import matplotlib.pyplot as plt\n",
    "\n",
    "pd.set_option('display.max_rows', 500)\n",
    "pd.set_option('display.max_columns', 500)\n",
    "pd.set_option('display.width', 1000)\n",
    "pd.set_option('display.float_format', lambda x: '%.4f' % x)"
   ]
  },
  {
   "cell_type": "markdown",
   "id": "8895aef6",
   "metadata": {},
   "source": [
    "# Params"
   ]
  },
  {
   "cell_type": "code",
   "execution_count": 3,
   "id": "5d0104cc",
   "metadata": {},
   "outputs": [
    {
     "data": {
      "text/plain": [
       "['train.json', 'test.json', 'sample_submission.csv']"
      ]
     },
     "execution_count": 3,
     "metadata": {},
     "output_type": "execute_result"
    }
   ],
   "source": [
    "data_path = Path(r\"/database/kaggle/PII/data\")\n",
    "os.listdir(data_path)"
   ]
  },
  {
   "cell_type": "code",
   "execution_count": 11,
   "id": "73fc670f",
   "metadata": {},
   "outputs": [
    {
     "data": {
      "text/plain": [
       "(26, 4)"
      ]
     },
     "execution_count": 11,
     "metadata": {},
     "output_type": "execute_result"
    }
   ],
   "source": [
    "sample_df = pd.read_csv(data_path/'sample_submission.csv')\n",
    "sample_df.shape"
   ]
  },
  {
   "cell_type": "code",
   "execution_count": 12,
   "id": "ced5d03d",
   "metadata": {},
   "outputs": [
    {
     "data": {
      "text/html": [
       "<div>\n",
       "<style scoped>\n",
       "    .dataframe tbody tr th:only-of-type {\n",
       "        vertical-align: middle;\n",
       "    }\n",
       "\n",
       "    .dataframe tbody tr th {\n",
       "        vertical-align: top;\n",
       "    }\n",
       "\n",
       "    .dataframe thead th {\n",
       "        text-align: right;\n",
       "    }\n",
       "</style>\n",
       "<table border=\"1\" class=\"dataframe\">\n",
       "  <thead>\n",
       "    <tr style=\"text-align: right;\">\n",
       "      <th></th>\n",
       "      <th>row_id</th>\n",
       "      <th>document</th>\n",
       "      <th>token</th>\n",
       "      <th>label</th>\n",
       "    </tr>\n",
       "  </thead>\n",
       "  <tbody>\n",
       "    <tr>\n",
       "      <th>0</th>\n",
       "      <td>0</td>\n",
       "      <td>7</td>\n",
       "      <td>9</td>\n",
       "      <td>B-NAME_STUDENT</td>\n",
       "    </tr>\n",
       "    <tr>\n",
       "      <th>1</th>\n",
       "      <td>1</td>\n",
       "      <td>7</td>\n",
       "      <td>10</td>\n",
       "      <td>I-NAME_STUDENT</td>\n",
       "    </tr>\n",
       "    <tr>\n",
       "      <th>2</th>\n",
       "      <td>2</td>\n",
       "      <td>7</td>\n",
       "      <td>482</td>\n",
       "      <td>B-NAME_STUDENT</td>\n",
       "    </tr>\n",
       "    <tr>\n",
       "      <th>3</th>\n",
       "      <td>3</td>\n",
       "      <td>7</td>\n",
       "      <td>483</td>\n",
       "      <td>I-NAME_STUDENT</td>\n",
       "    </tr>\n",
       "    <tr>\n",
       "      <th>4</th>\n",
       "      <td>4</td>\n",
       "      <td>7</td>\n",
       "      <td>741</td>\n",
       "      <td>B-NAME_STUDENT</td>\n",
       "    </tr>\n",
       "  </tbody>\n",
       "</table>\n",
       "</div>"
      ],
      "text/plain": [
       "   row_id  document  token           label\n",
       "0       0         7      9  B-NAME_STUDENT\n",
       "1       1         7     10  I-NAME_STUDENT\n",
       "2       2         7    482  B-NAME_STUDENT\n",
       "3       3         7    483  I-NAME_STUDENT\n",
       "4       4         7    741  B-NAME_STUDENT"
      ]
     },
     "execution_count": 12,
     "metadata": {},
     "output_type": "execute_result"
    }
   ],
   "source": [
    "sample_df.head(5)"
   ]
  },
  {
   "cell_type": "code",
   "execution_count": 36,
   "id": "80aa459d",
   "metadata": {},
   "outputs": [
    {
     "data": {
      "text/plain": [
       "array(['B-NAME_STUDENT', 'I-NAME_STUDENT'], dtype=object)"
      ]
     },
     "execution_count": 36,
     "metadata": {},
     "output_type": "execute_result"
    }
   ],
   "source": [
    "sample_df.label.unique()"
   ]
  },
  {
   "cell_type": "code",
   "execution_count": 30,
   "id": "bc125ae5",
   "metadata": {},
   "outputs": [
    {
     "data": {
      "text/plain": [
       "(6807, 5)"
      ]
     },
     "execution_count": 30,
     "metadata": {},
     "output_type": "execute_result"
    }
   ],
   "source": [
    "df = pd.read_json(data_path/'train.json')\n",
    "df.shape"
   ]
  },
  {
   "cell_type": "code",
   "execution_count": 31,
   "id": "777aa2f4",
   "metadata": {},
   "outputs": [
    {
     "data": {
      "text/html": [
       "<div>\n",
       "<style scoped>\n",
       "    .dataframe tbody tr th:only-of-type {\n",
       "        vertical-align: middle;\n",
       "    }\n",
       "\n",
       "    .dataframe tbody tr th {\n",
       "        vertical-align: top;\n",
       "    }\n",
       "\n",
       "    .dataframe thead th {\n",
       "        text-align: right;\n",
       "    }\n",
       "</style>\n",
       "<table border=\"1\" class=\"dataframe\">\n",
       "  <thead>\n",
       "    <tr style=\"text-align: right;\">\n",
       "      <th></th>\n",
       "      <th>document</th>\n",
       "      <th>full_text</th>\n",
       "      <th>tokens</th>\n",
       "      <th>trailing_whitespace</th>\n",
       "      <th>labels</th>\n",
       "    </tr>\n",
       "  </thead>\n",
       "  <tbody>\n",
       "    <tr>\n",
       "      <th>0</th>\n",
       "      <td>7</td>\n",
       "      <td>Design Thinking for innovation reflexion-Avril...</td>\n",
       "      <td>[Design, Thinking, for, innovation, reflexion,...</td>\n",
       "      <td>[True, True, True, True, False, False, True, F...</td>\n",
       "      <td>[O, O, O, O, O, O, O, O, O, B-NAME_STUDENT, I-...</td>\n",
       "    </tr>\n",
       "    <tr>\n",
       "      <th>1</th>\n",
       "      <td>10</td>\n",
       "      <td>Diego Estrada\\n\\nDesign Thinking Assignment\\n\\...</td>\n",
       "      <td>[Diego, Estrada, \\n\\n, Design, Thinking, Assig...</td>\n",
       "      <td>[True, False, False, True, True, False, False,...</td>\n",
       "      <td>[B-NAME_STUDENT, I-NAME_STUDENT, O, O, O, O, O...</td>\n",
       "    </tr>\n",
       "    <tr>\n",
       "      <th>2</th>\n",
       "      <td>16</td>\n",
       "      <td>Reporting process\\n\\nby Gilberto Gamboa\\n\\nCha...</td>\n",
       "      <td>[Reporting, process, \\n\\n, by, Gilberto, Gambo...</td>\n",
       "      <td>[True, False, False, True, True, False, False,...</td>\n",
       "      <td>[O, O, O, O, B-NAME_STUDENT, I-NAME_STUDENT, O...</td>\n",
       "    </tr>\n",
       "    <tr>\n",
       "      <th>3</th>\n",
       "      <td>20</td>\n",
       "      <td>Design Thinking for Innovation\\n\\nSindy Samaca...</td>\n",
       "      <td>[Design, Thinking, for, Innovation, \\n\\n, Sind...</td>\n",
       "      <td>[True, True, True, False, False, True, False, ...</td>\n",
       "      <td>[O, O, O, O, O, B-NAME_STUDENT, I-NAME_STUDENT...</td>\n",
       "    </tr>\n",
       "    <tr>\n",
       "      <th>4</th>\n",
       "      <td>56</td>\n",
       "      <td>Assignment:  Visualization Reflection  Submitt...</td>\n",
       "      <td>[Assignment, :,   , Visualization,  , Reflecti...</td>\n",
       "      <td>[False, False, False, False, False, False, Fal...</td>\n",
       "      <td>[O, O, O, O, O, O, O, O, O, O, O, O, B-NAME_ST...</td>\n",
       "    </tr>\n",
       "  </tbody>\n",
       "</table>\n",
       "</div>"
      ],
      "text/plain": [
       "   document                                          full_text                                             tokens                                trailing_whitespace                                             labels\n",
       "0         7  Design Thinking for innovation reflexion-Avril...  [Design, Thinking, for, innovation, reflexion,...  [True, True, True, True, False, False, True, F...  [O, O, O, O, O, O, O, O, O, B-NAME_STUDENT, I-...\n",
       "1        10  Diego Estrada\\n\\nDesign Thinking Assignment\\n\\...  [Diego, Estrada, \\n\\n, Design, Thinking, Assig...  [True, False, False, True, True, False, False,...  [B-NAME_STUDENT, I-NAME_STUDENT, O, O, O, O, O...\n",
       "2        16  Reporting process\\n\\nby Gilberto Gamboa\\n\\nCha...  [Reporting, process, \\n\\n, by, Gilberto, Gambo...  [True, False, False, True, True, False, False,...  [O, O, O, O, B-NAME_STUDENT, I-NAME_STUDENT, O...\n",
       "3        20  Design Thinking for Innovation\\n\\nSindy Samaca...  [Design, Thinking, for, Innovation, \\n\\n, Sind...  [True, True, True, False, False, True, False, ...  [O, O, O, O, O, B-NAME_STUDENT, I-NAME_STUDENT...\n",
       "4        56  Assignment:  Visualization Reflection  Submitt...  [Assignment, :,   , Visualization,  , Reflecti...  [False, False, False, False, False, False, Fal...  [O, O, O, O, O, O, O, O, O, O, O, O, B-NAME_ST..."
      ]
     },
     "execution_count": 31,
     "metadata": {},
     "output_type": "execute_result"
    }
   ],
   "source": [
    "df.head(5)"
   ]
  },
  {
   "cell_type": "code",
   "execution_count": null,
   "id": "dfc7b295",
   "metadata": {},
   "outputs": [],
   "source": []
  },
  {
   "cell_type": "code",
   "execution_count": null,
   "id": "400ffd38",
   "metadata": {},
   "outputs": [],
   "source": []
  },
  {
   "cell_type": "code",
   "execution_count": 271,
   "id": "d6aa3e30",
   "metadata": {},
   "outputs": [],
   "source": [
    "df['nb_labels'] = df['labels'].transform(lambda x:len([i for i in x if i!=\"O\" ]))"
   ]
  },
  {
   "cell_type": "code",
   "execution_count": 272,
   "id": "38e76e79",
   "metadata": {},
   "outputs": [
    {
     "data": {
      "text/plain": [
       "0     5862\n",
       "2      599\n",
       "4      108\n",
       "1       86\n",
       "3       52\n",
       "6       46\n",
       "8       14\n",
       "5       10\n",
       "12       6\n",
       "10       5\n",
       "11       3\n",
       "9        3\n",
       "15       2\n",
       "14       2\n",
       "21       2\n",
       "7        1\n",
       "23       1\n",
       "18       1\n",
       "17       1\n",
       "26       1\n",
       "34       1\n",
       "22       1\n",
       "Name: nb_labels, dtype: int64"
      ]
     },
     "execution_count": 272,
     "metadata": {},
     "output_type": "execute_result"
    }
   ],
   "source": [
    "df['nb_labels'].value_counts() "
   ]
  },
  {
   "cell_type": "code",
   "execution_count": null,
   "id": "dd6357ad",
   "metadata": {},
   "outputs": [],
   "source": [
    "def get_text_start_end(txt,s,search_from=0):\n",
    "    txt = txt[int(search_from):]\n",
    "    try:\n",
    "        idx = txt.find(s)\n",
    "        if idx>=0:\n",
    "            st=idx\n",
    "            ed = st+len(s)\n",
    "        else:\n",
    "            raise ValueError('Error')\n",
    "    except:                \n",
    "        res = [(m.start(0), m.end(0)) for m in re.finditer(s, txt)]\n",
    "        if len(res):\n",
    "            st,ed = res[0][0],res[0][1]\n",
    "        else:\n",
    "            m = SequenceMatcher(None, s,txt).get_opcodes()\n",
    "            for tag,i1,i2,j1,j2 in m:\n",
    "                if tag=='replace':\n",
    "                    s = s[:i1]+txt[j1:j2]+s[i2:]\n",
    "                if tag==\"delete\":\n",
    "                    s = s[:i1]+s[i2:]\n",
    "            \n",
    "            res = [(m.start(0), m.end(0)) for m in re.finditer(s,txt)]\n",
    "            if len(res):\n",
    "                st,ed = res[0][0],res[0][1]\n",
    "            else:\n",
    "                idx = txt.find(s)\n",
    "                if idx>=0:\n",
    "                    st=idx\n",
    "                    ed = st+len(s)\n",
    "                else:\n",
    "                    st,ed = 0,0\n",
    "    return st+search_from,ed+search_from"
   ]
  },
  {
   "cell_type": "code",
   "execution_count": null,
   "id": "71515052",
   "metadata": {},
   "outputs": [],
   "source": []
  },
  {
   "cell_type": "code",
   "execution_count": 420,
   "id": "12cc840e",
   "metadata": {},
   "outputs": [
    {
     "name": "stdout",
     "output_type": "stream",
     "text": [
      "Rhiannon: (40, 48) : B-NAME_STUDENT\n",
      "Karim: (48, 53) : I-NAME_STUDENT\n",
      "Rhiannon: (129, 138) : B-NAME_STUDENT\n",
      "Karim: (138, 143) : I-NAME_STUDENT\n",
      "Rhiannon: (2417, 2425) : B-NAME_STUDENT\n",
      "Karim: (2425, 2430) : I-NAME_STUDENT\n",
      "Rhiannon: (5355, 5363) : B-NAME_STUDENT\n",
      "Karim: (5363, 5368) : I-NAME_STUDENT\n",
      "Rhiannon: (8081, 8089) : B-NAME_STUDENT\n",
      "Karim: (8089, 8094) : I-NAME_STUDENT\n"
     ]
    }
   ],
   "source": [
    "def get_offset_mapping(full_text, tokens, trailing_whitespace):\n",
    "    offset_mapping = []\n",
    "    current_offset = 0\n",
    "\n",
    "    for token, has_whitespace in zip(tokens, trailing_whitespace):\n",
    "        start = current_offset\n",
    "        end = current_offset + len(token)\n",
    "        \n",
    "        \n",
    "        \n",
    "        # Adjust end offset if there is trailing whitespace\n",
    "        if has_whitespace:\n",
    "            while end < len(full_text) and full_text[end].isspace():\n",
    "                end += 1\n",
    "        \n",
    "        offset_mapping.append((start, end))\n",
    "        current_offset = end\n",
    "        \n",
    "\n",
    "    return offset_mapping\n",
    "\n",
    "# idx = random.choice(df[df.nb_labels>6].index)\n",
    "# Example usage:\n",
    "full_text = df.iloc[idx]['full_text']\n",
    "tokens = df.iloc[idx]['tokens']\n",
    "trailing_whitespace = df.iloc[idx]['trailing_whitespace']\n",
    "labels = df.iloc[idx]['labels']\n",
    "\n",
    "offset_mapping = get_offset_mapping(full_text, tokens, trailing_whitespace)\n",
    "for token, offset,l in zip(tokens, offset_mapping,labels):\n",
    "    if l!=\"O\":\n",
    "        print(f\"{token}: {offset} : {l}\")"
   ]
  },
  {
   "cell_type": "code",
   "execution_count": 425,
   "id": "105f6de3",
   "metadata": {},
   "outputs": [
    {
     "name": "stdout",
     "output_type": "stream",
     "text": [
      "Md: (15, 17) : B-NAME_STUDENT\n",
      "Ahamad: (18, 24) : I-NAME_STUDENT\n",
      "369615882777: (26, 38) : B-ID_NUM\n",
      "Taher: (1528, 1533) : B-NAME_STUDENT\n",
      "014674070485: (1536, 1548) : B-ID_NUM\n",
      "Pintu: (1760, 1765) : B-NAME_STUDENT\n",
      "Kumar: (1766, 1771) : I-NAME_STUDENT\n",
      "Ajay: (1772, 1776) : I-NAME_STUDENT\n",
      "Rana: (1777, 1781) : I-NAME_STUDENT\n",
      "264945858442: (1783, 1795) : B-ID_NUM\n",
      "Chiara: (1936, 1942) : B-NAME_STUDENT\n",
      "320622779078: (1944, 1956) : B-ID_NUM\n"
     ]
    }
   ],
   "source": [
    "import re\n",
    "from difflib import SequenceMatcher\n",
    "\n",
    "def get_text_start_end(txt, s, search_from=0):\n",
    "    txt = txt[int(search_from):]\n",
    "    try:\n",
    "        idx = txt.find(s)\n",
    "        if idx >= 0:\n",
    "            st = idx\n",
    "            ed = st + len(s)\n",
    "        else:\n",
    "            raise ValueError('Error')\n",
    "    except:\n",
    "        res = [(m.start(0), m.end(0)) for m in re.finditer(s, txt)]\n",
    "        if len(res):\n",
    "            st, ed = res[0][0], res[0][1]\n",
    "        else:\n",
    "            m = SequenceMatcher(None, s, txt).get_opcodes()\n",
    "            for tag, i1, i2, j1, j2 in m:\n",
    "                if tag == 'replace':\n",
    "                    s = s[:i1] + txt[j1:j2] + s[i2:]\n",
    "                if tag == \"delete\":\n",
    "                    s = s[:i1] + s[i2:]\n",
    "\n",
    "            res = [(m.start(0), m.end(0)) for m in re.finditer(s, txt)]\n",
    "            if len(res):\n",
    "                st, ed = res[0][0], res[0][1]\n",
    "            else:\n",
    "                idx = txt.find(s)\n",
    "                if idx >= 0:\n",
    "                    st = idx\n",
    "                    ed = st + len(s)\n",
    "                else:\n",
    "                    st, ed = 0, 0\n",
    "    return st + search_from, ed + search_from\n",
    "\n",
    "\n",
    "def get_offset_mapping(full_text, tokens):\n",
    "    offset_mapping = []\n",
    "\n",
    "    current_offset = 0\n",
    "    for token in tokens:\n",
    "        start, end = get_text_start_end(full_text, token, search_from=current_offset)\n",
    "        offset_mapping.append((start, end))\n",
    "        current_offset = end\n",
    "\n",
    "    return offset_mapping\n",
    "\n",
    "\n",
    "# Example usage:\n",
    "# full_text = \"Design Thinking for innovation reflexion-Avril 2021-Nathalie Sylla\\n\\nChallenge & selection\\n\\nThe tool I use...\"\n",
    "# tokens = ['Design', 'Thinking', 'for', 'innovation', 'reflexion', '-', 'Avril', '2021', '-',\n",
    "#           'Nathalie', 'Sylla', '\\n\\n', 'Challenge', '&', 'selection', '\\n\\n', 'The', 'tool', 'I', 'use', 'to', 'help', 'all', 'stakeholders', 'finding', 'their', 'way', 'through', 'the', 'complexity', 'of', 'a', 'project', 'is', 'the', ' ', 'mind', 'map', '.', '\\n\\n', ...]\n",
    "idx = random.choice(df[df.nb_labels>6].index)\n",
    "# Example usage:\n",
    "full_text = df.iloc[idx]['full_text']\n",
    "tokens = df.iloc[idx]['tokens']\n",
    "trailing_whitespace = df.iloc[idx]['trailing_whitespace']\n",
    "labels = df.iloc[idx]['labels']\n",
    "\n",
    "\n",
    "offset_mapping = get_offset_mapping(full_text, tokens)\n",
    "for token, offset,l in zip(tokens, offset_mapping,labels):\n",
    "    if l!=\"O\":\n",
    "        print(f\"{token}: {offset} : {l}\")\n"
   ]
  },
  {
   "cell_type": "code",
   "execution_count": 424,
   "id": "5fa5cd67",
   "metadata": {},
   "outputs": [
    {
     "data": {
      "text/plain": [
       "'Zahida'"
      ]
     },
     "execution_count": 424,
     "metadata": {},
     "output_type": "execute_result"
    }
   ],
   "source": [
    "full_text[1863:1869]"
   ]
  },
  {
   "cell_type": "code",
   "execution_count": 422,
   "id": "c1e200b2",
   "metadata": {},
   "outputs": [
    {
     "data": {
      "text/plain": [
       "('rim\\n\\n',)"
      ]
     },
     "execution_count": 422,
     "metadata": {},
     "output_type": "execute_result"
    }
   ],
   "source": [
    "full_text[8089:8094], "
   ]
  },
  {
   "cell_type": "code",
   "execution_count": 412,
   "id": "b35173a1",
   "metadata": {
    "scrolled": false
   },
   "outputs": [
    {
     "name": "stdout",
     "output_type": "stream",
     "text": [
      "Reflection-Storytelling\n",
      "\n",
      "Challenge\n",
      "\n",
      "My friend Teresa was very anxious and unhappy recently and it was because of her son Naser. Naser is  10 years old and turned to be a little rebellious now. Due to the school closure in covid-19, Naser  has classes online and he then formed a habit of spending much on computers playing games or  watching videos he likes. Teresa was at work and can not monitor her son during working hours,  and she worried about Naser’s health as he spent too much time on computers so he completed his  homework very late, so he slept very late and his eyesight is poor as well. Naser used to be a good  student and obedient son, and he agreed to lessen time on computers or cellphones, but he can  not always keep his words. That’s why Teresa worried. She is afraid he turned to a bad boy.\n",
      "\n",
      "Selection\n",
      "\n",
      "Naser is ten years old and now he began to seek himself and have the desire to be independent.  Teresa can not just control and monitor him but let him to take responsibility of his own life. She  understand this but she just can not trust her son due to her fear of bad things. Under such  circumstance, pure analysis is not enough, some personal experience between kids and their  parents maybe more compelling. So I chose the storytelling tool.\n",
      "\n",
      "Application\n",
      "\n",
      "I told my own experience as an example to Teresa about when I was young, about my rebelling  behaviors, about the trust my mother always on me and the strength the trust give me, and  actually we know what we should do and we will do the right things if we are trusted and  respected. The unconditional trust and love is the most important thing we need when we are  teenagers, when we rebel or struggle to find ourselves.\n",
      "\n",
      "The personal story was told from heart and Teresa was moved, she agreed to try to put down her  fear first and give Naser more love and trust. Naser is her son who learned a lot from her silently, she  trust he will not be a bad boy, he just need some guidance on how to manage his time and energy,  how to prioritize his activities.\n",
      "\n",
      "Insight\n",
      "\n",
      "When making decision, we normally do much analysis, but emotion is more important actually.  And a story especially some personal real experience has such power to influence people. So if  we’d like to connect with people, a story is a good start. Storytelling can also be used in business  context to attract attention, to influence people to make decision.\n",
      "\n",
      "Approach\n",
      "\n",
      "I think mind mapping tool also can be used when trying to resolve problems, you can list current  status, all relevant possible causes of the problem, possible solutions, etc. And during the process  of analysis or when you have the final choice, you can add the storytelling tool.\n",
      "\n",
      "\n"
     ]
    }
   ],
   "source": [
    "print(full_text)"
   ]
  },
  {
   "cell_type": "code",
   "execution_count": 413,
   "id": "dfa9b0d4",
   "metadata": {},
   "outputs": [],
   "source": [
    "# pip install spacy"
   ]
  },
  {
   "cell_type": "code",
   "execution_count": 414,
   "id": "774ec67c",
   "metadata": {},
   "outputs": [],
   "source": [
    "import spacy\n",
    "from spacy import displacy\n",
    "from pylab import cm, matplotlib\n",
    "import os\n",
    "\n",
    "colors = {\n",
    "            'NAME_STUDENT': '#8000ff',\n",
    "            'EMAIL': '#2b7ff6',\n",
    "            'USERNAME': '#2adddd',\n",
    "            'ID_NUM': '#80ffb4',\n",
    "            'PHONE_NUM': 'd4dd80',\n",
    "            'URL_PERSONAL': '#ff8042',\n",
    "            'STREET_ADDRESS': '#ff0000'\n",
    "         }\n",
    "\n",
    "\n",
    "def visualize(full_text,offset_mapping,labels):\n",
    "    \n",
    "    ents = []\n",
    "    for offset,lab in zip(offset_mapping,labels):\n",
    "        ents.append({\n",
    "                        'start': int(offset[0]), \n",
    "                         'end': int(offset[1]), \n",
    "                         'label': str(lab.split('-')[1]) #+ ' - ' + str(row['discourse_effectiveness'])\n",
    "                    })\n",
    "\n",
    "    doc2 = {\n",
    "        \"text\": full_text,\n",
    "        \"ents\": ents,\n",
    "#         \"title\": \"idx\"\n",
    "    }\n",
    "\n",
    "    options = {\"ents\": list(colors.keys()), \"colors\": colors}\n",
    "    displacy.render(doc2, style=\"ent\", options=options, manual=True, jupyter=True)"
   ]
  },
  {
   "cell_type": "code",
   "execution_count": 415,
   "id": "d2b10295",
   "metadata": {},
   "outputs": [],
   "source": [
    "offset_mapping_ = [x for (x,y) in zip(offset_mapping,labels) if y!=\"O\"]\n",
    "labels_ = [x for x in labels if x!=\"O\"]"
   ]
  },
  {
   "cell_type": "code",
   "execution_count": 416,
   "id": "1f270391",
   "metadata": {
    "scrolled": false
   },
   "outputs": [
    {
     "data": {
      "text/html": [
       "<span class=\"tex2jax_ignore\"><div class=\"entities\" style=\"line-height: 2.5; direction: ltr\">Reflection-Storytelling<br><br>Challenge<br><br>My friend \n",
       "<mark class=\"entity\" style=\"background: #8000ff; padding: 0.45em 0.6em; margin: 0 0.25em; line-height: 1; border-radius: 0.35em;\">\n",
       "    Teresa\n",
       "    <span style=\"font-size: 0.8em; font-weight: bold; line-height: 1; border-radius: 0.35em; vertical-align: middle; margin-left: 0.5rem\">NAME_STUDENT</span>\n",
       "</mark>\n",
       " was very anxious and unhappy recently and it was because of her son \n",
       "<mark class=\"entity\" style=\"background: #8000ff; padding: 0.45em 0.6em; margin: 0 0.25em; line-height: 1; border-radius: 0.35em;\">\n",
       "    Naser\n",
       "    <span style=\"font-size: 0.8em; font-weight: bold; line-height: 1; border-radius: 0.35em; vertical-align: middle; margin-left: 0.5rem\">NAME_STUDENT</span>\n",
       "</mark>\n",
       ". \n",
       "<mark class=\"entity\" style=\"background: #8000ff; padding: 0.45em 0.6em; margin: 0 0.25em; line-height: 1; border-radius: 0.35em;\">\n",
       "    Naser\n",
       "    <span style=\"font-size: 0.8em; font-weight: bold; line-height: 1; border-radius: 0.35em; vertical-align: middle; margin-left: 0.5rem\">NAME_STUDENT</span>\n",
       "</mark>\n",
       " is  10 years old and turned to be a little rebellious now. Due to the school closure in covid-19, \n",
       "<mark class=\"entity\" style=\"background: #8000ff; padding: 0.45em 0.6em; margin: 0 0.25em; line-height: 1; border-radius: 0.35em;\">\n",
       "    Naser\n",
       "    <span style=\"font-size: 0.8em; font-weight: bold; line-height: 1; border-radius: 0.35em; vertical-align: middle; margin-left: 0.5rem\">NAME_STUDENT</span>\n",
       "</mark>\n",
       "  has classes online and he then formed a habit of spending much on computers playing games or  watching videos he likes. \n",
       "<mark class=\"entity\" style=\"background: #8000ff; padding: 0.45em 0.6em; margin: 0 0.25em; line-height: 1; border-radius: 0.35em;\">\n",
       "    Teresa\n",
       "    <span style=\"font-size: 0.8em; font-weight: bold; line-height: 1; border-radius: 0.35em; vertical-align: middle; margin-left: 0.5rem\">NAME_STUDENT</span>\n",
       "</mark>\n",
       " was at work and can not monitor her son during working hours,  and she worried about \n",
       "<mark class=\"entity\" style=\"background: #8000ff; padding: 0.45em 0.6em; margin: 0 0.25em; line-height: 1; border-radius: 0.35em;\">\n",
       "    Naser\n",
       "    <span style=\"font-size: 0.8em; font-weight: bold; line-height: 1; border-radius: 0.35em; vertical-align: middle; margin-left: 0.5rem\">NAME_STUDENT</span>\n",
       "</mark>\n",
       "’s health as he spent too much time on computers so he completed his  homework very late, so he slept very late and his eyesight is poor as well. \n",
       "<mark class=\"entity\" style=\"background: #8000ff; padding: 0.45em 0.6em; margin: 0 0.25em; line-height: 1; border-radius: 0.35em;\">\n",
       "    Naser\n",
       "    <span style=\"font-size: 0.8em; font-weight: bold; line-height: 1; border-radius: 0.35em; vertical-align: middle; margin-left: 0.5rem\">NAME_STUDENT</span>\n",
       "</mark>\n",
       " used to be a good  student and obedient son, and he agreed to lessen time on computers or cellphones, but he can  not always keep his words. That’s why \n",
       "<mark class=\"entity\" style=\"background: #8000ff; padding: 0.45em 0.6em; margin: 0 0.25em; line-height: 1; border-radius: 0.35em;\">\n",
       "    Teresa\n",
       "    <span style=\"font-size: 0.8em; font-weight: bold; line-height: 1; border-radius: 0.35em; vertical-align: middle; margin-left: 0.5rem\">NAME_STUDENT</span>\n",
       "</mark>\n",
       " worried. She is afraid he turned to a bad boy.<br><br>Selection<br><br>\n",
       "<mark class=\"entity\" style=\"background: #8000ff; padding: 0.45em 0.6em; margin: 0 0.25em; line-height: 1; border-radius: 0.35em;\">\n",
       "    Naser\n",
       "    <span style=\"font-size: 0.8em; font-weight: bold; line-height: 1; border-radius: 0.35em; vertical-align: middle; margin-left: 0.5rem\">NAME_STUDENT</span>\n",
       "</mark>\n",
       " is ten years old and now he began to seek himself and have the desire to be independent.  \n",
       "<mark class=\"entity\" style=\"background: #8000ff; padding: 0.45em 0.6em; margin: 0 0.25em; line-height: 1; border-radius: 0.35em;\">\n",
       "    Teresa\n",
       "    <span style=\"font-size: 0.8em; font-weight: bold; line-height: 1; border-radius: 0.35em; vertical-align: middle; margin-left: 0.5rem\">NAME_STUDENT</span>\n",
       "</mark>\n",
       " can not just control and monitor him but let him to take responsibility of his own life. She  understand this but she just can not trust her son due to her fear of bad things. Under such  circumstance, pure analysis is not enough, some personal experience between kids and their  parents maybe more compelling. So I chose the storytelling tool.<br><br>Application<br><br>I told my own experience as an example to \n",
       "<mark class=\"entity\" style=\"background: #8000ff; padding: 0.45em 0.6em; margin: 0 0.25em; line-height: 1; border-radius: 0.35em;\">\n",
       "    Teresa\n",
       "    <span style=\"font-size: 0.8em; font-weight: bold; line-height: 1; border-radius: 0.35em; vertical-align: middle; margin-left: 0.5rem\">NAME_STUDENT</span>\n",
       "</mark>\n",
       " about when I was young, about my rebelling  behaviors, about the trust my mother always on me and the strength the trust give me, and  actually we know what we should do and we will do the right things if we are trusted and  respected. The unconditional trust and love is the most important thing we need when we are  teenagers, when we rebel or struggle to find ourselves.<br><br>The personal story was told from heart and \n",
       "<mark class=\"entity\" style=\"background: #8000ff; padding: 0.45em 0.6em; margin: 0 0.25em; line-height: 1; border-radius: 0.35em;\">\n",
       "    Teresa\n",
       "    <span style=\"font-size: 0.8em; font-weight: bold; line-height: 1; border-radius: 0.35em; vertical-align: middle; margin-left: 0.5rem\">NAME_STUDENT</span>\n",
       "</mark>\n",
       " was moved, she agreed to try to put down her  fear first and give \n",
       "<mark class=\"entity\" style=\"background: #8000ff; padding: 0.45em 0.6em; margin: 0 0.25em; line-height: 1; border-radius: 0.35em;\">\n",
       "    Naser\n",
       "    <span style=\"font-size: 0.8em; font-weight: bold; line-height: 1; border-radius: 0.35em; vertical-align: middle; margin-left: 0.5rem\">NAME_STUDENT</span>\n",
       "</mark>\n",
       " more love and trust. \n",
       "<mark class=\"entity\" style=\"background: #8000ff; padding: 0.45em 0.6em; margin: 0 0.25em; line-height: 1; border-radius: 0.35em;\">\n",
       "    Naser\n",
       "    <span style=\"font-size: 0.8em; font-weight: bold; line-height: 1; border-radius: 0.35em; vertical-align: middle; margin-left: 0.5rem\">NAME_STUDENT</span>\n",
       "</mark>\n",
       " is her son who learned a lot from her silently, she  trust he will not be a bad boy, he just need some guidance on how to manage his time and energy,  how to prioritize his activities.<br><br>Insight<br><br>When making decision, we normally do much analysis, but emotion is more important actually.  And a story especially some personal real experience has such power to influence people. So if  we’d like to connect with people, a story is a good start. Storytelling can also be used in business  context to attract attention, to influence people to make decision.<br><br>Approach<br><br>I think mind mapping tool also can be used when trying to resolve problems, you can list current  status, all relevant possible causes of the problem, possible solutions, etc. And during the process  of analysis or when you have the final choice, you can add the storytelling tool.<br><br></div></span>"
      ],
      "text/plain": [
       "<IPython.core.display.HTML object>"
      ]
     },
     "metadata": {},
     "output_type": "display_data"
    }
   ],
   "source": [
    "visualize(full_text,offset_mapping_,labels_)"
   ]
  },
  {
   "cell_type": "code",
   "execution_count": null,
   "id": "8e21e190",
   "metadata": {},
   "outputs": [],
   "source": []
  }
 ],
 "metadata": {
  "kernelspec": {
   "display_name": "Python 3 (ipykernel)",
   "language": "python",
   "name": "python3"
  },
  "language_info": {
   "codemirror_mode": {
    "name": "ipython",
    "version": 3
   },
   "file_extension": ".py",
   "mimetype": "text/x-python",
   "name": "python",
   "nbconvert_exporter": "python",
   "pygments_lexer": "ipython3",
   "version": "3.10.9"
  }
 },
 "nbformat": 4,
 "nbformat_minor": 5
}

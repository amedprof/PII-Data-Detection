{
 "cells": [
  {
   "cell_type": "code",
   "execution_count": 1,
   "id": "84bf958e",
   "metadata": {},
   "outputs": [],
   "source": [
    "import os\n",
    "import gc\n",
    "import sys\n",
    "import json\n",
    "import time\n",
    "import torch\n",
    "import joblib\n",
    "import random\n",
    "import numpy as np\n",
    "import pandas as pd\n",
    "from tqdm.auto import tqdm\n",
    "from pathlib import Path\n",
    "import plotly.express as px\n",
    "import matplotlib.pyplot as plt\n",
    "\n",
    "pd.set_option('display.max_rows', 500)\n",
    "pd.set_option('display.max_columns', 500)\n",
    "pd.set_option('display.width', 1000)\n",
    "pd.set_option('display.float_format', lambda x: '%.4f' % x)"
   ]
  },
  {
   "cell_type": "markdown",
   "id": "8895aef6",
   "metadata": {},
   "source": [
    "# Params"
   ]
  },
  {
   "cell_type": "code",
   "execution_count": 2,
   "id": "5d0104cc",
   "metadata": {},
   "outputs": [
    {
     "data": {
      "text/plain": [
       "['train.json', 'test.json', 'sample_submission.csv']"
      ]
     },
     "execution_count": 2,
     "metadata": {},
     "output_type": "execute_result"
    }
   ],
   "source": [
    "data_path = Path(r\"/database/kaggle/PII/data\")\n",
    "os.listdir(data_path)"
   ]
  },
  {
   "cell_type": "code",
   "execution_count": 3,
   "id": "73fc670f",
   "metadata": {},
   "outputs": [
    {
     "data": {
      "text/plain": [
       "(26, 4)"
      ]
     },
     "execution_count": 3,
     "metadata": {},
     "output_type": "execute_result"
    }
   ],
   "source": [
    "sample_df = pd.read_csv(data_path/'sample_submission.csv')\n",
    "sample_df.shape"
   ]
  },
  {
   "cell_type": "code",
   "execution_count": 4,
   "id": "ced5d03d",
   "metadata": {},
   "outputs": [
    {
     "data": {
      "text/html": [
       "<div>\n",
       "<style scoped>\n",
       "    .dataframe tbody tr th:only-of-type {\n",
       "        vertical-align: middle;\n",
       "    }\n",
       "\n",
       "    .dataframe tbody tr th {\n",
       "        vertical-align: top;\n",
       "    }\n",
       "\n",
       "    .dataframe thead th {\n",
       "        text-align: right;\n",
       "    }\n",
       "</style>\n",
       "<table border=\"1\" class=\"dataframe\">\n",
       "  <thead>\n",
       "    <tr style=\"text-align: right;\">\n",
       "      <th></th>\n",
       "      <th>row_id</th>\n",
       "      <th>document</th>\n",
       "      <th>token</th>\n",
       "      <th>label</th>\n",
       "    </tr>\n",
       "  </thead>\n",
       "  <tbody>\n",
       "    <tr>\n",
       "      <th>0</th>\n",
       "      <td>0</td>\n",
       "      <td>7</td>\n",
       "      <td>9</td>\n",
       "      <td>B-NAME_STUDENT</td>\n",
       "    </tr>\n",
       "    <tr>\n",
       "      <th>1</th>\n",
       "      <td>1</td>\n",
       "      <td>7</td>\n",
       "      <td>10</td>\n",
       "      <td>I-NAME_STUDENT</td>\n",
       "    </tr>\n",
       "    <tr>\n",
       "      <th>2</th>\n",
       "      <td>2</td>\n",
       "      <td>7</td>\n",
       "      <td>482</td>\n",
       "      <td>B-NAME_STUDENT</td>\n",
       "    </tr>\n",
       "    <tr>\n",
       "      <th>3</th>\n",
       "      <td>3</td>\n",
       "      <td>7</td>\n",
       "      <td>483</td>\n",
       "      <td>I-NAME_STUDENT</td>\n",
       "    </tr>\n",
       "    <tr>\n",
       "      <th>4</th>\n",
       "      <td>4</td>\n",
       "      <td>7</td>\n",
       "      <td>741</td>\n",
       "      <td>B-NAME_STUDENT</td>\n",
       "    </tr>\n",
       "  </tbody>\n",
       "</table>\n",
       "</div>"
      ],
      "text/plain": [
       "   row_id  document  token           label\n",
       "0       0         7      9  B-NAME_STUDENT\n",
       "1       1         7     10  I-NAME_STUDENT\n",
       "2       2         7    482  B-NAME_STUDENT\n",
       "3       3         7    483  I-NAME_STUDENT\n",
       "4       4         7    741  B-NAME_STUDENT"
      ]
     },
     "execution_count": 4,
     "metadata": {},
     "output_type": "execute_result"
    }
   ],
   "source": [
    "sample_df.head(5)"
   ]
  },
  {
   "cell_type": "code",
   "execution_count": 5,
   "id": "80aa459d",
   "metadata": {},
   "outputs": [
    {
     "data": {
      "text/plain": [
       "array(['B-NAME_STUDENT', 'I-NAME_STUDENT'], dtype=object)"
      ]
     },
     "execution_count": 5,
     "metadata": {},
     "output_type": "execute_result"
    }
   ],
   "source": [
    "sample_df.label.unique()"
   ]
  },
  {
   "cell_type": "code",
   "execution_count": 6,
   "id": "bc125ae5",
   "metadata": {},
   "outputs": [
    {
     "data": {
      "text/plain": [
       "(6807, 5)"
      ]
     },
     "execution_count": 6,
     "metadata": {},
     "output_type": "execute_result"
    }
   ],
   "source": [
    "df = pd.read_json(data_path/'train.json')\n",
    "df.shape"
   ]
  },
  {
   "cell_type": "code",
   "execution_count": 7,
   "id": "777aa2f4",
   "metadata": {},
   "outputs": [
    {
     "data": {
      "text/html": [
       "<div>\n",
       "<style scoped>\n",
       "    .dataframe tbody tr th:only-of-type {\n",
       "        vertical-align: middle;\n",
       "    }\n",
       "\n",
       "    .dataframe tbody tr th {\n",
       "        vertical-align: top;\n",
       "    }\n",
       "\n",
       "    .dataframe thead th {\n",
       "        text-align: right;\n",
       "    }\n",
       "</style>\n",
       "<table border=\"1\" class=\"dataframe\">\n",
       "  <thead>\n",
       "    <tr style=\"text-align: right;\">\n",
       "      <th></th>\n",
       "      <th>document</th>\n",
       "      <th>full_text</th>\n",
       "      <th>tokens</th>\n",
       "      <th>trailing_whitespace</th>\n",
       "      <th>labels</th>\n",
       "    </tr>\n",
       "  </thead>\n",
       "  <tbody>\n",
       "    <tr>\n",
       "      <th>0</th>\n",
       "      <td>7</td>\n",
       "      <td>Design Thinking for innovation reflexion-Avril...</td>\n",
       "      <td>[Design, Thinking, for, innovation, reflexion,...</td>\n",
       "      <td>[True, True, True, True, False, False, True, F...</td>\n",
       "      <td>[O, O, O, O, O, O, O, O, O, B-NAME_STUDENT, I-...</td>\n",
       "    </tr>\n",
       "    <tr>\n",
       "      <th>1</th>\n",
       "      <td>10</td>\n",
       "      <td>Diego Estrada\\n\\nDesign Thinking Assignment\\n\\...</td>\n",
       "      <td>[Diego, Estrada, \\n\\n, Design, Thinking, Assig...</td>\n",
       "      <td>[True, False, False, True, True, False, False,...</td>\n",
       "      <td>[B-NAME_STUDENT, I-NAME_STUDENT, O, O, O, O, O...</td>\n",
       "    </tr>\n",
       "    <tr>\n",
       "      <th>2</th>\n",
       "      <td>16</td>\n",
       "      <td>Reporting process\\n\\nby Gilberto Gamboa\\n\\nCha...</td>\n",
       "      <td>[Reporting, process, \\n\\n, by, Gilberto, Gambo...</td>\n",
       "      <td>[True, False, False, True, True, False, False,...</td>\n",
       "      <td>[O, O, O, O, B-NAME_STUDENT, I-NAME_STUDENT, O...</td>\n",
       "    </tr>\n",
       "    <tr>\n",
       "      <th>3</th>\n",
       "      <td>20</td>\n",
       "      <td>Design Thinking for Innovation\\n\\nSindy Samaca...</td>\n",
       "      <td>[Design, Thinking, for, Innovation, \\n\\n, Sind...</td>\n",
       "      <td>[True, True, True, False, False, True, False, ...</td>\n",
       "      <td>[O, O, O, O, O, B-NAME_STUDENT, I-NAME_STUDENT...</td>\n",
       "    </tr>\n",
       "    <tr>\n",
       "      <th>4</th>\n",
       "      <td>56</td>\n",
       "      <td>Assignment:  Visualization Reflection  Submitt...</td>\n",
       "      <td>[Assignment, :,   , Visualization,  , Reflecti...</td>\n",
       "      <td>[False, False, False, False, False, False, Fal...</td>\n",
       "      <td>[O, O, O, O, O, O, O, O, O, O, O, O, B-NAME_ST...</td>\n",
       "    </tr>\n",
       "  </tbody>\n",
       "</table>\n",
       "</div>"
      ],
      "text/plain": [
       "   document                                          full_text                                             tokens                                trailing_whitespace                                             labels\n",
       "0         7  Design Thinking for innovation reflexion-Avril...  [Design, Thinking, for, innovation, reflexion,...  [True, True, True, True, False, False, True, F...  [O, O, O, O, O, O, O, O, O, B-NAME_STUDENT, I-...\n",
       "1        10  Diego Estrada\\n\\nDesign Thinking Assignment\\n\\...  [Diego, Estrada, \\n\\n, Design, Thinking, Assig...  [True, False, False, True, True, False, False,...  [B-NAME_STUDENT, I-NAME_STUDENT, O, O, O, O, O...\n",
       "2        16  Reporting process\\n\\nby Gilberto Gamboa\\n\\nCha...  [Reporting, process, \\n\\n, by, Gilberto, Gambo...  [True, False, False, True, True, False, False,...  [O, O, O, O, B-NAME_STUDENT, I-NAME_STUDENT, O...\n",
       "3        20  Design Thinking for Innovation\\n\\nSindy Samaca...  [Design, Thinking, for, Innovation, \\n\\n, Sind...  [True, True, True, False, False, True, False, ...  [O, O, O, O, O, B-NAME_STUDENT, I-NAME_STUDENT...\n",
       "4        56  Assignment:  Visualization Reflection  Submitt...  [Assignment, :,   , Visualization,  , Reflecti...  [False, False, False, False, False, False, Fal...  [O, O, O, O, O, O, O, O, O, O, O, O, B-NAME_ST..."
      ]
     },
     "execution_count": 7,
     "metadata": {},
     "output_type": "execute_result"
    }
   ],
   "source": [
    "df.head(5)"
   ]
  },
  {
   "cell_type": "code",
   "execution_count": 13,
   "id": "dfc7b295",
   "metadata": {},
   "outputs": [
    {
     "data": {
      "text/plain": [
       "8"
      ]
     },
     "execution_count": 13,
     "metadata": {},
     "output_type": "execute_result"
    }
   ],
   "source": [
    "LABEL2TYPE = ('NAME_STUDENT','EMAIL','USERNAME','ID_NUM', 'PHONE_NUM','URL_PERSONAL','STREET_ADDRESS','O')\n",
    "len(LABEL2TYPE)"
   ]
  },
  {
   "cell_type": "code",
   "execution_count": 21,
   "id": "400ffd38",
   "metadata": {},
   "outputs": [],
   "source": [
    "for name in LABEL2TYPE[:-1]:\n",
    "    df[name] = ((df['labels'].transform(lambda x:len([i for i in x if i.split('-')[-1]==name ])))>0)*1"
   ]
  },
  {
   "cell_type": "code",
   "execution_count": 22,
   "id": "d6aa3e30",
   "metadata": {},
   "outputs": [],
   "source": [
    "df['nb_labels'] = df['labels'].transform(lambda x:len([i for i in x if i!=\"O\" ]))"
   ]
  },
  {
   "cell_type": "code",
   "execution_count": 23,
   "id": "38e76e79",
   "metadata": {},
   "outputs": [
    {
     "data": {
      "text/plain": [
       "0     5862\n",
       "2      599\n",
       "4      108\n",
       "1       86\n",
       "3       52\n",
       "6       46\n",
       "8       14\n",
       "5       10\n",
       "12       6\n",
       "10       5\n",
       "11       3\n",
       "9        3\n",
       "15       2\n",
       "14       2\n",
       "21       2\n",
       "7        1\n",
       "23       1\n",
       "18       1\n",
       "17       1\n",
       "26       1\n",
       "34       1\n",
       "22       1\n",
       "Name: nb_labels, dtype: int64"
      ]
     },
     "execution_count": 23,
     "metadata": {},
     "output_type": "execute_result"
    }
   ],
   "source": [
    "df['nb_labels'].value_counts() "
   ]
  },
  {
   "cell_type": "code",
   "execution_count": 24,
   "id": "c051c6c3",
   "metadata": {},
   "outputs": [
    {
     "data": {
      "text/plain": [
       "NAME_STUDENT       891\n",
       "EMAIL               24\n",
       "USERNAME             5\n",
       "ID_NUM              33\n",
       "PHONE_NUM            4\n",
       "URL_PERSONAL        72\n",
       "STREET_ADDRESS       2\n",
       "nb_labels         2739\n",
       "dtype: int64"
      ]
     },
     "execution_count": 24,
     "metadata": {},
     "output_type": "execute_result"
    }
   ],
   "source": [
    "df[list(LABEL2TYPE)[:-1]+['nb_labels']].sum()"
   ]
  },
  {
   "cell_type": "code",
   "execution_count": 25,
   "id": "c39ee4cb",
   "metadata": {},
   "outputs": [],
   "source": [
    "from iterstrat.ml_stratifiers import MultilabelStratifiedKFold"
   ]
  },
  {
   "cell_type": "code",
   "execution_count": 26,
   "id": "707dbae5",
   "metadata": {},
   "outputs": [],
   "source": [
    "seeds = [42]\n",
    "folds_names = []\n",
    "for K in [5]:  \n",
    "    for seed in seeds:\n",
    "        mskf = MultilabelStratifiedKFold(n_splits=K,shuffle=True,random_state=seed)\n",
    "        name = f\"fold_msk_{K}_seed_{seed}\"\n",
    "        df[name] = -1\n",
    "        for fold, (trn_, val_) in enumerate(mskf.split(df,df[list(LABEL2TYPE)[:-1]])):\n",
    "            df.loc[val_, name] = fold"
   ]
  },
  {
   "cell_type": "code",
   "execution_count": 27,
   "id": "8efbfa73",
   "metadata": {},
   "outputs": [
    {
     "data": {
      "text/html": [
       "<div>\n",
       "<style scoped>\n",
       "    .dataframe tbody tr th:only-of-type {\n",
       "        vertical-align: middle;\n",
       "    }\n",
       "\n",
       "    .dataframe tbody tr th {\n",
       "        vertical-align: top;\n",
       "    }\n",
       "\n",
       "    .dataframe thead th {\n",
       "        text-align: right;\n",
       "    }\n",
       "</style>\n",
       "<table border=\"1\" class=\"dataframe\">\n",
       "  <thead>\n",
       "    <tr style=\"text-align: right;\">\n",
       "      <th></th>\n",
       "      <th>NAME_STUDENT</th>\n",
       "      <th>EMAIL</th>\n",
       "      <th>USERNAME</th>\n",
       "      <th>ID_NUM</th>\n",
       "      <th>PHONE_NUM</th>\n",
       "      <th>URL_PERSONAL</th>\n",
       "      <th>STREET_ADDRESS</th>\n",
       "    </tr>\n",
       "    <tr>\n",
       "      <th>fold_msk_5_seed_42</th>\n",
       "      <th></th>\n",
       "      <th></th>\n",
       "      <th></th>\n",
       "      <th></th>\n",
       "      <th></th>\n",
       "      <th></th>\n",
       "      <th></th>\n",
       "    </tr>\n",
       "  </thead>\n",
       "  <tbody>\n",
       "    <tr>\n",
       "      <th>0</th>\n",
       "      <td>178</td>\n",
       "      <td>5</td>\n",
       "      <td>1</td>\n",
       "      <td>7</td>\n",
       "      <td>1</td>\n",
       "      <td>14</td>\n",
       "      <td>0</td>\n",
       "    </tr>\n",
       "    <tr>\n",
       "      <th>1</th>\n",
       "      <td>178</td>\n",
       "      <td>5</td>\n",
       "      <td>1</td>\n",
       "      <td>7</td>\n",
       "      <td>1</td>\n",
       "      <td>14</td>\n",
       "      <td>0</td>\n",
       "    </tr>\n",
       "    <tr>\n",
       "      <th>2</th>\n",
       "      <td>179</td>\n",
       "      <td>5</td>\n",
       "      <td>1</td>\n",
       "      <td>6</td>\n",
       "      <td>1</td>\n",
       "      <td>15</td>\n",
       "      <td>1</td>\n",
       "    </tr>\n",
       "    <tr>\n",
       "      <th>3</th>\n",
       "      <td>178</td>\n",
       "      <td>4</td>\n",
       "      <td>1</td>\n",
       "      <td>6</td>\n",
       "      <td>0</td>\n",
       "      <td>15</td>\n",
       "      <td>1</td>\n",
       "    </tr>\n",
       "    <tr>\n",
       "      <th>4</th>\n",
       "      <td>178</td>\n",
       "      <td>5</td>\n",
       "      <td>1</td>\n",
       "      <td>7</td>\n",
       "      <td>1</td>\n",
       "      <td>14</td>\n",
       "      <td>0</td>\n",
       "    </tr>\n",
       "  </tbody>\n",
       "</table>\n",
       "</div>"
      ],
      "text/plain": [
       "                    NAME_STUDENT  EMAIL  USERNAME  ID_NUM  PHONE_NUM  URL_PERSONAL  STREET_ADDRESS\n",
       "fold_msk_5_seed_42                                                                                \n",
       "0                            178      5         1       7          1            14               0\n",
       "1                            178      5         1       7          1            14               0\n",
       "2                            179      5         1       6          1            15               1\n",
       "3                            178      4         1       6          0            15               1\n",
       "4                            178      5         1       7          1            14               0"
      ]
     },
     "execution_count": 27,
     "metadata": {},
     "output_type": "execute_result"
    }
   ],
   "source": [
    "df.groupby(name)[list(LABEL2TYPE)[:-1]].sum()"
   ]
  },
  {
   "cell_type": "code",
   "execution_count": 132,
   "id": "105f6de3",
   "metadata": {},
   "outputs": [
    {
     "name": "stdout",
     "output_type": "stream",
     "text": [
      "(: (76, 77) : B-PHONE_NUM\n",
      "320)202: (77, 84) : I-PHONE_NUM\n",
      "-: (84, 85) : I-PHONE_NUM\n",
      "0688x95843: (85, 95) : I-PHONE_NUM\n",
      "hwillis@gmail.com: (97, 114) : B-EMAIL\n"
     ]
    }
   ],
   "source": [
    "import re\n",
    "from difflib import SequenceMatcher\n",
    "\n",
    "def get_text_start_end(txt, s, search_from=0):\n",
    "    txt = txt[int(search_from):]\n",
    "    try:\n",
    "        idx = txt.find(s)\n",
    "        if idx >= 0:\n",
    "            st = idx\n",
    "            ed = st + len(s)\n",
    "        else:\n",
    "            raise ValueError('Error')\n",
    "    except:\n",
    "        res = [(m.start(0), m.end(0)) for m in re.finditer(s, txt)]\n",
    "        if len(res):\n",
    "            st, ed = res[0][0], res[0][1]\n",
    "        else:\n",
    "            m = SequenceMatcher(None, s, txt).get_opcodes()\n",
    "            for tag, i1, i2, j1, j2 in m:\n",
    "                if tag == 'replace':\n",
    "                    s = s[:i1] + txt[j1:j2] + s[i2:]\n",
    "                if tag == \"delete\":\n",
    "                    s = s[:i1] + s[i2:]\n",
    "\n",
    "            res = [(m.start(0), m.end(0)) for m in re.finditer(s, txt)]\n",
    "            if len(res):\n",
    "                st, ed = res[0][0], res[0][1]\n",
    "            else:\n",
    "                idx = txt.find(s)\n",
    "                if idx >= 0:\n",
    "                    st = idx\n",
    "                    ed = st + len(s)\n",
    "                else:\n",
    "                    st, ed = 0, 0\n",
    "    return st + search_from, ed + search_from\n",
    "\n",
    "\n",
    "def get_offset_mapping(full_text, tokens):\n",
    "    offset_mapping = []\n",
    "\n",
    "    current_offset = 0\n",
    "    for token in tokens:\n",
    "        start, end = get_text_start_end(full_text, token, search_from=current_offset)\n",
    "        offset_mapping.append((start, end))\n",
    "        current_offset = end\n",
    "\n",
    "    return offset_mapping\n",
    "\n",
    "\n",
    "# Example usage:\n",
    "# full_text = \"Design Thinking for innovation reflexion-Avril 2021-Nathalie Sylla\\n\\nChallenge & selection\\n\\nThe tool I use...\"\n",
    "# tokens = ['Design', 'Thinking', 'for', 'innovation', 'reflexion', '-', 'Avril', '2021', '-',\n",
    "#           'Nathalie', 'Sylla', '\\n\\n', 'Challenge', '&', 'selection', '\\n\\n', 'The', 'tool', 'I', 'use', 'to', 'help', 'all', 'stakeholders', 'finding', 'their', 'way', 'through', 'the', 'complexity', 'of', 'a', 'project', 'is', 'the', ' ', 'mind', 'map', '.', '\\n\\n', ...]\n",
    "idx = random.choice(df[df.PHONE_NUM>0].index)\n",
    "# Example usage:\n",
    "full_text = df.iloc[idx]['full_text']\n",
    "tokens = df.iloc[idx]['tokens']\n",
    "trailing_whitespace = df.iloc[idx]['trailing_whitespace']\n",
    "labels = df.iloc[idx]['labels']\n",
    "\n",
    "\n",
    "offset_mapping = get_offset_mapping(full_text, tokens)\n",
    "for token, offset,l in zip(tokens, offset_mapping,labels):\n",
    "    if l!=\"O\":\n",
    "        print(f\"{token}: {offset} : {l}\")\n"
   ]
  },
  {
   "cell_type": "code",
   "execution_count": 133,
   "id": "5fa5cd67",
   "metadata": {},
   "outputs": [
    {
     "data": {
      "text/plain": [
       "'t acce'"
      ]
     },
     "execution_count": 133,
     "metadata": {},
     "output_type": "execute_result"
    }
   ],
   "source": [
    "full_text[1863:1869]"
   ]
  },
  {
   "cell_type": "code",
   "execution_count": 134,
   "id": "3d922b3d",
   "metadata": {},
   "outputs": [
    {
     "data": {
      "text/plain": [
       "'WRITING CENTRE  Level 3 East, Hub Central  North Terrace campus, SVNIT\\n\\nph  (320)202-0688x95843  hwillis@gmail.com  www.adelaide.edu.au/writingcentre/\\n\\nMind Mapping\\n\\nWriting Centre Learning Guide\\n\\nMind mapping is an effective means to take notes and brainstorm essay topics. A  mind map involves writing down a central theme and thinking of new and related  ideas which radiate out from the centre. By focusing on key ideas written down in  your own words and looking for connections between them, you can map  knowledge in a way that will help you to better understand and retain information.\\n\\nWhat is mind mapping?\\n\\nMind mapping was developed as an effective method for generating ideas by association. In order  to create a mind map, you usually start in the middle of the page with the central theme/main idea  and from that point you work outward in all directions to create a growing diagram composed of  keywords, phrases, concepts, facts and figures.    It can be used for assignments and essay writing especially in the initial stages, whereit is an ideal  strategy to use for your ‘thinking’. Mind mapping can be used for generating, visualising,  organising, note-taking, problem-solving, decision-making, revising and clarifying your university  topic, so that you can get started with assessment tasks. Essentially, a mind map is used to  ‘brainstorm’ a topic and is a great strategy for students.    How do I use mind mapping?\\n\\nYou can use mind mapping for the following:\\n\\n\\uf0a7  taking notes in a lecture and listening for the most important points or keywords\\n\\n\\uf0a7  showing links and relationships between the main ideas in your subject\\n\\n\\uf0a7  brainstorming all the things you already know about an essay question\\n\\n\\uf0a7  planning the early stages of an essay by visualising all the aspects of the question\\n\\n\\uf0a7  organising your ideas and information by making it accessible on a single page\\n\\n\\uf0a7  stimulating creative thinking and creative solutions to problems\\n\\n\\uf0a7  reviewing learning in preparation for a test or examination.\\n\\nHow do I get started with mind mapping?\\n\\n1) Place the central theme/main idea or controlling point in the centre of your page. You may\\n\\nfind it easier to place your page on the side, in landscape orientation, which is easier for  drawing purposes.\\n\\n2) Use lines, arrows, speech bubbles, branches and different colours as ways of showing the\\n\\nconnection between the central theme/main idea and your ideas which stem from that  focus. The relationships are important, as they may form your essay paragraphs.\\n\\n3) Avoid creating an artistic masterpiece. You should draw quickly without major pauses or\\n\\nediting. Chances are, your first idea was fine and you placed that idea in the direction or on  the branch you thought made the most sense. It is important in the initial stages of mind  mapping to consider every possibility, even those you may not use.\\n\\n4) Choose different colours to symbolise different things e.g. you may choose blue for\\n\\nsomething you must incorporate in your paper, black for other good ideas, and red for the  things you need to research or check with your tutor/lecturer. Your method is entirely up to  you, but try to remain consistent so that you can better reflect on your mind map at a later  stage.\\n\\n5) Leave some space on your page. The reason for this is that you can continue to add to\\n\\nyour diagram over a period of time. If A4 sized paper feels too small, you may like to use  A3.\\n\\nWhat does a mind map look like?\\n\\nA standard mind map begins with the following shape:\\n\\nThe following mind map is a basic model with which you can get started on a research topic:\\n\\nYou may prefer to turn your\\n\\npaper to landscape.\\n\\nPlace your central\\n\\ntheme/main idea in the\\n\\ncentre of the page.\\n\\nDraw lines, arrows,\\n\\nspeech bubbles,\\n\\nbranches, callouts, or any  other visuals to show the  connection to the central\\n\\ntheme/main idea.\\n\\nCluster similar information\\n\\ntogether and form sub-branches.\\n\\nMain\\n\\nIdea\\n\\nWho?\\n\\nWhere?\\n\\nWhat?\\n\\nHow?\\n\\nWhy?\\n\\nWhen?\\n\\nMain\\n\\nIdea\\n\\nExample: Mind Mapping ‘Strategies for Climate Change’ Essay Topic\\n\\nhttp://www.greendealsolutions.net/wp-content/uploads/2013/03/strategies-for-change.jpg [Accessed: 10 July 2014]\\n\\nHow do I turn my mind map into an academic essay?\\n\\nBefore you can begin to write your essay paper, you must first understand and determine what the  ‘main’ idea of your writing will be. What is the central theme/main idea or controlling point that you  are trying to convey to your reader? Whatever the topic, it is always a good idea to think about the  issues that surround that topic and mind mapping is an excellent form of brainstorming.    The information that comprises your paragraphs must have a relationship to that controlling point.  The decision about what to include in your paragraphs ultimately begins with your ideas. Ideally,  each paragraph in an essay should contain one idea or cover one aspect relevant to the central  theme on your mind map.\\n\\nWhat are the benefits of using mind mapping?\\n\\nTo achieve higher levels of concentration and creativity, together with greater organisation and  more concise communication, mind mapping might be an effective strategy for you to consider.  The benefits of mind mapping are many and varied. In summary they include:\\n\\n\\uf0a7  giving you an overview of a large subject/broad topic and allowing you to represent it in a  more concise fashion\\n\\n\\uf0a7  encouraging you to see the bigger picture and creative pathways\\n\\n\\uf0a7  enabling you to plan/make choices about the selection of resource material you have for an  assignment and where you are going to place it\\n\\n\\uf0a7  providing you with a more attractive and enjoyable format for your eye/brain to look at,  muse over and remember.\\n\\nUseful websites\\n\\nhttp://www.udel.edu/chem/white/C342/CMap.ppt  http://tutorials.istudy.psu.edu/conceptmaps/  http://www.mind-mapping.co.uk/mind-maps-examples/education.htm  http://www.mindmapart.com/  http://www.informationtamers.com/WikIT/index.php?title=Information_map _types\\n\\nVideos on Mind Mapping\\n\\nhttp://au.youtube.com/results?search_query=tony+buzan\\n\\n© SVNIT 2014\\n\\nMain\\n\\nIdea\\n\\nParagraph 1\\n\\nParagraph 2\\n\\nParagraph 3\\n\\nParagraph 4\\n\\n'"
      ]
     },
     "execution_count": 134,
     "metadata": {},
     "output_type": "execute_result"
    }
   ],
   "source": [
    "full_text"
   ]
  },
  {
   "cell_type": "code",
   "execution_count": 135,
   "id": "b35173a1",
   "metadata": {
    "scrolled": false
   },
   "outputs": [
    {
     "name": "stdout",
     "output_type": "stream",
     "text": [
      "WRITING CENTRE  Level 3 East, Hub Central  North Terrace campus, SVNIT\n",
      "\n",
      "ph  (320)202-0688x95843  hwillis@gmail.com  www.adelaide.edu.au/writingcentre/\n",
      "\n",
      "Mind Mapping\n",
      "\n",
      "Writing Centre Learning Guide\n",
      "\n",
      "Mind mapping is an effective means to take notes and brainstorm essay topics. A  mind map involves writing down a central theme and thinking of new and related  ideas which radiate out from the centre. By focusing on key ideas written down in  your own words and looking for connections between them, you can map  knowledge in a way that will help you to better understand and retain information.\n",
      "\n",
      "What is mind mapping?\n",
      "\n",
      "Mind mapping was developed as an effective method for generating ideas by association. In order  to create a mind map, you usually start in the middle of the page with the central theme/main idea  and from that point you work outward in all directions to create a growing diagram composed of  keywords, phrases, concepts, facts and figures.    It can be used for assignments and essay writing especially in the initial stages, whereit is an ideal  strategy to use for your ‘thinking’. Mind mapping can be used for generating, visualising,  organising, note-taking, problem-solving, decision-making, revising and clarifying your university  topic, so that you can get started with assessment tasks. Essentially, a mind map is used to  ‘brainstorm’ a topic and is a great strategy for students.    How do I use mind mapping?\n",
      "\n",
      "You can use mind mapping for the following:\n",
      "\n",
      "  taking notes in a lecture and listening for the most important points or keywords\n",
      "\n",
      "  showing links and relationships between the main ideas in your subject\n",
      "\n",
      "  brainstorming all the things you already know about an essay question\n",
      "\n",
      "  planning the early stages of an essay by visualising all the aspects of the question\n",
      "\n",
      "  organising your ideas and information by making it accessible on a single page\n",
      "\n",
      "  stimulating creative thinking and creative solutions to problems\n",
      "\n",
      "  reviewing learning in preparation for a test or examination.\n",
      "\n",
      "How do I get started with mind mapping?\n",
      "\n",
      "1) Place the central theme/main idea or controlling point in the centre of your page. You may\n",
      "\n",
      "find it easier to place your page on the side, in landscape orientation, which is easier for  drawing purposes.\n",
      "\n",
      "2) Use lines, arrows, speech bubbles, branches and different colours as ways of showing the\n",
      "\n",
      "connection between the central theme/main idea and your ideas which stem from that  focus. The relationships are important, as they may form your essay paragraphs.\n",
      "\n",
      "3) Avoid creating an artistic masterpiece. You should draw quickly without major pauses or\n",
      "\n",
      "editing. Chances are, your first idea was fine and you placed that idea in the direction or on  the branch you thought made the most sense. It is important in the initial stages of mind  mapping to consider every possibility, even those you may not use.\n",
      "\n",
      "4) Choose different colours to symbolise different things e.g. you may choose blue for\n",
      "\n",
      "something you must incorporate in your paper, black for other good ideas, and red for the  things you need to research or check with your tutor/lecturer. Your method is entirely up to  you, but try to remain consistent so that you can better reflect on your mind map at a later  stage.\n",
      "\n",
      "5) Leave some space on your page. The reason for this is that you can continue to add to\n",
      "\n",
      "your diagram over a period of time. If A4 sized paper feels too small, you may like to use  A3.\n",
      "\n",
      "What does a mind map look like?\n",
      "\n",
      "A standard mind map begins with the following shape:\n",
      "\n",
      "The following mind map is a basic model with which you can get started on a research topic:\n",
      "\n",
      "You may prefer to turn your\n",
      "\n",
      "paper to landscape.\n",
      "\n",
      "Place your central\n",
      "\n",
      "theme/main idea in the\n",
      "\n",
      "centre of the page.\n",
      "\n",
      "Draw lines, arrows,\n",
      "\n",
      "speech bubbles,\n",
      "\n",
      "branches, callouts, or any  other visuals to show the  connection to the central\n",
      "\n",
      "theme/main idea.\n",
      "\n",
      "Cluster similar information\n",
      "\n",
      "together and form sub-branches.\n",
      "\n",
      "Main\n",
      "\n",
      "Idea\n",
      "\n",
      "Who?\n",
      "\n",
      "Where?\n",
      "\n",
      "What?\n",
      "\n",
      "How?\n",
      "\n",
      "Why?\n",
      "\n",
      "When?\n",
      "\n",
      "Main\n",
      "\n",
      "Idea\n",
      "\n",
      "Example: Mind Mapping ‘Strategies for Climate Change’ Essay Topic\n",
      "\n",
      "http://www.greendealsolutions.net/wp-content/uploads/2013/03/strategies-for-change.jpg [Accessed: 10 July 2014]\n",
      "\n",
      "How do I turn my mind map into an academic essay?\n",
      "\n",
      "Before you can begin to write your essay paper, you must first understand and determine what the  ‘main’ idea of your writing will be. What is the central theme/main idea or controlling point that you  are trying to convey to your reader? Whatever the topic, it is always a good idea to think about the  issues that surround that topic and mind mapping is an excellent form of brainstorming.    The information that comprises your paragraphs must have a relationship to that controlling point.  The decision about what to include in your paragraphs ultimately begins with your ideas. Ideally,  each paragraph in an essay should contain one idea or cover one aspect relevant to the central  theme on your mind map.\n",
      "\n",
      "What are the benefits of using mind mapping?\n",
      "\n",
      "To achieve higher levels of concentration and creativity, together with greater organisation and  more concise communication, mind mapping might be an effective strategy for you to consider.  The benefits of mind mapping are many and varied. In summary they include:\n",
      "\n",
      "  giving you an overview of a large subject/broad topic and allowing you to represent it in a  more concise fashion\n",
      "\n",
      "  encouraging you to see the bigger picture and creative pathways\n",
      "\n",
      "  enabling you to plan/make choices about the selection of resource material you have for an  assignment and where you are going to place it\n",
      "\n",
      "  providing you with a more attractive and enjoyable format for your eye/brain to look at,  muse over and remember.\n",
      "\n",
      "Useful websites\n",
      "\n",
      "http://www.udel.edu/chem/white/C342/CMap.ppt  http://tutorials.istudy.psu.edu/conceptmaps/  http://www.mind-mapping.co.uk/mind-maps-examples/education.htm  http://www.mindmapart.com/  http://www.informationtamers.com/WikIT/index.php?title=Information_map _types\n",
      "\n",
      "Videos on Mind Mapping\n",
      "\n",
      "http://au.youtube.com/results?search_query=tony+buzan\n",
      "\n",
      "© SVNIT 2014\n",
      "\n",
      "Main\n",
      "\n",
      "Idea\n",
      "\n",
      "Paragraph 1\n",
      "\n",
      "Paragraph 2\n",
      "\n",
      "Paragraph 3\n",
      "\n",
      "Paragraph 4\n",
      "\n",
      "\n"
     ]
    }
   ],
   "source": [
    "print(full_text)"
   ]
  },
  {
   "cell_type": "code",
   "execution_count": 136,
   "id": "dfa9b0d4",
   "metadata": {},
   "outputs": [],
   "source": [
    "# pip install spacy"
   ]
  },
  {
   "cell_type": "code",
   "execution_count": 137,
   "id": "774ec67c",
   "metadata": {},
   "outputs": [],
   "source": [
    "import spacy\n",
    "from spacy import displacy\n",
    "from pylab import cm, matplotlib\n",
    "import os\n",
    "\n",
    "colors = {\n",
    "            'NAME_STUDENT': '#8000ff',\n",
    "            'EMAIL': '#2b7ff6',\n",
    "            'USERNAME': '#2adddd',\n",
    "            'ID_NUM': '#80ffb4',\n",
    "            'PHONE_NUM': 'd4dd80',\n",
    "            'URL_PERSONAL': '#ff8042',\n",
    "            'STREET_ADDRESS': '#ff0000'\n",
    "         }\n",
    "\n",
    "\n",
    "def visualize(full_text,offset_mapping,labels):\n",
    "    \n",
    "    ents = []\n",
    "    for offset,lab in zip(offset_mapping,labels):\n",
    "        ents.append({\n",
    "                        'start': int(offset[0]), \n",
    "                         'end': int(offset[1]), \n",
    "                         'label': str(lab.split('-')[1]) #+ ' - ' + str(row['discourse_effectiveness'])\n",
    "                    })\n",
    "\n",
    "    doc2 = {\n",
    "        \"text\": full_text,\n",
    "        \"ents\": ents,\n",
    "#         \"title\": \"idx\"\n",
    "    }\n",
    "\n",
    "    options = {\"ents\": list(colors.keys()), \"colors\": colors}\n",
    "    displacy.render(doc2, style=\"ent\", options=options, manual=True, jupyter=True)"
   ]
  },
  {
   "cell_type": "code",
   "execution_count": 138,
   "id": "d2b10295",
   "metadata": {},
   "outputs": [],
   "source": [
    "offset_mapping_ = [x for (x,y) in zip(offset_mapping,labels) if y!=\"O\"]\n",
    "labels_ = [x for x in labels if x!=\"O\"]"
   ]
  },
  {
   "cell_type": "code",
   "execution_count": 139,
   "id": "1f270391",
   "metadata": {
    "scrolled": false
   },
   "outputs": [
    {
     "data": {
      "text/html": [
       "<span class=\"tex2jax_ignore\"><div class=\"entities\" style=\"line-height: 2.5; direction: ltr\">WRITING CENTRE  Level 3 East, Hub Central  North Terrace campus, SVNIT<br><br>ph  \n",
       "<mark class=\"entity\" style=\"background: d4dd80; padding: 0.45em 0.6em; margin: 0 0.25em; line-height: 1; border-radius: 0.35em;\">\n",
       "    (\n",
       "    <span style=\"font-size: 0.8em; font-weight: bold; line-height: 1; border-radius: 0.35em; vertical-align: middle; margin-left: 0.5rem\">PHONE_NUM</span>\n",
       "</mark>\n",
       "\n",
       "<mark class=\"entity\" style=\"background: d4dd80; padding: 0.45em 0.6em; margin: 0 0.25em; line-height: 1; border-radius: 0.35em;\">\n",
       "    320)202\n",
       "    <span style=\"font-size: 0.8em; font-weight: bold; line-height: 1; border-radius: 0.35em; vertical-align: middle; margin-left: 0.5rem\">PHONE_NUM</span>\n",
       "</mark>\n",
       "\n",
       "<mark class=\"entity\" style=\"background: d4dd80; padding: 0.45em 0.6em; margin: 0 0.25em; line-height: 1; border-radius: 0.35em;\">\n",
       "    -\n",
       "    <span style=\"font-size: 0.8em; font-weight: bold; line-height: 1; border-radius: 0.35em; vertical-align: middle; margin-left: 0.5rem\">PHONE_NUM</span>\n",
       "</mark>\n",
       "\n",
       "<mark class=\"entity\" style=\"background: d4dd80; padding: 0.45em 0.6em; margin: 0 0.25em; line-height: 1; border-radius: 0.35em;\">\n",
       "    0688x95843\n",
       "    <span style=\"font-size: 0.8em; font-weight: bold; line-height: 1; border-radius: 0.35em; vertical-align: middle; margin-left: 0.5rem\">PHONE_NUM</span>\n",
       "</mark>\n",
       "  \n",
       "<mark class=\"entity\" style=\"background: #2b7ff6; padding: 0.45em 0.6em; margin: 0 0.25em; line-height: 1; border-radius: 0.35em;\">\n",
       "    hwillis@gmail.com\n",
       "    <span style=\"font-size: 0.8em; font-weight: bold; line-height: 1; border-radius: 0.35em; vertical-align: middle; margin-left: 0.5rem\">EMAIL</span>\n",
       "</mark>\n",
       "  www.adelaide.edu.au/writingcentre/<br><br>Mind Mapping<br><br>Writing Centre Learning Guide<br><br>Mind mapping is an effective means to take notes and brainstorm essay topics. A  mind map involves writing down a central theme and thinking of new and related  ideas which radiate out from the centre. By focusing on key ideas written down in  your own words and looking for connections between them, you can map  knowledge in a way that will help you to better understand and retain information.<br><br>What is mind mapping?<br><br>Mind mapping was developed as an effective method for generating ideas by association. In order  to create a mind map, you usually start in the middle of the page with the central theme/main idea  and from that point you work outward in all directions to create a growing diagram composed of  keywords, phrases, concepts, facts and figures.    It can be used for assignments and essay writing especially in the initial stages, whereit is an ideal  strategy to use for your ‘thinking’. Mind mapping can be used for generating, visualising,  organising, note-taking, problem-solving, decision-making, revising and clarifying your university  topic, so that you can get started with assessment tasks. Essentially, a mind map is used to  ‘brainstorm’ a topic and is a great strategy for students.    How do I use mind mapping?<br><br>You can use mind mapping for the following:<br><br>  taking notes in a lecture and listening for the most important points or keywords<br><br>  showing links and relationships between the main ideas in your subject<br><br>  brainstorming all the things you already know about an essay question<br><br>  planning the early stages of an essay by visualising all the aspects of the question<br><br>  organising your ideas and information by making it accessible on a single page<br><br>  stimulating creative thinking and creative solutions to problems<br><br>  reviewing learning in preparation for a test or examination.<br><br>How do I get started with mind mapping?<br><br>1) Place the central theme/main idea or controlling point in the centre of your page. You may<br><br>find it easier to place your page on the side, in landscape orientation, which is easier for  drawing purposes.<br><br>2) Use lines, arrows, speech bubbles, branches and different colours as ways of showing the<br><br>connection between the central theme/main idea and your ideas which stem from that  focus. The relationships are important, as they may form your essay paragraphs.<br><br>3) Avoid creating an artistic masterpiece. You should draw quickly without major pauses or<br><br>editing. Chances are, your first idea was fine and you placed that idea in the direction or on  the branch you thought made the most sense. It is important in the initial stages of mind  mapping to consider every possibility, even those you may not use.<br><br>4) Choose different colours to symbolise different things e.g. you may choose blue for<br><br>something you must incorporate in your paper, black for other good ideas, and red for the  things you need to research or check with your tutor/lecturer. Your method is entirely up to  you, but try to remain consistent so that you can better reflect on your mind map at a later  stage.<br><br>5) Leave some space on your page. The reason for this is that you can continue to add to<br><br>your diagram over a period of time. If A4 sized paper feels too small, you may like to use  A3.<br><br>What does a mind map look like?<br><br>A standard mind map begins with the following shape:<br><br>The following mind map is a basic model with which you can get started on a research topic:<br><br>You may prefer to turn your<br><br>paper to landscape.<br><br>Place your central<br><br>theme/main idea in the<br><br>centre of the page.<br><br>Draw lines, arrows,<br><br>speech bubbles,<br><br>branches, callouts, or any  other visuals to show the  connection to the central<br><br>theme/main idea.<br><br>Cluster similar information<br><br>together and form sub-branches.<br><br>Main<br><br>Idea<br><br>Who?<br><br>Where?<br><br>What?<br><br>How?<br><br>Why?<br><br>When?<br><br>Main<br><br>Idea<br><br>Example: Mind Mapping ‘Strategies for Climate Change’ Essay Topic<br><br>http://www.greendealsolutions.net/wp-content/uploads/2013/03/strategies-for-change.jpg [Accessed: 10 July 2014]<br><br>How do I turn my mind map into an academic essay?<br><br>Before you can begin to write your essay paper, you must first understand and determine what the  ‘main’ idea of your writing will be. What is the central theme/main idea or controlling point that you  are trying to convey to your reader? Whatever the topic, it is always a good idea to think about the  issues that surround that topic and mind mapping is an excellent form of brainstorming.    The information that comprises your paragraphs must have a relationship to that controlling point.  The decision about what to include in your paragraphs ultimately begins with your ideas. Ideally,  each paragraph in an essay should contain one idea or cover one aspect relevant to the central  theme on your mind map.<br><br>What are the benefits of using mind mapping?<br><br>To achieve higher levels of concentration and creativity, together with greater organisation and  more concise communication, mind mapping might be an effective strategy for you to consider.  The benefits of mind mapping are many and varied. In summary they include:<br><br>  giving you an overview of a large subject/broad topic and allowing you to represent it in a  more concise fashion<br><br>  encouraging you to see the bigger picture and creative pathways<br><br>  enabling you to plan/make choices about the selection of resource material you have for an  assignment and where you are going to place it<br><br>  providing you with a more attractive and enjoyable format for your eye/brain to look at,  muse over and remember.<br><br>Useful websites<br><br>http://www.udel.edu/chem/white/C342/CMap.ppt  http://tutorials.istudy.psu.edu/conceptmaps/  http://www.mind-mapping.co.uk/mind-maps-examples/education.htm  http://www.mindmapart.com/  http://www.informationtamers.com/WikIT/index.php?title=Information_map _types<br><br>Videos on Mind Mapping<br><br>http://au.youtube.com/results?search_query=tony+buzan<br><br>© SVNIT 2014<br><br>Main<br><br>Idea<br><br>Paragraph 1<br><br>Paragraph 2<br><br>Paragraph 3<br><br>Paragraph 4<br><br></div></span>"
      ],
      "text/plain": [
       "<IPython.core.display.HTML object>"
      ]
     },
     "metadata": {},
     "output_type": "display_data"
    }
   ],
   "source": [
    "visualize(full_text,offset_mapping_,labels_)"
   ]
  },
  {
   "cell_type": "code",
   "execution_count": null,
   "id": "8e21e190",
   "metadata": {},
   "outputs": [],
   "source": []
  }
 ],
 "metadata": {
  "kernelspec": {
   "display_name": "Python 3 (ipykernel)",
   "language": "python",
   "name": "python3"
  },
  "language_info": {
   "codemirror_mode": {
    "name": "ipython",
    "version": 3
   },
   "file_extension": ".py",
   "mimetype": "text/x-python",
   "name": "python",
   "nbconvert_exporter": "python",
   "pygments_lexer": "ipython3",
   "version": "3.10.9"
  }
 },
 "nbformat": 4,
 "nbformat_minor": 5
}

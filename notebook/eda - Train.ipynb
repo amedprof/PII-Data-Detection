{
 "cells": [
  {
   "cell_type": "code",
   "execution_count": 2,
   "id": "84bf958e",
   "metadata": {},
   "outputs": [],
   "source": [
    "import os\n",
    "import gc\n",
    "import sys\n",
    "import json\n",
    "import time\n",
    "import torch\n",
    "import joblib\n",
    "import random\n",
    "import numpy as np\n",
    "import pandas as pd\n",
    "from tqdm.auto import tqdm\n",
    "from pathlib import Path\n",
    "import plotly.express as px\n",
    "import matplotlib.pyplot as plt\n",
    "\n",
    "pd.set_option('display.max_rows', 500)\n",
    "pd.set_option('display.max_columns', 500)\n",
    "pd.set_option('display.width', 1000)\n",
    "pd.set_option('display.float_format', lambda x: '%.4f' % x)"
   ]
  },
  {
   "cell_type": "markdown",
   "id": "8895aef6",
   "metadata": {},
   "source": [
    "# Params"
   ]
  },
  {
   "cell_type": "code",
   "execution_count": 3,
   "id": "5d0104cc",
   "metadata": {},
   "outputs": [
    {
     "data": {
      "text/plain": [
       "['train.json',\n",
       " 'dubai-ar.zip',\n",
       " 'pii_dataset_fixed.csv',\n",
       " 'mixtral-8x7b-v1.json',\n",
       " '.~lock.lecture2.pptx#',\n",
       " 'openaddr-collected-global.zip',\n",
       " 'lecture2.pptx',\n",
       " 'openaddr-collected-us_west-sa.zip',\n",
       " 'test.json',\n",
       " 'moredata_dataset_fixed.csv',\n",
       " 'sample_submission.csv']"
      ]
     },
     "execution_count": 3,
     "metadata": {},
     "output_type": "execute_result"
    }
   ],
   "source": [
    "data_path = Path(r\"/database/kaggle/PII/data\")\n",
    "os.listdir(data_path)"
   ]
  },
  {
   "cell_type": "code",
   "execution_count": 4,
   "id": "73fc670f",
   "metadata": {},
   "outputs": [
    {
     "data": {
      "text/plain": [
       "(26, 4)"
      ]
     },
     "execution_count": 4,
     "metadata": {},
     "output_type": "execute_result"
    }
   ],
   "source": [
    "sample_df = pd.read_csv(data_path/'sample_submission.csv')\n",
    "sample_df.shape"
   ]
  },
  {
   "cell_type": "code",
   "execution_count": 5,
   "id": "ced5d03d",
   "metadata": {},
   "outputs": [
    {
     "data": {
      "text/html": [
       "<div>\n",
       "<style scoped>\n",
       "    .dataframe tbody tr th:only-of-type {\n",
       "        vertical-align: middle;\n",
       "    }\n",
       "\n",
       "    .dataframe tbody tr th {\n",
       "        vertical-align: top;\n",
       "    }\n",
       "\n",
       "    .dataframe thead th {\n",
       "        text-align: right;\n",
       "    }\n",
       "</style>\n",
       "<table border=\"1\" class=\"dataframe\">\n",
       "  <thead>\n",
       "    <tr style=\"text-align: right;\">\n",
       "      <th></th>\n",
       "      <th>row_id</th>\n",
       "      <th>document</th>\n",
       "      <th>token</th>\n",
       "      <th>label</th>\n",
       "    </tr>\n",
       "  </thead>\n",
       "  <tbody>\n",
       "    <tr>\n",
       "      <th>0</th>\n",
       "      <td>0</td>\n",
       "      <td>7</td>\n",
       "      <td>9</td>\n",
       "      <td>B-NAME_STUDENT</td>\n",
       "    </tr>\n",
       "    <tr>\n",
       "      <th>1</th>\n",
       "      <td>1</td>\n",
       "      <td>7</td>\n",
       "      <td>10</td>\n",
       "      <td>I-NAME_STUDENT</td>\n",
       "    </tr>\n",
       "    <tr>\n",
       "      <th>2</th>\n",
       "      <td>2</td>\n",
       "      <td>7</td>\n",
       "      <td>482</td>\n",
       "      <td>B-NAME_STUDENT</td>\n",
       "    </tr>\n",
       "    <tr>\n",
       "      <th>3</th>\n",
       "      <td>3</td>\n",
       "      <td>7</td>\n",
       "      <td>483</td>\n",
       "      <td>I-NAME_STUDENT</td>\n",
       "    </tr>\n",
       "    <tr>\n",
       "      <th>4</th>\n",
       "      <td>4</td>\n",
       "      <td>7</td>\n",
       "      <td>741</td>\n",
       "      <td>B-NAME_STUDENT</td>\n",
       "    </tr>\n",
       "  </tbody>\n",
       "</table>\n",
       "</div>"
      ],
      "text/plain": [
       "   row_id  document  token           label\n",
       "0       0         7      9  B-NAME_STUDENT\n",
       "1       1         7     10  I-NAME_STUDENT\n",
       "2       2         7    482  B-NAME_STUDENT\n",
       "3       3         7    483  I-NAME_STUDENT\n",
       "4       4         7    741  B-NAME_STUDENT"
      ]
     },
     "execution_count": 5,
     "metadata": {},
     "output_type": "execute_result"
    }
   ],
   "source": [
    "sample_df.head(5)"
   ]
  },
  {
   "cell_type": "code",
   "execution_count": 6,
   "id": "80aa459d",
   "metadata": {},
   "outputs": [
    {
     "data": {
      "text/plain": [
       "array(['B-NAME_STUDENT', 'I-NAME_STUDENT'], dtype=object)"
      ]
     },
     "execution_count": 6,
     "metadata": {},
     "output_type": "execute_result"
    }
   ],
   "source": [
    "sample_df.label.unique()"
   ]
  },
  {
   "cell_type": "code",
   "execution_count": 7,
   "id": "bc125ae5",
   "metadata": {},
   "outputs": [
    {
     "data": {
      "text/plain": [
       "(6807, 5)"
      ]
     },
     "execution_count": 7,
     "metadata": {},
     "output_type": "execute_result"
    }
   ],
   "source": [
    "df = pd.read_json(data_path/'train.json')\n",
    "df.shape"
   ]
  },
  {
   "cell_type": "code",
   "execution_count": 17,
   "id": "777aa2f4",
   "metadata": {},
   "outputs": [
    {
     "data": {
      "text/html": [
       "<div>\n",
       "<style scoped>\n",
       "    .dataframe tbody tr th:only-of-type {\n",
       "        vertical-align: middle;\n",
       "    }\n",
       "\n",
       "    .dataframe tbody tr th {\n",
       "        vertical-align: top;\n",
       "    }\n",
       "\n",
       "    .dataframe thead th {\n",
       "        text-align: right;\n",
       "    }\n",
       "</style>\n",
       "<table border=\"1\" class=\"dataframe\">\n",
       "  <thead>\n",
       "    <tr style=\"text-align: right;\">\n",
       "      <th></th>\n",
       "      <th>document</th>\n",
       "      <th>full_text</th>\n",
       "      <th>tokens</th>\n",
       "      <th>trailing_whitespace</th>\n",
       "      <th>labels</th>\n",
       "      <th>NAME_STUDENT</th>\n",
       "      <th>EMAIL</th>\n",
       "      <th>USERNAME</th>\n",
       "      <th>ID_NUM</th>\n",
       "      <th>PHONE_NUM</th>\n",
       "      <th>URL_PERSONAL</th>\n",
       "      <th>STREET_ADDRESS</th>\n",
       "      <th>nb_labels</th>\n",
       "    </tr>\n",
       "  </thead>\n",
       "  <tbody>\n",
       "    <tr>\n",
       "      <th>0</th>\n",
       "      <td>7</td>\n",
       "      <td>Design Thinking for innovation reflexion-Avril...</td>\n",
       "      <td>[Design, Thinking, for, innovation, reflexion,...</td>\n",
       "      <td>[True, True, True, True, False, False, True, F...</td>\n",
       "      <td>[O, O, O, O, O, O, O, O, O, B-NAME_STUDENT, I-...</td>\n",
       "      <td>6</td>\n",
       "      <td>0</td>\n",
       "      <td>0</td>\n",
       "      <td>0</td>\n",
       "      <td>0</td>\n",
       "      <td>0</td>\n",
       "      <td>0</td>\n",
       "      <td>6</td>\n",
       "    </tr>\n",
       "    <tr>\n",
       "      <th>1</th>\n",
       "      <td>10</td>\n",
       "      <td>Diego Estrada\\n\\nDesign Thinking Assignment\\n\\...</td>\n",
       "      <td>[Diego, Estrada, \\n\\n, Design, Thinking, Assig...</td>\n",
       "      <td>[True, False, False, True, True, False, False,...</td>\n",
       "      <td>[B-NAME_STUDENT, I-NAME_STUDENT, O, O, O, O, O...</td>\n",
       "      <td>4</td>\n",
       "      <td>0</td>\n",
       "      <td>0</td>\n",
       "      <td>0</td>\n",
       "      <td>0</td>\n",
       "      <td>0</td>\n",
       "      <td>0</td>\n",
       "      <td>4</td>\n",
       "    </tr>\n",
       "    <tr>\n",
       "      <th>2</th>\n",
       "      <td>16</td>\n",
       "      <td>Reporting process\\n\\nby Gilberto Gamboa\\n\\nCha...</td>\n",
       "      <td>[Reporting, process, \\n\\n, by, Gilberto, Gambo...</td>\n",
       "      <td>[True, False, False, True, True, False, False,...</td>\n",
       "      <td>[O, O, O, O, B-NAME_STUDENT, I-NAME_STUDENT, O...</td>\n",
       "      <td>2</td>\n",
       "      <td>0</td>\n",
       "      <td>0</td>\n",
       "      <td>0</td>\n",
       "      <td>0</td>\n",
       "      <td>0</td>\n",
       "      <td>0</td>\n",
       "      <td>2</td>\n",
       "    </tr>\n",
       "    <tr>\n",
       "      <th>3</th>\n",
       "      <td>20</td>\n",
       "      <td>Design Thinking for Innovation\\n\\nSindy Samaca...</td>\n",
       "      <td>[Design, Thinking, for, Innovation, \\n\\n, Sind...</td>\n",
       "      <td>[True, True, True, False, False, True, False, ...</td>\n",
       "      <td>[O, O, O, O, O, B-NAME_STUDENT, I-NAME_STUDENT...</td>\n",
       "      <td>2</td>\n",
       "      <td>0</td>\n",
       "      <td>0</td>\n",
       "      <td>0</td>\n",
       "      <td>0</td>\n",
       "      <td>0</td>\n",
       "      <td>0</td>\n",
       "      <td>2</td>\n",
       "    </tr>\n",
       "    <tr>\n",
       "      <th>4</th>\n",
       "      <td>56</td>\n",
       "      <td>Assignment:  Visualization Reflection  Submitt...</td>\n",
       "      <td>[Assignment, :,   , Visualization,  , Reflecti...</td>\n",
       "      <td>[False, False, False, False, False, False, Fal...</td>\n",
       "      <td>[O, O, O, O, O, O, O, O, O, O, O, O, B-NAME_ST...</td>\n",
       "      <td>2</td>\n",
       "      <td>0</td>\n",
       "      <td>0</td>\n",
       "      <td>0</td>\n",
       "      <td>0</td>\n",
       "      <td>0</td>\n",
       "      <td>0</td>\n",
       "      <td>2</td>\n",
       "    </tr>\n",
       "  </tbody>\n",
       "</table>\n",
       "</div>"
      ],
      "text/plain": [
       "   document                                          full_text                                             tokens                                trailing_whitespace                                             labels  NAME_STUDENT  EMAIL  USERNAME  ID_NUM  PHONE_NUM  URL_PERSONAL  STREET_ADDRESS  nb_labels\n",
       "0         7  Design Thinking for innovation reflexion-Avril...  [Design, Thinking, for, innovation, reflexion,...  [True, True, True, True, False, False, True, F...  [O, O, O, O, O, O, O, O, O, B-NAME_STUDENT, I-...             6      0         0       0          0             0               0          6\n",
       "1        10  Diego Estrada\\n\\nDesign Thinking Assignment\\n\\...  [Diego, Estrada, \\n\\n, Design, Thinking, Assig...  [True, False, False, True, True, False, False,...  [B-NAME_STUDENT, I-NAME_STUDENT, O, O, O, O, O...             4      0         0       0          0             0               0          4\n",
       "2        16  Reporting process\\n\\nby Gilberto Gamboa\\n\\nCha...  [Reporting, process, \\n\\n, by, Gilberto, Gambo...  [True, False, False, True, True, False, False,...  [O, O, O, O, B-NAME_STUDENT, I-NAME_STUDENT, O...             2      0         0       0          0             0               0          2\n",
       "3        20  Design Thinking for Innovation\\n\\nSindy Samaca...  [Design, Thinking, for, Innovation, \\n\\n, Sind...  [True, True, True, False, False, True, False, ...  [O, O, O, O, O, B-NAME_STUDENT, I-NAME_STUDENT...             2      0         0       0          0             0               0          2\n",
       "4        56  Assignment:  Visualization Reflection  Submitt...  [Assignment, :,   , Visualization,  , Reflecti...  [False, False, False, False, False, False, Fal...  [O, O, O, O, O, O, O, O, O, O, O, O, B-NAME_ST...             2      0         0       0          0             0               0          2"
      ]
     },
     "execution_count": 17,
     "metadata": {},
     "output_type": "execute_result"
    }
   ],
   "source": [
    "df.head(5)"
   ]
  },
  {
   "cell_type": "code",
   "execution_count": 9,
   "id": "dfc7b295",
   "metadata": {},
   "outputs": [
    {
     "data": {
      "text/plain": [
       "8"
      ]
     },
     "execution_count": 9,
     "metadata": {},
     "output_type": "execute_result"
    }
   ],
   "source": [
    "LABEL2TYPE = ('NAME_STUDENT','EMAIL','USERNAME','ID_NUM', 'PHONE_NUM','URL_PERSONAL','STREET_ADDRESS','O')\n",
    "len(LABEL2TYPE)"
   ]
  },
  {
   "cell_type": "code",
   "execution_count": 10,
   "id": "400ffd38",
   "metadata": {},
   "outputs": [],
   "source": [
    "for name in LABEL2TYPE[:-1]:\n",
    "    df[name] = ((df['labels'].transform(lambda x:len([i for i in x if i.split('-')[-1]==name ]))))*1"
   ]
  },
  {
   "cell_type": "code",
   "execution_count": 11,
   "id": "d6aa3e30",
   "metadata": {},
   "outputs": [],
   "source": [
    "df['nb_labels'] = df['labels'].transform(lambda x:len([i for i in x if i!=\"O\" ]))"
   ]
  },
  {
   "cell_type": "code",
   "execution_count": 12,
   "id": "38e76e79",
   "metadata": {},
   "outputs": [
    {
     "data": {
      "text/plain": [
       "0     5862\n",
       "2      599\n",
       "4      108\n",
       "1       86\n",
       "3       52\n",
       "6       46\n",
       "8       14\n",
       "5       10\n",
       "12       6\n",
       "10       5\n",
       "11       3\n",
       "9        3\n",
       "15       2\n",
       "14       2\n",
       "21       2\n",
       "7        1\n",
       "23       1\n",
       "18       1\n",
       "17       1\n",
       "26       1\n",
       "34       1\n",
       "22       1\n",
       "Name: nb_labels, dtype: int64"
      ]
     },
     "execution_count": 12,
     "metadata": {},
     "output_type": "execute_result"
    }
   ],
   "source": [
    "df['nb_labels'].value_counts() "
   ]
  },
  {
   "cell_type": "code",
   "execution_count": 13,
   "id": "a59c9509",
   "metadata": {},
   "outputs": [
    {
     "data": {
      "text/plain": [
       "NAME_STUDENT      2461\n",
       "EMAIL               39\n",
       "USERNAME             6\n",
       "ID_NUM              79\n",
       "PHONE_NUM           21\n",
       "URL_PERSONAL       111\n",
       "STREET_ADDRESS      22\n",
       "nb_labels         2739\n",
       "dtype: int64"
      ]
     },
     "execution_count": 13,
     "metadata": {},
     "output_type": "execute_result"
    }
   ],
   "source": [
    "df[list(LABEL2TYPE)[:-1]+['nb_labels']].sum()"
   ]
  },
  {
   "cell_type": "code",
   "execution_count": 14,
   "id": "db5e835b",
   "metadata": {},
   "outputs": [],
   "source": [
    "from iterstrat.ml_stratifiers import MultilabelStratifiedKFold"
   ]
  },
  {
   "cell_type": "code",
   "execution_count": 26,
   "id": "417a4149",
   "metadata": {},
   "outputs": [],
   "source": [
    "seeds = [42]\n",
    "folds_names = []\n",
    "for K in [5]:  \n",
    "    for seed in seeds:\n",
    "        mskf = MultilabelStratifiedKFold(n_splits=K,shuffle=True,random_state=seed)\n",
    "        name = f\"fold_msk_{K}_seed_{seed}\"\n",
    "        df[name] = -1\n",
    "        for fold, (trn_, val_) in enumerate(mskf.split(df,df[list(LABEL2TYPE)[:-1]])):\n",
    "            df.loc[val_, name] = fold"
   ]
  },
  {
   "cell_type": "code",
   "execution_count": 1,
   "id": "a92d9cfd",
   "metadata": {},
   "outputs": [
    {
     "ename": "NameError",
     "evalue": "name 'df' is not defined",
     "output_type": "error",
     "traceback": [
      "\u001b[0;31m---------------------------------------------------------------------------\u001b[0m",
      "\u001b[0;31mNameError\u001b[0m                                 Traceback (most recent call last)",
      "Cell \u001b[0;32mIn[1], line 1\u001b[0m\n\u001b[0;32m----> 1\u001b[0m \u001b[43mdf\u001b[49m\u001b[38;5;241m.\u001b[39mgroupby(name)[\u001b[38;5;28mlist\u001b[39m(LABEL2TYPE)[:\u001b[38;5;241m-\u001b[39m\u001b[38;5;241m1\u001b[39m]]\u001b[38;5;241m.\u001b[39msum()\n",
      "\u001b[0;31mNameError\u001b[0m: name 'df' is not defined"
     ]
    }
   ],
   "source": [
    "df.groupby(name)[list(LABEL2TYPE)[:-1]].sum()"
   ]
  },
  {
   "cell_type": "code",
   "execution_count": 19,
   "id": "155a30e1",
   "metadata": {},
   "outputs": [
    {
     "data": {
      "text/plain": [
       "0     5916\n",
       "2      626\n",
       "4      112\n",
       "1       52\n",
       "6       42\n",
       "3       23\n",
       "8       11\n",
       "5        5\n",
       "7        3\n",
       "10       3\n",
       "9        3\n",
       "12       2\n",
       "15       2\n",
       "17       2\n",
       "21       1\n",
       "18       1\n",
       "14       1\n",
       "34       1\n",
       "22       1\n",
       "Name: NAME_STUDENT, dtype: int64"
      ]
     },
     "execution_count": 19,
     "metadata": {},
     "output_type": "execute_result"
    }
   ],
   "source": [
    "df.NAME_STUDENT.value_counts()"
   ]
  },
  {
   "cell_type": "code",
   "execution_count": 56,
   "id": "105f6de3",
   "metadata": {
    "scrolled": false
   },
   "outputs": [
    {
     "name": "stdout",
     "output_type": "stream",
     "text": [
      "Zohaib: (34, 40) : B-NAME_STUDENT\n",
      "Ashraf: (41, 47) : I-NAME_STUDENT\n",
      "Matheus: (877, 884) : B-NAME_STUDENT\n",
      "Kumari: (885, 891) : I-NAME_STUDENT\n",
      "Matheus: (995, 1002) : B-NAME_STUDENT\n",
      "Kumari: (1003, 1009) : I-NAME_STUDENT\n",
      "Matheus: (1073, 1080) : B-NAME_STUDENT\n",
      "Kumari: (1081, 1087) : I-NAME_STUDENT\n",
      "Matheus: (1200, 1207) : B-NAME_STUDENT\n",
      "Kumari: (1208, 1214) : I-NAME_STUDENT\n",
      "Matheus: (1323, 1330) : B-NAME_STUDENT\n",
      "Kumari: (1331, 1337) : I-NAME_STUDENT\n",
      "Matheus: (2212, 2219) : B-NAME_STUDENT\n",
      "Kumari: (2220, 2226) : I-NAME_STUDENT\n",
      "Matheus: (3572, 3579) : B-NAME_STUDENT\n"
     ]
    }
   ],
   "source": [
    "import re\n",
    "from difflib import SequenceMatcher\n",
    "\n",
    "def get_text_start_end(txt, s, search_from=0):\n",
    "    txt = txt[int(search_from):]\n",
    "    try:\n",
    "        idx = txt.find(s)\n",
    "        if idx >= 0:\n",
    "            st = idx\n",
    "            ed = st + len(s)\n",
    "        else:\n",
    "            raise ValueError('Error')\n",
    "    except:\n",
    "        res = [(m.start(0), m.end(0)) for m in re.finditer(s, txt)]\n",
    "        if len(res):\n",
    "            st, ed = res[0][0], res[0][1]\n",
    "        else:\n",
    "            m = SequenceMatcher(None, s, txt).get_opcodes()\n",
    "            for tag, i1, i2, j1, j2 in m:\n",
    "                if tag == 'replace':\n",
    "                    s = s[:i1] + txt[j1:j2] + s[i2:]\n",
    "                if tag == \"delete\":\n",
    "                    s = s[:i1] + s[i2:]\n",
    "\n",
    "            res = [(m.start(0), m.end(0)) for m in re.finditer(s, txt)]\n",
    "            if len(res):\n",
    "                st, ed = res[0][0], res[0][1]\n",
    "            else:\n",
    "                idx = txt.find(s)\n",
    "                if idx >= 0:\n",
    "                    st = idx\n",
    "                    ed = st + len(s)\n",
    "                else:\n",
    "                    st, ed = 0, 0\n",
    "    return st + search_from, ed + search_from\n",
    "\n",
    "\n",
    "def get_offset_mapping(full_text, tokens):\n",
    "    offset_mapping = []\n",
    "\n",
    "    current_offset = 0\n",
    "    for token in tokens:\n",
    "        start, end = get_text_start_end(full_text, token, search_from=current_offset)\n",
    "        offset_mapping.append((start, end))\n",
    "        current_offset = end\n",
    "\n",
    "    return offset_mapping\n",
    "\n",
    "\n",
    "# Example usage:\n",
    "# full_text = \"Design Thinking for innovation reflexion-Avril 2021-Nathalie Sylla\\n\\nChallenge & selection\\n\\nThe tool I use...\"\n",
    "# tokens = ['Design', 'Thinking', 'for', 'innovation', 'reflexion', '-', 'Avril', '2021', '-',\n",
    "#           'Nathalie', 'Sylla', '\\n\\n', 'Challenge', '&', 'selection', '\\n\\n', 'The', 'tool', 'I', 'use', 'to', 'help', 'all', 'stakeholders', 'finding', 'their', 'way', 'through', 'the', 'complexity', 'of', 'a', 'project', 'is', 'the', ' ', 'mind', 'map', '.', '\\n\\n', ...]\n",
    "idx = random.choice(df[df.NAME_STUDENT==15].index)\n",
    "# Example usage:\n",
    "full_text = df.iloc[idx]['full_text']\n",
    "tokens = df.iloc[idx]['tokens']\n",
    "trailing_whitespace = df.iloc[idx]['trailing_whitespace']\n",
    "labels = df.iloc[idx]['labels']\n",
    "\n",
    "\n",
    "offset_mapping = get_offset_mapping(full_text, tokens)\n",
    "for token, offset,l in zip(tokens, offset_mapping,labels):\n",
    "    if l!=\"O\":\n",
    "        print(f\"{token}: {offset} : {l}\")\n"
   ]
  },
  {
   "cell_type": "code",
   "execution_count": 57,
   "id": "5fa5cd67",
   "metadata": {},
   "outputs": [
    {
     "data": {
      "text/plain": [
       "'from m'"
      ]
     },
     "execution_count": 57,
     "metadata": {},
     "output_type": "execute_result"
    }
   ],
   "source": [
    "full_text[1863:1869]"
   ]
  },
  {
   "cell_type": "code",
   "execution_count": 58,
   "id": "0682243e",
   "metadata": {
    "scrolled": true
   },
   "outputs": [
    {
     "data": {
      "text/plain": [
       "\"REFLECTION – VIZUALIZATION\\n\\n-  By Zohaib Ashraf\\n\\nBeing a design enthusiast, I had an opportunity to participate in the Design thinking workshop  held by Odisha Design Council chairman, Akshay Kumari. It was a 3-day workshop and  included 18 participants. During this workshop, we were divided into teams of 2 and given a  challenge to solve using design thinking processes.     1. Challenge  During the post-lockdown phase, many citizens have started returning to their native and are  in a dilemma to find a suitable place to self-quarantine for 14 days. We were asked to provide  a simple solution to help these members to curb the spread of COVID-19 by taking a specific  case into consideration. This included a client, user, and the area which needs to be  considered to find a solution. Self-quarantine measures had to be taken into consideration.   I was teamed up with Matheus Kumari, a graphic designer from Odisha, India. Based on the  problem statement, I had to design solutions for Matheus Kumari, and he had to develop  solutions for me. From my perspective, Matheus Kumari was my client, and he decided that his  grandfather is returning to his house. Hence, in this case, the user is Matheus Kumari's  grandfather. The problem statement area was a 1 BHK house, and there were a total of 3  secondary users (Matheus Kumari, his dad, and his mom) and a pet (Cat).   I had to find a solution to ensure that his grandfather will be able to quarantine himself while  the rest 4 will be able to live in the house while minimizing contact but ensuring that they are  there to help his grandfather whenever required.     2. Selection  Being a hypothetical situation and not knowing his grandfather, I had to use Visualisation and  details provided by the client to understand the problem statement from their point of view  and make them see the solution from my point of view. Visualization is the act of representing  a situation or set of information in pictures. I believe that using pictures instead of words can  make people understand and connect in a much better way. This has been very well shown  in video 6 of Week 1 by Angela Meyer.     3. Application  The diagram below depicts a picture of Matheus Kumari's home. Some furniture is movable,  and some are not movable. To create solutions for his grandfather to self-quarantine, I asked  if he could make a PSD (Photoshop) file so that I will be able to understand his situation  better. He sent me the following file:\\n\\nThe first thought process was to find a way to create a partition in the house to avoid any  unnecessary contact. This had to be a temporary partition as his grandfather had to self - quarantine only for 14 days. Also, during this pandemic, it's hard to buy wooden or PUF  partitions. Hence, I thought of using movable-furniture to create a temporary partition. The  PSD file helped me by providing a lot of freedom to rearrange the furniture. The following  diagram shows the temporary partition created:\\n\\nNext, I had to go through his grandfather's daily activities and make a list of the assistance he  required. He had to be given food and medicine. He had a weak vision and was not good with  technology. All unnecessary things were removed from that part of the room, and it was kept  spacious and clean.\\n\\nSince they had only a single toilet and washroom, his grandfather had to wear gloves and  mask while using them, and the family was asked to clean the bathroom and lavatory after  his grandfather uses it.  A table was added so that food and medicine can be served. Once Matheus's grandfather  finished having food, he can drop them in the bucket filled with soap water, which can be  taken away after 2 hours. The second bucket is to be used to discard used masks and gloves.    4. Insight and Approach  My main aim was to create a people-centered solution to this temporary problem. I wanted  to create a solution that would cost them less and help them overcome this period without  complications. Using Visualization not only helped me to understand the problem, but it also  helped me to find the solution and also helped Unmesh to understand the solution. Also, I  was only given a day to find a solution. Therefore using Visualization was apt. If I had a lot of  time, I would have done some data research and mind-mapping and then used the patterns  to find the solution. Still, I believe that I would not have been able to adequately describe the  solution to Unmesh without using Visualization.  Once I finished this project, it helped me to understand the importance of visualization and  how we can use it to find effective solutions quickly.\\n\\n\""
      ]
     },
     "execution_count": 58,
     "metadata": {},
     "output_type": "execute_result"
    }
   ],
   "source": [
    "full_text"
   ]
  },
  {
   "cell_type": "code",
   "execution_count": 59,
   "id": "98d489a9",
   "metadata": {
    "scrolled": false
   },
   "outputs": [
    {
     "name": "stdout",
     "output_type": "stream",
     "text": [
      "Student: Maria Amin  Coursera: Design Thinking for Innovation, Maria Amin, UVA    Challenge:  The design thinking tool I chose from the Design Thinking course was storytelling.  This is a  skill I have wanted to improve as some of the most successful consultants I work with are great  storytellers.  Traditionally, the way we sell consulting within our service line is to identify the client's  current issues and demonstrate our group’s capabilities to address them.  We needed to change the way  we told our group's consulting story.  A story that moves from a capabilities to character-driven  approach that all team members could tell and customers wanted to hear.     Selection: Our consulting sales practice is based on developing relationships based on high value and  trust.  As a result, I chose storytelling as a tool to build on connecting with clients in the way Design  Thinking week 2 lecture described it “as a way to make a strategy relate-able, to give it color, life,  through character and plot.\" The lecture finally gave me a framework to build a story, develop suspense,  and create a seemingly simple answer.  I believe this simplicity is a key to building trust and developing  relationships with clients.       Application:  I began with white-boarding the steps of storytelling with a colleague in a two-hour design  thinking session. We sectioned off parts of the walls with the 5 areas:  main character, sell the challenge,  fellowship, tensions, and a path to move forward.  From a host of different characters, we started with  our main character as Valerie, a high level executive and a potential customer, tasked by her CEO with a  new annual goal to create a digital strategy to increase revenue for her business unit. We brainstormed  all the different ways Valerie could try to achieve this goal utilizing different colored sticky notes.   We  used the petal visualization tool as described in the week 3: Meandyouhealth story part 1 to map out  the fellowship step to fully understand the people associated with Valerie.  This visually connected the  tensions that each relationship created, their needs, and how we could overcome them through our  story.  We put an action item in our \"parking lot\" to mind map these relationships further to create new  solutions and offerings for these customers and channels.  We also planned to evaluate each  relationship as one that might need its own story crafted.  The path to move step was perhaps the  easiest as we aligned outcomes, activities, and outputs with Valerie's needs.  The alignment was  essential to create a simple solution and key to our story's purpose of building trust and rapport.         Insight: Our efficient minds hoped that this one session would create a story that would resonate,  however, we had to redo the white-boarding exercise again as we found we had an additional audience:  our consulting colleagues and leadership.  We had to add a layer to the story to engage our service line  leaders and to promote our new story internally.   After iterating on our final storyline, we tested with  select members of our audience through intentional practice sessions and in actual sales situations.   Feedback from these sessions was extremely beneficial and requires us to continue to iterate and adapt  the story.       Approach:  Our story, as technology consultants, needs to change as technology and our client's needs  change.  As a result, we will need to iterate our story continuously.  I will keep the framework of  storytelling as a tool to use again.  One of my challenges will be to create a few different characters and  plots for the different personas we work with and sell to.  As mentioned before, as a team we need to  revisit and build out the value and tensions for each of our fellowship members so we can create stories  that resonate with our different customers, internal and external.  In general, I was very pleased with  the process and results of our first story and I am looking forward to furthering my storytelling skills.\n",
      "\n",
      "\n"
     ]
    }
   ],
   "source": [
    "print(df.full_text.sample(1).values[0])"
   ]
  },
  {
   "cell_type": "code",
   "execution_count": 60,
   "id": "b35173a1",
   "metadata": {
    "scrolled": true
   },
   "outputs": [
    {
     "name": "stdout",
     "output_type": "stream",
     "text": [
      "REFLECTION – VIZUALIZATION\n",
      "\n",
      "-  By Zohaib Ashraf\n",
      "\n",
      "Being a design enthusiast, I had an opportunity to participate in the Design thinking workshop  held by Odisha Design Council chairman, Akshay Kumari. It was a 3-day workshop and  included 18 participants. During this workshop, we were divided into teams of 2 and given a  challenge to solve using design thinking processes.     1. Challenge  During the post-lockdown phase, many citizens have started returning to their native and are  in a dilemma to find a suitable place to self-quarantine for 14 days. We were asked to provide  a simple solution to help these members to curb the spread of COVID-19 by taking a specific  case into consideration. This included a client, user, and the area which needs to be  considered to find a solution. Self-quarantine measures had to be taken into consideration.   I was teamed up with Matheus Kumari, a graphic designer from Odisha, India. Based on the  problem statement, I had to design solutions for Matheus Kumari, and he had to develop  solutions for me. From my perspective, Matheus Kumari was my client, and he decided that his  grandfather is returning to his house. Hence, in this case, the user is Matheus Kumari's  grandfather. The problem statement area was a 1 BHK house, and there were a total of 3  secondary users (Matheus Kumari, his dad, and his mom) and a pet (Cat).   I had to find a solution to ensure that his grandfather will be able to quarantine himself while  the rest 4 will be able to live in the house while minimizing contact but ensuring that they are  there to help his grandfather whenever required.     2. Selection  Being a hypothetical situation and not knowing his grandfather, I had to use Visualisation and  details provided by the client to understand the problem statement from their point of view  and make them see the solution from my point of view. Visualization is the act of representing  a situation or set of information in pictures. I believe that using pictures instead of words can  make people understand and connect in a much better way. This has been very well shown  in video 6 of Week 1 by Angela Meyer.     3. Application  The diagram below depicts a picture of Matheus Kumari's home. Some furniture is movable,  and some are not movable. To create solutions for his grandfather to self-quarantine, I asked  if he could make a PSD (Photoshop) file so that I will be able to understand his situation  better. He sent me the following file:\n",
      "\n",
      "The first thought process was to find a way to create a partition in the house to avoid any  unnecessary contact. This had to be a temporary partition as his grandfather had to self - quarantine only for 14 days. Also, during this pandemic, it's hard to buy wooden or PUF  partitions. Hence, I thought of using movable-furniture to create a temporary partition. The  PSD file helped me by providing a lot of freedom to rearrange the furniture. The following  diagram shows the temporary partition created:\n",
      "\n",
      "Next, I had to go through his grandfather's daily activities and make a list of the assistance he  required. He had to be given food and medicine. He had a weak vision and was not good with  technology. All unnecessary things were removed from that part of the room, and it was kept  spacious and clean.\n",
      "\n",
      "Since they had only a single toilet and washroom, his grandfather had to wear gloves and  mask while using them, and the family was asked to clean the bathroom and lavatory after  his grandfather uses it.  A table was added so that food and medicine can be served. Once Matheus's grandfather  finished having food, he can drop them in the bucket filled with soap water, which can be  taken away after 2 hours. The second bucket is to be used to discard used masks and gloves.    4. Insight and Approach  My main aim was to create a people-centered solution to this temporary problem. I wanted  to create a solution that would cost them less and help them overcome this period without  complications. Using Visualization not only helped me to understand the problem, but it also  helped me to find the solution and also helped Unmesh to understand the solution. Also, I  was only given a day to find a solution. Therefore using Visualization was apt. If I had a lot of  time, I would have done some data research and mind-mapping and then used the patterns  to find the solution. Still, I believe that I would not have been able to adequately describe the  solution to Unmesh without using Visualization.  Once I finished this project, it helped me to understand the importance of visualization and  how we can use it to find effective solutions quickly.\n",
      "\n",
      "\n"
     ]
    }
   ],
   "source": [
    "print(full_text)"
   ]
  },
  {
   "cell_type": "code",
   "execution_count": 61,
   "id": "dfa9b0d4",
   "metadata": {},
   "outputs": [],
   "source": [
    "# pip install spacy"
   ]
  },
  {
   "cell_type": "code",
   "execution_count": 62,
   "id": "774ec67c",
   "metadata": {},
   "outputs": [],
   "source": [
    "import spacy\n",
    "from spacy import displacy\n",
    "from pylab import cm, matplotlib\n",
    "import os\n",
    "\n",
    "colors = {\n",
    "            'NAME_STUDENT': '#8000ff',\n",
    "            'EMAIL': '#2b7ff6',\n",
    "            'USERNAME': '#2adddd',\n",
    "            'ID_NUM': '#80ffb4',\n",
    "            'PHONE_NUM': 'd4dd80',\n",
    "            'URL_PERSONAL': '#ff8042',\n",
    "            'STREET_ADDRESS': '#ff0000'\n",
    "         }\n",
    "\n",
    "\n",
    "def visualize(full_text,offset_mapping,labels):\n",
    "    \n",
    "    ents = []\n",
    "    for offset,lab in zip(offset_mapping,labels):\n",
    "        ents.append({\n",
    "                        'start': int(offset[0]), \n",
    "                         'end': int(offset[1]), \n",
    "                         'label': str(lab.split('-')[1]) #+ ' - ' + str(row['discourse_effectiveness'])\n",
    "                    })\n",
    "\n",
    "    doc2 = {\n",
    "        \"text\": full_text,\n",
    "        \"ents\": ents,\n",
    "#         \"title\": \"idx\"\n",
    "    }\n",
    "\n",
    "    options = {\"ents\": list(colors.keys()), \"colors\": colors}\n",
    "    displacy.render(doc2, style=\"ent\", options=options, manual=True, jupyter=True)"
   ]
  },
  {
   "cell_type": "code",
   "execution_count": 63,
   "id": "d2b10295",
   "metadata": {},
   "outputs": [],
   "source": [
    "offset_mapping_ = [x for (x,y) in zip(offset_mapping,labels) if y!=\"O\"]\n",
    "labels_ = [x for x in labels if x!=\"O\"]"
   ]
  },
  {
   "cell_type": "code",
   "execution_count": 64,
   "id": "1f270391",
   "metadata": {
    "scrolled": false
   },
   "outputs": [
    {
     "data": {
      "text/html": [
       "<span class=\"tex2jax_ignore\"><div class=\"entities\" style=\"line-height: 2.5; direction: ltr\">REFLECTION – VIZUALIZATION<br><br>-  By \n",
       "<mark class=\"entity\" style=\"background: #8000ff; padding: 0.45em 0.6em; margin: 0 0.25em; line-height: 1; border-radius: 0.35em;\">\n",
       "    Zohaib\n",
       "    <span style=\"font-size: 0.8em; font-weight: bold; line-height: 1; border-radius: 0.35em; vertical-align: middle; margin-left: 0.5rem\">NAME_STUDENT</span>\n",
       "</mark>\n",
       " \n",
       "<mark class=\"entity\" style=\"background: #8000ff; padding: 0.45em 0.6em; margin: 0 0.25em; line-height: 1; border-radius: 0.35em;\">\n",
       "    Ashraf\n",
       "    <span style=\"font-size: 0.8em; font-weight: bold; line-height: 1; border-radius: 0.35em; vertical-align: middle; margin-left: 0.5rem\">NAME_STUDENT</span>\n",
       "</mark>\n",
       "<br><br>Being a design enthusiast, I had an opportunity to participate in the Design thinking workshop  held by Odisha Design Council chairman, Akshay Kumari. It was a 3-day workshop and  included 18 participants. During this workshop, we were divided into teams of 2 and given a  challenge to solve using design thinking processes.     1. Challenge  During the post-lockdown phase, many citizens have started returning to their native and are  in a dilemma to find a suitable place to self-quarantine for 14 days. We were asked to provide  a simple solution to help these members to curb the spread of COVID-19 by taking a specific  case into consideration. This included a client, user, and the area which needs to be  considered to find a solution. Self-quarantine measures had to be taken into consideration.   I was teamed up with \n",
       "<mark class=\"entity\" style=\"background: #8000ff; padding: 0.45em 0.6em; margin: 0 0.25em; line-height: 1; border-radius: 0.35em;\">\n",
       "    Matheus\n",
       "    <span style=\"font-size: 0.8em; font-weight: bold; line-height: 1; border-radius: 0.35em; vertical-align: middle; margin-left: 0.5rem\">NAME_STUDENT</span>\n",
       "</mark>\n",
       " \n",
       "<mark class=\"entity\" style=\"background: #8000ff; padding: 0.45em 0.6em; margin: 0 0.25em; line-height: 1; border-radius: 0.35em;\">\n",
       "    Kumari\n",
       "    <span style=\"font-size: 0.8em; font-weight: bold; line-height: 1; border-radius: 0.35em; vertical-align: middle; margin-left: 0.5rem\">NAME_STUDENT</span>\n",
       "</mark>\n",
       ", a graphic designer from Odisha, India. Based on the  problem statement, I had to design solutions for \n",
       "<mark class=\"entity\" style=\"background: #8000ff; padding: 0.45em 0.6em; margin: 0 0.25em; line-height: 1; border-radius: 0.35em;\">\n",
       "    Matheus\n",
       "    <span style=\"font-size: 0.8em; font-weight: bold; line-height: 1; border-radius: 0.35em; vertical-align: middle; margin-left: 0.5rem\">NAME_STUDENT</span>\n",
       "</mark>\n",
       " \n",
       "<mark class=\"entity\" style=\"background: #8000ff; padding: 0.45em 0.6em; margin: 0 0.25em; line-height: 1; border-radius: 0.35em;\">\n",
       "    Kumari\n",
       "    <span style=\"font-size: 0.8em; font-weight: bold; line-height: 1; border-radius: 0.35em; vertical-align: middle; margin-left: 0.5rem\">NAME_STUDENT</span>\n",
       "</mark>\n",
       ", and he had to develop  solutions for me. From my perspective, \n",
       "<mark class=\"entity\" style=\"background: #8000ff; padding: 0.45em 0.6em; margin: 0 0.25em; line-height: 1; border-radius: 0.35em;\">\n",
       "    Matheus\n",
       "    <span style=\"font-size: 0.8em; font-weight: bold; line-height: 1; border-radius: 0.35em; vertical-align: middle; margin-left: 0.5rem\">NAME_STUDENT</span>\n",
       "</mark>\n",
       " \n",
       "<mark class=\"entity\" style=\"background: #8000ff; padding: 0.45em 0.6em; margin: 0 0.25em; line-height: 1; border-radius: 0.35em;\">\n",
       "    Kumari\n",
       "    <span style=\"font-size: 0.8em; font-weight: bold; line-height: 1; border-radius: 0.35em; vertical-align: middle; margin-left: 0.5rem\">NAME_STUDENT</span>\n",
       "</mark>\n",
       " was my client, and he decided that his  grandfather is returning to his house. Hence, in this case, the user is \n",
       "<mark class=\"entity\" style=\"background: #8000ff; padding: 0.45em 0.6em; margin: 0 0.25em; line-height: 1; border-radius: 0.35em;\">\n",
       "    Matheus\n",
       "    <span style=\"font-size: 0.8em; font-weight: bold; line-height: 1; border-radius: 0.35em; vertical-align: middle; margin-left: 0.5rem\">NAME_STUDENT</span>\n",
       "</mark>\n",
       " \n",
       "<mark class=\"entity\" style=\"background: #8000ff; padding: 0.45em 0.6em; margin: 0 0.25em; line-height: 1; border-radius: 0.35em;\">\n",
       "    Kumari\n",
       "    <span style=\"font-size: 0.8em; font-weight: bold; line-height: 1; border-radius: 0.35em; vertical-align: middle; margin-left: 0.5rem\">NAME_STUDENT</span>\n",
       "</mark>\n",
       "'s  grandfather. The problem statement area was a 1 BHK house, and there were a total of 3  secondary users (\n",
       "<mark class=\"entity\" style=\"background: #8000ff; padding: 0.45em 0.6em; margin: 0 0.25em; line-height: 1; border-radius: 0.35em;\">\n",
       "    Matheus\n",
       "    <span style=\"font-size: 0.8em; font-weight: bold; line-height: 1; border-radius: 0.35em; vertical-align: middle; margin-left: 0.5rem\">NAME_STUDENT</span>\n",
       "</mark>\n",
       " \n",
       "<mark class=\"entity\" style=\"background: #8000ff; padding: 0.45em 0.6em; margin: 0 0.25em; line-height: 1; border-radius: 0.35em;\">\n",
       "    Kumari\n",
       "    <span style=\"font-size: 0.8em; font-weight: bold; line-height: 1; border-radius: 0.35em; vertical-align: middle; margin-left: 0.5rem\">NAME_STUDENT</span>\n",
       "</mark>\n",
       ", his dad, and his mom) and a pet (Cat).   I had to find a solution to ensure that his grandfather will be able to quarantine himself while  the rest 4 will be able to live in the house while minimizing contact but ensuring that they are  there to help his grandfather whenever required.     2. Selection  Being a hypothetical situation and not knowing his grandfather, I had to use Visualisation and  details provided by the client to understand the problem statement from their point of view  and make them see the solution from my point of view. Visualization is the act of representing  a situation or set of information in pictures. I believe that using pictures instead of words can  make people understand and connect in a much better way. This has been very well shown  in video 6 of Week 1 by Angela Meyer.     3. Application  The diagram below depicts a picture of \n",
       "<mark class=\"entity\" style=\"background: #8000ff; padding: 0.45em 0.6em; margin: 0 0.25em; line-height: 1; border-radius: 0.35em;\">\n",
       "    Matheus\n",
       "    <span style=\"font-size: 0.8em; font-weight: bold; line-height: 1; border-radius: 0.35em; vertical-align: middle; margin-left: 0.5rem\">NAME_STUDENT</span>\n",
       "</mark>\n",
       " \n",
       "<mark class=\"entity\" style=\"background: #8000ff; padding: 0.45em 0.6em; margin: 0 0.25em; line-height: 1; border-radius: 0.35em;\">\n",
       "    Kumari\n",
       "    <span style=\"font-size: 0.8em; font-weight: bold; line-height: 1; border-radius: 0.35em; vertical-align: middle; margin-left: 0.5rem\">NAME_STUDENT</span>\n",
       "</mark>\n",
       "'s home. Some furniture is movable,  and some are not movable. To create solutions for his grandfather to self-quarantine, I asked  if he could make a PSD (Photoshop) file so that I will be able to understand his situation  better. He sent me the following file:<br><br>The first thought process was to find a way to create a partition in the house to avoid any  unnecessary contact. This had to be a temporary partition as his grandfather had to self - quarantine only for 14 days. Also, during this pandemic, it's hard to buy wooden or PUF  partitions. Hence, I thought of using movable-furniture to create a temporary partition. The  PSD file helped me by providing a lot of freedom to rearrange the furniture. The following  diagram shows the temporary partition created:<br><br>Next, I had to go through his grandfather's daily activities and make a list of the assistance he  required. He had to be given food and medicine. He had a weak vision and was not good with  technology. All unnecessary things were removed from that part of the room, and it was kept  spacious and clean.<br><br>Since they had only a single toilet and washroom, his grandfather had to wear gloves and  mask while using them, and the family was asked to clean the bathroom and lavatory after  his grandfather uses it.  A table was added so that food and medicine can be served. Once \n",
       "<mark class=\"entity\" style=\"background: #8000ff; padding: 0.45em 0.6em; margin: 0 0.25em; line-height: 1; border-radius: 0.35em;\">\n",
       "    Matheus\n",
       "    <span style=\"font-size: 0.8em; font-weight: bold; line-height: 1; border-radius: 0.35em; vertical-align: middle; margin-left: 0.5rem\">NAME_STUDENT</span>\n",
       "</mark>\n",
       "'s grandfather  finished having food, he can drop them in the bucket filled with soap water, which can be  taken away after 2 hours. The second bucket is to be used to discard used masks and gloves.    4. Insight and Approach  My main aim was to create a people-centered solution to this temporary problem. I wanted  to create a solution that would cost them less and help them overcome this period without  complications. Using Visualization not only helped me to understand the problem, but it also  helped me to find the solution and also helped Unmesh to understand the solution. Also, I  was only given a day to find a solution. Therefore using Visualization was apt. If I had a lot of  time, I would have done some data research and mind-mapping and then used the patterns  to find the solution. Still, I believe that I would not have been able to adequately describe the  solution to Unmesh without using Visualization.  Once I finished this project, it helped me to understand the importance of visualization and  how we can use it to find effective solutions quickly.<br><br></div></span>"
      ],
      "text/plain": [
       "<IPython.core.display.HTML object>"
      ]
     },
     "metadata": {},
     "output_type": "display_data"
    }
   ],
   "source": [
    "visualize(full_text,offset_mapping_,labels_)"
   ]
  },
  {
   "cell_type": "code",
   "execution_count": null,
   "id": "8e21e190",
   "metadata": {},
   "outputs": [],
   "source": []
  }
 ],
 "metadata": {
  "kernelspec": {
   "display_name": "Python 3 (ipykernel)",
   "language": "python",
   "name": "python3"
  },
  "language_info": {
   "codemirror_mode": {
    "name": "ipython",
    "version": 3
   },
   "file_extension": ".py",
   "mimetype": "text/x-python",
   "name": "python",
   "nbconvert_exporter": "python",
   "pygments_lexer": "ipython3",
   "version": "3.10.9"
  }
 },
 "nbformat": 4,
 "nbformat_minor": 5
}

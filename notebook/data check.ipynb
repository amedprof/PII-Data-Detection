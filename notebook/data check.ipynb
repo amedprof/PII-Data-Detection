{
 "cells": [
  {
   "cell_type": "code",
   "execution_count": 1,
   "id": "1d487dba",
   "metadata": {},
   "outputs": [
    {
     "name": "stdout",
     "output_type": "stream",
     "text": [
      "/workspace/Script/NLP/PII/src\n"
     ]
    }
   ],
   "source": [
    "cd ../src"
   ]
  },
  {
   "cell_type": "code",
   "execution_count": 2,
   "id": "84bf958e",
   "metadata": {},
   "outputs": [],
   "source": [
    "import os\n",
    "import gc\n",
    "import sys\n",
    "import json\n",
    "import time\n",
    "import torch\n",
    "import joblib\n",
    "import random\n",
    "import numpy as np\n",
    "import pandas as pd\n",
    "from tqdm.auto import tqdm\n",
    "from pathlib import Path\n",
    "import plotly.express as px\n",
    "import matplotlib.pyplot as plt\n",
    "\n",
    "pd.set_option('display.max_rows', 500)\n",
    "pd.set_option('display.max_columns', 500)\n",
    "pd.set_option('display.width', 1000)\n",
    "pd.set_option('display.float_format', lambda x: '%.4f' % x)"
   ]
  },
  {
   "cell_type": "code",
   "execution_count": 3,
   "id": "1602e96c",
   "metadata": {},
   "outputs": [],
   "source": [
    "from data.data_utils import get_offset_mapping\n",
    "from data.dataset import FeedbackDataset"
   ]
  },
  {
   "cell_type": "code",
   "execution_count": 4,
   "id": "a8e6197a",
   "metadata": {},
   "outputs": [
    {
     "name": "stdout",
     "output_type": "stream",
     "text": [
      "env: TOKENIZERS_PARALLELISM=true\n"
     ]
    }
   ],
   "source": [
    "from transformers import DataCollatorWithPadding\n",
    "from transformers import AutoTokenizer, AutoModel, AutoConfig\n",
    "\n",
    "%env TOKENIZERS_PARALLELISM = true"
   ]
  },
  {
   "cell_type": "markdown",
   "id": "8895aef6",
   "metadata": {},
   "source": [
    "# Params"
   ]
  },
  {
   "cell_type": "code",
   "execution_count": 5,
   "id": "5d0104cc",
   "metadata": {},
   "outputs": [
    {
     "data": {
      "text/plain": [
       "['train.json',\n",
       " 'pii_dataset_fixed.csv',\n",
       " 'mixtral-8x7b-v1.json',\n",
       " '.~lock.lecture2.pptx#',\n",
       " 'lecture2.pptx',\n",
       " 'test.json',\n",
       " 'moredata_dataset_fixed.csv',\n",
       " 'sample_submission.csv']"
      ]
     },
     "execution_count": 5,
     "metadata": {},
     "output_type": "execute_result"
    }
   ],
   "source": [
    "data_path = Path(r\"/database/kaggle/PII/data\")\n",
    "os.listdir(data_path)"
   ]
  },
  {
   "cell_type": "code",
   "execution_count": 6,
   "id": "73fc670f",
   "metadata": {},
   "outputs": [
    {
     "data": {
      "text/plain": [
       "(26, 4)"
      ]
     },
     "execution_count": 6,
     "metadata": {},
     "output_type": "execute_result"
    }
   ],
   "source": [
    "sample_df = pd.read_csv(data_path/'sample_submission.csv')\n",
    "sample_df.shape"
   ]
  },
  {
   "cell_type": "code",
   "execution_count": 7,
   "id": "ced5d03d",
   "metadata": {},
   "outputs": [
    {
     "data": {
      "text/html": [
       "<div>\n",
       "<style scoped>\n",
       "    .dataframe tbody tr th:only-of-type {\n",
       "        vertical-align: middle;\n",
       "    }\n",
       "\n",
       "    .dataframe tbody tr th {\n",
       "        vertical-align: top;\n",
       "    }\n",
       "\n",
       "    .dataframe thead th {\n",
       "        text-align: right;\n",
       "    }\n",
       "</style>\n",
       "<table border=\"1\" class=\"dataframe\">\n",
       "  <thead>\n",
       "    <tr style=\"text-align: right;\">\n",
       "      <th></th>\n",
       "      <th>row_id</th>\n",
       "      <th>document</th>\n",
       "      <th>token</th>\n",
       "      <th>label</th>\n",
       "    </tr>\n",
       "  </thead>\n",
       "  <tbody>\n",
       "    <tr>\n",
       "      <th>0</th>\n",
       "      <td>0</td>\n",
       "      <td>7</td>\n",
       "      <td>9</td>\n",
       "      <td>B-NAME_STUDENT</td>\n",
       "    </tr>\n",
       "    <tr>\n",
       "      <th>1</th>\n",
       "      <td>1</td>\n",
       "      <td>7</td>\n",
       "      <td>10</td>\n",
       "      <td>I-NAME_STUDENT</td>\n",
       "    </tr>\n",
       "    <tr>\n",
       "      <th>2</th>\n",
       "      <td>2</td>\n",
       "      <td>7</td>\n",
       "      <td>482</td>\n",
       "      <td>B-NAME_STUDENT</td>\n",
       "    </tr>\n",
       "    <tr>\n",
       "      <th>3</th>\n",
       "      <td>3</td>\n",
       "      <td>7</td>\n",
       "      <td>483</td>\n",
       "      <td>I-NAME_STUDENT</td>\n",
       "    </tr>\n",
       "    <tr>\n",
       "      <th>4</th>\n",
       "      <td>4</td>\n",
       "      <td>7</td>\n",
       "      <td>741</td>\n",
       "      <td>B-NAME_STUDENT</td>\n",
       "    </tr>\n",
       "  </tbody>\n",
       "</table>\n",
       "</div>"
      ],
      "text/plain": [
       "   row_id  document  token           label\n",
       "0       0         7      9  B-NAME_STUDENT\n",
       "1       1         7     10  I-NAME_STUDENT\n",
       "2       2         7    482  B-NAME_STUDENT\n",
       "3       3         7    483  I-NAME_STUDENT\n",
       "4       4         7    741  B-NAME_STUDENT"
      ]
     },
     "execution_count": 7,
     "metadata": {},
     "output_type": "execute_result"
    }
   ],
   "source": [
    "sample_df.head(5)"
   ]
  },
  {
   "cell_type": "code",
   "execution_count": 8,
   "id": "80aa459d",
   "metadata": {},
   "outputs": [
    {
     "data": {
      "text/plain": [
       "array(['B-NAME_STUDENT', 'I-NAME_STUDENT'], dtype=object)"
      ]
     },
     "execution_count": 8,
     "metadata": {},
     "output_type": "execute_result"
    }
   ],
   "source": [
    "sample_df.label.unique()"
   ]
  },
  {
   "cell_type": "code",
   "execution_count": 132,
   "id": "bc125ae5",
   "metadata": {},
   "outputs": [
    {
     "data": {
      "text/plain": [
       "(6807, 5)"
      ]
     },
     "execution_count": 132,
     "metadata": {},
     "output_type": "execute_result"
    }
   ],
   "source": [
    "df = pd.read_json(data_path/'train.json')\n",
    "df.shape"
   ]
  },
  {
   "cell_type": "code",
   "execution_count": 133,
   "id": "777aa2f4",
   "metadata": {},
   "outputs": [
    {
     "data": {
      "text/html": [
       "<div>\n",
       "<style scoped>\n",
       "    .dataframe tbody tr th:only-of-type {\n",
       "        vertical-align: middle;\n",
       "    }\n",
       "\n",
       "    .dataframe tbody tr th {\n",
       "        vertical-align: top;\n",
       "    }\n",
       "\n",
       "    .dataframe thead th {\n",
       "        text-align: right;\n",
       "    }\n",
       "</style>\n",
       "<table border=\"1\" class=\"dataframe\">\n",
       "  <thead>\n",
       "    <tr style=\"text-align: right;\">\n",
       "      <th></th>\n",
       "      <th>document</th>\n",
       "      <th>full_text</th>\n",
       "      <th>tokens</th>\n",
       "      <th>trailing_whitespace</th>\n",
       "      <th>labels</th>\n",
       "    </tr>\n",
       "  </thead>\n",
       "  <tbody>\n",
       "    <tr>\n",
       "      <th>0</th>\n",
       "      <td>7</td>\n",
       "      <td>Design Thinking for innovation reflexion-Avril...</td>\n",
       "      <td>[Design, Thinking, for, innovation, reflexion,...</td>\n",
       "      <td>[True, True, True, True, False, False, True, F...</td>\n",
       "      <td>[O, O, O, O, O, O, O, O, O, B-NAME_STUDENT, I-...</td>\n",
       "    </tr>\n",
       "    <tr>\n",
       "      <th>1</th>\n",
       "      <td>10</td>\n",
       "      <td>Diego Estrada\\n\\nDesign Thinking Assignment\\n\\...</td>\n",
       "      <td>[Diego, Estrada, \\n\\n, Design, Thinking, Assig...</td>\n",
       "      <td>[True, False, False, True, True, False, False,...</td>\n",
       "      <td>[B-NAME_STUDENT, I-NAME_STUDENT, O, O, O, O, O...</td>\n",
       "    </tr>\n",
       "  </tbody>\n",
       "</table>\n",
       "</div>"
      ],
      "text/plain": [
       "   document                                          full_text                                             tokens                                trailing_whitespace                                             labels\n",
       "0         7  Design Thinking for innovation reflexion-Avril...  [Design, Thinking, for, innovation, reflexion,...  [True, True, True, True, False, False, True, F...  [O, O, O, O, O, O, O, O, O, B-NAME_STUDENT, I-...\n",
       "1        10  Diego Estrada\\n\\nDesign Thinking Assignment\\n\\...  [Diego, Estrada, \\n\\n, Design, Thinking, Assig...  [True, False, False, True, True, False, False,...  [B-NAME_STUDENT, I-NAME_STUDENT, O, O, O, O, O..."
      ]
     },
     "execution_count": 133,
     "metadata": {},
     "output_type": "execute_result"
    }
   ],
   "source": [
    "df.head(2)"
   ]
  },
  {
   "cell_type": "code",
   "execution_count": 134,
   "id": "dfc7b295",
   "metadata": {},
   "outputs": [
    {
     "data": {
      "text/plain": [
       "8"
      ]
     },
     "execution_count": 134,
     "metadata": {},
     "output_type": "execute_result"
    }
   ],
   "source": [
    "LABEL2TYPE = ('NAME_STUDENT','EMAIL','USERNAME','ID_NUM', 'PHONE_NUM','URL_PERSONAL','STREET_ADDRESS','O')\n",
    "len(LABEL2TYPE)"
   ]
  },
  {
   "cell_type": "code",
   "execution_count": 135,
   "id": "400ffd38",
   "metadata": {},
   "outputs": [],
   "source": [
    "for name in LABEL2TYPE[:-1]:\n",
    "    df[name] = ((df['labels'].transform(lambda x:len([i for i in x if i.split('-')[-1]==name ])))>0)*1"
   ]
  },
  {
   "cell_type": "code",
   "execution_count": 136,
   "id": "d6aa3e30",
   "metadata": {},
   "outputs": [],
   "source": [
    "df['nb_labels'] = df['labels'].transform(lambda x:len([i for i in x if i!=\"O\" ]))"
   ]
  },
  {
   "cell_type": "code",
   "execution_count": 137,
   "id": "38e76e79",
   "metadata": {
    "scrolled": true
   },
   "outputs": [
    {
     "data": {
      "text/plain": [
       "0     5862\n",
       "2      599\n",
       "4      108\n",
       "1       86\n",
       "3       52\n",
       "6       46\n",
       "8       14\n",
       "5       10\n",
       "12       6\n",
       "10       5\n",
       "11       3\n",
       "9        3\n",
       "15       2\n",
       "14       2\n",
       "21       2\n",
       "7        1\n",
       "23       1\n",
       "18       1\n",
       "17       1\n",
       "26       1\n",
       "34       1\n",
       "22       1\n",
       "Name: nb_labels, dtype: int64"
      ]
     },
     "execution_count": 137,
     "metadata": {},
     "output_type": "execute_result"
    }
   ],
   "source": [
    "df['nb_labels'].value_counts() "
   ]
  },
  {
   "cell_type": "code",
   "execution_count": 138,
   "id": "a59c9509",
   "metadata": {},
   "outputs": [
    {
     "data": {
      "text/plain": [
       "NAME_STUDENT       891\n",
       "EMAIL               24\n",
       "USERNAME             5\n",
       "ID_NUM              33\n",
       "PHONE_NUM            4\n",
       "URL_PERSONAL        72\n",
       "STREET_ADDRESS       2\n",
       "nb_labels         2739\n",
       "dtype: int64"
      ]
     },
     "execution_count": 138,
     "metadata": {},
     "output_type": "execute_result"
    }
   ],
   "source": [
    "df[list(LABEL2TYPE)[:-1]+['nb_labels']].sum()"
   ]
  },
  {
   "cell_type": "code",
   "execution_count": 139,
   "id": "db5e835b",
   "metadata": {},
   "outputs": [],
   "source": [
    "from iterstrat.ml_stratifiers import MultilabelStratifiedKFold"
   ]
  },
  {
   "cell_type": "code",
   "execution_count": 140,
   "id": "417a4149",
   "metadata": {},
   "outputs": [],
   "source": [
    "seeds = [42]\n",
    "folds_names = []\n",
    "for K in [5]:  \n",
    "    for seed in seeds:\n",
    "        mskf = MultilabelStratifiedKFold(n_splits=K,shuffle=True,random_state=seed)\n",
    "        name = f\"fold_msk_{K}_seed_{seed}\"\n",
    "        df[name] = -1\n",
    "        for fold, (trn_, val_) in enumerate(mskf.split(df,df[list(LABEL2TYPE)[:-1]])):\n",
    "            df.loc[val_, name] = fold"
   ]
  },
  {
   "cell_type": "code",
   "execution_count": 141,
   "id": "a92d9cfd",
   "metadata": {},
   "outputs": [
    {
     "data": {
      "text/html": [
       "<div>\n",
       "<style scoped>\n",
       "    .dataframe tbody tr th:only-of-type {\n",
       "        vertical-align: middle;\n",
       "    }\n",
       "\n",
       "    .dataframe tbody tr th {\n",
       "        vertical-align: top;\n",
       "    }\n",
       "\n",
       "    .dataframe thead th {\n",
       "        text-align: right;\n",
       "    }\n",
       "</style>\n",
       "<table border=\"1\" class=\"dataframe\">\n",
       "  <thead>\n",
       "    <tr style=\"text-align: right;\">\n",
       "      <th></th>\n",
       "      <th>NAME_STUDENT</th>\n",
       "      <th>EMAIL</th>\n",
       "      <th>USERNAME</th>\n",
       "      <th>ID_NUM</th>\n",
       "      <th>PHONE_NUM</th>\n",
       "      <th>URL_PERSONAL</th>\n",
       "      <th>STREET_ADDRESS</th>\n",
       "    </tr>\n",
       "    <tr>\n",
       "      <th>fold_msk_5_seed_42</th>\n",
       "      <th></th>\n",
       "      <th></th>\n",
       "      <th></th>\n",
       "      <th></th>\n",
       "      <th></th>\n",
       "      <th></th>\n",
       "      <th></th>\n",
       "    </tr>\n",
       "  </thead>\n",
       "  <tbody>\n",
       "    <tr>\n",
       "      <th>0</th>\n",
       "      <td>178</td>\n",
       "      <td>5</td>\n",
       "      <td>1</td>\n",
       "      <td>7</td>\n",
       "      <td>1</td>\n",
       "      <td>14</td>\n",
       "      <td>0</td>\n",
       "    </tr>\n",
       "    <tr>\n",
       "      <th>1</th>\n",
       "      <td>178</td>\n",
       "      <td>5</td>\n",
       "      <td>1</td>\n",
       "      <td>7</td>\n",
       "      <td>1</td>\n",
       "      <td>14</td>\n",
       "      <td>0</td>\n",
       "    </tr>\n",
       "    <tr>\n",
       "      <th>2</th>\n",
       "      <td>179</td>\n",
       "      <td>5</td>\n",
       "      <td>1</td>\n",
       "      <td>6</td>\n",
       "      <td>1</td>\n",
       "      <td>15</td>\n",
       "      <td>1</td>\n",
       "    </tr>\n",
       "    <tr>\n",
       "      <th>3</th>\n",
       "      <td>178</td>\n",
       "      <td>4</td>\n",
       "      <td>1</td>\n",
       "      <td>6</td>\n",
       "      <td>0</td>\n",
       "      <td>15</td>\n",
       "      <td>1</td>\n",
       "    </tr>\n",
       "    <tr>\n",
       "      <th>4</th>\n",
       "      <td>178</td>\n",
       "      <td>5</td>\n",
       "      <td>1</td>\n",
       "      <td>7</td>\n",
       "      <td>1</td>\n",
       "      <td>14</td>\n",
       "      <td>0</td>\n",
       "    </tr>\n",
       "  </tbody>\n",
       "</table>\n",
       "</div>"
      ],
      "text/plain": [
       "                    NAME_STUDENT  EMAIL  USERNAME  ID_NUM  PHONE_NUM  URL_PERSONAL  STREET_ADDRESS\n",
       "fold_msk_5_seed_42                                                                                \n",
       "0                            178      5         1       7          1            14               0\n",
       "1                            178      5         1       7          1            14               0\n",
       "2                            179      5         1       6          1            15               1\n",
       "3                            178      4         1       6          0            15               1\n",
       "4                            178      5         1       7          1            14               0"
      ]
     },
     "execution_count": 141,
     "metadata": {},
     "output_type": "execute_result"
    }
   ],
   "source": [
    "df.groupby(name)[list(LABEL2TYPE)[:-1]].sum()"
   ]
  },
  {
   "cell_type": "code",
   "execution_count": null,
   "id": "cb13f6ce",
   "metadata": {},
   "outputs": [],
   "source": []
  },
  {
   "cell_type": "code",
   "execution_count": 142,
   "id": "1350fb84",
   "metadata": {},
   "outputs": [
    {
     "name": "stderr",
     "output_type": "stream",
     "text": [
      "/home/jovyan/.local/lib/python3.10/site-packages/transformers/convert_slow_tokenizer.py:473: UserWarning: The sentencepiece tokenizer that you are converting to a fast tokenizer uses the byte fallback option which is not implemented in the fast tokenizers. In practice this means that the fast version of the tokenizer can produce unknown tokens whereas the sentencepiece version would have converted these unknown tokens into a sequence of byte tokens matching the original piece of text.\n",
      "  warnings.warn(\n"
     ]
    }
   ],
   "source": [
    "model_name = 'microsoft/deberta-v3-large'\n",
    "tokenizer = AutoTokenizer.from_pretrained(model_name)"
   ]
  },
  {
   "cell_type": "code",
   "execution_count": 143,
   "id": "6b8a1f4a",
   "metadata": {},
   "outputs": [
    {
     "name": "stdout",
     "output_type": "stream",
     "text": [
      "Warning : n SEP will be replace by | \n",
      "Loaded 6807 samples.\n"
     ]
    }
   ],
   "source": [
    "ds = FeedbackDataset(df.copy(),tokenizer)"
   ]
  },
  {
   "cell_type": "code",
   "execution_count": 154,
   "id": "105f6de3",
   "metadata": {},
   "outputs": [
    {
     "data": {
      "text/plain": [
       "(1103, 15)"
      ]
     },
     "execution_count": 154,
     "metadata": {},
     "output_type": "execute_result"
    }
   ],
   "source": [
    "idx = random.choice(ds.df[ds.df.STREET_ADDRESS>0].index)\n",
    "# Example usage:\n",
    "# idx = 80\n",
    "full_text_ds = ds.df.iloc[idx]['full_text']\n",
    "tokens_ds = ds.df.iloc[idx]['tokens']\n",
    "labels_ds = ds.df.iloc[idx]['labels']\n",
    "idx,ds.df.iloc[idx]['nb_labels']"
   ]
  },
  {
   "cell_type": "code",
   "execution_count": 155,
   "id": "d32ef3c1",
   "metadata": {},
   "outputs": [
    {
     "data": {
      "text/plain": [
       "(1103, 15)"
      ]
     },
     "execution_count": 155,
     "metadata": {},
     "output_type": "execute_result"
    }
   ],
   "source": [
    "full_text = df.iloc[idx]['full_text']\n",
    "tokens = df.iloc[idx]['tokens']\n",
    "labels = df.iloc[idx]['labels']\n",
    "idx,df.iloc[idx]['nb_labels']"
   ]
  },
  {
   "cell_type": "code",
   "execution_count": 156,
   "id": "8cfd0d9d",
   "metadata": {},
   "outputs": [
    {
     "name": "stdout",
     "output_type": "stream",
     "text": [
      "Waseem: (0, 6) : B-NAME_STUDENT\n",
      "Mabunda: (7, 14) : I-NAME_STUDENT\n",
      "591: (16, 19) : B-STREET_ADDRESS\n",
      "Smith: (20, 25) : I-STREET_ADDRESS\n",
      "Centers: (26, 33) : I-STREET_ADDRESS\n",
      "Apt: (34, 37) : I-STREET_ADDRESS\n",
      ".: (37, 38) : I-STREET_ADDRESS\n",
      "656: (39, 42) : I-STREET_ADDRESS\n",
      "\n",
      ": (42, 43) : I-STREET_ADDRESS\n",
      "Joshuamouth: (43, 54) : I-STREET_ADDRESS\n",
      ",: (54, 55) : I-STREET_ADDRESS\n",
      "RI: (56, 58) : I-STREET_ADDRESS\n",
      "95963: (59, 64) : I-STREET_ADDRESS\n",
      "410.526.1667: (85, 97) : B-PHONE_NUM\n",
      "https://www.youtube.com/watch?v=tIBN9VJ0S4a: (3242, 3285) : B-URL_PERSONAL\n"
     ]
    }
   ],
   "source": [
    "offset_mapping = get_offset_mapping(full_text, tokens)\n",
    "for token, offset,l in zip(tokens, offset_mapping,labels):\n",
    "    if l!=\"O\":\n",
    "        print(f\"{token}: {offset} : {l}\")"
   ]
  },
  {
   "cell_type": "code",
   "execution_count": 157,
   "id": "98d489a9",
   "metadata": {
    "scrolled": false
   },
   "outputs": [
    {
     "name": "stdout",
     "output_type": "stream",
     "text": [
      "Waseem Mabunda  591 Smith Centers Apt. 656\n",
      "Joshuamouth, RI 95963 ( The Netherlands)  410.526.1667  vpi@mn.nl\n",
      "\n",
      "Mind Mapping,      Challenge:     For several years I have been working for an Asset manager in the Netherlands. During this period I have been involved in many  projects. Certainly in the world of asset management, much has changed in recent years in the area of Law and Regulations.  What I mainly experience in these projects is that all departments have a different interest in starting a new project. This  certainly does not benefit the project. How do you get everyone to complete a project in the common interest and how do you  motivate everyone who participate in the project?    Selection:    An improvement project can be approached in different ways. The most common way is the scrum approach. We work in  multidisciplinary teams that work in short sprints, with a fixed length of 1 to 4 weeks. Cooperation is very important and  everyone must be able to respond quickly to changing circumstances. Scrum is based on the theory of empirical process  control, or empiricism. Empiricism assumes that knowledge arises from experience and making decisions based on what is  known.     I chose mind mapping because I am looking for a way to show the creativity colleagues always have at the start of a project,  to  keep this up to date and very important to keep it visible.   But also with the thoughts to keep colleagues motivated and to show how their creativity contributes to the project.    So I want to see if scrum can be combined with Design Thinking and especially with Mind mapping.    Application:    When starting a new project at work, I checked whether it is workable to combine the scrum approach with Mind Mapping. The  central theme was to increase the STP (Straight through processing) rate for a specific product that we trade with an x  percentage.    As a scrum team, we have tried to provide insight into the various topics related to the 'increase STP rate' via a paper diagram.  Each team member could indicate in this diagram his or her creativity which related to increasing the STP rate.    After this we went to see if there was a connection between certain ideas. We quickly learned that certain ideas could be  combined and that certain steps in the project could be skipped. By combining scrum work and mind mapping, we were able to  go live with implementation faster and increase STP speed step by step.    By making the project visible through a diagram, colleagues also indicated that this gave them more energy to participate in the  project.\n",
      "\n",
      "D e s i g n  T h i n k i n g\n",
      "\n",
      "Insight:    The insight I got to combine scrum with mind mapping (Design thinking) is that if you make everyone's creativity and thinking  visible through Mind mapping, you will come sooner to a solid solution to complete a project. The feedback we received is that  it also gives more energy to colleagues who have participated in this project.     The biggest challenge was to create support for this new way of working.     At the beginning of the project, we showed a short video of how mind mapping works. This gave us immediate support from  our fellow team members to combine scrum with mind mapping.      https://www.youtube.com/watch?v=tIBN9VJ0S4a    The conclusion is that you definitely can combine scrum and Design thinking.    Approach:    In terms of approach, I wouldn't be much different from what I did in this project. I only see advantages of combining scrum  with mind mapping. As described in the alinia insight, there are only benefits.\n",
      "\n",
      "\n"
     ]
    }
   ],
   "source": [
    "print(full_text)"
   ]
  },
  {
   "cell_type": "code",
   "execution_count": null,
   "id": "04b02382",
   "metadata": {},
   "outputs": [],
   "source": []
  },
  {
   "cell_type": "code",
   "execution_count": 158,
   "id": "0863aaa6",
   "metadata": {},
   "outputs": [
    {
     "name": "stdout",
     "output_type": "stream",
     "text": [
      "Waseem Mabunda 591 Smith Centers Apt. 656 Joshuamouth, RI 95963 ( The Netherlands) 410.526.1667 vpi@mn.nl | Mind Mapping, Challenge: For several years I have been working for an Asset manager in the Netherlands. During this period I have been involved in many projects. Certainly in the world of asset management, much has changed in recent years in the area of Law and Regulations. What I mainly experience in these projects is that all departments have a different interest in starting a new project. This certainly does not benefit the project. How do you get everyone to complete a project in the common interest and how do you motivate everyone who participate in the project? Selection: An improvement project can be approached in different ways. The most common way is the scrum approach. We work in multidisciplinary teams that work in short sprints, with a fixed length of 1 to 4 weeks. Cooperation is very important and everyone must be able to respond quickly to changing circumstances. Scrum is based on the theory of empirical process control, or empiricism. Empiricism assumes that knowledge arises from experience and making decisions based on what is known. I chose mind mapping because I am looking for a way to show the creativity colleagues always have at the start of a project, to keep this up to date and very important to keep it visible. But also with the thoughts to keep colleagues motivated and to show how their creativity contributes to the project. So I want to see if scrum can be combined with Design Thinking and especially with Mind mapping. Application: When starting a new project at work, I checked whether it is workable to combine the scrum approach with Mind Mapping. The central theme was to increase the STP (Straight through processing) rate for a specific product that we trade with an x percentage. As a scrum team, we have tried to provide insight into the various topics related to the 'increase STP rate' via a paper diagram. Each team member could indicate in this diagram his or her creativity which related to increasing the STP rate. After this we went to see if there was a connection between certain ideas. We quickly learned that certain ideas could be combined and that certain steps in the project could be skipped. By combining scrum work and mind mapping, we were able to go live with implementation faster and increase STP speed step by step. By making the project visible through a diagram, colleagues also indicated that this gave them more energy to participate in the project. | D e s i g n T h i n k i n g | Insight: The insight I got to combine scrum with mind mapping (Design thinking) is that if you make everyone's creativity and thinking visible through Mind mapping, you will come sooner to a solid solution to complete a project. The feedback we received is that it also gives more energy to colleagues who have participated in this project. The biggest challenge was to create support for this new way of working. At the beginning of the project, we showed a short video of how mind mapping works. This gave us immediate support from our fellow team members to combine scrum with mind mapping. https://www.youtube.com/watch?v=tIBN9VJ0S4a The conclusion is that you definitely can combine scrum and Design thinking. Approach: In terms of approach, I wouldn't be much different from what I did in this project. I only see advantages of combining scrum with mind mapping. As described in the alinia insight, there are only benefits. |\n"
     ]
    }
   ],
   "source": [
    "print(full_text_ds)"
   ]
  },
  {
   "cell_type": "code",
   "execution_count": 159,
   "id": "774ec67c",
   "metadata": {},
   "outputs": [],
   "source": [
    "import spacy\n",
    "from spacy import displacy\n",
    "from pylab import cm, matplotlib\n",
    "import os\n",
    "\n",
    "colors = {\n",
    "            'NAME_STUDENT': '#8000ff',\n",
    "            'EMAIL': '#2b7ff6',\n",
    "            'USERNAME': '#2adddd',\n",
    "            'ID_NUM': '#80ffb4',\n",
    "            'PHONE_NUM': 'd4dd80',\n",
    "            'URL_PERSONAL': '#ff8042',\n",
    "            'STREET_ADDRESS': '#ff0000'\n",
    "         }\n",
    "\n",
    "\n",
    "def visualize(full_text,offset_mapping,labels):\n",
    "    \n",
    "    ents = []\n",
    "    for offset,lab in zip(offset_mapping,labels):\n",
    "        ents.append({\n",
    "                        'start': int(offset[0]), \n",
    "                         'end': int(offset[1]), \n",
    "                         'label': str(lab.split('-')[1]) #+ ' - ' + str(row['discourse_effectiveness'])\n",
    "                    })\n",
    "\n",
    "    doc2 = {\n",
    "        \"text\": full_text,\n",
    "        \"ents\": ents,\n",
    "#         \"title\": \"idx\"\n",
    "    }\n",
    "\n",
    "    options = {\"ents\": list(colors.keys()), \"colors\": colors}\n",
    "    displacy.render(doc2, style=\"ent\", options=options, manual=True, jupyter=True)"
   ]
  },
  {
   "cell_type": "code",
   "execution_count": null,
   "id": "e9ca28b2",
   "metadata": {},
   "outputs": [],
   "source": []
  },
  {
   "cell_type": "code",
   "execution_count": 160,
   "id": "d2b10295",
   "metadata": {},
   "outputs": [],
   "source": [
    "offset_mapping = get_offset_mapping(full_text, tokens)\n",
    "offset_mapping_ = [x for (x,y) in zip(offset_mapping,labels) if y!=\"O\"]\n",
    "labels_ = [x for x in labels if x!=\"O\"]"
   ]
  },
  {
   "cell_type": "code",
   "execution_count": 161,
   "id": "1f270391",
   "metadata": {
    "scrolled": false
   },
   "outputs": [
    {
     "data": {
      "text/html": [
       "<span class=\"tex2jax_ignore\"><div class=\"entities\" style=\"line-height: 2.5; direction: ltr\">\n",
       "<mark class=\"entity\" style=\"background: #8000ff; padding: 0.45em 0.6em; margin: 0 0.25em; line-height: 1; border-radius: 0.35em;\">\n",
       "    Waseem\n",
       "    <span style=\"font-size: 0.8em; font-weight: bold; line-height: 1; border-radius: 0.35em; vertical-align: middle; margin-left: 0.5rem\">NAME_STUDENT</span>\n",
       "</mark>\n",
       " \n",
       "<mark class=\"entity\" style=\"background: #8000ff; padding: 0.45em 0.6em; margin: 0 0.25em; line-height: 1; border-radius: 0.35em;\">\n",
       "    Mabunda\n",
       "    <span style=\"font-size: 0.8em; font-weight: bold; line-height: 1; border-radius: 0.35em; vertical-align: middle; margin-left: 0.5rem\">NAME_STUDENT</span>\n",
       "</mark>\n",
       "  \n",
       "<mark class=\"entity\" style=\"background: #ff0000; padding: 0.45em 0.6em; margin: 0 0.25em; line-height: 1; border-radius: 0.35em;\">\n",
       "    591\n",
       "    <span style=\"font-size: 0.8em; font-weight: bold; line-height: 1; border-radius: 0.35em; vertical-align: middle; margin-left: 0.5rem\">STREET_ADDRESS</span>\n",
       "</mark>\n",
       " \n",
       "<mark class=\"entity\" style=\"background: #ff0000; padding: 0.45em 0.6em; margin: 0 0.25em; line-height: 1; border-radius: 0.35em;\">\n",
       "    Smith\n",
       "    <span style=\"font-size: 0.8em; font-weight: bold; line-height: 1; border-radius: 0.35em; vertical-align: middle; margin-left: 0.5rem\">STREET_ADDRESS</span>\n",
       "</mark>\n",
       " \n",
       "<mark class=\"entity\" style=\"background: #ff0000; padding: 0.45em 0.6em; margin: 0 0.25em; line-height: 1; border-radius: 0.35em;\">\n",
       "    Centers\n",
       "    <span style=\"font-size: 0.8em; font-weight: bold; line-height: 1; border-radius: 0.35em; vertical-align: middle; margin-left: 0.5rem\">STREET_ADDRESS</span>\n",
       "</mark>\n",
       " \n",
       "<mark class=\"entity\" style=\"background: #ff0000; padding: 0.45em 0.6em; margin: 0 0.25em; line-height: 1; border-radius: 0.35em;\">\n",
       "    Apt\n",
       "    <span style=\"font-size: 0.8em; font-weight: bold; line-height: 1; border-radius: 0.35em; vertical-align: middle; margin-left: 0.5rem\">STREET_ADDRESS</span>\n",
       "</mark>\n",
       "\n",
       "<mark class=\"entity\" style=\"background: #ff0000; padding: 0.45em 0.6em; margin: 0 0.25em; line-height: 1; border-radius: 0.35em;\">\n",
       "    .\n",
       "    <span style=\"font-size: 0.8em; font-weight: bold; line-height: 1; border-radius: 0.35em; vertical-align: middle; margin-left: 0.5rem\">STREET_ADDRESS</span>\n",
       "</mark>\n",
       " \n",
       "<mark class=\"entity\" style=\"background: #ff0000; padding: 0.45em 0.6em; margin: 0 0.25em; line-height: 1; border-radius: 0.35em;\">\n",
       "    656\n",
       "    <span style=\"font-size: 0.8em; font-weight: bold; line-height: 1; border-radius: 0.35em; vertical-align: middle; margin-left: 0.5rem\">STREET_ADDRESS</span>\n",
       "</mark>\n",
       "\n",
       "<mark class=\"entity\" style=\"background: #ff0000; padding: 0.45em 0.6em; margin: 0 0.25em; line-height: 1; border-radius: 0.35em;\">\n",
       "    \n",
       "\n",
       "    <span style=\"font-size: 0.8em; font-weight: bold; line-height: 1; border-radius: 0.35em; vertical-align: middle; margin-left: 0.5rem\">STREET_ADDRESS</span>\n",
       "</mark>\n",
       "\n",
       "<mark class=\"entity\" style=\"background: #ff0000; padding: 0.45em 0.6em; margin: 0 0.25em; line-height: 1; border-radius: 0.35em;\">\n",
       "    Joshuamouth\n",
       "    <span style=\"font-size: 0.8em; font-weight: bold; line-height: 1; border-radius: 0.35em; vertical-align: middle; margin-left: 0.5rem\">STREET_ADDRESS</span>\n",
       "</mark>\n",
       "\n",
       "<mark class=\"entity\" style=\"background: #ff0000; padding: 0.45em 0.6em; margin: 0 0.25em; line-height: 1; border-radius: 0.35em;\">\n",
       "    ,\n",
       "    <span style=\"font-size: 0.8em; font-weight: bold; line-height: 1; border-radius: 0.35em; vertical-align: middle; margin-left: 0.5rem\">STREET_ADDRESS</span>\n",
       "</mark>\n",
       " \n",
       "<mark class=\"entity\" style=\"background: #ff0000; padding: 0.45em 0.6em; margin: 0 0.25em; line-height: 1; border-radius: 0.35em;\">\n",
       "    RI\n",
       "    <span style=\"font-size: 0.8em; font-weight: bold; line-height: 1; border-radius: 0.35em; vertical-align: middle; margin-left: 0.5rem\">STREET_ADDRESS</span>\n",
       "</mark>\n",
       " \n",
       "<mark class=\"entity\" style=\"background: #ff0000; padding: 0.45em 0.6em; margin: 0 0.25em; line-height: 1; border-radius: 0.35em;\">\n",
       "    95963\n",
       "    <span style=\"font-size: 0.8em; font-weight: bold; line-height: 1; border-radius: 0.35em; vertical-align: middle; margin-left: 0.5rem\">STREET_ADDRESS</span>\n",
       "</mark>\n",
       " ( The Netherlands)  \n",
       "<mark class=\"entity\" style=\"background: d4dd80; padding: 0.45em 0.6em; margin: 0 0.25em; line-height: 1; border-radius: 0.35em;\">\n",
       "    410.526.1667\n",
       "    <span style=\"font-size: 0.8em; font-weight: bold; line-height: 1; border-radius: 0.35em; vertical-align: middle; margin-left: 0.5rem\">PHONE_NUM</span>\n",
       "</mark>\n",
       "  vpi@mn.nl<br><br>Mind Mapping,      Challenge:     For several years I have been working for an Asset manager in the Netherlands. During this period I have been involved in many  projects. Certainly in the world of asset management, much has changed in recent years in the area of Law and Regulations.  What I mainly experience in these projects is that all departments have a different interest in starting a new project. This  certainly does not benefit the project. How do you get everyone to complete a project in the common interest and how do you  motivate everyone who participate in the project?    Selection:    An improvement project can be approached in different ways. The most common way is the scrum approach. We work in  multidisciplinary teams that work in short sprints, with a fixed length of 1 to 4 weeks. Cooperation is very important and  everyone must be able to respond quickly to changing circumstances. Scrum is based on the theory of empirical process  control, or empiricism. Empiricism assumes that knowledge arises from experience and making decisions based on what is  known.     I chose mind mapping because I am looking for a way to show the creativity colleagues always have at the start of a project,  to  keep this up to date and very important to keep it visible.   But also with the thoughts to keep colleagues motivated and to show how their creativity contributes to the project.    So I want to see if scrum can be combined with Design Thinking and especially with Mind mapping.    Application:    When starting a new project at work, I checked whether it is workable to combine the scrum approach with Mind Mapping. The  central theme was to increase the STP (Straight through processing) rate for a specific product that we trade with an x  percentage.    As a scrum team, we have tried to provide insight into the various topics related to the 'increase STP rate' via a paper diagram.  Each team member could indicate in this diagram his or her creativity which related to increasing the STP rate.    After this we went to see if there was a connection between certain ideas. We quickly learned that certain ideas could be  combined and that certain steps in the project could be skipped. By combining scrum work and mind mapping, we were able to  go live with implementation faster and increase STP speed step by step.    By making the project visible through a diagram, colleagues also indicated that this gave them more energy to participate in the  project.<br><br>D e s i g n  T h i n k i n g<br><br>Insight:    The insight I got to combine scrum with mind mapping (Design thinking) is that if you make everyone's creativity and thinking  visible through Mind mapping, you will come sooner to a solid solution to complete a project. The feedback we received is that  it also gives more energy to colleagues who have participated in this project.     The biggest challenge was to create support for this new way of working.     At the beginning of the project, we showed a short video of how mind mapping works. This gave us immediate support from  our fellow team members to combine scrum with mind mapping.      \n",
       "<mark class=\"entity\" style=\"background: #ff8042; padding: 0.45em 0.6em; margin: 0 0.25em; line-height: 1; border-radius: 0.35em;\">\n",
       "    https://www.youtube.com/watch?v=tIBN9VJ0S4a\n",
       "    <span style=\"font-size: 0.8em; font-weight: bold; line-height: 1; border-radius: 0.35em; vertical-align: middle; margin-left: 0.5rem\">URL_PERSONAL</span>\n",
       "</mark>\n",
       "    The conclusion is that you definitely can combine scrum and Design thinking.    Approach:    In terms of approach, I wouldn't be much different from what I did in this project. I only see advantages of combining scrum  with mind mapping. As described in the alinia insight, there are only benefits.<br><br></div></span>"
      ],
      "text/plain": [
       "<IPython.core.display.HTML object>"
      ]
     },
     "metadata": {},
     "output_type": "display_data"
    }
   ],
   "source": [
    "visualize(full_text,offset_mapping_,labels_)"
   ]
  },
  {
   "cell_type": "code",
   "execution_count": 162,
   "id": "7dc54c9c",
   "metadata": {},
   "outputs": [],
   "source": [
    "offset_mapping = get_offset_mapping(full_text_ds, tokens_ds)\n",
    "offset_mapping_ = [x for (x,y) in zip(offset_mapping,labels_ds) if y!=\"O\"]\n",
    "labels_ = [x for x in labels if x!=\"O\"]"
   ]
  },
  {
   "cell_type": "code",
   "execution_count": 163,
   "id": "9482cd91",
   "metadata": {},
   "outputs": [
    {
     "data": {
      "text/html": [
       "<span class=\"tex2jax_ignore\"><div class=\"entities\" style=\"line-height: 2.5; direction: ltr\">\n",
       "<mark class=\"entity\" style=\"background: #8000ff; padding: 0.45em 0.6em; margin: 0 0.25em; line-height: 1; border-radius: 0.35em;\">\n",
       "    Waseem\n",
       "    <span style=\"font-size: 0.8em; font-weight: bold; line-height: 1; border-radius: 0.35em; vertical-align: middle; margin-left: 0.5rem\">NAME_STUDENT</span>\n",
       "</mark>\n",
       " \n",
       "<mark class=\"entity\" style=\"background: #8000ff; padding: 0.45em 0.6em; margin: 0 0.25em; line-height: 1; border-radius: 0.35em;\">\n",
       "    Mabunda\n",
       "    <span style=\"font-size: 0.8em; font-weight: bold; line-height: 1; border-radius: 0.35em; vertical-align: middle; margin-left: 0.5rem\">NAME_STUDENT</span>\n",
       "</mark>\n",
       " \n",
       "<mark class=\"entity\" style=\"background: #ff0000; padding: 0.45em 0.6em; margin: 0 0.25em; line-height: 1; border-radius: 0.35em;\">\n",
       "    591\n",
       "    <span style=\"font-size: 0.8em; font-weight: bold; line-height: 1; border-radius: 0.35em; vertical-align: middle; margin-left: 0.5rem\">STREET_ADDRESS</span>\n",
       "</mark>\n",
       " \n",
       "<mark class=\"entity\" style=\"background: #ff0000; padding: 0.45em 0.6em; margin: 0 0.25em; line-height: 1; border-radius: 0.35em;\">\n",
       "    Smith\n",
       "    <span style=\"font-size: 0.8em; font-weight: bold; line-height: 1; border-radius: 0.35em; vertical-align: middle; margin-left: 0.5rem\">STREET_ADDRESS</span>\n",
       "</mark>\n",
       " \n",
       "<mark class=\"entity\" style=\"background: #ff0000; padding: 0.45em 0.6em; margin: 0 0.25em; line-height: 1; border-radius: 0.35em;\">\n",
       "    Centers\n",
       "    <span style=\"font-size: 0.8em; font-weight: bold; line-height: 1; border-radius: 0.35em; vertical-align: middle; margin-left: 0.5rem\">STREET_ADDRESS</span>\n",
       "</mark>\n",
       " \n",
       "<mark class=\"entity\" style=\"background: #ff0000; padding: 0.45em 0.6em; margin: 0 0.25em; line-height: 1; border-radius: 0.35em;\">\n",
       "    Apt\n",
       "    <span style=\"font-size: 0.8em; font-weight: bold; line-height: 1; border-radius: 0.35em; vertical-align: middle; margin-left: 0.5rem\">STREET_ADDRESS</span>\n",
       "</mark>\n",
       "\n",
       "<mark class=\"entity\" style=\"background: #ff0000; padding: 0.45em 0.6em; margin: 0 0.25em; line-height: 1; border-radius: 0.35em;\">\n",
       "    .\n",
       "    <span style=\"font-size: 0.8em; font-weight: bold; line-height: 1; border-radius: 0.35em; vertical-align: middle; margin-left: 0.5rem\">STREET_ADDRESS</span>\n",
       "</mark>\n",
       " \n",
       "<mark class=\"entity\" style=\"background: #ff0000; padding: 0.45em 0.6em; margin: 0 0.25em; line-height: 1; border-radius: 0.35em;\">\n",
       "    656\n",
       "    <span style=\"font-size: 0.8em; font-weight: bold; line-height: 1; border-radius: 0.35em; vertical-align: middle; margin-left: 0.5rem\">STREET_ADDRESS</span>\n",
       "</mark>\n",
       "\n",
       "<mark class=\"entity\" style=\"background: #ff0000; padding: 0.45em 0.6em; margin: 0 0.25em; line-height: 1; border-radius: 0.35em;\">\n",
       "    \n",
       "    <span style=\"font-size: 0.8em; font-weight: bold; line-height: 1; border-radius: 0.35em; vertical-align: middle; margin-left: 0.5rem\">STREET_ADDRESS</span>\n",
       "</mark>\n",
       " \n",
       "<mark class=\"entity\" style=\"background: #ff0000; padding: 0.45em 0.6em; margin: 0 0.25em; line-height: 1; border-radius: 0.35em;\">\n",
       "    Joshuamouth\n",
       "    <span style=\"font-size: 0.8em; font-weight: bold; line-height: 1; border-radius: 0.35em; vertical-align: middle; margin-left: 0.5rem\">STREET_ADDRESS</span>\n",
       "</mark>\n",
       "\n",
       "<mark class=\"entity\" style=\"background: #ff0000; padding: 0.45em 0.6em; margin: 0 0.25em; line-height: 1; border-radius: 0.35em;\">\n",
       "    ,\n",
       "    <span style=\"font-size: 0.8em; font-weight: bold; line-height: 1; border-radius: 0.35em; vertical-align: middle; margin-left: 0.5rem\">STREET_ADDRESS</span>\n",
       "</mark>\n",
       " \n",
       "<mark class=\"entity\" style=\"background: #ff0000; padding: 0.45em 0.6em; margin: 0 0.25em; line-height: 1; border-radius: 0.35em;\">\n",
       "    RI\n",
       "    <span style=\"font-size: 0.8em; font-weight: bold; line-height: 1; border-radius: 0.35em; vertical-align: middle; margin-left: 0.5rem\">STREET_ADDRESS</span>\n",
       "</mark>\n",
       " \n",
       "<mark class=\"entity\" style=\"background: #ff0000; padding: 0.45em 0.6em; margin: 0 0.25em; line-height: 1; border-radius: 0.35em;\">\n",
       "    95963\n",
       "    <span style=\"font-size: 0.8em; font-weight: bold; line-height: 1; border-radius: 0.35em; vertical-align: middle; margin-left: 0.5rem\">STREET_ADDRESS</span>\n",
       "</mark>\n",
       " ( The Netherlands) \n",
       "<mark class=\"entity\" style=\"background: d4dd80; padding: 0.45em 0.6em; margin: 0 0.25em; line-height: 1; border-radius: 0.35em;\">\n",
       "    410.526.1667\n",
       "    <span style=\"font-size: 0.8em; font-weight: bold; line-height: 1; border-radius: 0.35em; vertical-align: middle; margin-left: 0.5rem\">PHONE_NUM</span>\n",
       "</mark>\n",
       " vpi@mn.nl | Mind Mapping, Challenge: For several years I have been working for an Asset manager in the Netherlands. During this period I have been involved in many projects. Certainly in the world of asset management, much has changed in recent years in the area of Law and Regulations. What I mainly experience in these projects is that all departments have a different interest in starting a new project. This certainly does not benefit the project. How do you get everyone to complete a project in the common interest and how do you motivate everyone who participate in the project? Selection: An improvement project can be approached in different ways. The most common way is the scrum approach. We work in multidisciplinary teams that work in short sprints, with a fixed length of 1 to 4 weeks. Cooperation is very important and everyone must be able to respond quickly to changing circumstances. Scrum is based on the theory of empirical process control, or empiricism. Empiricism assumes that knowledge arises from experience and making decisions based on what is known. I chose mind mapping because I am looking for a way to show the creativity colleagues always have at the start of a project, to keep this up to date and very important to keep it visible. But also with the thoughts to keep colleagues motivated and to show how their creativity contributes to the project. So I want to see if scrum can be combined with Design Thinking and especially with Mind mapping. Application: When starting a new project at work, I checked whether it is workable to combine the scrum approach with Mind Mapping. The central theme was to increase the STP (Straight through processing) rate for a specific product that we trade with an x percentage. As a scrum team, we have tried to provide insight into the various topics related to the 'increase STP rate' via a paper diagram. Each team member could indicate in this diagram his or her creativity which related to increasing the STP rate. After this we went to see if there was a connection between certain ideas. We quickly learned that certain ideas could be combined and that certain steps in the project could be skipped. By combining scrum work and mind mapping, we were able to go live with implementation faster and increase STP speed step by step. By making the project visible through a diagram, colleagues also indicated that this gave them more energy to participate in the project. | D e s i g n T h i n k i n g | Insight: The insight I got to combine scrum with mind mapping (Design thinking) is that if you make everyone's creativity and thinking visible through Mind mapping, you will come sooner to a solid solution to complete a project. The feedback we received is that it also gives more energy to colleagues who have participated in this project. The biggest challenge was to create support for this new way of working. At the beginning of the project, we showed a short video of how mind mapping works. This gave us immediate support from our fellow team members to combine scrum with mind mapping. \n",
       "<mark class=\"entity\" style=\"background: #ff8042; padding: 0.45em 0.6em; margin: 0 0.25em; line-height: 1; border-radius: 0.35em;\">\n",
       "    https://www.youtube.com/watch?v=tIBN9VJ0S4a\n",
       "    <span style=\"font-size: 0.8em; font-weight: bold; line-height: 1; border-radius: 0.35em; vertical-align: middle; margin-left: 0.5rem\">URL_PERSONAL</span>\n",
       "</mark>\n",
       " The conclusion is that you definitely can combine scrum and Design thinking. Approach: In terms of approach, I wouldn't be much different from what I did in this project. I only see advantages of combining scrum with mind mapping. As described in the alinia insight, there are only benefits. |</div></span>"
      ],
      "text/plain": [
       "<IPython.core.display.HTML object>"
      ]
     },
     "metadata": {},
     "output_type": "display_data"
    }
   ],
   "source": [
    "visualize(full_text_ds,offset_mapping_,labels_)"
   ]
  },
  {
   "cell_type": "code",
   "execution_count": 164,
   "id": "13db7195",
   "metadata": {},
   "outputs": [
    {
     "name": "stdout",
     "output_type": "stream",
     "text": [
      "Defaulting to user installation because normal site-packages is not writeable\n",
      "Collecting postal\n",
      "  Downloading postal-1.1.10.tar.gz (21 kB)\n",
      "  Preparing metadata (setup.py) ... \u001b[?25ldone\n",
      "\u001b[?25hRequirement already satisfied: six in /opt/conda/lib/python3.10/site-packages (from postal) (1.16.0)\n",
      "Building wheels for collected packages: postal\n",
      "  Building wheel for postal (setup.py) ... \u001b[?25lerror\n",
      "  \u001b[1;31merror\u001b[0m: \u001b[1msubprocess-exited-with-error\u001b[0m\n",
      "  \n",
      "  \u001b[31m×\u001b[0m \u001b[32mpython setup.py bdist_wheel\u001b[0m did not run successfully.\n",
      "  \u001b[31m│\u001b[0m exit code: \u001b[1;36m1\u001b[0m\n",
      "  \u001b[31m╰─>\u001b[0m \u001b[31m[39 lines of output]\u001b[0m\n",
      "  \u001b[31m   \u001b[0m /opt/conda/lib/python3.10/site-packages/setuptools/dist.py:770: UserWarning: Usage of dash-separated 'description-file' will not be supported in future versions. Please use the underscore name 'description_file' instead\n",
      "  \u001b[31m   \u001b[0m   warnings.warn(\n",
      "  \u001b[31m   \u001b[0m /opt/conda/lib/python3.10/site-packages/setuptools/installer.py:27: SetuptoolsDeprecationWarning: setuptools.installer is deprecated. Requirements should be satisfied by a PEP 517 installer.\n",
      "  \u001b[31m   \u001b[0m   warnings.warn(\n",
      "  \u001b[31m   \u001b[0m running bdist_wheel\n",
      "  \u001b[31m   \u001b[0m running build\n",
      "  \u001b[31m   \u001b[0m running build_py\n",
      "  \u001b[31m   \u001b[0m creating build\n",
      "  \u001b[31m   \u001b[0m creating build/lib.linux-x86_64-cpython-310\n",
      "  \u001b[31m   \u001b[0m creating build/lib.linux-x86_64-cpython-310/postal\n",
      "  \u001b[31m   \u001b[0m copying postal/parser.py -> build/lib.linux-x86_64-cpython-310/postal\n",
      "  \u001b[31m   \u001b[0m copying postal/tokenize.py -> build/lib.linux-x86_64-cpython-310/postal\n",
      "  \u001b[31m   \u001b[0m copying postal/near_dupe.py -> build/lib.linux-x86_64-cpython-310/postal\n",
      "  \u001b[31m   \u001b[0m copying postal/token_types.py -> build/lib.linux-x86_64-cpython-310/postal\n",
      "  \u001b[31m   \u001b[0m copying postal/normalize.py -> build/lib.linux-x86_64-cpython-310/postal\n",
      "  \u001b[31m   \u001b[0m copying postal/__init__.py -> build/lib.linux-x86_64-cpython-310/postal\n",
      "  \u001b[31m   \u001b[0m copying postal/expand.py -> build/lib.linux-x86_64-cpython-310/postal\n",
      "  \u001b[31m   \u001b[0m copying postal/dedupe.py -> build/lib.linux-x86_64-cpython-310/postal\n",
      "  \u001b[31m   \u001b[0m creating build/lib.linux-x86_64-cpython-310/postal/utils\n",
      "  \u001b[31m   \u001b[0m copying postal/utils/enum.py -> build/lib.linux-x86_64-cpython-310/postal/utils\n",
      "  \u001b[31m   \u001b[0m copying postal/utils/__init__.py -> build/lib.linux-x86_64-cpython-310/postal/utils\n",
      "  \u001b[31m   \u001b[0m copying postal/utils/encoding.py -> build/lib.linux-x86_64-cpython-310/postal/utils\n",
      "  \u001b[31m   \u001b[0m copying postal/utils/omitted.py -> build/lib.linux-x86_64-cpython-310/postal/utils\n",
      "  \u001b[31m   \u001b[0m creating build/lib.linux-x86_64-cpython-310/postal/tests\n",
      "  \u001b[31m   \u001b[0m copying postal/tests/test_parser.py -> build/lib.linux-x86_64-cpython-310/postal/tests\n",
      "  \u001b[31m   \u001b[0m copying postal/tests/test_expand.py -> build/lib.linux-x86_64-cpython-310/postal/tests\n",
      "  \u001b[31m   \u001b[0m copying postal/tests/__init__.py -> build/lib.linux-x86_64-cpython-310/postal/tests\n",
      "  \u001b[31m   \u001b[0m copying postal/tests/_test_near_dupes.py -> build/lib.linux-x86_64-cpython-310/postal/tests\n",
      "  \u001b[31m   \u001b[0m copying postal/pyutils.h -> build/lib.linux-x86_64-cpython-310/postal\n",
      "  \u001b[31m   \u001b[0m running build_ext\n",
      "  \u001b[31m   \u001b[0m building 'postal._expand' extension\n",
      "  \u001b[31m   \u001b[0m creating build/temp.linux-x86_64-cpython-310\n",
      "  \u001b[31m   \u001b[0m creating build/temp.linux-x86_64-cpython-310/postal\n",
      "  \u001b[31m   \u001b[0m gcc -pthread -B /opt/conda/compiler_compat -Wno-unused-result -Wsign-compare -DNDEBUG -fwrapv -O2 -Wall -fPIC -O2 -isystem /opt/conda/include -fPIC -O2 -isystem /opt/conda/include -fPIC -I/usr/local/include -I/opt/conda/include/python3.10 -c postal/pyexpand.c -o build/temp.linux-x86_64-cpython-310/postal/pyexpand.o -std=c99\n",
      "  \u001b[31m   \u001b[0m postal/pyexpand.c:2:10: fatal error: libpostal/libpostal.h: No such file or directory\n",
      "  \u001b[31m   \u001b[0m  #include <libpostal/libpostal.h>\n",
      "  \u001b[31m   \u001b[0m           ^~~~~~~~~~~~~~~~~~~~~~~\n",
      "  \u001b[31m   \u001b[0m compilation terminated.\n",
      "  \u001b[31m   \u001b[0m error: command '/usr/bin/gcc' failed with exit code 1\n",
      "  \u001b[31m   \u001b[0m \u001b[31m[end of output]\u001b[0m\n",
      "  \n",
      "  \u001b[1;35mnote\u001b[0m: This error originates from a subprocess, and is likely not a problem with pip.\n",
      "\u001b[31m  ERROR: Failed building wheel for postal\u001b[0m\u001b[31m\n",
      "\u001b[0m\u001b[?25h  Running setup.py clean for postal\n",
      "Failed to build postal\n",
      "Installing collected packages: postal\n",
      "  Running setup.py install for postal ... \u001b[?25lerror\n",
      "  \u001b[1;31merror\u001b[0m: \u001b[1msubprocess-exited-with-error\u001b[0m\n",
      "  \n",
      "  \u001b[31m×\u001b[0m \u001b[32mRunning setup.py install for postal\u001b[0m did not run successfully.\n",
      "  \u001b[31m│\u001b[0m exit code: \u001b[1;36m1\u001b[0m\n",
      "  \u001b[31m╰─>\u001b[0m \u001b[31m[41 lines of output]\u001b[0m\n",
      "  \u001b[31m   \u001b[0m /opt/conda/lib/python3.10/site-packages/setuptools/dist.py:770: UserWarning: Usage of dash-separated 'description-file' will not be supported in future versions. Please use the underscore name 'description_file' instead\n",
      "  \u001b[31m   \u001b[0m   warnings.warn(\n",
      "  \u001b[31m   \u001b[0m /opt/conda/lib/python3.10/site-packages/setuptools/installer.py:27: SetuptoolsDeprecationWarning: setuptools.installer is deprecated. Requirements should be satisfied by a PEP 517 installer.\n",
      "  \u001b[31m   \u001b[0m   warnings.warn(\n",
      "  \u001b[31m   \u001b[0m running install\n",
      "  \u001b[31m   \u001b[0m /opt/conda/lib/python3.10/site-packages/setuptools/command/install.py:34: SetuptoolsDeprecationWarning: setup.py install is deprecated. Use build and pip and other standards-based tools.\n",
      "  \u001b[31m   \u001b[0m   warnings.warn(\n",
      "  \u001b[31m   \u001b[0m running build\n",
      "  \u001b[31m   \u001b[0m running build_py\n",
      "  \u001b[31m   \u001b[0m creating build\n",
      "  \u001b[31m   \u001b[0m creating build/lib.linux-x86_64-cpython-310\n",
      "  \u001b[31m   \u001b[0m creating build/lib.linux-x86_64-cpython-310/postal\n",
      "  \u001b[31m   \u001b[0m copying postal/parser.py -> build/lib.linux-x86_64-cpython-310/postal\n",
      "  \u001b[31m   \u001b[0m copying postal/tokenize.py -> build/lib.linux-x86_64-cpython-310/postal\n",
      "  \u001b[31m   \u001b[0m copying postal/near_dupe.py -> build/lib.linux-x86_64-cpython-310/postal\n",
      "  \u001b[31m   \u001b[0m copying postal/token_types.py -> build/lib.linux-x86_64-cpython-310/postal\n",
      "  \u001b[31m   \u001b[0m copying postal/normalize.py -> build/lib.linux-x86_64-cpython-310/postal\n",
      "  \u001b[31m   \u001b[0m copying postal/__init__.py -> build/lib.linux-x86_64-cpython-310/postal\n",
      "  \u001b[31m   \u001b[0m copying postal/expand.py -> build/lib.linux-x86_64-cpython-310/postal\n",
      "  \u001b[31m   \u001b[0m copying postal/dedupe.py -> build/lib.linux-x86_64-cpython-310/postal\n",
      "  \u001b[31m   \u001b[0m creating build/lib.linux-x86_64-cpython-310/postal/utils\n",
      "  \u001b[31m   \u001b[0m copying postal/utils/enum.py -> build/lib.linux-x86_64-cpython-310/postal/utils\n",
      "  \u001b[31m   \u001b[0m copying postal/utils/__init__.py -> build/lib.linux-x86_64-cpython-310/postal/utils\n",
      "  \u001b[31m   \u001b[0m copying postal/utils/encoding.py -> build/lib.linux-x86_64-cpython-310/postal/utils\n",
      "  \u001b[31m   \u001b[0m copying postal/utils/omitted.py -> build/lib.linux-x86_64-cpython-310/postal/utils\n",
      "  \u001b[31m   \u001b[0m creating build/lib.linux-x86_64-cpython-310/postal/tests\n",
      "  \u001b[31m   \u001b[0m copying postal/tests/test_parser.py -> build/lib.linux-x86_64-cpython-310/postal/tests\n",
      "  \u001b[31m   \u001b[0m copying postal/tests/test_expand.py -> build/lib.linux-x86_64-cpython-310/postal/tests\n",
      "  \u001b[31m   \u001b[0m copying postal/tests/__init__.py -> build/lib.linux-x86_64-cpython-310/postal/tests\n",
      "  \u001b[31m   \u001b[0m copying postal/tests/_test_near_dupes.py -> build/lib.linux-x86_64-cpython-310/postal/tests\n",
      "  \u001b[31m   \u001b[0m copying postal/pyutils.h -> build/lib.linux-x86_64-cpython-310/postal\n",
      "  \u001b[31m   \u001b[0m running build_ext\n",
      "  \u001b[31m   \u001b[0m building 'postal._expand' extension\n",
      "  \u001b[31m   \u001b[0m creating build/temp.linux-x86_64-cpython-310\n",
      "  \u001b[31m   \u001b[0m creating build/temp.linux-x86_64-cpython-310/postal\n",
      "  \u001b[31m   \u001b[0m gcc -pthread -B /opt/conda/compiler_compat -Wno-unused-result -Wsign-compare -DNDEBUG -fwrapv -O2 -Wall -fPIC -O2 -isystem /opt/conda/include -fPIC -O2 -isystem /opt/conda/include -fPIC -I/usr/local/include -I/opt/conda/include/python3.10 -c postal/pyexpand.c -o build/temp.linux-x86_64-cpython-310/postal/pyexpand.o -std=c99\n",
      "  \u001b[31m   \u001b[0m postal/pyexpand.c:2:10: fatal error: libpostal/libpostal.h: No such file or directory\n",
      "  \u001b[31m   \u001b[0m  #include <libpostal/libpostal.h>\n",
      "  \u001b[31m   \u001b[0m           ^~~~~~~~~~~~~~~~~~~~~~~\n",
      "  \u001b[31m   \u001b[0m compilation terminated.\n",
      "  \u001b[31m   \u001b[0m error: command '/usr/bin/gcc' failed with exit code 1\n",
      "  \u001b[31m   \u001b[0m \u001b[31m[end of output]\u001b[0m\n",
      "  \n",
      "  \u001b[1;35mnote\u001b[0m: This error originates from a subprocess, and is likely not a problem with pip.\n"
     ]
    },
    {
     "name": "stdout",
     "output_type": "stream",
     "text": [
      "\u001b[1;31merror\u001b[0m: \u001b[1mlegacy-install-failure\u001b[0m\n",
      "\n",
      "\u001b[31m×\u001b[0m Encountered error while trying to install package.\n",
      "\u001b[31m╰─>\u001b[0m postal\n",
      "\n",
      "\u001b[1;35mnote\u001b[0m: This is an issue with the package mentioned above, not pip.\n",
      "\u001b[1;36mhint\u001b[0m: See above for output from the failure.\n",
      "\u001b[?25hNote: you may need to restart the kernel to use updated packages.\n"
     ]
    }
   ],
   "source": [
    "pip install postal"
   ]
  },
  {
   "cell_type": "code",
   "execution_count": 165,
   "id": "d6573891",
   "metadata": {},
   "outputs": [
    {
     "ename": "ModuleNotFoundError",
     "evalue": "No module named 'postal'",
     "output_type": "error",
     "traceback": [
      "\u001b[0;31m---------------------------------------------------------------------------\u001b[0m",
      "\u001b[0;31mModuleNotFoundError\u001b[0m                       Traceback (most recent call last)",
      "Cell \u001b[0;32mIn[165], line 1\u001b[0m\n\u001b[0;32m----> 1\u001b[0m \u001b[38;5;28;01mfrom\u001b[39;00m \u001b[38;5;21;01mpostal\u001b[39;00m\u001b[38;5;21;01m.\u001b[39;00m\u001b[38;5;21;01mexpand\u001b[39;00m \u001b[38;5;28;01mimport\u001b[39;00m expand_address\n\u001b[1;32m      2\u001b[0m expand_address(\u001b[38;5;124m'\u001b[39m\u001b[38;5;124mQuatre vingt douze Ave des Champs-Élysées\u001b[39m\u001b[38;5;124m'\u001b[39m)\n\u001b[1;32m      4\u001b[0m \u001b[38;5;28;01mfrom\u001b[39;00m \u001b[38;5;21;01mpostal\u001b[39;00m\u001b[38;5;21;01m.\u001b[39;00m\u001b[38;5;21;01mparser\u001b[39;00m \u001b[38;5;28;01mimport\u001b[39;00m parse_address\n",
      "\u001b[0;31mModuleNotFoundError\u001b[0m: No module named 'postal'"
     ]
    }
   ],
   "source": [
    "from postal.expand import expand_address\n",
    "expand_address('Quatre vingt douze Ave des Champs-Élysées')\n",
    "\n",
    "from postal.parser import parse_address\n",
    "parse_address('The Book Club 100-106 Leonard St, Shoreditch, London, Greater London, EC2A 4RH, United Kingdom')"
   ]
  },
  {
   "cell_type": "code",
   "execution_count": 166,
   "id": "498be1e8",
   "metadata": {},
   "outputs": [
    {
     "name": "stdout",
     "output_type": "stream",
     "text": [
      "Defaulting to user installation because normal site-packages is not writeable\n",
      "Collecting geopy\n",
      "  Downloading geopy-2.4.1-py3-none-any.whl (125 kB)\n",
      "\u001b[2K     \u001b[90m━━━━━━━━━━━━━━━━━━━━━━━━━━━━━━━━━━━━━━━\u001b[0m \u001b[32m125.4/125.4 kB\u001b[0m \u001b[31m8.0 MB/s\u001b[0m eta \u001b[36m0:00:00\u001b[0m\n",
      "\u001b[?25hCollecting geographiclib<3,>=1.52\n",
      "  Downloading geographiclib-2.0-py3-none-any.whl (40 kB)\n",
      "\u001b[2K     \u001b[90m━━━━━━━━━━━━━━━━━━━━━━━━━━━━━━━━━━━━━━━━\u001b[0m \u001b[32m40.3/40.3 kB\u001b[0m \u001b[31m6.7 MB/s\u001b[0m eta \u001b[36m0:00:00\u001b[0m\n",
      "\u001b[?25hInstalling collected packages: geographiclib, geopy\n",
      "Successfully installed geographiclib-2.0 geopy-2.4.1\n",
      "Note: you may need to restart the kernel to use updated packages.\n"
     ]
    }
   ],
   "source": [
    "pip install geopy"
   ]
  },
  {
   "cell_type": "code",
   "execution_count": 1,
   "id": "db987f1f",
   "metadata": {},
   "outputs": [],
   "source": [
    "from geopy.geocoders import Nominatim"
   ]
  },
  {
   "cell_type": "code",
   "execution_count": 2,
   "id": "7d300942",
   "metadata": {},
   "outputs": [],
   "source": [
    "geolocator = Nominatim(user_agent=\"my_geocoder\")\n",
    "location = geolocator.geocode(\"aseem Mabunda 591 Smith Centers Apt. 656 Joshuamouth, RI 95963 ( The Netherlands) 410.526.1667 vpi@mn.nl | Mind Mapping, Challenge: For several years I have been working for an Asset manager in the Netherlands. During this period I have been involved in many projects. Certainly in the world of asset management, much has changed in recent years in the area of Law and Regulations\")\n",
    "\n",
    "if location:\n",
    "    print(location.address)"
   ]
  },
  {
   "cell_type": "code",
   "execution_count": 4,
   "id": "9a4849a6",
   "metadata": {},
   "outputs": [],
   "source": [
    "text = \"aseem Mabunda 591 Smith Centers Apt. 656 Joshuamouth, RI 95963 ( The Netherlands) 410.526.1667 vpi@mn.nl | Mind Mapping, Challenge: For several years I have been working for an Asset manager in the Netherlands. During this period I have been involved in many projects. Certainly in the world of asset management, much has changed in recent years in the area of Law and Regulations\""
   ]
  },
  {
   "cell_type": "code",
   "execution_count": 5,
   "id": "bf64c0f5",
   "metadata": {},
   "outputs": [],
   "source": [
    "import spacy"
   ]
  },
  {
   "cell_type": "code",
   "execution_count": 8,
   "id": "cc459eed",
   "metadata": {
    "scrolled": true
   },
   "outputs": [
    {
     "name": "stdout",
     "output_type": "stream",
     "text": [
      "Defaulting to user installation because normal site-packages is not writeable\n",
      "Collecting en-core-web-sm==3.6.0\n",
      "  Downloading https://github.com/explosion/spacy-models/releases/download/en_core_web_sm-3.6.0/en_core_web_sm-3.6.0-py3-none-any.whl (12.8 MB)\n",
      "\u001b[2K     \u001b[90m━━━━━━━━━━━━━━━━━━━━━━━━━━━━━━━━━━━━━━━━\u001b[0m \u001b[32m12.8/12.8 MB\u001b[0m \u001b[31m78.0 MB/s\u001b[0m eta \u001b[36m0:00:00\u001b[0m00:01\u001b[0m00:01\u001b[0m\n",
      "\u001b[?25hRequirement already satisfied: spacy<3.7.0,>=3.6.0 in /home/jovyan/.local/lib/python3.10/site-packages (from en-core-web-sm==3.6.0) (3.6.1)\n",
      "Requirement already satisfied: srsly<3.0.0,>=2.4.3 in /home/jovyan/.local/lib/python3.10/site-packages (from spacy<3.7.0,>=3.6.0->en-core-web-sm==3.6.0) (2.4.7)\n",
      "Requirement already satisfied: cymem<2.1.0,>=2.0.2 in /home/jovyan/.local/lib/python3.10/site-packages (from spacy<3.7.0,>=3.6.0->en-core-web-sm==3.6.0) (2.0.7)\n",
      "Requirement already satisfied: numpy>=1.15.0 in /opt/conda/lib/python3.10/site-packages (from spacy<3.7.0,>=3.6.0->en-core-web-sm==3.6.0) (1.23.5)\n",
      "Requirement already satisfied: setuptools in /opt/conda/lib/python3.10/site-packages (from spacy<3.7.0,>=3.6.0->en-core-web-sm==3.6.0) (65.6.3)\n",
      "Requirement already satisfied: pathy>=0.10.0 in /home/jovyan/.local/lib/python3.10/site-packages (from spacy<3.7.0,>=3.6.0->en-core-web-sm==3.6.0) (0.10.2)\n",
      "Requirement already satisfied: thinc<8.2.0,>=8.1.8 in /home/jovyan/.local/lib/python3.10/site-packages (from spacy<3.7.0,>=3.6.0->en-core-web-sm==3.6.0) (8.1.12)\n",
      "Requirement already satisfied: spacy-loggers<2.0.0,>=1.0.0 in /home/jovyan/.local/lib/python3.10/site-packages (from spacy<3.7.0,>=3.6.0->en-core-web-sm==3.6.0) (1.0.4)\n",
      "Requirement already satisfied: wasabi<1.2.0,>=0.9.1 in /home/jovyan/.local/lib/python3.10/site-packages (from spacy<3.7.0,>=3.6.0->en-core-web-sm==3.6.0) (1.1.2)\n",
      "Requirement already satisfied: packaging>=20.0 in /home/jovyan/.local/lib/python3.10/site-packages (from spacy<3.7.0,>=3.6.0->en-core-web-sm==3.6.0) (23.1)\n",
      "Requirement already satisfied: langcodes<4.0.0,>=3.2.0 in /home/jovyan/.local/lib/python3.10/site-packages (from spacy<3.7.0,>=3.6.0->en-core-web-sm==3.6.0) (3.3.0)\n",
      "Requirement already satisfied: murmurhash<1.1.0,>=0.28.0 in /home/jovyan/.local/lib/python3.10/site-packages (from spacy<3.7.0,>=3.6.0->en-core-web-sm==3.6.0) (1.0.9)\n",
      "Requirement already satisfied: pydantic!=1.8,!=1.8.1,<3.0.0,>=1.7.4 in /home/jovyan/.local/lib/python3.10/site-packages (from spacy<3.7.0,>=3.6.0->en-core-web-sm==3.6.0) (2.1.1)\n",
      "Requirement already satisfied: spacy-legacy<3.1.0,>=3.0.11 in /home/jovyan/.local/lib/python3.10/site-packages (from spacy<3.7.0,>=3.6.0->en-core-web-sm==3.6.0) (3.0.12)\n",
      "Requirement already satisfied: smart-open<7.0.0,>=5.2.1 in /home/jovyan/.local/lib/python3.10/site-packages (from spacy<3.7.0,>=3.6.0->en-core-web-sm==3.6.0) (6.3.0)\n",
      "Requirement already satisfied: tqdm<5.0.0,>=4.38.0 in /opt/conda/lib/python3.10/site-packages (from spacy<3.7.0,>=3.6.0->en-core-web-sm==3.6.0) (4.64.1)\n",
      "Requirement already satisfied: catalogue<2.1.0,>=2.0.6 in /home/jovyan/.local/lib/python3.10/site-packages (from spacy<3.7.0,>=3.6.0->en-core-web-sm==3.6.0) (2.0.9)\n",
      "Requirement already satisfied: typer<0.10.0,>=0.3.0 in /home/jovyan/.local/lib/python3.10/site-packages (from spacy<3.7.0,>=3.6.0->en-core-web-sm==3.6.0) (0.9.0)\n",
      "Requirement already satisfied: preshed<3.1.0,>=3.0.2 in /home/jovyan/.local/lib/python3.10/site-packages (from spacy<3.7.0,>=3.6.0->en-core-web-sm==3.6.0) (3.0.8)\n",
      "Requirement already satisfied: jinja2 in /opt/conda/lib/python3.10/site-packages (from spacy<3.7.0,>=3.6.0->en-core-web-sm==3.6.0) (3.1.2)\n",
      "Requirement already satisfied: requests<3.0.0,>=2.13.0 in /opt/conda/lib/python3.10/site-packages (from spacy<3.7.0,>=3.6.0->en-core-web-sm==3.6.0) (2.28.1)\n",
      "Requirement already satisfied: typing-extensions>=4.6.1 in /home/jovyan/.local/lib/python3.10/site-packages (from pydantic!=1.8,!=1.8.1,<3.0.0,>=1.7.4->spacy<3.7.0,>=3.6.0->en-core-web-sm==3.6.0) (4.7.1)\n",
      "Requirement already satisfied: annotated-types>=0.4.0 in /home/jovyan/.local/lib/python3.10/site-packages (from pydantic!=1.8,!=1.8.1,<3.0.0,>=1.7.4->spacy<3.7.0,>=3.6.0->en-core-web-sm==3.6.0) (0.5.0)\n",
      "Requirement already satisfied: pydantic-core==2.4.0 in /home/jovyan/.local/lib/python3.10/site-packages (from pydantic!=1.8,!=1.8.1,<3.0.0,>=1.7.4->spacy<3.7.0,>=3.6.0->en-core-web-sm==3.6.0) (2.4.0)\n",
      "Requirement already satisfied: certifi>=2017.4.17 in /opt/conda/lib/python3.10/site-packages (from requests<3.0.0,>=2.13.0->spacy<3.7.0,>=3.6.0->en-core-web-sm==3.6.0) (2022.12.7)\n",
      "Requirement already satisfied: urllib3<1.27,>=1.21.1 in /opt/conda/lib/python3.10/site-packages (from requests<3.0.0,>=2.13.0->spacy<3.7.0,>=3.6.0->en-core-web-sm==3.6.0) (1.26.14)\n",
      "Requirement already satisfied: charset-normalizer<3,>=2 in /opt/conda/lib/python3.10/site-packages (from requests<3.0.0,>=2.13.0->spacy<3.7.0,>=3.6.0->en-core-web-sm==3.6.0) (2.0.4)\n",
      "Requirement already satisfied: idna<4,>=2.5 in /opt/conda/lib/python3.10/site-packages (from requests<3.0.0,>=2.13.0->spacy<3.7.0,>=3.6.0->en-core-web-sm==3.6.0) (3.4)\n",
      "Requirement already satisfied: blis<0.8.0,>=0.7.8 in /home/jovyan/.local/lib/python3.10/site-packages (from thinc<8.2.0,>=8.1.8->spacy<3.7.0,>=3.6.0->en-core-web-sm==3.6.0) (0.7.10)\n",
      "Requirement already satisfied: confection<1.0.0,>=0.0.1 in /home/jovyan/.local/lib/python3.10/site-packages (from thinc<8.2.0,>=8.1.8->spacy<3.7.0,>=3.6.0->en-core-web-sm==3.6.0) (0.1.1)\n",
      "Requirement already satisfied: click<9.0.0,>=7.1.1 in /home/jovyan/.local/lib/python3.10/site-packages (from typer<0.10.0,>=0.3.0->spacy<3.7.0,>=3.6.0->en-core-web-sm==3.6.0) (8.1.4)\n",
      "Requirement already satisfied: MarkupSafe>=2.0 in /opt/conda/lib/python3.10/site-packages (from jinja2->spacy<3.7.0,>=3.6.0->en-core-web-sm==3.6.0) (2.1.1)\n",
      "Installing collected packages: en-core-web-sm\n",
      "Successfully installed en-core-web-sm-3.6.0\n",
      "\u001b[38;5;2m✔ Download and installation successful\u001b[0m\n",
      "You can now load the package via spacy.load('en_core_web_sm')\n"
     ]
    }
   ],
   "source": [
    "!python -m spacy download en_core_web_sm"
   ]
  },
  {
   "cell_type": "code",
   "execution_count": 9,
   "id": "1a02496d",
   "metadata": {},
   "outputs": [],
   "source": [
    "nlp = spacy.load(\"en_core_web_sm\")\n",
    "doc = nlp(text)"
   ]
  },
  {
   "cell_type": "code",
   "execution_count": 12,
   "id": "24508544",
   "metadata": {},
   "outputs": [
    {
     "name": "stdout",
     "output_type": "stream",
     "text": [
      "ORG Mabunda 591 Smith Centers Apt\n",
      "CARDINAL 656\n",
      "PERSON Joshuamouth\n",
      "GPE Netherlands\n",
      "PERSON Mind Mapping\n",
      "DATE several years\n",
      "ORG Asset\n",
      "GPE Netherlands\n",
      "DATE recent years\n"
     ]
    }
   ],
   "source": [
    "for ent in doc.ents:\n",
    "#     if ent.label_ == \"GPE\":  # GPE refers to geopolitical entity, which can include addresses\n",
    "    print(ent.label_\n",
    "          ,ent.text)"
   ]
  },
  {
   "cell_type": "code",
   "execution_count": 13,
   "id": "5d7dea58",
   "metadata": {},
   "outputs": [
    {
     "name": "stdout",
     "output_type": "stream",
     "text": [
      "Defaulting to user installation because normal site-packages is not writeable\n",
      "Collecting usaddress\n",
      "  Downloading usaddress-0.5.10-py2.py3-none-any.whl (63 kB)\n",
      "\u001b[2K     \u001b[90m━━━━━━━━━━━━━━━━━━━━━━━━━━━━━━━━━━━━━━━━\u001b[0m \u001b[32m63.9/63.9 kB\u001b[0m \u001b[31m5.7 MB/s\u001b[0m eta \u001b[36m0:00:00\u001b[0m\n",
      "\u001b[?25hRequirement already satisfied: future>=0.14 in /home/jovyan/.local/lib/python3.10/site-packages (from usaddress) (0.18.3)\n",
      "Collecting probableparsing\n",
      "  Downloading probableparsing-0.0.1-py2.py3-none-any.whl (3.1 kB)\n",
      "Collecting python-crfsuite>=0.7\n",
      "  Downloading python_crfsuite-0.9.10-cp310-cp310-manylinux_2_17_x86_64.manylinux2014_x86_64.whl (1.1 MB)\n",
      "\u001b[2K     \u001b[90m━━━━━━━━━━━━━━━━━━━━━━━━━━━━━━━━━━━━━━━━\u001b[0m \u001b[32m1.1/1.1 MB\u001b[0m \u001b[31m59.8 MB/s\u001b[0m eta \u001b[36m0:00:00\u001b[0m\n",
      "\u001b[?25hInstalling collected packages: python-crfsuite, probableparsing, usaddress\n",
      "Successfully installed probableparsing-0.0.1 python-crfsuite-0.9.10 usaddress-0.5.10\n",
      "Note: you may need to restart the kernel to use updated packages.\n"
     ]
    }
   ],
   "source": [
    "pip install usaddress"
   ]
  },
  {
   "cell_type": "code",
   "execution_count": 14,
   "id": "5eee8d37",
   "metadata": {},
   "outputs": [
    {
     "ename": "RepeatedLabelError",
     "evalue": "\nERROR: Unable to tag this string because more than one area of the string has the same label\n\nORIGINAL STRING:  aseem Mabunda 591 Smith Centers Apt. 656 Joshuamouth, RI 95963 ( The Netherlands) 410.526.1667 vpi@mn.nl | Mind Mapping, Challenge: For several years I have been working for an Asset manager in the Netherlands. During this period I have been involved in many projects. Certainly in the world of asset management, much has changed in recent years in the area of Law and Regulations\nPARSED TOKENS:    [('aseem', 'Recipient'), ('Mabunda', 'Recipient'), ('591', 'AddressNumber'), ('Smith', 'StreetName'), ('Centers', 'StreetNamePostType'), ('Apt.', 'OccupancyType'), ('656', 'OccupancyIdentifier'), ('Joshuamouth,', 'PlaceName'), ('RI', 'StateName'), ('95963', 'ZipCode'), ('The', 'Recipient'), ('Netherlands)', 'Recipient'), ('410.526.1667', 'Recipient'), ('vpi@mn.nl', 'Recipient'), ('Mind', 'Recipient'), ('Mapping,', 'Recipient'), ('Challenge:', 'Recipient'), ('For', 'Recipient'), ('several', 'Recipient'), ('years', 'Recipient'), ('I', 'Recipient'), ('have', 'Recipient'), ('been', 'Recipient'), ('working', 'Recipient'), ('for', 'Recipient'), ('an', 'Recipient'), ('Asset', 'Recipient'), ('manager', 'Recipient'), ('in', 'Recipient'), ('the', 'Recipient'), ('Netherlands.', 'Recipient'), ('During', 'Recipient'), ('this', 'Recipient'), ('period', 'Recipient'), ('I', 'Recipient'), ('have', 'Recipient'), ('been', 'Recipient'), ('involved', 'Recipient'), ('in', 'Recipient'), ('many', 'Recipient'), ('projects.', 'Recipient'), ('Certainly', 'Recipient'), ('in', 'Recipient'), ('the', 'Recipient'), ('world', 'Recipient'), ('of', 'Recipient'), ('asset', 'Recipient'), ('management,', 'Recipient'), ('much', 'Recipient'), ('has', 'Recipient'), ('changed', 'Recipient'), ('in', 'Recipient'), ('recent', 'Recipient'), ('years', 'Recipient'), ('in', 'Recipient'), ('the', 'Recipient'), ('area', 'Recipient'), ('of', 'Recipient'), ('Law', 'Recipient'), ('and', 'Recipient'), ('Regulations', 'Recipient')]\nUNCERTAIN LABEL:  Recipient\n\nWhen this error is raised, it's likely that either (1) the string is not a valid person/corporation name or (2) some tokens were labeled incorrectly\n\nTo report an error in labeling a valid name, open an issue at https://github.com/datamade/usaddress/issues/new - it'll help us continue to improve probablepeople!\n\nFor more information, see the documentation at https://usaddress.readthedocs.io/",
     "output_type": "error",
     "traceback": [
      "\u001b[0;31m---------------------------------------------------------------------------\u001b[0m",
      "\u001b[0;31mRepeatedLabelError\u001b[0m                        Traceback (most recent call last)",
      "Cell \u001b[0;32mIn[14], line 4\u001b[0m\n\u001b[1;32m      1\u001b[0m \u001b[38;5;28;01mimport\u001b[39;00m \u001b[38;5;21;01musaddress\u001b[39;00m\n\u001b[1;32m      3\u001b[0m \u001b[38;5;66;03m# text = \"Your input text here\"\u001b[39;00m\n\u001b[0;32m----> 4\u001b[0m parsed_address, address_type \u001b[38;5;241m=\u001b[39m \u001b[43musaddress\u001b[49m\u001b[38;5;241;43m.\u001b[39;49m\u001b[43mtag\u001b[49m\u001b[43m(\u001b[49m\u001b[43mtext\u001b[49m\u001b[43m)\u001b[49m\n\u001b[1;32m      6\u001b[0m \u001b[38;5;28;01mif\u001b[39;00m address_type \u001b[38;5;241m==\u001b[39m \u001b[38;5;124m'\u001b[39m\u001b[38;5;124mStreet Address\u001b[39m\u001b[38;5;124m'\u001b[39m:\n\u001b[1;32m      7\u001b[0m     \u001b[38;5;28mprint\u001b[39m(parsed_address)\n",
      "File \u001b[0;32m~/.local/lib/python3.10/site-packages/usaddress/__init__.py:177\u001b[0m, in \u001b[0;36mtag\u001b[0;34m(address_string, tag_mapping)\u001b[0m\n\u001b[1;32m    175\u001b[0m         tagged_address[label] \u001b[38;5;241m=\u001b[39m [token]\n\u001b[1;32m    176\u001b[0m     \u001b[38;5;28;01melse\u001b[39;00m:\n\u001b[0;32m--> 177\u001b[0m         \u001b[38;5;28;01mraise\u001b[39;00m RepeatedLabelError(address_string, parse(address_string),\n\u001b[1;32m    178\u001b[0m                                  label)\n\u001b[1;32m    180\u001b[0m     last_label \u001b[38;5;241m=\u001b[39m label\n\u001b[1;32m    182\u001b[0m \u001b[38;5;28;01mfor\u001b[39;00m token \u001b[38;5;129;01min\u001b[39;00m tagged_address:\n",
      "\u001b[0;31mRepeatedLabelError\u001b[0m: \nERROR: Unable to tag this string because more than one area of the string has the same label\n\nORIGINAL STRING:  aseem Mabunda 591 Smith Centers Apt. 656 Joshuamouth, RI 95963 ( The Netherlands) 410.526.1667 vpi@mn.nl | Mind Mapping, Challenge: For several years I have been working for an Asset manager in the Netherlands. During this period I have been involved in many projects. Certainly in the world of asset management, much has changed in recent years in the area of Law and Regulations\nPARSED TOKENS:    [('aseem', 'Recipient'), ('Mabunda', 'Recipient'), ('591', 'AddressNumber'), ('Smith', 'StreetName'), ('Centers', 'StreetNamePostType'), ('Apt.', 'OccupancyType'), ('656', 'OccupancyIdentifier'), ('Joshuamouth,', 'PlaceName'), ('RI', 'StateName'), ('95963', 'ZipCode'), ('The', 'Recipient'), ('Netherlands)', 'Recipient'), ('410.526.1667', 'Recipient'), ('vpi@mn.nl', 'Recipient'), ('Mind', 'Recipient'), ('Mapping,', 'Recipient'), ('Challenge:', 'Recipient'), ('For', 'Recipient'), ('several', 'Recipient'), ('years', 'Recipient'), ('I', 'Recipient'), ('have', 'Recipient'), ('been', 'Recipient'), ('working', 'Recipient'), ('for', 'Recipient'), ('an', 'Recipient'), ('Asset', 'Recipient'), ('manager', 'Recipient'), ('in', 'Recipient'), ('the', 'Recipient'), ('Netherlands.', 'Recipient'), ('During', 'Recipient'), ('this', 'Recipient'), ('period', 'Recipient'), ('I', 'Recipient'), ('have', 'Recipient'), ('been', 'Recipient'), ('involved', 'Recipient'), ('in', 'Recipient'), ('many', 'Recipient'), ('projects.', 'Recipient'), ('Certainly', 'Recipient'), ('in', 'Recipient'), ('the', 'Recipient'), ('world', 'Recipient'), ('of', 'Recipient'), ('asset', 'Recipient'), ('management,', 'Recipient'), ('much', 'Recipient'), ('has', 'Recipient'), ('changed', 'Recipient'), ('in', 'Recipient'), ('recent', 'Recipient'), ('years', 'Recipient'), ('in', 'Recipient'), ('the', 'Recipient'), ('area', 'Recipient'), ('of', 'Recipient'), ('Law', 'Recipient'), ('and', 'Recipient'), ('Regulations', 'Recipient')]\nUNCERTAIN LABEL:  Recipient\n\nWhen this error is raised, it's likely that either (1) the string is not a valid person/corporation name or (2) some tokens were labeled incorrectly\n\nTo report an error in labeling a valid name, open an issue at https://github.com/datamade/usaddress/issues/new - it'll help us continue to improve probablepeople!\n\nFor more information, see the documentation at https://usaddress.readthedocs.io/"
     ]
    }
   ],
   "source": [
    "import usaddress\n",
    "\n",
    "# text = \"Your input text here\"\n",
    "parsed_address, address_type = usaddress.tag(text)\n",
    "\n",
    "if address_type == 'Street Address':\n",
    "    print(parsed_address)\n"
   ]
  },
  {
   "cell_type": "code",
   "execution_count": null,
   "id": "e3931999",
   "metadata": {},
   "outputs": [],
   "source": []
  }
 ],
 "metadata": {
  "kernelspec": {
   "display_name": "Python 3 (ipykernel)",
   "language": "python",
   "name": "python3"
  },
  "language_info": {
   "codemirror_mode": {
    "name": "ipython",
    "version": 3
   },
   "file_extension": ".py",
   "mimetype": "text/x-python",
   "name": "python",
   "nbconvert_exporter": "python",
   "pygments_lexer": "ipython3",
   "version": "3.10.9"
  }
 },
 "nbformat": 4,
 "nbformat_minor": 5
}

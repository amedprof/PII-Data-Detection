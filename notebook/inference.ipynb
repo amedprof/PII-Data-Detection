{
 "cells": [
  {
   "cell_type": "code",
   "execution_count": 1,
   "id": "4a5a5fe2",
   "metadata": {},
   "outputs": [
    {
     "name": "stdout",
     "output_type": "stream",
     "text": [
      "/workspace/Script/NLP/PII/src\n"
     ]
    }
   ],
   "source": [
    "cd ../src"
   ]
  },
  {
   "cell_type": "code",
   "execution_count": 2,
   "id": "84bf958e",
   "metadata": {},
   "outputs": [],
   "source": [
    "import os\n",
    "import gc\n",
    "import sys\n",
    "import json\n",
    "import time\n",
    "import torch\n",
    "import joblib\n",
    "import random\n",
    "import numpy as np\n",
    "import pandas as pd\n",
    "from tqdm.auto import tqdm\n",
    "from pathlib import Path\n",
    "import plotly.express as px\n",
    "import matplotlib.pyplot as plt\n",
    "\n",
    "pd.set_option('display.max_rows', 500)\n",
    "pd.set_option('display.max_columns', 500)\n",
    "pd.set_option('display.width', 1000)\n",
    "pd.set_option('display.float_format', lambda x: '%.4f' % x)"
   ]
  },
  {
   "cell_type": "code",
   "execution_count": 3,
   "id": "ff6482fe",
   "metadata": {},
   "outputs": [],
   "source": [
    "import re\n",
    "import os\n",
    "import gc\n",
    "import math\n",
    "import time\n",
    "import json\n",
    "import random\n",
    "import numpy as np\n",
    "import pandas as pd\n",
    "import wandb\n",
    "\n",
    "from pathlib import Path\n",
    "\n",
    "import torch \n",
    "import torch.nn as nn\n",
    "from torch.cuda import amp\n",
    "import torch.optim as optim\n",
    "import torch.nn.functional as F\n",
    "\n",
    "from transformers import AutoTokenizer, AutoModel, AutoConfig\n",
    " \n",
    "from data.data_utils import to_gpu,to_np\n",
    "from data.dataset import FeedbackDataset,CustomCollator\n",
    "from torch.utils.data import DataLoader\n",
    "\n",
    "from model_zoo.models import FeedbackModel,span_nms,aggregate_tokens_to_words\n",
    "from metrics_loss.metrics import score_feedback,score,pii_fbeta_score_v2,compute_metrics\n",
    "from transformers import get_linear_schedule_with_warmup,get_cosine_schedule_with_warmup,get_polynomial_decay_schedule_with_warmup,get_cosine_with_hard_restarts_schedule_with_warmup\n",
    "\n",
    "from sklearn.metrics import log_loss \n",
    "from tqdm.auto import tqdm\n",
    "\n",
    "from utils.utils import count_parameters\n",
    "import matplotlib.pyplot as plt\n",
    "import warnings\n",
    "warnings.filterwarnings(\"ignore\")"
   ]
  },
  {
   "cell_type": "code",
   "execution_count": 4,
   "id": "a7704609",
   "metadata": {},
   "outputs": [],
   "source": [
    "os.environ[\"TOKENIZERS_PARALLELISM\"] = \"true\""
   ]
  },
  {
   "cell_type": "markdown",
   "id": "8895aef6",
   "metadata": {},
   "source": [
    "# Params"
   ]
  },
  {
   "cell_type": "code",
   "execution_count": 5,
   "id": "5d0104cc",
   "metadata": {},
   "outputs": [
    {
     "data": {
      "text/plain": [
       "['train.json',\n",
       " 'dubai-ar.zip',\n",
       " 'pii_dataset_fixed.csv',\n",
       " 'mixtral-8x7b-v1.json',\n",
       " '.~lock.lecture2.pptx#',\n",
       " 'openaddr-collected-global.zip',\n",
       " 'lecture2.pptx',\n",
       " 'openaddr-collected-us_west-sa.zip',\n",
       " 'test.json',\n",
       " 'moredata_dataset_fixed.csv',\n",
       " 'sample_submission.csv']"
      ]
     },
     "execution_count": 5,
     "metadata": {},
     "output_type": "execute_result"
    }
   ],
   "source": [
    "data_path = Path(r\"/database/kaggle/PII/data\")\n",
    "os.listdir(data_path)"
   ]
  },
  {
   "cell_type": "code",
   "execution_count": 6,
   "id": "b34e2843",
   "metadata": {},
   "outputs": [],
   "source": [
    "CHECKPOINT_PATH = Path(r\"/database/kaggle/PII/checkpoint\")"
   ]
  },
  {
   "cell_type": "code",
   "execution_count": 7,
   "id": "9c19b120",
   "metadata": {},
   "outputs": [
    {
     "data": {
      "text/plain": [
       "(6807, 5)"
      ]
     },
     "execution_count": 7,
     "metadata": {},
     "output_type": "execute_result"
    }
   ],
   "source": [
    "df = pd.read_json(data_path/'train.json')\n",
    "df.shape"
   ]
  },
  {
   "cell_type": "code",
   "execution_count": 8,
   "id": "d4bfe6a8",
   "metadata": {},
   "outputs": [
    {
     "data": {
      "text/html": [
       "<div>\n",
       "<style scoped>\n",
       "    .dataframe tbody tr th:only-of-type {\n",
       "        vertical-align: middle;\n",
       "    }\n",
       "\n",
       "    .dataframe tbody tr th {\n",
       "        vertical-align: top;\n",
       "    }\n",
       "\n",
       "    .dataframe thead th {\n",
       "        text-align: right;\n",
       "    }\n",
       "</style>\n",
       "<table border=\"1\" class=\"dataframe\">\n",
       "  <thead>\n",
       "    <tr style=\"text-align: right;\">\n",
       "      <th></th>\n",
       "      <th>document</th>\n",
       "      <th>full_text</th>\n",
       "      <th>tokens</th>\n",
       "      <th>trailing_whitespace</th>\n",
       "      <th>labels</th>\n",
       "    </tr>\n",
       "  </thead>\n",
       "  <tbody>\n",
       "    <tr>\n",
       "      <th>0</th>\n",
       "      <td>7</td>\n",
       "      <td>Design Thinking for innovation reflexion-Avril...</td>\n",
       "      <td>[Design, Thinking, for, innovation, reflexion,...</td>\n",
       "      <td>[True, True, True, True, False, False, True, F...</td>\n",
       "      <td>[O, O, O, O, O, O, O, O, O, B-NAME_STUDENT, I-...</td>\n",
       "    </tr>\n",
       "    <tr>\n",
       "      <th>1</th>\n",
       "      <td>10</td>\n",
       "      <td>Diego Estrada\\n\\nDesign Thinking Assignment\\n\\...</td>\n",
       "      <td>[Diego, Estrada, \\n\\n, Design, Thinking, Assig...</td>\n",
       "      <td>[True, False, False, True, True, False, False,...</td>\n",
       "      <td>[B-NAME_STUDENT, I-NAME_STUDENT, O, O, O, O, O...</td>\n",
       "    </tr>\n",
       "  </tbody>\n",
       "</table>\n",
       "</div>"
      ],
      "text/plain": [
       "   document                                          full_text                                             tokens                                trailing_whitespace                                             labels\n",
       "0         7  Design Thinking for innovation reflexion-Avril...  [Design, Thinking, for, innovation, reflexion,...  [True, True, True, True, False, False, True, F...  [O, O, O, O, O, O, O, O, O, B-NAME_STUDENT, I-...\n",
       "1        10  Diego Estrada\\n\\nDesign Thinking Assignment\\n\\...  [Diego, Estrada, \\n\\n, Design, Thinking, Assig...  [True, False, False, True, True, False, False,...  [B-NAME_STUDENT, I-NAME_STUDENT, O, O, O, O, O..."
      ]
     },
     "execution_count": 8,
     "metadata": {},
     "output_type": "execute_result"
    }
   ],
   "source": [
    "df.head(2)"
   ]
  },
  {
   "cell_type": "code",
   "execution_count": 9,
   "id": "f3377d17",
   "metadata": {},
   "outputs": [],
   "source": [
    "external_data = True"
   ]
  },
  {
   "cell_type": "code",
   "execution_count": 10,
   "id": "00731c2c",
   "metadata": {},
   "outputs": [
    {
     "name": "stdout",
     "output_type": "stream",
     "text": [
      "Using external data\n"
     ]
    }
   ],
   "source": [
    "if external_data:\n",
    "    print(\"Using external data\")\n",
    "    dx = pd.read_json(data_path/f'mixtral-8x7b-v1.json')\n",
    "    # dx[name] = -1\n",
    "    df = pd.concat([df,dx],axis=0).reset_index(drop=True)"
   ]
  },
  {
   "cell_type": "code",
   "execution_count": 11,
   "id": "c2c78e2e",
   "metadata": {},
   "outputs": [
    {
     "data": {
      "text/plain": [
       "(9162, 5)"
      ]
     },
     "execution_count": 11,
     "metadata": {},
     "output_type": "execute_result"
    }
   ],
   "source": [
    "df.shape"
   ]
  },
  {
   "cell_type": "code",
   "execution_count": 12,
   "id": "922e6e00",
   "metadata": {},
   "outputs": [],
   "source": [
    "from sklearn.model_selection import GroupKFold,StratifiedGroupKFold,KFold,StratifiedKFold"
   ]
  },
  {
   "cell_type": "code",
   "execution_count": 13,
   "id": "f3eef037",
   "metadata": {},
   "outputs": [],
   "source": [
    "df['has_label'] = (df['labels'].transform(lambda x:len([i for i in x if i!=\"O\" ]))>0)*1\n",
    "seeds = [42]\n",
    "folds_names = []\n",
    "for K in [5]:  \n",
    "    for seed in seeds:\n",
    "        mskf = StratifiedKFold(n_splits=K,shuffle=True,random_state=seed)\n",
    "        name = f\"fold_sk_{K}_seed_{seed}\"\n",
    "        df[name] = -1\n",
    "        for fold, (trn_, val_) in enumerate(mskf.split(df,df['has_label'])):\n",
    "            df.loc[val_, name] = fold"
   ]
  },
  {
   "cell_type": "code",
   "execution_count": 9,
   "id": "9d7338e3",
   "metadata": {},
   "outputs": [],
   "source": [
    "from iterstrat.ml_stratifiers import MultilabelStratifiedKFold"
   ]
  },
  {
   "cell_type": "code",
   "execution_count": 10,
   "id": "94035a7a",
   "metadata": {},
   "outputs": [],
   "source": [
    "LABEL2TYPE = ('NAME_STUDENT','EMAIL','USERNAME','ID_NUM', 'PHONE_NUM','URL_PERSONAL','STREET_ADDRESS','O')\n",
    "for name in LABEL2TYPE[:-1]:\n",
    "    df[name] = ((df['labels'].transform(lambda x:len([i for i in x if i.split('-')[-1]==name ])))>0)*1\n",
    "\n",
    "seeds = [42]\n",
    "folds_names = []\n",
    "for K in [5]:  \n",
    "    for seed in seeds:\n",
    "        mskf = MultilabelStratifiedKFold(n_splits=K,shuffle=True,random_state=seed)\n",
    "        name = f\"fold_msk_{K}_seed_{seed}\"\n",
    "        df[name] = -1\n",
    "        for fold, (trn_, val_) in enumerate(mskf.split(df,df[list(LABEL2TYPE)[:-1]])):\n",
    "            df.loc[val_, name] = fold"
   ]
  },
  {
   "cell_type": "markdown",
   "id": "9ac0ec52",
   "metadata": {},
   "source": [
    "# Data"
   ]
  },
  {
   "cell_type": "code",
   "execution_count": 11,
   "id": "b98f9574",
   "metadata": {},
   "outputs": [],
   "source": [
    "from train_utils import inference_step\n",
    "from types import SimpleNamespace"
   ]
  },
  {
   "cell_type": "code",
   "execution_count": 12,
   "id": "6308abd6",
   "metadata": {},
   "outputs": [],
   "source": [
    "ID_TYPE = {\"0-0\":0,\"0-1\":1,\n",
    "           \"1-0\":2,\"1-1\":3,\n",
    "           \"2-0\":4,\"2-1\":5,\n",
    "           \"3-0\":6,\"3-1\":7,\n",
    "           \"4-0\":8,\"4-1\":9,\n",
    "           \"5-0\":10,\"5-1\":11,\n",
    "           \"6-0\":12,\"6-1\":13\n",
    "          }\n",
    "ID_NAME = {\"0-0\":\"B-NAME_STUDENT\",\"0-1\":\"I-NAME_STUDENT\",\n",
    "           \"1-0\":\"B-EMAIL\",\"1-1\":\"I-EMAIL\",\n",
    "           \"2-0\":\"B-USERNAME\",\"2-1\":\"I-USERNAME\",\n",
    "           \"3-0\":\"B-ID_NUM\",\"3-1\":\"I-ID_NUM\",\n",
    "           \"4-0\":\"B-PHONE_NUM\",\"4-1\":\"I-PHONE_NUM\",\n",
    "           \"5-0\":\"B-URL_PERSONAL\",\"5-1\":\"I-URL_PERSONAL\",\n",
    "           \"6-0\":\"B-STREET_ADDRESS\",\"6-1\":\"I-STREET_ADDRESS\",\n",
    "           \"7-0\":\"O\",\"7-1\":\"O\"\n",
    "          }\n",
    "\n",
    "def inference_steps(df,folder,bs=1,fold=0):\n",
    "    \n",
    "    # ==== Loading Args =========== #\n",
    "    f = open(f'{folder}/params.json')\n",
    "    args = json.load(f)\n",
    "    args = SimpleNamespace(**args)\n",
    "    args.val_loader['batch_size'] = bs\n",
    "    args.model['pretrained_tokenizer'] = f\"{folder}/tokenizer\"\n",
    "    args.model['model_params']['config_path'] = f\"{folder}/config.pth\"\n",
    "    args.model['pretrained_weights'] = None\n",
    "    args.model[\"model_params\"]['pretrained_path'] = None\n",
    "#     args.model[\"model_params\"]['max_len'] = 3048\n",
    "    \n",
    "    args.device = 1\n",
    "    f.close()\n",
    "    device = torch.device(f\"cuda:{args.device}\" if torch.cuda.is_available() else \"cpu\")\n",
    "    \n",
    "    # ==== Loading dataset =========== #\n",
    "    tokenizer = AutoTokenizer.from_pretrained(args.model[\"model_params\"]['model_name'])\n",
    "    valid_dataset = eval(args.dataset)(df,tokenizer,**args.data[\"params_valid\"])\n",
    "    \n",
    "    \n",
    "    \n",
    "    # ==== Loading checkpoints =========== #\n",
    "    checkpoints = [x.as_posix() for x in (Path(folder)).glob(\"*.pth\") if f\"fold_{fold}\" in x.as_posix()]\n",
    "    print(checkpoints)\n",
    "    weights = [1/len(checkpoints)]*len(checkpoints)\n",
    "    \n",
    "    \n",
    "    # ==== Loop Inference =========== #\n",
    "    doc_ids = []\n",
    "    tokens = []\n",
    "    predictions = None\n",
    "    gt_df = []\n",
    "    for j,(checkpoint,weight) in enumerate(zip(checkpoints,weights)):\n",
    "        net = FeedbackModel(**args.model[\"model_params\"])\n",
    "        net.load_state_dict(torch.load(checkpoint, map_location=lambda storage, loc: storage))\n",
    "        net = net.to(device)\n",
    "        net.eval()\n",
    "        \n",
    "        collator = CustomCollator(tokenizer,net)\n",
    "        val_loader = DataLoader(valid_dataset,**args.val_loader,collate_fn=collator)\n",
    "    \n",
    "\n",
    "        \n",
    "        preds = []\n",
    "        with torch.no_grad():\n",
    "            for data in tqdm(val_loader):\n",
    "                data = to_gpu(data, device)\n",
    "                \n",
    "                pred = net(data)['pred']\n",
    "                preds.append(pred.detach().cpu().to(torch.float32))\n",
    "#                 pred  = pred.softmax(-1)\n",
    "                \n",
    "                \n",
    "                if j==0:\n",
    "                \n",
    "                    doc_ids+=[data['text_id']]*pred.shape[0]\n",
    "                    tokens+=np.arange(pred.shape[0]).tolist()\n",
    "                    \n",
    "                    data = to_np(data)\n",
    "                    gt = pd.DataFrame({\n",
    "                                      \"document\":data['text_id'],\n",
    "                                      \"token\":np.arange(pred.shape[0]),\n",
    "                                      \"label\":data[\"gt_spans\"][:,1],\n",
    "                                      \"I\":data[\"gt_spans\"][:,2],\n",
    "                                     })\n",
    "                    gt_df.append(gt)\n",
    "\n",
    "        \n",
    "        if predictions is not None:\n",
    "#             predictions = torch.max(predictions,torch.cat(preds,dim=0))\n",
    "            predictions+= torch.cat(preds,dim=0)*weight\n",
    "        else:\n",
    "            predictions = torch.cat(preds,dim=0)*weight\n",
    "#             predictions+= torch.cat(preds,dim=0)*weight\n",
    "        print(predictions.shape)\n",
    "    \n",
    "    predictions = predictions.softmax(-1)\n",
    "    s,i = predictions.max(-1)\n",
    "    pred_df = pd.DataFrame({\"document\":doc_ids,\n",
    "                                 \"token\" : tokens,\n",
    "                                 \"label\" : i.numpy() ,\n",
    "                                 \"score\" : s.numpy() ,\n",
    "#                                  \"o_score\":predictions[:,-1].numpy()\n",
    "                                 })\n",
    "    \n",
    "    # ==== Loop Inference =========== #\n",
    "    del valid_dataset\n",
    "    del val_loader\n",
    "    del net\n",
    "    del s,i\n",
    "    del predictions\n",
    "\n",
    "    gc.collect()\n",
    "#     torch.cuda.empty_cache()\n",
    "    \n",
    "    # ==== Loop Inference =========== #\n",
    "#     pred_df = pred_df[(pred_df.label!=7) & (pred_df.score>0.5)].reset_index(drop=True)\n",
    "#     pred_df[\"I\"] = ((pred_df.groupby('document')['label'].transform(lambda x:x.diff())==0) & (pred_df.groupby('document')['token'].transform(lambda x:x.diff())==1))*1\n",
    "#     pred_df['labels'] = pred_df['label'].astype(str)+'-'+pred_df['I'].astype(str)\n",
    "#     pred_df[\"label_pred\"] = pred_df[\"labels\"].map(ID_TYPE).fillna(0).astype(int)\n",
    "#     pred_df['row_id'] = np.arange(len(pred_df))\n",
    "    \n",
    "\n",
    "    gt_df = pd.concat(gt_df,axis=0).reset_index(drop=True)\n",
    "    gt_df = gt_df[gt_df.label!=7].reset_index(drop=True)\n",
    "    gt_df['labels'] = gt_df['label'].astype(str)+'-'+gt_df['I'].astype(str)\n",
    "    gt_df[\"label_gt\"] = gt_df[\"labels\"].map(ID_TYPE).fillna(0).astype(int)\n",
    "    gt_df['row_id'] = np.arange(len(gt_df))\n",
    "\n",
    "    \n",
    "    \n",
    "    return pred_df , gt_df"
   ]
  },
  {
   "cell_type": "code",
   "execution_count": 13,
   "id": "2e28aa78",
   "metadata": {},
   "outputs": [
    {
     "data": {
      "text/plain": [
       "['fold_3 _epoch_5 _step_5856 _valid_loss_0.0071 _f5_micro_0.9985 _train_loss_0.0006.pth',\n",
       " 'tokenizer',\n",
       " 'params.json',\n",
       " 'fold_2 _epoch_9 _step_7331 _valid_loss_0.0072 _f5_micro_0.9984 _train_loss_0.0001.pth',\n",
       " 'fold_1 _epoch_5 _step_4397 _valid_loss_0.0060 _f5_micro_0.9982 _train_loss_0.0012.pth',\n",
       " 'fold_4 _epoch_5 _step_7322 _valid_loss_0.0051 _f5_micro_0.9978 _train_loss_0.0011.pth',\n",
       " 'config.pth',\n",
       " 'fold_0 _epoch_8 _step_7331 _valid_loss_0.0080 _f5_micro_0.9981 _train_loss_0.0004.pth']"
      ]
     },
     "execution_count": 13,
     "metadata": {},
     "output_type": "execute_result"
    }
   ],
   "source": [
    "FOLD_NAME = \"fold_msk_5_seed_42\"\n",
    "model_name = \"deberta-v3-large\"\n",
    "exp_name = \"2024-02-04--vsub1\"\n",
    "folder = str(CHECKPOINT_PATH/Path(fr'{FOLD_NAME}/{model_name}/{exp_name}')) \n",
    "os.listdir(folder)"
   ]
  },
  {
   "cell_type": "code",
   "execution_count": 14,
   "id": "34195a9d",
   "metadata": {},
   "outputs": [
    {
     "data": {
      "text/plain": [
       "4    1362\n",
       "2    1362\n",
       "3    1361\n",
       "0    1361\n",
       "1    1361\n",
       "Name: fold_msk_5_seed_42, dtype: int64"
      ]
     },
     "execution_count": 14,
     "metadata": {},
     "output_type": "execute_result"
    }
   ],
   "source": [
    "df[FOLD_NAME].value_counts()"
   ]
  },
  {
   "cell_type": "code",
   "execution_count": 15,
   "id": "9c509b63",
   "metadata": {},
   "outputs": [],
   "source": [
    "FOLD = 0"
   ]
  },
  {
   "cell_type": "code",
   "execution_count": 16,
   "id": "18e60b27",
   "metadata": {
    "scrolled": false
   },
   "outputs": [
    {
     "name": "stdout",
     "output_type": "stream",
     "text": [
      "Warning : n SEP will be replace by | \n",
      "Loaded 1361 samples.\n",
      "['/database/kaggle/PII/checkpoint/fold_msk_5_seed_42/deberta-v3-large/2024-02-04--vsub1/fold_0 _epoch_8 _step_7331 _valid_loss_0.0080 _f5_micro_0.9981 _train_loss_0.0004.pth']\n",
      "Pooling: MeanPooling\n"
     ]
    },
    {
     "data": {
      "application/vnd.jupyter.widget-view+json": {
       "model_id": "0f550eb8743844bfae021f3362f23c8b",
       "version_major": 2,
       "version_minor": 0
      },
      "text/plain": [
       "  0%|          | 0/1361 [00:01<?, ?it/s]"
      ]
     },
     "metadata": {},
     "output_type": "display_data"
    },
    {
     "name": "stdout",
     "output_type": "stream",
     "text": [
      "torch.Size([997332, 8])\n"
     ]
    }
   ],
   "source": [
    "pred_df_dv3,gt_df = inference_steps(df[df[FOLD_NAME]==FOLD],folder,bs=1,fold=FOLD)"
   ]
  },
  {
   "cell_type": "code",
   "execution_count": 17,
   "id": "6f441bd7",
   "metadata": {},
   "outputs": [],
   "source": [
    "g  = gt_df.copy()"
   ]
  },
  {
   "cell_type": "code",
   "execution_count": 18,
   "id": "4e64300b",
   "metadata": {},
   "outputs": [],
   "source": [
    "gt_df['label'] = gt_df['labels'].map(ID_NAME)"
   ]
  },
  {
   "cell_type": "code",
   "execution_count": 53,
   "id": "828b2a49",
   "metadata": {},
   "outputs": [],
   "source": [
    "pred_df = pred_df_dv3.copy()#pred_df_dv3[(pred_df_dv3.label!=7) & (pred_df_dv3.score>0.15)].reset_index(drop=True)"
   ]
  },
  {
   "cell_type": "code",
   "execution_count": null,
   "id": "a92af310",
   "metadata": {},
   "outputs": [],
   "source": []
  },
  {
   "cell_type": "code",
   "execution_count": 54,
   "id": "587c3d69",
   "metadata": {},
   "outputs": [],
   "source": [
    "def make_pred_df(pred_df,threshold=0.15):\n",
    "    \n",
    "    pred_df[\"label_next_e_prev\"] = pred_df.groupby('document')['label'].transform(lambda x: (x.shift(1)==x.shift(-1))*1)\n",
    "    pred_df[\"label_next\"] = pred_df.groupby('document')['label'].transform(lambda x: x.shift(1))\n",
    "    pred_df[\"label_next_e_prev\"] = ((pred_df[\"label_next_e_prev\"]==1) & (pred_df[\"label_next\"]==6))*1\n",
    "    pred_df[\"score_next\"] = pred_df.groupby('document')['score'].transform(lambda x: x.shift(1))\n",
    "    pred_df.loc[pred_df[\"label_next_e_prev\"]==1,\"label\"] = pred_df.loc[pred_df[\"label_next_e_prev\"]==1,\"label_next\"]\n",
    "    pred_df.loc[pred_df[\"label_next_e_prev\"]==1,\"score\"] = pred_df.loc[pred_df[\"label_next_e_prev\"]==1,\"score_next\"]\n",
    "    \n",
    "    \n",
    "#     pred_df = pred_df[(pred_df.label!=7) & ((pred_df.score>threshold))].reset_index(drop=True)\n",
    "    \n",
    "    pred_df[\"I\"] = ((pred_df.groupby('document')['label'].transform(lambda x:x.diff())==0) & (pred_df.groupby('document')['token'].transform(lambda x:x.diff())==1))*1\n",
    "    pred_df['labels'] = pred_df['label'].astype(str)+'-'+pred_df['I'].astype(str)\n",
    "    pred_df[\"label_pred\"] = pred_df[\"labels\"].map(ID_TYPE).fillna(0).astype(int)\n",
    "    pred_df['row_id'] = np.arange(len(pred_df))\n",
    "    \n",
    "    pred_df['label'] = pred_df['labels'].map(ID_NAME)\n",
    "    return pred_df"
   ]
  },
  {
   "cell_type": "code",
   "execution_count": 55,
   "id": "6d4321d5",
   "metadata": {},
   "outputs": [],
   "source": [
    "pred_df = make_pred_df(pred_df,threshold=0.15)"
   ]
  },
  {
   "cell_type": "code",
   "execution_count": 36,
   "id": "097c9edb",
   "metadata": {},
   "outputs": [
    {
     "data": {
      "text/plain": [
       "{'f5_prec': 0.7753623188405797,\n",
       " 'f5_rec': 0.9907407407407407,\n",
       " 'f5_micro': 0.9802677942212826,\n",
       " 'ents_per_type': {'NAME_STUDENT': 0.9830722986869167,\n",
       "  'ID_NUM': 0.8965517241379312,\n",
       "  'URL_PERSONAL': 0.989345509893455,\n",
       "  'EMAIL': 1.0,\n",
       "  'USERNAME': 0.9285714285714286,\n",
       "  'PHONE_NUM': 1.0}}"
      ]
     },
     "execution_count": 36,
     "metadata": {},
     "output_type": "execute_result"
    }
   ],
   "source": [
    "s = compute_metrics(pred_df, gt_df)\n",
    "s"
   ]
  },
  {
   "cell_type": "code",
   "execution_count": 37,
   "id": "3348cdac",
   "metadata": {},
   "outputs": [
    {
     "data": {
      "text/plain": [
       "{'NAME_STUDENT': 0.9830722986869167,\n",
       " 'ID_NUM': 0.8965517241379312,\n",
       " 'URL_PERSONAL': 0.989345509893455,\n",
       " 'EMAIL': 1.0,\n",
       " 'USERNAME': 0.9285714285714286,\n",
       " 'PHONE_NUM': 1.0}"
      ]
     },
     "execution_count": 37,
     "metadata": {},
     "output_type": "execute_result"
    }
   ],
   "source": [
    "s['ents_per_type']"
   ]
  },
  {
   "cell_type": "code",
   "execution_count": 38,
   "id": "be22cbaa",
   "metadata": {},
   "outputs": [
    {
     "data": {
      "text/html": [
       "<div>\n",
       "<style scoped>\n",
       "    .dataframe tbody tr th:only-of-type {\n",
       "        vertical-align: middle;\n",
       "    }\n",
       "\n",
       "    .dataframe tbody tr th {\n",
       "        vertical-align: top;\n",
       "    }\n",
       "\n",
       "    .dataframe thead th {\n",
       "        text-align: right;\n",
       "    }\n",
       "</style>\n",
       "<table border=\"1\" class=\"dataframe\">\n",
       "  <thead>\n",
       "    <tr style=\"text-align: right;\">\n",
       "      <th></th>\n",
       "      <th>NAME_STUDENT</th>\n",
       "      <th>ID_NUM</th>\n",
       "      <th>URL_PERSONAL</th>\n",
       "      <th>EMAIL</th>\n",
       "      <th>USERNAME</th>\n",
       "      <th>PHONE_NUM</th>\n",
       "    </tr>\n",
       "  </thead>\n",
       "  <tbody>\n",
       "    <tr>\n",
       "      <th>0</th>\n",
       "      <td>0.9831</td>\n",
       "      <td>0.8966</td>\n",
       "      <td>0.9893</td>\n",
       "      <td>1.0000</td>\n",
       "      <td>0.9286</td>\n",
       "      <td>1.0000</td>\n",
       "    </tr>\n",
       "  </tbody>\n",
       "</table>\n",
       "</div>"
      ],
      "text/plain": [
       "   NAME_STUDENT  ID_NUM  URL_PERSONAL  EMAIL  USERNAME  PHONE_NUM\n",
       "0        0.9831  0.8966        0.9893 1.0000    0.9286     1.0000"
      ]
     },
     "execution_count": 38,
     "metadata": {},
     "output_type": "execute_result"
    }
   ],
   "source": [
    "pd.DataFrame({x:[y] for x,y in s['ents_per_type'].items()})"
   ]
  },
  {
   "cell_type": "code",
   "execution_count": 39,
   "id": "4cc45356",
   "metadata": {},
   "outputs": [
    {
     "data": {
      "text/plain": [
       "1361"
      ]
     },
     "execution_count": 39,
     "metadata": {},
     "output_type": "execute_result"
    }
   ],
   "source": [
    "documents = df[df[FOLD_NAME]==FOLD].document.unique()\n",
    "len(documents)"
   ]
  },
  {
   "cell_type": "code",
   "execution_count": 47,
   "id": "96c3ebe5",
   "metadata": {},
   "outputs": [
    {
     "data": {
      "application/vnd.jupyter.widget-view+json": {
       "model_id": "bc911bd9823a4eb287b45d68495784be",
       "version_major": 2,
       "version_minor": 0
      },
      "text/plain": [
       "  0%|          | 0/1361 [00:00<?, ?it/s]"
      ]
     },
     "metadata": {},
     "output_type": "display_data"
    }
   ],
   "source": [
    "df_score = []\n",
    "for doc in tqdm(documents):\n",
    "    p = pred_df[pred_df.document==doc].reset_index(drop=True)\n",
    "    gp = gt_df[gt_df.document==doc].reset_index(drop=True)\n",
    "    \n",
    "    s = compute_metrics(p, gp)\n",
    "    \n",
    "    d = pd.DataFrame({x:[y] for x,y in s['ents_per_type'].items()})\n",
    "    d[\"f5_micro\"] = s['f5_micro']\n",
    "    d['document'] = doc\n",
    "    df_score.append(d)"
   ]
  },
  {
   "cell_type": "code",
   "execution_count": 48,
   "id": "1b76a6ab",
   "metadata": {},
   "outputs": [
    {
     "data": {
      "text/html": [
       "<div>\n",
       "<style scoped>\n",
       "    .dataframe tbody tr th:only-of-type {\n",
       "        vertical-align: middle;\n",
       "    }\n",
       "\n",
       "    .dataframe tbody tr th {\n",
       "        vertical-align: top;\n",
       "    }\n",
       "\n",
       "    .dataframe thead th {\n",
       "        text-align: right;\n",
       "    }\n",
       "</style>\n",
       "<table border=\"1\" class=\"dataframe\">\n",
       "  <thead>\n",
       "    <tr style=\"text-align: right;\">\n",
       "      <th></th>\n",
       "      <th>document</th>\n",
       "      <th>token</th>\n",
       "      <th>label</th>\n",
       "      <th>I</th>\n",
       "      <th>labels</th>\n",
       "      <th>label_gt</th>\n",
       "      <th>row_id</th>\n",
       "    </tr>\n",
       "  </thead>\n",
       "  <tbody>\n",
       "  </tbody>\n",
       "</table>\n",
       "</div>"
      ],
      "text/plain": [
       "Empty DataFrame\n",
       "Columns: [document, token, label, I, labels, label_gt, row_id]\n",
       "Index: []"
      ]
     },
     "execution_count": 48,
     "metadata": {},
     "output_type": "execute_result"
    }
   ],
   "source": [
    "gp"
   ]
  },
  {
   "cell_type": "code",
   "execution_count": 50,
   "id": "66036481",
   "metadata": {},
   "outputs": [],
   "source": [
    "df_score = pd.concat(df_score).reset_index(drop=True)"
   ]
  },
  {
   "cell_type": "code",
   "execution_count": 52,
   "id": "dc54c2db",
   "metadata": {},
   "outputs": [
    {
     "data": {
      "text/html": [
       "<div>\n",
       "<style scoped>\n",
       "    .dataframe tbody tr th:only-of-type {\n",
       "        vertical-align: middle;\n",
       "    }\n",
       "\n",
       "    .dataframe tbody tr th {\n",
       "        vertical-align: top;\n",
       "    }\n",
       "\n",
       "    .dataframe thead th {\n",
       "        text-align: right;\n",
       "    }\n",
       "</style>\n",
       "<table border=\"1\" class=\"dataframe\">\n",
       "  <thead>\n",
       "    <tr style=\"text-align: right;\">\n",
       "      <th></th>\n",
       "      <th>NAME_STUDENT</th>\n",
       "      <th>f5_micro</th>\n",
       "      <th>document</th>\n",
       "      <th>URL_PERSONAL</th>\n",
       "      <th>ID_NUM</th>\n",
       "      <th>EMAIL</th>\n",
       "      <th>PHONE_NUM</th>\n",
       "      <th>USERNAME</th>\n",
       "    </tr>\n",
       "  </thead>\n",
       "  <tbody>\n",
       "    <tr>\n",
       "      <th>4</th>\n",
       "      <td>0.0000</td>\n",
       "      <td>0.0000</td>\n",
       "      <td>204</td>\n",
       "      <td>NaN</td>\n",
       "      <td>NaN</td>\n",
       "      <td>NaN</td>\n",
       "      <td>NaN</td>\n",
       "      <td>NaN</td>\n",
       "    </tr>\n",
       "    <tr>\n",
       "      <th>122</th>\n",
       "      <td>0.0000</td>\n",
       "      <td>0.0000</td>\n",
       "      <td>8758</td>\n",
       "      <td>NaN</td>\n",
       "      <td>NaN</td>\n",
       "      <td>NaN</td>\n",
       "      <td>NaN</td>\n",
       "      <td>NaN</td>\n",
       "    </tr>\n",
       "    <tr>\n",
       "      <th>127</th>\n",
       "      <td>0.0000</td>\n",
       "      <td>0.0000</td>\n",
       "      <td>9031</td>\n",
       "      <td>NaN</td>\n",
       "      <td>NaN</td>\n",
       "      <td>NaN</td>\n",
       "      <td>NaN</td>\n",
       "      <td>NaN</td>\n",
       "    </tr>\n",
       "    <tr>\n",
       "      <th>132</th>\n",
       "      <td>0.0000</td>\n",
       "      <td>0.0000</td>\n",
       "      <td>9313</td>\n",
       "      <td>NaN</td>\n",
       "      <td>NaN</td>\n",
       "      <td>NaN</td>\n",
       "      <td>NaN</td>\n",
       "      <td>NaN</td>\n",
       "    </tr>\n",
       "    <tr>\n",
       "      <th>134</th>\n",
       "      <td>0.0000</td>\n",
       "      <td>0.0000</td>\n",
       "      <td>9399</td>\n",
       "      <td>NaN</td>\n",
       "      <td>NaN</td>\n",
       "      <td>NaN</td>\n",
       "      <td>NaN</td>\n",
       "      <td>NaN</td>\n",
       "    </tr>\n",
       "    <tr>\n",
       "      <th>146</th>\n",
       "      <td>0.0000</td>\n",
       "      <td>0.0000</td>\n",
       "      <td>9961</td>\n",
       "      <td>NaN</td>\n",
       "      <td>NaN</td>\n",
       "      <td>NaN</td>\n",
       "      <td>NaN</td>\n",
       "      <td>NaN</td>\n",
       "    </tr>\n",
       "    <tr>\n",
       "      <th>150</th>\n",
       "      <td>0.0000</td>\n",
       "      <td>0.0000</td>\n",
       "      <td>10070</td>\n",
       "      <td>NaN</td>\n",
       "      <td>NaN</td>\n",
       "      <td>NaN</td>\n",
       "      <td>NaN</td>\n",
       "      <td>NaN</td>\n",
       "    </tr>\n",
       "    <tr>\n",
       "      <th>171</th>\n",
       "      <td>0.0000</td>\n",
       "      <td>0.0000</td>\n",
       "      <td>11856</td>\n",
       "      <td>NaN</td>\n",
       "      <td>NaN</td>\n",
       "      <td>NaN</td>\n",
       "      <td>NaN</td>\n",
       "      <td>NaN</td>\n",
       "    </tr>\n",
       "    <tr>\n",
       "      <th>174</th>\n",
       "      <td>0.0000</td>\n",
       "      <td>0.0000</td>\n",
       "      <td>11896</td>\n",
       "      <td>NaN</td>\n",
       "      <td>NaN</td>\n",
       "      <td>NaN</td>\n",
       "      <td>NaN</td>\n",
       "      <td>NaN</td>\n",
       "    </tr>\n",
       "    <tr>\n",
       "      <th>175</th>\n",
       "      <td>0.0000</td>\n",
       "      <td>0.0000</td>\n",
       "      <td>11901</td>\n",
       "      <td>NaN</td>\n",
       "      <td>NaN</td>\n",
       "      <td>NaN</td>\n",
       "      <td>NaN</td>\n",
       "      <td>0.0000</td>\n",
       "    </tr>\n",
       "    <tr>\n",
       "      <th>190</th>\n",
       "      <td>0.0000</td>\n",
       "      <td>0.0000</td>\n",
       "      <td>12657</td>\n",
       "      <td>NaN</td>\n",
       "      <td>NaN</td>\n",
       "      <td>NaN</td>\n",
       "      <td>NaN</td>\n",
       "      <td>NaN</td>\n",
       "    </tr>\n",
       "    <tr>\n",
       "      <th>193</th>\n",
       "      <td>0.0000</td>\n",
       "      <td>0.0000</td>\n",
       "      <td>12977</td>\n",
       "      <td>NaN</td>\n",
       "      <td>NaN</td>\n",
       "      <td>NaN</td>\n",
       "      <td>NaN</td>\n",
       "      <td>NaN</td>\n",
       "    </tr>\n",
       "    <tr>\n",
       "      <th>202</th>\n",
       "      <td>NaN</td>\n",
       "      <td>0.0000</td>\n",
       "      <td>14027</td>\n",
       "      <td>0.0000</td>\n",
       "      <td>NaN</td>\n",
       "      <td>NaN</td>\n",
       "      <td>NaN</td>\n",
       "      <td>NaN</td>\n",
       "    </tr>\n",
       "    <tr>\n",
       "      <th>203</th>\n",
       "      <td>NaN</td>\n",
       "      <td>0.0000</td>\n",
       "      <td>14664</td>\n",
       "      <td>0.0000</td>\n",
       "      <td>NaN</td>\n",
       "      <td>NaN</td>\n",
       "      <td>NaN</td>\n",
       "      <td>NaN</td>\n",
       "    </tr>\n",
       "    <tr>\n",
       "      <th>204</th>\n",
       "      <td>0.0000</td>\n",
       "      <td>0.0000</td>\n",
       "      <td>15032</td>\n",
       "      <td>NaN</td>\n",
       "      <td>NaN</td>\n",
       "      <td>NaN</td>\n",
       "      <td>NaN</td>\n",
       "      <td>NaN</td>\n",
       "    </tr>\n",
       "    <tr>\n",
       "      <th>205</th>\n",
       "      <td>0.0000</td>\n",
       "      <td>0.0000</td>\n",
       "      <td>15400</td>\n",
       "      <td>NaN</td>\n",
       "      <td>NaN</td>\n",
       "      <td>NaN</td>\n",
       "      <td>NaN</td>\n",
       "      <td>NaN</td>\n",
       "    </tr>\n",
       "    <tr>\n",
       "      <th>206</th>\n",
       "      <td>NaN</td>\n",
       "      <td>0.0000</td>\n",
       "      <td>15717</td>\n",
       "      <td>NaN</td>\n",
       "      <td>0.0000</td>\n",
       "      <td>NaN</td>\n",
       "      <td>NaN</td>\n",
       "      <td>NaN</td>\n",
       "    </tr>\n",
       "    <tr>\n",
       "      <th>207</th>\n",
       "      <td>NaN</td>\n",
       "      <td>0.0000</td>\n",
       "      <td>15720</td>\n",
       "      <td>NaN</td>\n",
       "      <td>0.0000</td>\n",
       "      <td>NaN</td>\n",
       "      <td>NaN</td>\n",
       "      <td>NaN</td>\n",
       "    </tr>\n",
       "    <tr>\n",
       "      <th>208</th>\n",
       "      <td>0.0000</td>\n",
       "      <td>0.0000</td>\n",
       "      <td>15725</td>\n",
       "      <td>NaN</td>\n",
       "      <td>NaN</td>\n",
       "      <td>NaN</td>\n",
       "      <td>NaN</td>\n",
       "      <td>NaN</td>\n",
       "    </tr>\n",
       "    <tr>\n",
       "      <th>209</th>\n",
       "      <td>0.0000</td>\n",
       "      <td>0.0000</td>\n",
       "      <td>16660</td>\n",
       "      <td>NaN</td>\n",
       "      <td>NaN</td>\n",
       "      <td>NaN</td>\n",
       "      <td>NaN</td>\n",
       "      <td>NaN</td>\n",
       "    </tr>\n",
       "    <tr>\n",
       "      <th>210</th>\n",
       "      <td>0.0000</td>\n",
       "      <td>0.0000</td>\n",
       "      <td>17336</td>\n",
       "      <td>NaN</td>\n",
       "      <td>NaN</td>\n",
       "      <td>NaN</td>\n",
       "      <td>NaN</td>\n",
       "      <td>NaN</td>\n",
       "    </tr>\n",
       "    <tr>\n",
       "      <th>211</th>\n",
       "      <td>0.0000</td>\n",
       "      <td>0.0000</td>\n",
       "      <td>17923</td>\n",
       "      <td>NaN</td>\n",
       "      <td>NaN</td>\n",
       "      <td>NaN</td>\n",
       "      <td>NaN</td>\n",
       "      <td>NaN</td>\n",
       "    </tr>\n",
       "    <tr>\n",
       "      <th>212</th>\n",
       "      <td>0.0000</td>\n",
       "      <td>0.0000</td>\n",
       "      <td>18008</td>\n",
       "      <td>NaN</td>\n",
       "      <td>NaN</td>\n",
       "      <td>NaN</td>\n",
       "      <td>NaN</td>\n",
       "      <td>NaN</td>\n",
       "    </tr>\n",
       "    <tr>\n",
       "      <th>213</th>\n",
       "      <td>0.0000</td>\n",
       "      <td>0.0000</td>\n",
       "      <td>18226</td>\n",
       "      <td>NaN</td>\n",
       "      <td>NaN</td>\n",
       "      <td>NaN</td>\n",
       "      <td>NaN</td>\n",
       "      <td>NaN</td>\n",
       "    </tr>\n",
       "    <tr>\n",
       "      <th>214</th>\n",
       "      <td>0.0000</td>\n",
       "      <td>0.0000</td>\n",
       "      <td>19458</td>\n",
       "      <td>NaN</td>\n",
       "      <td>NaN</td>\n",
       "      <td>NaN</td>\n",
       "      <td>NaN</td>\n",
       "      <td>NaN</td>\n",
       "    </tr>\n",
       "    <tr>\n",
       "      <th>215</th>\n",
       "      <td>NaN</td>\n",
       "      <td>0.0000</td>\n",
       "      <td>21071</td>\n",
       "      <td>0.0000</td>\n",
       "      <td>NaN</td>\n",
       "      <td>NaN</td>\n",
       "      <td>NaN</td>\n",
       "      <td>NaN</td>\n",
       "    </tr>\n",
       "    <tr>\n",
       "      <th>216</th>\n",
       "      <td>0.0000</td>\n",
       "      <td>0.0000</td>\n",
       "      <td>21165</td>\n",
       "      <td>NaN</td>\n",
       "      <td>NaN</td>\n",
       "      <td>NaN</td>\n",
       "      <td>NaN</td>\n",
       "      <td>NaN</td>\n",
       "    </tr>\n",
       "    <tr>\n",
       "      <th>217</th>\n",
       "      <td>0.0000</td>\n",
       "      <td>0.0000</td>\n",
       "      <td>21322</td>\n",
       "      <td>NaN</td>\n",
       "      <td>NaN</td>\n",
       "      <td>NaN</td>\n",
       "      <td>NaN</td>\n",
       "      <td>NaN</td>\n",
       "    </tr>\n",
       "    <tr>\n",
       "      <th>218</th>\n",
       "      <td>0.0000</td>\n",
       "      <td>0.0000</td>\n",
       "      <td>21711</td>\n",
       "      <td>NaN</td>\n",
       "      <td>NaN</td>\n",
       "      <td>NaN</td>\n",
       "      <td>NaN</td>\n",
       "      <td>NaN</td>\n",
       "    </tr>\n",
       "    <tr>\n",
       "      <th>219</th>\n",
       "      <td>0.0000</td>\n",
       "      <td>0.0000</td>\n",
       "      <td>22106</td>\n",
       "      <td>NaN</td>\n",
       "      <td>NaN</td>\n",
       "      <td>NaN</td>\n",
       "      <td>NaN</td>\n",
       "      <td>NaN</td>\n",
       "    </tr>\n",
       "  </tbody>\n",
       "</table>\n",
       "</div>"
      ],
      "text/plain": [
       "     NAME_STUDENT  f5_micro  document  URL_PERSONAL  ID_NUM  EMAIL  PHONE_NUM  USERNAME\n",
       "4          0.0000    0.0000       204           NaN     NaN    NaN        NaN       NaN\n",
       "122        0.0000    0.0000      8758           NaN     NaN    NaN        NaN       NaN\n",
       "127        0.0000    0.0000      9031           NaN     NaN    NaN        NaN       NaN\n",
       "132        0.0000    0.0000      9313           NaN     NaN    NaN        NaN       NaN\n",
       "134        0.0000    0.0000      9399           NaN     NaN    NaN        NaN       NaN\n",
       "146        0.0000    0.0000      9961           NaN     NaN    NaN        NaN       NaN\n",
       "150        0.0000    0.0000     10070           NaN     NaN    NaN        NaN       NaN\n",
       "171        0.0000    0.0000     11856           NaN     NaN    NaN        NaN       NaN\n",
       "174        0.0000    0.0000     11896           NaN     NaN    NaN        NaN       NaN\n",
       "175        0.0000    0.0000     11901           NaN     NaN    NaN        NaN    0.0000\n",
       "190        0.0000    0.0000     12657           NaN     NaN    NaN        NaN       NaN\n",
       "193        0.0000    0.0000     12977           NaN     NaN    NaN        NaN       NaN\n",
       "202           NaN    0.0000     14027        0.0000     NaN    NaN        NaN       NaN\n",
       "203           NaN    0.0000     14664        0.0000     NaN    NaN        NaN       NaN\n",
       "204        0.0000    0.0000     15032           NaN     NaN    NaN        NaN       NaN\n",
       "205        0.0000    0.0000     15400           NaN     NaN    NaN        NaN       NaN\n",
       "206           NaN    0.0000     15717           NaN  0.0000    NaN        NaN       NaN\n",
       "207           NaN    0.0000     15720           NaN  0.0000    NaN        NaN       NaN\n",
       "208        0.0000    0.0000     15725           NaN     NaN    NaN        NaN       NaN\n",
       "209        0.0000    0.0000     16660           NaN     NaN    NaN        NaN       NaN\n",
       "210        0.0000    0.0000     17336           NaN     NaN    NaN        NaN       NaN\n",
       "211        0.0000    0.0000     17923           NaN     NaN    NaN        NaN       NaN\n",
       "212        0.0000    0.0000     18008           NaN     NaN    NaN        NaN       NaN\n",
       "213        0.0000    0.0000     18226           NaN     NaN    NaN        NaN       NaN\n",
       "214        0.0000    0.0000     19458           NaN     NaN    NaN        NaN       NaN\n",
       "215           NaN    0.0000     21071        0.0000     NaN    NaN        NaN       NaN\n",
       "216        0.0000    0.0000     21165           NaN     NaN    NaN        NaN       NaN\n",
       "217        0.0000    0.0000     21322           NaN     NaN    NaN        NaN       NaN\n",
       "218        0.0000    0.0000     21711           NaN     NaN    NaN        NaN       NaN\n",
       "219        0.0000    0.0000     22106           NaN     NaN    NaN        NaN       NaN"
      ]
     },
     "execution_count": 52,
     "metadata": {},
     "output_type": "execute_result"
    }
   ],
   "source": [
    "df_score[df_score.f5_micro==0]"
   ]
  },
  {
   "cell_type": "code",
   "execution_count": 104,
   "id": "9f9e3a09",
   "metadata": {},
   "outputs": [],
   "source": [
    "doc = 204"
   ]
  },
  {
   "cell_type": "code",
   "execution_count": 105,
   "id": "fe14d60f",
   "metadata": {},
   "outputs": [],
   "source": [
    "dx = pred_df.groupby(\"document\")['label'].agg(list).reset_index()"
   ]
  },
  {
   "cell_type": "code",
   "execution_count": 106,
   "id": "24b07f74",
   "metadata": {},
   "outputs": [
    {
     "data": {
      "text/html": [
       "<div>\n",
       "<style scoped>\n",
       "    .dataframe tbody tr th:only-of-type {\n",
       "        vertical-align: middle;\n",
       "    }\n",
       "\n",
       "    .dataframe tbody tr th {\n",
       "        vertical-align: top;\n",
       "    }\n",
       "\n",
       "    .dataframe thead th {\n",
       "        text-align: right;\n",
       "    }\n",
       "</style>\n",
       "<table border=\"1\" class=\"dataframe\">\n",
       "  <thead>\n",
       "    <tr style=\"text-align: right;\">\n",
       "      <th></th>\n",
       "      <th>document</th>\n",
       "      <th>label</th>\n",
       "    </tr>\n",
       "  </thead>\n",
       "  <tbody>\n",
       "    <tr>\n",
       "      <th>0</th>\n",
       "      <td>16</td>\n",
       "      <td>[O, O, O, O, B-NAME_STUDENT, I-NAME_STUDENT, O...</td>\n",
       "    </tr>\n",
       "    <tr>\n",
       "      <th>1</th>\n",
       "      <td>56</td>\n",
       "      <td>[O, O, B-NAME_STUDENT, O, B-NAME_STUDENT, O, B...</td>\n",
       "    </tr>\n",
       "    <tr>\n",
       "      <th>2</th>\n",
       "      <td>112</td>\n",
       "      <td>[O, O, O, O, O, B-NAME_STUDENT, I-NAME_STUDENT...</td>\n",
       "    </tr>\n",
       "    <tr>\n",
       "      <th>3</th>\n",
       "      <td>166</td>\n",
       "      <td>[B-NAME_STUDENT, I-NAME_STUDENT, O, O, O, O, O...</td>\n",
       "    </tr>\n",
       "    <tr>\n",
       "      <th>4</th>\n",
       "      <td>204</td>\n",
       "      <td>[O, O, O, B-NAME_STUDENT, O, O, O, B-NAME_STUD...</td>\n",
       "    </tr>\n",
       "    <tr>\n",
       "      <th>...</th>\n",
       "      <td>...</td>\n",
       "      <td>...</td>\n",
       "    </tr>\n",
       "    <tr>\n",
       "      <th>1356</th>\n",
       "      <td>22637</td>\n",
       "      <td>[O, O, O, O, O, O, O, O, O, O, O, B-NAME_STUDE...</td>\n",
       "    </tr>\n",
       "    <tr>\n",
       "      <th>1357</th>\n",
       "      <td>22646</td>\n",
       "      <td>[O, O, O, O, B-NAME_STUDENT, O, B-NAME_STUDENT...</td>\n",
       "    </tr>\n",
       "    <tr>\n",
       "      <th>1358</th>\n",
       "      <td>22652</td>\n",
       "      <td>[O, O, O, O, O, O, O, O, O, O, O, O, O, O, O, ...</td>\n",
       "    </tr>\n",
       "    <tr>\n",
       "      <th>1359</th>\n",
       "      <td>22664</td>\n",
       "      <td>[O, O, O, O, O, B-NAME_STUDENT, O, O, O, O, O,...</td>\n",
       "    </tr>\n",
       "    <tr>\n",
       "      <th>1360</th>\n",
       "      <td>22677</td>\n",
       "      <td>[O, O, O, O, O, O, O, O, O, O, O, O, O, O, O, ...</td>\n",
       "    </tr>\n",
       "  </tbody>\n",
       "</table>\n",
       "<p>1361 rows × 2 columns</p>\n",
       "</div>"
      ],
      "text/plain": [
       "      document                                              label\n",
       "0           16  [O, O, O, O, B-NAME_STUDENT, I-NAME_STUDENT, O...\n",
       "1           56  [O, O, B-NAME_STUDENT, O, B-NAME_STUDENT, O, B...\n",
       "2          112  [O, O, O, O, O, B-NAME_STUDENT, I-NAME_STUDENT...\n",
       "3          166  [B-NAME_STUDENT, I-NAME_STUDENT, O, O, O, O, O...\n",
       "4          204  [O, O, O, B-NAME_STUDENT, O, O, O, B-NAME_STUD...\n",
       "...        ...                                                ...\n",
       "1356     22637  [O, O, O, O, O, O, O, O, O, O, O, B-NAME_STUDE...\n",
       "1357     22646  [O, O, O, O, B-NAME_STUDENT, O, B-NAME_STUDENT...\n",
       "1358     22652  [O, O, O, O, O, O, O, O, O, O, O, O, O, O, O, ...\n",
       "1359     22664  [O, O, O, O, O, B-NAME_STUDENT, O, O, O, O, O,...\n",
       "1360     22677  [O, O, O, O, O, O, O, O, O, O, O, O, O, O, O, ...\n",
       "\n",
       "[1361 rows x 2 columns]"
      ]
     },
     "execution_count": 106,
     "metadata": {},
     "output_type": "execute_result"
    }
   ],
   "source": [
    "dx"
   ]
  },
  {
   "cell_type": "code",
   "execution_count": 107,
   "id": "3fb860af",
   "metadata": {},
   "outputs": [
    {
     "data": {
      "text/plain": [
       "(1361, 13)"
      ]
     },
     "execution_count": 107,
     "metadata": {},
     "output_type": "execute_result"
    }
   ],
   "source": [
    "dfold = df[df[FOLD_NAME]==FOLD].reset_index(drop=True)\n",
    "dfold.shape"
   ]
  },
  {
   "cell_type": "code",
   "execution_count": 108,
   "id": "d9dd9f44",
   "metadata": {},
   "outputs": [],
   "source": [
    "dfold = dfold.merge(dx,how='left',on='document')"
   ]
  },
  {
   "cell_type": "code",
   "execution_count": 109,
   "id": "2551dacb",
   "metadata": {},
   "outputs": [
    {
     "data": {
      "text/html": [
       "<div>\n",
       "<style scoped>\n",
       "    .dataframe tbody tr th:only-of-type {\n",
       "        vertical-align: middle;\n",
       "    }\n",
       "\n",
       "    .dataframe tbody tr th {\n",
       "        vertical-align: top;\n",
       "    }\n",
       "\n",
       "    .dataframe thead th {\n",
       "        text-align: right;\n",
       "    }\n",
       "</style>\n",
       "<table border=\"1\" class=\"dataframe\">\n",
       "  <thead>\n",
       "    <tr style=\"text-align: right;\">\n",
       "      <th></th>\n",
       "      <th>document</th>\n",
       "      <th>full_text</th>\n",
       "      <th>tokens</th>\n",
       "      <th>trailing_whitespace</th>\n",
       "      <th>labels</th>\n",
       "      <th>NAME_STUDENT</th>\n",
       "      <th>EMAIL</th>\n",
       "      <th>USERNAME</th>\n",
       "      <th>ID_NUM</th>\n",
       "      <th>PHONE_NUM</th>\n",
       "      <th>URL_PERSONAL</th>\n",
       "      <th>STREET_ADDRESS</th>\n",
       "      <th>fold_msk_5_seed_42</th>\n",
       "      <th>label</th>\n",
       "    </tr>\n",
       "  </thead>\n",
       "  <tbody>\n",
       "    <tr>\n",
       "      <th>0</th>\n",
       "      <td>16</td>\n",
       "      <td>Reporting process\\n\\nby Gilberto Gamboa\\n\\nCha...</td>\n",
       "      <td>[Reporting, process, \\n\\n, by, Gilberto, Gambo...</td>\n",
       "      <td>[True, False, False, True, True, False, False,...</td>\n",
       "      <td>[O, O, O, O, B-NAME_STUDENT, I-NAME_STUDENT, O...</td>\n",
       "      <td>1</td>\n",
       "      <td>0</td>\n",
       "      <td>0</td>\n",
       "      <td>0</td>\n",
       "      <td>0</td>\n",
       "      <td>0</td>\n",
       "      <td>0</td>\n",
       "      <td>0</td>\n",
       "      <td>[O, O, O, O, B-NAME_STUDENT, I-NAME_STUDENT, O...</td>\n",
       "    </tr>\n",
       "    <tr>\n",
       "      <th>1</th>\n",
       "      <td>56</td>\n",
       "      <td>Assignment:  Visualization Reflection  Submitt...</td>\n",
       "      <td>[Assignment, :,   , Visualization,  , Reflecti...</td>\n",
       "      <td>[False, False, False, False, False, False, Fal...</td>\n",
       "      <td>[O, O, O, O, O, O, O, O, O, O, O, O, B-NAME_ST...</td>\n",
       "      <td>1</td>\n",
       "      <td>0</td>\n",
       "      <td>0</td>\n",
       "      <td>0</td>\n",
       "      <td>0</td>\n",
       "      <td>0</td>\n",
       "      <td>0</td>\n",
       "      <td>0</td>\n",
       "      <td>[O, O, B-NAME_STUDENT, O, B-NAME_STUDENT, O, B...</td>\n",
       "    </tr>\n",
       "    <tr>\n",
       "      <th>2</th>\n",
       "      <td>112</td>\n",
       "      <td>Reflection – Learning Launch\\n\\nFrancisco Ferr...</td>\n",
       "      <td>[Reflection, –, Learning, Launch, \\n\\n, Franci...</td>\n",
       "      <td>[True, True, True, False, False, True, False, ...</td>\n",
       "      <td>[O, O, O, O, O, B-NAME_STUDENT, I-NAME_STUDENT...</td>\n",
       "      <td>1</td>\n",
       "      <td>0</td>\n",
       "      <td>0</td>\n",
       "      <td>0</td>\n",
       "      <td>0</td>\n",
       "      <td>0</td>\n",
       "      <td>0</td>\n",
       "      <td>0</td>\n",
       "      <td>[O, O, O, O, O, B-NAME_STUDENT, I-NAME_STUDENT...</td>\n",
       "    </tr>\n",
       "    <tr>\n",
       "      <th>3</th>\n",
       "      <td>166</td>\n",
       "      <td>Pepa Medrano\\n\\nDesign Thinking for Innovation...</td>\n",
       "      <td>[Pepa, Medrano, \\n\\n, Design, Thinking, for, I...</td>\n",
       "      <td>[True, False, False, True, True, True, True, F...</td>\n",
       "      <td>[B-NAME_STUDENT, I-NAME_STUDENT, O, O, O, O, O...</td>\n",
       "      <td>1</td>\n",
       "      <td>0</td>\n",
       "      <td>0</td>\n",
       "      <td>0</td>\n",
       "      <td>0</td>\n",
       "      <td>0</td>\n",
       "      <td>0</td>\n",
       "      <td>0</td>\n",
       "      <td>[B-NAME_STUDENT, I-NAME_STUDENT, O, O, O, O, O...</td>\n",
       "    </tr>\n",
       "    <tr>\n",
       "      <th>4</th>\n",
       "      <td>204</td>\n",
       "      <td>Reflection – Visualization   Deiby\\n\\nChalleng...</td>\n",
       "      <td>[Reflection, –, Visualization,   , Deiby, \\n\\n...</td>\n",
       "      <td>[True, True, True, False, False, False, True, ...</td>\n",
       "      <td>[O, O, O, O, B-NAME_STUDENT, O, O, O, O, O, O,...</td>\n",
       "      <td>1</td>\n",
       "      <td>0</td>\n",
       "      <td>0</td>\n",
       "      <td>0</td>\n",
       "      <td>0</td>\n",
       "      <td>0</td>\n",
       "      <td>0</td>\n",
       "      <td>0</td>\n",
       "      <td>[O, O, O, B-NAME_STUDENT, O, O, O, B-NAME_STUD...</td>\n",
       "    </tr>\n",
       "  </tbody>\n",
       "</table>\n",
       "</div>"
      ],
      "text/plain": [
       "   document                                          full_text                                             tokens                                trailing_whitespace                                             labels  NAME_STUDENT  EMAIL  USERNAME  ID_NUM  PHONE_NUM  URL_PERSONAL  STREET_ADDRESS  fold_msk_5_seed_42                                              label\n",
       "0        16  Reporting process\\n\\nby Gilberto Gamboa\\n\\nCha...  [Reporting, process, \\n\\n, by, Gilberto, Gambo...  [True, False, False, True, True, False, False,...  [O, O, O, O, B-NAME_STUDENT, I-NAME_STUDENT, O...             1      0         0       0          0             0               0                   0  [O, O, O, O, B-NAME_STUDENT, I-NAME_STUDENT, O...\n",
       "1        56  Assignment:  Visualization Reflection  Submitt...  [Assignment, :,   , Visualization,  , Reflecti...  [False, False, False, False, False, False, Fal...  [O, O, O, O, O, O, O, O, O, O, O, O, B-NAME_ST...             1      0         0       0          0             0               0                   0  [O, O, B-NAME_STUDENT, O, B-NAME_STUDENT, O, B...\n",
       "2       112  Reflection – Learning Launch\\n\\nFrancisco Ferr...  [Reflection, –, Learning, Launch, \\n\\n, Franci...  [True, True, True, False, False, True, False, ...  [O, O, O, O, O, B-NAME_STUDENT, I-NAME_STUDENT...             1      0         0       0          0             0               0                   0  [O, O, O, O, O, B-NAME_STUDENT, I-NAME_STUDENT...\n",
       "3       166  Pepa Medrano\\n\\nDesign Thinking for Innovation...  [Pepa, Medrano, \\n\\n, Design, Thinking, for, I...  [True, False, False, True, True, True, True, F...  [B-NAME_STUDENT, I-NAME_STUDENT, O, O, O, O, O...             1      0         0       0          0             0               0                   0  [B-NAME_STUDENT, I-NAME_STUDENT, O, O, O, O, O...\n",
       "4       204  Reflection – Visualization   Deiby\\n\\nChalleng...  [Reflection, –, Visualization,   , Deiby, \\n\\n...  [True, True, True, False, False, False, True, ...  [O, O, O, O, B-NAME_STUDENT, O, O, O, O, O, O,...             1      0         0       0          0             0               0                   0  [O, O, O, B-NAME_STUDENT, O, O, O, B-NAME_STUD..."
      ]
     },
     "execution_count": 109,
     "metadata": {},
     "output_type": "execute_result"
    }
   ],
   "source": [
    "dfold.head()"
   ]
  },
  {
   "cell_type": "code",
   "execution_count": 110,
   "id": "95bdbe9e",
   "metadata": {},
   "outputs": [],
   "source": [
    "dfold['len_tok'] = dfold['labels'].transform(lambda x:len(x))\n",
    "dfold['len_tok_p'] = dfold['label'].transform(lambda x:len(x))"
   ]
  },
  {
   "cell_type": "code",
   "execution_count": 111,
   "id": "fdb7e770",
   "metadata": {},
   "outputs": [
    {
     "data": {
      "text/plain": [
       "True    1361\n",
       "dtype: int64"
      ]
     },
     "execution_count": 111,
     "metadata": {},
     "output_type": "execute_result"
    }
   ],
   "source": [
    "(dfold['len_tok']==dfold['len_tok_p']).value_counts()"
   ]
  },
  {
   "cell_type": "code",
   "execution_count": 112,
   "id": "2c433bbf",
   "metadata": {},
   "outputs": [],
   "source": [
    "from data.data_utils import get_offset_mapping"
   ]
  },
  {
   "cell_type": "code",
   "execution_count": 113,
   "id": "ba81ffcb",
   "metadata": {},
   "outputs": [],
   "source": [
    "import spacy\n",
    "from spacy import displacy\n",
    "from pylab import cm, matplotlib\n",
    "import os\n",
    "\n",
    "colors = {\n",
    "            'NAME_STUDENT': '#8000ff',\n",
    "            'EMAIL': '#2b7ff6',\n",
    "            'USERNAME': '#2adddd',\n",
    "            'ID_NUM': '#80ffb4',\n",
    "            'PHONE_NUM': 'd4dd80',\n",
    "            'URL_PERSONAL': '#ff8042',\n",
    "            'STREET_ADDRESS': '#ff0000'\n",
    "         }\n",
    "\n",
    "\n",
    "def visualize(full_text,offset_mapping,labels):\n",
    "    \n",
    "    ents = []\n",
    "    for offset,lab in zip(offset_mapping,labels):\n",
    "        ents.append({\n",
    "                        'start': int(offset[0]), \n",
    "                         'end': int(offset[1]), \n",
    "                         'label': str(lab.split('-')[1]) #+ ' - ' + str(row['discourse_effectiveness'])\n",
    "                    })\n",
    "\n",
    "    doc2 = {\n",
    "        \"text\": full_text,\n",
    "        \"ents\": ents,\n",
    "#         \"title\": \"idx\"\n",
    "    }\n",
    "\n",
    "    options = {\"ents\": list(colors.keys()), \"colors\": colors}\n",
    "    displacy.render(doc2, style=\"ent\", options=options, manual=True, jupyter=True)"
   ]
  },
  {
   "cell_type": "code",
   "execution_count": 114,
   "id": "95205313",
   "metadata": {},
   "outputs": [
    {
     "data": {
      "text/plain": [
       "(4, 204)"
      ]
     },
     "execution_count": 114,
     "metadata": {},
     "output_type": "execute_result"
    }
   ],
   "source": [
    "idx = random.choice(dfold[dfold.NAME_STUDENT>0].index)\n",
    "idx = dfold[dfold.document==doc].index[0]\n",
    "# Example usage:\n",
    "# idx = \"uzvemcjmik\"\n",
    "full_text_ds = dfold.iloc[idx]['full_text']\n",
    "tokens_ds = dfold.iloc[idx]['tokens']\n",
    "labels_ds = dfold.iloc[idx]['labels']\n",
    "labels = dfold.iloc[idx]['label']\n",
    "idx,dfold.iloc[idx]['document']"
   ]
  },
  {
   "cell_type": "code",
   "execution_count": 115,
   "id": "5cad5b34",
   "metadata": {},
   "outputs": [],
   "source": [
    "offset_mapping = get_offset_mapping(full_text_ds, tokens_ds)\n",
    "offset_mapping_ = [x for (x,y) in zip(offset_mapping,labels_ds) if y!=\"O\"]\n",
    "labels_ = [x for x in labels_ds if x!=\"O\"]"
   ]
  },
  {
   "cell_type": "code",
   "execution_count": 116,
   "id": "beca08b4",
   "metadata": {
    "scrolled": false
   },
   "outputs": [
    {
     "data": {
      "text/html": [
       "<span class=\"tex2jax_ignore\"><div class=\"entities\" style=\"line-height: 2.5; direction: ltr\">Reflection – Visualization   \n",
       "<mark class=\"entity\" style=\"background: #8000ff; padding: 0.45em 0.6em; margin: 0 0.25em; line-height: 1; border-radius: 0.35em;\">\n",
       "    Deiby\n",
       "    <span style=\"font-size: 0.8em; font-weight: bold; line-height: 1; border-radius: 0.35em; vertical-align: middle; margin-left: 0.5rem\">NAME_STUDENT</span>\n",
       "</mark>\n",
       "<br><br>Challenge    For some time I frequented a public gym and showered there before my work day.  Although the  showers may have been cleaned daily, they were not cleaned between each use - sometimes  the floor was, well “icky” and traditional flip-flops just didn’t cut it.  I searched and searched, for  an existing product that would provide the protection I needed, without any success.  I then  realized a need for a solution for increased sanitation when using any facility that has communal  showers - gyms, dorms, camps, athletic training facilities, etc.  I came up with an idea that would  provide antimicrobial protection for the feet while using these facilities’ showers.  The challenge  was how best to explain my idea, prove that there was a need, offer a solution, and propose it to  potential sponsors for development.    I spoke with fellow gym rats, college students, moms of summer campers, professional athletes,  etc. to see if they agreed that a product like mine could be helpful. Once I received excited  interest in my solution, I set about trying to find a way to make it a reality. My next step was to  submit a formal request for a design patent. Then, equipped with a list of businesses from my  target market, I would need to find the best way to get my idea out to the potential backers.      Selection      With limited funds, I had to focus on a method to share a prototype of my antimicrobial shower  shoe idea to determine interest, by potential stakeholders, in a product that was only a concept  at that point.  I thought of using some type of drawing that would depict what it would look like  and highlight the benefits, instead of a physical prototype. This is where the Visualization Tool  came into play.    As Angela Meyer stated in her Visualization video from Module 1, ​“When you get to concept  development visualization becomes incredibly key. Because concepts are literally coming out of your  imagination. And your brain is creating pictures of something that doesn't yet exist. It's creating  pictures of something that will soon be.”    She also stated that, “As we move forward into prototyping, we get much more detailed in the way  that we start to visualize. Then we create very complex diagrams, or maps of how we think the  customer experience ideally is going to work.”    I needed that complex diagram of something that wasn’t yet real.<br><br>Application      Since I already had a rough “to-scale” drawing submitted along with my request for a design  patent, I was able to provide enough details of the product idea to a professional that could  construct an electronic 3-D rendering in a video format. This way a link to the video could be  shared via email to each business on the list that I gathered for my target market.<br><br>The video was built similar to an infomercial with the 3-D artistic technology making the concept  appear real, including a voice-over explaining the benefits of the product while highlighting  features of the design. I believed this would be a good way for others to visualize my idea.  I  emailed this video link to those on my target list and was able to get feedback by receiving  callbacks from companies that wanted to discuss the idea further.       Insight    Using the Visualization Tool was a great advantage to getting my idea in the hands of the right  people.  It generated the feedback and interest that helped me understand that this could  actually work, and helped me to begin developing a product that could be beneficial to so many.  At the same time it helped me learn that there would be additional challenges that I would need  to work out before this could ever get to market - with regard to companies’ procedures for  investing and taking on new products. I learned that there are many cost, evaluation, and  statistical figures that were needed upfront.       Approach     So, having gathered the insight that there would be much more work needed to get my idea off  the ground, I would still use a Visualization Tool to capture the figures that I would need to  present. Since these figures would be guesstimates, I would do the legwork and then prepare a  presentation document (e.g. PowerPoint) with maybe an embedded spreadsheet.  Once this is  done I could reach back out to those companies that showed interest, or a totally new set of  companies and this time be prepared with solid information using the tools that I chose.<br><br></div></span>"
      ],
      "text/plain": [
       "<IPython.core.display.HTML object>"
      ]
     },
     "metadata": {},
     "output_type": "display_data"
    }
   ],
   "source": [
    "visualize(full_text_ds,offset_mapping_,labels_)"
   ]
  },
  {
   "cell_type": "code",
   "execution_count": 117,
   "id": "6fccf761",
   "metadata": {},
   "outputs": [],
   "source": [
    "offset_mapping = get_offset_mapping(full_text_ds, tokens_ds)\n",
    "offset_mapping_ = [x for (x,y) in zip(offset_mapping,labels) if y!=\"O\"]\n",
    "labels_ = [x for x in labels_ds if x!=\"O\"]"
   ]
  },
  {
   "cell_type": "code",
   "execution_count": 118,
   "id": "15292c22",
   "metadata": {
    "scrolled": false
   },
   "outputs": [
    {
     "data": {
      "text/html": [
       "<span class=\"tex2jax_ignore\"><div class=\"entities\" style=\"line-height: 2.5; direction: ltr\">Reflection – Visualization\n",
       "<mark class=\"entity\" style=\"background: #8000ff; padding: 0.45em 0.6em; margin: 0 0.25em; line-height: 1; border-radius: 0.35em;\">\n",
       "      \n",
       "    <span style=\"font-size: 0.8em; font-weight: bold; line-height: 1; border-radius: 0.35em; vertical-align: middle; margin-left: 0.5rem\">NAME_STUDENT</span>\n",
       "</mark>\n",
       " Deiby<br><br>Challenge    For some time I frequented a public gym and showered there before my work day.  Although the  showers may have been cleaned daily, they were not cleaned between each use - sometimes  the floor was, well “icky” and traditional flip-flops just didn’t cut it.  I searched and searched, for  an existing product that would provide the protection I needed, without any success.  I then  realized a need for a solution for increased sanitation when using any facility that has communal  showers - gyms, dorms, camps, athletic training facilities, etc.  I came up with an idea that would  provide antimicrobial protection for the feet while using these facilities’ showers.  The challenge  was how best to explain my idea, prove that there was a need, offer a solution, and propose it to  potential sponsors for development.    I spoke with fellow gym rats, college students, moms of summer campers, professional athletes,  etc. to see if they agreed that a product like mine could be helpful. Once I received excited  interest in my solution, I set about trying to find a way to make it a reality. My next step was to  submit a formal request for a design patent. Then, equipped with a list of businesses from my  target market, I would need to find the best way to get my idea out to the potential backers.      Selection      With limited funds, I had to focus on a method to share a prototype of my antimicrobial shower  shoe idea to determine interest, by potential stakeholders, in a product that was only a concept  at that point.  I thought of using some type of drawing that would depict what it would look like  and highlight the benefits, instead of a physical prototype. This is where the Visualization Tool  came into play.    As Angela Meyer stated in her Visualization video from Module 1, ​“When you get to concept  development visualization becomes incredibly key. Because concepts are literally coming out of your  imagination. And your brain is creating pictures of something that doesn't yet exist. It's creating  pictures of something that will soon be.”    She also stated that, “As we move forward into prototyping, we get much more detailed in the way  that we start to visualize. Then we create very complex diagrams, or maps of how we think the  customer experience ideally is going to work.”    I needed that complex diagram of something that wasn’t yet real.<br><br>Application      Since I already had a rough “to-scale” drawing submitted along with my request for a design  patent, I was able to provide enough details of the product idea to a professional that could  construct an electronic 3-D rendering in a video format. This way a link to the video could be  shared via email to each business on the list that I gathered for my target market.<br><br>The video was built similar to an infomercial with the 3-D artistic technology making the concept  appear real, including a voice-over explaining the benefits of the product while highlighting  features of the design. I believed this would be a good way for others to visualize my idea.  I  emailed this video link to those on my target list and was able to get feedback by receiving  callbacks from companies that wanted to discuss the idea further.       Insight    Using the Visualization Tool was a great advantage to getting my idea in the hands of the right  people.  It generated the feedback and interest that helped me understand that this could  actually work, and helped me to begin developing a product that could be beneficial to so many.  At the same time it helped me learn that there would be additional challenges that I would need  to work out before this could ever get to market - with regard to companies’ procedures for  investing and taking on new products. I learned that there are many cost, evaluation, and  statistical figures that were needed upfront.       Approach     So, having gathered the insight that there would be much more work needed to get my idea off  the ground, I would still use a Visualization Tool to capture the figures that I would need to  present. Since these figures would be guesstimates, I would do the legwork and then prepare a  presentation document (e.g. PowerPoint) with maybe an embedded spreadsheet.  Once this is  done I could reach back out to those companies that showed interest, or a totally new set of  companies and this time be prepared with solid information using the tools that I chose.<br><br></div></span>"
      ],
      "text/plain": [
       "<IPython.core.display.HTML object>"
      ]
     },
     "metadata": {},
     "output_type": "display_data"
    }
   ],
   "source": [
    "visualize(full_text_ds,offset_mapping_,labels_)"
   ]
  },
  {
   "cell_type": "code",
   "execution_count": 119,
   "id": "1cff1d89",
   "metadata": {},
   "outputs": [],
   "source": [
    "# doc = 204\n",
    "x = pred_df[pred_df.document==doc]"
   ]
  },
  {
   "cell_type": "code",
   "execution_count": 120,
   "id": "abfe05be",
   "metadata": {},
   "outputs": [],
   "source": [
    "x['tokens'] = tokens_ds"
   ]
  },
  {
   "cell_type": "code",
   "execution_count": 121,
   "id": "179c7302",
   "metadata": {},
   "outputs": [],
   "source": [
    "x['label_gt'] = labels_ds"
   ]
  },
  {
   "cell_type": "code",
   "execution_count": 122,
   "id": "e069f88f",
   "metadata": {},
   "outputs": [],
   "source": [
    "x['label_e'] = x['label']"
   ]
  },
  {
   "cell_type": "code",
   "execution_count": 123,
   "id": "5267d5c9",
   "metadata": {},
   "outputs": [],
   "source": [
    "x.loc[x.label_e.shift(-1)==x.label_e.shift(1),'label_e'] = x.loc[x.label_e.shift(-1)==x.label_e.shift(1),'label_e'].shift(1)"
   ]
  },
  {
   "cell_type": "code",
   "execution_count": 124,
   "id": "683e6bfd",
   "metadata": {},
   "outputs": [
    {
     "data": {
      "text/plain": [
       "O                 851\n",
       "B-NAME_STUDENT     61\n",
       "Name: label, dtype: int64"
      ]
     },
     "execution_count": 124,
     "metadata": {},
     "output_type": "execute_result"
    }
   ],
   "source": [
    "x.label.value_counts()"
   ]
  },
  {
   "cell_type": "code",
   "execution_count": 125,
   "id": "0eb86b16",
   "metadata": {},
   "outputs": [
    {
     "data": {
      "text/html": [
       "<div>\n",
       "<style scoped>\n",
       "    .dataframe tbody tr th:only-of-type {\n",
       "        vertical-align: middle;\n",
       "    }\n",
       "\n",
       "    .dataframe tbody tr th {\n",
       "        vertical-align: top;\n",
       "    }\n",
       "\n",
       "    .dataframe thead th {\n",
       "        text-align: right;\n",
       "    }\n",
       "</style>\n",
       "<table border=\"1\" class=\"dataframe\">\n",
       "  <thead>\n",
       "    <tr style=\"text-align: right;\">\n",
       "      <th></th>\n",
       "      <th>document</th>\n",
       "      <th>token</th>\n",
       "      <th>label</th>\n",
       "      <th>score</th>\n",
       "      <th>label_next_e_prev</th>\n",
       "      <th>label_next</th>\n",
       "      <th>score_next</th>\n",
       "      <th>I</th>\n",
       "      <th>labels</th>\n",
       "      <th>label_pred</th>\n",
       "      <th>row_id</th>\n",
       "      <th>tokens</th>\n",
       "      <th>label_gt</th>\n",
       "      <th>label_e</th>\n",
       "    </tr>\n",
       "  </thead>\n",
       "  <tbody>\n",
       "    <tr>\n",
       "      <th>4179</th>\n",
       "      <td>204</td>\n",
       "      <td>4</td>\n",
       "      <td>O</td>\n",
       "      <td>0.9991</td>\n",
       "      <td>0</td>\n",
       "      <td>0.0000</td>\n",
       "      <td>0.1250</td>\n",
       "      <td>0</td>\n",
       "      <td>7-0</td>\n",
       "      <td>0</td>\n",
       "      <td>4179</td>\n",
       "      <td>Deiby</td>\n",
       "      <td>B-NAME_STUDENT</td>\n",
       "      <td>O</td>\n",
       "    </tr>\n",
       "  </tbody>\n",
       "</table>\n",
       "</div>"
      ],
      "text/plain": [
       "      document  token label  score  label_next_e_prev  label_next  score_next  I labels  label_pred  row_id tokens        label_gt label_e\n",
       "4179       204      4     O 0.9991                  0      0.0000      0.1250  0    7-0           0    4179  Deiby  B-NAME_STUDENT       O"
      ]
     },
     "execution_count": 125,
     "metadata": {},
     "output_type": "execute_result"
    }
   ],
   "source": [
    "x[x.label_gt!=\"O\"]"
   ]
  },
  {
   "cell_type": "code",
   "execution_count": 127,
   "id": "8c183d6e",
   "metadata": {
    "scrolled": false
   },
   "outputs": [
    {
     "data": {
      "text/html": [
       "<div>\n",
       "<style scoped>\n",
       "    .dataframe tbody tr th:only-of-type {\n",
       "        vertical-align: middle;\n",
       "    }\n",
       "\n",
       "    .dataframe tbody tr th {\n",
       "        vertical-align: top;\n",
       "    }\n",
       "\n",
       "    .dataframe thead th {\n",
       "        text-align: right;\n",
       "    }\n",
       "</style>\n",
       "<table border=\"1\" class=\"dataframe\">\n",
       "  <thead>\n",
       "    <tr style=\"text-align: right;\">\n",
       "      <th></th>\n",
       "      <th>document</th>\n",
       "      <th>token</th>\n",
       "      <th>label</th>\n",
       "      <th>score</th>\n",
       "      <th>label_next_e_prev</th>\n",
       "      <th>label_next</th>\n",
       "      <th>score_next</th>\n",
       "      <th>I</th>\n",
       "      <th>labels</th>\n",
       "      <th>label_pred</th>\n",
       "      <th>row_id</th>\n",
       "      <th>tokens</th>\n",
       "      <th>label_gt</th>\n",
       "      <th>label_e</th>\n",
       "    </tr>\n",
       "  </thead>\n",
       "  <tbody>\n",
       "    <tr>\n",
       "      <th>4175</th>\n",
       "      <td>204</td>\n",
       "      <td>0</td>\n",
       "      <td>O</td>\n",
       "      <td>1.0000</td>\n",
       "      <td>0</td>\n",
       "      <td>NaN</td>\n",
       "      <td>NaN</td>\n",
       "      <td>0</td>\n",
       "      <td>7-0</td>\n",
       "      <td>0</td>\n",
       "      <td>4175</td>\n",
       "      <td>Reflection</td>\n",
       "      <td>O</td>\n",
       "      <td>O</td>\n",
       "    </tr>\n",
       "    <tr>\n",
       "      <th>4176</th>\n",
       "      <td>204</td>\n",
       "      <td>1</td>\n",
       "      <td>O</td>\n",
       "      <td>1.0000</td>\n",
       "      <td>0</td>\n",
       "      <td>7.0000</td>\n",
       "      <td>1.0000</td>\n",
       "      <td>1</td>\n",
       "      <td>7-1</td>\n",
       "      <td>0</td>\n",
       "      <td>4176</td>\n",
       "      <td>–</td>\n",
       "      <td>O</td>\n",
       "      <td>None</td>\n",
       "    </tr>\n",
       "    <tr>\n",
       "      <th>4177</th>\n",
       "      <td>204</td>\n",
       "      <td>2</td>\n",
       "      <td>O</td>\n",
       "      <td>0.9999</td>\n",
       "      <td>0</td>\n",
       "      <td>7.0000</td>\n",
       "      <td>1.0000</td>\n",
       "      <td>1</td>\n",
       "      <td>7-1</td>\n",
       "      <td>0</td>\n",
       "      <td>4177</td>\n",
       "      <td>Visualization</td>\n",
       "      <td>O</td>\n",
       "      <td>O</td>\n",
       "    </tr>\n",
       "    <tr>\n",
       "      <th>4178</th>\n",
       "      <td>204</td>\n",
       "      <td>3</td>\n",
       "      <td>B-NAME_STUDENT</td>\n",
       "      <td>0.1250</td>\n",
       "      <td>0</td>\n",
       "      <td>7.0000</td>\n",
       "      <td>0.9999</td>\n",
       "      <td>0</td>\n",
       "      <td>0-0</td>\n",
       "      <td>0</td>\n",
       "      <td>4178</td>\n",
       "      <td></td>\n",
       "      <td>O</td>\n",
       "      <td>O</td>\n",
       "    </tr>\n",
       "    <tr>\n",
       "      <th>4179</th>\n",
       "      <td>204</td>\n",
       "      <td>4</td>\n",
       "      <td>O</td>\n",
       "      <td>0.9991</td>\n",
       "      <td>0</td>\n",
       "      <td>0.0000</td>\n",
       "      <td>0.1250</td>\n",
       "      <td>0</td>\n",
       "      <td>7-0</td>\n",
       "      <td>0</td>\n",
       "      <td>4179</td>\n",
       "      <td>Deiby</td>\n",
       "      <td>B-NAME_STUDENT</td>\n",
       "      <td>O</td>\n",
       "    </tr>\n",
       "    <tr>\n",
       "      <th>4180</th>\n",
       "      <td>204</td>\n",
       "      <td>5</td>\n",
       "      <td>O</td>\n",
       "      <td>1.0000</td>\n",
       "      <td>0</td>\n",
       "      <td>7.0000</td>\n",
       "      <td>0.9991</td>\n",
       "      <td>1</td>\n",
       "      <td>7-1</td>\n",
       "      <td>0</td>\n",
       "      <td>4180</td>\n",
       "      <td>\\n\\n</td>\n",
       "      <td>O</td>\n",
       "      <td>B-NAME_STUDENT</td>\n",
       "    </tr>\n",
       "    <tr>\n",
       "      <th>4181</th>\n",
       "      <td>204</td>\n",
       "      <td>6</td>\n",
       "      <td>O</td>\n",
       "      <td>1.0000</td>\n",
       "      <td>0</td>\n",
       "      <td>7.0000</td>\n",
       "      <td>1.0000</td>\n",
       "      <td>1</td>\n",
       "      <td>7-1</td>\n",
       "      <td>0</td>\n",
       "      <td>4181</td>\n",
       "      <td>Challenge</td>\n",
       "      <td>O</td>\n",
       "      <td>O</td>\n",
       "    </tr>\n",
       "    <tr>\n",
       "      <th>4182</th>\n",
       "      <td>204</td>\n",
       "      <td>7</td>\n",
       "      <td>B-NAME_STUDENT</td>\n",
       "      <td>0.1250</td>\n",
       "      <td>0</td>\n",
       "      <td>7.0000</td>\n",
       "      <td>1.0000</td>\n",
       "      <td>0</td>\n",
       "      <td>0-0</td>\n",
       "      <td>0</td>\n",
       "      <td>4182</td>\n",
       "      <td></td>\n",
       "      <td>O</td>\n",
       "      <td>O</td>\n",
       "    </tr>\n",
       "    <tr>\n",
       "      <th>4183</th>\n",
       "      <td>204</td>\n",
       "      <td>8</td>\n",
       "      <td>O</td>\n",
       "      <td>1.0000</td>\n",
       "      <td>0</td>\n",
       "      <td>0.0000</td>\n",
       "      <td>0.1250</td>\n",
       "      <td>0</td>\n",
       "      <td>7-0</td>\n",
       "      <td>0</td>\n",
       "      <td>4183</td>\n",
       "      <td>For</td>\n",
       "      <td>O</td>\n",
       "      <td>O</td>\n",
       "    </tr>\n",
       "    <tr>\n",
       "      <th>4184</th>\n",
       "      <td>204</td>\n",
       "      <td>9</td>\n",
       "      <td>O</td>\n",
       "      <td>1.0000</td>\n",
       "      <td>0</td>\n",
       "      <td>7.0000</td>\n",
       "      <td>1.0000</td>\n",
       "      <td>1</td>\n",
       "      <td>7-1</td>\n",
       "      <td>0</td>\n",
       "      <td>4184</td>\n",
       "      <td>some</td>\n",
       "      <td>O</td>\n",
       "      <td>B-NAME_STUDENT</td>\n",
       "    </tr>\n",
       "  </tbody>\n",
       "</table>\n",
       "</div>"
      ],
      "text/plain": [
       "      document  token           label  score  label_next_e_prev  label_next  score_next  I labels  label_pred  row_id         tokens        label_gt         label_e\n",
       "4175       204      0               O 1.0000                  0         NaN         NaN  0    7-0           0    4175     Reflection               O               O\n",
       "4176       204      1               O 1.0000                  0      7.0000      1.0000  1    7-1           0    4176              –               O            None\n",
       "4177       204      2               O 0.9999                  0      7.0000      1.0000  1    7-1           0    4177  Visualization               O               O\n",
       "4178       204      3  B-NAME_STUDENT 0.1250                  0      7.0000      0.9999  0    0-0           0    4178                              O               O\n",
       "4179       204      4               O 0.9991                  0      0.0000      0.1250  0    7-0           0    4179          Deiby  B-NAME_STUDENT               O\n",
       "4180       204      5               O 1.0000                  0      7.0000      0.9991  1    7-1           0    4180           \\n\\n               O  B-NAME_STUDENT\n",
       "4181       204      6               O 1.0000                  0      7.0000      1.0000  1    7-1           0    4181      Challenge               O               O\n",
       "4182       204      7  B-NAME_STUDENT 0.1250                  0      7.0000      1.0000  0    0-0           0    4182                              O               O\n",
       "4183       204      8               O 1.0000                  0      0.0000      0.1250  0    7-0           0    4183            For               O               O\n",
       "4184       204      9               O 1.0000                  0      7.0000      1.0000  1    7-1           0    4184           some               O  B-NAME_STUDENT"
      ]
     },
     "execution_count": 127,
     "metadata": {},
     "output_type": "execute_result"
    }
   ],
   "source": [
    "x.head(10) #[x.score>0.125]"
   ]
  },
  {
   "cell_type": "code",
   "execution_count": null,
   "id": "a2006a37",
   "metadata": {},
   "outputs": [],
   "source": []
  }
 ],
 "metadata": {
  "kernelspec": {
   "display_name": "Python 3 (ipykernel)",
   "language": "python",
   "name": "python3"
  },
  "language_info": {
   "codemirror_mode": {
    "name": "ipython",
    "version": 3
   },
   "file_extension": ".py",
   "mimetype": "text/x-python",
   "name": "python",
   "nbconvert_exporter": "python",
   "pygments_lexer": "ipython3",
   "version": "3.10.9"
  }
 },
 "nbformat": 4,
 "nbformat_minor": 5
}

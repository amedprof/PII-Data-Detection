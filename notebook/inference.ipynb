{
 "cells": [
  {
   "cell_type": "code",
   "execution_count": 1,
   "id": "4a5a5fe2",
   "metadata": {},
   "outputs": [
    {
     "name": "stdout",
     "output_type": "stream",
     "text": [
      "/workspace/Script/NLP/PII/src\n"
     ]
    }
   ],
   "source": [
    "cd ../src"
   ]
  },
  {
   "cell_type": "code",
   "execution_count": 2,
   "id": "84bf958e",
   "metadata": {},
   "outputs": [],
   "source": [
    "import os\n",
    "import gc\n",
    "import sys\n",
    "import json\n",
    "import time\n",
    "import torch\n",
    "import joblib\n",
    "import random\n",
    "import numpy as np\n",
    "import pandas as pd\n",
    "from tqdm.auto import tqdm\n",
    "from pathlib import Path\n",
    "import plotly.express as px\n",
    "import matplotlib.pyplot as plt\n",
    "\n",
    "pd.set_option('display.max_rows', 500)\n",
    "pd.set_option('display.max_columns', 500)\n",
    "pd.set_option('display.width', 1000)\n",
    "pd.set_option('display.float_format', lambda x: '%.4f' % x)"
   ]
  },
  {
   "cell_type": "code",
   "execution_count": 3,
   "id": "ff6482fe",
   "metadata": {},
   "outputs": [],
   "source": [
    "import re\n",
    "import os\n",
    "import gc\n",
    "import math\n",
    "import time\n",
    "import json\n",
    "import random\n",
    "import numpy as np\n",
    "import pandas as pd\n",
    "import wandb\n",
    "\n",
    "from pathlib import Path\n",
    "\n",
    "import torch \n",
    "import torch.nn as nn\n",
    "from torch.cuda import amp\n",
    "import torch.optim as optim\n",
    "import torch.nn.functional as F\n",
    "\n",
    "from transformers import AutoTokenizer, AutoModel, AutoConfig\n",
    " \n",
    "from data.data_utils import to_gpu,to_np\n",
    "from data.dataset import FeedbackDataset,CustomCollator\n",
    "from torch.utils.data import DataLoader\n",
    "\n",
    "from model_zoo.models import FeedbackModel,span_nms,aggregate_tokens_to_words\n",
    "from metrics_loss.metrics import score_feedback,score,pii_fbeta_score_v2,compute_metrics\n",
    "from transformers import get_linear_schedule_with_warmup,get_cosine_schedule_with_warmup,get_polynomial_decay_schedule_with_warmup,get_cosine_with_hard_restarts_schedule_with_warmup\n",
    "\n",
    "from sklearn.metrics import log_loss \n",
    "from tqdm.auto import tqdm\n",
    "\n",
    "from utils.utils import count_parameters\n",
    "import matplotlib.pyplot as plt\n",
    "import warnings\n",
    "warnings.filterwarnings(\"ignore\")"
   ]
  },
  {
   "cell_type": "code",
   "execution_count": 4,
   "id": "a7704609",
   "metadata": {},
   "outputs": [],
   "source": [
    "os.environ[\"TOKENIZERS_PARALLELISM\"] = \"true\""
   ]
  },
  {
   "cell_type": "markdown",
   "id": "8895aef6",
   "metadata": {},
   "source": [
    "# Params"
   ]
  },
  {
   "cell_type": "code",
   "execution_count": 5,
   "id": "5d0104cc",
   "metadata": {},
   "outputs": [
    {
     "data": {
      "text/plain": [
       "['train.json', 'test.json', 'sample_submission.csv']"
      ]
     },
     "execution_count": 5,
     "metadata": {},
     "output_type": "execute_result"
    }
   ],
   "source": [
    "data_path = Path(r\"/database/kaggle/PII/data\")\n",
    "os.listdir(data_path)"
   ]
  },
  {
   "cell_type": "code",
   "execution_count": 6,
   "id": "b34e2843",
   "metadata": {},
   "outputs": [],
   "source": [
    "CHECKPOINT_PATH = Path(r\"/database/kaggle/PII/checkpoint\")"
   ]
  },
  {
   "cell_type": "code",
   "execution_count": 7,
   "id": "9c19b120",
   "metadata": {},
   "outputs": [
    {
     "data": {
      "text/plain": [
       "(6807, 5)"
      ]
     },
     "execution_count": 7,
     "metadata": {},
     "output_type": "execute_result"
    }
   ],
   "source": [
    "df = pd.read_json(data_path/'train.json')\n",
    "df.shape"
   ]
  },
  {
   "cell_type": "code",
   "execution_count": 8,
   "id": "d4bfe6a8",
   "metadata": {},
   "outputs": [
    {
     "data": {
      "text/html": [
       "<div>\n",
       "<style scoped>\n",
       "    .dataframe tbody tr th:only-of-type {\n",
       "        vertical-align: middle;\n",
       "    }\n",
       "\n",
       "    .dataframe tbody tr th {\n",
       "        vertical-align: top;\n",
       "    }\n",
       "\n",
       "    .dataframe thead th {\n",
       "        text-align: right;\n",
       "    }\n",
       "</style>\n",
       "<table border=\"1\" class=\"dataframe\">\n",
       "  <thead>\n",
       "    <tr style=\"text-align: right;\">\n",
       "      <th></th>\n",
       "      <th>document</th>\n",
       "      <th>full_text</th>\n",
       "      <th>tokens</th>\n",
       "      <th>trailing_whitespace</th>\n",
       "      <th>labels</th>\n",
       "    </tr>\n",
       "  </thead>\n",
       "  <tbody>\n",
       "    <tr>\n",
       "      <th>0</th>\n",
       "      <td>7</td>\n",
       "      <td>Design Thinking for innovation reflexion-Avril...</td>\n",
       "      <td>[Design, Thinking, for, innovation, reflexion,...</td>\n",
       "      <td>[True, True, True, True, False, False, True, F...</td>\n",
       "      <td>[O, O, O, O, O, O, O, O, O, B-NAME_STUDENT, I-...</td>\n",
       "    </tr>\n",
       "    <tr>\n",
       "      <th>1</th>\n",
       "      <td>10</td>\n",
       "      <td>Diego Estrada\\n\\nDesign Thinking Assignment\\n\\...</td>\n",
       "      <td>[Diego, Estrada, \\n\\n, Design, Thinking, Assig...</td>\n",
       "      <td>[True, False, False, True, True, False, False,...</td>\n",
       "      <td>[B-NAME_STUDENT, I-NAME_STUDENT, O, O, O, O, O...</td>\n",
       "    </tr>\n",
       "  </tbody>\n",
       "</table>\n",
       "</div>"
      ],
      "text/plain": [
       "   document                                          full_text                                             tokens                                trailing_whitespace                                             labels\n",
       "0         7  Design Thinking for innovation reflexion-Avril...  [Design, Thinking, for, innovation, reflexion,...  [True, True, True, True, False, False, True, F...  [O, O, O, O, O, O, O, O, O, B-NAME_STUDENT, I-...\n",
       "1        10  Diego Estrada\\n\\nDesign Thinking Assignment\\n\\...  [Diego, Estrada, \\n\\n, Design, Thinking, Assig...  [True, False, False, True, True, False, False,...  [B-NAME_STUDENT, I-NAME_STUDENT, O, O, O, O, O..."
      ]
     },
     "execution_count": 8,
     "metadata": {},
     "output_type": "execute_result"
    }
   ],
   "source": [
    "df.head(2)"
   ]
  },
  {
   "cell_type": "code",
   "execution_count": 9,
   "id": "922e6e00",
   "metadata": {},
   "outputs": [],
   "source": [
    "from sklearn.model_selection import GroupKFold,StratifiedGroupKFold,KFold,StratifiedKFold"
   ]
  },
  {
   "cell_type": "code",
   "execution_count": 10,
   "id": "f3eef037",
   "metadata": {},
   "outputs": [],
   "source": [
    "df['has_label'] = (df['labels'].transform(lambda x:len([i for i in x if i!=\"O\" ]))>0)*1\n",
    "seeds = [42]\n",
    "folds_names = []\n",
    "for K in [5]:  \n",
    "    for seed in seeds:\n",
    "        mskf = StratifiedKFold(n_splits=K,shuffle=True,random_state=seed)\n",
    "        name = f\"fold_sk_{K}_seed_{seed}\"\n",
    "        df[name] = -1\n",
    "        for fold, (trn_, val_) in enumerate(mskf.split(df,df['has_label'])):\n",
    "            df.loc[val_, name] = fold"
   ]
  },
  {
   "cell_type": "code",
   "execution_count": 10,
   "id": "0dfbf8e5",
   "metadata": {},
   "outputs": [],
   "source": [
    "from iterstrat.ml_stratifiers import MultilabelStratifiedKFold"
   ]
  },
  {
   "cell_type": "code",
   "execution_count": 11,
   "id": "9e44ba0b",
   "metadata": {},
   "outputs": [],
   "source": [
    "LABEL2TYPE = ('NAME_STUDENT','EMAIL','USERNAME','ID_NUM', 'PHONE_NUM','URL_PERSONAL','STREET_ADDRESS','O')\n",
    "for name in LABEL2TYPE[:-1]:\n",
    "    df[name] = ((df['labels'].transform(lambda x:len([i for i in x if i.split('-')[-1]==name ])))>0)*1\n",
    "\n",
    "seeds = [42]\n",
    "folds_names = []\n",
    "for K in [5]:  \n",
    "    for seed in seeds:\n",
    "        mskf = MultilabelStratifiedKFold(n_splits=K,shuffle=True,random_state=seed)\n",
    "        name = f\"fold_msk_{K}_seed_{seed}\"\n",
    "        df[name] = -1\n",
    "        for fold, (trn_, val_) in enumerate(mskf.split(df,df[list(LABEL2TYPE)[:-1]])):\n",
    "            df.loc[val_, name] = fold"
   ]
  },
  {
   "cell_type": "markdown",
   "id": "9ac0ec52",
   "metadata": {},
   "source": [
    "# Data"
   ]
  },
  {
   "cell_type": "code",
   "execution_count": 12,
   "id": "b98f9574",
   "metadata": {},
   "outputs": [],
   "source": [
    "from train_utils import inference_step\n",
    "from types import SimpleNamespace"
   ]
  },
  {
   "cell_type": "code",
   "execution_count": 23,
   "id": "6308abd6",
   "metadata": {},
   "outputs": [],
   "source": [
    "ID_TYPE = {\"0-0\":0,\"0-1\":1,\n",
    "           \"1-0\":2,\"1-1\":3,\n",
    "           \"2-0\":4,\"2-1\":5,\n",
    "           \"3-0\":6,\"3-1\":7,\n",
    "           \"4-0\":8,\"4-1\":9,\n",
    "           \"5-0\":10,\"5-1\":11,\n",
    "           \"6-0\":12,\"6-1\":12\n",
    "          }\n",
    "ID_NAME = {\"0-0\":\"B-NAME_STUDENT\",\"0-1\":\"I-NAME_STUDENT\",\n",
    "           \"1-0\":\"B-EMAIL\",\"1-1\":\"I-EMAIL\",\n",
    "           \"2-0\":\"B-USERNAME\",\"2-1\":\"I-USERNAME\",\n",
    "           \"3-0\":\"B-ID_NUM\",\"3-1\":\"I-ID_NUM\",\n",
    "           \"4-0\":\"B-PHONE_NUM\",\"4-1\":\"I-PHONE_NUM\",\n",
    "           \"5-0\":\"B-URL_PERSONAL\",\"5-1\":\"I-URL_PERSONAL\",\n",
    "           \"6-0\":\"B-STREET_ADDRESS\",\"6-1\":\"I-STREET_ADDRESS\"\n",
    "          }\n",
    "\n",
    "def inference_steps(df,folder,bs=1,fold=0):\n",
    "    \n",
    "    # ==== Loading Args =========== #\n",
    "    f = open(f'{folder}/params.json')\n",
    "    args = json.load(f)\n",
    "    args = SimpleNamespace(**args)\n",
    "    args.val_loader['batch_size'] = bs\n",
    "    args.model['pretrained_tokenizer'] = f\"{folder}/tokenizer\"\n",
    "    args.model['model_params']['config_path'] = f\"{folder}/config.pth\"\n",
    "    args.model['pretrained_weights'] = None\n",
    "    args.model[\"model_params\"]['pretrained_path'] = None\n",
    "#     args.model[\"model_params\"]['max_len'] = 3048\n",
    "    \n",
    "    args.device = 1\n",
    "    f.close()\n",
    "    device = torch.device(f\"cuda:{args.device}\" if torch.cuda.is_available() else \"cpu\")\n",
    "    \n",
    "    # ==== Loading dataset =========== #\n",
    "    tokenizer = AutoTokenizer.from_pretrained(args.model[\"model_params\"]['model_name'])\n",
    "    valid_dataset = eval(args.dataset)(df,tokenizer,**args.data[\"params_valid\"])\n",
    "    \n",
    "    \n",
    "    \n",
    "    # ==== Loading checkpoints =========== #\n",
    "    checkpoints = [x.as_posix() for x in (Path(folder)).glob(\"*.pth\") if f\"fold_{fold}\" in x.as_posix()]\n",
    "    print(checkpoints)\n",
    "    weights = [1/len(checkpoints)]*len(checkpoints)\n",
    "    \n",
    "    \n",
    "    # ==== Loop Inference =========== #\n",
    "    doc_ids = []\n",
    "    tokens = []\n",
    "    predictions = None\n",
    "    gt_df = []\n",
    "    for j,(checkpoint,weight) in enumerate(zip(checkpoints,weights)):\n",
    "        net = FeedbackModel(**args.model[\"model_params\"])\n",
    "        net.load_state_dict(torch.load(checkpoint, map_location=lambda storage, loc: storage))\n",
    "        net = net.to(device)\n",
    "        net.eval()\n",
    "        \n",
    "        collator = CustomCollator(tokenizer,net)\n",
    "        val_loader = DataLoader(valid_dataset,**args.val_loader,collate_fn=collator)\n",
    "    \n",
    "\n",
    "        \n",
    "        preds = []\n",
    "        \n",
    "        with torch.no_grad():\n",
    "            for data in tqdm(val_loader):\n",
    "                data = to_gpu(data, device)\n",
    "                \n",
    "                pred = net(data)\n",
    "                preds.append(pred.detach().cpu())\n",
    "#                 pred  = pred.softmax(-1)\n",
    "                \n",
    "                \n",
    "                if j==0:\n",
    "                \n",
    "                    doc_ids+=[data['text_id']]*pred.shape[0]\n",
    "                    tokens+=np.arange(pred.shape[0]).tolist()\n",
    "                    \n",
    "                    data = to_np(data)\n",
    "                    gt = pd.DataFrame({\n",
    "                                      \"document\":data['text_id'],\n",
    "                                      \"token\":np.arange(pred.shape[0]),\n",
    "                                      \"label\":data[\"gt_spans\"][:,1],\n",
    "                                      \"I\":data[\"gt_spans\"][:,2],\n",
    "                                     })\n",
    "                    gt_df.append(gt)\n",
    "\n",
    "        \n",
    "        if predictions is not None:\n",
    "#             predictions = torch.max(predictions,torch.cat(preds,dim=0))\n",
    "            predictions+= torch.cat(preds,dim=0)*weight\n",
    "        else:\n",
    "            predictions = torch.cat(preds,dim=0)*weight\n",
    "#             predictions+= torch.cat(preds,dim=0)*weight\n",
    "        print(predictions.shape)\n",
    "    \n",
    "    predictions = predictions.softmax(-1)\n",
    "    s,i = predictions[:,:-1].max(-1)\n",
    "    pred_df = pd.DataFrame({\"document\":doc_ids,\n",
    "                                 \"token\" : tokens,\n",
    "                                 \"label\" : i.numpy() ,\n",
    "                                 \"score\" : s.numpy() ,\n",
    "                                 \"o_score\":predictions[:,-1].numpy()\n",
    "                                 })\n",
    "    \n",
    "    # ==== Loop Inference =========== #\n",
    "    del valid_dataset\n",
    "    del val_loader\n",
    "    del net\n",
    "    del s,i\n",
    "    del predictions\n",
    "\n",
    "    gc.collect()\n",
    "#     torch.cuda.empty_cache()\n",
    "    \n",
    "    # ==== Loop Inference =========== #\n",
    "#     pred_df = pred_df[(pred_df.label!=7) & (pred_df.score>0.5)].reset_index(drop=True)\n",
    "#     pred_df[\"I\"] = ((pred_df.groupby('document')['label'].transform(lambda x:x.diff())==0) & (pred_df.groupby('document')['token'].transform(lambda x:x.diff())==1))*1\n",
    "#     pred_df['labels'] = pred_df['label'].astype(str)+'-'+pred_df['I'].astype(str)\n",
    "#     pred_df[\"label_pred\"] = pred_df[\"labels\"].map(ID_TYPE).fillna(0).astype(int)\n",
    "#     pred_df['row_id'] = np.arange(len(pred_df))\n",
    "    \n",
    "\n",
    "    gt_df = pd.concat(gt_df,axis=0).reset_index(drop=True)\n",
    "    gt_df = gt_df[gt_df.label!=7].reset_index(drop=True)\n",
    "    gt_df['labels'] = gt_df['label'].astype(str)+'-'+gt_df['I'].astype(str)\n",
    "    gt_df[\"label_gt\"] = gt_df[\"labels\"].map(ID_TYPE).fillna(0).astype(int)\n",
    "    gt_df['row_id'] = np.arange(len(gt_df))\n",
    "\n",
    "    \n",
    "    \n",
    "    return pred_df , gt_df"
   ]
  },
  {
   "cell_type": "code",
   "execution_count": 24,
   "id": "2e28aa78",
   "metadata": {},
   "outputs": [
    {
     "data": {
      "text/plain": [
       "['fold_2 _epoch_3 _step_5441 _valid_loss_0.0056 _score_0.9430 _train_loss_0.0037.pth',\n",
       " 'fold_4 _epoch_6 _step_4353 _valid_loss_0.0089 _score_0.9590 _train_loss_0.0010.pth',\n",
       " 'fold_0 _epoch_6 _step_5442 _valid_loss_0.0045 _score_0.9769 _train_loss_0.0011.pth',\n",
       " 'tokenizer',\n",
       " 'params.json',\n",
       " 'config.pth',\n",
       " 'fold_1 _epoch_5 _step_5442 _valid_loss_0.0118 _score_0.9443 _train_loss_0.0012.pth',\n",
       " 'fold_3 _epoch_6 _step_3810 _valid_loss_0.0129 _score_0.9345 _train_loss_0.0018.pth',\n",
       " 'tokenizer.zip']"
      ]
     },
     "execution_count": 24,
     "metadata": {},
     "output_type": "execute_result"
    }
   ],
   "source": [
    "FOLD_NAME = \"fold_msk_5_seed_42\"\n",
    "model_name = \"deberta-v3-large\"\n",
    "exp_name = \"2024-01-27--test\"\n",
    "folder = str(CHECKPOINT_PATH/Path(fr'{FOLD_NAME}/{model_name}/{exp_name}')) \n",
    "os.listdir(folder)"
   ]
  },
  {
   "cell_type": "code",
   "execution_count": 25,
   "id": "34195a9d",
   "metadata": {},
   "outputs": [
    {
     "data": {
      "text/plain": [
       "4    1362\n",
       "2    1362\n",
       "3    1361\n",
       "0    1361\n",
       "1    1361\n",
       "Name: fold_msk_5_seed_42, dtype: int64"
      ]
     },
     "execution_count": 25,
     "metadata": {},
     "output_type": "execute_result"
    }
   ],
   "source": [
    "df[FOLD_NAME].value_counts()"
   ]
  },
  {
   "cell_type": "code",
   "execution_count": 26,
   "id": "18e60b27",
   "metadata": {
    "scrolled": false
   },
   "outputs": [
    {
     "name": "stdout",
     "output_type": "stream",
     "text": [
      "Warning : n SEP will be replace by | \n",
      "Loaded 1361 samples.\n",
      "['/database/kaggle/PII/checkpoint/fold_msk_5_seed_42/deberta-v3-large/2024-01-27--test/fold_0 _epoch_6 _step_5442 _valid_loss_0.0045 _score_0.9769 _train_loss_0.0011.pth']\n"
     ]
    },
    {
     "data": {
      "application/vnd.jupyter.widget-view+json": {
       "model_id": "0979516dda0e499c9874f5f6f993dcb9",
       "version_major": 2,
       "version_minor": 0
      },
      "text/plain": [
       "  0%|          | 0/1361 [00:02<?, ?it/s]"
      ]
     },
     "metadata": {},
     "output_type": "display_data"
    },
    {
     "name": "stdout",
     "output_type": "stream",
     "text": [
      "torch.Size([997332, 8])\n"
     ]
    }
   ],
   "source": [
    "pred_df_dv3,gt_df = inference_steps(df[df[FOLD_NAME]==0],folder,bs=1,fold=0)"
   ]
  },
  {
   "cell_type": "code",
   "execution_count": 27,
   "id": "cb6fc291",
   "metadata": {},
   "outputs": [
    {
     "data": {
      "text/plain": [
       "(997332, 5)"
      ]
     },
     "execution_count": 27,
     "metadata": {},
     "output_type": "execute_result"
    }
   ],
   "source": [
    "pred_df_dv3.shape"
   ]
  },
  {
   "cell_type": "code",
   "execution_count": 28,
   "id": "b16252d4",
   "metadata": {},
   "outputs": [
    {
     "data": {
      "text/html": [
       "<div>\n",
       "<style scoped>\n",
       "    .dataframe tbody tr th:only-of-type {\n",
       "        vertical-align: middle;\n",
       "    }\n",
       "\n",
       "    .dataframe tbody tr th {\n",
       "        vertical-align: top;\n",
       "    }\n",
       "\n",
       "    .dataframe thead th {\n",
       "        text-align: right;\n",
       "    }\n",
       "</style>\n",
       "<table border=\"1\" class=\"dataframe\">\n",
       "  <thead>\n",
       "    <tr style=\"text-align: right;\">\n",
       "      <th></th>\n",
       "      <th>document</th>\n",
       "      <th>token</th>\n",
       "      <th>label</th>\n",
       "      <th>score</th>\n",
       "      <th>o_score</th>\n",
       "    </tr>\n",
       "  </thead>\n",
       "  <tbody>\n",
       "    <tr>\n",
       "      <th>0</th>\n",
       "      <td>16</td>\n",
       "      <td>0</td>\n",
       "      <td>0</td>\n",
       "      <td>0.0000</td>\n",
       "      <td>1.0000</td>\n",
       "    </tr>\n",
       "    <tr>\n",
       "      <th>1</th>\n",
       "      <td>16</td>\n",
       "      <td>1</td>\n",
       "      <td>0</td>\n",
       "      <td>0.0000</td>\n",
       "      <td>1.0000</td>\n",
       "    </tr>\n",
       "    <tr>\n",
       "      <th>2</th>\n",
       "      <td>16</td>\n",
       "      <td>2</td>\n",
       "      <td>0</td>\n",
       "      <td>0.0004</td>\n",
       "      <td>0.9994</td>\n",
       "    </tr>\n",
       "    <tr>\n",
       "      <th>3</th>\n",
       "      <td>16</td>\n",
       "      <td>3</td>\n",
       "      <td>0</td>\n",
       "      <td>0.0053</td>\n",
       "      <td>0.9940</td>\n",
       "    </tr>\n",
       "    <tr>\n",
       "      <th>4</th>\n",
       "      <td>16</td>\n",
       "      <td>4</td>\n",
       "      <td>0</td>\n",
       "      <td>0.9999</td>\n",
       "      <td>0.0001</td>\n",
       "    </tr>\n",
       "  </tbody>\n",
       "</table>\n",
       "</div>"
      ],
      "text/plain": [
       "   document  token  label  score  o_score\n",
       "0        16      0      0 0.0000   1.0000\n",
       "1        16      1      0 0.0000   1.0000\n",
       "2        16      2      0 0.0004   0.9994\n",
       "3        16      3      0 0.0053   0.9940\n",
       "4        16      4      0 0.9999   0.0001"
      ]
     },
     "execution_count": 28,
     "metadata": {},
     "output_type": "execute_result"
    }
   ],
   "source": [
    "pred_df_dv3.head()"
   ]
  },
  {
   "cell_type": "code",
   "execution_count": 44,
   "id": "72d52a25",
   "metadata": {},
   "outputs": [
    {
     "data": {
      "text/plain": [
       "(540, 7)"
      ]
     },
     "execution_count": 44,
     "metadata": {},
     "output_type": "execute_result"
    }
   ],
   "source": [
    "gt_df.shape"
   ]
  },
  {
   "cell_type": "code",
   "execution_count": 29,
   "id": "13da81cc",
   "metadata": {},
   "outputs": [],
   "source": [
    "g  = gt_df.copy()"
   ]
  },
  {
   "cell_type": "code",
   "execution_count": 30,
   "id": "7cccfb15",
   "metadata": {},
   "outputs": [
    {
     "data": {
      "text/plain": [
       "Index(['document', 'token', 'label', 'I', 'labels', 'label_gt', 'row_id'], dtype='object')"
      ]
     },
     "execution_count": 30,
     "metadata": {},
     "output_type": "execute_result"
    }
   ],
   "source": [
    "gt_df.columns"
   ]
  },
  {
   "cell_type": "code",
   "execution_count": 31,
   "id": "5b13acea",
   "metadata": {},
   "outputs": [
    {
     "data": {
      "text/html": [
       "<div>\n",
       "<style scoped>\n",
       "    .dataframe tbody tr th:only-of-type {\n",
       "        vertical-align: middle;\n",
       "    }\n",
       "\n",
       "    .dataframe tbody tr th {\n",
       "        vertical-align: top;\n",
       "    }\n",
       "\n",
       "    .dataframe thead th {\n",
       "        text-align: right;\n",
       "    }\n",
       "</style>\n",
       "<table border=\"1\" class=\"dataframe\">\n",
       "  <thead>\n",
       "    <tr style=\"text-align: right;\">\n",
       "      <th></th>\n",
       "      <th>document</th>\n",
       "      <th>token</th>\n",
       "      <th>label</th>\n",
       "      <th>I</th>\n",
       "      <th>labels</th>\n",
       "      <th>label_gt</th>\n",
       "      <th>row_id</th>\n",
       "    </tr>\n",
       "  </thead>\n",
       "  <tbody>\n",
       "    <tr>\n",
       "      <th>0</th>\n",
       "      <td>16</td>\n",
       "      <td>4</td>\n",
       "      <td>0</td>\n",
       "      <td>0</td>\n",
       "      <td>0-0</td>\n",
       "      <td>0</td>\n",
       "      <td>0</td>\n",
       "    </tr>\n",
       "    <tr>\n",
       "      <th>1</th>\n",
       "      <td>16</td>\n",
       "      <td>5</td>\n",
       "      <td>0</td>\n",
       "      <td>1</td>\n",
       "      <td>0-1</td>\n",
       "      <td>1</td>\n",
       "      <td>1</td>\n",
       "    </tr>\n",
       "    <tr>\n",
       "      <th>2</th>\n",
       "      <td>56</td>\n",
       "      <td>12</td>\n",
       "      <td>0</td>\n",
       "      <td>0</td>\n",
       "      <td>0-0</td>\n",
       "      <td>0</td>\n",
       "      <td>2</td>\n",
       "    </tr>\n",
       "    <tr>\n",
       "      <th>3</th>\n",
       "      <td>56</td>\n",
       "      <td>13</td>\n",
       "      <td>0</td>\n",
       "      <td>1</td>\n",
       "      <td>0-1</td>\n",
       "      <td>1</td>\n",
       "      <td>3</td>\n",
       "    </tr>\n",
       "    <tr>\n",
       "      <th>4</th>\n",
       "      <td>112</td>\n",
       "      <td>5</td>\n",
       "      <td>0</td>\n",
       "      <td>0</td>\n",
       "      <td>0-0</td>\n",
       "      <td>0</td>\n",
       "      <td>4</td>\n",
       "    </tr>\n",
       "    <tr>\n",
       "      <th>5</th>\n",
       "      <td>112</td>\n",
       "      <td>6</td>\n",
       "      <td>0</td>\n",
       "      <td>1</td>\n",
       "      <td>0-1</td>\n",
       "      <td>1</td>\n",
       "      <td>5</td>\n",
       "    </tr>\n",
       "    <tr>\n",
       "      <th>6</th>\n",
       "      <td>166</td>\n",
       "      <td>0</td>\n",
       "      <td>0</td>\n",
       "      <td>0</td>\n",
       "      <td>0-0</td>\n",
       "      <td>0</td>\n",
       "      <td>6</td>\n",
       "    </tr>\n",
       "    <tr>\n",
       "      <th>7</th>\n",
       "      <td>166</td>\n",
       "      <td>1</td>\n",
       "      <td>0</td>\n",
       "      <td>1</td>\n",
       "      <td>0-1</td>\n",
       "      <td>1</td>\n",
       "      <td>7</td>\n",
       "    </tr>\n",
       "    <tr>\n",
       "      <th>8</th>\n",
       "      <td>204</td>\n",
       "      <td>4</td>\n",
       "      <td>0</td>\n",
       "      <td>0</td>\n",
       "      <td>0-0</td>\n",
       "      <td>0</td>\n",
       "      <td>8</td>\n",
       "    </tr>\n",
       "    <tr>\n",
       "      <th>9</th>\n",
       "      <td>324</td>\n",
       "      <td>13</td>\n",
       "      <td>0</td>\n",
       "      <td>0</td>\n",
       "      <td>0-0</td>\n",
       "      <td>0</td>\n",
       "      <td>9</td>\n",
       "    </tr>\n",
       "  </tbody>\n",
       "</table>\n",
       "</div>"
      ],
      "text/plain": [
       "   document  token  label  I labels  label_gt  row_id\n",
       "0        16      4      0  0    0-0         0       0\n",
       "1        16      5      0  1    0-1         1       1\n",
       "2        56     12      0  0    0-0         0       2\n",
       "3        56     13      0  1    0-1         1       3\n",
       "4       112      5      0  0    0-0         0       4\n",
       "5       112      6      0  1    0-1         1       5\n",
       "6       166      0      0  0    0-0         0       6\n",
       "7       166      1      0  1    0-1         1       7\n",
       "8       204      4      0  0    0-0         0       8\n",
       "9       324     13      0  0    0-0         0       9"
      ]
     },
     "execution_count": 31,
     "metadata": {},
     "output_type": "execute_result"
    }
   ],
   "source": [
    "gt_df.head(10)"
   ]
  },
  {
   "cell_type": "code",
   "execution_count": 33,
   "id": "2400f10f",
   "metadata": {},
   "outputs": [
    {
     "data": {
      "text/html": [
       "<div>\n",
       "<style scoped>\n",
       "    .dataframe tbody tr th:only-of-type {\n",
       "        vertical-align: middle;\n",
       "    }\n",
       "\n",
       "    .dataframe tbody tr th {\n",
       "        vertical-align: top;\n",
       "    }\n",
       "\n",
       "    .dataframe thead th {\n",
       "        text-align: right;\n",
       "    }\n",
       "</style>\n",
       "<table border=\"1\" class=\"dataframe\">\n",
       "  <thead>\n",
       "    <tr style=\"text-align: right;\">\n",
       "      <th></th>\n",
       "      <th>document</th>\n",
       "      <th>token</th>\n",
       "      <th>label</th>\n",
       "      <th>score</th>\n",
       "      <th>o_score</th>\n",
       "    </tr>\n",
       "  </thead>\n",
       "  <tbody>\n",
       "    <tr>\n",
       "      <th>450839</th>\n",
       "      <td>13532</td>\n",
       "      <td>388</td>\n",
       "      <td>0</td>\n",
       "      <td>0.0000</td>\n",
       "      <td>1.0000</td>\n",
       "    </tr>\n",
       "    <tr>\n",
       "      <th>420166</th>\n",
       "      <td>13037</td>\n",
       "      <td>106</td>\n",
       "      <td>0</td>\n",
       "      <td>0.0000</td>\n",
       "      <td>1.0000</td>\n",
       "    </tr>\n",
       "    <tr>\n",
       "      <th>706686</th>\n",
       "      <td>17952</td>\n",
       "      <td>560</td>\n",
       "      <td>0</td>\n",
       "      <td>0.0000</td>\n",
       "      <td>1.0000</td>\n",
       "    </tr>\n",
       "    <tr>\n",
       "      <th>626428</th>\n",
       "      <td>16552</td>\n",
       "      <td>462</td>\n",
       "      <td>0</td>\n",
       "      <td>0.0000</td>\n",
       "      <td>1.0000</td>\n",
       "    </tr>\n",
       "    <tr>\n",
       "      <th>660625</th>\n",
       "      <td>17277</td>\n",
       "      <td>210</td>\n",
       "      <td>0</td>\n",
       "      <td>0.0000</td>\n",
       "      <td>1.0000</td>\n",
       "    </tr>\n",
       "    <tr>\n",
       "      <th>109698</th>\n",
       "      <td>8848</td>\n",
       "      <td>639</td>\n",
       "      <td>0</td>\n",
       "      <td>0.0000</td>\n",
       "      <td>1.0000</td>\n",
       "    </tr>\n",
       "    <tr>\n",
       "      <th>29358</th>\n",
       "      <td>3935</td>\n",
       "      <td>350</td>\n",
       "      <td>0</td>\n",
       "      <td>0.0000</td>\n",
       "      <td>1.0000</td>\n",
       "    </tr>\n",
       "    <tr>\n",
       "      <th>374785</th>\n",
       "      <td>12465</td>\n",
       "      <td>1067</td>\n",
       "      <td>0</td>\n",
       "      <td>0.0000</td>\n",
       "      <td>1.0000</td>\n",
       "    </tr>\n",
       "    <tr>\n",
       "      <th>351257</th>\n",
       "      <td>12152</td>\n",
       "      <td>468</td>\n",
       "      <td>0</td>\n",
       "      <td>0.0000</td>\n",
       "      <td>1.0000</td>\n",
       "    </tr>\n",
       "    <tr>\n",
       "      <th>384966</th>\n",
       "      <td>12680</td>\n",
       "      <td>145</td>\n",
       "      <td>0</td>\n",
       "      <td>0.0000</td>\n",
       "      <td>1.0000</td>\n",
       "    </tr>\n",
       "  </tbody>\n",
       "</table>\n",
       "</div>"
      ],
      "text/plain": [
       "        document  token  label  score  o_score\n",
       "450839     13532    388      0 0.0000   1.0000\n",
       "420166     13037    106      0 0.0000   1.0000\n",
       "706686     17952    560      0 0.0000   1.0000\n",
       "626428     16552    462      0 0.0000   1.0000\n",
       "660625     17277    210      0 0.0000   1.0000\n",
       "109698      8848    639      0 0.0000   1.0000\n",
       "29358       3935    350      0 0.0000   1.0000\n",
       "374785     12465   1067      0 0.0000   1.0000\n",
       "351257     12152    468      0 0.0000   1.0000\n",
       "384966     12680    145      0 0.0000   1.0000"
      ]
     },
     "execution_count": 33,
     "metadata": {},
     "output_type": "execute_result"
    }
   ],
   "source": [
    "pred_df_dv3.sample(10)"
   ]
  },
  {
   "cell_type": "code",
   "execution_count": 34,
   "id": "5b57d54f",
   "metadata": {},
   "outputs": [],
   "source": [
    "# p = pred_df_dv3.copy()"
   ]
  },
  {
   "cell_type": "code",
   "execution_count": 24,
   "id": "adf09ec3",
   "metadata": {},
   "outputs": [],
   "source": [
    "# pred_df = p.copy()"
   ]
  },
  {
   "cell_type": "code",
   "execution_count": 70,
   "id": "e4ac0c26",
   "metadata": {},
   "outputs": [
    {
     "data": {
      "text/plain": [
       "(53421, 9)"
      ]
     },
     "execution_count": 70,
     "metadata": {},
     "output_type": "execute_result"
    }
   ],
   "source": [
    "pred_df = pred_df_dv3[(pred_df_dv3.o_score<0.5) | (pred_df_dv3.score>0.3)].reset_index(drop=True)\n",
    "pred_df[\"I\"] = ((pred_df.groupby('document')['label'].transform(lambda x:x.diff())==0) & (pred_df.groupby('document')['token'].transform(lambda x:x.diff())==1))*1\n",
    "pred_df['labels'] = pred_df['label'].astype(str)+'-'+pred_df['I'].astype(str)\n",
    "pred_df[\"label_pred\"] = pred_df[\"labels\"].map(ID_TYPE).fillna(0).astype(int)\n",
    "pred_df['row_id'] = np.arange(len(pred_df))\n",
    "pred_df.shape"
   ]
  },
  {
   "cell_type": "code",
   "execution_count": 63,
   "id": "f31c6607",
   "metadata": {},
   "outputs": [
    {
     "data": {
      "text/html": [
       "<div>\n",
       "<style scoped>\n",
       "    .dataframe tbody tr th:only-of-type {\n",
       "        vertical-align: middle;\n",
       "    }\n",
       "\n",
       "    .dataframe tbody tr th {\n",
       "        vertical-align: top;\n",
       "    }\n",
       "\n",
       "    .dataframe thead th {\n",
       "        text-align: right;\n",
       "    }\n",
       "</style>\n",
       "<table border=\"1\" class=\"dataframe\">\n",
       "  <thead>\n",
       "    <tr style=\"text-align: right;\">\n",
       "      <th></th>\n",
       "      <th>document</th>\n",
       "      <th>token</th>\n",
       "      <th>label</th>\n",
       "      <th>score</th>\n",
       "      <th>o_score</th>\n",
       "      <th>I</th>\n",
       "      <th>labels</th>\n",
       "      <th>label_pred</th>\n",
       "      <th>row_id</th>\n",
       "    </tr>\n",
       "  </thead>\n",
       "  <tbody>\n",
       "    <tr>\n",
       "      <th>0</th>\n",
       "      <td>16</td>\n",
       "      <td>4</td>\n",
       "      <td>0</td>\n",
       "      <td>0.9999</td>\n",
       "      <td>0.0001</td>\n",
       "      <td>0</td>\n",
       "      <td>0-0</td>\n",
       "      <td>0</td>\n",
       "      <td>0</td>\n",
       "    </tr>\n",
       "    <tr>\n",
       "      <th>1</th>\n",
       "      <td>16</td>\n",
       "      <td>5</td>\n",
       "      <td>0</td>\n",
       "      <td>0.9998</td>\n",
       "      <td>0.0001</td>\n",
       "      <td>1</td>\n",
       "      <td>0-1</td>\n",
       "      <td>1</td>\n",
       "      <td>1</td>\n",
       "    </tr>\n",
       "    <tr>\n",
       "      <th>2</th>\n",
       "      <td>56</td>\n",
       "      <td>12</td>\n",
       "      <td>0</td>\n",
       "      <td>0.9998</td>\n",
       "      <td>0.0002</td>\n",
       "      <td>0</td>\n",
       "      <td>0-0</td>\n",
       "      <td>0</td>\n",
       "      <td>2</td>\n",
       "    </tr>\n",
       "    <tr>\n",
       "      <th>3</th>\n",
       "      <td>56</td>\n",
       "      <td>13</td>\n",
       "      <td>0</td>\n",
       "      <td>0.9996</td>\n",
       "      <td>0.0003</td>\n",
       "      <td>1</td>\n",
       "      <td>0-1</td>\n",
       "      <td>1</td>\n",
       "      <td>3</td>\n",
       "    </tr>\n",
       "    <tr>\n",
       "      <th>4</th>\n",
       "      <td>112</td>\n",
       "      <td>5</td>\n",
       "      <td>0</td>\n",
       "      <td>0.9998</td>\n",
       "      <td>0.0001</td>\n",
       "      <td>0</td>\n",
       "      <td>0-0</td>\n",
       "      <td>0</td>\n",
       "      <td>4</td>\n",
       "    </tr>\n",
       "  </tbody>\n",
       "</table>\n",
       "</div>"
      ],
      "text/plain": [
       "   document  token  label  score  o_score  I labels  label_pred  row_id\n",
       "0        16      4      0 0.9999   0.0001  0    0-0           0       0\n",
       "1        16      5      0 0.9998   0.0001  1    0-1           1       1\n",
       "2        56     12      0 0.9998   0.0002  0    0-0           0       2\n",
       "3        56     13      0 0.9996   0.0003  1    0-1           1       3\n",
       "4       112      5      0 0.9998   0.0001  0    0-0           0       4"
      ]
     },
     "execution_count": 63,
     "metadata": {},
     "output_type": "execute_result"
    }
   ],
   "source": [
    "pred_df.head()"
   ]
  },
  {
   "cell_type": "code",
   "execution_count": 64,
   "id": "4e451c49",
   "metadata": {},
   "outputs": [],
   "source": [
    "pred_df['label'] = pred_df['labels'].map(ID_NAME)"
   ]
  },
  {
   "cell_type": "code",
   "execution_count": 65,
   "id": "f5cd439e",
   "metadata": {},
   "outputs": [],
   "source": [
    "gt_df['label'] = gt_df['labels'].map(ID_NAME)"
   ]
  },
  {
   "cell_type": "code",
   "execution_count": 66,
   "id": "312c91b7",
   "metadata": {},
   "outputs": [],
   "source": [
    "COL_SUBS = [\"row_id\",'document', 'token', 'label']"
   ]
  },
  {
   "cell_type": "code",
   "execution_count": 67,
   "id": "996ede8b",
   "metadata": {},
   "outputs": [
    {
     "data": {
      "text/plain": [
       "{'f5_micro': 0.9745182466294909,\n",
       " 'ents_per_type': {'NAME_STUDENT': 0.9812876625436093,\n",
       "  'URL_PERSONAL': 0.9863429438543246,\n",
       "  'ID_NUM': 0.8900900900900901,\n",
       "  'USERNAME': 1.0,\n",
       "  'PHONE_NUM': 0.9904761904761905,\n",
       "  'EMAIL': 0.7428571428571428}}"
      ]
     },
     "execution_count": 67,
     "metadata": {},
     "output_type": "execute_result"
    }
   ],
   "source": [
    "compute_metrics(pred_df, gt_df)"
   ]
  },
  {
   "cell_type": "code",
   "execution_count": null,
   "id": "835bedf0",
   "metadata": {},
   "outputs": [],
   "source": []
  },
  {
   "cell_type": "code",
   "execution_count": 54,
   "id": "07615ff1",
   "metadata": {},
   "outputs": [],
   "source": [
    "from collections import defaultdict\n",
    "from typing import Dict\n",
    "\n",
    "\n",
    "class PRFScore:\n",
    "    \"\"\"A precision / recall / F score.\"\"\"\n",
    "\n",
    "    def __init__(\n",
    "        self,\n",
    "        *,\n",
    "        tp: int = 0,\n",
    "        fp: int = 0,\n",
    "        fn: int = 0,\n",
    "    ) -> None:\n",
    "        self.tp = tp\n",
    "        self.fp = fp\n",
    "        self.fn = fn\n",
    "\n",
    "    def __len__(self) -> int:\n",
    "        return self.tp + self.fp + self.fn\n",
    "\n",
    "    def __iadd__(self, other):  # in-place add\n",
    "        self.tp += other.tp\n",
    "        self.fp += other.fp\n",
    "        self.fn += other.fn\n",
    "        return self\n",
    "\n",
    "    def __add__(self, other):\n",
    "        return PRFScore(\n",
    "            tp=self.tp + other.tp, fp=self.fp + other.fp, fn=self.fn + other.fn\n",
    "        )\n",
    "\n",
    "    def score_set(self, cand: set, gold: set) -> None:\n",
    "        self.tp += len(cand.intersection(gold))\n",
    "        self.fp += len(cand - gold)\n",
    "        self.fn += len(gold - cand)\n",
    "\n",
    "    @property\n",
    "    def precision(self) -> float:\n",
    "        return self.tp / (self.tp + self.fp + 1e-100)\n",
    "\n",
    "    @property\n",
    "    def recall(self) -> float:\n",
    "        return self.tp / (self.tp + self.fn + 1e-100)\n",
    "\n",
    "    @property\n",
    "    def f1(self) -> float:\n",
    "        p = self.precision\n",
    "        r = self.recall\n",
    "        return 2 * ((p * r) / (p + r + 1e-100))\n",
    "\n",
    "    @property\n",
    "    def f5(self) -> float:\n",
    "        beta = 5\n",
    "        p = self.precision\n",
    "        r = self.recall\n",
    "\n",
    "        fbeta = (1+(beta**2))*p*r / ((beta**2)*p + r + 1e-100)\n",
    "        return fbeta\n",
    "\n",
    "    def to_dict(self) -> Dict[str, float]:\n",
    "        return {\"p\": self.precision, \"r\": self.recall, \"f5\": self.f5}\n",
    "\n",
    "\n",
    "def compute_metrics(pred_df, gt_df):\n",
    "    \"\"\"\n",
    "    Compute the LB metric (lb) and other auxiliary metrics\n",
    "    \"\"\"\n",
    "    \n",
    "    references = {(row.document, row.token, row.label) for row in gt_df.itertuples()}\n",
    "    predictions = {(row.document, row.token, row.label) for row in pred_df.itertuples()}\n",
    "\n",
    "    score_per_type = defaultdict(PRFScore)\n",
    "    references = set(references)\n",
    "\n",
    "    for ex in predictions:\n",
    "        pred_type = ex[-1] # (document, token, label)\n",
    "        if pred_type != 'O':\n",
    "            pred_type = pred_type[2:] # avoid B- and I- prefix\n",
    "            \n",
    "        if pred_type not in score_per_type:\n",
    "            score_per_type[pred_type] = PRFScore()\n",
    "\n",
    "        if ex in references:\n",
    "            score_per_type[pred_type].tp += 1\n",
    "            references.remove(ex)\n",
    "        else:\n",
    "            score_per_type[pred_type].fp += 1\n",
    "\n",
    "    for doc, tok, ref_type in references:\n",
    "        if ref_type != 'O':\n",
    "            ref_type = ref_type[2:] # avoid B- and I- prefix\n",
    "        \n",
    "        if ref_type not in score_per_type:\n",
    "            score_per_type[ref_type] = PRFScore()\n",
    "        score_per_type[ref_type].fn += 1\n",
    "\n",
    "    totals = PRFScore()\n",
    "    \n",
    "    for prf in score_per_type.values():\n",
    "        totals += prf\n",
    "\n",
    "    return {\n",
    "        # \"ents_p\": totals.precision,\n",
    "        # \"ents_r\": totals.recall,\n",
    "        \"f5_micro\": totals.f5,\n",
    "        \"ents_per_type\": {k: v.to_dict()['f5'] for k, v in score_per_type.items() if k!= 'O' },\n",
    "    }"
   ]
  },
  {
   "cell_type": "code",
   "execution_count": 32,
   "id": "f42859f9",
   "metadata": {},
   "outputs": [
    {
     "data": {
      "text/plain": [
       "{'f5_micro': 0.9766982064680132,\n",
       " 'ents_per_type': {'ID_NUM': 0.9386281588447652,\n",
       "  'NAME_STUDENT': 0.9814432989690723,\n",
       "  'URL_PERSONAL': 0.989345509893455,\n",
       "  'EMAIL': 0.7428571428571428,\n",
       "  'PHONE_NUM': 0.9904761904761905,\n",
       "  'USERNAME': 1.0}}"
      ]
     },
     "execution_count": 32,
     "metadata": {},
     "output_type": "execute_result"
    }
   ],
   "source": [
    "compute_metrics(pred_df, gt_df)"
   ]
  },
  {
   "cell_type": "code",
   "execution_count": 67,
   "id": "234c1ac1",
   "metadata": {},
   "outputs": [],
   "source": [
    "\n",
    "LABEL2TYPE = ('NAME_STUDENT','EMAIL','USERNAME','ID_NUM', 'PHONE_NUM','URL_PERSONAL','STREET_ADDRESS','O')\n",
    "LABEL = {l: t for l, t in enumerate(LABEL2TYPE)}\n",
    "\n",
    "def score_feedback(pred_df, gt_df):\n",
    "    df = pred_df.merge(gt_df,how='outer',on=['document',\"token\"],suffixes=('_p','_g'))\n",
    "\n",
    "    df['status'] = \"TN\"\n",
    "\n",
    "    df.loc[df.label_gt.isna(),'status'] = \"FP\"\n",
    "    df.loc[df.label_pred.isna(),'status'] = \"FN\"\n",
    "    df.loc[(df.label_gt.notna()) & (df.label_gt!=df.label_pred),'status'] = \"FN\"\n",
    "    df.loc[(df.label_pred.notna()) & (df.label_gt.notna()) & (df.label_gt==df.label_pred),'status'] = \"TP\"\n",
    "\n",
    "    FP = (df['status'].isin([\"FP\"])).sum()\n",
    "    FN = (df['status'].isin([\"FN\"])).sum()\n",
    "    TP = (df['status']==\"TP\").sum()\n",
    "\n",
    "    s_micro = (1+(5**2))*TP/(((1+(5**2))*TP) + ((5**2)*FN) + FP)\n",
    "\n",
    "    df[\"cm\"] = \"\"\n",
    "    \n",
    "    df.loc[df.label_gt.isna(), \"cm\"] = \"FP\"\n",
    "    df.loc[df.label_pred.isna(), \"cm\"] = \"FN\"\n",
    "\n",
    "    # df.loc[(df.label_gt.notna()) & (df.label_gt != df.label_pred), \"cm\"] = \"FNFP\"\n",
    "    df.loc[(df.label_gt.notna() & df.label_pred.notna()) & (df.label_gt != df.label_pred), \"cm\"] = \"FNFP\" # CHANGED\n",
    "    \n",
    "    df.loc[\n",
    "        (df.label_pred.notna()) & (df.label_gt.notna()) & (df.label_gt == df.label_pred), \"cm\"\n",
    "    ] = \"TP\"\n",
    "\n",
    "    FP = (df[\"cm\"].isin({\"FP\", \"FNFP\"})).sum()\n",
    "    FN = (df[\"cm\"].isin({\"FN\", \"FNFP\"})).sum()\n",
    "    TP = (df[\"cm\"] == \"TP\").sum()\n",
    "    s_micro_new = (1+(5**2))*TP/(((1+(5**2))*TP) + ((5**2)*FN) + FP)\n",
    "\n",
    "\n",
    "    dic_class = {}\n",
    "    classes = gt_df['label'].unique()\n",
    "    for c in classes:\n",
    "        \n",
    "        dx = pred_df[pred_df.label==c].merge(gt_df[gt_df.label==c],how='outer',on=['document',\"token\"],suffixes=('_p','_g'))\n",
    "#         dx = df[(df.label_gt.isna()) | (df.label_g==c) | (df.label_p==c)].reset_index()\n",
    "        dx[\"cm1\"] = \"\"\n",
    "    \n",
    "        dx.loc[dx.label_gt.isna(), \"cm1\"] = \"FP\"\n",
    "        dx.loc[dx.label_pred.isna(), \"cm1\"] = \"FN\"\n",
    "\n",
    "        # df.loc[(df.label_gt.notna()) & (df.label_gt != df.label_pred), \"cm\"] = \"FNFP\"\n",
    "        dx.loc[(dx.label_gt.notna() & dx.label_pred.notna()) & (dx.label_gt != dx.label_pred), \"cm1\"] = \"FNFP\" # CHANGED\n",
    "\n",
    "        dx.loc[\n",
    "            (dx.label_pred.notna()) & (dx.label_gt.notna()) & (dx.label_gt == dx.label_pred), \"cm1\"\n",
    "        ] = \"TP\"\n",
    "\n",
    "        FP = (dx[\"cm1\"].isin({\"FP\", \"FNFP\"})).sum()\n",
    "        FN = (dx[\"cm1\"].isin({\"FN\", \"FNFP\"})).sum()\n",
    "        TP = (dx[\"cm1\"] == \"TP\").sum()\n",
    "        s = (1+(5**2))*TP/(((1+(5**2))*TP) + ((5**2)*FN) + FP)\n",
    "    \n",
    "#         s = (1+(5**2))*tp/(((1+(5**2))*tp) + ((5**2)*fn) + fp) if tp+fp+fn !=0 else -1\n",
    "        dic_class[LABEL[c]] = s\n",
    "    # df.loc[(df.label_pred.notna()) & (df.label_gt.notna()) & (df.label_gt==df.label_pred),'status'] = \"TP\"\n",
    "\n",
    "\n",
    "    # s_micro = fbeta_score(df['label'].values, df['label_pred'].values, average='micro', beta=5)\n",
    "    # s_macro = fbeta_score(df['label'].values, df['label_pred'].values, average='macro', beta=5)\n",
    "    return s_micro_new,s_micro,dic_class"
   ]
  },
  {
   "cell_type": "code",
   "execution_count": 48,
   "id": "6751f597",
   "metadata": {},
   "outputs": [
    {
     "data": {
      "text/plain": [
       "0.976698206468013"
      ]
     },
     "execution_count": 48,
     "metadata": {},
     "output_type": "execute_result"
    }
   ],
   "source": [
    "pii_fbeta_score_v2(pred_df, gt_df, beta=5)"
   ]
  },
  {
   "cell_type": "code",
   "execution_count": 68,
   "id": "6e267de9",
   "metadata": {},
   "outputs": [
    {
     "data": {
      "text/plain": [
       "(0.976698206468013,\n",
       " 0.9770431588613406,\n",
       " {'NAME_STUDENT': 0.9814432989690721,\n",
       "  'URL_PERSONAL': 0.989345509893455,\n",
       "  'PHONE_NUM': 0.9904761904761905,\n",
       "  'EMAIL': 0.7428571428571429,\n",
       "  'ID_NUM': 0.9386281588447654,\n",
       "  'USERNAME': 1.0})"
      ]
     },
     "execution_count": 68,
     "metadata": {},
     "output_type": "execute_result"
    }
   ],
   "source": [
    "score_feedback(pred_df, gt_df)"
   ]
  },
  {
   "cell_type": "code",
   "execution_count": 49,
   "id": "f9fdb9da",
   "metadata": {},
   "outputs": [
    {
     "data": {
      "text/plain": [
       "(0.976698206468013,\n",
       " 0.9770431588613406,\n",
       " {'NAME_STUDENT': 0.9800443458980045,\n",
       "  'URL_PERSONAL': 0.8387096774193549,\n",
       "  'PHONE_NUM': 0.45414847161572053,\n",
       "  'EMAIL': 0.46846846846846846,\n",
       "  'ID_NUM': 0.7749627421758569,\n",
       "  'USERNAME': 0.17218543046357615})"
      ]
     },
     "execution_count": 49,
     "metadata": {},
     "output_type": "execute_result"
    }
   ],
   "source": [
    "score_feedback(pred_df, gt_df)"
   ]
  },
  {
   "cell_type": "code",
   "execution_count": 42,
   "id": "b6963cca",
   "metadata": {},
   "outputs": [
    {
     "data": {
      "text/plain": [
       "(0.976698206468013,\n",
       " 0.9770431588613406,\n",
       " {'NAME_STUDENT': 0.9875518672199171,\n",
       "  'URL_PERSONAL': 0.9715994020926756,\n",
       "  'PHONE_NUM': 0.9285714285714286,\n",
       "  'EMAIL': 0.7222222222222222,\n",
       "  'ID_NUM': 0.9219858156028369,\n",
       "  'USERNAME': 0.7647058823529411})"
      ]
     },
     "execution_count": 42,
     "metadata": {},
     "output_type": "execute_result"
    }
   ],
   "source": [
    "score_feedback(pred_df, gt_df)"
   ]
  },
  {
   "cell_type": "code",
   "execution_count": 59,
   "id": "f1d2eb32",
   "metadata": {},
   "outputs": [
    {
     "data": {
      "text/plain": [
       "<Axes: >"
      ]
     },
     "execution_count": 59,
     "metadata": {},
     "output_type": "execute_result"
    },
    {
     "data": {
      "image/png": "[encoded data removed]",
      "text/plain": [
       "<Figure size 640x480 with 1 Axes>"
      ]
     },
     "metadata": {},
     "output_type": "display_data"
    }
   ],
   "source": [
    "pred_df.score.hist()"
   ]
  }
 ],
 "metadata": {
  "kernelspec": {
   "display_name": "Python 3 (ipykernel)",
   "language": "python",
   "name": "python3"
  },
  "language_info": {
   "codemirror_mode": {
    "name": "ipython",
    "version": 3
   },
   "file_extension": ".py",
   "mimetype": "text/x-python",
   "name": "python",
   "nbconvert_exporter": "python",
   "pygments_lexer": "ipython3",
   "version": "3.10.9"
  }
 },
 "nbformat": 4,
 "nbformat_minor": 5
}

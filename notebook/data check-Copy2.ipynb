{
 "cells": [
  {
   "cell_type": "code",
   "execution_count": 1,
   "id": "1d487dba",
   "metadata": {},
   "outputs": [
    {
     "name": "stdout",
     "output_type": "stream",
     "text": [
      "/workspace/Script/NLP/PII/src\n"
     ]
    }
   ],
   "source": [
    "cd ../src"
   ]
  },
  {
   "cell_type": "code",
   "execution_count": 2,
   "id": "84bf958e",
   "metadata": {},
   "outputs": [],
   "source": [
    "import os\n",
    "import gc\n",
    "import sys\n",
    "import json\n",
    "import time\n",
    "import torch\n",
    "import joblib\n",
    "import random\n",
    "import numpy as np\n",
    "import pandas as pd\n",
    "from tqdm.auto import tqdm\n",
    "from pathlib import Path\n",
    "import plotly.express as px\n",
    "import matplotlib.pyplot as plt\n",
    "\n",
    "pd.set_option('display.max_rows', 500)\n",
    "pd.set_option('display.max_columns', 500)\n",
    "pd.set_option('display.width', 1000)\n",
    "pd.set_option('display.float_format', lambda x: '%.4f' % x)"
   ]
  },
  {
   "cell_type": "code",
   "execution_count": 3,
   "id": "1602e96c",
   "metadata": {},
   "outputs": [],
   "source": [
    "from data.data_utils import get_offset_mapping,clean_text\n",
    "from data.dataset import FeedbackDataset"
   ]
  },
  {
   "cell_type": "code",
   "execution_count": 4,
   "id": "7384a026",
   "metadata": {},
   "outputs": [
    {
     "name": "stdout",
     "output_type": "stream",
     "text": [
      "env: TOKENIZERS_PARALLELISM=true\n"
     ]
    }
   ],
   "source": [
    "from transformers import DataCollatorWithPadding\n",
    "from transformers import AutoTokenizer, AutoModel, AutoConfig\n",
    "\n",
    "%env TOKENIZERS_PARALLELISM = true"
   ]
  },
  {
   "cell_type": "code",
   "execution_count": 5,
   "id": "f72ad839",
   "metadata": {},
   "outputs": [],
   "source": [
    "import spacy\n",
    "from spacy import displacy\n",
    "from pylab import cm, matplotlib\n",
    "import os\n",
    "\n",
    "colors = {\n",
    "            'NAME_STUDENT': '#8000ff',\n",
    "            'EMAIL': '#2b7ff6',\n",
    "            'USERNAME': '#2adddd',\n",
    "            'ID_NUM': '#80ffb4',\n",
    "            'PHONE_NUM': 'd4dd80',\n",
    "            'URL_PERSONAL': '#ff8042',\n",
    "            'STREET_ADDRESS': '#ff0000'\n",
    "         }\n",
    "\n",
    "\n",
    "def visualize(full_text,offset_mapping,labels):\n",
    "    \n",
    "    ents = []\n",
    "    for offset,lab in zip(offset_mapping,labels):\n",
    "        ents.append({\n",
    "                        'start': int(offset[0]), \n",
    "                         'end': int(offset[1]), \n",
    "                         'label': str(lab.split('-')[-1]) #+ ' - ' + str(row['discourse_effectiveness'])\n",
    "                    })\n",
    "\n",
    "    doc2 = {\n",
    "        \"text\": full_text,\n",
    "        \"ents\": ents,\n",
    "#         \"title\": \"idx\"\n",
    "    }\n",
    "\n",
    "    options = {\"ents\": list(colors.keys()), \"colors\": colors}\n",
    "    displacy.render(doc2, style=\"ent\", options=options, manual=True, jupyter=True)"
   ]
  },
  {
   "cell_type": "markdown",
   "id": "8895aef6",
   "metadata": {},
   "source": [
    "# Params"
   ]
  },
  {
   "cell_type": "code",
   "execution_count": 6,
   "id": "5d0104cc",
   "metadata": {},
   "outputs": [
    {
     "data": {
      "text/plain": [
       "['train.json',\n",
       " 'pii_dataset_fixed.csv',\n",
       " 'mixtral-8x7b-v1.json',\n",
       " '.~lock.lecture2.pptx#',\n",
       " 'mpware_mixtral8x7b_v1.1-no-i-username.json.zip',\n",
       " 'Fake_data_1850_218.json',\n",
       " 'test.json',\n",
       " 'archive.zip',\n",
       " 'archive',\n",
       " 'pii-masking-200k.csv',\n",
       " 'moredata_dataset_fixed.csv',\n",
       " 'sample_submission.csv',\n",
       " 'mpware_mixtral8x7b_v1.1.json']"
      ]
     },
     "execution_count": 6,
     "metadata": {},
     "output_type": "execute_result"
    }
   ],
   "source": [
    "data_path = Path(r\"/database/kaggle/PII/data\")\n",
    "os.listdir(data_path)"
   ]
  },
  {
   "cell_type": "code",
   "execution_count": 7,
   "id": "73fc670f",
   "metadata": {},
   "outputs": [
    {
     "data": {
      "text/plain": [
       "(26, 4)"
      ]
     },
     "execution_count": 7,
     "metadata": {},
     "output_type": "execute_result"
    }
   ],
   "source": [
    "sample_df = pd.read_csv(data_path/'sample_submission.csv')\n",
    "sample_df.shape"
   ]
  },
  {
   "cell_type": "code",
   "execution_count": 8,
   "id": "ced5d03d",
   "metadata": {},
   "outputs": [
    {
     "data": {
      "text/html": [
       "<div>\n",
       "<style scoped>\n",
       "    .dataframe tbody tr th:only-of-type {\n",
       "        vertical-align: middle;\n",
       "    }\n",
       "\n",
       "    .dataframe tbody tr th {\n",
       "        vertical-align: top;\n",
       "    }\n",
       "\n",
       "    .dataframe thead th {\n",
       "        text-align: right;\n",
       "    }\n",
       "</style>\n",
       "<table border=\"1\" class=\"dataframe\">\n",
       "  <thead>\n",
       "    <tr style=\"text-align: right;\">\n",
       "      <th></th>\n",
       "      <th>row_id</th>\n",
       "      <th>document</th>\n",
       "      <th>token</th>\n",
       "      <th>label</th>\n",
       "    </tr>\n",
       "  </thead>\n",
       "  <tbody>\n",
       "    <tr>\n",
       "      <th>0</th>\n",
       "      <td>0</td>\n",
       "      <td>7</td>\n",
       "      <td>9</td>\n",
       "      <td>B-NAME_STUDENT</td>\n",
       "    </tr>\n",
       "    <tr>\n",
       "      <th>1</th>\n",
       "      <td>1</td>\n",
       "      <td>7</td>\n",
       "      <td>10</td>\n",
       "      <td>I-NAME_STUDENT</td>\n",
       "    </tr>\n",
       "    <tr>\n",
       "      <th>2</th>\n",
       "      <td>2</td>\n",
       "      <td>7</td>\n",
       "      <td>482</td>\n",
       "      <td>B-NAME_STUDENT</td>\n",
       "    </tr>\n",
       "    <tr>\n",
       "      <th>3</th>\n",
       "      <td>3</td>\n",
       "      <td>7</td>\n",
       "      <td>483</td>\n",
       "      <td>I-NAME_STUDENT</td>\n",
       "    </tr>\n",
       "    <tr>\n",
       "      <th>4</th>\n",
       "      <td>4</td>\n",
       "      <td>7</td>\n",
       "      <td>741</td>\n",
       "      <td>B-NAME_STUDENT</td>\n",
       "    </tr>\n",
       "  </tbody>\n",
       "</table>\n",
       "</div>"
      ],
      "text/plain": [
       "   row_id  document  token           label\n",
       "0       0         7      9  B-NAME_STUDENT\n",
       "1       1         7     10  I-NAME_STUDENT\n",
       "2       2         7    482  B-NAME_STUDENT\n",
       "3       3         7    483  I-NAME_STUDENT\n",
       "4       4         7    741  B-NAME_STUDENT"
      ]
     },
     "execution_count": 8,
     "metadata": {},
     "output_type": "execute_result"
    }
   ],
   "source": [
    "sample_df.head(5)"
   ]
  },
  {
   "cell_type": "code",
   "execution_count": 9,
   "id": "80aa459d",
   "metadata": {},
   "outputs": [
    {
     "data": {
      "text/plain": [
       "array(['B-NAME_STUDENT', 'I-NAME_STUDENT'], dtype=object)"
      ]
     },
     "execution_count": 9,
     "metadata": {},
     "output_type": "execute_result"
    }
   ],
   "source": [
    "sample_df.label.unique()"
   ]
  },
  {
   "cell_type": "code",
   "execution_count": 10,
   "id": "bc125ae5",
   "metadata": {},
   "outputs": [
    {
     "data": {
      "text/plain": [
       "(6807, 5)"
      ]
     },
     "execution_count": 10,
     "metadata": {},
     "output_type": "execute_result"
    }
   ],
   "source": [
    "df = pd.read_json(data_path/'train.json')\n",
    "df.shape"
   ]
  },
  {
   "cell_type": "code",
   "execution_count": 11,
   "id": "777aa2f4",
   "metadata": {},
   "outputs": [
    {
     "data": {
      "text/html": [
       "<div>\n",
       "<style scoped>\n",
       "    .dataframe tbody tr th:only-of-type {\n",
       "        vertical-align: middle;\n",
       "    }\n",
       "\n",
       "    .dataframe tbody tr th {\n",
       "        vertical-align: top;\n",
       "    }\n",
       "\n",
       "    .dataframe thead th {\n",
       "        text-align: right;\n",
       "    }\n",
       "</style>\n",
       "<table border=\"1\" class=\"dataframe\">\n",
       "  <thead>\n",
       "    <tr style=\"text-align: right;\">\n",
       "      <th></th>\n",
       "      <th>document</th>\n",
       "      <th>full_text</th>\n",
       "      <th>tokens</th>\n",
       "      <th>trailing_whitespace</th>\n",
       "      <th>labels</th>\n",
       "    </tr>\n",
       "  </thead>\n",
       "  <tbody>\n",
       "    <tr>\n",
       "      <th>0</th>\n",
       "      <td>7</td>\n",
       "      <td>Design Thinking for innovation reflexion-Avril...</td>\n",
       "      <td>[Design, Thinking, for, innovation, reflexion,...</td>\n",
       "      <td>[True, True, True, True, False, False, True, F...</td>\n",
       "      <td>[O, O, O, O, O, O, O, O, O, B-NAME_STUDENT, I-...</td>\n",
       "    </tr>\n",
       "    <tr>\n",
       "      <th>1</th>\n",
       "      <td>10</td>\n",
       "      <td>Diego Estrada\\n\\nDesign Thinking Assignment\\n\\...</td>\n",
       "      <td>[Diego, Estrada, \\n\\n, Design, Thinking, Assig...</td>\n",
       "      <td>[True, False, False, True, True, False, False,...</td>\n",
       "      <td>[B-NAME_STUDENT, I-NAME_STUDENT, O, O, O, O, O...</td>\n",
       "    </tr>\n",
       "  </tbody>\n",
       "</table>\n",
       "</div>"
      ],
      "text/plain": [
       "   document                                          full_text                                             tokens                                trailing_whitespace                                             labels\n",
       "0         7  Design Thinking for innovation reflexion-Avril...  [Design, Thinking, for, innovation, reflexion,...  [True, True, True, True, False, False, True, F...  [O, O, O, O, O, O, O, O, O, B-NAME_STUDENT, I-...\n",
       "1        10  Diego Estrada\\n\\nDesign Thinking Assignment\\n\\...  [Diego, Estrada, \\n\\n, Design, Thinking, Assig...  [True, False, False, True, True, False, False,...  [B-NAME_STUDENT, I-NAME_STUDENT, O, O, O, O, O..."
      ]
     },
     "execution_count": 11,
     "metadata": {},
     "output_type": "execute_result"
    }
   ],
   "source": [
    "df.head(2)"
   ]
  },
  {
   "cell_type": "code",
   "execution_count": 12,
   "id": "dfc7b295",
   "metadata": {},
   "outputs": [
    {
     "data": {
      "text/plain": [
       "8"
      ]
     },
     "execution_count": 12,
     "metadata": {},
     "output_type": "execute_result"
    }
   ],
   "source": [
    "LABEL2TYPE = ('NAME_STUDENT','EMAIL','USERNAME','ID_NUM', 'PHONE_NUM','URL_PERSONAL','STREET_ADDRESS','O')\n",
    "len(LABEL2TYPE)"
   ]
  },
  {
   "cell_type": "code",
   "execution_count": 13,
   "id": "400ffd38",
   "metadata": {},
   "outputs": [],
   "source": [
    "for name in LABEL2TYPE[:-1]:\n",
    "    df[name] = ((df['labels'].transform(lambda x:len([i for i in x if i.split('-')[-1]==name ])>0)))*1"
   ]
  },
  {
   "cell_type": "code",
   "execution_count": 14,
   "id": "d6aa3e30",
   "metadata": {},
   "outputs": [],
   "source": [
    "df['nb_labels'] = df['labels'].transform(lambda x:len([i for i in x if i!=\"O\" ]))"
   ]
  },
  {
   "cell_type": "code",
   "execution_count": 15,
   "id": "38e76e79",
   "metadata": {
    "scrolled": true
   },
   "outputs": [],
   "source": [
    "df['nb_labels'].value_counts() "
   ]
  },
  {
   "cell_type": "code",
   "execution_count": 16,
   "id": "a59c9509",
   "metadata": {},
   "outputs": [
    {
     "data": {
      "text/plain": [
       "NAME_STUDENT       891\n",
       "EMAIL               24\n",
       "USERNAME             5\n",
       "ID_NUM              33\n",
       "PHONE_NUM            4\n",
       "URL_PERSONAL        72\n",
       "STREET_ADDRESS       2\n",
       "nb_labels         2739\n",
       "dtype: int64"
      ]
     },
     "execution_count": 16,
     "metadata": {},
     "output_type": "execute_result"
    }
   ],
   "source": [
    "df[list(LABEL2TYPE)[:-1]+['nb_labels']].sum()"
   ]
  },
  {
   "cell_type": "code",
   "execution_count": 17,
   "id": "db5e835b",
   "metadata": {},
   "outputs": [],
   "source": [
    "from iterstrat.ml_stratifiers import MultilabelStratifiedKFold"
   ]
  },
  {
   "cell_type": "code",
   "execution_count": 18,
   "id": "417a4149",
   "metadata": {},
   "outputs": [],
   "source": [
    "seeds = [42]\n",
    "folds_names = []\n",
    "for K in [5]:  \n",
    "    for seed in seeds:\n",
    "        mskf = MultilabelStratifiedKFold(n_splits=K,shuffle=True,random_state=seed)\n",
    "        name = f\"fold_msk_{K}_seed_{seed}\"\n",
    "        df[name] = -1\n",
    "        for fold, (trn_, val_) in enumerate(mskf.split(df,df[list(LABEL2TYPE)[:-1]])):\n",
    "            df.loc[val_, name] = fold"
   ]
  },
  {
   "cell_type": "code",
   "execution_count": 19,
   "id": "a92d9cfd",
   "metadata": {},
   "outputs": [
    {
     "data": {
      "text/html": [
       "<div>\n",
       "<style scoped>\n",
       "    .dataframe tbody tr th:only-of-type {\n",
       "        vertical-align: middle;\n",
       "    }\n",
       "\n",
       "    .dataframe tbody tr th {\n",
       "        vertical-align: top;\n",
       "    }\n",
       "\n",
       "    .dataframe thead th {\n",
       "        text-align: right;\n",
       "    }\n",
       "</style>\n",
       "<table border=\"1\" class=\"dataframe\">\n",
       "  <thead>\n",
       "    <tr style=\"text-align: right;\">\n",
       "      <th></th>\n",
       "      <th>NAME_STUDENT</th>\n",
       "      <th>EMAIL</th>\n",
       "      <th>USERNAME</th>\n",
       "      <th>ID_NUM</th>\n",
       "      <th>PHONE_NUM</th>\n",
       "      <th>URL_PERSONAL</th>\n",
       "      <th>STREET_ADDRESS</th>\n",
       "    </tr>\n",
       "    <tr>\n",
       "      <th>fold_msk_5_seed_42</th>\n",
       "      <th></th>\n",
       "      <th></th>\n",
       "      <th></th>\n",
       "      <th></th>\n",
       "      <th></th>\n",
       "      <th></th>\n",
       "      <th></th>\n",
       "    </tr>\n",
       "  </thead>\n",
       "  <tbody>\n",
       "    <tr>\n",
       "      <th>0</th>\n",
       "      <td>178</td>\n",
       "      <td>5</td>\n",
       "      <td>1</td>\n",
       "      <td>7</td>\n",
       "      <td>1</td>\n",
       "      <td>14</td>\n",
       "      <td>0</td>\n",
       "    </tr>\n",
       "    <tr>\n",
       "      <th>1</th>\n",
       "      <td>178</td>\n",
       "      <td>5</td>\n",
       "      <td>1</td>\n",
       "      <td>7</td>\n",
       "      <td>1</td>\n",
       "      <td>14</td>\n",
       "      <td>0</td>\n",
       "    </tr>\n",
       "    <tr>\n",
       "      <th>2</th>\n",
       "      <td>179</td>\n",
       "      <td>5</td>\n",
       "      <td>1</td>\n",
       "      <td>6</td>\n",
       "      <td>1</td>\n",
       "      <td>15</td>\n",
       "      <td>1</td>\n",
       "    </tr>\n",
       "    <tr>\n",
       "      <th>3</th>\n",
       "      <td>178</td>\n",
       "      <td>4</td>\n",
       "      <td>1</td>\n",
       "      <td>6</td>\n",
       "      <td>0</td>\n",
       "      <td>15</td>\n",
       "      <td>1</td>\n",
       "    </tr>\n",
       "    <tr>\n",
       "      <th>4</th>\n",
       "      <td>178</td>\n",
       "      <td>5</td>\n",
       "      <td>1</td>\n",
       "      <td>7</td>\n",
       "      <td>1</td>\n",
       "      <td>14</td>\n",
       "      <td>0</td>\n",
       "    </tr>\n",
       "  </tbody>\n",
       "</table>\n",
       "</div>"
      ],
      "text/plain": [
       "                    NAME_STUDENT  EMAIL  USERNAME  ID_NUM  PHONE_NUM  URL_PERSONAL  STREET_ADDRESS\n",
       "fold_msk_5_seed_42                                                                                \n",
       "0                            178      5         1       7          1            14               0\n",
       "1                            178      5         1       7          1            14               0\n",
       "2                            179      5         1       6          1            15               1\n",
       "3                            178      4         1       6          0            15               1\n",
       "4                            178      5         1       7          1            14               0"
      ]
     },
     "execution_count": 19,
     "metadata": {},
     "output_type": "execute_result"
    }
   ],
   "source": [
    "df.groupby(name)[list(LABEL2TYPE)[:-1]].sum()"
   ]
  },
  {
   "cell_type": "code",
   "execution_count": 20,
   "id": "fc3d9b62",
   "metadata": {},
   "outputs": [],
   "source": [
    "att = \"ID_NUM\""
   ]
  },
  {
   "cell_type": "code",
   "execution_count": 21,
   "id": "c2ca54ec",
   "metadata": {},
   "outputs": [],
   "source": [
    "list_of = df[(df[att]>0)]"
   ]
  },
  {
   "cell_type": "code",
   "execution_count": 22,
   "id": "1f0abfff",
   "metadata": {
    "scrolled": true
   },
   "outputs": [
    {
     "data": {
      "text/html": [
       "<div>\n",
       "<style scoped>\n",
       "    .dataframe tbody tr th:only-of-type {\n",
       "        vertical-align: middle;\n",
       "    }\n",
       "\n",
       "    .dataframe tbody tr th {\n",
       "        vertical-align: top;\n",
       "    }\n",
       "\n",
       "    .dataframe thead th {\n",
       "        text-align: right;\n",
       "    }\n",
       "</style>\n",
       "<table border=\"1\" class=\"dataframe\">\n",
       "  <thead>\n",
       "    <tr style=\"text-align: right;\">\n",
       "      <th></th>\n",
       "      <th>document</th>\n",
       "      <th>full_text</th>\n",
       "      <th>tokens</th>\n",
       "      <th>trailing_whitespace</th>\n",
       "      <th>labels</th>\n",
       "      <th>NAME_STUDENT</th>\n",
       "      <th>EMAIL</th>\n",
       "      <th>USERNAME</th>\n",
       "      <th>ID_NUM</th>\n",
       "      <th>PHONE_NUM</th>\n",
       "      <th>URL_PERSONAL</th>\n",
       "      <th>STREET_ADDRESS</th>\n",
       "      <th>nb_labels</th>\n",
       "      <th>fold_msk_5_seed_42</th>\n",
       "    </tr>\n",
       "  </thead>\n",
       "  <tbody>\n",
       "    <tr>\n",
       "      <th>29</th>\n",
       "      <td>609</td>\n",
       "      <td>Date:14-09-2021\\n\\nNEWS PAPER\\n\\nProject: News...</td>\n",
       "      <td>[Date:14, -, 09, -, 2021, \\n\\n, NEWS, PAPER, \\...</td>\n",
       "      <td>[False, False, False, False, False, False, Tru...</td>\n",
       "      <td>[O, O, O, O, O, O, O, O, O, O, O, O, O, O, O, ...</td>\n",
       "      <td>1</td>\n",
       "      <td>0</td>\n",
       "      <td>0</td>\n",
       "      <td>1</td>\n",
       "      <td>0</td>\n",
       "      <td>0</td>\n",
       "      <td>0</td>\n",
       "      <td>26</td>\n",
       "      <td>1</td>\n",
       "    </tr>\n",
       "    <tr>\n",
       "      <th>99</th>\n",
       "      <td>2926</td>\n",
       "      <td>NAME: Ignacia Hernandez   Roll No. : 932353568...</td>\n",
       "      <td>[NAME, :, Ignacia, Hernandez,   , Roll, No, .,...</td>\n",
       "      <td>[False, True, True, True, False, True, False, ...</td>\n",
       "      <td>[O, O, B-NAME_STUDENT, I-NAME_STUDENT, O, O, O...</td>\n",
       "      <td>1</td>\n",
       "      <td>0</td>\n",
       "      <td>0</td>\n",
       "      <td>1</td>\n",
       "      <td>0</td>\n",
       "      <td>0</td>\n",
       "      <td>0</td>\n",
       "      <td>3</td>\n",
       "      <td>3</td>\n",
       "    </tr>\n",
       "    <tr>\n",
       "      <th>124</th>\n",
       "      <td>3565</td>\n",
       "      <td>Project:  Experiment sheet (5W+H)\\n\\nInterview...</td>\n",
       "      <td>[Project, :,  , Experiment, sheet, (, 5W+H, ),...</td>\n",
       "      <td>[False, True, False, True, True, False, False,...</td>\n",
       "      <td>[O, O, O, O, O, O, O, O, O, O, O, O, B-NAME_ST...</td>\n",
       "      <td>1</td>\n",
       "      <td>0</td>\n",
       "      <td>0</td>\n",
       "      <td>1</td>\n",
       "      <td>0</td>\n",
       "      <td>0</td>\n",
       "      <td>0</td>\n",
       "      <td>6</td>\n",
       "      <td>3</td>\n",
       "    </tr>\n",
       "    <tr>\n",
       "      <th>213</th>\n",
       "      <td>4717</td>\n",
       "      <td>STORY TELLING\\n\\nPIN NO. :163133980712   NAME ...</td>\n",
       "      <td>[STORY, TELLING, \\n\\n, PIN, NO, ., :, 16313398...</td>\n",
       "      <td>[True, False, False, True, False, True, False,...</td>\n",
       "      <td>[O, O, O, O, O, O, O, B-ID_NUM, O, O, O, B-NAM...</td>\n",
       "      <td>1</td>\n",
       "      <td>0</td>\n",
       "      <td>0</td>\n",
       "      <td>1</td>\n",
       "      <td>0</td>\n",
       "      <td>0</td>\n",
       "      <td>0</td>\n",
       "      <td>3</td>\n",
       "      <td>0</td>\n",
       "    </tr>\n",
       "    <tr>\n",
       "      <th>231</th>\n",
       "      <td>4913</td>\n",
       "      <td>DESIGN THINKING\\n\\nEXPERIMENT – 2\\n\\nName: Niz...</td>\n",
       "      <td>[DESIGN, THINKING, \\n\\n, EXPERIMENT, –, 2, \\n\\...</td>\n",
       "      <td>[True, False, False, True, True, False, False,...</td>\n",
       "      <td>[O, O, O, O, O, O, O, O, O, B-NAME_STUDENT, I-...</td>\n",
       "      <td>1</td>\n",
       "      <td>0</td>\n",
       "      <td>0</td>\n",
       "      <td>1</td>\n",
       "      <td>0</td>\n",
       "      <td>0</td>\n",
       "      <td>0</td>\n",
       "      <td>9</td>\n",
       "      <td>4</td>\n",
       "    </tr>\n",
       "    <tr>\n",
       "      <th>237</th>\n",
       "      <td>4971</td>\n",
       "      <td>USELESS TO USEFULL\\n\\nThe colony I live had th...</td>\n",
       "      <td>[USELESS, TO, USEFULL, \\n\\n, The, colony, I, l...</td>\n",
       "      <td>[True, True, False, False, True, True, True, T...</td>\n",
       "      <td>[O, O, O, O, O, O, O, O, O, O, O, O, O, O, O, ...</td>\n",
       "      <td>1</td>\n",
       "      <td>0</td>\n",
       "      <td>0</td>\n",
       "      <td>1</td>\n",
       "      <td>0</td>\n",
       "      <td>0</td>\n",
       "      <td>0</td>\n",
       "      <td>9</td>\n",
       "      <td>4</td>\n",
       "    </tr>\n",
       "    <tr>\n",
       "      <th>240</th>\n",
       "      <td>5023</td>\n",
       "      <td>Project: Shopping Website\\n\\nInterviewer Name:...</td>\n",
       "      <td>[Project, :, Shopping, Website, \\n\\n, Intervie...</td>\n",
       "      <td>[False, True, True, False, False, True, False,...</td>\n",
       "      <td>[O, O, O, O, O, O, O, O, B-NAME_STUDENT, I-NAM...</td>\n",
       "      <td>1</td>\n",
       "      <td>0</td>\n",
       "      <td>0</td>\n",
       "      <td>1</td>\n",
       "      <td>0</td>\n",
       "      <td>0</td>\n",
       "      <td>0</td>\n",
       "      <td>6</td>\n",
       "      <td>0</td>\n",
       "    </tr>\n",
       "    <tr>\n",
       "      <th>246</th>\n",
       "      <td>5069</td>\n",
       "      <td>Marwadi University\\n\\nAl Akhawayn University\\n...</td>\n",
       "      <td>[Marwadi, University, \\n\\n, Al, Akhawayn, Univ...</td>\n",
       "      <td>[True, False, False, True, True, False, False,...</td>\n",
       "      <td>[O, O, O, O, O, O, O, O, O, O, O, O, O, O, O, ...</td>\n",
       "      <td>0</td>\n",
       "      <td>0</td>\n",
       "      <td>0</td>\n",
       "      <td>1</td>\n",
       "      <td>0</td>\n",
       "      <td>0</td>\n",
       "      <td>0</td>\n",
       "      <td>1</td>\n",
       "      <td>2</td>\n",
       "    </tr>\n",
       "    <tr>\n",
       "      <th>289</th>\n",
       "      <td>5606</td>\n",
       "      <td>Project: SPECTACLES\\n\\nInterviewer Name: Vijay...</td>\n",
       "      <td>[Project, :, SPECTACLES, \\n\\n, Interviewer, Na...</td>\n",
       "      <td>[False, True, False, False, True, False, True,...</td>\n",
       "      <td>[O, O, O, O, O, O, O, B-NAME_STUDENT, I-NAME_S...</td>\n",
       "      <td>1</td>\n",
       "      <td>0</td>\n",
       "      <td>0</td>\n",
       "      <td>1</td>\n",
       "      <td>0</td>\n",
       "      <td>0</td>\n",
       "      <td>0</td>\n",
       "      <td>23</td>\n",
       "      <td>0</td>\n",
       "    </tr>\n",
       "    <tr>\n",
       "      <th>295</th>\n",
       "      <td>5653</td>\n",
       "      <td>This was entirely a new experience for me and ...</td>\n",
       "      <td>[This, was, entirely, a, new, experience, for,...</td>\n",
       "      <td>[True, True, True, True, True, True, True, Tru...</td>\n",
       "      <td>[O, O, O, O, O, O, O, O, O, O, O, O, O, O, O, ...</td>\n",
       "      <td>1</td>\n",
       "      <td>0</td>\n",
       "      <td>0</td>\n",
       "      <td>1</td>\n",
       "      <td>0</td>\n",
       "      <td>0</td>\n",
       "      <td>0</td>\n",
       "      <td>3</td>\n",
       "      <td>2</td>\n",
       "    </tr>\n",
       "    <tr>\n",
       "      <th>308</th>\n",
       "      <td>5796</td>\n",
       "      <td>Project: Development of Laptop\\n\\nInterviewer ...</td>\n",
       "      <td>[Project, :, Development, of, Laptop, \\n\\n, In...</td>\n",
       "      <td>[False, True, True, True, False, False, True, ...</td>\n",
       "      <td>[O, O, O, O, O, O, O, O, O, O, B-NAME_STUDENT,...</td>\n",
       "      <td>1</td>\n",
       "      <td>0</td>\n",
       "      <td>0</td>\n",
       "      <td>1</td>\n",
       "      <td>0</td>\n",
       "      <td>0</td>\n",
       "      <td>0</td>\n",
       "      <td>6</td>\n",
       "      <td>1</td>\n",
       "    </tr>\n",
       "    <tr>\n",
       "      <th>366</th>\n",
       "      <td>6450</td>\n",
       "      <td>Project: HEAT REGULATING SHOES\\n\\nInterviewer ...</td>\n",
       "      <td>[Project, :, HEAT, REGULATING, SHOES, \\n\\n, In...</td>\n",
       "      <td>[False, True, True, True, False, False, True, ...</td>\n",
       "      <td>[O, O, O, O, O, O, O, O, O, B-NAME_STUDENT, I-...</td>\n",
       "      <td>1</td>\n",
       "      <td>0</td>\n",
       "      <td>0</td>\n",
       "      <td>1</td>\n",
       "      <td>0</td>\n",
       "      <td>0</td>\n",
       "      <td>0</td>\n",
       "      <td>6</td>\n",
       "      <td>4</td>\n",
       "    </tr>\n",
       "    <tr>\n",
       "      <th>374</th>\n",
       "      <td>6537</td>\n",
       "      <td>DESIGN THINKING LAB EXPERIMENT – 4\\n\\nSTORYTEL...</td>\n",
       "      <td>[DESIGN, THINKING, LAB, EXPERIMENT, –, 4, \\n\\n...</td>\n",
       "      <td>[True, True, True, True, True, False, False, T...</td>\n",
       "      <td>[O, O, O, O, O, O, O, O, O, B-NAME_STUDENT, I-...</td>\n",
       "      <td>1</td>\n",
       "      <td>0</td>\n",
       "      <td>0</td>\n",
       "      <td>1</td>\n",
       "      <td>0</td>\n",
       "      <td>0</td>\n",
       "      <td>0</td>\n",
       "      <td>10</td>\n",
       "      <td>2</td>\n",
       "    </tr>\n",
       "    <tr>\n",
       "      <th>377</th>\n",
       "      <td>6591</td>\n",
       "      <td>Pre- Induction Assignment 3 MediPath  #ItGetsB...</td>\n",
       "      <td>[Pre-, Induction, Assignment, 3, MediPath,  , ...</td>\n",
       "      <td>[True, True, True, True, True, False, False, F...</td>\n",
       "      <td>[O, O, O, O, O, O, O, O, O, B-NAME_STUDENT, I-...</td>\n",
       "      <td>1</td>\n",
       "      <td>0</td>\n",
       "      <td>0</td>\n",
       "      <td>1</td>\n",
       "      <td>0</td>\n",
       "      <td>0</td>\n",
       "      <td>0</td>\n",
       "      <td>8</td>\n",
       "      <td>0</td>\n",
       "    </tr>\n",
       "    <tr>\n",
       "      <th>399</th>\n",
       "      <td>6849</td>\n",
       "      <td>Design thinking and product innovation\\n\\n(Ana...</td>\n",
       "      <td>[Design, thinking, and, product, innovation, \\...</td>\n",
       "      <td>[True, True, True, True, False, False, False, ...</td>\n",
       "      <td>[O, O, O, O, O, O, O, O, O, O, O, O, O, O, B-N...</td>\n",
       "      <td>1</td>\n",
       "      <td>0</td>\n",
       "      <td>0</td>\n",
       "      <td>1</td>\n",
       "      <td>0</td>\n",
       "      <td>0</td>\n",
       "      <td>0</td>\n",
       "      <td>3</td>\n",
       "      <td>1</td>\n",
       "    </tr>\n",
       "    <tr>\n",
       "      <th>413</th>\n",
       "      <td>6999</td>\n",
       "      <td>REFLECTION-MIND MAPPING\\n\\nCHALLENGE AND SELEC...</td>\n",
       "      <td>[REFLECTION, -, MIND, MAPPING, \\n\\n, CHALLENGE...</td>\n",
       "      <td>[False, False, True, False, False, True, True,...</td>\n",
       "      <td>[O, O, O, O, O, O, O, O, O, O, O, O, O, O, O, ...</td>\n",
       "      <td>1</td>\n",
       "      <td>0</td>\n",
       "      <td>0</td>\n",
       "      <td>1</td>\n",
       "      <td>0</td>\n",
       "      <td>0</td>\n",
       "      <td>0</td>\n",
       "      <td>3</td>\n",
       "      <td>3</td>\n",
       "    </tr>\n",
       "    <tr>\n",
       "      <th>428</th>\n",
       "      <td>7156</td>\n",
       "      <td>NAME: Zhe Basmah  ROLL DM:705244534902\\n\\nEXPE...</td>\n",
       "      <td>[NAME, :, Zhe, Basmah,  , ROLL, DM:70524453490...</td>\n",
       "      <td>[False, True, True, True, False, True, False, ...</td>\n",
       "      <td>[O, O, B-NAME_STUDENT, I-NAME_STUDENT, O, O, B...</td>\n",
       "      <td>1</td>\n",
       "      <td>0</td>\n",
       "      <td>0</td>\n",
       "      <td>1</td>\n",
       "      <td>0</td>\n",
       "      <td>0</td>\n",
       "      <td>0</td>\n",
       "      <td>8</td>\n",
       "      <td>0</td>\n",
       "    </tr>\n",
       "    <tr>\n",
       "      <th>559</th>\n",
       "      <td>8714</td>\n",
       "      <td>DTPI ASSIGNMENT\\n\\nPRODUCT :- CAR\\n\\nJamshed\\n...</td>\n",
       "      <td>[DTPI, ASSIGNMENT, \\n\\n, PRODUCT, :, -, CAR, \\...</td>\n",
       "      <td>[True, False, False, True, False, True, False,...</td>\n",
       "      <td>[O, O, O, O, O, O, O, O, B-NAME_STUDENT, O, B-...</td>\n",
       "      <td>1</td>\n",
       "      <td>0</td>\n",
       "      <td>0</td>\n",
       "      <td>1</td>\n",
       "      <td>0</td>\n",
       "      <td>0</td>\n",
       "      <td>0</td>\n",
       "      <td>2</td>\n",
       "      <td>2</td>\n",
       "    </tr>\n",
       "    <tr>\n",
       "      <th>568</th>\n",
       "      <td>8751</td>\n",
       "      <td>GAMING CHAIR\\n\\nVARIANTS\\n\\nPRICE\\n\\nCOLOUR\\n\\...</td>\n",
       "      <td>[GAMING, CHAIR, \\n\\n, VARIANTS, \\n\\n, PRICE, \\...</td>\n",
       "      <td>[True, False, False, False, False, False, Fals...</td>\n",
       "      <td>[O, O, O, O, O, O, O, O, O, O, O, O, O, O, O, ...</td>\n",
       "      <td>1</td>\n",
       "      <td>0</td>\n",
       "      <td>0</td>\n",
       "      <td>1</td>\n",
       "      <td>0</td>\n",
       "      <td>0</td>\n",
       "      <td>0</td>\n",
       "      <td>3</td>\n",
       "      <td>2</td>\n",
       "    </tr>\n",
       "    <tr>\n",
       "      <th>758</th>\n",
       "      <td>9146</td>\n",
       "      <td>StuDocu is not sponsored or endorsed by any co...</td>\n",
       "      <td>[StuDocu, is, not, sponsored, or, endorsed, by...</td>\n",
       "      <td>[True, True, True, True, True, True, True, Tru...</td>\n",
       "      <td>[O, O, O, O, O, O, O, O, O, O, O, O, O, O, O, ...</td>\n",
       "      <td>1</td>\n",
       "      <td>1</td>\n",
       "      <td>0</td>\n",
       "      <td>1</td>\n",
       "      <td>0</td>\n",
       "      <td>0</td>\n",
       "      <td>0</td>\n",
       "      <td>10</td>\n",
       "      <td>0</td>\n",
       "    </tr>\n",
       "    <tr>\n",
       "      <th>903</th>\n",
       "      <td>9460</td>\n",
       "      <td>Project:  Be.healthy\\n\\nInterviewer Name: Anja...</td>\n",
       "      <td>[Project, :,  , Be.healthy, \\n\\n, Interviewer,...</td>\n",
       "      <td>[False, True, False, False, False, True, False...</td>\n",
       "      <td>[O, O, O, O, O, O, O, O, B-NAME_STUDENT, I-NAM...</td>\n",
       "      <td>1</td>\n",
       "      <td>0</td>\n",
       "      <td>0</td>\n",
       "      <td>1</td>\n",
       "      <td>0</td>\n",
       "      <td>0</td>\n",
       "      <td>0</td>\n",
       "      <td>12</td>\n",
       "      <td>4</td>\n",
       "    </tr>\n",
       "    <tr>\n",
       "      <th>920</th>\n",
       "      <td>9493</td>\n",
       "      <td>WATER-A PART OF OUR LIFE\\n\\nSummer vacations h...</td>\n",
       "      <td>[WATER, -, A, PART, OF, OUR, LIFE, \\n\\n, Summe...</td>\n",
       "      <td>[False, False, True, True, True, True, False, ...</td>\n",
       "      <td>[O, O, O, O, O, O, O, O, O, O, O, O, O, B-NAME...</td>\n",
       "      <td>1</td>\n",
       "      <td>0</td>\n",
       "      <td>0</td>\n",
       "      <td>1</td>\n",
       "      <td>0</td>\n",
       "      <td>0</td>\n",
       "      <td>0</td>\n",
       "      <td>11</td>\n",
       "      <td>4</td>\n",
       "    </tr>\n",
       "    <tr>\n",
       "      <th>951</th>\n",
       "      <td>9543</td>\n",
       "      <td>Project: Electric Vehicles (EV’s)\\n\\nInterview...</td>\n",
       "      <td>[Project, :, Electric, Vehicles, (, EV, ’s, ),...</td>\n",
       "      <td>[False, True, True, True, False, False, False,...</td>\n",
       "      <td>[O, O, O, O, O, O, O, O, O, O, O, O, B-NAME_ST...</td>\n",
       "      <td>1</td>\n",
       "      <td>0</td>\n",
       "      <td>0</td>\n",
       "      <td>1</td>\n",
       "      <td>0</td>\n",
       "      <td>0</td>\n",
       "      <td>0</td>\n",
       "      <td>5</td>\n",
       "      <td>3</td>\n",
       "    </tr>\n",
       "    <tr>\n",
       "      <th>1059</th>\n",
       "      <td>9760</td>\n",
       "      <td>Name: Bk Bk  Roll No: 172801513686\\n\\n1 | P a ...</td>\n",
       "      <td>[Name, :, Bk, Bk,  , Roll, No, :, 172801513686...</td>\n",
       "      <td>[False, True, True, True, False, True, False, ...</td>\n",
       "      <td>[O, O, B-NAME_STUDENT, I-NAME_STUDENT, O, O, O...</td>\n",
       "      <td>1</td>\n",
       "      <td>0</td>\n",
       "      <td>0</td>\n",
       "      <td>1</td>\n",
       "      <td>0</td>\n",
       "      <td>0</td>\n",
       "      <td>0</td>\n",
       "      <td>12</td>\n",
       "      <td>4</td>\n",
       "    </tr>\n",
       "    <tr>\n",
       "      <th>1401</th>\n",
       "      <td>10448</td>\n",
       "      <td>Environment\\n\\n• Evening time\\n\\n• Wind is blo...</td>\n",
       "      <td>[Environment, \\n\\n, •, Evening, time, \\n\\n, •,...</td>\n",
       "      <td>[False, False, True, True, False, False, True,...</td>\n",
       "      <td>[O, O, O, O, O, O, O, O, O, O, O, O, O, O, O, ...</td>\n",
       "      <td>0</td>\n",
       "      <td>0</td>\n",
       "      <td>0</td>\n",
       "      <td>1</td>\n",
       "      <td>0</td>\n",
       "      <td>0</td>\n",
       "      <td>0</td>\n",
       "      <td>1</td>\n",
       "      <td>1</td>\n",
       "    </tr>\n",
       "    <tr>\n",
       "      <th>1440</th>\n",
       "      <td>10517</td>\n",
       "      <td>Elements:\\n\\n1. Challenge: There are many chal...</td>\n",
       "      <td>[Elements, :, \\n\\n, 1, ., Challenge, :, There,...</td>\n",
       "      <td>[False, False, False, False, True, False, True...</td>\n",
       "      <td>[O, O, O, O, O, O, O, O, O, O, O, O, O, O, O, ...</td>\n",
       "      <td>0</td>\n",
       "      <td>0</td>\n",
       "      <td>0</td>\n",
       "      <td>1</td>\n",
       "      <td>0</td>\n",
       "      <td>0</td>\n",
       "      <td>0</td>\n",
       "      <td>1</td>\n",
       "      <td>3</td>\n",
       "    </tr>\n",
       "    <tr>\n",
       "      <th>2106</th>\n",
       "      <td>11900</td>\n",
       "      <td>Lisa Lee\\n\\n723847538279\\n\\nSTORY TELLING\\n\\nT...</td>\n",
       "      <td>[Lisa, Lee, \\n\\n, 723847538279, \\n\\n, STORY, T...</td>\n",
       "      <td>[True, False, False, False, False, True, False...</td>\n",
       "      <td>[B-NAME_STUDENT, I-NAME_STUDENT, O, B-ID_NUM, ...</td>\n",
       "      <td>1</td>\n",
       "      <td>0</td>\n",
       "      <td>0</td>\n",
       "      <td>1</td>\n",
       "      <td>0</td>\n",
       "      <td>0</td>\n",
       "      <td>0</td>\n",
       "      <td>11</td>\n",
       "      <td>1</td>\n",
       "    </tr>\n",
       "    <tr>\n",
       "      <th>2250</th>\n",
       "      <td>12184</td>\n",
       "      <td>STORY TELLING\\n\\nMd Ahamad\\n\\n369615882777\\n\\n...</td>\n",
       "      <td>[STORY, TELLING, \\n\\n, Md, Ahamad, \\n\\n, 36961...</td>\n",
       "      <td>[True, False, False, True, False, False, False...</td>\n",
       "      <td>[O, O, O, B-NAME_STUDENT, I-NAME_STUDENT, O, B...</td>\n",
       "      <td>1</td>\n",
       "      <td>0</td>\n",
       "      <td>0</td>\n",
       "      <td>1</td>\n",
       "      <td>0</td>\n",
       "      <td>0</td>\n",
       "      <td>0</td>\n",
       "      <td>12</td>\n",
       "      <td>1</td>\n",
       "    </tr>\n",
       "    <tr>\n",
       "      <th>2391</th>\n",
       "      <td>12483</td>\n",
       "      <td>Tutoring Developmen\\n\\n(Lamiaa Achraf Weyhacy_...</td>\n",
       "      <td>[Tutoring, Developmen, \\n\\n, (, Lamiaa, Achraf...</td>\n",
       "      <td>[True, False, False, False, True, True, False,...</td>\n",
       "      <td>[O, O, O, O, B-NAME_STUDENT, I-NAME_STUDENT, B...</td>\n",
       "      <td>1</td>\n",
       "      <td>0</td>\n",
       "      <td>0</td>\n",
       "      <td>1</td>\n",
       "      <td>0</td>\n",
       "      <td>0</td>\n",
       "      <td>0</td>\n",
       "      <td>3</td>\n",
       "      <td>1</td>\n",
       "    </tr>\n",
       "    <tr>\n",
       "      <th>2402</th>\n",
       "      <td>12512</td>\n",
       "      <td>Purdue\\n\\nUniversity SHIBPUR\\n\\nBOTANICAL GARD...</td>\n",
       "      <td>[Purdue, \\n\\n, University, SHIBPUR, \\n\\n, BOTA...</td>\n",
       "      <td>[False, False, True, False, False, True, False...</td>\n",
       "      <td>[O, O, O, O, O, O, O, O, O, O, O, O, B-NAME_ST...</td>\n",
       "      <td>1</td>\n",
       "      <td>0</td>\n",
       "      <td>0</td>\n",
       "      <td>1</td>\n",
       "      <td>0</td>\n",
       "      <td>0</td>\n",
       "      <td>0</td>\n",
       "      <td>8</td>\n",
       "      <td>2</td>\n",
       "    </tr>\n",
       "    <tr>\n",
       "      <th>3769</th>\n",
       "      <td>15717</td>\n",
       "      <td>Visualization\\n\\nVisualization refers to any a...</td>\n",
       "      <td>[Visualization, \\n\\n, Visualization, refers, t...</td>\n",
       "      <td>[False, False, True, True, True, True, True, T...</td>\n",
       "      <td>[O, O, O, O, O, O, O, O, O, O, O, O, O, O, O, ...</td>\n",
       "      <td>0</td>\n",
       "      <td>0</td>\n",
       "      <td>0</td>\n",
       "      <td>1</td>\n",
       "      <td>0</td>\n",
       "      <td>0</td>\n",
       "      <td>0</td>\n",
       "      <td>2</td>\n",
       "      <td>0</td>\n",
       "    </tr>\n",
       "    <tr>\n",
       "      <th>5239</th>\n",
       "      <td>19280</td>\n",
       "      <td>Learning Launch based on Design Thinking for I...</td>\n",
       "      <td>[Learning, Launch, based, on, Design, Thinking...</td>\n",
       "      <td>[True, True, True, True, True, True, True, Fal...</td>\n",
       "      <td>[O, O, O, O, O, O, O, O, O, O, O, O, O, O, O, ...</td>\n",
       "      <td>0</td>\n",
       "      <td>0</td>\n",
       "      <td>0</td>\n",
       "      <td>1</td>\n",
       "      <td>0</td>\n",
       "      <td>0</td>\n",
       "      <td>0</td>\n",
       "      <td>2</td>\n",
       "      <td>4</td>\n",
       "    </tr>\n",
       "    <tr>\n",
       "      <th>6005</th>\n",
       "      <td>20984</td>\n",
       "      <td>Design Thinking – Visualization Tool          ...</td>\n",
       "      <td>[Design, Thinking, –, Visualization, Tool,    ...</td>\n",
       "      <td>[True, True, True, True, True, False, False, F...</td>\n",
       "      <td>[O, O, O, O, O, O, B-ID_NUM, O, O, O, O, O, O,...</td>\n",
       "      <td>0</td>\n",
       "      <td>0</td>\n",
       "      <td>0</td>\n",
       "      <td>1</td>\n",
       "      <td>0</td>\n",
       "      <td>0</td>\n",
       "      <td>0</td>\n",
       "      <td>1</td>\n",
       "      <td>3</td>\n",
       "    </tr>\n",
       "  </tbody>\n",
       "</table>\n",
       "</div>"
      ],
      "text/plain": [
       "      document                                          full_text                                             tokens                                trailing_whitespace                                             labels  NAME_STUDENT  EMAIL  USERNAME  ID_NUM  PHONE_NUM  URL_PERSONAL  STREET_ADDRESS  nb_labels  fold_msk_5_seed_42\n",
       "29         609  Date:14-09-2021\\n\\nNEWS PAPER\\n\\nProject: News...  [Date:14, -, 09, -, 2021, \\n\\n, NEWS, PAPER, \\...  [False, False, False, False, False, False, Tru...  [O, O, O, O, O, O, O, O, O, O, O, O, O, O, O, ...             1      0         0       1          0             0               0         26                   1\n",
       "99        2926  NAME: Ignacia Hernandez   Roll No. : 932353568...  [NAME, :, Ignacia, Hernandez,   , Roll, No, .,...  [False, True, True, True, False, True, False, ...  [O, O, B-NAME_STUDENT, I-NAME_STUDENT, O, O, O...             1      0         0       1          0             0               0          3                   3\n",
       "124       3565  Project:  Experiment sheet (5W+H)\\n\\nInterview...  [Project, :,  , Experiment, sheet, (, 5W+H, ),...  [False, True, False, True, True, False, False,...  [O, O, O, O, O, O, O, O, O, O, O, O, B-NAME_ST...             1      0         0       1          0             0               0          6                   3\n",
       "213       4717  STORY TELLING\\n\\nPIN NO. :163133980712   NAME ...  [STORY, TELLING, \\n\\n, PIN, NO, ., :, 16313398...  [True, False, False, True, False, True, False,...  [O, O, O, O, O, O, O, B-ID_NUM, O, O, O, B-NAM...             1      0         0       1          0             0               0          3                   0\n",
       "231       4913  DESIGN THINKING\\n\\nEXPERIMENT – 2\\n\\nName: Niz...  [DESIGN, THINKING, \\n\\n, EXPERIMENT, –, 2, \\n\\...  [True, False, False, True, True, False, False,...  [O, O, O, O, O, O, O, O, O, B-NAME_STUDENT, I-...             1      0         0       1          0             0               0          9                   4\n",
       "237       4971  USELESS TO USEFULL\\n\\nThe colony I live had th...  [USELESS, TO, USEFULL, \\n\\n, The, colony, I, l...  [True, True, False, False, True, True, True, T...  [O, O, O, O, O, O, O, O, O, O, O, O, O, O, O, ...             1      0         0       1          0             0               0          9                   4\n",
       "240       5023  Project: Shopping Website\\n\\nInterviewer Name:...  [Project, :, Shopping, Website, \\n\\n, Intervie...  [False, True, True, False, False, True, False,...  [O, O, O, O, O, O, O, O, B-NAME_STUDENT, I-NAM...             1      0         0       1          0             0               0          6                   0\n",
       "246       5069  Marwadi University\\n\\nAl Akhawayn University\\n...  [Marwadi, University, \\n\\n, Al, Akhawayn, Univ...  [True, False, False, True, True, False, False,...  [O, O, O, O, O, O, O, O, O, O, O, O, O, O, O, ...             0      0         0       1          0             0               0          1                   2\n",
       "289       5606  Project: SPECTACLES\\n\\nInterviewer Name: Vijay...  [Project, :, SPECTACLES, \\n\\n, Interviewer, Na...  [False, True, False, False, True, False, True,...  [O, O, O, O, O, O, O, B-NAME_STUDENT, I-NAME_S...             1      0         0       1          0             0               0         23                   0\n",
       "295       5653  This was entirely a new experience for me and ...  [This, was, entirely, a, new, experience, for,...  [True, True, True, True, True, True, True, Tru...  [O, O, O, O, O, O, O, O, O, O, O, O, O, O, O, ...             1      0         0       1          0             0               0          3                   2\n",
       "308       5796  Project: Development of Laptop\\n\\nInterviewer ...  [Project, :, Development, of, Laptop, \\n\\n, In...  [False, True, True, True, False, False, True, ...  [O, O, O, O, O, O, O, O, O, O, B-NAME_STUDENT,...             1      0         0       1          0             0               0          6                   1\n",
       "366       6450  Project: HEAT REGULATING SHOES\\n\\nInterviewer ...  [Project, :, HEAT, REGULATING, SHOES, \\n\\n, In...  [False, True, True, True, False, False, True, ...  [O, O, O, O, O, O, O, O, O, B-NAME_STUDENT, I-...             1      0         0       1          0             0               0          6                   4\n",
       "374       6537  DESIGN THINKING LAB EXPERIMENT – 4\\n\\nSTORYTEL...  [DESIGN, THINKING, LAB, EXPERIMENT, –, 4, \\n\\n...  [True, True, True, True, True, False, False, T...  [O, O, O, O, O, O, O, O, O, B-NAME_STUDENT, I-...             1      0         0       1          0             0               0         10                   2\n",
       "377       6591  Pre- Induction Assignment 3 MediPath  #ItGetsB...  [Pre-, Induction, Assignment, 3, MediPath,  , ...  [True, True, True, True, True, False, False, F...  [O, O, O, O, O, O, O, O, O, B-NAME_STUDENT, I-...             1      0         0       1          0             0               0          8                   0\n",
       "399       6849  Design thinking and product innovation\\n\\n(Ana...  [Design, thinking, and, product, innovation, \\...  [True, True, True, True, False, False, False, ...  [O, O, O, O, O, O, O, O, O, O, O, O, O, O, B-N...             1      0         0       1          0             0               0          3                   1\n",
       "413       6999  REFLECTION-MIND MAPPING\\n\\nCHALLENGE AND SELEC...  [REFLECTION, -, MIND, MAPPING, \\n\\n, CHALLENGE...  [False, False, True, False, False, True, True,...  [O, O, O, O, O, O, O, O, O, O, O, O, O, O, O, ...             1      0         0       1          0             0               0          3                   3\n",
       "428       7156  NAME: Zhe Basmah  ROLL DM:705244534902\\n\\nEXPE...  [NAME, :, Zhe, Basmah,  , ROLL, DM:70524453490...  [False, True, True, True, False, True, False, ...  [O, O, B-NAME_STUDENT, I-NAME_STUDENT, O, O, B...             1      0         0       1          0             0               0          8                   0\n",
       "559       8714  DTPI ASSIGNMENT\\n\\nPRODUCT :- CAR\\n\\nJamshed\\n...  [DTPI, ASSIGNMENT, \\n\\n, PRODUCT, :, -, CAR, \\...  [True, False, False, True, False, True, False,...  [O, O, O, O, O, O, O, O, B-NAME_STUDENT, O, B-...             1      0         0       1          0             0               0          2                   2\n",
       "568       8751  GAMING CHAIR\\n\\nVARIANTS\\n\\nPRICE\\n\\nCOLOUR\\n\\...  [GAMING, CHAIR, \\n\\n, VARIANTS, \\n\\n, PRICE, \\...  [True, False, False, False, False, False, Fals...  [O, O, O, O, O, O, O, O, O, O, O, O, O, O, O, ...             1      0         0       1          0             0               0          3                   2\n",
       "758       9146  StuDocu is not sponsored or endorsed by any co...  [StuDocu, is, not, sponsored, or, endorsed, by...  [True, True, True, True, True, True, True, Tru...  [O, O, O, O, O, O, O, O, O, O, O, O, O, O, O, ...             1      1         0       1          0             0               0         10                   0\n",
       "903       9460  Project:  Be.healthy\\n\\nInterviewer Name: Anja...  [Project, :,  , Be.healthy, \\n\\n, Interviewer,...  [False, True, False, False, False, True, False...  [O, O, O, O, O, O, O, O, B-NAME_STUDENT, I-NAM...             1      0         0       1          0             0               0         12                   4\n",
       "920       9493  WATER-A PART OF OUR LIFE\\n\\nSummer vacations h...  [WATER, -, A, PART, OF, OUR, LIFE, \\n\\n, Summe...  [False, False, True, True, True, True, False, ...  [O, O, O, O, O, O, O, O, O, O, O, O, O, B-NAME...             1      0         0       1          0             0               0         11                   4\n",
       "951       9543  Project: Electric Vehicles (EV’s)\\n\\nInterview...  [Project, :, Electric, Vehicles, (, EV, ’s, ),...  [False, True, True, True, False, False, False,...  [O, O, O, O, O, O, O, O, O, O, O, O, B-NAME_ST...             1      0         0       1          0             0               0          5                   3\n",
       "1059      9760  Name: Bk Bk  Roll No: 172801513686\\n\\n1 | P a ...  [Name, :, Bk, Bk,  , Roll, No, :, 172801513686...  [False, True, True, True, False, True, False, ...  [O, O, B-NAME_STUDENT, I-NAME_STUDENT, O, O, O...             1      0         0       1          0             0               0         12                   4\n",
       "1401     10448  Environment\\n\\n• Evening time\\n\\n• Wind is blo...  [Environment, \\n\\n, •, Evening, time, \\n\\n, •,...  [False, False, True, True, False, False, True,...  [O, O, O, O, O, O, O, O, O, O, O, O, O, O, O, ...             0      0         0       1          0             0               0          1                   1\n",
       "1440     10517  Elements:\\n\\n1. Challenge: There are many chal...  [Elements, :, \\n\\n, 1, ., Challenge, :, There,...  [False, False, False, False, True, False, True...  [O, O, O, O, O, O, O, O, O, O, O, O, O, O, O, ...             0      0         0       1          0             0               0          1                   3\n",
       "2106     11900  Lisa Lee\\n\\n723847538279\\n\\nSTORY TELLING\\n\\nT...  [Lisa, Lee, \\n\\n, 723847538279, \\n\\n, STORY, T...  [True, False, False, False, False, True, False...  [B-NAME_STUDENT, I-NAME_STUDENT, O, B-ID_NUM, ...             1      0         0       1          0             0               0         11                   1\n",
       "2250     12184  STORY TELLING\\n\\nMd Ahamad\\n\\n369615882777\\n\\n...  [STORY, TELLING, \\n\\n, Md, Ahamad, \\n\\n, 36961...  [True, False, False, True, False, False, False...  [O, O, O, B-NAME_STUDENT, I-NAME_STUDENT, O, B...             1      0         0       1          0             0               0         12                   1\n",
       "2391     12483  Tutoring Developmen\\n\\n(Lamiaa Achraf Weyhacy_...  [Tutoring, Developmen, \\n\\n, (, Lamiaa, Achraf...  [True, False, False, False, True, True, False,...  [O, O, O, O, B-NAME_STUDENT, I-NAME_STUDENT, B...             1      0         0       1          0             0               0          3                   1\n",
       "2402     12512  Purdue\\n\\nUniversity SHIBPUR\\n\\nBOTANICAL GARD...  [Purdue, \\n\\n, University, SHIBPUR, \\n\\n, BOTA...  [False, False, True, False, False, True, False...  [O, O, O, O, O, O, O, O, O, O, O, O, B-NAME_ST...             1      0         0       1          0             0               0          8                   2\n",
       "3769     15717  Visualization\\n\\nVisualization refers to any a...  [Visualization, \\n\\n, Visualization, refers, t...  [False, False, True, True, True, True, True, T...  [O, O, O, O, O, O, O, O, O, O, O, O, O, O, O, ...             0      0         0       1          0             0               0          2                   0\n",
       "5239     19280  Learning Launch based on Design Thinking for I...  [Learning, Launch, based, on, Design, Thinking...  [True, True, True, True, True, True, True, Fal...  [O, O, O, O, O, O, O, O, O, O, O, O, O, O, O, ...             0      0         0       1          0             0               0          2                   4\n",
       "6005     20984  Design Thinking – Visualization Tool          ...  [Design, Thinking, –, Visualization, Tool,    ...  [True, True, True, True, True, False, False, F...  [O, O, O, O, O, O, B-ID_NUM, O, O, O, O, O, O,...             0      0         0       1          0             0               0          1                   3"
      ]
     },
     "execution_count": 22,
     "metadata": {},
     "output_type": "execute_result"
    }
   ],
   "source": [
    "list_of"
   ]
  },
  {
   "cell_type": "code",
   "execution_count": 23,
   "id": "89a4802c",
   "metadata": {},
   "outputs": [],
   "source": [
    "def get_labels(x,att):\n",
    "    offset_mapping = get_offset_mapping(x.full_text, x.tokens)\n",
    "    offset_mapping_ = [x for (x,y) in zip(offset_mapping,x.labels) if att in y]\n",
    "    v = [x.full_text[max(int(offset[0]),0):(int(offset[1]))] for offset in offset_mapping_]\n",
    "    t = [x for (x,y) in zip(x.tokens,x.labels) if att in y]\n",
    "    \n",
    "    return (v,t)"
   ]
  },
  {
   "cell_type": "code",
   "execution_count": 24,
   "id": "9271cf8c",
   "metadata": {},
   "outputs": [
    {
     "name": "stderr",
     "output_type": "stream",
     "text": [
      "/tmp/ipykernel_907/2573273411.py:1: SettingWithCopyWarning: \n",
      "A value is trying to be set on a copy of a slice from a DataFrame.\n",
      "Try using .loc[row_indexer,col_indexer] = value instead\n",
      "\n",
      "See the caveats in the documentation: https://pandas.pydata.org/pandas-docs/stable/user_guide/indexing.html#returning-a-view-versus-a-copy\n",
      "  list_of[\"v\"] = list_of.apply(lambda x:get_labels(x,att),axis=1)\n"
     ]
    }
   ],
   "source": [
    "list_of[\"v\"] = list_of.apply(lambda x:get_labels(x,att),axis=1)"
   ]
  },
  {
   "cell_type": "code",
   "execution_count": 25,
   "id": "95de0302",
   "metadata": {
    "scrolled": false
   },
   "outputs": [
    {
     "name": "stdout",
     "output_type": "stream",
     "text": [
      "['860632713425', '530670102508', '530670102508', '875673967537', '860632713425', '557349702179', '784372734211', '054176622314', '674915248960']:12 12\n",
      "['932353568953']:12 12\n",
      "['982645662261', '409046248321']:12 12\n",
      "['163133980712', '186941941714']:12 12\n",
      "['159531167997', '159531167997', '046922558887']:12 12\n",
      "['943063077874', '792389774673', '167695383458']:12 12\n",
      "['Iz.:999893751750', 'Kl.:838901042770']:16 16\n",
      "['06EYD876']:8 8\n",
      "['143860010348', 'Ei:556799175487', '143860010348', 'Un:705491035775', '143860010348', 'Kh:360595695159', '143860010348', 'Kh:217952887271']:12 15\n",
      "['35615904922']:11 11\n",
      "['696135165639', 'Vw.:403489591437']:12 16\n",
      "['141774671173', '747051878431']:12 12\n",
      "['779875708882', '800306846075', '955487471144']:12 12\n",
      "['276795361801', '276795361801']:12 12\n",
      "['034626995785']:12 12\n",
      "['VZ:775Y6A5764']:13 13\n",
      "['DM:705244534902', '132305666219', '789323889085']:12 15\n",
      "['762035863358']:12 12\n",
      "['188408534931']:12 12\n",
      "['nMFtUVxSUI|33529258', 'nMFtUVxSUI|33529258']:19 19\n",
      "['51,00,23,0', '342998677810']:10 12\n",
      "['522233062166', '843756944804']:12 12\n",
      "['493950392533', '183169291463']:12 12\n",
      "['172801513686', '172801513686', '208798413907', '347376430553', '943995368223']:12 12\n",
      "['027693']:6 6\n",
      "['ras21']:5 5\n",
      "['723847538279', '534516353860', '871483046449', '836172426340']:12 12\n",
      "['369615882777', '014674070485', '264945858442', '320622779078']:12 12\n",
      "['Weyhacy_7000693584']:18 18\n",
      "['047378465', '047378465']:9 9\n",
      "['IV-8322', 'IV-8322']:7 7\n",
      "['Z.S.', '30407059']:4 8\n",
      "['V69230']:6 6\n"
     ]
    }
   ],
   "source": [
    "for x,t in list_of[\"v\"]:\n",
    "    m = [len(y) for y in x]\n",
    "    mm = min(m)\n",
    "    mx = max(m)\n",
    "    print(f\"{x}:{mm} {mx}\")"
   ]
  },
  {
   "cell_type": "code",
   "execution_count": 26,
   "id": "628cd82d",
   "metadata": {},
   "outputs": [],
   "source": [
    "from spacy.lang.en import English\n",
    "import re\n",
    "en_tokenizer = English().tokenizer\n",
    "\n",
    "def tokenize_with_spacy(text, tokenizer=en_tokenizer):\n",
    "    tokenized_text = tokenizer(text)\n",
    "    tokens = [token.text for token in tokenized_text]\n",
    "    offset_mapping = [(token.idx,token.idx+len(token)) for token in tokenized_text]\n",
    "    return {'tokens': tokens, 'offset_mapping': offset_mapping}\n",
    "\n",
    "\n",
    "def strip_offset_mapping(text, offset_mapping):\n",
    "    ret = []\n",
    "    for start, end in offset_mapping:\n",
    "        match = list(re.finditer('\\S+', text[start:end]))\n",
    "        if len(match) == 0:\n",
    "            ret.append((start, end))\n",
    "        else:\n",
    "            span_start, span_end = match[0].span()\n",
    "            ret.append((start + span_start, start + span_end))\n",
    "    return np.array(ret)"
   ]
  },
  {
   "cell_type": "code",
   "execution_count": 27,
   "id": "e4d6ffd6",
   "metadata": {},
   "outputs": [
    {
     "data": {
      "text/plain": [
       "{'tokens': [' ', 'Janet', '.', 'Koch_8388'],\n",
       " 'offset_mapping': [(0, 1), (1, 6), (6, 7), (7, 16)]}"
      ]
     },
     "execution_count": 27,
     "metadata": {},
     "output_type": "execute_result"
    }
   ],
   "source": [
    "text= \" Janet.Koch_8388\"\n",
    "tokenize_with_spacy(text, tokenizer=en_tokenizer)"
   ]
  },
  {
   "cell_type": "code",
   "execution_count": 29,
   "id": "ba467ca8",
   "metadata": {},
   "outputs": [],
   "source": [
    "import re\n",
    "import torch\n",
    "import random\n",
    "import numpy as np\n",
    "import pandas as pd\n",
    "from torch.utils.data import Dataset\n",
    "from data.data_utils import clean_text #,get_start_end,get_offset_mapping,get_start_end_offset,create_mapper_n_clean,tokenize_with_spacy,en_tokenizer\n",
    "\n",
    "from tqdm.auto import tqdm\n",
    "import re\n",
    "from difflib import SequenceMatcher\n",
    "\n",
    "import codecs\n",
    "import os\n",
    "from collections import Counter\n",
    "from typing import Dict, List, Tuple\n",
    "\n",
    "from tqdm.auto import tqdm\n",
    "import numpy as np\n",
    "import pandas as pd\n",
    "from text_unidecode import unidecode\n",
    "import joblib\n",
    "import torch\n",
    "\n",
    "\n",
    "from faker import Faker\n",
    "fake = Faker()\n",
    "\n",
    "\n",
    "def process_regex(pattern, reverse=False):\n",
    "    replacements = {\n",
    "        '(': r'\\(',\n",
    "        ')': r'\\)',\n",
    "        '[': r'\\[',\n",
    "        ']': r'\\]',\n",
    "        '|': r'\\|',\n",
    "        '?': r'\\?',\n",
    "        '*': r'\\*',\n",
    "        '+': r'\\+'\n",
    "    }\n",
    "    \n",
    "    if reverse:\n",
    "        replacements = {v: k for k, v in replacements.items()}\n",
    "    \n",
    "    for old, new in replacements.items():\n",
    "        pattern = pattern.replace(old, new)\n",
    "    \n",
    "    return pattern\n",
    "\n",
    "\n",
    "\n",
    "LABEL2TYPE = ('NAME_STUDENT','EMAIL','USERNAME','ID_NUM', 'PHONE_NUM','URL_PERSONAL','STREET_ADDRESS','O')\n",
    "TYPE2LABEL = {t: l for l, t in enumerate(LABEL2TYPE)}\n",
    "ID_TYPE = {\"0-0\":0,\"0-1\":1,\n",
    "           \"1-0\":2,\"1-1\":3,\n",
    "           \"2-0\":4,\"2-1\":5,\n",
    "           \"3-0\":6,\"3-1\":7,\n",
    "           \"4-0\":8,\"4-1\":9,\n",
    "           \"5-0\":10,\"5-1\":11,\n",
    "           \"6-0\":12,\"6-1\":13\n",
    "          }\n",
    "\n",
    "ID_NAME = {\"0-0\":\"B-NAME_STUDENT\",\"0-1\":\"I-NAME_STUDENT\",\n",
    "           \"1-0\":\"B-EMAIL\",\"1-1\":\"I-EMAIL\",\n",
    "           \"2-0\":\"B-USERNAME\",\"2-1\":\"I-USERNAME\",\n",
    "           \"3-0\":\"B-ID_NUM\",\"3-1\":\"I-ID_NUM\",\n",
    "           \"4-0\":\"B-PHONE_NUM\",\"4-1\":\"I-PHONE_NUM\",\n",
    "           \"5-0\":\"B-URL_PERSONAL\",\"5-1\":\"I-URL_PERSONAL\",\n",
    "           \"6-0\":\"B-STREET_ADDRESS\",\"6-1\":\"I-STREET_ADDRESS\",\n",
    "           \"7-0\":\"O\",\"7-1\":\"O\"\n",
    "          }\n",
    "\n",
    "# RE_ID_PHONE = r\"\"\"(\\(?\\+\\s*\\d{1,4}\\s*\\)?\\s*[\\.\\-x]?\\d{1,5}\\s*[\\.\\-x]?\\d{1,5}\\s*[\\.\\-x]?\\d{1,5}\\s{0,2}\\d{0,5}|\\(?\\s*\\d{1,4}\\s*\\)?\\s*[\\.\\-x]?\\d{1,5}\\s*[\\.\\-x]?\\d{1,5}\\s*[\\.\\-x]?\\d{1,5}\\s{0,2}\\d{0,5}\\s*[\\.\\-x]?\\d{1,5}\\s{0,2}\\d{0,5}|\\(?\\s*\\d{1,4}\\s*\\)?\\s*[\\.\\-x]?\\d{1,5}\\s*[\\.\\-x]?\\d{1,5}\\s*[\\.\\-x]?\\d{1,5}\\s{0,2}\\d{0,5}|\\(\\s*\\d{3}\\s*\\)\\s*\\d{3}\\s*\\-\\s*\\d{4}\\s*\\w{0,3}(\\s*\\d{1,8}\\s*)?|\\b\\d{2,}-\\d{2,}\\.\\d{2,}\\.\\d{2,}\\.\\d{2,}\\b|\\b\\d{2,}-\\d{2,}\\-\\d{2,}\\-\\d{2,}\\-\\d{2,}\\b|\\b\\d{2,}\\-\\d{2,}\\-\\d{2,}\\-\\d{2,}\\b|\\b\\d{2,}\\.\\d{2,}\\.\\d{2,}\\.\\d{2,}\\b|\\d{3}\\s*\\.\\s*\\d{3}\\s*\\.\\s*\\d{1,5}|\\d{3}\\s*\\-\\s*\\d{3}\\s*\\-\\s*\\d{1,5}|\\d{3}\\s*x\\s*\\d{3}\\s*x\\s*\\d{1,5}|\\d{1,3}\\s{0,2}\\d{1,}\\s{0,2}\\d{1,}|\\b\\d{1,}\\s*\\d{1,}\\s*\\d{1,}|\\b\\d{2,}\\-\\d{2,}\\-\\d{2,}\\b|\\b\\d{2,}\\.\\d{2,}\\.\\d{2,}\\b|\\b\\d{1,}-\\d{1,}|[\\w\\.\\:\\-\\_\\|]*\\d{6,})\"\"\"\n",
    "# Compile the regex pattern\n",
    "\n",
    "RE_ID_PHONE = r\"\"\"(\\(?\\+\\s*\\d{1,4}\\s*\\)?\\s*[\\.\\-x]?\\d{1,5}\\s*[\\.\\-x]?\\d{1,5}\\s*[\\.\\-x]?\\d{1,5}\\s*[\\.\\-x]?\\s{0,2}\\d{0,5}|\\(?\\+\\s*\\d{1,4}\\s*\\)?\\s*[\\.\\-x]?\\d{1,5}\\s*[\\.\\-x]?\\d{1,5}\\s*[\\.\\-x]?\\d{1,5}\\s{0,2}\\d{0,5}|\\(?\\s*\\d{1,4}\\s*\\)?\\s*[\\.\\-x]?\\d{1,5}\\s*[\\.\\-x]?\\d{1,5}\\s*[\\.\\-x]?\\d{1,5}\\s{0,2}\\d{0,5}\\s*[\\.\\-x]?\\d{1,5}\\s{0,2}\\d{0,5}|\\(?\\s*\\d{1,4}\\s*\\)?\\s*[\\.\\-x]?\\d{1,5}\\s*[\\.\\-x]?\\d{1,5}\\s*[\\.\\-x]?\\d{1,5}\\s{0,2}\\d{0,5}|\\(\\s*\\d{3}\\s*\\)\\s*\\d{3}\\s*\\-\\s*\\d{4}\\s*\\w{0,3}(\\s*\\d{1,8}\\s*)?|\\b\\d{2,}-\\d{2,}\\.\\d{2,}\\.\\d{2,}\\.\\d{2,}\\b|\\b\\d{2,}-\\d{2,}\\-\\d{2,}\\-\\d{2,}\\-\\d{2,}\\b|\\b\\d{2,}\\-\\d{2,}\\-\\d{2,}\\-\\d{2,}\\b|\\b\\d{2,}\\.\\d{2,}\\.\\d{2,}\\.\\d{2,}\\b|\\d{3}\\s*\\.\\s*\\d{3}\\s*\\.\\s*\\d{1,5}|\\d{3}\\s*\\-\\s*\\d{3}\\s*\\-\\s*\\d{1,5}|\\d{3}\\s*x\\s*\\d{3}\\s*x\\s*\\d{1,5}|\\d{1,3}\\s{0,2}\\d{1,}\\s{0,2}\\d{1,}|\\b\\d{1,}\\s*\\d{1,}\\s*\\d{1,}|\\b\\d{2,}\\-\\d{2,}\\-\\d{2,}\\b|\\b\\d{2,}\\.\\d{2,}\\.\\d{2,}\\b|\\b\\d{1,}-\\d{1,}|[\\w\\.\\:\\-\\_\\|]*\\d{6,})\"\"\"\n",
    "REGEX_COMPILE = re.compile(RE_ID_PHONE)\n",
    "\n",
    "\n",
    "## =============================================================================== ##\n",
    "class FeedbackDataset(Dataset):\n",
    "    def __init__(self,\n",
    "                 df,\n",
    "                 tokenizer,\n",
    "                 mask_prob=0.0,\n",
    "                 mask_ratio=0.0,\n",
    "                 ):\n",
    "        \n",
    "        self.tokenizer = tokenizer\n",
    "        self.df = df\n",
    "\n",
    "        print(f'Loaded {len(self)} samples.')\n",
    "\n",
    "        assert 0 <= mask_prob <= 1\n",
    "        assert 0 <= mask_ratio <= 1\n",
    "        self.mask_prob = mask_prob\n",
    "        self.mask_ratio = mask_ratio\n",
    "\n",
    "    def __len__(self):\n",
    "        return len(self.df)\n",
    "\n",
    "    def __getitem__(self, index):\n",
    "        \n",
    "        df = self.df.iloc[index]\n",
    "        text_id = df['document']\n",
    "        if len(self.tokenizer.encode(\"\\n\\n\"))==2:\n",
    "            text = clean_text(df['full_text'].replace(\"\\n\\n\",\" | \").replace(\"\\n\",\" [BR] \"))\n",
    "            txt_tokens = [clean_text(x.replace(\"\\n\\n\",\" | \").replace(\"\\n\",\" [BR] \")) for x in df['tokens']]\n",
    "        else:\n",
    "            text = clean_text(df['full_text'])\n",
    "            txt_tokens = [clean_text(x) for x in df['tokens']]\n",
    "        labels = df['labels']\n",
    "        \n",
    "        offset_mapping_init = self.get_offset_mapping(text,txt_tokens)\n",
    "        re_offset_mapping,spacy_to_re,re_tokens = self.spacy_to_re_off(text,txt_tokens,offset_mapping_init)\n",
    "\n",
    "\n",
    "        hf_tokens = self.tokenizer(text, return_offsets_mapping=True)\n",
    "        input_ids = torch.LongTensor(hf_tokens['input_ids'])\n",
    "        attention_mask = torch.LongTensor(hf_tokens['attention_mask'])\n",
    "        hf_offset_mapping = np.array(hf_tokens['offset_mapping'])\n",
    "        # offset_mapping = self.strip_offset_mapping(text, offset_mapping)\n",
    "        num_tokens = len(input_ids)\n",
    "\n",
    "        # token slices of words\n",
    "        woff = np.array(re_offset_mapping)\n",
    "        toff = np.array(hf_offset_mapping)\n",
    "        wx1, wx2 = woff.T\n",
    "        tx1, tx2 = toff.T\n",
    "        ix1 = np.maximum(wx1[..., None], tx1[None, ...])\n",
    "        ix2 = np.minimum(wx2[..., None], tx2[None, ...])\n",
    "        ux1 = np.minimum(wx1[..., None], tx1[None, ...])\n",
    "        ux2 = np.maximum(wx2[..., None], tx2[None, ...])\n",
    "        ious = (ix2 - ix1).clip(min=0) / (ux2 - ux1)\n",
    "#         assert (ious > 0).any(-1).all()\n",
    "\n",
    "        word_boxes = []\n",
    "#         err = []\n",
    "        for i,row in enumerate(ious):\n",
    "            inds = row.nonzero()[0]\n",
    "            try:\n",
    "                word_boxes.append([inds[0], 0, inds[-1] + 1, 1])\n",
    "            except:\n",
    "                word_boxes.append([-100, 0, -99, 1])\n",
    "#                 err.append(i)\n",
    "                \n",
    "        word_boxes = torch.FloatTensor(word_boxes)\n",
    "\n",
    "        # word slices of ground truth spans\n",
    "        gt_spans = []        \n",
    "        for i,label in enumerate(labels) :\n",
    "            gt_spans.append([i,TYPE2LABEL[label.split('-')[-1] if label!=\"O\" else \"O\"],0 if label.split('-')[0]==\"B\" else 1])\n",
    "            \n",
    "        gt_spans = torch.LongTensor(gt_spans)\n",
    "\n",
    "        # random mask augmentation\n",
    "        if np.random.random() < self.mask_prob:\n",
    "            all_inds = np.arange(1, len(input_ids) - 1)\n",
    "            n_mask = max(int(len(all_inds) * self.mask_ratio), 1)\n",
    "            np.random.shuffle(all_inds)\n",
    "            mask_inds = all_inds[:n_mask]\n",
    "            input_ids[mask_inds] = self.tokenizer.mask_token_id\n",
    "\n",
    "        return dict(\n",
    "                    text_id=text_id,\n",
    "                    text=text,\n",
    "                    labels = labels,\n",
    "                    re_tokens = re_tokens,\n",
    "                    spacy_to_re = spacy_to_re,\n",
    "                    tokens = df['tokens'],\n",
    "                    tokens_clean = txt_tokens,\n",
    "                    input_ids=input_ids,\n",
    "                    offset_mapping_init = offset_mapping_init,\n",
    "                    re_offset_mapping = re_offset_mapping,\n",
    "                    attention_mask=attention_mask,\n",
    "                    word_boxes=word_boxes,\n",
    "                    gt_spans=gt_spans)\n",
    "    \n",
    "\n",
    "    def get_offset_mapping(self,full_text, tokens):\n",
    "        offset_mapping = []\n",
    "\n",
    "        current_offset = 0\n",
    "        for token in tokens:\n",
    "            start, end = self.get_text_start_end(full_text, token, search_from=current_offset)\n",
    "            offset_mapping.append((start, end))\n",
    "            current_offset = end\n",
    "\n",
    "        return offset_mapping\n",
    "    \n",
    "    def get_text_start_end(self,txt, s, search_from=0):\n",
    "        txt = txt[int(search_from):]\n",
    "        try:\n",
    "            idx = txt.find(s)\n",
    "            if idx >= 0:\n",
    "                st = idx\n",
    "                ed = st + len(s)\n",
    "            else:\n",
    "                raise ValueError('Error')\n",
    "        except:\n",
    "            res = [(m.start(0), m.end(0)) for m in re.finditer(s, txt)]\n",
    "            if len(res):\n",
    "                st, ed = res[0][0], res[0][1]\n",
    "            else:\n",
    "                m = SequenceMatcher(None, s, txt).get_opcodes()\n",
    "                for tag, i1, i2, j1, j2 in m:\n",
    "                    if tag == 'replace':\n",
    "                        s = s[:i1] + txt[j1:j2] + s[i2:]\n",
    "                    if tag == \"delete\":\n",
    "                        s = s[:i1] + s[i2:]\n",
    "\n",
    "                res = [(m.start(0), m.end(0)) for m in re.finditer(s, txt)]\n",
    "                if len(res):\n",
    "                    st, ed = res[0][0], res[0][1]\n",
    "                else:\n",
    "                    idx = txt.find(s)\n",
    "                    if idx >= 0:\n",
    "                        st = idx\n",
    "                        ed = st + len(s)\n",
    "                    else:\n",
    "                        st, ed = 0, 0\n",
    "        return st + search_from, ed + search_from\n",
    "    \n",
    "    \n",
    "    \n",
    "    def find_patterns(self,text,regex):\n",
    "        matches = [(match.group(0), match.start(), match.end()) for match in regex.finditer(text)]\n",
    "        offsets = self.strip_offset_mapping(text,[(m[1],m[2]) for m in matches])\n",
    "        return [m[0].strip() for m in matches],offsets\n",
    "\n",
    "    def spacy_to_re_off(self,text,tokens,offset_mapping_init):\n",
    "        \n",
    "\n",
    "        lab,off_matc = self.find_patterns(text,REGEX_COMPILE)\n",
    "\n",
    "\n",
    "        if len(lab):\n",
    "\n",
    "            spacy_to_re = []\n",
    "            re_oof = []\n",
    "            tokens_re = []\n",
    "\n",
    "            # token slices of words\n",
    "            woff = np.array(offset_mapping_init)\n",
    "            toff = off_matc\n",
    "            wx1, wx2 = woff.T\n",
    "            tx1, tx2 = toff.T\n",
    "            ix1 = np.maximum(wx1[..., None], tx1[None, ...])\n",
    "            ix2 = np.minimum(wx2[..., None], tx2[None, ...])\n",
    "            ux1 = np.minimum(wx1[..., None], tx1[None, ...])\n",
    "            ux2 = np.maximum(wx2[..., None], tx2[None, ...])\n",
    "            ious = (ix2 - ix1).clip(min=0) / (ux2 - ux1+1e-12)\n",
    "\n",
    "            for i,(spcy_of_set,tok,row) in enumerate(zip(offset_mapping_init,tokens,ious)):\n",
    "                inds = row.nonzero()[0]\n",
    "                if len(inds):\n",
    "                    spacy_to_re.append(inds[0])\n",
    "                    re_oof.append((off_matc[inds[0]].tolist()[0],off_matc[inds[0]].tolist()[1]))\n",
    "                    tokens_re.append(lab[inds[0]] if len(lab[inds[0]])>len(tok) else tok)\n",
    "                else:\n",
    "                    spacy_to_re.append(len(lab)+i)\n",
    "                    re_oof.append(spcy_of_set)\n",
    "                    tokens_re.append(tok)\n",
    "\n",
    "            re_oof = [x for i, x in enumerate(re_oof) if re_oof.index(x) == i]\n",
    "        else:\n",
    "            spacy_to_re = np.arange(len(offset_mapping_init)).tolist()\n",
    "            re_oof = offset_mapping_init\n",
    "            tokens_re = tokens\n",
    "\n",
    "        return re_oof,spacy_to_re,tokens_re\n",
    "    \n",
    "    def strip_offset_mapping(self, text, offset_mapping):\n",
    "        ret = []\n",
    "        for start, end in offset_mapping:\n",
    "            match = list(re.finditer('\\S+', text[start:end]))\n",
    "            if len(match) == 0:\n",
    "                ret.append((start, end))\n",
    "            else:\n",
    "                span_start, span_end = match[0].span()\n",
    "                ret.append((start + span_start, start + span_end))\n",
    "        return np.array(ret)\n",
    "\n",
    "    def get_word_offsets(self, text):\n",
    "        matches = re.finditer(\"\\S+\", text)\n",
    "        spans = []\n",
    "        words = []\n",
    "        for match in matches:\n",
    "            span = match.span()\n",
    "            word = match.group()\n",
    "            spans.append(span)\n",
    "            words.append(word)\n",
    "        assert tuple(words) == tuple(text.split())\n",
    "        return np.array(spans)\n",
    "    \n",
    "## =============================================================================== ##\n",
    "class CustomCollator(object):\n",
    "    def __init__(self, tokenizer, model):\n",
    "        self.pad_token_id = tokenizer.pad_token_id\n",
    "        if hasattr(model.config, 'attention_window'):\n",
    "            # For longformer\n",
    "            # https://github.com/huggingface/transformers/blob/v4.17.0/src/transformers/models/longformer/modeling_longformer.py#L1548\n",
    "            self.attention_window = (model.config.attention_window\n",
    "                                     if isinstance(\n",
    "                                         model.config.attention_window, int)\n",
    "                                     else max(model.config.attention_window))\n",
    "        else:\n",
    "            self.attention_window = None\n",
    "\n",
    "    def __call__(self, samples):\n",
    "        batch_size = len(samples)\n",
    "        assert batch_size == 1, f'Only batch_size=1 supported, got batch_size={batch_size}.'\n",
    "\n",
    "        sample = samples[0]\n",
    "\n",
    "        max_seq_length = len(sample['input_ids'])\n",
    "        if self.attention_window is not None:\n",
    "            attention_window = self.attention_window\n",
    "            padded_length = (attention_window -\n",
    "                             max_seq_length % attention_window\n",
    "                             ) % attention_window + max_seq_length\n",
    "        else:\n",
    "            padded_length = max_seq_length\n",
    "\n",
    "        input_shape = (1, padded_length)\n",
    "        input_ids = torch.full(input_shape,\n",
    "                               self.pad_token_id,\n",
    "                               dtype=torch.long)\n",
    "        attention_mask = torch.zeros(input_shape, dtype=torch.long)\n",
    "\n",
    "        seq_length = len(sample['input_ids'])\n",
    "        input_ids[0, :seq_length] = sample['input_ids']\n",
    "        attention_mask[0, :seq_length] = sample['attention_mask']\n",
    "\n",
    "        text_id = sample['text_id']\n",
    "        tokens = sample['tokens']\n",
    "        tokens_clean = sample['tokens_clean']\n",
    "        re_tokens = sample['re_tokens']\n",
    "        spacy_to_re = sample['spacy_to_re']\n",
    "        # text = sample['text']\n",
    "        word_boxes = sample['word_boxes']\n",
    "        gt_spans = sample['gt_spans']\n",
    "\n",
    "        return dict(text_id=text_id,\n",
    "                    tokens_clean=tokens_clean,\n",
    "                    tokens = tokens,\n",
    "                    re_tokens = re_tokens,\n",
    "                    spacy_to_re = spacy_to_re,\n",
    "                    input_ids=input_ids,\n",
    "                    attention_mask=attention_mask,\n",
    "                    word_boxes=word_boxes,\n",
    "                    gt_spans=gt_spans)"
   ]
  },
  {
   "cell_type": "code",
   "execution_count": 30,
   "id": "6f9ef245",
   "metadata": {},
   "outputs": [
    {
     "name": "stderr",
     "output_type": "stream",
     "text": [
      "/home/jovyan/.local/lib/python3.10/site-packages/transformers/convert_slow_tokenizer.py:473: UserWarning: The sentencepiece tokenizer that you are converting to a fast tokenizer uses the byte fallback option which is not implemented in the fast tokenizers. In practice this means that the fast version of the tokenizer can produce unknown tokens whereas the sentencepiece version would have converted these unknown tokens into a sequence of byte tokens matching the original piece of text.\n",
      "  warnings.warn(\n"
     ]
    }
   ],
   "source": [
    "model_name = 'microsoft/deberta-v3-large'\n",
    "tokenizer = AutoTokenizer.from_pretrained(model_name)"
   ]
  },
  {
   "cell_type": "code",
   "execution_count": null,
   "id": "abe66348",
   "metadata": {},
   "outputs": [],
   "source": []
  },
  {
   "cell_type": "code",
   "execution_count": 31,
   "id": "136d51a9",
   "metadata": {},
   "outputs": [],
   "source": [
    "# df[df.full_text.str.contains('\\?')]"
   ]
  },
  {
   "cell_type": "code",
   "execution_count": 32,
   "id": "f61f4067",
   "metadata": {
    "scrolled": true
   },
   "outputs": [
    {
     "name": "stdout",
     "output_type": "stream",
     "text": [
      "Loaded 6807 samples.\n"
     ]
    }
   ],
   "source": [
    "ds = FeedbackDataset(df.copy(),tokenizer)"
   ]
  },
  {
   "cell_type": "code",
   "execution_count": 33,
   "id": "105f6de3",
   "metadata": {},
   "outputs": [
    {
     "data": {
      "text/plain": [
       "(915, 915, 915, 911)"
      ]
     },
     "execution_count": 33,
     "metadata": {},
     "output_type": "execute_result"
    }
   ],
   "source": [
    "idx = random.choice(ds.df[ds.df.ID_NUM>0].index)\n",
    "# idx = 219\n",
    "# doc = 204\n",
    "# idx = ds.df[ds.df.document==9854].index[0]\n",
    "# Example usage:\n",
    "# idx = 80\n",
    "full_text_ds = ds[idx]['text']\n",
    "tokens_ds = ds[idx]['tokens_clean']\n",
    "labels_ds = ds[idx]['labels']\n",
    "offset_mapping_init = ds[idx]['offset_mapping_init']\n",
    "re_offset_mapping = ds[idx]['re_offset_mapping']\n",
    "spacy_to_re = ds[idx]['spacy_to_re']\n",
    "re_tokens = ds[idx]['re_tokens']\n",
    "# offset_mapping_ds = get_offset_mapping(full_text_ds, tokens_ds)\n",
    "# offset_mapping_ds1 = tokenize_with_spacy(full_text_ds)['offset_mapping']\n",
    "# offset_mapping_ds = strip_offset_mapping(full_text_ds,offset_mapping_ds)\n",
    "# idx,ds.df.iloc[idx]['nb_labels']\n",
    "len(tokens_ds),len(offset_mapping_init),len(re_tokens),len(re_offset_mapping) #len(offset_mapping_ds1),len(tokens_ds)"
   ]
  },
  {
   "cell_type": "code",
   "execution_count": null,
   "id": "65700951",
   "metadata": {},
   "outputs": [],
   "source": []
  },
  {
   "cell_type": "code",
   "execution_count": 34,
   "id": "8766061b",
   "metadata": {},
   "outputs": [],
   "source": [
    "# ds.df.iloc[idx]['document']"
   ]
  },
  {
   "cell_type": "code",
   "execution_count": 35,
   "id": "0a36a48b",
   "metadata": {},
   "outputs": [],
   "source": [
    "full_text = df.iloc[idx]['full_text']\n",
    "tokens = df.iloc[idx]['tokens']\n",
    "labels = df.iloc[idx]['labels']\n",
    "offset_mapping = get_offset_mapping(full_text, tokens)\n",
    "# idx,df.iloc[idx]['nb_labels']"
   ]
  },
  {
   "cell_type": "code",
   "execution_count": 36,
   "id": "7b6c3179",
   "metadata": {},
   "outputs": [
    {
     "name": "stdout",
     "output_type": "stream",
     "text": [
      "Gabriel: (112, 119) : B-NAME_STUDENT\n",
      "Bravo: (120, 125) : I-NAME_STUDENT\n",
      "860632713425: (156, 168) : B-ID_NUM\n",
      "Hlengiwe: (191, 199) : B-NAME_STUDENT\n",
      "Swetha: (200, 206) : I-NAME_STUDENT\n",
      "530670102508: (230, 242) : B-ID_NUM\n",
      "530670102508: (274, 286) : B-ID_NUM\n",
      "Tino: (290, 294) : B-NAME_STUDENT\n",
      "Swetha: (295, 301) : I-NAME_STUDENT\n",
      "875673967537: (303, 315) : B-ID_NUM\n",
      "860632713425: (332, 344) : B-ID_NUM\n",
      "Tino: (348, 352) : B-NAME_STUDENT\n",
      "Lopez: (353, 358) : I-NAME_STUDENT\n",
      "557349702179: (361, 373) : B-ID_NUM\n",
      "Swetha: (377, 383) : B-NAME_STUDENT\n",
      "Swetha: (384, 390) : I-NAME_STUDENT\n",
      "784372734211: (393, 405) : B-ID_NUM\n",
      "Alex: (409, 413) : B-NAME_STUDENT\n",
      "Swetha: (414, 420) : I-NAME_STUDENT\n",
      "054176622314: (422, 434) : B-ID_NUM\n",
      "Alex: (438, 442) : B-NAME_STUDENT\n",
      "Bravo: (443, 448) : I-NAME_STUDENT\n",
      "674915248960: (469, 481) : B-ID_NUM\n",
      "Tino: (485, 489) : B-NAME_STUDENT\n",
      "Lopez: (490, 495) : I-NAME_STUDENT\n",
      "Hlengiwe: (640, 648) : B-NAME_STUDENT\n"
     ]
    }
   ],
   "source": [
    "offset_mapping = get_offset_mapping(full_text, tokens)\n",
    "for token, offset,l in zip(tokens, offset_mapping,labels):\n",
    "    if l!=\"O\":\n",
    "        print(f\"{token}: {offset} : {l}\")"
   ]
  },
  {
   "cell_type": "code",
   "execution_count": 37,
   "id": "a185a4b5",
   "metadata": {},
   "outputs": [
    {
     "data": {
      "text/plain": [
       "torch.Size([911, 4])"
      ]
     },
     "execution_count": 37,
     "metadata": {},
     "output_type": "execute_result"
    }
   ],
   "source": [
    "ds[idx]['word_boxes'].shape"
   ]
  },
  {
   "cell_type": "code",
   "execution_count": 38,
   "id": "0ef6bd60",
   "metadata": {},
   "outputs": [
    {
     "name": "stdout",
     "output_type": "stream",
     "text": [
      "Date:14-09-2021 | NEWS PAPER | Project: News Paper Designing Interviewer Name : Gabriel Bravo Interviewer PinNo : 860632713425 Interviewee Name : Hlengiwe Swetha Interviewee PinNo : 530670102508 Team: “CSE AIML group 5 ” 530670102508 - Tino Swetha 875673967537 - SSRK Kasyap 860632713425 - Tino Lopez 557349702179 - Swetha Swetha 784372734211 - Alex Swetha 054176622314 - Alex Bravo ( Representative ) 674915248960 - Tino Lopez Experiment - 1 | Introduction: | ● Introduce yourself to the bench? ● Have you ever faced hardship in your | life? | ➔ I am Hlengiwe from Jogipet in the Sanga | Reddy district. I have completed my bachelor's degree in design thinking by holding 79 percent. I have done my bachelor's degree in IIT MADRAS. I have skills in HTML, soft skills. I have worked at Grassroots BPO. I like to improve my skills and knowledge at your company. I will assure you that I will show my skills and knowledge in my work 100 percent. | ➔ I grew up confronting a lot of challenges | since I was a kid, so yes, I had to overcome | ● How was your experience working in | this sector? | a lot of obstacles to get to where I am now. | ➔ I have two years of experience in this | sector. Working in this sector was very entertaining and satisfying, I was able to engulf myself in various things and also gained a lot of knowledge. Through this, I was able to polish my skills like Analytical skills, Efficiency, Understanding trends, creativity, time management. | Get to know the entire story: | ● Which part of this company do you | think you can fit in right away? | ● Why do you think you might fit this | position Regarding Newspaper | Design? | ● Do you have the necessary skill set | required for this job? | ● How do you handle working with | people who annoy you? | ➔ My skills are the best showcase in | investigative journalism. | ➔ My communication and leadership abilities | make me an excellent candidate for this position. I am confident that I will be able to bring this level of achievement to this role. but most notably because I am committed to going above and above in my work. | ➔ As we know any successful project designer | must be able to solve problems, think critically, be creative, lead others, | collaborate, and communicate effectively, I believe that I do have these qualities in me. | ➔ Maintain an optimistic state of mind. To be | honest, the best thing you can do in this scenario is to let your coworker's unpleasant habits fall off your back. | Ignore their defects as much as possible. Refuse to pay attention to them politely. Make a strong statement. | ● According to you, what are the | qualities required for this job? | ● What are the areas you are lacking? | ➔ According to me one should be confident | enough and face anyone while stating the facts, investigative and communication skills also one should never forget about human ethics and integrity. | ➔ My major weakness is that I have a | challenging time letting go of projects at times. I am too quick to judge, focus too much on the details. | Conclusion: | ● Can you tell us any specific reasons | to hire you? | ● Why did you choose to work in the | media industry? | ● Why our company? ● Why did you come to this | conclusion? | ➔ According to me, I have enough talents and | experience you are searching for. I am certain that I am the best applicant for this position. If I were to mention a specific reason, I would say I am an efficient worker and communicator | ➔ The media and entertainment sectors are | solely dedicated to fostering innovation. This extremely creative profession fosters creative skills and allows communication enthusiasts to combine their passion for the field with innovation and individuality. | ➔ The reason I choose your company is that | your company’s philosophy and working methods are praiseworthy and they line up with my ideas. | ➔ I came to this conclusion because I have | been in this industry for two years. I do know that my ability and my interests are pointing towards this industry, also I am someone who craves truth. |\n"
     ]
    }
   ],
   "source": [
    "# text = \"Reflection – Visualization   Deiby\"\n",
    "print((full_text_ds))"
   ]
  },
  {
   "cell_type": "code",
   "execution_count": 39,
   "id": "5c50c0da",
   "metadata": {
    "scrolled": true
   },
   "outputs": [
    {
     "data": {
      "text/html": [
       "<div>\n",
       "<style scoped>\n",
       "    .dataframe tbody tr th:only-of-type {\n",
       "        vertical-align: middle;\n",
       "    }\n",
       "\n",
       "    .dataframe tbody tr th {\n",
       "        vertical-align: top;\n",
       "    }\n",
       "\n",
       "    .dataframe thead th {\n",
       "        text-align: right;\n",
       "    }\n",
       "</style>\n",
       "<table border=\"1\" class=\"dataframe\">\n",
       "  <thead>\n",
       "    <tr style=\"text-align: right;\">\n",
       "      <th></th>\n",
       "      <th>tokens</th>\n",
       "      <th>tokens_re</th>\n",
       "      <th>labels</th>\n",
       "      <th>spacy_to_re</th>\n",
       "    </tr>\n",
       "  </thead>\n",
       "  <tbody>\n",
       "    <tr>\n",
       "      <th>0</th>\n",
       "      <td>Date:14</td>\n",
       "      <td>14-09-2021</td>\n",
       "      <td>O</td>\n",
       "      <td>0</td>\n",
       "    </tr>\n",
       "    <tr>\n",
       "      <th>1</th>\n",
       "      <td>-</td>\n",
       "      <td>14-09-2021</td>\n",
       "      <td>O</td>\n",
       "      <td>0</td>\n",
       "    </tr>\n",
       "    <tr>\n",
       "      <th>2</th>\n",
       "      <td>09</td>\n",
       "      <td>14-09-2021</td>\n",
       "      <td>O</td>\n",
       "      <td>0</td>\n",
       "    </tr>\n",
       "    <tr>\n",
       "      <th>3</th>\n",
       "      <td>-</td>\n",
       "      <td>14-09-2021</td>\n",
       "      <td>O</td>\n",
       "      <td>0</td>\n",
       "    </tr>\n",
       "    <tr>\n",
       "      <th>4</th>\n",
       "      <td>2021</td>\n",
       "      <td>14-09-2021</td>\n",
       "      <td>O</td>\n",
       "      <td>0</td>\n",
       "    </tr>\n",
       "    <tr>\n",
       "      <th>26</th>\n",
       "      <td>860632713425</td>\n",
       "      <td>860632713425</td>\n",
       "      <td>B-ID_NUM</td>\n",
       "      <td>1</td>\n",
       "    </tr>\n",
       "    <tr>\n",
       "      <th>39</th>\n",
       "      <td>530670102508</td>\n",
       "      <td>530670102508</td>\n",
       "      <td>B-ID_NUM</td>\n",
       "      <td>2</td>\n",
       "    </tr>\n",
       "    <tr>\n",
       "      <th>50</th>\n",
       "      <td>530670102508</td>\n",
       "      <td>530670102508</td>\n",
       "      <td>B-ID_NUM</td>\n",
       "      <td>3</td>\n",
       "    </tr>\n",
       "    <tr>\n",
       "      <th>56</th>\n",
       "      <td>875673967537</td>\n",
       "      <td>875673967537</td>\n",
       "      <td>B-ID_NUM</td>\n",
       "      <td>4</td>\n",
       "    </tr>\n",
       "    <tr>\n",
       "      <th>62</th>\n",
       "      <td>860632713425</td>\n",
       "      <td>860632713425</td>\n",
       "      <td>B-ID_NUM</td>\n",
       "      <td>5</td>\n",
       "    </tr>\n",
       "    <tr>\n",
       "      <th>68</th>\n",
       "      <td>557349702179</td>\n",
       "      <td>557349702179</td>\n",
       "      <td>B-ID_NUM</td>\n",
       "      <td>6</td>\n",
       "    </tr>\n",
       "    <tr>\n",
       "      <th>74</th>\n",
       "      <td>784372734211</td>\n",
       "      <td>784372734211</td>\n",
       "      <td>B-ID_NUM</td>\n",
       "      <td>7</td>\n",
       "    </tr>\n",
       "    <tr>\n",
       "      <th>80</th>\n",
       "      <td>054176622314</td>\n",
       "      <td>054176622314</td>\n",
       "      <td>B-ID_NUM</td>\n",
       "      <td>8</td>\n",
       "    </tr>\n",
       "    <tr>\n",
       "      <th>89</th>\n",
       "      <td>674915248960</td>\n",
       "      <td>674915248960</td>\n",
       "      <td>B-ID_NUM</td>\n",
       "      <td>9</td>\n",
       "    </tr>\n",
       "    <tr>\n",
       "      <th>212</th>\n",
       "      <td>100</td>\n",
       "      <td>100</td>\n",
       "      <td>O</td>\n",
       "      <td>10</td>\n",
       "    </tr>\n",
       "  </tbody>\n",
       "</table>\n",
       "</div>"
      ],
      "text/plain": [
       "           tokens     tokens_re    labels  spacy_to_re\n",
       "0         Date:14    14-09-2021         O            0\n",
       "1               -    14-09-2021         O            0\n",
       "2              09    14-09-2021         O            0\n",
       "3               -    14-09-2021         O            0\n",
       "4            2021    14-09-2021         O            0\n",
       "26   860632713425  860632713425  B-ID_NUM            1\n",
       "39   530670102508  530670102508  B-ID_NUM            2\n",
       "50   530670102508  530670102508  B-ID_NUM            3\n",
       "56   875673967537  875673967537  B-ID_NUM            4\n",
       "62   860632713425  860632713425  B-ID_NUM            5\n",
       "68   557349702179  557349702179  B-ID_NUM            6\n",
       "74   784372734211  784372734211  B-ID_NUM            7\n",
       "80   054176622314  054176622314  B-ID_NUM            8\n",
       "89   674915248960  674915248960  B-ID_NUM            9\n",
       "212           100           100         O           10"
      ]
     },
     "execution_count": 39,
     "metadata": {},
     "output_type": "execute_result"
    }
   ],
   "source": [
    "x = pd.DataFrame({'tokens':tokens_ds,'tokens_re':re_tokens,\n",
    "              'labels':labels_ds,'spacy_to_re':spacy_to_re})\n",
    "\n",
    "x[x.spacy_to_re<=15]"
   ]
  },
  {
   "cell_type": "code",
   "execution_count": 40,
   "id": "157a4954",
   "metadata": {
    "scrolled": true
   },
   "outputs": [
    {
     "data": {
      "text/html": [
       "<div>\n",
       "<style scoped>\n",
       "    .dataframe tbody tr th:only-of-type {\n",
       "        vertical-align: middle;\n",
       "    }\n",
       "\n",
       "    .dataframe tbody tr th {\n",
       "        vertical-align: top;\n",
       "    }\n",
       "\n",
       "    .dataframe thead th {\n",
       "        text-align: right;\n",
       "    }\n",
       "</style>\n",
       "<table border=\"1\" class=\"dataframe\">\n",
       "  <thead>\n",
       "    <tr style=\"text-align: right;\">\n",
       "      <th></th>\n",
       "      <th>tokens</th>\n",
       "      <th>tokens_re</th>\n",
       "      <th>labels</th>\n",
       "      <th>spacy_to_re</th>\n",
       "    </tr>\n",
       "  </thead>\n",
       "  <tbody>\n",
       "    <tr>\n",
       "      <th>0</th>\n",
       "      <td>Date:14</td>\n",
       "      <td>14-09-2021</td>\n",
       "      <td>O</td>\n",
       "      <td>0</td>\n",
       "    </tr>\n",
       "    <tr>\n",
       "      <th>1</th>\n",
       "      <td>-</td>\n",
       "      <td>14-09-2021</td>\n",
       "      <td>O</td>\n",
       "      <td>0</td>\n",
       "    </tr>\n",
       "    <tr>\n",
       "      <th>2</th>\n",
       "      <td>09</td>\n",
       "      <td>14-09-2021</td>\n",
       "      <td>O</td>\n",
       "      <td>0</td>\n",
       "    </tr>\n",
       "    <tr>\n",
       "      <th>3</th>\n",
       "      <td>-</td>\n",
       "      <td>14-09-2021</td>\n",
       "      <td>O</td>\n",
       "      <td>0</td>\n",
       "    </tr>\n",
       "    <tr>\n",
       "      <th>4</th>\n",
       "      <td>2021</td>\n",
       "      <td>14-09-2021</td>\n",
       "      <td>O</td>\n",
       "      <td>0</td>\n",
       "    </tr>\n",
       "  </tbody>\n",
       "</table>\n",
       "</div>"
      ],
      "text/plain": [
       "    tokens   tokens_re labels  spacy_to_re\n",
       "0  Date:14  14-09-2021      O            0\n",
       "1        -  14-09-2021      O            0\n",
       "2       09  14-09-2021      O            0\n",
       "3        -  14-09-2021      O            0\n",
       "4     2021  14-09-2021      O            0"
      ]
     },
     "execution_count": 40,
     "metadata": {},
     "output_type": "execute_result"
    }
   ],
   "source": [
    "x[x.tokens!=x.tokens_re]"
   ]
  },
  {
   "cell_type": "code",
   "execution_count": 41,
   "id": "d2b10295",
   "metadata": {},
   "outputs": [],
   "source": [
    "offset_mapping = get_offset_mapping(full_text, tokens)\n",
    "offset_mapping_ = [x for (x,y) in zip(offset_mapping,labels) if y!=\"O\"]\n",
    "labels_ = [x for x in labels if x!=\"O\"]"
   ]
  },
  {
   "cell_type": "code",
   "execution_count": 42,
   "id": "1f270391",
   "metadata": {
    "scrolled": true
   },
   "outputs": [
    {
     "data": {
      "text/html": [
       "<span class=\"tex2jax_ignore\"><div class=\"entities\" style=\"line-height: 2.5; direction: ltr\">Date:14-09-2021<br><br>NEWS PAPER<br><br>Project: News Paper Designing                                 Interviewer Name :   \n",
       "<mark class=\"entity\" style=\"background: #8000ff; padding: 0.45em 0.6em; margin: 0 0.25em; line-height: 1; border-radius: 0.35em;\">\n",
       "    Gabriel\n",
       "    <span style=\"font-size: 0.8em; font-weight: bold; line-height: 1; border-radius: 0.35em; vertical-align: middle; margin-left: 0.5rem\">NAME_STUDENT</span>\n",
       "</mark>\n",
       " \n",
       "<mark class=\"entity\" style=\"background: #8000ff; padding: 0.45em 0.6em; margin: 0 0.25em; line-height: 1; border-radius: 0.35em;\">\n",
       "    Bravo\n",
       "    <span style=\"font-size: 0.8em; font-weight: bold; line-height: 1; border-radius: 0.35em; vertical-align: middle; margin-left: 0.5rem\">NAME_STUDENT</span>\n",
       "</mark>\n",
       "         Interviewer PinNo :   \n",
       "<mark class=\"entity\" style=\"background: #80ffb4; padding: 0.45em 0.6em; margin: 0 0.25em; line-height: 1; border-radius: 0.35em;\">\n",
       "    860632713425\n",
       "    <span style=\"font-size: 0.8em; font-weight: bold; line-height: 1; border-radius: 0.35em; vertical-align: middle; margin-left: 0.5rem\">ID_NUM</span>\n",
       "</mark>\n",
       "  Interviewee Name :   \n",
       "<mark class=\"entity\" style=\"background: #8000ff; padding: 0.45em 0.6em; margin: 0 0.25em; line-height: 1; border-radius: 0.35em;\">\n",
       "    Hlengiwe\n",
       "    <span style=\"font-size: 0.8em; font-weight: bold; line-height: 1; border-radius: 0.35em; vertical-align: middle; margin-left: 0.5rem\">NAME_STUDENT</span>\n",
       "</mark>\n",
       " \n",
       "<mark class=\"entity\" style=\"background: #8000ff; padding: 0.45em 0.6em; margin: 0 0.25em; line-height: 1; border-radius: 0.35em;\">\n",
       "    Swetha\n",
       "    <span style=\"font-size: 0.8em; font-weight: bold; line-height: 1; border-radius: 0.35em; vertical-align: middle; margin-left: 0.5rem\">NAME_STUDENT</span>\n",
       "</mark>\n",
       "   Interviewee PinNo :  \n",
       "<mark class=\"entity\" style=\"background: #80ffb4; padding: 0.45em 0.6em; margin: 0 0.25em; line-height: 1; border-radius: 0.35em;\">\n",
       "    530670102508\n",
       "    <span style=\"font-size: 0.8em; font-weight: bold; line-height: 1; border-radius: 0.35em; vertical-align: middle; margin-left: 0.5rem\">ID_NUM</span>\n",
       "</mark>\n",
       "     Team: “CSE AIML group 5 ”  \n",
       "<mark class=\"entity\" style=\"background: #80ffb4; padding: 0.45em 0.6em; margin: 0 0.25em; line-height: 1; border-radius: 0.35em;\">\n",
       "    530670102508\n",
       "    <span style=\"font-size: 0.8em; font-weight: bold; line-height: 1; border-radius: 0.35em; vertical-align: middle; margin-left: 0.5rem\">ID_NUM</span>\n",
       "</mark>\n",
       " -  \n",
       "<mark class=\"entity\" style=\"background: #8000ff; padding: 0.45em 0.6em; margin: 0 0.25em; line-height: 1; border-radius: 0.35em;\">\n",
       "    Tino\n",
       "    <span style=\"font-size: 0.8em; font-weight: bold; line-height: 1; border-radius: 0.35em; vertical-align: middle; margin-left: 0.5rem\">NAME_STUDENT</span>\n",
       "</mark>\n",
       " \n",
       "<mark class=\"entity\" style=\"background: #8000ff; padding: 0.45em 0.6em; margin: 0 0.25em; line-height: 1; border-radius: 0.35em;\">\n",
       "    Swetha\n",
       "    <span style=\"font-size: 0.8em; font-weight: bold; line-height: 1; border-radius: 0.35em; vertical-align: middle; margin-left: 0.5rem\">NAME_STUDENT</span>\n",
       "</mark>\n",
       "  \n",
       "<mark class=\"entity\" style=\"background: #80ffb4; padding: 0.45em 0.6em; margin: 0 0.25em; line-height: 1; border-radius: 0.35em;\">\n",
       "    875673967537\n",
       "    <span style=\"font-size: 0.8em; font-weight: bold; line-height: 1; border-radius: 0.35em; vertical-align: middle; margin-left: 0.5rem\">ID_NUM</span>\n",
       "</mark>\n",
       " -  SSRK Kasyap  \n",
       "<mark class=\"entity\" style=\"background: #80ffb4; padding: 0.45em 0.6em; margin: 0 0.25em; line-height: 1; border-radius: 0.35em;\">\n",
       "    860632713425\n",
       "    <span style=\"font-size: 0.8em; font-weight: bold; line-height: 1; border-radius: 0.35em; vertical-align: middle; margin-left: 0.5rem\">ID_NUM</span>\n",
       "</mark>\n",
       " -  \n",
       "<mark class=\"entity\" style=\"background: #8000ff; padding: 0.45em 0.6em; margin: 0 0.25em; line-height: 1; border-radius: 0.35em;\">\n",
       "    Tino\n",
       "    <span style=\"font-size: 0.8em; font-weight: bold; line-height: 1; border-radius: 0.35em; vertical-align: middle; margin-left: 0.5rem\">NAME_STUDENT</span>\n",
       "</mark>\n",
       " \n",
       "<mark class=\"entity\" style=\"background: #8000ff; padding: 0.45em 0.6em; margin: 0 0.25em; line-height: 1; border-radius: 0.35em;\">\n",
       "    Lopez\n",
       "    <span style=\"font-size: 0.8em; font-weight: bold; line-height: 1; border-radius: 0.35em; vertical-align: middle; margin-left: 0.5rem\">NAME_STUDENT</span>\n",
       "</mark>\n",
       "   \n",
       "<mark class=\"entity\" style=\"background: #80ffb4; padding: 0.45em 0.6em; margin: 0 0.25em; line-height: 1; border-radius: 0.35em;\">\n",
       "    557349702179\n",
       "    <span style=\"font-size: 0.8em; font-weight: bold; line-height: 1; border-radius: 0.35em; vertical-align: middle; margin-left: 0.5rem\">ID_NUM</span>\n",
       "</mark>\n",
       " -  \n",
       "<mark class=\"entity\" style=\"background: #8000ff; padding: 0.45em 0.6em; margin: 0 0.25em; line-height: 1; border-radius: 0.35em;\">\n",
       "    Swetha\n",
       "    <span style=\"font-size: 0.8em; font-weight: bold; line-height: 1; border-radius: 0.35em; vertical-align: middle; margin-left: 0.5rem\">NAME_STUDENT</span>\n",
       "</mark>\n",
       " \n",
       "<mark class=\"entity\" style=\"background: #8000ff; padding: 0.45em 0.6em; margin: 0 0.25em; line-height: 1; border-radius: 0.35em;\">\n",
       "    Swetha\n",
       "    <span style=\"font-size: 0.8em; font-weight: bold; line-height: 1; border-radius: 0.35em; vertical-align: middle; margin-left: 0.5rem\">NAME_STUDENT</span>\n",
       "</mark>\n",
       "   \n",
       "<mark class=\"entity\" style=\"background: #80ffb4; padding: 0.45em 0.6em; margin: 0 0.25em; line-height: 1; border-radius: 0.35em;\">\n",
       "    784372734211\n",
       "    <span style=\"font-size: 0.8em; font-weight: bold; line-height: 1; border-radius: 0.35em; vertical-align: middle; margin-left: 0.5rem\">ID_NUM</span>\n",
       "</mark>\n",
       " -  \n",
       "<mark class=\"entity\" style=\"background: #8000ff; padding: 0.45em 0.6em; margin: 0 0.25em; line-height: 1; border-radius: 0.35em;\">\n",
       "    Alex\n",
       "    <span style=\"font-size: 0.8em; font-weight: bold; line-height: 1; border-radius: 0.35em; vertical-align: middle; margin-left: 0.5rem\">NAME_STUDENT</span>\n",
       "</mark>\n",
       " \n",
       "<mark class=\"entity\" style=\"background: #8000ff; padding: 0.45em 0.6em; margin: 0 0.25em; line-height: 1; border-radius: 0.35em;\">\n",
       "    Swetha\n",
       "    <span style=\"font-size: 0.8em; font-weight: bold; line-height: 1; border-radius: 0.35em; vertical-align: middle; margin-left: 0.5rem\">NAME_STUDENT</span>\n",
       "</mark>\n",
       "  \n",
       "<mark class=\"entity\" style=\"background: #80ffb4; padding: 0.45em 0.6em; margin: 0 0.25em; line-height: 1; border-radius: 0.35em;\">\n",
       "    054176622314\n",
       "    <span style=\"font-size: 0.8em; font-weight: bold; line-height: 1; border-radius: 0.35em; vertical-align: middle; margin-left: 0.5rem\">ID_NUM</span>\n",
       "</mark>\n",
       " -  \n",
       "<mark class=\"entity\" style=\"background: #8000ff; padding: 0.45em 0.6em; margin: 0 0.25em; line-height: 1; border-radius: 0.35em;\">\n",
       "    Alex\n",
       "    <span style=\"font-size: 0.8em; font-weight: bold; line-height: 1; border-radius: 0.35em; vertical-align: middle; margin-left: 0.5rem\">NAME_STUDENT</span>\n",
       "</mark>\n",
       " \n",
       "<mark class=\"entity\" style=\"background: #8000ff; padding: 0.45em 0.6em; margin: 0 0.25em; line-height: 1; border-radius: 0.35em;\">\n",
       "    Bravo\n",
       "    <span style=\"font-size: 0.8em; font-weight: bold; line-height: 1; border-radius: 0.35em; vertical-align: middle; margin-left: 0.5rem\">NAME_STUDENT</span>\n",
       "</mark>\n",
       " ( Representative )  \n",
       "<mark class=\"entity\" style=\"background: #80ffb4; padding: 0.45em 0.6em; margin: 0 0.25em; line-height: 1; border-radius: 0.35em;\">\n",
       "    674915248960\n",
       "    <span style=\"font-size: 0.8em; font-weight: bold; line-height: 1; border-radius: 0.35em; vertical-align: middle; margin-left: 0.5rem\">ID_NUM</span>\n",
       "</mark>\n",
       " -  \n",
       "<mark class=\"entity\" style=\"background: #8000ff; padding: 0.45em 0.6em; margin: 0 0.25em; line-height: 1; border-radius: 0.35em;\">\n",
       "    Tino\n",
       "    <span style=\"font-size: 0.8em; font-weight: bold; line-height: 1; border-radius: 0.35em; vertical-align: middle; margin-left: 0.5rem\">NAME_STUDENT</span>\n",
       "</mark>\n",
       " \n",
       "<mark class=\"entity\" style=\"background: #8000ff; padding: 0.45em 0.6em; margin: 0 0.25em; line-height: 1; border-radius: 0.35em;\">\n",
       "    Lopez\n",
       "    <span style=\"font-size: 0.8em; font-weight: bold; line-height: 1; border-radius: 0.35em; vertical-align: middle; margin-left: 0.5rem\">NAME_STUDENT</span>\n",
       "</mark>\n",
       "    Experiment - 1<br><br>Introduction:<br><br>● Introduce yourself to the bench?                      ● Have you ever faced hardship in your<br><br>life?<br><br>➔ I am \n",
       "<mark class=\"entity\" style=\"background: #8000ff; padding: 0.45em 0.6em; margin: 0 0.25em; line-height: 1; border-radius: 0.35em;\">\n",
       "    Hlengiwe\n",
       "    <span style=\"font-size: 0.8em; font-weight: bold; line-height: 1; border-radius: 0.35em; vertical-align: middle; margin-left: 0.5rem\">NAME_STUDENT</span>\n",
       "</mark>\n",
       " from Jogipet in the Sanga<br><br>Reddy district. I have completed my  bachelor's degree in design thinking by  holding 79 percent. I have done my  bachelor's degree in IIT MADRAS. I have  skills in HTML, soft skills. I have worked  at Grassroots BPO. I like to improve my  skills and knowledge at your company. I  will assure you that I will show my skills  and knowledge in my work 100 percent.<br><br>➔ I grew up confronting a lot of challenges<br><br>since I was a kid, so yes, I had to overcome<br><br>● How was your experience working in<br><br>this sector?<br><br>a lot of obstacles to get to where I am now.<br><br>➔ I have two years of experience in this<br><br>sector. Working in this sector was very  entertaining and satisfying, I was able to  engulf myself in various things and also  gained a lot of knowledge. Through this, I  was able to polish my skills like Analytical  skills, Efficiency, Understanding trends,  creativity, time management.<br><br>Get to know the entire story:<br><br>● Which part of this company do you<br><br>think you can fit in right away?<br><br>● Why do you think you might fit this<br><br>position  Regarding  Newspaper<br><br>Design?<br><br>● Do you have the necessary skill set<br><br>required for this job?<br><br>● How do you handle working with<br><br>people who annoy you?<br><br>➔ My skills are the best showcase in<br><br>investigative journalism.<br><br>➔ My communication and leadership abilities<br><br>make me an excellent candidate for this  position. I am confident that I will be able to  bring this level of achievement to this role.  but most notably because I am committed to  going above and above in my work.<br><br>➔  As we know any successful project designer<br><br>must be able to solve problems, think  critically,  be  creative,  lead  others,<br><br>collaborate, and communicate effectively, I  believe that I do have these qualities in me.<br><br>➔ Maintain an optimistic state of mind. To be<br><br>honest, the best thing  you can do in this  scenario is to let your coworker's unpleasant  habits fall  off your back.<br><br>Ignore their defects as much as possible.          Refuse to pay attention to them politely.           Make a strong statement.<br><br>● According to you, what are the<br><br>qualities required for this job?<br><br>● What are the areas you are lacking?<br><br>➔ According to me one should be confident<br><br>enough and face anyone while stating the  facts, investigative and communication  skills also one should never forget about  human ethics and integrity.<br><br>➔ My major weakness is that I have a<br><br>challenging time letting go of projects at  times. I am too quick to judge, focus too  much on the details.<br><br>Conclusion:<br><br>● Can you tell us any specific reasons<br><br>to hire you?<br><br>● Why did you choose to work in the<br><br>media industry?<br><br>● Why our company?           ● Why  did  you  come  to  this<br><br>conclusion?<br><br>➔ According to me, I have enough talents and<br><br>experience you are searching for. I am  certain that I am the best applicant for this  position. If I were to mention a specific  reason, I would say I am an efficient worker  and communicator<br><br>➔ The media and entertainment sectors are<br><br>solely dedicated to fostering innovation.  This extremely creative profession fosters  creative skills and allows communication  enthusiasts to combine their passion for the  field with innovation and individuality.<br><br>➔ The reason I choose your company is that<br><br>your company’s philosophy and working  methods are praiseworthy and they line up  with my ideas.<br><br>➔ I came to this conclusion because I have<br><br>been in this industry for two years. I do know  that my ability and my interests are pointing  towards this industry, also I am someone  who craves truth.<br><br></div></span>"
      ],
      "text/plain": [
       "<IPython.core.display.HTML object>"
      ]
     },
     "metadata": {},
     "output_type": "display_data"
    }
   ],
   "source": [
    "visualize(full_text,offset_mapping_,labels_)"
   ]
  },
  {
   "cell_type": "code",
   "execution_count": 43,
   "id": "7dc54c9c",
   "metadata": {},
   "outputs": [],
   "source": [
    "# offset_mapping = get_offset_mapping(full_text_ds, tokens_ds)\n",
    "offset_mapping_ = [x for (x,y) in zip(offset_mapping_init,labels_ds) if y!=\"O\"]\n",
    "labels_ = [x for x in labels_ds if x!=\"O\"]"
   ]
  },
  {
   "cell_type": "code",
   "execution_count": 44,
   "id": "9f05249b",
   "metadata": {},
   "outputs": [],
   "source": [
    "# for (x,y) in zip(offset,labels_ds):\n",
    "#     print(y)"
   ]
  },
  {
   "cell_type": "code",
   "execution_count": 45,
   "id": "a7ec06cb",
   "metadata": {
    "scrolled": true
   },
   "outputs": [
    {
     "data": {
      "text/html": [
       "<span class=\"tex2jax_ignore\"><div class=\"entities\" style=\"line-height: 2.5; direction: ltr\">Date:14-09-2021 | NEWS PAPER | Project: News Paper Designing Interviewer Name : \n",
       "<mark class=\"entity\" style=\"background: #8000ff; padding: 0.45em 0.6em; margin: 0 0.25em; line-height: 1; border-radius: 0.35em;\">\n",
       "    Gabriel\n",
       "    <span style=\"font-size: 0.8em; font-weight: bold; line-height: 1; border-radius: 0.35em; vertical-align: middle; margin-left: 0.5rem\">NAME_STUDENT</span>\n",
       "</mark>\n",
       " \n",
       "<mark class=\"entity\" style=\"background: #8000ff; padding: 0.45em 0.6em; margin: 0 0.25em; line-height: 1; border-radius: 0.35em;\">\n",
       "    Bravo\n",
       "    <span style=\"font-size: 0.8em; font-weight: bold; line-height: 1; border-radius: 0.35em; vertical-align: middle; margin-left: 0.5rem\">NAME_STUDENT</span>\n",
       "</mark>\n",
       " Interviewer PinNo : \n",
       "<mark class=\"entity\" style=\"background: #80ffb4; padding: 0.45em 0.6em; margin: 0 0.25em; line-height: 1; border-radius: 0.35em;\">\n",
       "    860632713425\n",
       "    <span style=\"font-size: 0.8em; font-weight: bold; line-height: 1; border-radius: 0.35em; vertical-align: middle; margin-left: 0.5rem\">ID_NUM</span>\n",
       "</mark>\n",
       " Interviewee Name : \n",
       "<mark class=\"entity\" style=\"background: #8000ff; padding: 0.45em 0.6em; margin: 0 0.25em; line-height: 1; border-radius: 0.35em;\">\n",
       "    Hlengiwe\n",
       "    <span style=\"font-size: 0.8em; font-weight: bold; line-height: 1; border-radius: 0.35em; vertical-align: middle; margin-left: 0.5rem\">NAME_STUDENT</span>\n",
       "</mark>\n",
       " \n",
       "<mark class=\"entity\" style=\"background: #8000ff; padding: 0.45em 0.6em; margin: 0 0.25em; line-height: 1; border-radius: 0.35em;\">\n",
       "    Swetha\n",
       "    <span style=\"font-size: 0.8em; font-weight: bold; line-height: 1; border-radius: 0.35em; vertical-align: middle; margin-left: 0.5rem\">NAME_STUDENT</span>\n",
       "</mark>\n",
       " Interviewee PinNo : \n",
       "<mark class=\"entity\" style=\"background: #80ffb4; padding: 0.45em 0.6em; margin: 0 0.25em; line-height: 1; border-radius: 0.35em;\">\n",
       "    530670102508\n",
       "    <span style=\"font-size: 0.8em; font-weight: bold; line-height: 1; border-radius: 0.35em; vertical-align: middle; margin-left: 0.5rem\">ID_NUM</span>\n",
       "</mark>\n",
       " Team: “CSE AIML group 5 ” \n",
       "<mark class=\"entity\" style=\"background: #80ffb4; padding: 0.45em 0.6em; margin: 0 0.25em; line-height: 1; border-radius: 0.35em;\">\n",
       "    530670102508\n",
       "    <span style=\"font-size: 0.8em; font-weight: bold; line-height: 1; border-radius: 0.35em; vertical-align: middle; margin-left: 0.5rem\">ID_NUM</span>\n",
       "</mark>\n",
       " - \n",
       "<mark class=\"entity\" style=\"background: #8000ff; padding: 0.45em 0.6em; margin: 0 0.25em; line-height: 1; border-radius: 0.35em;\">\n",
       "    Tino\n",
       "    <span style=\"font-size: 0.8em; font-weight: bold; line-height: 1; border-radius: 0.35em; vertical-align: middle; margin-left: 0.5rem\">NAME_STUDENT</span>\n",
       "</mark>\n",
       " \n",
       "<mark class=\"entity\" style=\"background: #8000ff; padding: 0.45em 0.6em; margin: 0 0.25em; line-height: 1; border-radius: 0.35em;\">\n",
       "    Swetha\n",
       "    <span style=\"font-size: 0.8em; font-weight: bold; line-height: 1; border-radius: 0.35em; vertical-align: middle; margin-left: 0.5rem\">NAME_STUDENT</span>\n",
       "</mark>\n",
       " \n",
       "<mark class=\"entity\" style=\"background: #80ffb4; padding: 0.45em 0.6em; margin: 0 0.25em; line-height: 1; border-radius: 0.35em;\">\n",
       "    875673967537\n",
       "    <span style=\"font-size: 0.8em; font-weight: bold; line-height: 1; border-radius: 0.35em; vertical-align: middle; margin-left: 0.5rem\">ID_NUM</span>\n",
       "</mark>\n",
       " - SSRK Kasyap \n",
       "<mark class=\"entity\" style=\"background: #80ffb4; padding: 0.45em 0.6em; margin: 0 0.25em; line-height: 1; border-radius: 0.35em;\">\n",
       "    860632713425\n",
       "    <span style=\"font-size: 0.8em; font-weight: bold; line-height: 1; border-radius: 0.35em; vertical-align: middle; margin-left: 0.5rem\">ID_NUM</span>\n",
       "</mark>\n",
       " - \n",
       "<mark class=\"entity\" style=\"background: #8000ff; padding: 0.45em 0.6em; margin: 0 0.25em; line-height: 1; border-radius: 0.35em;\">\n",
       "    Tino\n",
       "    <span style=\"font-size: 0.8em; font-weight: bold; line-height: 1; border-radius: 0.35em; vertical-align: middle; margin-left: 0.5rem\">NAME_STUDENT</span>\n",
       "</mark>\n",
       " \n",
       "<mark class=\"entity\" style=\"background: #8000ff; padding: 0.45em 0.6em; margin: 0 0.25em; line-height: 1; border-radius: 0.35em;\">\n",
       "    Lopez\n",
       "    <span style=\"font-size: 0.8em; font-weight: bold; line-height: 1; border-radius: 0.35em; vertical-align: middle; margin-left: 0.5rem\">NAME_STUDENT</span>\n",
       "</mark>\n",
       " \n",
       "<mark class=\"entity\" style=\"background: #80ffb4; padding: 0.45em 0.6em; margin: 0 0.25em; line-height: 1; border-radius: 0.35em;\">\n",
       "    557349702179\n",
       "    <span style=\"font-size: 0.8em; font-weight: bold; line-height: 1; border-radius: 0.35em; vertical-align: middle; margin-left: 0.5rem\">ID_NUM</span>\n",
       "</mark>\n",
       " - \n",
       "<mark class=\"entity\" style=\"background: #8000ff; padding: 0.45em 0.6em; margin: 0 0.25em; line-height: 1; border-radius: 0.35em;\">\n",
       "    Swetha\n",
       "    <span style=\"font-size: 0.8em; font-weight: bold; line-height: 1; border-radius: 0.35em; vertical-align: middle; margin-left: 0.5rem\">NAME_STUDENT</span>\n",
       "</mark>\n",
       " \n",
       "<mark class=\"entity\" style=\"background: #8000ff; padding: 0.45em 0.6em; margin: 0 0.25em; line-height: 1; border-radius: 0.35em;\">\n",
       "    Swetha\n",
       "    <span style=\"font-size: 0.8em; font-weight: bold; line-height: 1; border-radius: 0.35em; vertical-align: middle; margin-left: 0.5rem\">NAME_STUDENT</span>\n",
       "</mark>\n",
       " \n",
       "<mark class=\"entity\" style=\"background: #80ffb4; padding: 0.45em 0.6em; margin: 0 0.25em; line-height: 1; border-radius: 0.35em;\">\n",
       "    784372734211\n",
       "    <span style=\"font-size: 0.8em; font-weight: bold; line-height: 1; border-radius: 0.35em; vertical-align: middle; margin-left: 0.5rem\">ID_NUM</span>\n",
       "</mark>\n",
       " - \n",
       "<mark class=\"entity\" style=\"background: #8000ff; padding: 0.45em 0.6em; margin: 0 0.25em; line-height: 1; border-radius: 0.35em;\">\n",
       "    Alex\n",
       "    <span style=\"font-size: 0.8em; font-weight: bold; line-height: 1; border-radius: 0.35em; vertical-align: middle; margin-left: 0.5rem\">NAME_STUDENT</span>\n",
       "</mark>\n",
       " \n",
       "<mark class=\"entity\" style=\"background: #8000ff; padding: 0.45em 0.6em; margin: 0 0.25em; line-height: 1; border-radius: 0.35em;\">\n",
       "    Swetha\n",
       "    <span style=\"font-size: 0.8em; font-weight: bold; line-height: 1; border-radius: 0.35em; vertical-align: middle; margin-left: 0.5rem\">NAME_STUDENT</span>\n",
       "</mark>\n",
       " \n",
       "<mark class=\"entity\" style=\"background: #80ffb4; padding: 0.45em 0.6em; margin: 0 0.25em; line-height: 1; border-radius: 0.35em;\">\n",
       "    054176622314\n",
       "    <span style=\"font-size: 0.8em; font-weight: bold; line-height: 1; border-radius: 0.35em; vertical-align: middle; margin-left: 0.5rem\">ID_NUM</span>\n",
       "</mark>\n",
       " - \n",
       "<mark class=\"entity\" style=\"background: #8000ff; padding: 0.45em 0.6em; margin: 0 0.25em; line-height: 1; border-radius: 0.35em;\">\n",
       "    Alex\n",
       "    <span style=\"font-size: 0.8em; font-weight: bold; line-height: 1; border-radius: 0.35em; vertical-align: middle; margin-left: 0.5rem\">NAME_STUDENT</span>\n",
       "</mark>\n",
       " \n",
       "<mark class=\"entity\" style=\"background: #8000ff; padding: 0.45em 0.6em; margin: 0 0.25em; line-height: 1; border-radius: 0.35em;\">\n",
       "    Bravo\n",
       "    <span style=\"font-size: 0.8em; font-weight: bold; line-height: 1; border-radius: 0.35em; vertical-align: middle; margin-left: 0.5rem\">NAME_STUDENT</span>\n",
       "</mark>\n",
       " ( Representative ) \n",
       "<mark class=\"entity\" style=\"background: #80ffb4; padding: 0.45em 0.6em; margin: 0 0.25em; line-height: 1; border-radius: 0.35em;\">\n",
       "    674915248960\n",
       "    <span style=\"font-size: 0.8em; font-weight: bold; line-height: 1; border-radius: 0.35em; vertical-align: middle; margin-left: 0.5rem\">ID_NUM</span>\n",
       "</mark>\n",
       " - \n",
       "<mark class=\"entity\" style=\"background: #8000ff; padding: 0.45em 0.6em; margin: 0 0.25em; line-height: 1; border-radius: 0.35em;\">\n",
       "    Tino\n",
       "    <span style=\"font-size: 0.8em; font-weight: bold; line-height: 1; border-radius: 0.35em; vertical-align: middle; margin-left: 0.5rem\">NAME_STUDENT</span>\n",
       "</mark>\n",
       " \n",
       "<mark class=\"entity\" style=\"background: #8000ff; padding: 0.45em 0.6em; margin: 0 0.25em; line-height: 1; border-radius: 0.35em;\">\n",
       "    Lopez\n",
       "    <span style=\"font-size: 0.8em; font-weight: bold; line-height: 1; border-radius: 0.35em; vertical-align: middle; margin-left: 0.5rem\">NAME_STUDENT</span>\n",
       "</mark>\n",
       " Experiment - 1 | Introduction: | ● Introduce yourself to the bench? ● Have you ever faced hardship in your | life? | ➔ I am \n",
       "<mark class=\"entity\" style=\"background: #8000ff; padding: 0.45em 0.6em; margin: 0 0.25em; line-height: 1; border-radius: 0.35em;\">\n",
       "    Hlengiwe\n",
       "    <span style=\"font-size: 0.8em; font-weight: bold; line-height: 1; border-radius: 0.35em; vertical-align: middle; margin-left: 0.5rem\">NAME_STUDENT</span>\n",
       "</mark>\n",
       " from Jogipet in the Sanga | Reddy district. I have completed my bachelor's degree in design thinking by holding 79 percent. I have done my bachelor's degree in IIT MADRAS. I have skills in HTML, soft skills. I have worked at Grassroots BPO. I like to improve my skills and knowledge at your company. I will assure you that I will show my skills and knowledge in my work 100 percent. | ➔ I grew up confronting a lot of challenges | since I was a kid, so yes, I had to overcome | ● How was your experience working in | this sector? | a lot of obstacles to get to where I am now. | ➔ I have two years of experience in this | sector. Working in this sector was very entertaining and satisfying, I was able to engulf myself in various things and also gained a lot of knowledge. Through this, I was able to polish my skills like Analytical skills, Efficiency, Understanding trends, creativity, time management. | Get to know the entire story: | ● Which part of this company do you | think you can fit in right away? | ● Why do you think you might fit this | position Regarding Newspaper | Design? | ● Do you have the necessary skill set | required for this job? | ● How do you handle working with | people who annoy you? | ➔ My skills are the best showcase in | investigative journalism. | ➔ My communication and leadership abilities | make me an excellent candidate for this position. I am confident that I will be able to bring this level of achievement to this role. but most notably because I am committed to going above and above in my work. | ➔ As we know any successful project designer | must be able to solve problems, think critically, be creative, lead others, | collaborate, and communicate effectively, I believe that I do have these qualities in me. | ➔ Maintain an optimistic state of mind. To be | honest, the best thing you can do in this scenario is to let your coworker's unpleasant habits fall off your back. | Ignore their defects as much as possible. Refuse to pay attention to them politely. Make a strong statement. | ● According to you, what are the | qualities required for this job? | ● What are the areas you are lacking? | ➔ According to me one should be confident | enough and face anyone while stating the facts, investigative and communication skills also one should never forget about human ethics and integrity. | ➔ My major weakness is that I have a | challenging time letting go of projects at times. I am too quick to judge, focus too much on the details. | Conclusion: | ● Can you tell us any specific reasons | to hire you? | ● Why did you choose to work in the | media industry? | ● Why our company? ● Why did you come to this | conclusion? | ➔ According to me, I have enough talents and | experience you are searching for. I am certain that I am the best applicant for this position. If I were to mention a specific reason, I would say I am an efficient worker and communicator | ➔ The media and entertainment sectors are | solely dedicated to fostering innovation. This extremely creative profession fosters creative skills and allows communication enthusiasts to combine their passion for the field with innovation and individuality. | ➔ The reason I choose your company is that | your company’s philosophy and working methods are praiseworthy and they line up with my ideas. | ➔ I came to this conclusion because I have | been in this industry for two years. I do know that my ability and my interests are pointing towards this industry, also I am someone who craves truth. |</div></span>"
      ],
      "text/plain": [
       "<IPython.core.display.HTML object>"
      ]
     },
     "metadata": {},
     "output_type": "display_data"
    }
   ],
   "source": [
    "visualize(full_text_ds,offset_mapping_,labels_)"
   ]
  },
  {
   "cell_type": "code",
   "execution_count": null,
   "id": "792d7dc8",
   "metadata": {},
   "outputs": [],
   "source": []
  },
  {
   "cell_type": "code",
   "execution_count": 46,
   "id": "796346d6",
   "metadata": {},
   "outputs": [],
   "source": []
  },
  {
   "cell_type": "code",
   "execution_count": 47,
   "id": "c5cdacc6",
   "metadata": {},
   "outputs": [],
   "source": []
  },
  {
   "cell_type": "code",
   "execution_count": 916,
   "id": "cc7b3445",
   "metadata": {},
   "outputs": [
    {
     "data": {
      "text/plain": [
       "('gmorales', 'https://instagram.com/annanewton')"
      ]
     },
     "execution_count": 916,
     "metadata": {},
     "output_type": "execute_result"
    }
   ],
   "source": [
    "#url and usernam\n",
    "fake.user_name(),generate_fake_social_media_urls()"
   ]
  },
  {
   "cell_type": "code",
   "execution_count": 121,
   "id": "6a2682b4",
   "metadata": {},
   "outputs": [
    {
     "data": {
      "text/plain": [
       "('U57484780', 'TEKU96707208815715', 'GB87YITO06564710518565')"
      ]
     },
     "execution_count": 121,
     "metadata": {},
     "output_type": "execute_result"
    }
   ],
   "source": [
    "# id num\n",
    "fake.passport_number(),fake.bban(), fake.iban(), #fake.license_plate(), fake.ssn()"
   ]
  },
  {
   "cell_type": "code",
   "execution_count": 918,
   "id": "607e641a",
   "metadata": {},
   "outputs": [
    {
     "data": {
      "text/plain": [
       "('Ashley Tran', 'Courtney', 'Reeves')"
      ]
     },
     "execution_count": 918,
     "metadata": {},
     "output_type": "execute_result"
    }
   ],
   "source": [
    "# names\n",
    "fake.name(),fake.first_name(), fake.last_name()"
   ]
  },
  {
   "cell_type": "code",
   "execution_count": 929,
   "id": "8e181f1a",
   "metadata": {},
   "outputs": [
    {
     "data": {
      "text/plain": [
       "'ann65@yahoo.com'"
      ]
     },
     "execution_count": 929,
     "metadata": {},
     "output_type": "execute_result"
    }
   ],
   "source": [
    "# mail\n",
    "fake.ascii_free_email()"
   ]
  },
  {
   "cell_type": "code",
   "execution_count": 926,
   "id": "a83655f3",
   "metadata": {
    "scrolled": true
   },
   "outputs": [
    {
     "name": "stdout",
     "output_type": "stream",
     "text": [
      "886.547.1178x7725\n"
     ]
    }
   ],
   "source": [
    "# phone\n",
    "s = fake.phone_number()\n",
    "print(s)"
   ]
  },
  {
   "cell_type": "code",
   "execution_count": 871,
   "id": "bd5018ff",
   "metadata": {},
   "outputs": [],
   "source": [
    "RE_ID_PHONE = r\"\"\"(\\(?\\+\\s*\\d{1,4}\\s*\\)?\\s*[\\.\\-x]?\\d{1,5}\\s*[\\.\\-x]?\\d{1,5}\\s*[\\.\\-x]?\\d{1,5}\\s*[\\.\\-x]?\\s{0,2}\\d{0,5}|\\(?\\+\\s*\\d{1,4}\\s*\\)?\\s*[\\.\\-x]?\\d{1,5}\\s*[\\.\\-x]?\\d{1,5}\\s*[\\.\\-x]?\\d{1,5}\\s{0,2}\\d{0,5}|\\(?\\s*\\d{1,4}\\s*\\)?\\s*[\\.\\-x]?\\d{1,5}\\s*[\\.\\-x]?\\d{1,5}\\s*[\\.\\-x]?\\d{1,5}\\s{0,2}\\d{0,5}\\s*[\\.\\-x]?\\d{1,5}\\s{0,2}\\d{0,5}|\\(?\\s*\\d{1,4}\\s*\\)?\\s*[\\.\\-x]?\\d{1,5}\\s*[\\.\\-x]?\\d{1,5}\\s*[\\.\\-x]?\\d{1,5}\\s{0,2}\\d{0,5}|\\(\\s*\\d{3}\\s*\\)\\s*\\d{3}\\s*\\-\\s*\\d{4}\\s*\\w{0,3}(\\s*\\d{1,8}\\s*)?|\\b\\d{2,}-\\d{2,}\\.\\d{2,}\\.\\d{2,}\\.\\d{2,}\\b|\\b\\d{2,}-\\d{2,}\\-\\d{2,}\\-\\d{2,}\\-\\d{2,}\\b|\\b\\d{2,}\\-\\d{2,}\\-\\d{2,}\\-\\d{2,}\\b|\\b\\d{2,}\\.\\d{2,}\\.\\d{2,}\\.\\d{2,}\\b|\\d{3}\\s*\\.\\s*\\d{3}\\s*\\.\\s*\\d{1,5}|\\d{3}\\s*\\-\\s*\\d{3}\\s*\\-\\s*\\d{1,5}|\\d{3}\\s*x\\s*\\d{3}\\s*x\\s*\\d{1,5}|\\d{1,3}\\s{0,2}\\d{1,}\\s{0,2}\\d{1,}|\\b\\d{1,}\\s*\\d{1,}\\s*\\d{1,}|\\b\\d{2,}\\-\\d{2,}\\-\\d{2,}\\b|\\b\\d{2,}\\.\\d{2,}\\.\\d{2,}\\b|\\b\\d{1,}-\\d{1,}|[\\w\\.\\:\\-\\_\\|]*\\d{6,})\"\"\""
   ]
  },
  {
   "cell_type": "code",
   "execution_count": 872,
   "id": "9d088c35",
   "metadata": {},
   "outputs": [
    {
     "data": {
      "text/plain": [
       "[('682-678-9880', '')]"
      ]
     },
     "execution_count": 872,
     "metadata": {},
     "output_type": "execute_result"
    }
   ],
   "source": [
    "re.findall(RE_ID_PHONE,s)"
   ]
  },
  {
   "cell_type": "code",
   "execution_count": 932,
   "id": "57e0bbfd",
   "metadata": {},
   "outputs": [
    {
     "data": {
      "text/plain": [
       "['1972 Goodman Hills\\nWest Jeffrey, FL 13169',\n",
       " '9981 Ashley Points Apt. 934\\nNorth Matthewland, CA 93374',\n",
       " '6664 Bryant Mountains\\nStephensmouth, HI 78633']"
      ]
     },
     "execution_count": 932,
     "metadata": {},
     "output_type": "execute_result"
    }
   ],
   "source": [
    "# Adress\n",
    "z = [fake.address() for i in range(3) ]\n",
    "z"
   ]
  },
  {
   "cell_type": "code",
   "execution_count": null,
   "id": "f6cdcb7f",
   "metadata": {},
   "outputs": [],
   "source": []
  },
  {
   "cell_type": "code",
   "execution_count": null,
   "id": "cd85df10",
   "metadata": {},
   "outputs": [],
   "source": [
    "LABEL2TYPE = ('NAME_STUDENT','EMAIL','USERNAME','ID_NUM', 'PHONE_NUM','URL_PERSONAL','STREET_ADDRESS','O')"
   ]
  },
  {
   "cell_type": "code",
   "execution_count": 154,
   "id": "c5118dcd",
   "metadata": {},
   "outputs": [],
   "source": [
    "# ======================================================================================== #\n",
    "import numpy as np\n",
    "Faker.seed(0)\n",
    "def successive_positions(input_list):\n",
    "    result = []\n",
    "    current_group = []\n",
    "    prev_element = None\n",
    "\n",
    "    for i, element in enumerate(input_list):\n",
    "        if element == prev_element:\n",
    "            current_group.append(i)\n",
    "        else:\n",
    "            if current_group:\n",
    "                result.append(current_group)\n",
    "            current_group = [i]\n",
    "        prev_element = element\n",
    "\n",
    "    if current_group:\n",
    "        result.append(current_group)\n",
    "\n",
    "    return result\n",
    "\n",
    "def find_successive_numbers(input_array):\n",
    "    result = []\n",
    "    current_sublist = []\n",
    "\n",
    "    for num in input_array:\n",
    "        if not current_sublist or num == current_sublist[-1] + 1:\n",
    "            current_sublist.append(num)\n",
    "        else:\n",
    "            result.append(current_sublist)\n",
    "            current_sublist = [num]\n",
    "\n",
    "    if current_sublist:\n",
    "        result.append(current_sublist)\n",
    "\n",
    "    return result\n",
    "# ======================================================================================== #\n",
    "\n",
    "def generate_fake_social_media_urls(num_urls=1):\n",
    "    social_media_platforms = {\n",
    "        'LinkedIn': 'linkedin.com/in/',\n",
    "        'YouTube': 'youtube.com/c/',\n",
    "        'Instagram': 'instagram.com/',\n",
    "        'GitHub': 'github.com/',\n",
    "        'Facebook': 'facebook.com/',\n",
    "        'Twitter': 'twitter.com/'\n",
    "    }\n",
    "\n",
    "    fake_social_media_urls = []\n",
    "\n",
    "    for _ in range(num_urls):\n",
    "        fake_user_name = fake.user_name()\n",
    "        platform, domain = random.choice(list(social_media_platforms.items()))\n",
    "        fake_url = f'https://{domain}{fake_user_name}'\n",
    "        fake_social_media_urls.append(fake_url)\n",
    "\n",
    "    return fake_social_media_urls[0]\n",
    "    \n",
    "def generate_random_number(length):\n",
    "    return ''.join(random.choice('0123456789') for _ in range(length))\n",
    "\n",
    "def generate_similar_number():\n",
    "    length = random.randint(14, 22)\n",
    "    return generate_random_number(length)\n",
    "\n",
    "def generate_random_data_with_probabilities():\n",
    "\n",
    "    name = random.choices([fake.name(),fake.first_name(), fake.last_name()], weights = [0.7,0.15,0.15], k = 1)[0]  #generic.person.full_name()\n",
    "    phone_number =  fake.phone_number()\n",
    "    username = fake.user_name()\n",
    "    email = fake.ascii_free_email()\n",
    "    address = fake.address()\n",
    "    id_num = random.choices([fake.passport_number(),fake.bban(),\n",
    "                             fake.iban(),generate_random_number(12)],k=1,weights = [0.2,0.15,0.15,0.5])[0]\n",
    "    url_pers = generate_fake_social_media_urls()\n",
    "#     surname = generic.person.surname()\n",
    "    # a nezttoter\n",
    "    ret = dict(\n",
    "              NAME_STUDENT=name,\n",
    "              EMAIL=email,\n",
    "              USERNAME=username,\n",
    "              ID_NUM=id_num,\n",
    "              URL_PERSONAL=url_pers,\n",
    "              PHONE_NUM=phone_number,\n",
    "              STREET_ADDRESS=address\n",
    "              )\n",
    "    \n",
    "    for k,v in ret.items():\n",
    "        ret[k] = clean_text(v.replace(\"\\n\\n\",\" | \").replace(\"\\n\",\" [BR] \"))\n",
    "    return ret\n",
    "# ======================================================================================== #\n",
    "\n",
    "def generate_ent(text,labels,offset_mapping):\n",
    "    \n",
    "    idx_lab = np.argwhere(np.array(labels)!=\"O\").reshape(-1)\n",
    "#     print(idx_lab)\n",
    "#     pos = sorted(find_successive_numbers(idx_lab),reverse=True,key=len)\n",
    "    pos = find_successive_numbers(idx_lab)\n",
    "#     print(pos)\n",
    "    lab = np.array(labels)\n",
    "#     toks = np.array(tokens)\n",
    "\n",
    "    ent = {}\n",
    "    ent_order = []\n",
    "    ent_offset_in_order = []\n",
    "    for i,p in enumerate(pos):\n",
    "        l = [x.split('-')[-1] for x in lab[p]]\n",
    "        \n",
    "        if len(np.unique(l))>1:\n",
    "            px = successive_positions(l)\n",
    "            for pp in px:\n",
    "                full_name = text[offset_mapping[p[pp[0]]][0]:offset_mapping[p[pp[-1]]][1]].strip()\n",
    "                ent[full_name] = l[pp[-1]]\n",
    "                ent_order.append(full_name)\n",
    "                ent_offset_in_order.append((offset_mapping[p[pp[0]]][0],\n",
    "                                            offset_mapping[p[pp[-1]]][1]))\n",
    "#                 print(l)\n",
    "#         print(p)\n",
    "        else:\n",
    "            full_name = text[offset_mapping[p[0]][0]:offset_mapping[p[-1]][1]].strip()\n",
    "            ent[full_name] = l[-1]\n",
    "            ent_order.append(full_name)\n",
    "            ent_offset_in_order.append((offset_mapping[p[0]][0],offset_mapping[p[-1]][1]))\n",
    "#         if 'NAME_STUDENT' in l:\n",
    "# #             full_name = \" \".join(t)\n",
    "#             ent[clean_text(full_name)] = l[-1]\n",
    "\n",
    "#         else:\n",
    "#             full_name = \" \".join(t)\n",
    "#             ent[clean_text(full_name)] = l[-1]\n",
    "    return ent,ent_order,ent_offset_in_order\n",
    "# ======================================================================================== #\n",
    "from spacy.lang.en import English\n",
    "en_tokenizer = English().tokenizer\n",
    "\n",
    "def tokenize_with_spacy(text, tokenizer=en_tokenizer):\n",
    "    tokenized_text = tokenizer(text)\n",
    "    tokens = [token.text for token in tokenized_text]\n",
    "    offset_mapping = [(token.idx,token.idx+len(token)) for token in tokenized_text]\n",
    "    return {'tokens': tokens, 'offset_mapping': offset_mapping}\n",
    "# ======================================================================================== #\n",
    "\n",
    "def create_mapper_n_clean(full_text,labels,offset_mapping,attribut=[\"NAME_STUDENT\"]):\n",
    "    ent,ent_order,ent_offset_in_order = generate_ent(full_text,labels,offset_mapping)\n",
    "    print(ent)\n",
    "    mapper = {}\n",
    "    label_mapper = {}\n",
    "    new_tokens = []\n",
    "    txt_added = 0\n",
    "    for num,k in enumerate(ent_order):\n",
    "        v = ent[k]\n",
    "#         k,v = clean_text(k),clean_text(v)\n",
    "        if v in attribut:      \n",
    "            dc_ent = generate_random_data_with_probabilities()\n",
    "            mapper[k] = dc_ent[v]\n",
    "            label_mapper[dc_ent[v]] = v\n",
    "            \n",
    "            old_len = len(full_text)\n",
    "            if k in mapper.keys():\n",
    "                full_text = full_text[:ent_offset_in_order[num][0]+txt_added] +\" \" +mapper[k] + \" \"+full_text[ent_offset_in_order[num][-1]+txt_added:]\n",
    "                txt_added+= len(full_text)-old_len\n",
    "#                 full_text = re.sub(k,mapper[k],full_text)\n",
    "                new_tokens.append(mapper[k])\n",
    "            else:\n",
    "                full_text = full_text[:ent_offset_in_order[num][0]+txt_added] + \" \"+dc_ent[v] +\" \"+ full_text[ent_offset_in_order[num][-1]+txt_added:]\n",
    "#                 full_text = re.sub(k,dc_ent[v],full_text)\n",
    "                new_tokens.append(dc_ent[v])\n",
    "                txt_added+= len(full_text)-old_len\n",
    "        else:\n",
    "            label_mapper[k] = v\n",
    "            new_tokens.append(k)\n",
    "            \n",
    "    \n",
    "    print(mapper)\n",
    "    print(label_mapper)\n",
    "#     print(full_text)\n",
    "#     print(ent_order)\n",
    "    full_text = clean_text(full_text)\n",
    "    \n",
    "    tokenized_text = tokenize_with_spacy(full_text, tokenizer=en_tokenizer)\n",
    "    tokens = tokenized_text['tokens']\n",
    "    tg = get_offset_mapping(full_text, new_tokens)\n",
    "    \n",
    "#     print(len(tg))\n",
    "#     offs = {}\n",
    "#     for s in list(label_mapper.keys()):\n",
    "#         res = [(m.start(0), m.end(0)) for m in re.finditer(s,full_text)]\n",
    "#         print(s)\n",
    "#         if len(res):\n",
    "#             offs[s] = res\n",
    "    \n",
    "#     print(full_text)\n",
    "    woff = np.array(tokenized_text['offset_mapping'])\n",
    "    labels = np.array([\"O\"]*len(woff),dtype='<U50')\n",
    "#     for k, ofs in offs.items():\n",
    "    toff = np.array(tg)\n",
    "    wx1, wx2 = woff.T\n",
    "    tx1, tx2 = toff.T\n",
    "    ix1 = np.maximum(wx1[..., None], tx1[None, ...])\n",
    "    ix2 = np.minimum(wx2[..., None], tx2[None, ...])\n",
    "    ux1 = np.minimum(wx1[..., None], tx1[None, ...])\n",
    "    ux2 = np.maximum(wx2[..., None], tx2[None, ...])\n",
    "    ious = (ix2 - ix1).clip(min=0) / (ux2 - ux1)\n",
    "\n",
    "\n",
    "    for i,row in enumerate(ious):\n",
    "        inds = row.nonzero()[0]\n",
    "        if len(inds):\n",
    "#             print(inds)\n",
    "            labels[i] = label_mapper[new_tokens[inds[0]]]\n",
    "\n",
    "    labels = labels.tolist()\n",
    "    \n",
    "    \n",
    "    \n",
    "#     for tok, off in zip(tokens, tokenized_text['offset_mapping']):\n",
    "#         found_label = False\n",
    "#         for k, ofs in offs.items():\n",
    "#             for o in ofs:\n",
    "#                 if o[0] <= off[0] <= o[1] or o[0] <= off[1] <=o[1]:\n",
    "#                     labels.append(label_mapper[k])\n",
    "#                     found_label = True\n",
    "#                     break\n",
    "#             if found_label:\n",
    "#                 break\n",
    "#         else:\n",
    "#             labels.append('O')\n",
    "        \n",
    "    return full_text,labels,tokens"
   ]
  },
  {
   "cell_type": "code",
   "execution_count": 155,
   "id": "aef47784",
   "metadata": {},
   "outputs": [],
   "source": [
    "# cachez l'id num dans URL ou mixer chiffre et lettre"
   ]
  },
  {
   "cell_type": "code",
   "execution_count": 156,
   "id": "ac04f7f1",
   "metadata": {},
   "outputs": [],
   "source": [
    "idx = random.choice(ds.df[ds.df.ID_NUM>0].index)\n",
    "idx = 428\n",
    "full_text = df.iloc[idx]['full_text']\n",
    "tokens = df.iloc[idx]['tokens']\n",
    "labels = df.iloc[idx]['labels']\n",
    "offset_mapping = get_offset_mapping(full_text, tokens)\n",
    "\n",
    "\n",
    "full_text_ds = ds[idx]['text']\n",
    "tokens_ds = ds[idx]['tokens_clean']\n",
    "labels_ds = ds[idx]['labels']\n",
    "offset_mapping_init = ds[idx]['offset_mapping_init']\n",
    "re_offset_mapping = ds[idx]['re_offset_mapping']\n",
    "spacy_to_re = ds[idx]['spacy_to_re']\n",
    "re_tokens = ds[idx]['re_tokens']\n",
    "\n",
    "\n",
    "# idx,df.iloc[idx]['nb_labels']"
   ]
  },
  {
   "cell_type": "code",
   "execution_count": 157,
   "id": "462552b8",
   "metadata": {},
   "outputs": [
    {
     "data": {
      "text/html": [
       "<span class=\"tex2jax_ignore\"><div class=\"entities\" style=\"line-height: 2.5; direction: ltr\">NAME: \n",
       "<mark class=\"entity\" style=\"background: #8000ff; padding: 0.45em 0.6em; margin: 0 0.25em; line-height: 1; border-radius: 0.35em;\">\n",
       "    Zhe\n",
       "    <span style=\"font-size: 0.8em; font-weight: bold; line-height: 1; border-radius: 0.35em; vertical-align: middle; margin-left: 0.5rem\">NAME_STUDENT</span>\n",
       "</mark>\n",
       " \n",
       "<mark class=\"entity\" style=\"background: #8000ff; padding: 0.45em 0.6em; margin: 0 0.25em; line-height: 1; border-radius: 0.35em;\">\n",
       "    Basmah\n",
       "    <span style=\"font-size: 0.8em; font-weight: bold; line-height: 1; border-radius: 0.35em; vertical-align: middle; margin-left: 0.5rem\">NAME_STUDENT</span>\n",
       "</mark>\n",
       " ROLL \n",
       "<mark class=\"entity\" style=\"background: #80ffb4; padding: 0.45em 0.6em; margin: 0 0.25em; line-height: 1; border-radius: 0.35em;\">\n",
       "    DM:705244534902\n",
       "    <span style=\"font-size: 0.8em; font-weight: bold; line-height: 1; border-radius: 0.35em; vertical-align: middle; margin-left: 0.5rem\">ID_NUM</span>\n",
       "</mark>\n",
       " | EXPERIMENT-1 | Project: | Interviewer Name: \n",
       "<mark class=\"entity\" style=\"background: #8000ff; padding: 0.45em 0.6em; margin: 0 0.25em; line-height: 1; border-radius: 0.35em;\">\n",
       "    Zhe\n",
       "    <span style=\"font-size: 0.8em; font-weight: bold; line-height: 1; border-radius: 0.35em; vertical-align: middle; margin-left: 0.5rem\">NAME_STUDENT</span>\n",
       "</mark>\n",
       " | Interviewer Roll No.: \n",
       "<mark class=\"entity\" style=\"background: #80ffb4; padding: 0.45em 0.6em; margin: 0 0.25em; line-height: 1; border-radius: 0.35em;\">\n",
       "    132305666219\n",
       "    <span style=\"font-size: 0.8em; font-weight: bold; line-height: 1; border-radius: 0.35em; vertical-align: middle; margin-left: 0.5rem\">ID_NUM</span>\n",
       "</mark>\n",
       " | Team: 10 | Interviewee Name: \n",
       "<mark class=\"entity\" style=\"background: #8000ff; padding: 0.45em 0.6em; margin: 0 0.25em; line-height: 1; border-radius: 0.35em;\">\n",
       "    Zhe\n",
       "    <span style=\"font-size: 0.8em; font-weight: bold; line-height: 1; border-radius: 0.35em; vertical-align: middle; margin-left: 0.5rem\">NAME_STUDENT</span>\n",
       "</mark>\n",
       " \n",
       "<mark class=\"entity\" style=\"background: #8000ff; padding: 0.45em 0.6em; margin: 0 0.25em; line-height: 1; border-radius: 0.35em;\">\n",
       "    Basmah\n",
       "    <span style=\"font-size: 0.8em; font-weight: bold; line-height: 1; border-radius: 0.35em; vertical-align: middle; margin-left: 0.5rem\">NAME_STUDENT</span>\n",
       "</mark>\n",
       " | Interviewee Roll No.: \n",
       "<mark class=\"entity\" style=\"background: #80ffb4; padding: 0.45em 0.6em; margin: 0 0.25em; line-height: 1; border-radius: 0.35em;\">\n",
       "    789323889085\n",
       "    <span style=\"font-size: 0.8em; font-weight: bold; line-height: 1; border-radius: 0.35em; vertical-align: middle; margin-left: 0.5rem\">ID_NUM</span>\n",
       "</mark>\n",
       " | Date: 28th September 2021 | Date:5-10-2021 | Introduction | 1. What is your profession 2. Tell me what you experienced recently 3. Tell me what annoyed you recently | 1. I am a student of Lycée of Dignity University 2. I Observed that many plastic bottles were | thrown at the beach side and every where In the city which leads to environmental pollution | 3. The usage and the chemicals used in plastic | are dangerous. The cause environmental pollution. Many animals were died by eating them | Get to know the entire story: | 1. What helps you to save money? 2. What is biggest challenge? | 3. Do you think you can earn profits | through this service by providing products with low cost? | 4. Is there any companies or apps which | have done this type of service before? | 1. Making Of Yarn by Recycling the | Plastic bottles and use them for textiles , Grocery etc.. | 2. The Biggest Challenge is to Promote | the awareness in the people for using these items made from recycled plastic which reduce the plastic in nature which is sustainable.. | 3. Yes, We can earn Profit because | people will buy this because they are long lasting and tough and they conserve nature | 4. Yes,there is an another company like | wool and Gang trying to make yarn from the plastic . | If you had one wish to make All the plastic should be recycled and should be used without Damaging the Environment because it is sustainable. | CONCLUSION:(Explain what happen with the answers and thank the interviewee for the discussion.) | Thank for your time.This will help us understand more about you. | You’re welcome.It’s been a pleasure |</div></span>"
      ],
      "text/plain": [
       "<IPython.core.display.HTML object>"
      ]
     },
     "metadata": {},
     "output_type": "display_data"
    }
   ],
   "source": [
    "# offset_mapping = get_offset_mapping(full_text_ds, tokens_ds)\n",
    "offset_mapping_ = [x for (x,y) in zip(offset_mapping_init,labels_ds) if y!=\"O\"]\n",
    "labels_ = [x for x in labels_ds if x!=\"O\"]\n",
    "\n",
    "visualize(full_text_ds,offset_mapping_,labels_)"
   ]
  },
  {
   "cell_type": "code",
   "execution_count": 158,
   "id": "5130bcd9",
   "metadata": {},
   "outputs": [
    {
     "data": {
      "text/plain": [
       "'NAME: Zhe Basmah ROLL DM:705244534902 | EXPERIMENT-1 | Project: | Interviewer Name: Zhe | Interviewer Roll No.: 132305666219 | Team: 10 | Interviewee Name: Zhe Basmah | Interviewee Roll No.: 789323889085 | Date: 28th September 2021 | Date:5-10-2021 | Introduction | 1. What is your profession 2. Tell me what you experienced recently 3. Tell me what annoyed you recently | 1. I am a student of Lycée of Dignity University 2. I Observed that many plastic bottles were | thrown at the beach side and every where In the city which leads to environmental pollution | 3. The usage and the chemicals used in plastic | are dangerous. The cause environmental pollution. Many animals were died by eating them | Get to know the entire story: | 1. What helps you to save money? 2. What is biggest challenge? | 3. Do you think you can earn profits | through this service by providing products with low cost? | 4. Is there any companies or apps which | have done this type of service before? | 1. Making Of Yarn by Recycling the | Plastic bottles and use them for textiles , Grocery etc.. | 2. The Biggest Challenge is to Promote | the awareness in the people for using these items made from recycled plastic which reduce the plastic in nature which is sustainable.. | 3. Yes, We can earn Profit because | people will buy this because they are long lasting and tough and they conserve nature | 4. Yes,there is an another company like | wool and Gang trying to make yarn from the plastic . | If you had one wish to make All the plastic should be recycled and should be used without Damaging the Environment because it is sustainable. | CONCLUSION:(Explain what happen with the answers and thank the interviewee for the discussion.) | Thank for your time.This will help us understand more about you. | You’re welcome.It’s been a pleasure |'"
      ]
     },
     "execution_count": 158,
     "metadata": {},
     "output_type": "execute_result"
    }
   ],
   "source": [
    "full_text_ds"
   ]
  },
  {
   "cell_type": "code",
   "execution_count": 159,
   "id": "845ce028",
   "metadata": {},
   "outputs": [
    {
     "name": "stdout",
     "output_type": "stream",
     "text": [
      "{'Zhe Basmah': 'NAME_STUDENT', 'DM:705244534902': 'ID_NUM', 'Zhe': 'NAME_STUDENT', '132305666219': 'ID_NUM', '789323889085': 'ID_NUM'}\n",
      "{'Zhe Basmah': 'Gwendolyn Mendoza', 'DM:705244534902': '402119838146', 'Zhe': 'Rachel Moore', '132305666219': '773116600706', '789323889085': '472112081194'}\n",
      "{'Jonathan': 'NAME_STUDENT', '402119838146': 'ID_NUM', 'Rachel Moore': 'NAME_STUDENT', '773116600706': 'ID_NUM', 'Gwendolyn Mendoza': 'NAME_STUDENT', '472112081194': 'ID_NUM'}\n"
     ]
    }
   ],
   "source": [
    "full_text_ds,labels,tokens_ds = create_mapper_n_clean(full_text_ds,labels_ds,offset_mapping_init,attribut=['NAME_STUDENT','EMAIL','USERNAME','ID_NUM',\n",
    "                                                                                                        'PHONE_NUM','URL_PERSONAL','STREET_ADDRESS'])"
   ]
  },
  {
   "cell_type": "code",
   "execution_count": 160,
   "id": "d2438054",
   "metadata": {},
   "outputs": [
    {
     "data": {
      "text/html": [
       "<span class=\"tex2jax_ignore\"><div class=\"entities\" style=\"line-height: 2.5; direction: ltr\">NAME: \n",
       "<mark class=\"entity\" style=\"background: #8000ff; padding: 0.45em 0.6em; margin: 0 0.25em; line-height: 1; border-radius: 0.35em;\">\n",
       "    Jonathan\n",
       "    <span style=\"font-size: 0.8em; font-weight: bold; line-height: 1; border-radius: 0.35em; vertical-align: middle; margin-left: 0.5rem\">NAME_STUDENT</span>\n",
       "</mark>\n",
       " ROLL \n",
       "<mark class=\"entity\" style=\"background: #80ffb4; padding: 0.45em 0.6em; margin: 0 0.25em; line-height: 1; border-radius: 0.35em;\">\n",
       "    402119838146\n",
       "    <span style=\"font-size: 0.8em; font-weight: bold; line-height: 1; border-radius: 0.35em; vertical-align: middle; margin-left: 0.5rem\">ID_NUM</span>\n",
       "</mark>\n",
       " | EXPERIMENT-1 | Project: | Interviewer Name: \n",
       "<mark class=\"entity\" style=\"background: #8000ff; padding: 0.45em 0.6em; margin: 0 0.25em; line-height: 1; border-radius: 0.35em;\">\n",
       "    Rachel\n",
       "    <span style=\"font-size: 0.8em; font-weight: bold; line-height: 1; border-radius: 0.35em; vertical-align: middle; margin-left: 0.5rem\">NAME_STUDENT</span>\n",
       "</mark>\n",
       " \n",
       "<mark class=\"entity\" style=\"background: #8000ff; padding: 0.45em 0.6em; margin: 0 0.25em; line-height: 1; border-radius: 0.35em;\">\n",
       "    Moore\n",
       "    <span style=\"font-size: 0.8em; font-weight: bold; line-height: 1; border-radius: 0.35em; vertical-align: middle; margin-left: 0.5rem\">NAME_STUDENT</span>\n",
       "</mark>\n",
       " | Interviewer Roll No.: \n",
       "<mark class=\"entity\" style=\"background: #80ffb4; padding: 0.45em 0.6em; margin: 0 0.25em; line-height: 1; border-radius: 0.35em;\">\n",
       "    773116600706\n",
       "    <span style=\"font-size: 0.8em; font-weight: bold; line-height: 1; border-radius: 0.35em; vertical-align: middle; margin-left: 0.5rem\">ID_NUM</span>\n",
       "</mark>\n",
       " | Team: 10 | Interviewee Name: \n",
       "<mark class=\"entity\" style=\"background: #8000ff; padding: 0.45em 0.6em; margin: 0 0.25em; line-height: 1; border-radius: 0.35em;\">\n",
       "    Gwendolyn\n",
       "    <span style=\"font-size: 0.8em; font-weight: bold; line-height: 1; border-radius: 0.35em; vertical-align: middle; margin-left: 0.5rem\">NAME_STUDENT</span>\n",
       "</mark>\n",
       " \n",
       "<mark class=\"entity\" style=\"background: #8000ff; padding: 0.45em 0.6em; margin: 0 0.25em; line-height: 1; border-radius: 0.35em;\">\n",
       "    Mendoza\n",
       "    <span style=\"font-size: 0.8em; font-weight: bold; line-height: 1; border-radius: 0.35em; vertical-align: middle; margin-left: 0.5rem\">NAME_STUDENT</span>\n",
       "</mark>\n",
       " | Interviewee Roll No.: \n",
       "<mark class=\"entity\" style=\"background: #80ffb4; padding: 0.45em 0.6em; margin: 0 0.25em; line-height: 1; border-radius: 0.35em;\">\n",
       "    472112081194\n",
       "    <span style=\"font-size: 0.8em; font-weight: bold; line-height: 1; border-radius: 0.35em; vertical-align: middle; margin-left: 0.5rem\">ID_NUM</span>\n",
       "</mark>\n",
       " | Date: 28th September 2021 | Date:5-10-2021 | Introduction | 1. What is your profession 2. Tell me what you experienced recently 3. Tell me what annoyed you recently | 1. I am a student of Lycée of Dignity University 2. I Observed that many plastic bottles were | thrown at the beach side and every where In the city which leads to environmental pollution | 3. The usage and the chemicals used in plastic | are dangerous. The cause environmental pollution. Many animals were died by eating them | Get to know the entire story: | 1. What helps you to save money? 2. What is biggest challenge? | 3. Do you think you can earn profits | through this service by providing products with low cost? | 4. Is there any companies or apps which | have done this type of service before? | 1. Making Of Yarn by Recycling the | Plastic bottles and use them for textiles , Grocery etc.. | 2. The Biggest Challenge is to Promote | the awareness in the people for using these items made from recycled plastic which reduce the plastic in nature which is sustainable.. | 3. Yes, We can earn Profit because | people will buy this because they are long lasting and tough and they conserve nature | 4. Yes,there is an another company like | wool and Gang trying to make yarn from the plastic . | If you had one wish to make All the plastic should be recycled and should be used without Damaging the Environment because it is sustainable. | CONCLUSION:(Explain what happen with the answers and thank the interviewee for the discussion.) | Thank for your time.This will help us understand more about you. | You’re welcome.It’s been a pleasure |</div></span>"
      ],
      "text/plain": [
       "<IPython.core.display.HTML object>"
      ]
     },
     "metadata": {},
     "output_type": "display_data"
    }
   ],
   "source": [
    "offset_mapping = get_offset_mapping(full_text_ds, tokens_ds)\n",
    "offset_mapping_ = [x for (x,y) in zip(offset_mapping,labels) if y!=\"O\"]\n",
    "labels_ = [x for x in labels if x!=\"O\"]\n",
    "\n",
    "visualize(full_text_ds,offset_mapping_,labels_)"
   ]
  },
  {
   "cell_type": "code",
   "execution_count": null,
   "id": "45152a21",
   "metadata": {},
   "outputs": [],
   "source": []
  },
  {
   "cell_type": "code",
   "execution_count": null,
   "id": "16195076",
   "metadata": {},
   "outputs": [],
   "source": []
  },
  {
   "cell_type": "code",
   "execution_count": 2613,
   "id": "d3a59214",
   "metadata": {},
   "outputs": [],
   "source": [
    "def custom_distribution(n):\n",
    "    distribution = [0] * n\n",
    "    middle_index = n // 2\n",
    "    for i in range(middle_index):\n",
    "        distribution[i] = (middle_index - i) / middle_index\n",
    "        distribution[n - 1 - i] = (middle_index - i) / middle_index\n",
    "    return distribution"
   ]
  },
  {
   "cell_type": "code",
   "execution_count": 2589,
   "id": "ee42a34e",
   "metadata": {},
   "outputs": [],
   "source": [
    "def add_text(full_text,tokens,labels,offset_mapping,new_text,new_tokens,new_labels,new_offset_mapping):\n",
    "    \n",
    "    s = full_text.split('|')\n",
    "    prob_dist = custom_distribution(len(s))\n",
    "    id_ = random.choices(np.arange(len(s)),k=1,weights = prob_dist)[0]\n",
    "    \n",
    "    idx = [len(s[i]) for i in range(id_+1)]\n",
    "    idx = sum(idx)\n",
    "    full_text = full_text[:idx+id_+1] +\" \"+ new_text + full_text[idx+id_+1:]\n",
    "\n",
    "    \n",
    "    t_idx = [i for i,x in enumerate(offset_mapping) if x[1]==idx+id_+1][-1]+1\n",
    "\n",
    "    \n",
    "    tokens = tokens[:t_idx]+new_tokens+tokens[t_idx:]\n",
    "    labels = labels[:t_idx]+new_labels+labels[t_idx:]\n",
    "    \n",
    "    \n",
    "    \n",
    "    v = offset_mapping[:t_idx][-1][1]\n",
    "    new_offset_mappings = [(x[0]+v+1,x[1]+v+1) for x in new_offset_mapping]\n",
    "    v1 = new_offset_mappings[-1][1]\n",
    "    vx = v1-v\n",
    "    old_offset_mapping =  [(x[0]+vx,x[1]+vx) for x in offset_mapping[t_idx:]]\n",
    "    offset_mapping = offset_mapping[:t_idx]+new_offset_mappings+old_offset_mapping\n",
    "\n",
    "\n",
    "#     v = offset_mapping[:t_idx][-1][1]+2\n",
    "# #     print(v)\n",
    "#     new_offset_mappings = [(x[0]+v+1,x[1]+v+1) for x in new_offset_mapping]\n",
    "    \n",
    "#     v1 = new_offset_mappings[-1][1]\n",
    "# #     print(v1)\n",
    "# #     print(ifc)\n",
    "#     old_offset_mapping =  [(x[0]+v1,x[1]+v1) for x in offset_mapping[t_idx:]]\n",
    "    \n",
    "#     offset_mapping = offset_mapping[:t_idx]+new_offset_mapping+old_offset_mapping\n",
    "    \n",
    "    return full_text,tokens,labels,offset_mapping"
   ]
  },
  {
   "cell_type": "code",
   "execution_count": 2600,
   "id": "3f386aed",
   "metadata": {},
   "outputs": [],
   "source": [
    "idx = random.choice(ds.df[ds.df.ID_NUM>0].index)\n",
    "# full_text = df.iloc[idx]['full_text']\n",
    "# tokens = df.iloc[idx]['tokens']\n",
    "# labels = df.iloc[idx]['labels']\n",
    "# offset_mapping = get_offset_mapping(full_text, tokens)\n",
    "\n",
    "\n",
    "full_text_ds = ds[idx]['text']\n",
    "tokens_ds = ds[idx]['tokens_clean']\n",
    "labels_ds = ds[idx]['labels']\n",
    "offset_mapping_init = ds[idx]['offset_mapping_init']\n",
    "re_offset_mapping = ds[idx]['re_offset_mapping']\n",
    "spacy_to_re = ds[idx]['spacy_to_re']\n",
    "re_tokens = ds[idx]['re_tokens']\n",
    "\n",
    "\n",
    "# idx,df.iloc[idx]['nb_labels']"
   ]
  },
  {
   "cell_type": "code",
   "execution_count": 2575,
   "id": "a3b72f99",
   "metadata": {},
   "outputs": [],
   "source": [
    "# df_ai = pd.read_csv(data_path/'pii-masking-200k.csv')\n",
    "# df_ai.shape"
   ]
  },
  {
   "cell_type": "code",
   "execution_count": 2576,
   "id": "c71852b7",
   "metadata": {},
   "outputs": [],
   "source": [
    "# df_ai[\"offset_mapping\"] = df_ai[\"offset_mapping\"].transform(lambda x:eval(x))\n",
    "# df_ai[\"labels\"] = df_ai[\"labels\"].transform(lambda x:eval(x))\n",
    "# df_ai[\"tokens\"] = df_ai[\"tokens\"].transform(lambda x:eval(x))"
   ]
  },
  {
   "cell_type": "code",
   "execution_count": 2577,
   "id": "a04504d7",
   "metadata": {},
   "outputs": [],
   "source": [
    "idx = random.choice(df_ai.index)\n",
    "full_text = df_ai.iloc[idx]['full_text']\n",
    "tokens = df_ai.iloc[idx]['tokens']\n",
    "labels = df_ai.iloc[idx]['labels']\n",
    "offset_mapping = df_ai.iloc[idx]['offset_mapping']"
   ]
  },
  {
   "cell_type": "code",
   "execution_count": 2578,
   "id": "6c727715",
   "metadata": {},
   "outputs": [
    {
     "data": {
      "text/plain": [
       "'Update aus der Intensivstation bezüglich Patient[in] Icie58: Der Zustand des Patienten bleibt kritisch. Weitere Informationen werden an Keegan.Kunde@yahoo.com gesendet. Unser primärer Ansprechpartner bleibt Future Integration Consultant, Ernest Corkery. Bitte kontaktieren Sie uns für ein detailliertes Update.'"
      ]
     },
     "execution_count": 2578,
     "metadata": {},
     "output_type": "execute_result"
    }
   ],
   "source": [
    "full_text "
   ]
  },
  {
   "cell_type": "code",
   "execution_count": 2579,
   "id": "0e773fce",
   "metadata": {},
   "outputs": [],
   "source": [
    "# offset_mapping = get_offset_mapping(full_text, tokens)\n",
    "offset_mapping_ = [x for (x,y) in zip(offset_mapping,labels) if y!=\"O\"]\n",
    "labels_ = [x for x in labels if x!=\"O\"]"
   ]
  },
  {
   "cell_type": "code",
   "execution_count": 2580,
   "id": "94401d84",
   "metadata": {},
   "outputs": [
    {
     "data": {
      "text/html": [
       "<span class=\"tex2jax_ignore\"><div class=\"entities\" style=\"line-height: 2.5; direction: ltr\">Update aus der Intensivstation bezüglich Patient[in] \n",
       "<mark class=\"entity\" style=\"background: #2adddd; padding: 0.45em 0.6em; margin: 0 0.25em; line-height: 1; border-radius: 0.35em;\">\n",
       "    Icie58\n",
       "    <span style=\"font-size: 0.8em; font-weight: bold; line-height: 1; border-radius: 0.35em; vertical-align: middle; margin-left: 0.5rem\">USERNAME</span>\n",
       "</mark>\n",
       ": Der Zustand des Patienten bleibt kritisch. Weitere Informationen werden an \n",
       "<mark class=\"entity\" style=\"background: #2b7ff6; padding: 0.45em 0.6em; margin: 0 0.25em; line-height: 1; border-radius: 0.35em;\">\n",
       "    Keegan.Kunde@yahoo.com\n",
       "    <span style=\"font-size: 0.8em; font-weight: bold; line-height: 1; border-radius: 0.35em; vertical-align: middle; margin-left: 0.5rem\">EMAIL</span>\n",
       "</mark>\n",
       " gesendet. Unser primärer Ansprechpartner bleibt Future Integration Consultant, \n",
       "<mark class=\"entity\" style=\"background: #8000ff; padding: 0.45em 0.6em; margin: 0 0.25em; line-height: 1; border-radius: 0.35em;\">\n",
       "    Ernest\n",
       "    <span style=\"font-size: 0.8em; font-weight: bold; line-height: 1; border-radius: 0.35em; vertical-align: middle; margin-left: 0.5rem\">NAME_STUDENT</span>\n",
       "</mark>\n",
       " \n",
       "<mark class=\"entity\" style=\"background: #8000ff; padding: 0.45em 0.6em; margin: 0 0.25em; line-height: 1; border-radius: 0.35em;\">\n",
       "    Corkery\n",
       "    <span style=\"font-size: 0.8em; font-weight: bold; line-height: 1; border-radius: 0.35em; vertical-align: middle; margin-left: 0.5rem\">NAME_STUDENT</span>\n",
       "</mark>\n",
       ". Bitte kontaktieren Sie uns für ein detailliertes Update.</div></span>"
      ],
      "text/plain": [
       "<IPython.core.display.HTML object>"
      ]
     },
     "metadata": {},
     "output_type": "display_data"
    }
   ],
   "source": [
    "visualize(full_text,offset_mapping_,labels_)"
   ]
  },
  {
   "cell_type": "code",
   "execution_count": 2601,
   "id": "3c833f8c",
   "metadata": {
    "scrolled": false
   },
   "outputs": [
    {
     "data": {
      "text/html": [
       "<span class=\"tex2jax_ignore\"><div class=\"entities\" style=\"line-height: 2.5; direction: ltr\">Name: \n",
       "<mark class=\"entity\" style=\"background: #8000ff; padding: 0.45em 0.6em; margin: 0 0.25em; line-height: 1; border-radius: 0.35em;\">\n",
       "    Bk\n",
       "    <span style=\"font-size: 0.8em; font-weight: bold; line-height: 1; border-radius: 0.35em; vertical-align: middle; margin-left: 0.5rem\">NAME_STUDENT</span>\n",
       "</mark>\n",
       " \n",
       "<mark class=\"entity\" style=\"background: #8000ff; padding: 0.45em 0.6em; margin: 0 0.25em; line-height: 1; border-radius: 0.35em;\">\n",
       "    Bk\n",
       "    <span style=\"font-size: 0.8em; font-weight: bold; line-height: 1; border-radius: 0.35em; vertical-align: middle; margin-left: 0.5rem\">NAME_STUDENT</span>\n",
       "</mark>\n",
       " Roll No: \n",
       "<mark class=\"entity\" style=\"background: #80ffb4; padding: 0.45em 0.6em; margin: 0 0.25em; line-height: 1; border-radius: 0.35em;\">\n",
       "    172801513686\n",
       "    <span style=\"font-size: 0.8em; font-weight: bold; line-height: 1; border-radius: 0.35em; vertical-align: middle; margin-left: 0.5rem\">ID_NUM</span>\n",
       "</mark>\n",
       " | 1 | P a g e | STORY TELLING | Now-a-days the usage of technology is at the next level. All of us are very much interested in using the present technology and making their work easy and perfectly. The usage of technology has many advantages and disadvantages based on our usage it is helpful. | In present days the people in our society are very busy through their daily works and forget their things and security of others, even I forget many things which are not visible at the right time. Now coming to the security now-a-days there is more of increasing of women trafficking and rapes and kidnapping and hence blackmailing their parents for money and other issues. | So to get a solution for this, I had introduced a GPS TRAKIN app which is connected to different gadgets that work for all users, like the things which are stolen and also forgotten; it is used to locate your pets nearby, and in farming, security, track you family and friends location. | Name: \n",
       "<mark class=\"entity\" style=\"background: #8000ff; padding: 0.45em 0.6em; margin: 0 0.25em; line-height: 1; border-radius: 0.35em;\">\n",
       "    Bk\n",
       "    <span style=\"font-size: 0.8em; font-weight: bold; line-height: 1; border-radius: 0.35em; vertical-align: middle; margin-left: 0.5rem\">NAME_STUDENT</span>\n",
       "</mark>\n",
       " \n",
       "<mark class=\"entity\" style=\"background: #8000ff; padding: 0.45em 0.6em; margin: 0 0.25em; line-height: 1; border-radius: 0.35em;\">\n",
       "    Bk\n",
       "    <span style=\"font-size: 0.8em; font-weight: bold; line-height: 1; border-radius: 0.35em; vertical-align: middle; margin-left: 0.5rem\">NAME_STUDENT</span>\n",
       "</mark>\n",
       " Roll No: \n",
       "<mark class=\"entity\" style=\"background: #80ffb4; padding: 0.45em 0.6em; margin: 0 0.25em; line-height: 1; border-radius: 0.35em;\">\n",
       "    172801513686\n",
       "    <span style=\"font-size: 0.8em; font-weight: bold; line-height: 1; border-radius: 0.35em; vertical-align: middle; margin-left: 0.5rem\">ID_NUM</span>\n",
       "</mark>\n",
       " | 2 | P a g e | User | Queries | Meaning | Conclusion | \n",
       "<mark class=\"entity\" style=\"background: #8000ff; padding: 0.45em 0.6em; margin: 0 0.25em; line-height: 1; border-radius: 0.35em;\">\n",
       "    Sama\n",
       "    <span style=\"font-size: 0.8em; font-weight: bold; line-height: 1; border-radius: 0.35em; vertical-align: middle; margin-left: 0.5rem\">NAME_STUDENT</span>\n",
       "</mark>\n",
       " \n",
       "<mark class=\"entity\" style=\"background: #80ffb4; padding: 0.45em 0.6em; margin: 0 0.25em; line-height: 1; border-radius: 0.35em;\">\n",
       "    208798413907\n",
       "    <span style=\"font-size: 0.8em; font-weight: bold; line-height: 1; border-radius: 0.35em; vertical-align: middle; margin-left: 0.5rem\">ID_NUM</span>\n",
       "</mark>\n",
       " | Why did you come up with this idea? | To introduce the type of technology which can be used in our daily-to-daily life. | To make the awareness and maintain their personal security and to locate their forgotten things and pets. | \n",
       "<mark class=\"entity\" style=\"background: #8000ff; padding: 0.45em 0.6em; margin: 0 0.25em; line-height: 1; border-radius: 0.35em;\">\n",
       "    Md\n",
       "    <span style=\"font-size: 0.8em; font-weight: bold; line-height: 1; border-radius: 0.35em; vertical-align: middle; margin-left: 0.5rem\">NAME_STUDENT</span>\n",
       "</mark>\n",
       " \n",
       "<mark class=\"entity\" style=\"background: #80ffb4; padding: 0.45em 0.6em; margin: 0 0.25em; line-height: 1; border-radius: 0.35em;\">\n",
       "    347376430553\n",
       "    <span style=\"font-size: 0.8em; font-weight: bold; line-height: 1; border-radius: 0.35em; vertical-align: middle; margin-left: 0.5rem\">ID_NUM</span>\n",
       "</mark>\n",
       " | How this is used in farming? | Farmers can put the GPS receivers on their tractors and other framing equipment. This allows them to map their plantations and return to same time. | Hence it is suitable for use in mapping soil sample locations, and the farmer can locate the areas that have soil suitable for framing. | \n",
       "<mark class=\"entity\" style=\"background: #8000ff; padding: 0.45em 0.6em; margin: 0 0.25em; line-height: 1; border-radius: 0.35em;\">\n",
       "    Giuseppe\n",
       "    <span style=\"font-size: 0.8em; font-weight: bold; line-height: 1; border-radius: 0.35em; vertical-align: middle; margin-left: 0.5rem\">NAME_STUDENT</span>\n",
       "</mark>\n",
       " \n",
       "<mark class=\"entity\" style=\"background: #80ffb4; padding: 0.45em 0.6em; margin: 0 0.25em; line-height: 1; border-radius: 0.35em;\">\n",
       "    943995368223\n",
       "    <span style=\"font-size: 0.8em; font-weight: bold; line-height: 1; border-radius: 0.35em; vertical-align: middle; margin-left: 0.5rem\">ID_NUM</span>\n",
       "</mark>\n",
       " | Are these gadgets are affordable? | Yes, it is affordable for all people and depends upon their usage. | Hence the app interface is also so simple and can understandable for uneducated people also. |</div></span>"
      ],
      "text/plain": [
       "<IPython.core.display.HTML object>"
      ]
     },
     "metadata": {},
     "output_type": "display_data"
    }
   ],
   "source": [
    "# offset_mapping = get_offset_mapping(full_text_ds, tokens_ds)\n",
    "offset_mapping_ = [x for (x,y) in zip(offset_mapping_init,labels_ds) if y!=\"O\"]\n",
    "labels_ = [x for x in labels_ds if x!=\"O\"]\n",
    "\n",
    "visualize(full_text_ds,offset_mapping_,labels_)"
   ]
  },
  {
   "cell_type": "code",
   "execution_count": 2582,
   "id": "cb56c7d2",
   "metadata": {
    "scrolled": true
   },
   "outputs": [],
   "source": [
    "full_texts,tokenss,labelss,offset_mappings  = add_text(full_text_ds,tokens_ds,labels_ds,offset_mapping_init,\n",
    "                                                   full_text,tokens,labels,offset_mapping)"
   ]
  },
  {
   "cell_type": "code",
   "execution_count": 2583,
   "id": "09d05c84",
   "metadata": {},
   "outputs": [
    {
     "data": {
      "text/plain": [
       "(1979, 476, 476, 476)"
      ]
     },
     "execution_count": 2583,
     "metadata": {},
     "output_type": "execute_result"
    }
   ],
   "source": [
    "len(full_texts),len(tokenss),len(labelss),len(offset_mappings)"
   ]
  },
  {
   "cell_type": "code",
   "execution_count": null,
   "id": "ca3b7e00",
   "metadata": {},
   "outputs": [],
   "source": []
  },
  {
   "cell_type": "code",
   "execution_count": 2584,
   "id": "b7f544a7",
   "metadata": {},
   "outputs": [
    {
     "data": {
      "text/html": [
       "<span class=\"tex2jax_ignore\"><div class=\"entities\" style=\"line-height: 2.5; direction: ltr\">Project: Shopping Website | Interviewer Name:\n",
       "<mark class=\"entity\" style=\"background: #8000ff; padding: 0.45em 0.6em; margin: 0 0.25em; line-height: 1; border-radius: 0.35em;\">\n",
       "    Ganpat\n",
       "    <span style=\"font-size: 0.8em; font-weight: bold; line-height: 1; border-radius: 0.35em; vertical-align: middle; margin-left: 0.5rem\">NAME_STUDENT</span>\n",
       "</mark>\n",
       " \n",
       "<mark class=\"entity\" style=\"background: #8000ff; padding: 0.45em 0.6em; margin: 0 0.25em; line-height: 1; border-radius: 0.35em;\">\n",
       "    Rathod\n",
       "    <span style=\"font-size: 0.8em; font-weight: bold; line-height: 1; border-radius: 0.35em; vertical-align: middle; margin-left: 0.5rem\">NAME_STUDENT</span>\n",
       "</mark>\n",
       " | Interviewee Name:\n",
       "<mark class=\"entity\" style=\"background: #8000ff; padding: 0.45em 0.6em; margin: 0 0.25em; line-height: 1; border-radius: 0.35em;\">\n",
       "    Ganpat\n",
       "    <span style=\"font-size: 0.8em; font-weight: bold; line-height: 1; border-radius: 0.35em; vertical-align: middle; margin-left: 0.5rem\">NAME_STUDENT</span>\n",
       "</mark>\n",
       " \n",
       "<mark class=\"entity\" style=\"background: #8000ff; padding: 0.45em 0.6em; margin: 0 0.25em; line-height: 1; border-radius: 0.35em;\">\n",
       "    Rathod\n",
       "    <span style=\"font-size: 0.8em; font-weight: bold; line-height: 1; border-radius: 0.35em; vertical-align: middle; margin-left: 0.5rem\">NAME_STUDENT</span>\n",
       "</mark>\n",
       " | Interviewer Pin \n",
       "<mark class=\"entity\" style=\"background: #80ffb4; padding: 0.45em 0.6em; margin: 0 0.25em; line-height: 1; border-radius: 0.35em;\">\n",
       "    Iz.:999893751750\n",
       "    <span style=\"font-size: 0.8em; font-weight: bold; line-height: 1; border-radius: 0.35em; vertical-align: middle; margin-left: 0.5rem\">ID_NUM</span>\n",
       "</mark>\n",
       " | Interviewee Pin \n",
       "<mark class=\"entity\" style=\"background: #80ffb4; padding: 0.45em 0.6em; margin: 0 0.25em; line-height: 1; border-radius: 0.35em;\">\n",
       "    Kl.:838901042770\n",
       "    <span style=\"font-size: 0.8em; font-weight: bold; line-height: 1; border-radius: 0.35em; vertical-align: middle; margin-left: 0.5rem\">ID_NUM</span>\n",
       "</mark>\n",
       " | Team:4 | Update aus der Intensivstation bezüglich Patient[in] \n",
       "<mark class=\"entity\" style=\"background: #2adddd; padding: 0.45em 0.6em; margin: 0 0.25em; line-height: 1; border-radius: 0.35em;\">\n",
       "    Icie58\n",
       "    <span style=\"font-size: 0.8em; font-weight: bold; line-height: 1; border-radius: 0.35em; vertical-align: middle; margin-left: 0.5rem\">USERNAME</span>\n",
       "</mark>\n",
       ": Der Zustand des Patienten bleibt kritisch. Weitere Informationen werden an \n",
       "<mark class=\"entity\" style=\"background: #2b7ff6; padding: 0.45em 0.6em; margin: 0 0.25em; line-height: 1; border-radius: 0.35em;\">\n",
       "    Keegan.Kunde@yahoo.com\n",
       "    <span style=\"font-size: 0.8em; font-weight: bold; line-height: 1; border-radius: 0.35em; vertical-align: middle; margin-left: 0.5rem\">EMAIL</span>\n",
       "</mark>\n",
       " gesendet. Unser primärer Ansprechpartner bleibt Future Integration Consultant, \n",
       "<mark class=\"entity\" style=\"background: #8000ff; padding: 0.45em 0.6em; margin: 0 0.25em; line-height: 1; border-radius: 0.35em;\">\n",
       "    Ernest\n",
       "    <span style=\"font-size: 0.8em; font-weight: bold; line-height: 1; border-radius: 0.35em; vertical-align: middle; margin-left: 0.5rem\">NAME_STUDENT</span>\n",
       "</mark>\n",
       " \n",
       "<mark class=\"entity\" style=\"background: #8000ff; padding: 0.45em 0.6em; margin: 0 0.25em; line-height: 1; border-radius: 0.35em;\">\n",
       "    Corkery\n",
       "    <span style=\"font-size: 0.8em; font-weight: bold; line-height: 1; border-radius: 0.35em; vertical-align: middle; margin-left: 0.5rem\">NAME_STUDENT</span>\n",
       "</mark>\n",
       ". Bitte kontaktieren Sie uns für ein detailliertes Update. Date:10/09/2020 | Who? What? When? Where? Why? How? | Who is inspiration for this website? | What is the intensión of creating this website? | When are you going to complete this project? | Where would you create this project? | Why are you interested in creating this website? | How are you managing the product companies? | Jeff Bezos is my inspiration for this website | To make the user to handle it more conveniently | We will try to complete this project by end of this year | We would like to create project at our work shop | To improves some of the mistakes done in current shopping website | We are trying to reach all product companies and collaborating with them | Who are the sponsors for this website? | What are the advance features we would expect from this website? | When did you start the to work on this project? | Where would you launch this website first? | Why do you think that so many people are not interested in online shopping for clothes? | How are you developing this website? | The sponsors are TCS, RIL, Alibaba and ITC are the main sponsors | Well, we decided to add VR feature in this website so that customers can know the exact size and shape of product and we are trying to implement lighting fast delivery | We started this project on may 20 2010 | We want to launch this website first in India | There are so many reasons the main reason is the mismatch in size and quality | We are using some coding people in our team to make its user experience easier |</div></span>"
      ],
      "text/plain": [
       "<IPython.core.display.HTML object>"
      ]
     },
     "metadata": {},
     "output_type": "display_data"
    }
   ],
   "source": [
    "offset_mapping_ = [x for (x,y) in zip(offset_mappings,labelss) if y!=\"O\"]\n",
    "labels_ = [x for x in labelss if x!=\"O\"]\n",
    "visualize(full_texts,offset_mapping_,labels_)"
   ]
  },
  {
   "cell_type": "code",
   "execution_count": 1945,
   "id": "2b778837",
   "metadata": {},
   "outputs": [],
   "source": [
    "offset_mapping = get_offset_mapping(full_text, tokens)\n",
    "offset_mapping_ = [x for (x,y) in zip(offset_mapping,labels) if y!=\"O\"]\n",
    "labels_ = [x for x in labels if x!=\"O\"]"
   ]
  },
  {
   "cell_type": "code",
   "execution_count": 1946,
   "id": "45734071",
   "metadata": {
    "scrolled": true
   },
   "outputs": [
    {
     "data": {
      "text/html": [
       "<span class=\"tex2jax_ignore\"><div class=\"entities\" style=\"line-height: 2.5; direction: ltr\">Project: SPECTACLES<br><br>Interviewer Name: \n",
       "<mark class=\"entity\" style=\"background: #8000ff; padding: 0.45em 0.6em; margin: 0 0.25em; line-height: 1; border-radius: 0.35em;\">\n",
       "    Vijay\n",
       "    <span style=\"font-size: 0.8em; font-weight: bold; line-height: 1; border-radius: 0.35em; vertical-align: middle; margin-left: 0.5rem\">NAME_STUDENT</span>\n",
       "</mark>\n",
       " \n",
       "<mark class=\"entity\" style=\"background: #8000ff; padding: 0.45em 0.6em; margin: 0 0.25em; line-height: 1; border-radius: 0.35em;\">\n",
       "    Shende\n",
       "    <span style=\"font-size: 0.8em; font-weight: bold; line-height: 1; border-radius: 0.35em; vertical-align: middle; margin-left: 0.5rem\">NAME_STUDENT</span>\n",
       "</mark>\n",
       "                                                       Interviewee Name: \n",
       "<mark class=\"entity\" style=\"background: #8000ff; padding: 0.45em 0.6em; margin: 0 0.25em; line-height: 1; border-radius: 0.35em;\">\n",
       "    Vijay\n",
       "    <span style=\"font-size: 0.8em; font-weight: bold; line-height: 1; border-radius: 0.35em; vertical-align: middle; margin-left: 0.5rem\">NAME_STUDENT</span>\n",
       "</mark>\n",
       " \n",
       "<mark class=\"entity\" style=\"background: #8000ff; padding: 0.45em 0.6em; margin: 0 0.25em; line-height: 1; border-radius: 0.35em;\">\n",
       "    Shende\n",
       "    <span style=\"font-size: 0.8em; font-weight: bold; line-height: 1; border-radius: 0.35em; vertical-align: middle; margin-left: 0.5rem\">NAME_STUDENT</span>\n",
       "</mark>\n",
       "<br><br>Interviewer Pin No: \n",
       "<mark class=\"entity\" style=\"background: #80ffb4; padding: 0.45em 0.6em; margin: 0 0.25em; line-height: 1; border-radius: 0.35em;\">\n",
       "    143860010348\n",
       "    <span style=\"font-size: 0.8em; font-weight: bold; line-height: 1; border-radius: 0.35em; vertical-align: middle; margin-left: 0.5rem\">ID_NUM</span>\n",
       "</mark>\n",
       "                                         Interviewee Pin \n",
       "<mark class=\"entity\" style=\"background: #80ffb4; padding: 0.45em 0.6em; margin: 0 0.25em; line-height: 1; border-radius: 0.35em;\">\n",
       "    Ei:556799175487\n",
       "    <span style=\"font-size: 0.8em; font-weight: bold; line-height: 1; border-radius: 0.35em; vertical-align: middle; margin-left: 0.5rem\">ID_NUM</span>\n",
       "</mark>\n",
       "<br><br>Team: 2                                                                                           Date:09.07.2013<br><br>Introduction: (Define the questions)<br><br>• Do you want an advanced way to look at<br><br>stuff around you?<br><br>• Of course. I would love to look at the world in a<br><br>different way.<br><br>Get to know the entire story: (Which questions help to understand the hopes, fears and motivations of  the interviewers)<br><br>• If you wear a modern spectacle, do you<br><br>think it should have an in-built camera?<br><br>• Would you want a voice assistant in your<br><br>specs?<br><br>• In clicking pictures when your hands are busy, I<br><br>would say yes. But if there is a feature like that  then there might be a huge number of people  who might miss use it.<br><br>• Maybe, it might not always be useful but in<br><br>most of the cases it will.<br><br>Conclusion: (Explain what happens with the answers and thank the Interviewee for the discussion)<br><br>• These responses are taken for more<br><br>understanding of the product we are  trying to make.<br><br>• Thank you for your time.<br><br>• It was nothing.<br><br>Interviewer Name: \n",
       "<mark class=\"entity\" style=\"background: #8000ff; padding: 0.45em 0.6em; margin: 0 0.25em; line-height: 1; border-radius: 0.35em;\">\n",
       "    Vijay\n",
       "    <span style=\"font-size: 0.8em; font-weight: bold; line-height: 1; border-radius: 0.35em; vertical-align: middle; margin-left: 0.5rem\">NAME_STUDENT</span>\n",
       "</mark>\n",
       " \n",
       "<mark class=\"entity\" style=\"background: #8000ff; padding: 0.45em 0.6em; margin: 0 0.25em; line-height: 1; border-radius: 0.35em;\">\n",
       "    Shende\n",
       "    <span style=\"font-size: 0.8em; font-weight: bold; line-height: 1; border-radius: 0.35em; vertical-align: middle; margin-left: 0.5rem\">NAME_STUDENT</span>\n",
       "</mark>\n",
       "                                                       Interviewee Name: \n",
       "<mark class=\"entity\" style=\"background: #8000ff; padding: 0.45em 0.6em; margin: 0 0.25em; line-height: 1; border-radius: 0.35em;\">\n",
       "    Emanuela\n",
       "    <span style=\"font-size: 0.8em; font-weight: bold; line-height: 1; border-radius: 0.35em; vertical-align: middle; margin-left: 0.5rem\">NAME_STUDENT</span>\n",
       "</mark>\n",
       "<br><br>Interviewer Pin No: \n",
       "<mark class=\"entity\" style=\"background: #80ffb4; padding: 0.45em 0.6em; margin: 0 0.25em; line-height: 1; border-radius: 0.35em;\">\n",
       "    143860010348\n",
       "    <span style=\"font-size: 0.8em; font-weight: bold; line-height: 1; border-radius: 0.35em; vertical-align: middle; margin-left: 0.5rem\">ID_NUM</span>\n",
       "</mark>\n",
       "                                           Interviewee Pin \n",
       "<mark class=\"entity\" style=\"background: #80ffb4; padding: 0.45em 0.6em; margin: 0 0.25em; line-height: 1; border-radius: 0.35em;\">\n",
       "    Un:705491035775\n",
       "    <span style=\"font-size: 0.8em; font-weight: bold; line-height: 1; border-radius: 0.35em; vertical-align: middle; margin-left: 0.5rem\">ID_NUM</span>\n",
       "</mark>\n",
       "<br><br>Team: 2                                                                                           Date:09.07.2013<br><br>Introduction: (Define the questions)<br><br>1. Can you introduce about yourself?<br><br>2. What motivates you?<br><br>• I’m \n",
       "<mark class=\"entity\" style=\"background: #8000ff; padding: 0.45em 0.6em; margin: 0 0.25em; line-height: 1; border-radius: 0.35em;\">\n",
       "    Emanuela\n",
       "    <span style=\"font-size: 0.8em; font-weight: bold; line-height: 1; border-radius: 0.35em; vertical-align: middle; margin-left: 0.5rem\">NAME_STUDENT</span>\n",
       "</mark>\n",
       ", an engineering student<br><br>graduating from Finolex Academy of Management and Technology. I’m an  enthusiastic and inquisitive person.<br><br>• The urge to be part of greater<br><br>innovations that’ll make life easier and  provide modern solutions for modern  problems.<br><br>Get to know the entire story: (Which questions help to understand the hopes, fears and motivations of  the interviewers)<br><br>1. Would you want your spectacles to<br><br>project the screen you are watching, on  a table or would you rather look at the  screen in the lens of the spectacles?<br><br>2. Do you think a spectacle with a voice<br><br>assistant is a good idea?<br><br>• I guess it would be a great idea to look at the<br><br>screen on your lens instead of the table  because it would be unique and private.<br><br>• It definitely is as it would do your job and all<br><br>you will be having is the specs.<br><br>Conclusion: (Explain what happens with the answers and thank the Interviewee for the discussion)<br><br>• With you answers we will be able to<br><br>design a better and modern spectacle  which will help the people in many  ways.<br><br>• Thank you for sparing me for so long.<br><br>• Glad to help.<br><br>Interviewer Name: \n",
       "<mark class=\"entity\" style=\"background: #8000ff; padding: 0.45em 0.6em; margin: 0 0.25em; line-height: 1; border-radius: 0.35em;\">\n",
       "    Vijay\n",
       "    <span style=\"font-size: 0.8em; font-weight: bold; line-height: 1; border-radius: 0.35em; vertical-align: middle; margin-left: 0.5rem\">NAME_STUDENT</span>\n",
       "</mark>\n",
       " \n",
       "<mark class=\"entity\" style=\"background: #8000ff; padding: 0.45em 0.6em; margin: 0 0.25em; line-height: 1; border-radius: 0.35em;\">\n",
       "    Shende\n",
       "    <span style=\"font-size: 0.8em; font-weight: bold; line-height: 1; border-radius: 0.35em; vertical-align: middle; margin-left: 0.5rem\">NAME_STUDENT</span>\n",
       "</mark>\n",
       "                                                       Interviewee Name: \n",
       "<mark class=\"entity\" style=\"background: #8000ff; padding: 0.45em 0.6em; margin: 0 0.25em; line-height: 1; border-radius: 0.35em;\">\n",
       "    Emanuela\n",
       "    <span style=\"font-size: 0.8em; font-weight: bold; line-height: 1; border-radius: 0.35em; vertical-align: middle; margin-left: 0.5rem\">NAME_STUDENT</span>\n",
       "</mark>\n",
       "<br><br>Interviewer Pin No: \n",
       "<mark class=\"entity\" style=\"background: #80ffb4; padding: 0.45em 0.6em; margin: 0 0.25em; line-height: 1; border-radius: 0.35em;\">\n",
       "    143860010348\n",
       "    <span style=\"font-size: 0.8em; font-weight: bold; line-height: 1; border-radius: 0.35em; vertical-align: middle; margin-left: 0.5rem\">ID_NUM</span>\n",
       "</mark>\n",
       "                                           Interviewee Pin \n",
       "<mark class=\"entity\" style=\"background: #80ffb4; padding: 0.45em 0.6em; margin: 0 0.25em; line-height: 1; border-radius: 0.35em;\">\n",
       "    Kh:360595695159\n",
       "    <span style=\"font-size: 0.8em; font-weight: bold; line-height: 1; border-radius: 0.35em; vertical-align: middle; margin-left: 0.5rem\">ID_NUM</span>\n",
       "</mark>\n",
       "<br><br>Team: 2                                                                                           Date:09.07.2013<br><br>Introduction: (Define the questions)<br><br>• Do you want an advanced way to look at<br><br>stuff around you?<br><br>• Yes, it sounds interesting.<br><br>Get to know the entire story: (Which questions help to understand the hopes, fears and motivations of  the interviewers)<br><br>• Everything you look at will turn into an<br><br>animation. You will be looking at an  animated world. How does this sound to  you?<br><br>• What if you could have that experience<br><br>by just wearing a spectacle? Would you  be willing to try it?<br><br>• It sounds really interesting. It would feel like<br><br>you are in a game world or an anime.<br><br>• I would totally look forward to it.<br><br>Conclusion: (Explain what happens with the answers and thank the Interviewee for the discussion)<br><br>• These responses are taken for more<br><br>understanding of the product we are  trying to make.<br><br>• Thank you for your time.<br><br>• It was nothing.<br><br>Interviewer Name: \n",
       "<mark class=\"entity\" style=\"background: #8000ff; padding: 0.45em 0.6em; margin: 0 0.25em; line-height: 1; border-radius: 0.35em;\">\n",
       "    Vijay\n",
       "    <span style=\"font-size: 0.8em; font-weight: bold; line-height: 1; border-radius: 0.35em; vertical-align: middle; margin-left: 0.5rem\">NAME_STUDENT</span>\n",
       "</mark>\n",
       " \n",
       "<mark class=\"entity\" style=\"background: #8000ff; padding: 0.45em 0.6em; margin: 0 0.25em; line-height: 1; border-radius: 0.35em;\">\n",
       "    Shende\n",
       "    <span style=\"font-size: 0.8em; font-weight: bold; line-height: 1; border-radius: 0.35em; vertical-align: middle; margin-left: 0.5rem\">NAME_STUDENT</span>\n",
       "</mark>\n",
       "                                                       Interviewee Name: \n",
       "<mark class=\"entity\" style=\"background: #8000ff; padding: 0.45em 0.6em; margin: 0 0.25em; line-height: 1; border-radius: 0.35em;\">\n",
       "    Charlotte\n",
       "    <span style=\"font-size: 0.8em; font-weight: bold; line-height: 1; border-radius: 0.35em; vertical-align: middle; margin-left: 0.5rem\">NAME_STUDENT</span>\n",
       "</mark>\n",
       " \n",
       "<mark class=\"entity\" style=\"background: #8000ff; padding: 0.45em 0.6em; margin: 0 0.25em; line-height: 1; border-radius: 0.35em;\">\n",
       "    Molteni\n",
       "    <span style=\"font-size: 0.8em; font-weight: bold; line-height: 1; border-radius: 0.35em; vertical-align: middle; margin-left: 0.5rem\">NAME_STUDENT</span>\n",
       "</mark>\n",
       "<br><br>Interviewer Pin No: \n",
       "<mark class=\"entity\" style=\"background: #80ffb4; padding: 0.45em 0.6em; margin: 0 0.25em; line-height: 1; border-radius: 0.35em;\">\n",
       "    143860010348\n",
       "    <span style=\"font-size: 0.8em; font-weight: bold; line-height: 1; border-radius: 0.35em; vertical-align: middle; margin-left: 0.5rem\">ID_NUM</span>\n",
       "</mark>\n",
       "                                          Interviewee Pin \n",
       "<mark class=\"entity\" style=\"background: #80ffb4; padding: 0.45em 0.6em; margin: 0 0.25em; line-height: 1; border-radius: 0.35em;\">\n",
       "    Kh:217952887271\n",
       "    <span style=\"font-size: 0.8em; font-weight: bold; line-height: 1; border-radius: 0.35em; vertical-align: middle; margin-left: 0.5rem\">ID_NUM</span>\n",
       "</mark>\n",
       "<br><br>Team: 2                                                                                           Date:09.07.2013<br><br>Introduction: (Define the questions)<br><br>• Do you want an advanced way to look at<br><br>stuff around you?<br><br>• I guess it would be cool.<br><br>Get to know the entire story: (Which questions help to understand the hopes, fears and motivations of  the interviewers)<br><br>• If you wear a modern spectacle, do you<br><br>think it should have an in-built camera?<br><br>• Would you want a voice assistant in your<br><br>specs?<br><br>• Would you like to look at the stuff<br><br>around you in an animated form?<br><br>• I think there will be a lot of people misusing it.<br><br>It would be better if it made a sound every  time we click a picture of something, in that  way the people around you will be aware.<br><br>• It will be really helpful in many ways.  • That sounds pretty interesting. I am down to<br><br>look at the world differently.<br><br>Conclusion: (Explain what happens with the answers and thank the Interviewee for the discussion)<br><br>• These responses are taken for more<br><br>understanding of the product we are  trying to make.<br><br>• Thank you for your time.<br><br>• Glad that I could be of some help.<br><br></div></span>"
      ],
      "text/plain": [
       "<IPython.core.display.HTML object>"
      ]
     },
     "metadata": {},
     "output_type": "display_data"
    }
   ],
   "source": [
    "visualize(full_text,offset_mapping_,labels_)"
   ]
  },
  {
   "cell_type": "code",
   "execution_count": 1947,
   "id": "8038830e",
   "metadata": {},
   "outputs": [],
   "source": [
    "# k,en,o = generate_ent(full_text_ds,labels,offset_mapping_init)\n",
    "# k,en,o"
   ]
  },
  {
   "cell_type": "code",
   "execution_count": 1948,
   "id": "72ea29a9",
   "metadata": {},
   "outputs": [
    {
     "name": "stdout",
     "output_type": "stream",
     "text": [
      "Project: SPECTACLES | Interviewer Name: Vijay Shende Interviewee Name: Vijay Shende | Interviewer Pin No: 143860010348 Interviewee Pin Ei:556799175487 | Team: 2 Date:09.07.2013 | Introduction: (Define the questions) | • Do you want an advanced way to look at | stuff around you? | • Of course. I would love to look at the world in a | different way. | Get to know the entire story: (Which questions help to understand the hopes, fears and motivations of the interviewers) | • If you wear a modern spectacle, do you | think it should have an in-built camera? | • Would you want a voice assistant in your | specs? | • In clicking pictures when your hands are busy, I | would say yes. But if there is a feature like that then there might be a huge number of people who might miss use it. | • Maybe, it might not always be useful but in | most of the cases it will. | Conclusion: (Explain what happens with the answers and thank the Interviewee for the discussion) | • These responses are taken for more | understanding of the product we are trying to make. | • Thank you for your time. | • It was nothing. | Interviewer Name: Vijay Shende Interviewee Name: Emanuela | Interviewer Pin No: 143860010348 Interviewee Pin Un:705491035775 | Team: 2 Date:09.07.2013 | Introduction: (Define the questions) | 1. Can you introduce about yourself? | 2. What motivates you? | • I’m Emanuela, an engineering student | graduating from Finolex Academy of Management and Technology. I’m an enthusiastic and inquisitive person. | • The urge to be part of greater | innovations that’ll make life easier and provide modern solutions for modern problems. | Get to know the entire story: (Which questions help to understand the hopes, fears and motivations of the interviewers) | 1. Would you want your spectacles to | project the screen you are watching, on a table or would you rather look at the screen in the lens of the spectacles? | 2. Do you think a spectacle with a voice | assistant is a good idea? | • I guess it would be a great idea to look at the | screen on your lens instead of the table because it would be unique and private. | • It definitely is as it would do your job and all | you will be having is the specs. | Conclusion: (Explain what happens with the answers and thank the Interviewee for the discussion) | • With you answers we will be able to | design a better and modern spectacle which will help the people in many ways. | • Thank you for sparing me for so long. | • Glad to help. | Interviewer Name: Vijay Shende Interviewee Name: Emanuela | Interviewer Pin No: 143860010348 Interviewee Pin Kh:360595695159 | Team: 2 Date:09.07.2013 | Introduction: (Define the questions) | • Do you want an advanced way to look at | stuff around you? | • Yes, it sounds interesting. | Get to know the entire story: (Which questions help to understand the hopes, fears and motivations of the interviewers) | • Everything you look at will turn into an | animation. You will be looking at an animated world. How does this sound to you? | • What if you could have that experience | by just wearing a spectacle? Would you be willing to try it? | • It sounds really interesting. It would feel like | you are in a game world or an anime. | • I would totally look forward to it. | Conclusion: (Explain what happens with the answers and thank the Interviewee for the discussion) | • These responses are taken for more | understanding of the product we are trying to make. | • Thank you for your time. | • It was nothing. | Interviewer Name: Vijay Shende Interviewee Name: Charlotte Molteni | Interviewer Pin No: 143860010348 Interviewee Pin Kh:217952887271 | Team: 2 Date:09.07.2013 | Introduction: (Define the questions) | • Do you want an advanced way to look at | stuff around you? | • I guess it would be cool. | Get to know the entire story: (Which questions help to understand the hopes, fears and motivations of the interviewers) | • If you wear a modern spectacle, do you | think it should have an in-built camera? | • Would you want a voice assistant in your | specs? | • Would you like to look at the stuff | around you in an animated form? | • I think there will be a lot of people misusing it. | It would be better if it made a sound every time we click a picture of something, in that way the people around you will be aware. | • It will be really helpful in many ways. • That sounds pretty interesting. I am down to | look at the world differently. | Conclusion: (Explain what happens with the answers and thank the Interviewee for the discussion) | • These responses are taken for more | understanding of the product we are trying to make. | • Thank you for your time. | • Glad that I could be of some help. |\n"
     ]
    }
   ],
   "source": [
    "print(full_text_ds)"
   ]
  },
  {
   "cell_type": "code",
   "execution_count": 2615,
   "id": "11b11a29",
   "metadata": {},
   "outputs": [
    {
     "name": "stdout",
     "output_type": "stream",
     "text": [
      "Environment | • Evening time | • Wind is blowing | • Birds are charming | • Sun is looking red | • Sky is blue and red | • Dogs are running here and there | Interaction | • My group members to band | • Students to band | • Teacher to band | • Worker to band | • Some students are studying late night in the room so more students facing light reflect . | Objects | • Bluetooth connection | • An set of microphones | • Soft cotton Band | • With eye band | • Smartphone | • Flexible band | Activities • Some student is working on laptop. | • Student are going here and there. | • Some students are studying. | • Lift is going up and down with the students. | • Some students are riding on bikes. | • Some people are walking | Users • Students | • Workers | • Personal uses | • Old People | • Anybody can use | Kanali Foundation Summary Group id : GB04HOKU62136491888841 Date : 2nd August 2020 Version : Domain Name : VERSATILE BAND |\n"
     ]
    }
   ],
   "source": [
    "print(full_text_ds)"
   ]
  },
  {
   "cell_type": "code",
   "execution_count": 2604,
   "id": "597d4555",
   "metadata": {},
   "outputs": [],
   "source": [
    "# labels"
   ]
  },
  {
   "cell_type": "code",
   "execution_count": 2616,
   "id": "13bb4b5a",
   "metadata": {},
   "outputs": [],
   "source": [
    "offset_mapping = get_offset_mapping(full_text_ds, tokens_ds)\n",
    "offset_mapping_ = [x for (x,y) in zip(offset_mapping_init,labels_ds) if y!=\"O\"]\n",
    "labels_ = [x for x in labels_ds if x!=\"O\"]"
   ]
  },
  {
   "cell_type": "code",
   "execution_count": 2617,
   "id": "f33c0baf",
   "metadata": {
    "scrolled": false
   },
   "outputs": [
    {
     "data": {
      "text/html": [
       "<span class=\"tex2jax_ignore\"><div class=\"entities\" style=\"line-height: 2.5; direction: ltr\">Environment | • Evening time | • Wind is blowing | • Birds are charming | • Sun is looking red | • Sky is blue and red | • Dogs are running here and there | Interaction | • My group members to band | • Students to band | • Teacher to band | • Worker to band | • Some students are studying late night in the room so more students facing light reflect . | Objects | • Bluetooth connection | • An set of microphones | • Soft cotton Band | • With eye band | • Smartphone | • Flexible band | Activities • Some student is working on laptop. | • Student are going here and there. | • Some students are studying. | • Lift is going up and down with the students. | • Some students are riding on bikes. | • Some people are walking | Users • Students | • Workers | • Personal uses | • Old People | • Anybody can use | Kanali Foundation Summary Group id : \n",
       "<mark class=\"entity\" style=\"background: #80ffb4; padding: 0.45em 0.6em; margin: 0 0.25em; line-height: 1; border-radius: 0.35em;\">\n",
       "    GB04HO\n",
       "    <span style=\"font-size: 0.8em; font-weight: bold; line-height: 1; border-radius: 0.35em; vertical-align: middle; margin-left: 0.5rem\">ID_NUM</span>\n",
       "</mark>\n",
       "KU62136491888841 Date : 2nd August 2020 Version : Domain Name : VERSATILE BAND |</div></span>"
      ],
      "text/plain": [
       "<IPython.core.display.HTML object>"
      ]
     },
     "metadata": {},
     "output_type": "display_data"
    }
   ],
   "source": [
    "visualize(full_text_ds,offset_mapping_,labels_)"
   ]
  },
  {
   "cell_type": "code",
   "execution_count": null,
   "id": "1b637d4f",
   "metadata": {},
   "outputs": [],
   "source": [
    "(full_text_ds,tokens_ds,labels_ds,offset_mapping_init,\n",
    "                                                   full_text,tokens,labels,offset_mapping)"
   ]
  },
  {
   "cell_type": "code",
   "execution_count": 2472,
   "id": "c6aa711c",
   "metadata": {},
   "outputs": [
    {
     "data": {
      "text/plain": [
       "'Mr. Moen, Ihre Konsultation wurde erfolgreich für den 21/02/1984 gebucht. Die Gebühr wird Ihrem Konto Checking Account belastet.'"
      ]
     },
     "execution_count": 2472,
     "metadata": {},
     "output_type": "execute_result"
    }
   ],
   "source": [
    "full_text"
   ]
  },
  {
   "cell_type": "code",
   "execution_count": null,
   "id": "52ef5a06",
   "metadata": {},
   "outputs": [],
   "source": []
  },
  {
   "cell_type": "code",
   "execution_count": 2473,
   "id": "d9c8dd4d",
   "metadata": {},
   "outputs": [
    {
     "data": {
      "text/plain": [
       "([39, 29, 27, 54, 18, 9, 15, 34, 37, 51], 9)"
      ]
     },
     "execution_count": 2473,
     "metadata": {},
     "output_type": "execute_result"
    }
   ],
   "source": [
    "s = full_text_ds.split('|')\n",
    "prob_dist = custom_distribution(len(s))\n",
    "id_ = random.choices(np.arange(len(s)),k=1,weights = prob_dist)[0]\n",
    "idx = [len(s[i]) for i in range(id_+1)]\n",
    "idx = sum(idx)\n",
    "new_text = full_text_ds[:idx+id_+1] +\" \"+ full_text + full_text_ds[idx+id_+1:]\n",
    "idx"
   ]
  },
  {
   "cell_type": "code",
   "execution_count": 2474,
   "id": "6741aa24",
   "metadata": {},
   "outputs": [
    {
     "data": {
      "text/plain": [
       "313"
      ]
     },
     "execution_count": 2474,
     "metadata": {},
     "output_type": "execute_result"
    }
   ],
   "source": []
  },
  {
   "cell_type": "code",
   "execution_count": 2475,
   "id": "62ea9d18",
   "metadata": {},
   "outputs": [
    {
     "data": {
      "text/plain": [
       "' • what are the features in Life cycle assesment-- '"
      ]
     },
     "execution_count": 2475,
     "metadata": {},
     "output_type": "execute_result"
    }
   ],
   "source": [
    "s[id_]"
   ]
  },
  {
   "cell_type": "code",
   "execution_count": 2476,
   "id": "1963d646",
   "metadata": {},
   "outputs": [
    {
     "data": {
      "text/plain": [
       "'Design thinking and product innovation | (Analysis-question-builder) | Madison Tate 034626995785 | Life cycle assessment manufacture marketing Handling | update operation | workout | app structure | logo free result Design products | Define the questions: Data sources: | • what are the features in Life cycle assesment-- |'"
      ]
     },
     "execution_count": 2476,
     "metadata": {},
     "output_type": "execute_result"
    }
   ],
   "source": [
    "full_text_ds[:idx+id_+1]"
   ]
  },
  {
   "cell_type": "code",
   "execution_count": 2477,
   "id": "379ced33",
   "metadata": {},
   "outputs": [
    {
     "data": {
      "text/plain": [
       "(313, 9)"
      ]
     },
     "execution_count": 2477,
     "metadata": {},
     "output_type": "execute_result"
    }
   ],
   "source": [
    "idx,id_"
   ]
  },
  {
   "cell_type": "code",
   "execution_count": 2478,
   "id": "f807d8f2",
   "metadata": {},
   "outputs": [
    {
     "data": {
      "text/plain": [
       "443"
      ]
     },
     "execution_count": 2478,
     "metadata": {},
     "output_type": "execute_result"
    }
   ],
   "source": [
    "ifc = len(full_text_ds[:idx+1] +\" \"+ full_text)\n",
    "ifc"
   ]
  },
  {
   "cell_type": "code",
   "execution_count": 2479,
   "id": "54dbb69c",
   "metadata": {},
   "outputs": [],
   "source": []
  },
  {
   "cell_type": "code",
   "execution_count": 2480,
   "id": "96f2097f",
   "metadata": {},
   "outputs": [
    {
     "name": "stdout",
     "output_type": "stream",
     "text": [
      "Design thinking and product innovation | (Analysis-question-builder) | Madison Tate 034626995785 | Life cycle assessment manufacture marketing Handling | update operation | workout | app structure | logo free result Design products | Define the questions: Data sources: | • what are the features in Life cycle assesment-- | Mr. Moen, Ihre Konsultation wurde erfolgreich für den 21/02/1984 gebucht. Die Gebühr wird Ihrem Konto Checking Account belastet. the app? App should consists the | • How much data it may most comfortable features | consume for each updation? for the users and should be user friendly and it | should be prepared with | advanced software | • How can people attract the app? Design-- • Why should people choose this App logo should be bit clear | app? about the intension of the app and discription of the | app should provide all the | answers for the doubts of users | • Can we operate the app without Result: | prior experience? Most of the people are lazy | • Why this app developed? of doing workout daily and • Is this fake or true? very intersted in mobiles | so by using mobiles we can compled our walking | excercise with rewards |\n"
     ]
    }
   ],
   "source": [
    "print(new_text)"
   ]
  },
  {
   "cell_type": "code",
   "execution_count": null,
   "id": "96c3a04d",
   "metadata": {},
   "outputs": [],
   "source": []
  },
  {
   "cell_type": "code",
   "execution_count": 2481,
   "id": "efcc4716",
   "metadata": {},
   "outputs": [
    {
     "data": {
      "text/plain": [
       "67"
      ]
     },
     "execution_count": 2481,
     "metadata": {},
     "output_type": "execute_result"
    }
   ],
   "source": [
    "t_idx = [i for i,x in enumerate(offset_mapping_init) if x[1]==idx+id_+1][-1]+1\n",
    "t_idx"
   ]
  },
  {
   "cell_type": "code",
   "execution_count": 2482,
   "id": "e4a5897d",
   "metadata": {
    "scrolled": true
   },
   "outputs": [
    {
     "data": {
      "text/plain": [
       "['Design',\n",
       " 'thinking',\n",
       " 'and',\n",
       " 'product',\n",
       " 'innovation',\n",
       " '|',\n",
       " '(',\n",
       " 'Analysis',\n",
       " '-',\n",
       " 'question',\n",
       " '-',\n",
       " 'builder',\n",
       " ')',\n",
       " '|',\n",
       " 'Madison',\n",
       " 'Tate',\n",
       " '034626995785',\n",
       " '|',\n",
       " 'Life',\n",
       " 'cycle',\n",
       " 'assessment',\n",
       " '',\n",
       " 'manufacture',\n",
       " '',\n",
       " 'marketing',\n",
       " '',\n",
       " 'Handling',\n",
       " '|',\n",
       " 'update',\n",
       " '',\n",
       " 'operation',\n",
       " '|',\n",
       " 'workout',\n",
       " '|',\n",
       " 'app',\n",
       " 'structure',\n",
       " '|',\n",
       " 'logo',\n",
       " '',\n",
       " 'free',\n",
       " '',\n",
       " 'result',\n",
       " '',\n",
       " 'Design',\n",
       " '',\n",
       " 'products',\n",
       " '|',\n",
       " 'Define',\n",
       " 'the',\n",
       " 'questions',\n",
       " ':',\n",
       " '',\n",
       " 'Data',\n",
       " 'sources',\n",
       " ':',\n",
       " '|',\n",
       " '•',\n",
       " 'what',\n",
       " 'are',\n",
       " 'the',\n",
       " 'features',\n",
       " 'in',\n",
       " '',\n",
       " 'Life',\n",
       " 'cycle',\n",
       " 'assesment--',\n",
       " '|']"
      ]
     },
     "execution_count": 2482,
     "metadata": {},
     "output_type": "execute_result"
    }
   ],
   "source": [
    "tokens_ds[:t_idx]"
   ]
  },
  {
   "cell_type": "code",
   "execution_count": 2483,
   "id": "060609fd",
   "metadata": {},
   "outputs": [],
   "source": [
    "tokenss = tokens_ds[:t_idx]+tokens+tokens_ds[t_idx:]\n",
    "labelss = labels_ds[:t_idx]+labels+labels_ds[t_idx:]"
   ]
  },
  {
   "cell_type": "code",
   "execution_count": 2484,
   "id": "72d28397",
   "metadata": {},
   "outputs": [
    {
     "data": {
      "text/plain": [
       "323"
      ]
     },
     "execution_count": 2484,
     "metadata": {},
     "output_type": "execute_result"
    }
   ],
   "source": [
    "v = offset_mapping_init[:t_idx][-1][1]\n",
    "new_offset_mappings = [(x[0]+v+1,x[1]+v+1) for x in offset_mapping]\n",
    "v1 = new_offset_mappings[-1][1]\n",
    "vx = v1-v\n",
    "old_offset_mapping =  [(x[0]+vx,x[1]+vx) for x in offset_mapping_init[t_idx:]]\n",
    "offset_mappingvf = offset_mapping_init[:t_idx]+new_offset_mappings+old_offset_mapping"
   ]
  },
  {
   "cell_type": "code",
   "execution_count": 2494,
   "id": "fdc405a5",
   "metadata": {},
   "outputs": [],
   "source": []
  },
  {
   "cell_type": "code",
   "execution_count": 2495,
   "id": "d37d277f",
   "metadata": {},
   "outputs": [],
   "source": [
    "# offset_mapping = get_offset_mapping(full_text_ds, tokens_ds)\n",
    "offset_mapping_ = [x for (x,y) in zip(offset_mappingvf,labelss) if y!=\"O\"]\n",
    "labels_ = [x for x in labelss if x!=\"O\"]"
   ]
  },
  {
   "cell_type": "code",
   "execution_count": 2496,
   "id": "3b1e8188",
   "metadata": {},
   "outputs": [
    {
     "data": {
      "text/html": [
       "<span class=\"tex2jax_ignore\"><div class=\"entities\" style=\"line-height: 2.5; direction: ltr\">Design thinking and product innovation | (Analysis-question-builder) | \n",
       "<mark class=\"entity\" style=\"background: #8000ff; padding: 0.45em 0.6em; margin: 0 0.25em; line-height: 1; border-radius: 0.35em;\">\n",
       "    Madison\n",
       "    <span style=\"font-size: 0.8em; font-weight: bold; line-height: 1; border-radius: 0.35em; vertical-align: middle; margin-left: 0.5rem\">NAME_STUDENT</span>\n",
       "</mark>\n",
       " \n",
       "<mark class=\"entity\" style=\"background: #8000ff; padding: 0.45em 0.6em; margin: 0 0.25em; line-height: 1; border-radius: 0.35em;\">\n",
       "    Tate\n",
       "    <span style=\"font-size: 0.8em; font-weight: bold; line-height: 1; border-radius: 0.35em; vertical-align: middle; margin-left: 0.5rem\">NAME_STUDENT</span>\n",
       "</mark>\n",
       " \n",
       "<mark class=\"entity\" style=\"background: #80ffb4; padding: 0.45em 0.6em; margin: 0 0.25em; line-height: 1; border-radius: 0.35em;\">\n",
       "    034626995785\n",
       "    <span style=\"font-size: 0.8em; font-weight: bold; line-height: 1; border-radius: 0.35em; vertical-align: middle; margin-left: 0.5rem\">ID_NUM</span>\n",
       "</mark>\n",
       " | Life cycle assessment manufacture marketing Handling | update operation | workout | app structure | logo free result Design products | Define the questions: Data sources: | • what are the features in Life cycle assesment-- | Mr. \n",
       "<mark class=\"entity\" style=\"background: #8000ff; padding: 0.45em 0.6em; margin: 0 0.25em; line-height: 1; border-radius: 0.35em;\">\n",
       "    Moen\n",
       "    <span style=\"font-size: 0.8em; font-weight: bold; line-height: 1; border-radius: 0.35em; vertical-align: middle; margin-left: 0.5rem\">NAME_STUDENT</span>\n",
       "</mark>\n",
       ", Ihre Konsultation wurde erfolgreich für den 21/02/1984 gebucht. Die Gebühr wird Ihrem Konto Checking Account belastet. the app? App should consists the | • How much data it may most comfortable features | consume for each updation? for the users and should be user friendly and it | should be prepared with | advanced software | • How can people attract the app? Design-- • Why should people choose this App logo should be bit clear | app? about the intension of the app and discription of the | app should provide all the | answers for the doubts of users | • Can we operate the app without Result: | prior experience? Most of the people are lazy | • Why this app developed? of doing workout daily and • Is this fake or true? very intersted in mobiles | so by using mobiles we can compled our walking | excercise with rewards |</div></span>"
      ],
      "text/plain": [
       "<IPython.core.display.HTML object>"
      ]
     },
     "metadata": {},
     "output_type": "display_data"
    }
   ],
   "source": [
    "visualize(new_text,offset_mapping_,labels_)"
   ]
  },
  {
   "cell_type": "code",
   "execution_count": null,
   "id": "4de1fefe",
   "metadata": {},
   "outputs": [],
   "source": []
  }
 ],
 "metadata": {
  "kernelspec": {
   "display_name": "Python 3 (ipykernel)",
   "language": "python",
   "name": "python3"
  },
  "language_info": {
   "codemirror_mode": {
    "name": "ipython",
    "version": 3
   },
   "file_extension": ".py",
   "mimetype": "text/x-python",
   "name": "python",
   "nbconvert_exporter": "python",
   "pygments_lexer": "ipython3",
   "version": "3.10.9"
  }
 },
 "nbformat": 4,
 "nbformat_minor": 5
}

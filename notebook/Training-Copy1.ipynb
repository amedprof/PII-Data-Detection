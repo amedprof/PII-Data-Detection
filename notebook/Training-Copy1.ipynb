{
 "cells": [
  {
   "cell_type": "code",
   "execution_count": 1,
   "id": "7b47bb83",
   "metadata": {},
   "outputs": [
    {
     "name": "stdout",
     "output_type": "stream",
     "text": [
      "/workspace/Script/NLP/Shovel Ready/src\n"
     ]
    }
   ],
   "source": [
    "cd ../src"
   ]
  },
  {
   "cell_type": "code",
   "execution_count": 2,
   "id": "e51368f3",
   "metadata": {},
   "outputs": [],
   "source": [
    "import os\n",
    "import gc\n",
    "import json\n",
    "import time\n",
    "import torch\n",
    "import joblib\n",
    "import random\n",
    "import numpy as np\n",
    "import pandas as pd\n",
    "from tqdm.auto import tqdm\n",
    "from pathlib import Path\n",
    "import plotly.express as px\n",
    "import matplotlib.pyplot as plt\n",
    "\n",
    "pd.set_option('display.max_rows', 500)\n",
    "pd.set_option('display.max_columns', 500)\n",
    "pd.set_option('display.width', 1000)\n",
    "pd.set_option('display.float_format', lambda x: '%.4f' % x)\n",
    "\n",
    "import warnings\n",
    "warnings.filterwarnings(\"ignore\")"
   ]
  },
  {
   "cell_type": "code",
   "execution_count": 3,
   "id": "79913e1d",
   "metadata": {},
   "outputs": [
    {
     "name": "stdout",
     "output_type": "stream",
     "text": [
      "env: TOKENIZERS_PARALLELISM=true\n"
     ]
    }
   ],
   "source": [
    "from transformers import DataCollatorWithPadding\n",
    "from transformers import AutoTokenizer, AutoModel, AutoConfig\n",
    "\n",
    "%env TOKENIZERS_PARALLELISM = true"
   ]
  },
  {
   "cell_type": "code",
   "execution_count": 4,
   "id": "6bcc282d",
   "metadata": {},
   "outputs": [
    {
     "data": {
      "text/plain": [
       "'2023-08-22'"
      ]
     },
     "execution_count": 4,
     "metadata": {},
     "output_type": "execute_result"
    }
   ],
   "source": [
    "from datetime import date\n",
    "\n",
    "TODAY = date.today()\n",
    "TODAY = TODAY.strftime('%Y-%m-%d')\n",
    "TODAY"
   ]
  },
  {
   "cell_type": "code",
   "execution_count": 5,
   "id": "ebc312c3",
   "metadata": {},
   "outputs": [],
   "source": [
    "def get_version(start=0):\n",
    "    if not hasattr(get_version, 'counter'):\n",
    "        get_version.counter = start\n",
    "    value = get_version.counter\n",
    "    get_version.counter += 1\n",
    "    return value"
   ]
  },
  {
   "cell_type": "code",
   "execution_count": 6,
   "id": "4fdeefeb",
   "metadata": {},
   "outputs": [],
   "source": [
    "from train_utils import kfold"
   ]
  },
  {
   "cell_type": "code",
   "execution_count": 7,
   "id": "056671ff",
   "metadata": {},
   "outputs": [
    {
     "name": "stdout",
     "output_type": "stream",
     "text": [
      "Tue Aug 22 11:22:50 2023       \n",
      "+-----------------------------------------------------------------------------+\n",
      "| NVIDIA-SMI 470.199.02   Driver Version: 470.199.02   CUDA Version: 11.7     |\n",
      "|-------------------------------+----------------------+----------------------+\n",
      "| GPU  Name        Persistence-M| Bus-Id        Disp.A | Volatile Uncorr. ECC |\n",
      "| Fan  Temp  Perf  Pwr:Usage/Cap|         Memory-Usage | GPU-Util  Compute M. |\n",
      "|                               |                      |               MIG M. |\n",
      "|===============================+======================+======================|\n",
      "|   0  NVIDIA RTX A6000    Off  | 00000000:2D:00.0  On |                  Off |\n",
      "| 67%   84C    P2   240W / 300W |  12735MiB / 48651MiB |     63%      Default |\n",
      "|                               |                      |                  N/A |\n",
      "+-------------------------------+----------------------+----------------------+\n",
      "|   1  NVIDIA RTX A6000    Off  | 00000000:99:00.0 Off |                  Off |\n",
      "| 30%   43C    P8    21W / 300W |     13MiB / 48685MiB |      0%      Default |\n",
      "|                               |                      |                  N/A |\n",
      "+-------------------------------+----------------------+----------------------+\n",
      "                                                                               \n",
      "+-----------------------------------------------------------------------------+\n",
      "| Processes:                                                                  |\n",
      "|  GPU   GI   CI        PID   Type   Process name                  GPU Memory |\n",
      "|        ID   ID                                                   Usage      |\n",
      "|=============================================================================|\n",
      "|    0   N/A  N/A      2507      G   /opt/conda/bin/python             299MiB |\n",
      "|    1   N/A  N/A      2507      G   /opt/conda/bin/python               4MiB |\n",
      "+-----------------------------------------------------------------------------+\n"
     ]
    }
   ],
   "source": [
    "!nvidia-smi"
   ]
  },
  {
   "cell_type": "code",
   "execution_count": 8,
   "id": "9a35a832",
   "metadata": {},
   "outputs": [
    {
     "data": {
      "text/plain": [
       "['persuade_corpus.csv']"
      ]
     },
     "execution_count": 8,
     "metadata": {},
     "output_type": "execute_result"
    }
   ],
   "source": [
    "DATA_PATH = Path(r\"/database/kaggle/Shovel Ready/data\")\n",
    "CHECKPOINT_PATH = Path(r\"/database/kaggle/Commontlit/checkpoint\")\n",
    "\n",
    "os.listdir(DATA_PATH)"
   ]
  },
  {
   "cell_type": "markdown",
   "id": "7b8dc498",
   "metadata": {},
   "source": [
    "# Data"
   ]
  },
  {
   "cell_type": "code",
   "execution_count": 9,
   "id": "08705bb0",
   "metadata": {},
   "outputs": [
    {
     "data": {
      "text/plain": [
       "(285391, 30)"
      ]
     },
     "execution_count": 9,
     "metadata": {},
     "output_type": "execute_result"
    }
   ],
   "source": [
    "df = pd.read_csv(DATA_PATH/'persuade_corpus.csv')\n",
    "df.shape"
   ]
  },
  {
   "cell_type": "code",
   "execution_count": 10,
   "id": "6cc03a54",
   "metadata": {},
   "outputs": [
    {
     "data": {
      "text/html": [
       "<div>\n",
       "<style scoped>\n",
       "    .dataframe tbody tr th:only-of-type {\n",
       "        vertical-align: middle;\n",
       "    }\n",
       "\n",
       "    .dataframe tbody tr th {\n",
       "        vertical-align: top;\n",
       "    }\n",
       "\n",
       "    .dataframe thead th {\n",
       "        text-align: right;\n",
       "    }\n",
       "</style>\n",
       "<table border=\"1\" class=\"dataframe\">\n",
       "  <thead>\n",
       "    <tr style=\"text-align: right;\">\n",
       "      <th></th>\n",
       "      <th>essay_id</th>\n",
       "      <th>essay_id_comp</th>\n",
       "      <th>competition_set</th>\n",
       "      <th>full_text</th>\n",
       "      <th>holistic_essay_score</th>\n",
       "      <th>discourse_id</th>\n",
       "      <th>discourse_start</th>\n",
       "      <th>discourse_end</th>\n",
       "      <th>discourse_text</th>\n",
       "      <th>discourse_type</th>\n",
       "      <th>discourse_type_num</th>\n",
       "      <th>discourse_effectiveness</th>\n",
       "      <th>hierarchical_id</th>\n",
       "      <th>hierarchical_text</th>\n",
       "      <th>hierarchical_label</th>\n",
       "      <th>provider</th>\n",
       "      <th>task</th>\n",
       "      <th>source_text</th>\n",
       "      <th>prompt_name</th>\n",
       "      <th>assignment</th>\n",
       "      <th>gender</th>\n",
       "      <th>grade_level</th>\n",
       "      <th>ell_status</th>\n",
       "      <th>race_ethnicity</th>\n",
       "      <th>economically_disadvantaged</th>\n",
       "      <th>student_disability_status</th>\n",
       "      <th>essay_word_count</th>\n",
       "      <th>in_feedback2.0</th>\n",
       "      <th>test_split_feedback_1</th>\n",
       "      <th>test_split_feedback_2</th>\n",
       "    </tr>\n",
       "  </thead>\n",
       "  <tbody>\n",
       "    <tr>\n",
       "      <th>0</th>\n",
       "      <td>5408891152126</td>\n",
       "      <td>423A1CA112E2</td>\n",
       "      <td>train</td>\n",
       "      <td>Phones\\n\\nModern humans today are always on th...</td>\n",
       "      <td>3</td>\n",
       "      <td>1622627660525.0000</td>\n",
       "      <td>0</td>\n",
       "      <td>7</td>\n",
       "      <td>Phones\\n\\n</td>\n",
       "      <td>Unannotated</td>\n",
       "      <td>Unannotated 1</td>\n",
       "      <td>NaN</td>\n",
       "      <td>NaN</td>\n",
       "      <td>NaN</td>\n",
       "      <td>NaN</td>\n",
       "      <td>Georgia Virtual</td>\n",
       "      <td>Independent</td>\n",
       "      <td>NaN</td>\n",
       "      <td>Phones and driving</td>\n",
       "      <td>Today the majority of humans own and operate c...</td>\n",
       "      <td>M</td>\n",
       "      <td>NaN</td>\n",
       "      <td>NaN</td>\n",
       "      <td>Black/African American</td>\n",
       "      <td>NaN</td>\n",
       "      <td>NaN</td>\n",
       "      <td>378</td>\n",
       "      <td>1</td>\n",
       "      <td>NaN</td>\n",
       "      <td>NaN</td>\n",
       "    </tr>\n",
       "    <tr>\n",
       "      <th>1</th>\n",
       "      <td>5408891152126</td>\n",
       "      <td>423A1CA112E2</td>\n",
       "      <td>train</td>\n",
       "      <td>Phones\\n\\nModern humans today are always on th...</td>\n",
       "      <td>3</td>\n",
       "      <td>1622627660524.0000</td>\n",
       "      <td>8</td>\n",
       "      <td>229</td>\n",
       "      <td>Modern humans today are always on their phone....</td>\n",
       "      <td>Lead</td>\n",
       "      <td>Lead 1</td>\n",
       "      <td>Adequate</td>\n",
       "      <td>NaN</td>\n",
       "      <td>NaN</td>\n",
       "      <td>NaN</td>\n",
       "      <td>Georgia Virtual</td>\n",
       "      <td>Independent</td>\n",
       "      <td>NaN</td>\n",
       "      <td>Phones and driving</td>\n",
       "      <td>Today the majority of humans own and operate c...</td>\n",
       "      <td>M</td>\n",
       "      <td>NaN</td>\n",
       "      <td>NaN</td>\n",
       "      <td>Black/African American</td>\n",
       "      <td>NaN</td>\n",
       "      <td>NaN</td>\n",
       "      <td>378</td>\n",
       "      <td>1</td>\n",
       "      <td>NaN</td>\n",
       "      <td>NaN</td>\n",
       "    </tr>\n",
       "    <tr>\n",
       "      <th>2</th>\n",
       "      <td>5408891152126</td>\n",
       "      <td>423A1CA112E2</td>\n",
       "      <td>train</td>\n",
       "      <td>Phones\\n\\nModern humans today are always on th...</td>\n",
       "      <td>3</td>\n",
       "      <td>1622627653021.0000</td>\n",
       "      <td>230</td>\n",
       "      <td>312</td>\n",
       "      <td>They are some really bad consequences when stu...</td>\n",
       "      <td>Position</td>\n",
       "      <td>Position 1</td>\n",
       "      <td>Adequate</td>\n",
       "      <td>NaN</td>\n",
       "      <td>NaN</td>\n",
       "      <td>NaN</td>\n",
       "      <td>Georgia Virtual</td>\n",
       "      <td>Independent</td>\n",
       "      <td>NaN</td>\n",
       "      <td>Phones and driving</td>\n",
       "      <td>Today the majority of humans own and operate c...</td>\n",
       "      <td>M</td>\n",
       "      <td>NaN</td>\n",
       "      <td>NaN</td>\n",
       "      <td>Black/African American</td>\n",
       "      <td>NaN</td>\n",
       "      <td>NaN</td>\n",
       "      <td>378</td>\n",
       "      <td>1</td>\n",
       "      <td>NaN</td>\n",
       "      <td>NaN</td>\n",
       "    </tr>\n",
       "    <tr>\n",
       "      <th>3</th>\n",
       "      <td>5408891152126</td>\n",
       "      <td>423A1CA112E2</td>\n",
       "      <td>train</td>\n",
       "      <td>Phones\\n\\nModern humans today are always on th...</td>\n",
       "      <td>3</td>\n",
       "      <td>1622627671020.0000</td>\n",
       "      <td>313</td>\n",
       "      <td>400</td>\n",
       "      <td>Some certain areas in the United States ban ph...</td>\n",
       "      <td>Evidence</td>\n",
       "      <td>Evidence 1</td>\n",
       "      <td>Adequate</td>\n",
       "      <td>1622627653021.0000</td>\n",
       "      <td>They are some really bad consequences when stu...</td>\n",
       "      <td>Position</td>\n",
       "      <td>Georgia Virtual</td>\n",
       "      <td>Independent</td>\n",
       "      <td>NaN</td>\n",
       "      <td>Phones and driving</td>\n",
       "      <td>Today the majority of humans own and operate c...</td>\n",
       "      <td>M</td>\n",
       "      <td>NaN</td>\n",
       "      <td>NaN</td>\n",
       "      <td>Black/African American</td>\n",
       "      <td>NaN</td>\n",
       "      <td>NaN</td>\n",
       "      <td>378</td>\n",
       "      <td>1</td>\n",
       "      <td>NaN</td>\n",
       "      <td>NaN</td>\n",
       "    </tr>\n",
       "    <tr>\n",
       "      <th>4</th>\n",
       "      <td>5408891152126</td>\n",
       "      <td>423A1CA112E2</td>\n",
       "      <td>train</td>\n",
       "      <td>Phones\\n\\nModern humans today are always on th...</td>\n",
       "      <td>3</td>\n",
       "      <td>1622627696365.0000</td>\n",
       "      <td>401</td>\n",
       "      <td>756</td>\n",
       "      <td>When people have phones, they know about certa...</td>\n",
       "      <td>Evidence</td>\n",
       "      <td>Evidence 2</td>\n",
       "      <td>Adequate</td>\n",
       "      <td>1622627653021.0000</td>\n",
       "      <td>They are some really bad consequences when stu...</td>\n",
       "      <td>Position</td>\n",
       "      <td>Georgia Virtual</td>\n",
       "      <td>Independent</td>\n",
       "      <td>NaN</td>\n",
       "      <td>Phones and driving</td>\n",
       "      <td>Today the majority of humans own and operate c...</td>\n",
       "      <td>M</td>\n",
       "      <td>NaN</td>\n",
       "      <td>NaN</td>\n",
       "      <td>Black/African American</td>\n",
       "      <td>NaN</td>\n",
       "      <td>NaN</td>\n",
       "      <td>378</td>\n",
       "      <td>1</td>\n",
       "      <td>NaN</td>\n",
       "      <td>NaN</td>\n",
       "    </tr>\n",
       "  </tbody>\n",
       "</table>\n",
       "</div>"
      ],
      "text/plain": [
       "        essay_id essay_id_comp competition_set                                          full_text  holistic_essay_score       discourse_id  discourse_start  discourse_end                                     discourse_text discourse_type discourse_type_num discourse_effectiveness    hierarchical_id                                  hierarchical_text hierarchical_label         provider         task source_text         prompt_name                                         assignment gender  \\\n",
       "0  5408891152126  423A1CA112E2           train  Phones\\n\\nModern humans today are always on th...                     3 1622627660525.0000                0              7                                         Phones\\n\\n    Unannotated      Unannotated 1                     NaN                NaN                                                NaN                NaN  Georgia Virtual  Independent         NaN  Phones and driving  Today the majority of humans own and operate c...      M   \n",
       "1  5408891152126  423A1CA112E2           train  Phones\\n\\nModern humans today are always on th...                     3 1622627660524.0000                8            229  Modern humans today are always on their phone....           Lead             Lead 1                Adequate                NaN                                                NaN                NaN  Georgia Virtual  Independent         NaN  Phones and driving  Today the majority of humans own and operate c...      M   \n",
       "2  5408891152126  423A1CA112E2           train  Phones\\n\\nModern humans today are always on th...                     3 1622627653021.0000              230            312  They are some really bad consequences when stu...       Position         Position 1                Adequate                NaN                                                NaN                NaN  Georgia Virtual  Independent         NaN  Phones and driving  Today the majority of humans own and operate c...      M   \n",
       "3  5408891152126  423A1CA112E2           train  Phones\\n\\nModern humans today are always on th...                     3 1622627671020.0000              313            400  Some certain areas in the United States ban ph...       Evidence         Evidence 1                Adequate 1622627653021.0000  They are some really bad consequences when stu...           Position  Georgia Virtual  Independent         NaN  Phones and driving  Today the majority of humans own and operate c...      M   \n",
       "4  5408891152126  423A1CA112E2           train  Phones\\n\\nModern humans today are always on th...                     3 1622627696365.0000              401            756  When people have phones, they know about certa...       Evidence         Evidence 2                Adequate 1622627653021.0000  They are some really bad consequences when stu...           Position  Georgia Virtual  Independent         NaN  Phones and driving  Today the majority of humans own and operate c...      M   \n",
       "\n",
       "   grade_level ell_status          race_ethnicity economically_disadvantaged student_disability_status  essay_word_count  in_feedback2.0 test_split_feedback_1 test_split_feedback_2  \n",
       "0          NaN        NaN  Black/African American                        NaN                       NaN               378               1                   NaN                   NaN  \n",
       "1          NaN        NaN  Black/African American                        NaN                       NaN               378               1                   NaN                   NaN  \n",
       "2          NaN        NaN  Black/African American                        NaN                       NaN               378               1                   NaN                   NaN  \n",
       "3          NaN        NaN  Black/African American                        NaN                       NaN               378               1                   NaN                   NaN  \n",
       "4          NaN        NaN  Black/African American                        NaN                       NaN               378               1                   NaN                   NaN  "
      ]
     },
     "execution_count": 10,
     "metadata": {},
     "output_type": "execute_result"
    }
   ],
   "source": [
    "df.head()"
   ]
  },
  {
   "cell_type": "code",
   "execution_count": 11,
   "id": "77ad734d",
   "metadata": {},
   "outputs": [],
   "source": [
    "LABEL2EFFEC = ('Adequate', 'Effective', 'Ineffective')\n",
    "EFFEC2LABEL = {t: l for l, t in enumerate(LABEL2EFFEC)}"
   ]
  },
  {
   "cell_type": "code",
   "execution_count": 12,
   "id": "81c8c3f8",
   "metadata": {},
   "outputs": [
    {
     "data": {
      "text/plain": [
       "(144289, 30)"
      ]
     },
     "execution_count": 12,
     "metadata": {},
     "output_type": "execute_result"
    }
   ],
   "source": [
    "df = df[df.competition_set=='train']\n",
    "df = df[df.discourse_effectiveness.isin(LABEL2EFFEC)]\n",
    "df.shape"
   ]
  },
  {
   "cell_type": "markdown",
   "id": "fcec4351",
   "metadata": {},
   "source": [
    "# CV"
   ]
  },
  {
   "cell_type": "code",
   "execution_count": 13,
   "id": "e3ce3c83",
   "metadata": {},
   "outputs": [],
   "source": [
    "# from sklearn.model_selection import GroupKFold,StratifiedGroupKFold,KFold,StratifiedKFold\n",
    "# from iterstrat.ml_stratifiers import MultilabelStratifiedKFold"
   ]
  },
  {
   "cell_type": "code",
   "execution_count": 14,
   "id": "39587aa3",
   "metadata": {},
   "outputs": [],
   "source": [
    "# train_df = df[df.data==\"train\"].reset_index(drop=True)\n",
    "# valid_df = df[df.data=='valid'].reset_index(drop=True)"
   ]
  },
  {
   "cell_type": "code",
   "execution_count": null,
   "id": "93000759",
   "metadata": {},
   "outputs": [],
   "source": []
  },
  {
   "cell_type": "code",
   "execution_count": 15,
   "id": "83267f24",
   "metadata": {},
   "outputs": [],
   "source": [
    "# seeds = [42]\n",
    "# folds_names = []\n",
    "# for K in [5,10]:  \n",
    "#     for seed in seeds:\n",
    "#         mskf = StratifiedKFold(n_splits=K,shuffle=True,random_state=seed)\n",
    "#         name = f\"fold_sk_{K}_seed_{seed}\"\n",
    "#         train_df[name] = -1\n",
    "#         for fold, (trn_, val_) in enumerate(mskf.split(train_df,train_df['year'])):\n",
    "#             train_df.loc[val_, name] = fold+1\n",
    "#         valid_df[name] = 0"
   ]
  },
  {
   "cell_type": "code",
   "execution_count": 16,
   "id": "03376d25",
   "metadata": {},
   "outputs": [],
   "source": [
    "df['fold'] = 0"
   ]
  },
  {
   "cell_type": "code",
   "execution_count": 17,
   "id": "ce4717ff",
   "metadata": {},
   "outputs": [
    {
     "data": {
      "text/plain": [
       "fold\n",
       "0    144289\n",
       "Name: count, dtype: int64"
      ]
     },
     "execution_count": 17,
     "metadata": {},
     "output_type": "execute_result"
    }
   ],
   "source": [
    "df[\"fold\"].value_counts()"
   ]
  },
  {
   "cell_type": "code",
   "execution_count": 18,
   "id": "dbb8001a",
   "metadata": {},
   "outputs": [],
   "source": [
    "FOLD_NAME = \"fold\""
   ]
  },
  {
   "cell_type": "code",
   "execution_count": 19,
   "id": "ec5e7f69",
   "metadata": {},
   "outputs": [
    {
     "name": "stdout",
     "output_type": "stream",
     "text": [
      "/database/kaggle/Commontlit/checkpoint/fold/microsoft/deberta-v3-large/2023-08-22--v0-test2\n"
     ]
    }
   ],
   "source": [
    "class args:\n",
    "    seed = 2022\n",
    "    \n",
    "    # Model\n",
    "    model_name = 'microsoft/deberta-v3-large' # microsoft/deberta-xlarge 'microsoft/deberta-v3-base'\n",
    "    project_name = \"Shovel\"\n",
    "    # CV\n",
    "    kfold_name = FOLD_NAME\n",
    "    selected_folds = [0]\n",
    "    not_include_folds = []\n",
    "    # Paths\n",
    "    name = model_name.split('.')[1] if '.' in model_name else model_name\n",
    "    exp_name = f\"{TODAY}--v{get_version(start=0)}-test2\"  \n",
    "    checkpoints_path = str(CHECKPOINT_PATH/Path(fr'{kfold_name}/{name}/{exp_name}'))  \n",
    "    \n",
    "    dataset = \"FeedbackDataset\"\n",
    "    data = {\"params_train\":{'mask_prob':0.0,\"mask_ratio\":0.0},\n",
    "            \"params_valid\":{'mask_prob':0.0,\"mask_ratio\":0.0},\n",
    "           \n",
    "           }\n",
    "    model = {\n",
    "            \"model_params\":{\"model_name\":model_name,\n",
    "                            \"num_label_discourse_type\":7,\n",
    "                            \"num_label_effectiveness\":3,\n",
    "                            \"use_dropout\":True,\n",
    "                            \"use_gradient_checkpointing\":True,\n",
    "                            \"config_path\":None ,\n",
    "                           },\n",
    "        \n",
    "            \"pretrained_weights\":None, \n",
    "             \n",
    "            }\n",
    "    \n",
    "    optimizer = {\n",
    "            \"name\":\"optim.AdamW\",\n",
    "            'params':{\"lr\":2e-5,\n",
    "                     \"weight_decay\": 0.01,\n",
    "                     },            \n",
    "            }\n",
    "\n",
    "    scheduler = {\n",
    "            \"name\":\"poly\",\n",
    "            'params':{\n",
    "                      \"lr_end\":1e-7,# defaulkt 1e-7\n",
    "                      \"power\":3\n",
    "                     },\n",
    "            \"warmup\":0.04,            \n",
    "            }\n",
    "    \n",
    "    train_loader = {\n",
    "            \"batch_size\":1,\n",
    "            'drop_last':True,\n",
    "            \"num_workers\":2,\n",
    "            \"pin_memory\":False, \n",
    "            \"shuffle\":True,\n",
    "            }\n",
    "    \n",
    "    \n",
    "    val_loader = {\n",
    "            \"batch_size\":1,\n",
    "            'drop_last':False,\n",
    "            \"num_workers\":2,\n",
    "            \"pin_memory\":False,\n",
    "            \"shuffle\":False\n",
    "            }\n",
    "    \n",
    "    trainer = {\"use_amp\":True,\n",
    "                'epochs':5,\n",
    "                \"sample\":False,\n",
    "                \"train_all_data\":True,\n",
    "                \"use_awp\":False,\n",
    "                \"start_epoch_awp\":1,\n",
    "                \"adv_lr\":0.0003,\n",
    "                \"adv_eps\":0.001,\n",
    "                \"grad_clip\":False,\n",
    "                \"max_norm\":10\n",
    "              }\n",
    "    \n",
    "\n",
    "    callbacks = {'save':True,\"es\":False,\"patience\":10,\n",
    "                 'verbose_eval':1,\"epoch_pct_eval\":1/1,\"epoch_eval_dist\":\"uniforme\",#uniforme\n",
    "                 \"metric_track\":\"valid_rmse\",\"mode\":\"min\",'top_k':1,\"start_eval_epoch\":0,\n",
    "                 \"save_last_k\":0\n",
    "                }\n",
    "    \n",
    "    device = 0\n",
    "    \n",
    "Path(args.checkpoints_path).mkdir(parents=True,exist_ok=True)\n",
    "print(args.checkpoints_path)"
   ]
  },
  {
   "cell_type": "code",
   "execution_count": null,
   "id": "a750b220",
   "metadata": {
    "scrolled": false
   },
   "outputs": [
    {
     "name": "stdout",
     "output_type": "stream",
     "text": [
      "----------- fold ---------\n",
      "\n",
      "-------------   Fold 1 / 1  -------------\n",
      "\n"
     ]
    },
    {
     "name": "stderr",
     "output_type": "stream",
     "text": [
      "Failed to detect the name of this notebook, you can set it manually with the WANDB_NOTEBOOK_NAME environment variable to enable code saving.\n",
      "\u001b[34m\u001b[1mwandb\u001b[0m: Currently logged in as: \u001b[33mamedprof\u001b[0m. Use \u001b[1m`wandb login --relogin`\u001b[0m to force relogin\n"
     ]
    },
    {
     "data": {
      "text/html": [
       "wandb version 0.15.8 is available!  To upgrade, please run:\n",
       " $ pip install wandb --upgrade"
      ],
      "text/plain": [
       "<IPython.core.display.HTML object>"
      ]
     },
     "metadata": {},
     "output_type": "display_data"
    },
    {
     "data": {
      "text/html": [
       "Tracking run with wandb version 0.15.5"
      ],
      "text/plain": [
       "<IPython.core.display.HTML object>"
      ]
     },
     "metadata": {},
     "output_type": "display_data"
    },
    {
     "data": {
      "text/html": [
       "Run data is saved locally in <code>/workspace/Script/NLP/Shovel Ready/src/wandb/run-20230822_103959-m33ctnsq</code>"
      ],
      "text/plain": [
       "<IPython.core.display.HTML object>"
      ]
     },
     "metadata": {},
     "output_type": "display_data"
    },
    {
     "data": {
      "text/html": [
       "Syncing run <strong><a href='https://wandb.ai/amedprof/Shovel/runs/m33ctnsq' target=\"_blank\">2023-08-22--v0-test2_fold_1</a></strong> to <a href='https://wandb.ai/amedprof/Shovel' target=\"_blank\">Weights & Biases</a> (<a href='https://wandb.me/run' target=\"_blank\">docs</a>)<br/>"
      ],
      "text/plain": [
       "<IPython.core.display.HTML object>"
      ]
     },
     "metadata": {},
     "output_type": "display_data"
    },
    {
     "data": {
      "text/html": [
       " View project at <a href='https://wandb.ai/amedprof/Shovel' target=\"_blank\">https://wandb.ai/amedprof/Shovel</a>"
      ],
      "text/plain": [
       "<IPython.core.display.HTML object>"
      ]
     },
     "metadata": {},
     "output_type": "display_data"
    },
    {
     "data": {
      "text/html": [
       " View run at <a href='https://wandb.ai/amedprof/Shovel/runs/m33ctnsq' target=\"_blank\">https://wandb.ai/amedprof/Shovel/runs/m33ctnsq</a>"
      ],
      "text/plain": [
       "<IPython.core.display.HTML object>"
      ]
     },
     "metadata": {},
     "output_type": "display_data"
    },
    {
     "name": "stderr",
     "output_type": "stream",
     "text": [
      "Special tokens have been added in the vocabulary, make sure the associated word embeddings are fine-tuned or trained.\n",
      "Special tokens have been added in the vocabulary, make sure the associated word embeddings are fine-tuned or trained.\n"
     ]
    },
    {
     "name": "stdout",
     "output_type": "stream",
     "text": [
      "Loaded 15594 samples.\n",
      "Loaded 15594 samples.\n"
     ]
    },
    {
     "name": "stderr",
     "output_type": "stream",
     "text": [
      "Some weights of the model checkpoint at microsoft/deberta-v3-large were not used when initializing DebertaV2Model: ['mask_predictions.dense.weight', 'mask_predictions.dense.bias', 'mask_predictions.classifier.weight', 'lm_predictions.lm_head.dense.weight', 'mask_predictions.LayerNorm.bias', 'lm_predictions.lm_head.LayerNorm.weight', 'mask_predictions.LayerNorm.weight', 'lm_predictions.lm_head.LayerNorm.bias', 'mask_predictions.classifier.bias', 'lm_predictions.lm_head.dense.bias', 'lm_predictions.lm_head.bias']\n",
      "- This IS expected if you are initializing DebertaV2Model from the checkpoint of a model trained on another task or with another architecture (e.g. initializing a BertForSequenceClassification model from a BertForPreTraining model).\n",
      "- This IS NOT expected if you are initializing DebertaV2Model from the checkpoint of a model that you expect to be exactly identical (initializing a BertForSequenceClassification model from a BertForSequenceClassification model).\n"
     ]
    },
    {
     "name": "stdout",
     "output_type": "stream",
     "text": [
      "    -> 434025485 trainable parameters\n",
      "\n"
     ]
    },
    {
     "name": "stderr",
     "output_type": "stream",
     "text": [
      "Special tokens have been added in the vocabulary, make sure the associated word embeddings are fine-tuned or trained.\n",
      "Special tokens have been added in the vocabulary, make sure the associated word embeddings are fine-tuned or trained.\n"
     ]
    },
    {
     "name": "stdout",
     "output_type": "stream",
     "text": [
      "Using Amp\n"
     ]
    },
    {
     "data": {
      "application/vnd.jupyter.widget-view+json": {
       "model_id": "2e790fb5e7af48988b9dee7cce3ab574",
       "version_major": 2,
       "version_minor": 0
      },
      "text/plain": [
       "  0%|          | 0/15594 [00:00<?, ?it/s]"
      ]
     },
     "metadata": {},
     "output_type": "display_data"
    }
   ],
   "source": [
    "kfold(args,df)"
   ]
  },
  {
   "cell_type": "code",
   "execution_count": null,
   "id": "2ae9e758",
   "metadata": {},
   "outputs": [],
   "source": []
  }
 ],
 "metadata": {
  "kernelspec": {
   "display_name": "Python 3 (ipykernel)",
   "language": "python",
   "name": "python3"
  },
  "language_info": {
   "codemirror_mode": {
    "name": "ipython",
    "version": 3
   },
   "file_extension": ".py",
   "mimetype": "text/x-python",
   "name": "python",
   "nbconvert_exporter": "python",
   "pygments_lexer": "ipython3",
   "version": "3.10.9"
  }
 },
 "nbformat": 4,
 "nbformat_minor": 5
}

{
 "cells": [
  {
   "cell_type": "code",
   "execution_count": 1,
   "id": "1d487dba",
   "metadata": {},
   "outputs": [
    {
     "name": "stdout",
     "output_type": "stream",
     "text": [
      "/workspace/Script/NLP/PII/src\n"
     ]
    }
   ],
   "source": [
    "cd ../src"
   ]
  },
  {
   "cell_type": "code",
   "execution_count": 2,
   "id": "84bf958e",
   "metadata": {},
   "outputs": [],
   "source": [
    "import os\n",
    "import gc\n",
    "import sys\n",
    "import json\n",
    "import time\n",
    "import torch\n",
    "import joblib\n",
    "import random\n",
    "import numpy as np\n",
    "import pandas as pd\n",
    "from tqdm.auto import tqdm\n",
    "from pathlib import Path\n",
    "import plotly.express as px\n",
    "import matplotlib.pyplot as plt\n",
    "\n",
    "pd.set_option('display.max_rows', 500)\n",
    "pd.set_option('display.max_columns', 500)\n",
    "pd.set_option('display.width', 1000)\n",
    "pd.set_option('display.float_format', lambda x: '%.4f' % x)"
   ]
  },
  {
   "cell_type": "code",
   "execution_count": 3,
   "id": "1602e96c",
   "metadata": {},
   "outputs": [],
   "source": [
    "from data.data_utils import get_offset_mapping,clean_text\n",
    "from data.dataset import FeedbackDataset"
   ]
  },
  {
   "cell_type": "code",
   "execution_count": 4,
   "id": "7384a026",
   "metadata": {},
   "outputs": [
    {
     "name": "stdout",
     "output_type": "stream",
     "text": [
      "env: TOKENIZERS_PARALLELISM=true\n"
     ]
    }
   ],
   "source": [
    "from transformers import DataCollatorWithPadding\n",
    "from transformers import AutoTokenizer, AutoModel, AutoConfig\n",
    "\n",
    "%env TOKENIZERS_PARALLELISM = true"
   ]
  },
  {
   "cell_type": "markdown",
   "id": "8895aef6",
   "metadata": {},
   "source": [
    "# Params"
   ]
  },
  {
   "cell_type": "code",
   "execution_count": 5,
   "id": "5d0104cc",
   "metadata": {},
   "outputs": [
    {
     "data": {
      "text/plain": [
       "['train.json',\n",
       " 'pii_dataset_fixed.csv',\n",
       " 'mixtral-8x7b-v1.json',\n",
       " '.~lock.lecture2.pptx#',\n",
       " 'Fake_data_1850_218.json',\n",
       " 'test.json',\n",
       " 'archive.zip',\n",
       " 'archive',\n",
       " 'pii-masking-200k.csv',\n",
       " 'moredata_dataset_fixed.csv',\n",
       " 'sample_submission.csv',\n",
       " 'mpware_mixtral8x7b_v1.1.json']"
      ]
     },
     "execution_count": 5,
     "metadata": {},
     "output_type": "execute_result"
    }
   ],
   "source": [
    "data_path = Path(r\"/database/kaggle/PII/data\")\n",
    "os.listdir(data_path)"
   ]
  },
  {
   "cell_type": "code",
   "execution_count": 32,
   "id": "e72c1102",
   "metadata": {},
   "outputs": [],
   "source": [
    "from datasets import load_dataset\n",
    "dataset = load_dataset(\"ai4privacy/pii-masking-200k\")"
   ]
  },
  {
   "cell_type": "code",
   "execution_count": 33,
   "id": "68344017",
   "metadata": {},
   "outputs": [
    {
     "data": {
      "text/plain": [
       "(209261, 6)"
      ]
     },
     "execution_count": 33,
     "metadata": {},
     "output_type": "execute_result"
    }
   ],
   "source": [
    "df = pd.DataFrame(dataset['train'])#[['unmasked_text','privacy_mask']]\n",
    "df.shape"
   ]
  },
  {
   "cell_type": "code",
   "execution_count": 34,
   "id": "0958204d",
   "metadata": {},
   "outputs": [
    {
     "data": {
      "text/html": [
       "<div>\n",
       "<style scoped>\n",
       "    .dataframe tbody tr th:only-of-type {\n",
       "        vertical-align: middle;\n",
       "    }\n",
       "\n",
       "    .dataframe tbody tr th {\n",
       "        vertical-align: top;\n",
       "    }\n",
       "\n",
       "    .dataframe thead th {\n",
       "        text-align: right;\n",
       "    }\n",
       "</style>\n",
       "<table border=\"1\" class=\"dataframe\">\n",
       "  <thead>\n",
       "    <tr style=\"text-align: right;\">\n",
       "      <th></th>\n",
       "      <th>masked_text</th>\n",
       "      <th>unmasked_text</th>\n",
       "      <th>privacy_mask</th>\n",
       "      <th>span_labels</th>\n",
       "      <th>bio_labels</th>\n",
       "      <th>tokenised_text</th>\n",
       "    </tr>\n",
       "  </thead>\n",
       "  <tbody>\n",
       "    <tr>\n",
       "      <th>0</th>\n",
       "      <td>A student's assessment was found on device bea...</td>\n",
       "      <td>A student's assessment was found on device bea...</td>\n",
       "      <td>{'[PHONEIMEI_1]': '06-184755-866851-3', '[JOBA...</td>\n",
       "      <td>[[0, 57, 'O'], [57, 75, 'PHONEIMEI_1'], [75, 1...</td>\n",
       "      <td>[O, O, O, O, O, O, O, O, O, O, O, O, O, B-PHON...</td>\n",
       "      <td>[a, student, ', s, assessment, was, found, on,...</td>\n",
       "    </tr>\n",
       "    <tr>\n",
       "      <th>1</th>\n",
       "      <td>Dear [FIRSTNAME_1], as per our records, your l...</td>\n",
       "      <td>Dear Omer, as per our records, your license 78...</td>\n",
       "      <td>{'[FIRSTNAME_1]': 'Omer', '[VEHICLEVIN_1]': '7...</td>\n",
       "      <td>[[0, 5, 'O'], [5, 9, 'FIRSTNAME_1'], [9, 44, '...</td>\n",
       "      <td>[O, B-FIRSTNAME, I-FIRSTNAME, O, O, O, O, O, O...</td>\n",
       "      <td>[dear, om, ##er, ,, as, per, our, records, ,, ...</td>\n",
       "    </tr>\n",
       "    <tr>\n",
       "      <th>2</th>\n",
       "      <td>[FIRSTNAME_1] could you please share your reco...</td>\n",
       "      <td>Kattie could you please share your recomndatio...</td>\n",
       "      <td>{'[FIRSTNAME_1]': 'Kattie', '[AGE_1]': '72', '...</td>\n",
       "      <td>[[0, 6, 'FIRSTNAME_1'], [6, 75, 'O'], [75, 77,...</td>\n",
       "      <td>[B-FIRSTNAME, I-FIRSTNAME, O, O, O, O, O, O, O...</td>\n",
       "      <td>[kat, ##tie, could, you, please, share, your, ...</td>\n",
       "    </tr>\n",
       "    <tr>\n",
       "      <th>3</th>\n",
       "      <td>Emergency supplies in [BUILDINGNUMBER_1] need ...</td>\n",
       "      <td>Emergency supplies in 16356 need a refill. Use...</td>\n",
       "      <td>{'[BUILDINGNUMBER_1]': '16356', '[MASKEDNUMBER...</td>\n",
       "      <td>[[0, 22, 'O'], [22, 27, 'BUILDINGNUMBER_1'], [...</td>\n",
       "      <td>[O, O, O, B-BUILDINGNUMBER, I-BUILDINGNUMBER, ...</td>\n",
       "      <td>[emergency, supplies, in, 1635, ##6, need, a, ...</td>\n",
       "    </tr>\n",
       "    <tr>\n",
       "      <th>4</th>\n",
       "      <td>The [AGE_1] old child at [BUILDINGNUMBER_1], h...</td>\n",
       "      <td>The 88 old child at 5862, has showcased an unu...</td>\n",
       "      <td>{'[AGE_1]': '88', '[BUILDINGNUMBER_1]': '5862'...</td>\n",
       "      <td>[[0, 4, 'O'], [4, 6, 'AGE_1'], [6, 20, 'O'], [...</td>\n",
       "      <td>[O, B-AGE, O, O, O, B-BUILDINGNUMBER, I-BUILDI...</td>\n",
       "      <td>[the, 88, old, child, at, 58, ##6, ##2, ,, has...</td>\n",
       "    </tr>\n",
       "  </tbody>\n",
       "</table>\n",
       "</div>"
      ],
      "text/plain": [
       "                                         masked_text                                      unmasked_text                                       privacy_mask                                        span_labels                                         bio_labels                                     tokenised_text\n",
       "0  A student's assessment was found on device bea...  A student's assessment was found on device bea...  {'[PHONEIMEI_1]': '06-184755-866851-3', '[JOBA...  [[0, 57, 'O'], [57, 75, 'PHONEIMEI_1'], [75, 1...  [O, O, O, O, O, O, O, O, O, O, O, O, O, B-PHON...  [a, student, ', s, assessment, was, found, on,...\n",
       "1  Dear [FIRSTNAME_1], as per our records, your l...  Dear Omer, as per our records, your license 78...  {'[FIRSTNAME_1]': 'Omer', '[VEHICLEVIN_1]': '7...  [[0, 5, 'O'], [5, 9, 'FIRSTNAME_1'], [9, 44, '...  [O, B-FIRSTNAME, I-FIRSTNAME, O, O, O, O, O, O...  [dear, om, ##er, ,, as, per, our, records, ,, ...\n",
       "2  [FIRSTNAME_1] could you please share your reco...  Kattie could you please share your recomndatio...  {'[FIRSTNAME_1]': 'Kattie', '[AGE_1]': '72', '...  [[0, 6, 'FIRSTNAME_1'], [6, 75, 'O'], [75, 77,...  [B-FIRSTNAME, I-FIRSTNAME, O, O, O, O, O, O, O...  [kat, ##tie, could, you, please, share, your, ...\n",
       "3  Emergency supplies in [BUILDINGNUMBER_1] need ...  Emergency supplies in 16356 need a refill. Use...  {'[BUILDINGNUMBER_1]': '16356', '[MASKEDNUMBER...  [[0, 22, 'O'], [22, 27, 'BUILDINGNUMBER_1'], [...  [O, O, O, B-BUILDINGNUMBER, I-BUILDINGNUMBER, ...  [emergency, supplies, in, 1635, ##6, need, a, ...\n",
       "4  The [AGE_1] old child at [BUILDINGNUMBER_1], h...  The 88 old child at 5862, has showcased an unu...  {'[AGE_1]': '88', '[BUILDINGNUMBER_1]': '5862'...  [[0, 4, 'O'], [4, 6, 'AGE_1'], [6, 20, 'O'], [...  [O, B-AGE, O, O, O, B-BUILDINGNUMBER, I-BUILDI...  [the, 88, old, child, at, 58, ##6, ##2, ,, has..."
      ]
     },
     "execution_count": 34,
     "metadata": {},
     "output_type": "execute_result"
    }
   ],
   "source": [
    "df.head()"
   ]
  },
  {
   "cell_type": "code",
   "execution_count": 35,
   "id": "99877160",
   "metadata": {},
   "outputs": [],
   "source": [
    "# df[\"label\"] = df['privacy_mask'].apply(lambda x:list(eval(x).keys()))"
   ]
  },
  {
   "cell_type": "code",
   "execution_count": 11,
   "id": "84e6a8cb",
   "metadata": {},
   "outputs": [],
   "source": [
    "# lbs = sum(df[\"label\"].values.tolist(),[])"
   ]
  },
  {
   "cell_type": "code",
   "execution_count": 193,
   "id": "bf0dee44",
   "metadata": {},
   "outputs": [
    {
     "name": "stdout",
     "output_type": "stream",
     "text": [
      "Veuillez envoyer une copie des documents de l'IEP pour Nadia.Bartoletti@yahoo.com sur son appareil individuel (Opera/10.58 (Macintosh; Intel Mac OS X 10.6.7 U; FO Presto/2.9.182 Version/10.00)). Veillez à sécuriser les données.\n"
     ]
    },
    {
     "data": {
      "text/plain": [
       "(None, 55405)"
      ]
     },
     "execution_count": 193,
     "metadata": {},
     "output_type": "execute_result"
    }
   ],
   "source": [
    "idx = df[df.privacy_mask.str.contains('USERAGENT')].sample(1).index.values[0]\n",
    "print(df.iloc[idx].unmasked_text),idx"
   ]
  },
  {
   "cell_type": "code",
   "execution_count": 194,
   "id": "c8df8b55",
   "metadata": {},
   "outputs": [
    {
     "name": "stdout",
     "output_type": "stream",
     "text": [
      "{'[EMAIL_1]': 'Nadia.Bartoletti@yahoo.com', '[USERAGENT_1]': 'Opera/10.58 (Macintosh; Intel Mac OS X 10.6.7 U; FO Presto/2.9.182 Version/10.00)'}\n"
     ]
    }
   ],
   "source": [
    "print(df.iloc[idx].privacy_mask)"
   ]
  },
  {
   "cell_type": "code",
   "execution_count": 62,
   "id": "8ccdc678",
   "metadata": {},
   "outputs": [
    {
     "name": "stdout",
     "output_type": "stream",
     "text": [
      "{'[COUNTY_1]': 'Clark County', '[USERNAME_1]': 'Mary36', '[IPV6_1]': '68d7:e0b0:5247:83e7:0c2f:dcc3:87ca:f0ef'}\n"
     ]
    }
   ],
   "source": [
    "print(df.sample(1).privacy_mask.values[0])"
   ]
  },
  {
   "cell_type": "code",
   "execution_count": 12,
   "id": "3bdc639d",
   "metadata": {},
   "outputs": [
    {
     "data": {
      "text/plain": [
       "146"
      ]
     },
     "execution_count": 12,
     "metadata": {},
     "output_type": "execute_result"
    }
   ],
   "source": [
    "lbs = np.unique(lbs)\n",
    "len(lbs)"
   ]
  },
  {
   "cell_type": "code",
   "execution_count": 13,
   "id": "fe3f8f39",
   "metadata": {},
   "outputs": [
    {
     "data": {
      "text/plain": [
       "array(['[ACCOUNTNAME_1]', '[ACCOUNTNAME_2]', '[ACCOUNTNUMBER_1]',\n",
       "       '[ACCOUNTNUMBER_2]', '[ACCOUNTNUMBER_3]', '[AGE_1]', '[AGE_2]',\n",
       "       '[AGE_3]', '[AMOUNT_1]', '[AMOUNT_2]', '[AMOUNT_3]', '[BIC_1]',\n",
       "       '[BITCOINADDRESS_1]', '[BITCOINADDRESS_2]', '[BUILDINGNUMBER_1]',\n",
       "       '[BUILDINGNUMBER_2]', '[CITY_1]', '[CITY_2]', '[CITY_3]',\n",
       "       '[COMPANYNAME_1]', '[COMPANYNAME_2]', '[COMPANYNAME_3]',\n",
       "       '[COMPANYNAME_4]', '[COMPANYNAME_5]', '[COUNTY_1]', '[COUNTY_2]',\n",
       "       '[COUNTY_3]', '[CREDITCARDCVV_1]', '[CREDITCARDISSUER_1]',\n",
       "       '[CREDITCARDISSUER_2]', '[CREDITCARDNUMBER_1]',\n",
       "       '[CREDITCARDNUMBER_2]', '[CREDITCARDNUMBER_3]', '[CURRENCYCODE_1]',\n",
       "       '[CURRENCYCODE_2]', '[CURRENCYNAME_1]', '[CURRENCYNAME_2]',\n",
       "       '[CURRENCYSYMBOL_1]', '[CURRENCYSYMBOL_2]', '[CURRENCYSYMBOL_3]',\n",
       "       '[CURRENCY_1]', '[CURRENCY_2]', '[CURRENCY_3]', '[DATE_1]',\n",
       "       '[DATE_2]', '[DATE_3]', '[DOB_1]', '[DOB_2]', '[DOB_3]',\n",
       "       '[EMAIL_1]', '[EMAIL_2]', '[EMAIL_3]', '[ETHEREUMADDRESS_1]',\n",
       "       '[ETHEREUMADDRESS_2]', '[EYECOLOR_1]', '[EYECOLOR_2]',\n",
       "       '[FIRSTNAME_1]', '[FIRSTNAME_2]', '[FIRSTNAME_3]', '[FIRSTNAME_4]',\n",
       "       '[FIRSTNAME_5]', '[GENDER_1]', '[GENDER_2]', '[HEIGHT_1]',\n",
       "       '[HEIGHT_2]', '[IBAN_1]', '[IBAN_2]', '[IPV4_1]', '[IPV4_2]',\n",
       "       '[IPV6_1]', '[IPV6_2]', '[IPV6_3]', '[IP_1]', '[IP_2]', '[IP_3]',\n",
       "       '[JOBAREA_1]', '[JOBAREA_2]', '[JOBAREA_3]', '[JOBTITLE_1]',\n",
       "       '[JOBTITLE_2]', '[JOBTITLE_3]', '[JOBTYPE_1]', '[JOBTYPE_2]',\n",
       "       '[LASTNAME_1]', '[LASTNAME_2]', '[LASTNAME_3]', '[LASTNAME_4]',\n",
       "       '[LITECOINADDRESS_1]', '[LITECOINADDRESS_2]', '[MAC_1]', '[MAC_2]',\n",
       "       '[MAC_3]', '[MASKEDNUMBER_1]', '[MASKEDNUMBER_2]',\n",
       "       '[MIDDLENAME_1]', '[MIDDLENAME_2]', '[NEARBYGPSCOORDINATE_1]',\n",
       "       '[NEARBYGPSCOORDINATE_2]', '[NEARBYGPSCOORDINATE_3]',\n",
       "       '[ORDINALDIRECTION_1]', '[ORDINALDIRECTION_2]', '[PASSWORD_1]',\n",
       "       '[PASSWORD_2]', '[PASSWORD_3]', '[PHONEIMEI_1]', '[PHONEIMEI_2]',\n",
       "       '[PHONEIMEI_3]', '[PHONENUMBER_1]', '[PHONENUMBER_2]', '[PIN_1]',\n",
       "       '[PIN_2]', '[PIN_3]', '[PREFIX_1]', '[PREFIX_2]', '[PREFIX_3]',\n",
       "       '[SECONDARYADDRESS_1]', '[SECONDARYADDRESS_2]',\n",
       "       '[SECONDARYADDRESS_3]', '[SEX_1]', '[SEX_2]', '[SSN_1]', '[SSN_2]',\n",
       "       '[SSN_3]', '[STATE_1]', '[STATE_2]', '[STREET_1]', '[STREET_2]',\n",
       "       '[STREET_3]', '[STREET_4]', '[TIME_1]', '[TIME_2]', '[URL_1]',\n",
       "       '[URL_2]', '[USERAGENT_1]', '[USERAGENT_2]', '[USERNAME_1]',\n",
       "       '[USERNAME_2]', '[USERNAME_3]', '[VEHICLEVIN_1]', '[VEHICLEVIN_2]',\n",
       "       '[VEHICLEVIN_3]', '[VEHICLEVRM_1]', '[VEHICLEVRM_2]',\n",
       "       '[VEHICLEVRM_3]', '[ZIPCODE_1]', '[ZIPCODE_2]'], dtype='<U23')"
      ]
     },
     "execution_count": 13,
     "metadata": {},
     "output_type": "execute_result"
    }
   ],
   "source": [
    "lbs"
   ]
  },
  {
   "cell_type": "code",
   "execution_count": 36,
   "id": "6aab1e07",
   "metadata": {},
   "outputs": [
    {
     "name": "stdout",
     "output_type": "stream",
     "text": [
      "{'ACCOUNTNUMBER': 'ID_NUM', 'BITCOINADDRESS': 'ID_NUM', 'BIC': 'ID_NUM', 'PASSWORD': 'ID_NUM', 'PIN': 'ID_NUM', 'VEHICLEVIN': 'ID_NUM', 'CREDITCARDNUMBER': 'ID_NUM', 'ETHEREUMADDRESS': 'ID_NUM', 'IBAN': 'ID_NUM', 'IPV6': 'ID_NUM', 'LITECOINADDRESS': 'ID_NUM', 'MASKEDNUMBER': 'ID_NUM', 'BUILDINGNUMBER': 'STREET_ADDRESS', 'SECONDARYADDRESS': 'STREET_ADDRESS', 'STREET': 'STREET_ADDRESS', 'CITY': 'STREET_ADDRESS', 'ZIPCODE': 'STREET_ADDRESS', 'COUNTY': 'STREET_ADDRESS', 'EMAIL': 'EMAIL', 'FIRSTNAME': 'NAME_STUDENT', 'LASTNAME': 'NAME_STUDENT', 'MIDDLENAME': 'NAME_STUDENT', 'IPV4': 'PHONE_NUM', 'PHONEIMEI': 'PHONE_NUM', 'PHONENUMBER': 'PHONE_NUM', 'USERNAME': 'USERNAME'}\n"
     ]
    }
   ],
   "source": [
    "ID_NUM = ['ACCOUNTNUMBER','BITCOINADDRESS',\"BIC\",\"PASSWORD\",'PIN',\"VEHICLEVIN\",\"CREDITCARDNUMBER\",\n",
    "          \"ETHEREUMADDRESS\",'IBAN',\"IPV6\",\"LITECOINADDRESS\",\"MASKEDNUMBER\"]\n",
    "ADRESS_STREET = [\"BUILDINGNUMBER\",\"SECONDARYADDRESS\",\"STREET\",\"CITY\",\"ZIPCODE\",\"COUNTY\"]\n",
    "MAIL = ['EMAIL']\n",
    "NAME_STUDENT = ['FIRSTNAME',\"LASTNAME\",\"MIDDLENAME\"]\n",
    "PHONE = ['IPV4',\"PHONEIMEI\",\"PHONENUMBER\"]\n",
    "USERNAME = [\"USERNAME\"]\n",
    "\n",
    "KEEP = ID_NUM + ADRESS_STREET + MAIL + NAME_STUDENT + PHONE + USERNAME\n",
    "KEEP_DIC = {}\n",
    "\n",
    "for k in KEEP:\n",
    "    if k in ID_NUM:\n",
    "        KEEP_DIC[k] = \"ID_NUM\"\n",
    "    elif k in ADRESS_STREET:\n",
    "        KEEP_DIC[k] = \"STREET_ADDRESS\"\n",
    "    elif k in MAIL:\n",
    "        KEEP_DIC[k] = \"EMAIL\"\n",
    "    elif k in NAME_STUDENT:\n",
    "        KEEP_DIC[k] = \"NAME_STUDENT\"\n",
    "    elif k in PHONE:\n",
    "        KEEP_DIC[k] = \"PHONE_NUM\"\n",
    "    elif k in USERNAME:\n",
    "        KEEP_DIC[k] = \"USERNAME\"\n",
    "\n",
    "print(KEEP_DIC)"
   ]
  },
  {
   "cell_type": "code",
   "execution_count": 37,
   "id": "c2960d21",
   "metadata": {},
   "outputs": [],
   "source": [
    "def modify_dictionary(original_dict, new_key):\n",
    "    original_dict = eval(original_dict)\n",
    "    # Check if the old key exists in the dictionary\n",
    "#     print(set([x.split('_')[0].replace('[','').replace(']','') for x in original_dict.keys()]))\n",
    "    com = set(new_key.keys()) & set([x.split('_')[0].replace('[','').replace(']','') for x in original_dict.keys()])\n",
    "    ec = set([x.split('_')[0].replace('[','').replace(']','') for x in original_dict.keys()]) - set(new_key.keys())\n",
    "    \n",
    "    test_street= set(list(com)) & set([\"BUILDINGNUMBER\",\"SECONDARYADDRESS\",\"STREET\",\"CITY\",\"ZIPCODE\",\"COUNTY\"])\n",
    "    street_is_ok = 1 if len(test_street)>=3 and \"STREET\" in test_street else 0\n",
    "    \n",
    "    label = []\n",
    "    tokens = []\n",
    "    if len(com):\n",
    "        # Change the old key to the new key\n",
    "        for k in original_dict.keys():\n",
    "            kval = k.split('_')[0].replace('[','').replace(']','')\n",
    "            if kval in com:\n",
    "                if kval in [\"BUILDINGNUMBER\",\"SECONDARYADDRESS\",\"STREET\",\"CITY\",\"ZIPCODE\",\"COUNTY\"] and street_is_ok==1:\n",
    "                    label.append(new_key[k.split('_')[0].replace('[','').replace(']','')])\n",
    "                    tokens.append(original_dict[k])\n",
    "                elif kval not in [\"BUILDINGNUMBER\",\"SECONDARYADDRESS\",\"STREET\",\"CITY\",\"ZIPCODE\",\"COUNTY\"]:\n",
    "                    label.append(new_key[k.split('_')[0].replace('[','').replace(']','')])\n",
    "                    tokens.append(original_dict[k])\n",
    "                else:\n",
    "                    pass\n",
    "\n",
    "    return label,tokens"
   ]
  },
  {
   "cell_type": "code",
   "execution_count": 66,
   "id": "410cbced",
   "metadata": {},
   "outputs": [
    {
     "data": {
      "text/plain": [
       "\"{'[ACCOUNTNUMBER_1]': '07639708', '[TIME_1]': '0', '[IP_1]': '88.140.94.239'}\""
      ]
     },
     "execution_count": 66,
     "metadata": {},
     "output_type": "execute_result"
    }
   ],
   "source": [
    "df[df.privacy_mask.str.contains('ACCOUNTNUMBER')].sample(1).privacy_mask.values[0]"
   ]
  },
  {
   "cell_type": "code",
   "execution_count": 88,
   "id": "39f50683",
   "metadata": {},
   "outputs": [
    {
     "data": {
      "text/plain": [
       "(['NAME_STUDENT',\n",
       "  'STREET_ADDRESS',\n",
       "  'STREET_ADDRESS',\n",
       "  'STREET_ADDRESS',\n",
       "  'EMAIL',\n",
       "  'PHONE_NUM'],\n",
       " ['Thalia',\n",
       "  '4967',\n",
       "  'Madison Avenue',\n",
       "  'Logan County',\n",
       "  'Janet.Trantow48@hotmail.com',\n",
       "  '11-249792-821061-9'])"
      ]
     },
     "execution_count": 88,
     "metadata": {},
     "output_type": "execute_result"
    }
   ],
   "source": [
    "idx = df[df.privacy_mask.str.contains('STREET')].sample(1).index.values[0]\n",
    "modify_dictionary(df.iloc[idx].privacy_mask, KEEP_DIC)"
   ]
  },
  {
   "cell_type": "code",
   "execution_count": 38,
   "id": "158b2f81",
   "metadata": {},
   "outputs": [],
   "source": [
    "df[\"label\"] = df['privacy_mask'].apply(lambda x:modify_dictionary(x,KEEP_DIC))"
   ]
  },
  {
   "cell_type": "code",
   "execution_count": 39,
   "id": "1d372226",
   "metadata": {},
   "outputs": [],
   "source": [
    "df['label_text'] = df['label'].transform(lambda x:x[0])\n",
    "df['label_att'] = df['label'].transform(lambda x:x[1])"
   ]
  },
  {
   "cell_type": "code",
   "execution_count": 40,
   "id": "aa0f0688",
   "metadata": {},
   "outputs": [
    {
     "data": {
      "text/html": [
       "<div>\n",
       "<style scoped>\n",
       "    .dataframe tbody tr th:only-of-type {\n",
       "        vertical-align: middle;\n",
       "    }\n",
       "\n",
       "    .dataframe tbody tr th {\n",
       "        vertical-align: top;\n",
       "    }\n",
       "\n",
       "    .dataframe thead th {\n",
       "        text-align: right;\n",
       "    }\n",
       "</style>\n",
       "<table border=\"1\" class=\"dataframe\">\n",
       "  <thead>\n",
       "    <tr style=\"text-align: right;\">\n",
       "      <th></th>\n",
       "      <th>masked_text</th>\n",
       "      <th>unmasked_text</th>\n",
       "      <th>privacy_mask</th>\n",
       "      <th>span_labels</th>\n",
       "      <th>bio_labels</th>\n",
       "      <th>tokenised_text</th>\n",
       "      <th>label</th>\n",
       "      <th>label_text</th>\n",
       "      <th>label_att</th>\n",
       "    </tr>\n",
       "  </thead>\n",
       "  <tbody>\n",
       "    <tr>\n",
       "      <th>0</th>\n",
       "      <td>A student's assessment was found on device bea...</td>\n",
       "      <td>A student's assessment was found on device bea...</td>\n",
       "      <td>{'[PHONEIMEI_1]': '06-184755-866851-3', '[JOBA...</td>\n",
       "      <td>[[0, 57, 'O'], [57, 75, 'PHONEIMEI_1'], [75, 1...</td>\n",
       "      <td>[O, O, O, O, O, O, O, O, O, O, O, O, O, B-PHON...</td>\n",
       "      <td>[a, student, ', s, assessment, was, found, on,...</td>\n",
       "      <td>([PHONE_NUM], [06-184755-866851-3])</td>\n",
       "      <td>[PHONE_NUM]</td>\n",
       "      <td>[06-184755-866851-3]</td>\n",
       "    </tr>\n",
       "    <tr>\n",
       "      <th>1</th>\n",
       "      <td>Dear [FIRSTNAME_1], as per our records, your l...</td>\n",
       "      <td>Dear Omer, as per our records, your license 78...</td>\n",
       "      <td>{'[FIRSTNAME_1]': 'Omer', '[VEHICLEVIN_1]': '7...</td>\n",
       "      <td>[[0, 5, 'O'], [5, 9, 'FIRSTNAME_1'], [9, 44, '...</td>\n",
       "      <td>[O, B-FIRSTNAME, I-FIRSTNAME, O, O, O, O, O, O...</td>\n",
       "      <td>[dear, om, ##er, ,, as, per, our, records, ,, ...</td>\n",
       "      <td>([NAME_STUDENT, ID_NUM], [Omer, 78B5R2MVFAHJ48...</td>\n",
       "      <td>[NAME_STUDENT, ID_NUM]</td>\n",
       "      <td>[Omer, 78B5R2MVFAHJ48500]</td>\n",
       "    </tr>\n",
       "    <tr>\n",
       "      <th>2</th>\n",
       "      <td>[FIRSTNAME_1] could you please share your reco...</td>\n",
       "      <td>Kattie could you please share your recomndatio...</td>\n",
       "      <td>{'[FIRSTNAME_1]': 'Kattie', '[AGE_1]': '72', '...</td>\n",
       "      <td>[[0, 6, 'FIRSTNAME_1'], [6, 75, 'O'], [75, 77,...</td>\n",
       "      <td>[B-FIRSTNAME, I-FIRSTNAME, O, O, O, O, O, O, O...</td>\n",
       "      <td>[kat, ##tie, could, you, please, share, your, ...</td>\n",
       "      <td>([NAME_STUDENT], [Kattie])</td>\n",
       "      <td>[NAME_STUDENT]</td>\n",
       "      <td>[Kattie]</td>\n",
       "    </tr>\n",
       "    <tr>\n",
       "      <th>3</th>\n",
       "      <td>Emergency supplies in [BUILDINGNUMBER_1] need ...</td>\n",
       "      <td>Emergency supplies in 16356 need a refill. Use...</td>\n",
       "      <td>{'[BUILDINGNUMBER_1]': '16356', '[MASKEDNUMBER...</td>\n",
       "      <td>[[0, 22, 'O'], [22, 27, 'BUILDINGNUMBER_1'], [...</td>\n",
       "      <td>[O, O, O, B-BUILDINGNUMBER, I-BUILDINGNUMBER, ...</td>\n",
       "      <td>[emergency, supplies, in, 1635, ##6, need, a, ...</td>\n",
       "      <td>([ID_NUM], [5890724654311332])</td>\n",
       "      <td>[ID_NUM]</td>\n",
       "      <td>[5890724654311332]</td>\n",
       "    </tr>\n",
       "    <tr>\n",
       "      <th>4</th>\n",
       "      <td>The [AGE_1] old child at [BUILDINGNUMBER_1], h...</td>\n",
       "      <td>The 88 old child at 5862, has showcased an unu...</td>\n",
       "      <td>{'[AGE_1]': '88', '[BUILDINGNUMBER_1]': '5862'...</td>\n",
       "      <td>[[0, 4, 'O'], [4, 6, 'AGE_1'], [6, 20, 'O'], [...</td>\n",
       "      <td>[O, B-AGE, O, O, O, B-BUILDINGNUMBER, I-BUILDI...</td>\n",
       "      <td>[the, 88, old, child, at, 58, ##6, ##2, ,, has...</td>\n",
       "      <td>([ID_NUM], [Y2rWliOhf8Ir])</td>\n",
       "      <td>[ID_NUM]</td>\n",
       "      <td>[Y2rWliOhf8Ir]</td>\n",
       "    </tr>\n",
       "  </tbody>\n",
       "</table>\n",
       "</div>"
      ],
      "text/plain": [
       "                                         masked_text                                      unmasked_text                                       privacy_mask                                        span_labels                                         bio_labels                                     tokenised_text                                              label              label_text                  label_att\n",
       "0  A student's assessment was found on device bea...  A student's assessment was found on device bea...  {'[PHONEIMEI_1]': '06-184755-866851-3', '[JOBA...  [[0, 57, 'O'], [57, 75, 'PHONEIMEI_1'], [75, 1...  [O, O, O, O, O, O, O, O, O, O, O, O, O, B-PHON...  [a, student, ', s, assessment, was, found, on,...                ([PHONE_NUM], [06-184755-866851-3])             [PHONE_NUM]       [06-184755-866851-3]\n",
       "1  Dear [FIRSTNAME_1], as per our records, your l...  Dear Omer, as per our records, your license 78...  {'[FIRSTNAME_1]': 'Omer', '[VEHICLEVIN_1]': '7...  [[0, 5, 'O'], [5, 9, 'FIRSTNAME_1'], [9, 44, '...  [O, B-FIRSTNAME, I-FIRSTNAME, O, O, O, O, O, O...  [dear, om, ##er, ,, as, per, our, records, ,, ...  ([NAME_STUDENT, ID_NUM], [Omer, 78B5R2MVFAHJ48...  [NAME_STUDENT, ID_NUM]  [Omer, 78B5R2MVFAHJ48500]\n",
       "2  [FIRSTNAME_1] could you please share your reco...  Kattie could you please share your recomndatio...  {'[FIRSTNAME_1]': 'Kattie', '[AGE_1]': '72', '...  [[0, 6, 'FIRSTNAME_1'], [6, 75, 'O'], [75, 77,...  [B-FIRSTNAME, I-FIRSTNAME, O, O, O, O, O, O, O...  [kat, ##tie, could, you, please, share, your, ...                         ([NAME_STUDENT], [Kattie])          [NAME_STUDENT]                   [Kattie]\n",
       "3  Emergency supplies in [BUILDINGNUMBER_1] need ...  Emergency supplies in 16356 need a refill. Use...  {'[BUILDINGNUMBER_1]': '16356', '[MASKEDNUMBER...  [[0, 22, 'O'], [22, 27, 'BUILDINGNUMBER_1'], [...  [O, O, O, B-BUILDINGNUMBER, I-BUILDINGNUMBER, ...  [emergency, supplies, in, 1635, ##6, need, a, ...                     ([ID_NUM], [5890724654311332])                [ID_NUM]         [5890724654311332]\n",
       "4  The [AGE_1] old child at [BUILDINGNUMBER_1], h...  The 88 old child at 5862, has showcased an unu...  {'[AGE_1]': '88', '[BUILDINGNUMBER_1]': '5862'...  [[0, 4, 'O'], [4, 6, 'AGE_1'], [6, 20, 'O'], [...  [O, B-AGE, O, O, O, B-BUILDINGNUMBER, I-BUILDI...  [the, 88, old, child, at, 58, ##6, ##2, ,, has...                         ([ID_NUM], [Y2rWliOhf8Ir])                [ID_NUM]             [Y2rWliOhf8Ir]"
      ]
     },
     "execution_count": 40,
     "metadata": {},
     "output_type": "execute_result"
    }
   ],
   "source": [
    "df.head()"
   ]
  },
  {
   "cell_type": "code",
   "execution_count": 41,
   "id": "86d8c2ec",
   "metadata": {},
   "outputs": [
    {
     "data": {
      "text/plain": [
       "\"[[0, 6, 'FIRSTNAME_1'], [6, 75, 'O'], [75, 77, 'AGE_1'], [77, 82, 'O'], [82, 97, 'GENDER_1'], [97, 103, 'O'], [103, 117, 'HEIGHT_1'], [117, 118, 'O']]\""
      ]
     },
     "execution_count": 41,
     "metadata": {},
     "output_type": "execute_result"
    }
   ],
   "source": [
    "df.iloc[2].span_labels"
   ]
  },
  {
   "cell_type": "code",
   "execution_count": 42,
   "id": "c0fe9e63",
   "metadata": {},
   "outputs": [
    {
     "data": {
      "text/plain": [
       "'Kattie could you please share your recomndations about vegetarian diet for 72 old Intersex person with 158centimeters?'"
      ]
     },
     "execution_count": 42,
     "metadata": {},
     "output_type": "execute_result"
    }
   ],
   "source": [
    "df.iloc[2].unmasked_text"
   ]
  },
  {
   "cell_type": "code",
   "execution_count": null,
   "id": "49caf648",
   "metadata": {},
   "outputs": [],
   "source": []
  },
  {
   "cell_type": "code",
   "execution_count": 43,
   "id": "ec9234d6",
   "metadata": {},
   "outputs": [],
   "source": [
    "# ======================================================================================== #\n",
    "from spacy.lang.en import English\n",
    "en_tokenizer = English().tokenizer\n",
    "\n",
    "def tokenize_with_spacy(text, tokenizer=en_tokenizer):\n",
    "    tokenized_text = tokenizer(text)\n",
    "    tokens = [token.text for token in tokenized_text]\n",
    "    offset_mapping = [(token.idx,token.idx+len(token)) for token in tokenized_text]\n",
    "    return {'tokens': tokens, 'offset_mapping': offset_mapping}"
   ]
  },
  {
   "cell_type": "code",
   "execution_count": 15,
   "id": "5a57bca6",
   "metadata": {
    "scrolled": true
   },
   "outputs": [
    {
     "data": {
      "text/plain": [
       "{'tokens': ['Kattie',\n",
       "  'could',\n",
       "  'you',\n",
       "  'please',\n",
       "  'share',\n",
       "  'your',\n",
       "  'recomndations',\n",
       "  'about',\n",
       "  'vegetarian',\n",
       "  'diet',\n",
       "  'for',\n",
       "  '72',\n",
       "  'old',\n",
       "  'Intersex',\n",
       "  'person',\n",
       "  'with',\n",
       "  '158centimeters',\n",
       "  '?'],\n",
       " 'offset_mapping': [(0, 6),\n",
       "  (7, 12),\n",
       "  (13, 16),\n",
       "  (17, 23),\n",
       "  (24, 29),\n",
       "  (30, 34),\n",
       "  (35, 48),\n",
       "  (49, 54),\n",
       "  (55, 65),\n",
       "  (66, 70),\n",
       "  (71, 74),\n",
       "  (75, 77),\n",
       "  (78, 81),\n",
       "  (82, 90),\n",
       "  (91, 97),\n",
       "  (98, 102),\n",
       "  (103, 117),\n",
       "  (117, 118)]}"
      ]
     },
     "execution_count": 15,
     "metadata": {},
     "output_type": "execute_result"
    }
   ],
   "source": [
    "tokenize_with_spacy(df.iloc[2].unmasked_text, tokenizer=en_tokenizer)"
   ]
  },
  {
   "cell_type": "code",
   "execution_count": 44,
   "id": "2af41c8b",
   "metadata": {},
   "outputs": [],
   "source": [
    "df[\"tokenised_text\"] = df['unmasked_text'].apply(lambda x:tokenize_with_spacy(x,en_tokenizer))"
   ]
  },
  {
   "cell_type": "code",
   "execution_count": 45,
   "id": "a128194a",
   "metadata": {},
   "outputs": [],
   "source": [
    "df[\"tokens\"] = df['tokenised_text'].apply(lambda x:x['tokens'])\n",
    "df[\"offset_mapping\"] = df['tokenised_text'].apply(lambda x:x['offset_mapping'])"
   ]
  },
  {
   "cell_type": "code",
   "execution_count": 46,
   "id": "9aa0f642",
   "metadata": {},
   "outputs": [],
   "source": [
    "def get_labels(x,dic_to_keep):\n",
    "    d = eval(x['span_labels'])\n",
    "    z = [((xx[0],xx[1]),dic_to_keep[xx[2].split('_')[0]]) for xx in d if xx[2].split('_')[0] in dic_to_keep.keys() ]\n",
    "    \n",
    "    street_is_ok = 1 if \"STREET_ADDRESS\" in x['label_text'] else 0\n",
    "    \n",
    "    z = [(xx[0],xx[1]) for xx in z if (xx[1]!=\"STREET_ADDRESS\") or (xx[1]==\"STREET_ADDRESS\" and street_is_ok)]\n",
    "    \n",
    "    labels = []\n",
    "    toff = np.array(x['offset_mapping'])\n",
    "    labels = np.array([\"O\"]*len(toff),dtype='<U50')\n",
    "    if len(z):\n",
    "        woff = np.array([xx[0] for xx in z])\n",
    "        \n",
    "        wx1, wx2 = woff.T\n",
    "        tx1, tx2 = toff.T\n",
    "        ix1 = np.maximum(wx1[..., None], tx1[None, ...])\n",
    "        ix2 = np.minimum(wx2[..., None], tx2[None, ...])\n",
    "        ux1 = np.minimum(wx1[..., None], tx1[None, ...])\n",
    "        ux2 = np.maximum(wx2[..., None], tx2[None, ...])\n",
    "        ious = (ix2 - ix1).clip(min=0) / (ux2 - ux1)\n",
    "        \n",
    "        \n",
    "        for i,row in enumerate(ious):\n",
    "            inds = row.nonzero()[0]\n",
    "            labels[inds] = z[i][1] \n",
    "            \n",
    "        labels = labels.tolist()\n",
    "        \n",
    "    return labels"
   ]
  },
  {
   "cell_type": "code",
   "execution_count": 47,
   "id": "71a36883",
   "metadata": {},
   "outputs": [],
   "source": [
    "df['labels'] = df.apply(lambda x: get_labels(x,KEEP_DIC),axis=1)"
   ]
  },
  {
   "cell_type": "code",
   "execution_count": 48,
   "id": "ebe7a5dc",
   "metadata": {},
   "outputs": [
    {
     "data": {
      "text/html": [
       "<div>\n",
       "<style scoped>\n",
       "    .dataframe tbody tr th:only-of-type {\n",
       "        vertical-align: middle;\n",
       "    }\n",
       "\n",
       "    .dataframe tbody tr th {\n",
       "        vertical-align: top;\n",
       "    }\n",
       "\n",
       "    .dataframe thead th {\n",
       "        text-align: right;\n",
       "    }\n",
       "</style>\n",
       "<table border=\"1\" class=\"dataframe\">\n",
       "  <thead>\n",
       "    <tr style=\"text-align: right;\">\n",
       "      <th></th>\n",
       "      <th>masked_text</th>\n",
       "      <th>unmasked_text</th>\n",
       "      <th>privacy_mask</th>\n",
       "      <th>span_labels</th>\n",
       "      <th>bio_labels</th>\n",
       "      <th>tokenised_text</th>\n",
       "      <th>label</th>\n",
       "      <th>label_text</th>\n",
       "      <th>label_att</th>\n",
       "      <th>tokens</th>\n",
       "      <th>offset_mapping</th>\n",
       "      <th>labels</th>\n",
       "    </tr>\n",
       "  </thead>\n",
       "  <tbody>\n",
       "    <tr>\n",
       "      <th>209256</th>\n",
       "      <td>La nostra università, situata in [STATE_1], si...</td>\n",
       "      <td>La nostra università, situata in Marche, si pr...</td>\n",
       "      <td>{'[STATE_1]': 'Marche', '[JOBTITLE_1]': 'Legac...</td>\n",
       "      <td>[[0, 33, 'O'], [33, 39, 'STATE_1'], [39, 120, ...</td>\n",
       "      <td>[O, O, O, O, O, O, O, O, O, O, O, B-STATE, O, ...</td>\n",
       "      <td>{'tokens': ['La', 'nostra', 'università', ',',...</td>\n",
       "      <td>([NAME_STUDENT], [Reese])</td>\n",
       "      <td>[NAME_STUDENT]</td>\n",
       "      <td>[Reese]</td>\n",
       "      <td>[La, nostra, università, ,, situata, in, March...</td>\n",
       "      <td>[(0, 2), (3, 9), (10, 20), (20, 21), (22, 29),...</td>\n",
       "      <td>[O, O, O, O, O, O, O, O, O, O, O, O, O, O, O, ...</td>\n",
       "    </tr>\n",
       "    <tr>\n",
       "      <th>209257</th>\n",
       "      <td>Allegato è lo scontrino per il programma educa...</td>\n",
       "      <td>Allegato è lo scontrino per il programma educa...</td>\n",
       "      <td>{'[CURRENCYNAME_1]': 'New Israeli Sheqel', '[C...</td>\n",
       "      <td>[[0, 110, 'O'], [110, 128, 'CURRENCYNAME_1'], ...</td>\n",
       "      <td>[O, O, O, O, O, O, O, O, O, O, O, O, O, O, O, ...</td>\n",
       "      <td>{'tokens': ['Allegato', 'è', 'lo', 'scontrino'...</td>\n",
       "      <td>([], [])</td>\n",
       "      <td>[]</td>\n",
       "      <td>[]</td>\n",
       "      <td>[Allegato, è, lo, scontrino, per, il, programm...</td>\n",
       "      <td>[(0, 8), (9, 10), (11, 13), (14, 23), (24, 27)...</td>\n",
       "      <td>[O, O, O, O, O, O, O, O, O, O, O, O, O, O, O, ...</td>\n",
       "    </tr>\n",
       "    <tr>\n",
       "      <th>209258</th>\n",
       "      <td>Non dimenticare di segnalare i progressi di ad...</td>\n",
       "      <td>Non dimenticare di segnalare i progressi di ad...</td>\n",
       "      <td>{'[ZIPCODE_1]': '09318-1647', '[DOB_1]': '1915...</td>\n",
       "      <td>[[0, 81, 'O'], [81, 91, 'ZIPCODE_1'], [91, 101...</td>\n",
       "      <td>[O, O, O, O, O, O, O, O, O, O, O, O, O, O, O, ...</td>\n",
       "      <td>{'tokens': ['Non', 'dimenticare', 'di', 'segna...</td>\n",
       "      <td>([NAME_STUDENT], [Lourdes])</td>\n",
       "      <td>[NAME_STUDENT]</td>\n",
       "      <td>[Lourdes]</td>\n",
       "      <td>[Non, dimenticare, di, segnalare, i, progressi...</td>\n",
       "      <td>[(0, 3), (4, 15), (16, 18), (19, 28), (29, 30)...</td>\n",
       "      <td>[O, O, O, O, O, O, O, O, O, O, O, O, O, O, O, ...</td>\n",
       "    </tr>\n",
       "    <tr>\n",
       "      <th>209259</th>\n",
       "      <td>[GENDER_1], abbiamo elaborato la tua richiesta...</td>\n",
       "      <td>Male to female transgender woman, abbiamo elab...</td>\n",
       "      <td>{'[GENDER_1]': 'Male to female transgender wom...</td>\n",
       "      <td>[[0, 32, 'GENDER_1'], [32, 140, 'O'], [140, 15...</td>\n",
       "      <td>[B-GENDER, I-GENDER, I-GENDER, I-GENDER, I-GEN...</td>\n",
       "      <td>{'tokens': ['Male', 'to', 'female', 'transgend...</td>\n",
       "      <td>([], [])</td>\n",
       "      <td>[]</td>\n",
       "      <td>[]</td>\n",
       "      <td>[Male, to, female, transgender, woman, ,, abbi...</td>\n",
       "      <td>[(0, 4), (5, 7), (8, 14), (15, 26), (27, 32), ...</td>\n",
       "      <td>[O, O, O, O, O, O, O, O, O, O, O, O, O, O, O, ...</td>\n",
       "    </tr>\n",
       "    <tr>\n",
       "      <th>209260</th>\n",
       "      <td>Infine, come persona interessata all'educazion...</td>\n",
       "      <td>Infine, come persona interessata all'educazion...</td>\n",
       "      <td>{'[URL_1]': 'https://bruised-snob.name', '[USE...</td>\n",
       "      <td>[[0, 105, 'O'], [105, 130, 'URL_1'], [130, 198...</td>\n",
       "      <td>[O, O, O, O, O, O, O, O, O, O, O, O, O, O, O, ...</td>\n",
       "      <td>{'tokens': ['Infine', ',', 'come', 'persona', ...</td>\n",
       "      <td>([ID_NUM], [1598:bede:1f5a:9ffe:641f:c74f:5d77...</td>\n",
       "      <td>[ID_NUM]</td>\n",
       "      <td>[1598:bede:1f5a:9ffe:641f:c74f:5d77:fede]</td>\n",
       "      <td>[Infine, ,, come, persona, interessata, all'ed...</td>\n",
       "      <td>[(0, 6), (6, 7), (8, 12), (13, 20), (21, 32), ...</td>\n",
       "      <td>[O, O, O, O, O, O, O, O, O, O, O, O, O, O, O, ...</td>\n",
       "    </tr>\n",
       "  </tbody>\n",
       "</table>\n",
       "</div>"
      ],
      "text/plain": [
       "                                              masked_text                                      unmasked_text                                       privacy_mask                                        span_labels                                         bio_labels                                     tokenised_text                                              label      label_text                                  label_att                                             tokens                                     offset_mapping                                             labels\n",
       "209256  La nostra università, situata in [STATE_1], si...  La nostra università, situata in Marche, si pr...  {'[STATE_1]': 'Marche', '[JOBTITLE_1]': 'Legac...  [[0, 33, 'O'], [33, 39, 'STATE_1'], [39, 120, ...  [O, O, O, O, O, O, O, O, O, O, O, B-STATE, O, ...  {'tokens': ['La', 'nostra', 'università', ',',...                          ([NAME_STUDENT], [Reese])  [NAME_STUDENT]                                    [Reese]  [La, nostra, università, ,, situata, in, March...  [(0, 2), (3, 9), (10, 20), (20, 21), (22, 29),...  [O, O, O, O, O, O, O, O, O, O, O, O, O, O, O, ...\n",
       "209257  Allegato è lo scontrino per il programma educa...  Allegato è lo scontrino per il programma educa...  {'[CURRENCYNAME_1]': 'New Israeli Sheqel', '[C...  [[0, 110, 'O'], [110, 128, 'CURRENCYNAME_1'], ...  [O, O, O, O, O, O, O, O, O, O, O, O, O, O, O, ...  {'tokens': ['Allegato', 'è', 'lo', 'scontrino'...                                           ([], [])              []                                         []  [Allegato, è, lo, scontrino, per, il, programm...  [(0, 8), (9, 10), (11, 13), (14, 23), (24, 27)...  [O, O, O, O, O, O, O, O, O, O, O, O, O, O, O, ...\n",
       "209258  Non dimenticare di segnalare i progressi di ad...  Non dimenticare di segnalare i progressi di ad...  {'[ZIPCODE_1]': '09318-1647', '[DOB_1]': '1915...  [[0, 81, 'O'], [81, 91, 'ZIPCODE_1'], [91, 101...  [O, O, O, O, O, O, O, O, O, O, O, O, O, O, O, ...  {'tokens': ['Non', 'dimenticare', 'di', 'segna...                        ([NAME_STUDENT], [Lourdes])  [NAME_STUDENT]                                  [Lourdes]  [Non, dimenticare, di, segnalare, i, progressi...  [(0, 3), (4, 15), (16, 18), (19, 28), (29, 30)...  [O, O, O, O, O, O, O, O, O, O, O, O, O, O, O, ...\n",
       "209259  [GENDER_1], abbiamo elaborato la tua richiesta...  Male to female transgender woman, abbiamo elab...  {'[GENDER_1]': 'Male to female transgender wom...  [[0, 32, 'GENDER_1'], [32, 140, 'O'], [140, 15...  [B-GENDER, I-GENDER, I-GENDER, I-GENDER, I-GEN...  {'tokens': ['Male', 'to', 'female', 'transgend...                                           ([], [])              []                                         []  [Male, to, female, transgender, woman, ,, abbi...  [(0, 4), (5, 7), (8, 14), (15, 26), (27, 32), ...  [O, O, O, O, O, O, O, O, O, O, O, O, O, O, O, ...\n",
       "209260  Infine, come persona interessata all'educazion...  Infine, come persona interessata all'educazion...  {'[URL_1]': 'https://bruised-snob.name', '[USE...  [[0, 105, 'O'], [105, 130, 'URL_1'], [130, 198...  [O, O, O, O, O, O, O, O, O, O, O, O, O, O, O, ...  {'tokens': ['Infine', ',', 'come', 'persona', ...  ([ID_NUM], [1598:bede:1f5a:9ffe:641f:c74f:5d77...        [ID_NUM]  [1598:bede:1f5a:9ffe:641f:c74f:5d77:fede]  [Infine, ,, come, persona, interessata, all'ed...  [(0, 6), (6, 7), (8, 12), (13, 20), (21, 32), ...  [O, O, O, O, O, O, O, O, O, O, O, O, O, O, O, ..."
      ]
     },
     "execution_count": 48,
     "metadata": {},
     "output_type": "execute_result"
    }
   ],
   "source": [
    "df.tail()"
   ]
  },
  {
   "cell_type": "code",
   "execution_count": null,
   "id": "6840616e",
   "metadata": {},
   "outputs": [],
   "source": []
  },
  {
   "cell_type": "code",
   "execution_count": 49,
   "id": "02668c27",
   "metadata": {},
   "outputs": [],
   "source": [
    "import spacy\n",
    "from spacy import displacy\n",
    "from pylab import cm, matplotlib\n",
    "import os\n",
    "\n",
    "colors = {\n",
    "            'NAME_STUDENT': '#8000ff',\n",
    "            'EMAIL': '#2b7ff6',\n",
    "            'USERNAME': '#2adddd',\n",
    "            'ID_NUM': '#80ffb4',\n",
    "            'PHONE_NUM': 'd4dd80',\n",
    "            'URL_PERSONAL': '#ff8042',\n",
    "            'STREET_ADDRESS': '#ff0000'\n",
    "         }\n",
    "\n",
    "\n",
    "def visualize(full_text,offset_mapping,labels):\n",
    "    \n",
    "    ents = []\n",
    "    for offset,lab in zip(offset_mapping,labels):\n",
    "        ents.append({\n",
    "                        'start': int(offset[0]), \n",
    "                         'end': int(offset[1]), \n",
    "                         'label': str(lab.split('-')[-1]) #+ ' - ' + str(row['discourse_effectiveness'])\n",
    "                    })\n",
    "\n",
    "    doc2 = {\n",
    "        \"text\": full_text,\n",
    "        \"ents\": ents,\n",
    "#         \"title\": \"idx\"\n",
    "    }\n",
    "\n",
    "    options = {\"ents\": list(colors.keys()), \"colors\": colors}\n",
    "    displacy.render(doc2, style=\"ent\", options=options, manual=True, jupyter=True)"
   ]
  },
  {
   "cell_type": "code",
   "execution_count": null,
   "id": "79e3acc5",
   "metadata": {},
   "outputs": [],
   "source": []
  },
  {
   "cell_type": "code",
   "execution_count": 147,
   "id": "bce1eb9e",
   "metadata": {},
   "outputs": [
    {
     "data": {
      "text/plain": [
       "89102"
      ]
     },
     "execution_count": 147,
     "metadata": {},
     "output_type": "execute_result"
    }
   ],
   "source": [
    "idx = random.choice(df[df.label_text.astype(str)!=\"[]\"].index)\n",
    "\n",
    "full_text = df.iloc[idx]['unmasked_text']\n",
    "tokens = df.iloc[idx]['tokens']\n",
    "labels = df.iloc[idx]['labels']\n",
    "idx"
   ]
  },
  {
   "cell_type": "code",
   "execution_count": 148,
   "id": "ee8eeef3",
   "metadata": {},
   "outputs": [
    {
     "data": {
      "text/plain": [
       "\"{'[USERNAME_1]': 'April_Cassin66', '[IPV6_1]': '0d5c:a4bb:bffd:efcf:ecea:30cf:f3ae:fbcf', '[JOBAREA_1]': 'Intranet', '[PASSWORD_1]': 'TtS6t4YIPBbi'}\""
      ]
     },
     "execution_count": 148,
     "metadata": {},
     "output_type": "execute_result"
    }
   ],
   "source": [
    "df.iloc[idx]['privacy_mask']"
   ]
  },
  {
   "cell_type": "code",
   "execution_count": 149,
   "id": "49c4db8d",
   "metadata": {},
   "outputs": [
    {
     "data": {
      "text/plain": [
       "\"[[0, 43, 'O'], [43, 57, 'USERNAME_1'], [57, 65, 'O'], [65, 104, 'IPV6_1'], [104, 224, 'O'], [224, 232, 'JOBAREA_1'], [232, 282, 'O'], [282, 294, 'PASSWORD_1'], [294, 295, 'O']]\""
      ]
     },
     "execution_count": 149,
     "metadata": {},
     "output_type": "execute_result"
    }
   ],
   "source": [
    "df.iloc[idx]['span_labels']"
   ]
  },
  {
   "cell_type": "code",
   "execution_count": 150,
   "id": "7be16b79",
   "metadata": {},
   "outputs": [],
   "source": [
    "# df.iloc[idx]['labels']"
   ]
  },
  {
   "cell_type": "code",
   "execution_count": 151,
   "id": "663ffe6e",
   "metadata": {},
   "outputs": [],
   "source": [
    "offset_mapping = get_offset_mapping(full_text, tokens)\n",
    "offset_mapping_ = [x for (x,y) in zip(offset_mapping,labels) if y!=\"O\"]\n",
    "labels_ = [x for x in labels if x!=\"O\"]"
   ]
  },
  {
   "cell_type": "code",
   "execution_count": 152,
   "id": "0b1a60dd",
   "metadata": {},
   "outputs": [
    {
     "data": {
      "text/html": [
       "<span class=\"tex2jax_ignore\"><div class=\"entities\" style=\"line-height: 2.5; direction: ltr\">Hé, une tentative de connexion en tant que \n",
       "<mark class=\"entity\" style=\"background: #2adddd; padding: 0.45em 0.6em; margin: 0 0.25em; line-height: 1; border-radius: 0.35em;\">\n",
       "    April_Cassin66\n",
       "    <span style=\"font-size: 0.8em; font-weight: bold; line-height: 1; border-radius: 0.35em; vertical-align: middle; margin-left: 0.5rem\">USERNAME</span>\n",
       "</mark>\n",
       " depuis \n",
       "<mark class=\"entity\" style=\"background: #80ffb4; padding: 0.45em 0.6em; margin: 0 0.25em; line-height: 1; border-radius: 0.35em;\">\n",
       "    0d5c\n",
       "    <span style=\"font-size: 0.8em; font-weight: bold; line-height: 1; border-radius: 0.35em; vertical-align: middle; margin-left: 0.5rem\">ID_NUM</span>\n",
       "</mark>\n",
       "\n",
       "<mark class=\"entity\" style=\"background: #80ffb4; padding: 0.45em 0.6em; margin: 0 0.25em; line-height: 1; border-radius: 0.35em;\">\n",
       "    :\n",
       "    <span style=\"font-size: 0.8em; font-weight: bold; line-height: 1; border-radius: 0.35em; vertical-align: middle; margin-left: 0.5rem\">ID_NUM</span>\n",
       "</mark>\n",
       "\n",
       "<mark class=\"entity\" style=\"background: #80ffb4; padding: 0.45em 0.6em; margin: 0 0.25em; line-height: 1; border-radius: 0.35em;\">\n",
       "    a4bb\n",
       "    <span style=\"font-size: 0.8em; font-weight: bold; line-height: 1; border-radius: 0.35em; vertical-align: middle; margin-left: 0.5rem\">ID_NUM</span>\n",
       "</mark>\n",
       "\n",
       "<mark class=\"entity\" style=\"background: #80ffb4; padding: 0.45em 0.6em; margin: 0 0.25em; line-height: 1; border-radius: 0.35em;\">\n",
       "    :\n",
       "    <span style=\"font-size: 0.8em; font-weight: bold; line-height: 1; border-radius: 0.35em; vertical-align: middle; margin-left: 0.5rem\">ID_NUM</span>\n",
       "</mark>\n",
       "\n",
       "<mark class=\"entity\" style=\"background: #80ffb4; padding: 0.45em 0.6em; margin: 0 0.25em; line-height: 1; border-radius: 0.35em;\">\n",
       "    bffd\n",
       "    <span style=\"font-size: 0.8em; font-weight: bold; line-height: 1; border-radius: 0.35em; vertical-align: middle; margin-left: 0.5rem\">ID_NUM</span>\n",
       "</mark>\n",
       "\n",
       "<mark class=\"entity\" style=\"background: #80ffb4; padding: 0.45em 0.6em; margin: 0 0.25em; line-height: 1; border-radius: 0.35em;\">\n",
       "    :\n",
       "    <span style=\"font-size: 0.8em; font-weight: bold; line-height: 1; border-radius: 0.35em; vertical-align: middle; margin-left: 0.5rem\">ID_NUM</span>\n",
       "</mark>\n",
       "\n",
       "<mark class=\"entity\" style=\"background: #80ffb4; padding: 0.45em 0.6em; margin: 0 0.25em; line-height: 1; border-radius: 0.35em;\">\n",
       "    efcf\n",
       "    <span style=\"font-size: 0.8em; font-weight: bold; line-height: 1; border-radius: 0.35em; vertical-align: middle; margin-left: 0.5rem\">ID_NUM</span>\n",
       "</mark>\n",
       "\n",
       "<mark class=\"entity\" style=\"background: #80ffb4; padding: 0.45em 0.6em; margin: 0 0.25em; line-height: 1; border-radius: 0.35em;\">\n",
       "    :\n",
       "    <span style=\"font-size: 0.8em; font-weight: bold; line-height: 1; border-radius: 0.35em; vertical-align: middle; margin-left: 0.5rem\">ID_NUM</span>\n",
       "</mark>\n",
       "\n",
       "<mark class=\"entity\" style=\"background: #80ffb4; padding: 0.45em 0.6em; margin: 0 0.25em; line-height: 1; border-radius: 0.35em;\">\n",
       "    ecea:30cf\n",
       "    <span style=\"font-size: 0.8em; font-weight: bold; line-height: 1; border-radius: 0.35em; vertical-align: middle; margin-left: 0.5rem\">ID_NUM</span>\n",
       "</mark>\n",
       "\n",
       "<mark class=\"entity\" style=\"background: #80ffb4; padding: 0.45em 0.6em; margin: 0 0.25em; line-height: 1; border-radius: 0.35em;\">\n",
       "    :\n",
       "    <span style=\"font-size: 0.8em; font-weight: bold; line-height: 1; border-radius: 0.35em; vertical-align: middle; margin-left: 0.5rem\">ID_NUM</span>\n",
       "</mark>\n",
       "\n",
       "<mark class=\"entity\" style=\"background: #80ffb4; padding: 0.45em 0.6em; margin: 0 0.25em; line-height: 1; border-radius: 0.35em;\">\n",
       "    f3ae\n",
       "    <span style=\"font-size: 0.8em; font-weight: bold; line-height: 1; border-radius: 0.35em; vertical-align: middle; margin-left: 0.5rem\">ID_NUM</span>\n",
       "</mark>\n",
       "\n",
       "<mark class=\"entity\" style=\"background: #80ffb4; padding: 0.45em 0.6em; margin: 0 0.25em; line-height: 1; border-radius: 0.35em;\">\n",
       "    :\n",
       "    <span style=\"font-size: 0.8em; font-weight: bold; line-height: 1; border-radius: 0.35em; vertical-align: middle; margin-left: 0.5rem\">ID_NUM</span>\n",
       "</mark>\n",
       "\n",
       "<mark class=\"entity\" style=\"background: #80ffb4; padding: 0.45em 0.6em; margin: 0 0.25em; line-height: 1; border-radius: 0.35em;\">\n",
       "    fbcf\n",
       "    <span style=\"font-size: 0.8em; font-weight: bold; line-height: 1; border-radius: 0.35em; vertical-align: middle; margin-left: 0.5rem\">ID_NUM</span>\n",
       "</mark>\n",
       " a été détectée. Confirmez s'il s'agit de vous qui vous inscrivez à la formation en leadership éducatif dans le domaine Intranet ? Dans le cas contraire, veuillez modifier votre \n",
       "<mark class=\"entity\" style=\"background: #80ffb4; padding: 0.45em 0.6em; margin: 0 0.25em; line-height: 1; border-radius: 0.35em;\">\n",
       "    TtS6t4YIPBbi\n",
       "    <span style=\"font-size: 0.8em; font-weight: bold; line-height: 1; border-radius: 0.35em; vertical-align: middle; margin-left: 0.5rem\">ID_NUM</span>\n",
       "</mark>\n",
       ".</div></span>"
      ],
      "text/plain": [
       "<IPython.core.display.HTML object>"
      ]
     },
     "metadata": {},
     "output_type": "display_data"
    }
   ],
   "source": [
    "visualize(full_text,offset_mapping_,labels_)"
   ]
  },
  {
   "cell_type": "code",
   "execution_count": 104,
   "id": "09a3d5ea",
   "metadata": {},
   "outputs": [
    {
     "data": {
      "text/html": [
       "<div>\n",
       "<style scoped>\n",
       "    .dataframe tbody tr th:only-of-type {\n",
       "        vertical-align: middle;\n",
       "    }\n",
       "\n",
       "    .dataframe tbody tr th {\n",
       "        vertical-align: top;\n",
       "    }\n",
       "\n",
       "    .dataframe thead th {\n",
       "        text-align: right;\n",
       "    }\n",
       "</style>\n",
       "<table border=\"1\" class=\"dataframe\">\n",
       "  <thead>\n",
       "    <tr style=\"text-align: right;\">\n",
       "      <th></th>\n",
       "      <th>masked_text</th>\n",
       "      <th>unmasked_text</th>\n",
       "      <th>privacy_mask</th>\n",
       "      <th>span_labels</th>\n",
       "      <th>bio_labels</th>\n",
       "      <th>tokenised_text</th>\n",
       "      <th>label</th>\n",
       "      <th>label_text</th>\n",
       "      <th>label_att</th>\n",
       "      <th>tokens</th>\n",
       "      <th>offset_mapping</th>\n",
       "      <th>labels</th>\n",
       "    </tr>\n",
       "  </thead>\n",
       "  <tbody>\n",
       "    <tr>\n",
       "      <th>0</th>\n",
       "      <td>A student's assessment was found on device bea...</td>\n",
       "      <td>A student's assessment was found on device bea...</td>\n",
       "      <td>{'[PHONEIMEI_1]': '06-184755-866851-3', '[JOBA...</td>\n",
       "      <td>[[0, 57, 'O'], [57, 75, 'PHONEIMEI_1'], [75, 1...</td>\n",
       "      <td>[O, O, O, O, O, O, O, O, O, O, O, O, O, B-PHON...</td>\n",
       "      <td>{'tokens': ['A', 'student', ''s', 'assessment'...</td>\n",
       "      <td>([PHONE_NUM], [06-184755-866851-3])</td>\n",
       "      <td>[PHONE_NUM]</td>\n",
       "      <td>[06-184755-866851-3]</td>\n",
       "      <td>[A, student, 's, assessment, was, found, on, d...</td>\n",
       "      <td>[(0, 1), (2, 9), (9, 11), (12, 22), (23, 26), ...</td>\n",
       "      <td>[O, O, O, O, O, O, O, O, O, O, O, PHONE_NUM, P...</td>\n",
       "    </tr>\n",
       "    <tr>\n",
       "      <th>1</th>\n",
       "      <td>Dear [FIRSTNAME_1], as per our records, your l...</td>\n",
       "      <td>Dear Omer, as per our records, your license 78...</td>\n",
       "      <td>{'[FIRSTNAME_1]': 'Omer', '[VEHICLEVIN_1]': '7...</td>\n",
       "      <td>[[0, 5, 'O'], [5, 9, 'FIRSTNAME_1'], [9, 44, '...</td>\n",
       "      <td>[O, B-FIRSTNAME, I-FIRSTNAME, O, O, O, O, O, O...</td>\n",
       "      <td>{'tokens': ['Dear', 'Omer', ',', 'as', 'per', ...</td>\n",
       "      <td>([NAME_STUDENT, ID_NUM], [Omer, 78B5R2MVFAHJ48...</td>\n",
       "      <td>[NAME_STUDENT, ID_NUM]</td>\n",
       "      <td>[Omer, 78B5R2MVFAHJ48500]</td>\n",
       "      <td>[Dear, Omer, ,, as, per, our, records, ,, your...</td>\n",
       "      <td>[(0, 4), (5, 9), (9, 10), (11, 13), (14, 17), ...</td>\n",
       "      <td>[O, NAME_STUDENT, O, O, O, O, O, O, O, O, ID_N...</td>\n",
       "    </tr>\n",
       "    <tr>\n",
       "      <th>2</th>\n",
       "      <td>[FIRSTNAME_1] could you please share your reco...</td>\n",
       "      <td>Kattie could you please share your recomndatio...</td>\n",
       "      <td>{'[FIRSTNAME_1]': 'Kattie', '[AGE_1]': '72', '...</td>\n",
       "      <td>[[0, 6, 'FIRSTNAME_1'], [6, 75, 'O'], [75, 77,...</td>\n",
       "      <td>[B-FIRSTNAME, I-FIRSTNAME, O, O, O, O, O, O, O...</td>\n",
       "      <td>{'tokens': ['Kattie', 'could', 'you', 'please'...</td>\n",
       "      <td>([NAME_STUDENT], [Kattie])</td>\n",
       "      <td>[NAME_STUDENT]</td>\n",
       "      <td>[Kattie]</td>\n",
       "      <td>[Kattie, could, you, please, share, your, reco...</td>\n",
       "      <td>[(0, 6), (7, 12), (13, 16), (17, 23), (24, 29)...</td>\n",
       "      <td>[NAME_STUDENT, O, O, O, O, O, O, O, O, O, O, O...</td>\n",
       "    </tr>\n",
       "    <tr>\n",
       "      <th>3</th>\n",
       "      <td>Emergency supplies in [BUILDINGNUMBER_1] need ...</td>\n",
       "      <td>Emergency supplies in 16356 need a refill. Use...</td>\n",
       "      <td>{'[BUILDINGNUMBER_1]': '16356', '[MASKEDNUMBER...</td>\n",
       "      <td>[[0, 22, 'O'], [22, 27, 'BUILDINGNUMBER_1'], [...</td>\n",
       "      <td>[O, O, O, B-BUILDINGNUMBER, I-BUILDINGNUMBER, ...</td>\n",
       "      <td>{'tokens': ['Emergency', 'supplies', 'in', '16...</td>\n",
       "      <td>([ID_NUM], [5890724654311332])</td>\n",
       "      <td>[ID_NUM]</td>\n",
       "      <td>[5890724654311332]</td>\n",
       "      <td>[Emergency, supplies, in, 16356, need, a, refi...</td>\n",
       "      <td>[(0, 9), (10, 18), (19, 21), (22, 27), (28, 32...</td>\n",
       "      <td>[O, O, O, O, O, O, O, O, O, ID_NUM, O, O, O, O...</td>\n",
       "    </tr>\n",
       "    <tr>\n",
       "      <th>4</th>\n",
       "      <td>The [AGE_1] old child at [BUILDINGNUMBER_1], h...</td>\n",
       "      <td>The 88 old child at 5862, has showcased an unu...</td>\n",
       "      <td>{'[AGE_1]': '88', '[BUILDINGNUMBER_1]': '5862'...</td>\n",
       "      <td>[[0, 4, 'O'], [4, 6, 'AGE_1'], [6, 20, 'O'], [...</td>\n",
       "      <td>[O, B-AGE, O, O, O, B-BUILDINGNUMBER, I-BUILDI...</td>\n",
       "      <td>{'tokens': ['The', '88', 'old', 'child', 'at',...</td>\n",
       "      <td>([ID_NUM], [Y2rWliOhf8Ir])</td>\n",
       "      <td>[ID_NUM]</td>\n",
       "      <td>[Y2rWliOhf8Ir]</td>\n",
       "      <td>[The, 88, old, child, at, 5862, ,, has, showca...</td>\n",
       "      <td>[(0, 3), (4, 6), (7, 10), (11, 16), (17, 19), ...</td>\n",
       "      <td>[O, O, O, O, O, O, O, O, O, O, O, O, O, O, O, ...</td>\n",
       "    </tr>\n",
       "  </tbody>\n",
       "</table>\n",
       "</div>"
      ],
      "text/plain": [
       "                                         masked_text                                      unmasked_text                                       privacy_mask                                        span_labels                                         bio_labels                                     tokenised_text                                              label              label_text                  label_att                                             tokens                                     offset_mapping                                             labels\n",
       "0  A student's assessment was found on device bea...  A student's assessment was found on device bea...  {'[PHONEIMEI_1]': '06-184755-866851-3', '[JOBA...  [[0, 57, 'O'], [57, 75, 'PHONEIMEI_1'], [75, 1...  [O, O, O, O, O, O, O, O, O, O, O, O, O, B-PHON...  {'tokens': ['A', 'student', ''s', 'assessment'...                ([PHONE_NUM], [06-184755-866851-3])             [PHONE_NUM]       [06-184755-866851-3]  [A, student, 's, assessment, was, found, on, d...  [(0, 1), (2, 9), (9, 11), (12, 22), (23, 26), ...  [O, O, O, O, O, O, O, O, O, O, O, PHONE_NUM, P...\n",
       "1  Dear [FIRSTNAME_1], as per our records, your l...  Dear Omer, as per our records, your license 78...  {'[FIRSTNAME_1]': 'Omer', '[VEHICLEVIN_1]': '7...  [[0, 5, 'O'], [5, 9, 'FIRSTNAME_1'], [9, 44, '...  [O, B-FIRSTNAME, I-FIRSTNAME, O, O, O, O, O, O...  {'tokens': ['Dear', 'Omer', ',', 'as', 'per', ...  ([NAME_STUDENT, ID_NUM], [Omer, 78B5R2MVFAHJ48...  [NAME_STUDENT, ID_NUM]  [Omer, 78B5R2MVFAHJ48500]  [Dear, Omer, ,, as, per, our, records, ,, your...  [(0, 4), (5, 9), (9, 10), (11, 13), (14, 17), ...  [O, NAME_STUDENT, O, O, O, O, O, O, O, O, ID_N...\n",
       "2  [FIRSTNAME_1] could you please share your reco...  Kattie could you please share your recomndatio...  {'[FIRSTNAME_1]': 'Kattie', '[AGE_1]': '72', '...  [[0, 6, 'FIRSTNAME_1'], [6, 75, 'O'], [75, 77,...  [B-FIRSTNAME, I-FIRSTNAME, O, O, O, O, O, O, O...  {'tokens': ['Kattie', 'could', 'you', 'please'...                         ([NAME_STUDENT], [Kattie])          [NAME_STUDENT]                   [Kattie]  [Kattie, could, you, please, share, your, reco...  [(0, 6), (7, 12), (13, 16), (17, 23), (24, 29)...  [NAME_STUDENT, O, O, O, O, O, O, O, O, O, O, O...\n",
       "3  Emergency supplies in [BUILDINGNUMBER_1] need ...  Emergency supplies in 16356 need a refill. Use...  {'[BUILDINGNUMBER_1]': '16356', '[MASKEDNUMBER...  [[0, 22, 'O'], [22, 27, 'BUILDINGNUMBER_1'], [...  [O, O, O, B-BUILDINGNUMBER, I-BUILDINGNUMBER, ...  {'tokens': ['Emergency', 'supplies', 'in', '16...                     ([ID_NUM], [5890724654311332])                [ID_NUM]         [5890724654311332]  [Emergency, supplies, in, 16356, need, a, refi...  [(0, 9), (10, 18), (19, 21), (22, 27), (28, 32...  [O, O, O, O, O, O, O, O, O, ID_NUM, O, O, O, O...\n",
       "4  The [AGE_1] old child at [BUILDINGNUMBER_1], h...  The 88 old child at 5862, has showcased an unu...  {'[AGE_1]': '88', '[BUILDINGNUMBER_1]': '5862'...  [[0, 4, 'O'], [4, 6, 'AGE_1'], [6, 20, 'O'], [...  [O, B-AGE, O, O, O, B-BUILDINGNUMBER, I-BUILDI...  {'tokens': ['The', '88', 'old', 'child', 'at',...                         ([ID_NUM], [Y2rWliOhf8Ir])                [ID_NUM]             [Y2rWliOhf8Ir]  [The, 88, old, child, at, 5862, ,, has, showca...  [(0, 3), (4, 6), (7, 10), (11, 16), (17, 19), ...  [O, O, O, O, O, O, O, O, O, O, O, O, O, O, O, ..."
      ]
     },
     "execution_count": 104,
     "metadata": {},
     "output_type": "execute_result"
    }
   ],
   "source": [
    "df.head()"
   ]
  },
  {
   "cell_type": "code",
   "execution_count": 29,
   "id": "61f8299e",
   "metadata": {},
   "outputs": [
    {
     "data": {
      "text/plain": [
       "(165750, 12)"
      ]
     },
     "execution_count": 29,
     "metadata": {},
     "output_type": "execute_result"
    }
   ],
   "source": [
    "df = df[df.label_text.astype(str)!=\"[]\"].reset_index(drop=True)\n",
    "df.shape"
   ]
  },
  {
   "cell_type": "code",
   "execution_count": 60,
   "id": "064e2fcd",
   "metadata": {},
   "outputs": [],
   "source": [
    "# df[\"offset_mapping\"] = df[\"offset_mapping\"].transform(lambda x:eval(x))\n",
    "# df[\"labels\"] = df[\"labels\"].transform(lambda x:eval(x))\n",
    "# df[\"tokens\"] = df[\"tokens\"].transform(lambda x:eval(x))"
   ]
  },
  {
   "cell_type": "code",
   "execution_count": 36,
   "id": "19e0a9a7",
   "metadata": {},
   "outputs": [],
   "source": [
    "df['document'] = np.arange(len(df))"
   ]
  },
  {
   "cell_type": "code",
   "execution_count": 37,
   "id": "1bb2133c",
   "metadata": {},
   "outputs": [],
   "source": [
    "df['full_text'] = df['unmasked_text']"
   ]
  },
  {
   "cell_type": "code",
   "execution_count": 38,
   "id": "0f87ea4c",
   "metadata": {},
   "outputs": [],
   "source": [
    "df[['document',\"full_text\",\"tokens\",\"labels\",'offset_mapping']].to_csv(data_path/'pii-masking-200k.csv',index=False)"
   ]
  },
  {
   "cell_type": "code",
   "execution_count": 11,
   "id": "2059a0ae",
   "metadata": {},
   "outputs": [
    {
     "name": "stdout",
     "output_type": "stream",
     "text": [
      "Match found from index 32 to 39: 'pattern'\n"
     ]
    }
   ],
   "source": [
    "import re\n",
    "\n",
    "# Example string and pattern\n",
    "txt = \"This is a sample text with some pattern.\"\n",
    "s = \"pattern\"\n",
    "\n",
    "# Find matches using regular expression\n",
    "res = [(m.start(0), m.end(0)) for m in re.finditer(s, txt)]\n",
    "\n",
    "# Check if matches are found\n",
    "if len(res) > 0:\n",
    "    st, ed = res[0][0], res[0][1]\n",
    "    print(f\"Match found from index {st} to {ed}: '{txt[st:ed]}'\")\n",
    "else:\n",
    "    print(\"No match found.\")\n"
   ]
  },
  {
   "cell_type": "code",
   "execution_count": null,
   "id": "5bde01f0",
   "metadata": {},
   "outputs": [],
   "source": []
  }
 ],
 "metadata": {
  "kernelspec": {
   "display_name": "Python 3 (ipykernel)",
   "language": "python",
   "name": "python3"
  },
  "language_info": {
   "codemirror_mode": {
    "name": "ipython",
    "version": 3
   },
   "file_extension": ".py",
   "mimetype": "text/x-python",
   "name": "python",
   "nbconvert_exporter": "python",
   "pygments_lexer": "ipython3",
   "version": "3.10.9"
  }
 },
 "nbformat": 4,
 "nbformat_minor": 5
}

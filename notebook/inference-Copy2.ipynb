{
 "cells": [
  {
   "cell_type": "code",
   "execution_count": 1,
   "id": "4a5a5fe2",
   "metadata": {},
   "outputs": [
    {
     "name": "stdout",
     "output_type": "stream",
     "text": [
      "/workspace/Script/NLP/PII/src\n"
     ]
    }
   ],
   "source": [
    "cd ../src"
   ]
  },
  {
   "cell_type": "code",
   "execution_count": 2,
   "id": "78dff920",
   "metadata": {},
   "outputs": [],
   "source": [
    "# pip install deepspeed"
   ]
  },
  {
   "cell_type": "code",
   "execution_count": 3,
   "id": "bf702c9a",
   "metadata": {},
   "outputs": [],
   "source": [
    "# conda install -y mpi4py "
   ]
  },
  {
   "cell_type": "code",
   "execution_count": 4,
   "id": "84bf958e",
   "metadata": {},
   "outputs": [],
   "source": [
    "import os\n",
    "import gc\n",
    "import sys\n",
    "import json\n",
    "import time\n",
    "import torch\n",
    "import joblib\n",
    "import random\n",
    "import numpy as np\n",
    "import pandas as pd\n",
    "from tqdm.auto import tqdm\n",
    "from pathlib import Path\n",
    "import plotly.express as px\n",
    "import matplotlib.pyplot as plt\n",
    "\n",
    "pd.set_option('display.max_rows', 500)\n",
    "pd.set_option('display.max_columns', 500)\n",
    "pd.set_option('display.width', 1000)\n",
    "pd.set_option('display.float_format', lambda x: '%.4f' % x)"
   ]
  },
  {
   "cell_type": "code",
   "execution_count": 5,
   "id": "ff6482fe",
   "metadata": {},
   "outputs": [],
   "source": [
    "import re\n",
    "import os\n",
    "import gc\n",
    "import math\n",
    "import time\n",
    "import json\n",
    "import random\n",
    "import numpy as np\n",
    "import pandas as pd\n",
    "import wandb\n",
    "\n",
    "from pathlib import Path\n",
    "\n",
    "import torch \n",
    "import torch.nn as nn\n",
    "from torch.cuda import amp\n",
    "import torch.optim as optim\n",
    "import torch.nn.functional as F\n",
    "\n",
    "from transformers import AutoTokenizer, AutoModel, AutoConfig\n",
    " \n",
    "from data.data_utils import to_gpu,to_np\n",
    "from data.dataset import FeedbackDataset,CustomCollator\n",
    "from torch.utils.data import DataLoader\n",
    "\n",
    "from model_zoo.models import FeedbackModel,span_nms,aggregate_tokens_to_words\n",
    "from metrics_loss.metrics import score_feedback,score,pii_fbeta_score_v2,compute_metrics\n",
    "from transformers import get_linear_schedule_with_warmup,get_cosine_schedule_with_warmup,get_polynomial_decay_schedule_with_warmup,get_cosine_with_hard_restarts_schedule_with_warmup\n",
    "\n",
    "from sklearn.metrics import log_loss \n",
    "from tqdm.auto import tqdm\n",
    "\n",
    "from utils.utils import count_parameters\n",
    "import matplotlib.pyplot as plt\n",
    "import warnings\n",
    "warnings.filterwarnings(\"ignore\")"
   ]
  },
  {
   "cell_type": "code",
   "execution_count": 6,
   "id": "a7704609",
   "metadata": {},
   "outputs": [],
   "source": [
    "os.environ[\"TOKENIZERS_PARALLELISM\"] = \"true\""
   ]
  },
  {
   "cell_type": "markdown",
   "id": "8895aef6",
   "metadata": {},
   "source": [
    "# Params"
   ]
  },
  {
   "cell_type": "code",
   "execution_count": 7,
   "id": "5d0104cc",
   "metadata": {},
   "outputs": [
    {
     "data": {
      "text/plain": [
       "['train.json',\n",
       " 'mpware_mixtral8x7b_v1.1-no-i-username.json',\n",
       " 'pii_dataset_fixed.csv',\n",
       " 'mixtral-8x7b-v1.json',\n",
       " '.~lock.lecture2.pptx#',\n",
       " 'Fake_data_1850_218.json',\n",
       " 'test.json',\n",
       " 'archive.zip',\n",
       " 'archive',\n",
       " 'pii-masking-200k.csv',\n",
       " 'sample_submission.csv',\n",
       " 'mpware_mixtral8x7b_v1.1.json']"
      ]
     },
     "execution_count": 7,
     "metadata": {},
     "output_type": "execute_result"
    }
   ],
   "source": [
    "data_path = Path(r\"/database/kaggle/PII/data\")\n",
    "os.listdir(data_path)"
   ]
  },
  {
   "cell_type": "code",
   "execution_count": 8,
   "id": "b34e2843",
   "metadata": {},
   "outputs": [],
   "source": [
    "CHECKPOINT_PATH = Path(r\"/database/kaggle/PII/checkpoint\")"
   ]
  },
  {
   "cell_type": "code",
   "execution_count": 13,
   "id": "9c19b120",
   "metadata": {},
   "outputs": [
    {
     "data": {
      "text/plain": [
       "(6807, 5)"
      ]
     },
     "execution_count": 13,
     "metadata": {},
     "output_type": "execute_result"
    }
   ],
   "source": [
    "df = pd.read_json(data_path/'train.json')\n",
    "df.shape"
   ]
  },
  {
   "cell_type": "code",
   "execution_count": 16,
   "id": "39b243f2",
   "metadata": {},
   "outputs": [
    {
     "name": "stdout",
     "output_type": "stream",
     "text": [
      "Storytelling    Challenge: I was working for a PR Consultancy whose client was one of the top philanthropic  organizations in India that reaches millions of people in India. They’re known for grassroots- level interventions that strengthen communities and bring about tangible outcomes. The media  has always shown interest in the initiatives that they anchor because they are so result-oriented  and impact-focused. Their initiatives encompass a wide range of portfolios such as healthcare,  urbanisation, nutrition, art and conservation, livelihood, water and sanitation, education, social  innovation, and sports. However, it was one of those unusual times where they were unable to  gain media traction on one of the first-ever human interest story they were doing. The keyword  was ‘story’.       It was about a para-swimmer who had conquered insurmountable odds to achieve significant  milestones and accolades with the support of this organisation. Usually, PR agencies are  equipped with the skill to be able to highlight initiatives of organisations to the media and enter a  quote from a beneficiary or spokesperson. The challenge here was to weave in the narrative of  the successful para-swimmer and how the organization gave him a platform to capitalise on his  talents and achieve great things.     After I was tasked with the responsibility to pitch for this story, I had shared the pitch prepared  by the team member working on it earlier with the sports media. I received the same cold  response. Intrigued by this, I decided to revisit the pitch note and realized what may have gone  wrong. It was about an incredible para-athlete, his story. But the pitch note was largely centred  around his achievements and a factual summary of his journey.      Selection: The first step was evaluating all the information we had in place and a thorough scan  of the media and their approach to such stories. I liaised with the team and the client and  explained to them that we may have to connect with the journalists on a human level. And that  was possible through an inspiring story. One that accounted for the failures and the successes,  and most importantly, the mindset. We strived to bring out the human connection and highlight  the thought process that got him his achievements rather than relying on his achievements.     Application: Bring out the human was my goal. I knew we had to detach the person from his  achievements. I decided to listen to past interactions and understand him as a person. I even  scheduled an interview with him to understand him and his story better. Keeping in mind that our  audience – the journalists and readers of the publications in mind I had to sketch out his story in  his own words, highlighting his moments of triumph and failure. It had to seem like it wasn’t a  brand talking, but the para-swimmer.     I rewrote the entire pitch highlighting the mindset of his limitations being his strength. And that  mindset was what led him to the success he went on to achieve. I had to speak to journalists in a  tone that felt like I was sharing something unique and inspiring with them. About this individual  who overcame hurdles biologically, socially, mentally, from the system, financially, but still  managed to cross the Catalina and English Channel in record time.\n",
      "\n",
      "Insight and Approach: Before I knew it, the media was hooked. While I was tasked with  merely attracting one opportunity for this story, I managed to rope in four different publications.  Four interviews by simply telling a story than describing an initiative. Storytelling worked  wonders for this challenge. The journalists attuned their questions to understand the person and  his mindset and going deeper than his achievements. The eventual stories were exclusive large- format stories that the para-swimmer and the client organisation alike were thrilled to see.        This resulted in a more revised understanding across the PR agency about more unconventional,  but potentially effective way of pitching stories that are not profit-driven. Stories that need to  simply be told to inspire. The agency began taking an approach of speaking to spokespeople  more often, to understand their mindset and perspectives and try to incorporate those flavours in  the stories they churn out for their clients.     This course made me understand that while storytelling may be considered as a very fluid term  used only for things that may be less serious, it is highly effective in an industry that thrives on  stories. How ironic is it when agencies speak to clients about stories but use infographics, charts,  facts, and numbers to communicate? Storytelling is an asset that I am sure to deploy at whatever  juncture I possibly can professionally.\n",
      "\n",
      "\n"
     ]
    }
   ],
   "source": [
    "print(df.sample(1).full_text.values[0])"
   ]
  },
  {
   "cell_type": "markdown",
   "id": "9ac0ec52",
   "metadata": {},
   "source": [
    "# Data"
   ]
  },
  {
   "cell_type": "code",
   "execution_count": null,
   "id": "56584b4f",
   "metadata": {},
   "outputs": [],
   "source": []
  },
  {
   "cell_type": "code",
   "execution_count": 17,
   "id": "b98f9574",
   "metadata": {},
   "outputs": [],
   "source": [
    "from train_utils import inference_step\n",
    "from types import SimpleNamespace"
   ]
  },
  {
   "cell_type": "code",
   "execution_count": null,
   "id": "4c09f723",
   "metadata": {},
   "outputs": [],
   "source": []
  },
  {
   "cell_type": "code",
   "execution_count": null,
   "id": "8a936754",
   "metadata": {},
   "outputs": [],
   "source": []
  },
  {
   "cell_type": "code",
   "execution_count": 256,
   "id": "cb348b89",
   "metadata": {},
   "outputs": [],
   "source": [
    "import re\n",
    "import torch\n",
    "import random\n",
    "import numpy as np\n",
    "import pandas as pd\n",
    "from torch.utils.data import Dataset\n",
    "\n",
    "from tqdm.auto import tqdm\n",
    "import re\n",
    "from difflib import SequenceMatcher\n",
    "\n",
    "import codecs\n",
    "import os\n",
    "from collections import Counter\n",
    "from typing import Dict, List, Tuple\n",
    "\n",
    "from tqdm.auto import tqdm\n",
    "import numpy as np\n",
    "import pandas as pd\n",
    "from text_unidecode import unidecode\n",
    "import joblib\n",
    "import torch\n",
    "\n",
    "\n",
    "try:\n",
    "    from faker import Faker\n",
    "    fake = Faker(locale = [\"fr_FR\",\"fr_CA\",\"en_US\",'en_UK','de_DE','en_GB','en_IN','it_IT','fr_BE','es_ES'])\n",
    "    # Faker.seed(0)\n",
    "except:\n",
    "    print('No faker installed')\n",
    "    \n",
    "try:\n",
    "    from spacy.lang.en import English\n",
    "    EN_TOK = English().tokenizer\n",
    "except:\n",
    "    print(\"No spacy\")\n",
    "\n",
    "\n",
    "def remove_double_spaces(text):\n",
    "    # Use a regular expression to replace consecutive spaces with a single space\n",
    "    # cleaned_text = re.sub(r'\\s{2,}', ' | ', text)\n",
    "    cleaned_text = re.sub(r'\\s+', ' ', text)\n",
    "    return cleaned_text\n",
    "    \n",
    "def clean_text(text):\n",
    "    text = text.replace(u'\\x9d', u' ')\n",
    "    text = remove_double_spaces(text)\n",
    "    text = text.strip()\n",
    "    return text\n",
    "# ======================================================================================== #\n",
    "def get_text_start_end(txt, s, search_from=0):\n",
    "    txt = txt[int(search_from):]\n",
    "    try:\n",
    "        idx = txt.find(s)\n",
    "        if idx >= 0:\n",
    "            st = idx\n",
    "            ed = st + len(s)\n",
    "        else:\n",
    "            raise ValueError('Error')\n",
    "    except:\n",
    "        res = [(m.start(0), m.end(0)) for m in re.finditer(s, txt)]\n",
    "        if len(res):\n",
    "            st, ed = res[0][0], res[0][1]\n",
    "        else:\n",
    "            m = SequenceMatcher(None, s, txt).get_opcodes()\n",
    "            for tag, i1, i2, j1, j2 in m:\n",
    "                if tag == 'replace':\n",
    "                    s = s[:i1] + txt[j1:j2] + s[i2:]\n",
    "                if tag == \"delete\":\n",
    "                    s = s[:i1] + s[i2:]\n",
    "\n",
    "            res = [(m.start(0), m.end(0)) for m in re.finditer(s, txt)]\n",
    "            if len(res):\n",
    "                st, ed = res[0][0], res[0][1]\n",
    "            else:\n",
    "                idx = txt.find(s)\n",
    "                if idx >= 0:\n",
    "                    st = idx\n",
    "                    ed = st + len(s)\n",
    "                else:\n",
    "                    st, ed = 0, 0\n",
    "    return st + search_from, ed + search_from\n",
    "    \n",
    "def get_offset_mapping(full_text, tokens):\n",
    "    offset_mapping = []\n",
    "\n",
    "    current_offset = 0\n",
    "    for token in tokens:\n",
    "        start, end = get_text_start_end(full_text, token, search_from=current_offset)\n",
    "        offset_mapping.append((start, end))\n",
    "        current_offset = end\n",
    "\n",
    "    return offset_mapping\n",
    "    \n",
    "def tokenize_with_spacy(text,tok=EN_TOK):\n",
    "    tokenized_text = tok(text)\n",
    "    tokens = [token.text for token in tokenized_text]\n",
    "    offset_mapping = [(token.idx,token.idx+len(token)) for token in tokenized_text]\n",
    "    return {'tokens': tokens, 'offset_mapping': offset_mapping}\n",
    "\n",
    "\n",
    "def DemoText(text,tokenizer):\n",
    "    \n",
    "    \n",
    "    text = clean_text(text.replace(\"\\n\\n\",\" | \").replace(\"\\n\",\" [BR] \"))\n",
    "    \n",
    "    sp_tokens = tokenize_with_spacy(text)\n",
    "    sp_offset_mapping = get_offset_mapping(text, sp_tokens['tokens'])\n",
    "#     sp_offset_mapping = sp_tokens['offset_mapping']\n",
    "    \n",
    "    hf_tokens = tokenizer(text, return_offsets_mapping=True)\n",
    "    input_ids = torch.LongTensor(hf_tokens['input_ids'])\n",
    "    attention_mask = torch.LongTensor(hf_tokens['attention_mask'])\n",
    "    hf_offset_mapping = np.array(hf_tokens['offset_mapping'])\n",
    "    \n",
    "    \n",
    "    num_tokens = len(input_ids)\n",
    "\n",
    "    # token slices of words\n",
    "    woff = np.array(sp_offset_mapping)\n",
    "    toff = np.array(hf_offset_mapping)\n",
    "    wx1, wx2 = woff.T\n",
    "    tx1, tx2 = toff.T\n",
    "    ix1 = np.maximum(wx1[..., None], tx1[None, ...])\n",
    "    ix2 = np.minimum(wx2[..., None], tx2[None, ...])\n",
    "    ux1 = np.minimum(wx1[..., None], tx1[None, ...])\n",
    "    ux2 = np.maximum(wx2[..., None], tx2[None, ...])\n",
    "    ious = (ix2 - ix1).clip(min=0) / (ux2 - ux1)\n",
    "#         assert (ious > 0).any(-1).all()\n",
    "\n",
    "    word_boxes = []\n",
    "    for i,row in enumerate(ious):\n",
    "        inds = row.nonzero()[0]\n",
    "        try:\n",
    "            word_boxes.append([inds[0], 0, inds[-1] + 1, 1])\n",
    "        except:\n",
    "            word_boxes.append([-100, 0, -99, 1])\n",
    "#                 err.append(i)\n",
    "\n",
    "    word_boxes = torch.FloatTensor(word_boxes)\n",
    "    \n",
    "    return dict(word_boxes=word_boxes,text=text,\n",
    "                sp_tokens=sp_tokens,sp_offset_mapping=sp_offset_mapping,\n",
    "                input_ids = input_ids.unsqueeze(0),hf_offset_mapping=hf_offset_mapping,\n",
    "                attention_mask = attention_mask.unsqueeze(0)\n",
    "               )\n",
    "\n",
    "def reverse_transformation(text):\n",
    "    # Replace ' | ' with double newlines\n",
    "    text = text.replace(\" | \", \"\\n\\n\")\n",
    "    # Replace ' [BR] ' with single newlines\n",
    "    text = text.replace(\" [BR] \", \"\\n\")\n",
    "    return text"
   ]
  },
  {
   "cell_type": "code",
   "execution_count": 117,
   "id": "82b94fe2",
   "metadata": {},
   "outputs": [],
   "source": [
    "model_name = 'microsoft/deberta-v3-xsmall'\n",
    "tokenizer = AutoTokenizer.from_pretrained(model_name)"
   ]
  },
  {
   "cell_type": "code",
   "execution_count": 172,
   "id": "36a8bbdb",
   "metadata": {},
   "outputs": [
    {
     "data": {
      "text/html": [
       "<div>\n",
       "<style scoped>\n",
       "    .dataframe tbody tr th:only-of-type {\n",
       "        vertical-align: middle;\n",
       "    }\n",
       "\n",
       "    .dataframe tbody tr th {\n",
       "        vertical-align: top;\n",
       "    }\n",
       "\n",
       "    .dataframe thead th {\n",
       "        text-align: right;\n",
       "    }\n",
       "</style>\n",
       "<table border=\"1\" class=\"dataframe\">\n",
       "  <thead>\n",
       "    <tr style=\"text-align: right;\">\n",
       "      <th></th>\n",
       "      <th>document</th>\n",
       "      <th>full_text</th>\n",
       "      <th>tokens</th>\n",
       "      <th>trailing_whitespace</th>\n",
       "      <th>labels</th>\n",
       "    </tr>\n",
       "  </thead>\n",
       "  <tbody>\n",
       "    <tr>\n",
       "      <th>0</th>\n",
       "      <td>7</td>\n",
       "      <td>Design Thinking for innovation reflexion-Avril...</td>\n",
       "      <td>[Design, Thinking, for, innovation, reflexion,...</td>\n",
       "      <td>[True, True, True, True, False, False, True, F...</td>\n",
       "      <td>[O, O, O, O, O, O, O, O, O, B-NAME_STUDENT, I-...</td>\n",
       "    </tr>\n",
       "    <tr>\n",
       "      <th>1</th>\n",
       "      <td>10</td>\n",
       "      <td>Diego Estrada\\n\\nDesign Thinking Assignment\\n\\...</td>\n",
       "      <td>[Diego, Estrada, \\n\\n, Design, Thinking, Assig...</td>\n",
       "      <td>[True, False, False, True, True, False, False,...</td>\n",
       "      <td>[B-NAME_STUDENT, I-NAME_STUDENT, O, O, O, O, O...</td>\n",
       "    </tr>\n",
       "    <tr>\n",
       "      <th>2</th>\n",
       "      <td>16</td>\n",
       "      <td>Reporting process\\n\\nby Gilberto Gamboa\\n\\nCha...</td>\n",
       "      <td>[Reporting, process, \\n\\n, by, Gilberto, Gambo...</td>\n",
       "      <td>[True, False, False, True, True, False, False,...</td>\n",
       "      <td>[O, O, O, O, B-NAME_STUDENT, I-NAME_STUDENT, O...</td>\n",
       "    </tr>\n",
       "    <tr>\n",
       "      <th>3</th>\n",
       "      <td>20</td>\n",
       "      <td>Design Thinking for Innovation\\n\\nSindy Samaca...</td>\n",
       "      <td>[Design, Thinking, for, Innovation, \\n\\n, Sind...</td>\n",
       "      <td>[True, True, True, False, False, True, False, ...</td>\n",
       "      <td>[O, O, O, O, O, B-NAME_STUDENT, I-NAME_STUDENT...</td>\n",
       "    </tr>\n",
       "    <tr>\n",
       "      <th>4</th>\n",
       "      <td>56</td>\n",
       "      <td>Assignment:  Visualization Reflection  Submitt...</td>\n",
       "      <td>[Assignment, :,   , Visualization,  , Reflecti...</td>\n",
       "      <td>[False, False, False, False, False, False, Fal...</td>\n",
       "      <td>[O, O, O, O, O, O, O, O, O, O, O, O, B-NAME_ST...</td>\n",
       "    </tr>\n",
       "    <tr>\n",
       "      <th>...</th>\n",
       "      <td>...</td>\n",
       "      <td>...</td>\n",
       "      <td>...</td>\n",
       "      <td>...</td>\n",
       "      <td>...</td>\n",
       "    </tr>\n",
       "    <tr>\n",
       "      <th>6802</th>\n",
       "      <td>22678</td>\n",
       "      <td>EXAMPLE – JOURNEY MAP\\n\\nTHE CHALLENGE    My w...</td>\n",
       "      <td>[EXAMPLE, –, JOURNEY, MAP, \\n\\n, THE, CHALLENG...</td>\n",
       "      <td>[True, True, True, False, False, True, True, F...</td>\n",
       "      <td>[O, O, O, O, O, O, O, O, O, O, O, O, O, O, O, ...</td>\n",
       "    </tr>\n",
       "    <tr>\n",
       "      <th>6803</th>\n",
       "      <td>22679</td>\n",
       "      <td>Why Mind Mapping?\\n\\nMind maps are graphical r...</td>\n",
       "      <td>[Why, Mind, Mapping, ?, \\n\\n, Mind, maps, are,...</td>\n",
       "      <td>[True, True, False, False, False, True, True, ...</td>\n",
       "      <td>[O, O, O, O, O, O, O, O, O, O, O, O, O, O, O, ...</td>\n",
       "    </tr>\n",
       "    <tr>\n",
       "      <th>6804</th>\n",
       "      <td>22681</td>\n",
       "      <td>Challenge\\n\\nSo, a few months back, I had chos...</td>\n",
       "      <td>[Challenge, \\n\\n, So, ,, a, few, months, back,...</td>\n",
       "      <td>[False, False, False, True, True, True, True, ...</td>\n",
       "      <td>[O, O, O, O, O, O, O, O, O, O, O, O, O, O, O, ...</td>\n",
       "    </tr>\n",
       "    <tr>\n",
       "      <th>6805</th>\n",
       "      <td>22684</td>\n",
       "      <td>Brainstorming\\n\\nChallenge &amp; Selection\\n\\nBrai...</td>\n",
       "      <td>[Brainstorming, \\n\\n, Challenge, &amp;, Selection,...</td>\n",
       "      <td>[False, False, True, True, False, False, True,...</td>\n",
       "      <td>[O, O, O, O, O, O, O, O, O, O, O, O, O, O, O, ...</td>\n",
       "    </tr>\n",
       "    <tr>\n",
       "      <th>6806</th>\n",
       "      <td>22687</td>\n",
       "      <td>Mind Mapping\\n\\nChallenge\\n\\nMy consulting tea...</td>\n",
       "      <td>[Mind, Mapping, \\n\\n, Challenge, \\n\\n, My, con...</td>\n",
       "      <td>[True, False, False, False, False, True, True,...</td>\n",
       "      <td>[O, O, O, O, O, O, O, O, O, O, O, O, O, O, O, ...</td>\n",
       "    </tr>\n",
       "  </tbody>\n",
       "</table>\n",
       "<p>6807 rows × 5 columns</p>\n",
       "</div>"
      ],
      "text/plain": [
       "      document                                          full_text                                             tokens                                trailing_whitespace                                             labels\n",
       "0            7  Design Thinking for innovation reflexion-Avril...  [Design, Thinking, for, innovation, reflexion,...  [True, True, True, True, False, False, True, F...  [O, O, O, O, O, O, O, O, O, B-NAME_STUDENT, I-...\n",
       "1           10  Diego Estrada\\n\\nDesign Thinking Assignment\\n\\...  [Diego, Estrada, \\n\\n, Design, Thinking, Assig...  [True, False, False, True, True, False, False,...  [B-NAME_STUDENT, I-NAME_STUDENT, O, O, O, O, O...\n",
       "2           16  Reporting process\\n\\nby Gilberto Gamboa\\n\\nCha...  [Reporting, process, \\n\\n, by, Gilberto, Gambo...  [True, False, False, True, True, False, False,...  [O, O, O, O, B-NAME_STUDENT, I-NAME_STUDENT, O...\n",
       "3           20  Design Thinking for Innovation\\n\\nSindy Samaca...  [Design, Thinking, for, Innovation, \\n\\n, Sind...  [True, True, True, False, False, True, False, ...  [O, O, O, O, O, B-NAME_STUDENT, I-NAME_STUDENT...\n",
       "4           56  Assignment:  Visualization Reflection  Submitt...  [Assignment, :,   , Visualization,  , Reflecti...  [False, False, False, False, False, False, Fal...  [O, O, O, O, O, O, O, O, O, O, O, O, B-NAME_ST...\n",
       "...        ...                                                ...                                                ...                                                ...                                                ...\n",
       "6802     22678  EXAMPLE – JOURNEY MAP\\n\\nTHE CHALLENGE    My w...  [EXAMPLE, –, JOURNEY, MAP, \\n\\n, THE, CHALLENG...  [True, True, True, False, False, True, True, F...  [O, O, O, O, O, O, O, O, O, O, O, O, O, O, O, ...\n",
       "6803     22679  Why Mind Mapping?\\n\\nMind maps are graphical r...  [Why, Mind, Mapping, ?, \\n\\n, Mind, maps, are,...  [True, True, False, False, False, True, True, ...  [O, O, O, O, O, O, O, O, O, O, O, O, O, O, O, ...\n",
       "6804     22681  Challenge\\n\\nSo, a few months back, I had chos...  [Challenge, \\n\\n, So, ,, a, few, months, back,...  [False, False, False, True, True, True, True, ...  [O, O, O, O, O, O, O, O, O, O, O, O, O, O, O, ...\n",
       "6805     22684  Brainstorming\\n\\nChallenge & Selection\\n\\nBrai...  [Brainstorming, \\n\\n, Challenge, &, Selection,...  [False, False, True, True, False, False, True,...  [O, O, O, O, O, O, O, O, O, O, O, O, O, O, O, ...\n",
       "6806     22687  Mind Mapping\\n\\nChallenge\\n\\nMy consulting tea...  [Mind, Mapping, \\n\\n, Challenge, \\n\\n, My, con...  [True, False, False, False, False, True, True,...  [O, O, O, O, O, O, O, O, O, O, O, O, O, O, O, ...\n",
       "\n",
       "[6807 rows x 5 columns]"
      ]
     },
     "execution_count": 172,
     "metadata": {},
     "output_type": "execute_result"
    }
   ],
   "source": [
    "df"
   ]
  },
  {
   "cell_type": "code",
   "execution_count": 178,
   "id": "d6ab0b49",
   "metadata": {},
   "outputs": [
    {
     "data": {
      "text/plain": [
       "(873, 873)"
      ]
     },
     "execution_count": 178,
     "metadata": {},
     "output_type": "execute_result"
    }
   ],
   "source": [
    "idx = random.choice(df[df.has_label==1].index)\n",
    "full_text_ds = df.iloc[idx]['full_text']\n",
    "tokens_ds = df.iloc[idx]['tokens']\n",
    "labels_ds = df.iloc[idx]['labels']\n",
    "len(labels_ds),len(tokens_ds)"
   ]
  },
  {
   "cell_type": "code",
   "execution_count": 258,
   "id": "9e2badef",
   "metadata": {},
   "outputs": [],
   "source": [
    "full_text_ds = \"\"\"Name: Emily Watson\n",
    "Date of Birth: April 15, 1987\n",
    "Address: 123 Maple Street, Apt 4B, Springfield, IL, 62704\n",
    "Phone Number: (217) 555-0198\n",
    "Email: ewatson87@example.com\n",
    "\n",
    "Occupation: Graphic Designer at Creative Minds Studio\n",
    "\n",
    "Education:\n",
    "\n",
    "Bachelor of Fine Arts (BFA) in Graphic Design, University of Illinois at Urbana-Champaign, 2009\n",
    "Master of Fine Arts (MFA) in Visual Communication, School of the Art Institute of Chicago, 2011\n",
    "Professional Experience:\n",
    "\n",
    "Creative Minds Studio (2012-Present)\n",
    "\n",
    "Lead Graphic Designer: Leading a team of designers in creating visual content for various clients including branding, advertisements, and web design.\n",
    "Key Projects: Rebranding for local businesses, social media campaigns, and website redesign for a mid-sized tech company.\n",
    "Freelance Designer (2011-2012)\n",
    "\n",
    "Worked with various clients on projects ranging from logo design to full marketing campaigns. Developed strong client relationships and a diverse portfolio.\n",
    "Skills:\n",
    "\n",
    "Proficient in Adobe Creative Suite (Photoshop, Illustrator, InDesign)\n",
    "Strong understanding of UI/UX principles\n",
    "HTML/CSS basics\n",
    "Excellent communication and teamwork skills\n",
    "Personal Interests:\n",
    "\n",
    "Avid painter and member of the local art club.\n",
    "Volunteer at Springfield Animal Shelter, helping with graphic design for their promotional materials.\n",
    "Enjoys hiking and nature photography.\n",
    "Family:\n",
    "\n",
    "Spouse: Michael Watson, high school teacher\n",
    "Children: Oliver Watson (8 years old), Sophie Watson (5 years old)\n",
    "Social Media:\n",
    "\n",
    "LinkedIn: linkedin.com/in/ewatson87\n",
    "Instagram: @emwatsonart\n",
    "Notable Achievements:\n",
    "\n",
    "Featured in \"Top 50 Designers Under 40\" by Design World Magazine, 2020.\n",
    "Awarded \"Best Local Designer\" by Springfield Arts Council, 2019.\n",
    "Speaker at the 2021 National Design Conference on \"The Future of Graphic Design in Digital Media.\"\n",
    "Community Involvement:\n",
    "\n",
    "Organizer of the annual Springfield Art Fair, a community event showcasing local artists.\n",
    "Guest lecturer at Springfield Community College on graphic design trends and career paths.\n",
    "Emily Watson is a dedicated and talented graphic designer with over a decade of experience in the field. Her passion for design is evident in her work and her commitment to helping others through her volunteer efforts and community involvement. She continues to inspire with her creativity and dedication to the arts.\"\"\""
   ]
  },
  {
   "cell_type": "code",
   "execution_count": 259,
   "id": "d1e45ce9",
   "metadata": {},
   "outputs": [],
   "source": [
    "dic = DemoText(full_text_ds,tokenizer)"
   ]
  },
  {
   "cell_type": "code",
   "execution_count": null,
   "id": "c93ea75c",
   "metadata": {},
   "outputs": [],
   "source": []
  },
  {
   "cell_type": "code",
   "execution_count": null,
   "id": "e1862f52",
   "metadata": {},
   "outputs": [],
   "source": []
  },
  {
   "cell_type": "code",
   "execution_count": 260,
   "id": "f2485f7e",
   "metadata": {},
   "outputs": [
    {
     "data": {
      "text/plain": [
       "'Name: Emily Watson [BR] Date of Birth: April 15, 1987 [BR] Address: 123 Maple Street, Apt 4B, Springfield, IL, 62704 [BR] Phone Number: (217) 555-0198 [BR] Email: ewatson87@example.com | Occupation: Graphic Designer at Creative Minds Studio | Education: | Bachelor of Fine Arts (BFA) in Graphic Design, University of Illinois at Urbana-Champaign, 2009 [BR] Master of Fine Arts (MFA) in Visual Communication, School of the Art Institute of Chicago, 2011 [BR] Professional Experience: | Creative Minds Studio (2012-Present) | Lead Graphic Designer: Leading a team of designers in creating visual content for various clients including branding, advertisements, and web design. [BR] Key Projects: Rebranding for local businesses, social media campaigns, and website redesign for a mid-sized tech company. [BR] Freelance Designer (2011-2012) | Worked with various clients on projects ranging from logo design to full marketing campaigns. Developed strong client relationships and a diverse portfolio. [BR] Skills: | Proficient in Adobe Creative Suite (Photoshop, Illustrator, InDesign) [BR] Strong understanding of UI/UX principles [BR] HTML/CSS basics [BR] Excellent communication and teamwork skills [BR] Personal Interests: | Avid painter and member of the local art club. [BR] Volunteer at Springfield Animal Shelter, helping with graphic design for their promotional materials. [BR] Enjoys hiking and nature photography. [BR] Family: | Spouse: Michael Watson, high school teacher [BR] Children: Oliver Watson (8 years old), Sophie Watson (5 years old) [BR] Social Media: | LinkedIn: linkedin.com/in/ewatson87 [BR] Instagram: @emwatsonart [BR] Notable Achievements: | Featured in \"Top 50 Designers Under 40\" by Design World Magazine, 2020. [BR] Awarded \"Best Local Designer\" by Springfield Arts Council, 2019. [BR] Speaker at the 2021 National Design Conference on \"The Future of Graphic Design in Digital Media.\" [BR] Community Involvement: | Organizer of the annual Springfield Art Fair, a community event showcasing local artists. [BR] Guest lecturer at Springfield Community College on graphic design trends and career paths. [BR] Emily Watson is a dedicated and talented graphic designer with over a decade of experience in the field. Her passion for design is evident in her work and her commitment to helping others through her volunteer efforts and community involvement. She continues to inspire with her creativity and dedication to the arts.'"
      ]
     },
     "execution_count": 260,
     "metadata": {},
     "output_type": "execute_result"
    }
   ],
   "source": [
    "dic['text']"
   ]
  },
  {
   "cell_type": "code",
   "execution_count": 261,
   "id": "dd2292a6",
   "metadata": {},
   "outputs": [
    {
     "data": {
      "text/plain": [
       "torch.Size([503, 4])"
      ]
     },
     "execution_count": 261,
     "metadata": {},
     "output_type": "execute_result"
    }
   ],
   "source": [
    "dic['word_boxes'].shape"
   ]
  },
  {
   "cell_type": "code",
   "execution_count": 225,
   "id": "4004d023",
   "metadata": {},
   "outputs": [
    {
     "data": {
      "text/plain": [
       "(397, torch.Size([1, 407]), 407, 1)"
      ]
     },
     "execution_count": 225,
     "metadata": {},
     "output_type": "execute_result"
    }
   ],
   "source": [
    "len(dic['sp_offset_mapping']),dic['input_ids'].shape,len(dic['hf_offset_mapping']),len(dic['input_ids'])"
   ]
  },
  {
   "cell_type": "code",
   "execution_count": 226,
   "id": "5032da03",
   "metadata": {
    "scrolled": true
   },
   "outputs": [
    {
     "name": "stdout",
     "output_type": "stream",
     "text": [
      "[CLS] ▁Jessica ▁Thompson ▁had ▁always ▁felt ▁a ▁deep ▁connection ▁to ▁the ▁ocean . ▁Born ▁on ▁June ▁15 , ▁1985 , ▁in ▁San ▁Diego , ▁California , ▁she ▁grew ▁up ▁just ▁a ▁few ▁miles ▁from ▁the ▁beach . ▁Her ▁parents , ▁Robert ▁and ▁Susan ▁Thompson , ▁encouraged ▁her ▁love ▁for ▁the ▁sea . ▁Robert , ▁a ▁marine ▁biologist , ▁and ▁Susan , ▁an ▁environmental ▁lawyer , ▁often ▁took ▁young ▁Jessica ▁on ▁boat ▁trips , ▁instilling ▁in ▁her ▁a ▁passion ▁for ▁marine ▁conservation . ▁Jessica ▁attended ▁Pacific ▁High ▁School , ▁where ▁she ▁excelled ▁in ▁science ▁and ▁mathematics . ▁After ▁graduating ▁in ▁2003 , ▁she ▁pursued ▁a ▁degree ▁in ▁Marine ▁Biology ▁at ▁the ▁University ▁of ▁California , ▁Santa ▁Barbara , ▁graduating ▁with ▁honors ▁in ▁2007 . ▁During ▁her ▁college ▁years , ▁Jessica ▁interned ▁at ▁the ▁Monterey ▁Bay ▁Aquarium , ▁where ▁she ▁conducted ▁research ▁on ▁the ▁migratory ▁patterns ▁of ▁sea ▁turtles . ▁In ▁2009 , ▁Jessica ▁moved ▁to ▁Miami , ▁Florida , ▁to ▁work ▁with ▁the ▁Ocean ▁Conservancy . ▁Her ▁dedication ▁and ▁expertise ▁quickly ▁earned ▁her ▁a ▁reputation ▁in ▁the ▁marine ▁conservation ▁community . ▁In ▁2013 , ▁she ▁published ▁her ▁groundbreaking ▁research ▁on ▁coral ▁reef ▁restoration , ▁which ▁received ▁international ▁acclaim . ▁Jessica ' s ▁personal ▁life ▁was ▁equally ▁fulfilling . ▁She ▁met ▁David ▁Parker , ▁an ▁ocean ographer , ▁at ▁a ▁conference ▁in ▁Hawaii ▁in ▁2012 . ▁They ▁married ▁in ▁a ▁small ▁beach ▁ceremony ▁in ▁Key ▁West ▁in ▁2014 . ▁The ▁couple ▁welcomed ▁their ▁daughter , ▁Emily , ▁in ▁2016 . ▁Emily ▁inherited ▁her ▁parents ' ▁love ▁for ▁the ▁ocean ▁and ▁often ▁joined ▁them ▁on ▁their ▁research ▁expeditions . ▁The ▁family ▁resides ▁in ▁a ▁charming ▁coastal ▁home ▁in ▁Coral ▁Gables , ▁Florida . ▁They ▁are ▁active ▁members ▁of ▁the ▁local ▁community , ▁participating ▁in ▁beach ▁cleanup s ▁and ▁educational ▁outreach ▁programs . ▁Jessica ▁continues ▁to ▁work ▁with ▁the ▁Ocean ▁Conservancy , ▁while ▁David ▁leads ▁research ▁projects ▁at ▁the ▁Rosen st iel ▁School ▁of ▁Marine ▁and ▁Atmospheric ▁Science . ▁In ▁her ▁free ▁time , ▁Jessica ▁enjoys ▁painting ▁seascape s ▁and ▁volunteering ▁at ▁the ▁local ▁marine ▁wildlife ▁rescue ▁center . ▁Her ▁latest ▁project ▁involves ▁developing ▁sustainable ▁practices ▁for ▁protecting ▁marine ▁ecosystems , ▁aiming ▁to ▁leave ▁a ▁lasting ▁legacy ▁for ▁future ▁generations . ▁Contact ▁information ▁for ▁professional ▁inquiries : ▁Email : ▁j thompson . marine bio @ gmail . com ▁Phone : ▁( 305 ) ▁555 - 78 90 ▁Address : ▁123 ▁Ocean view ▁Drive , ▁Coral ▁Gables , ▁FL ▁33 133 [SEP]\n"
     ]
    }
   ],
   "source": [
    "print(\" \".join(tokenizer.convert_ids_to_tokens(dic['input_ids'][0])))"
   ]
  },
  {
   "cell_type": "code",
   "execution_count": null,
   "id": "9a235314",
   "metadata": {},
   "outputs": [],
   "source": []
  },
  {
   "cell_type": "code",
   "execution_count": 227,
   "id": "7d8bb973",
   "metadata": {},
   "outputs": [
    {
     "data": {
      "text/plain": [
       "tensor([[ 1.,  0.,  2.,  1.],\n",
       "        [ 2.,  0.,  3.,  1.],\n",
       "        [ 3.,  0.,  4.,  1.],\n",
       "        [ 4.,  0.,  5.,  1.],\n",
       "        [ 5.,  0.,  6.,  1.],\n",
       "        [ 6.,  0.,  7.,  1.],\n",
       "        [ 7.,  0.,  8.,  1.],\n",
       "        [ 8.,  0.,  9.,  1.],\n",
       "        [ 9.,  0., 10.,  1.],\n",
       "        [10.,  0., 11.,  1.],\n",
       "        [11.,  0., 12.,  1.],\n",
       "        [12.,  0., 13.,  1.],\n",
       "        [13.,  0., 14.,  1.],\n",
       "        [14.,  0., 15.,  1.],\n",
       "        [15.,  0., 16.,  1.],\n",
       "        [16.,  0., 17.,  1.],\n",
       "        [17.,  0., 18.,  1.],\n",
       "        [18.,  0., 19.,  1.],\n",
       "        [19.,  0., 20.,  1.],\n",
       "        [20.,  0., 21.,  1.]])"
      ]
     },
     "execution_count": 227,
     "metadata": {},
     "output_type": "execute_result"
    }
   ],
   "source": [
    "dic['word_boxes'][:20]"
   ]
  },
  {
   "cell_type": "code",
   "execution_count": null,
   "id": "c9ec632b",
   "metadata": {},
   "outputs": [],
   "source": []
  },
  {
   "cell_type": "code",
   "execution_count": 294,
   "id": "00684c2b",
   "metadata": {},
   "outputs": [
    {
     "data": {
      "text/plain": [
       "['fold_0 _epoch_3 _step_5499 _valid_loss_0.0039 _f5_micro_0.9980 _train_loss_0.0024.pth',\n",
       " 'fold_1 _epoch_4 _step_7328 _valid_loss_0.0042 _f5_micro_0.9979 _train_loss_0.0015.pth',\n",
       " 'tokenizer',\n",
       " 'params.json',\n",
       " 'stack_oof.gzip',\n",
       " 'config.pth',\n",
       " 'oof.csv',\n",
       " 'fold_3 _epoch_4 _step_7320 _valid_loss_0.0071 _f5_micro_0.9984 _train_loss_0.0015.pth',\n",
       " 'fold_4 _epoch_7 _step_7326 _valid_loss_0.0055 _f5_micro_0.9983 _train_loss_0.0002.pth',\n",
       " 'oof_blend_min_O_2024-04-06--dv3l_cp_nboard_add_00_rep00_4608---2024-02-04--vsub1.csv',\n",
       " 'fold_2 _epoch_5 _step_7333 _valid_loss_0.0025 _f5_micro_0.9982 _train_loss_0.0008.pth']"
      ]
     },
     "execution_count": 294,
     "metadata": {},
     "output_type": "execute_result"
    }
   ],
   "source": [
    "FOLD_NAME = \"fold_msk_5_seed_42\"\n",
    "model_name = \"deberta-v3-large\"\n",
    "exp_name = \"2024-04-06--dv3l_cp_nboard_add_00_rep00_4608\"\n",
    "folder = str(CHECKPOINT_PATH/Path(fr'{FOLD_NAME}/{model_name}/{exp_name}')) \n",
    "os.listdir(folder)"
   ]
  },
  {
   "cell_type": "code",
   "execution_count": 295,
   "id": "0a2a8c0c",
   "metadata": {},
   "outputs": [],
   "source": [
    "# ==== Loading Args =========== #\n",
    "f = open(f'{folder}/params.json')\n",
    "args = json.load(f)\n",
    "args = SimpleNamespace(**args)\n",
    "args.model['pretrained_tokenizer'] = f\"{folder}/tokenizer\"\n",
    "args.model['model_params']['config_path'] = f\"{folder}/config.pth\"\n",
    "args.model['pretrained_weights'] = None\n",
    "args.model[\"model_params\"]['pretrained_path'] = None\n",
    "args.device = 0\n",
    "device = torch.device(f\"cuda:{args.device}\" if torch.cuda.is_available() else \"cpu\")"
   ]
  },
  {
   "cell_type": "code",
   "execution_count": 296,
   "id": "a08f1f9c",
   "metadata": {},
   "outputs": [
    {
     "data": {
      "text/plain": [
       "['/database/kaggle/PII/checkpoint/fold_msk_5_seed_42/deberta-v3-large/2024-04-06--dv3l_cp_nboard_add_00_rep00_4608/fold_0 _epoch_3 _step_5499 _valid_loss_0.0039 _f5_micro_0.9980 _train_loss_0.0024.pth',\n",
       " '/database/kaggle/PII/checkpoint/fold_msk_5_seed_42/deberta-v3-large/2024-04-06--dv3l_cp_nboard_add_00_rep00_4608/fold_1 _epoch_4 _step_7328 _valid_loss_0.0042 _f5_micro_0.9979 _train_loss_0.0015.pth',\n",
       " '/database/kaggle/PII/checkpoint/fold_msk_5_seed_42/deberta-v3-large/2024-04-06--dv3l_cp_nboard_add_00_rep00_4608/fold_3 _epoch_4 _step_7320 _valid_loss_0.0071 _f5_micro_0.9984 _train_loss_0.0015.pth',\n",
       " '/database/kaggle/PII/checkpoint/fold_msk_5_seed_42/deberta-v3-large/2024-04-06--dv3l_cp_nboard_add_00_rep00_4608/fold_4 _epoch_7 _step_7326 _valid_loss_0.0055 _f5_micro_0.9983 _train_loss_0.0002.pth',\n",
       " '/database/kaggle/PII/checkpoint/fold_msk_5_seed_42/deberta-v3-large/2024-04-06--dv3l_cp_nboard_add_00_rep00_4608/fold_2 _epoch_5 _step_7333 _valid_loss_0.0025 _f5_micro_0.9982 _train_loss_0.0008.pth']"
      ]
     },
     "execution_count": 296,
     "metadata": {},
     "output_type": "execute_result"
    }
   ],
   "source": [
    "checkpoints = [x.as_posix() for x in (Path(folder)).glob(\"*.pth\") if f\"config\" not in x.as_posix()]\n",
    "checkpoints"
   ]
  },
  {
   "cell_type": "code",
   "execution_count": 297,
   "id": "e40b4af1",
   "metadata": {},
   "outputs": [
    {
     "data": {
      "text/plain": [
       "FeedbackModel(\n",
       "  (backbone): DebertaV2Model(\n",
       "    (embeddings): DebertaV2Embeddings(\n",
       "      (word_embeddings): Embedding(128100, 1024, padding_idx=0)\n",
       "      (LayerNorm): LayerNorm((1024,), eps=1e-07, elementwise_affine=True)\n",
       "      (dropout): StableDropout()\n",
       "    )\n",
       "    (encoder): DebertaV2Encoder(\n",
       "      (layer): ModuleList(\n",
       "        (0-23): 24 x DebertaV2Layer(\n",
       "          (attention): DebertaV2Attention(\n",
       "            (self): DisentangledSelfAttention(\n",
       "              (query_proj): Linear(in_features=1024, out_features=1024, bias=True)\n",
       "              (key_proj): Linear(in_features=1024, out_features=1024, bias=True)\n",
       "              (value_proj): Linear(in_features=1024, out_features=1024, bias=True)\n",
       "              (pos_dropout): StableDropout()\n",
       "              (dropout): StableDropout()\n",
       "            )\n",
       "            (output): DebertaV2SelfOutput(\n",
       "              (dense): Linear(in_features=1024, out_features=1024, bias=True)\n",
       "              (LayerNorm): LayerNorm((1024,), eps=1e-07, elementwise_affine=True)\n",
       "              (dropout): StableDropout()\n",
       "            )\n",
       "          )\n",
       "          (intermediate): DebertaV2Intermediate(\n",
       "            (dense): Linear(in_features=1024, out_features=4096, bias=True)\n",
       "            (intermediate_act_fn): GELUActivation()\n",
       "          )\n",
       "          (output): DebertaV2Output(\n",
       "            (dense): Linear(in_features=4096, out_features=1024, bias=True)\n",
       "            (LayerNorm): LayerNorm((1024,), eps=1e-07, elementwise_affine=True)\n",
       "            (dropout): StableDropout()\n",
       "          )\n",
       "        )\n",
       "      )\n",
       "      (rel_embeddings): Embedding(512, 1024)\n",
       "      (LayerNorm): LayerNorm((1024,), eps=1e-07, elementwise_affine=True)\n",
       "    )\n",
       "  )\n",
       "  (dropout): Dropout(p=0.0, inplace=False)\n",
       "  (fc): Linear(in_features=1024, out_features=8, bias=True)\n",
       "  (pool_ly): NLPPooling(\n",
       "    (pooler): MeanPooling()\n",
       "  )\n",
       ")"
      ]
     },
     "execution_count": 297,
     "metadata": {},
     "output_type": "execute_result"
    }
   ],
   "source": [
    "net = FeedbackModel(**args.model[\"model_params\"])\n",
    "net.load_state_dict(torch.load(checkpoints[0], map_location=lambda storage, loc: storage))\n",
    "net = net.to(device)\n",
    "net.eval()"
   ]
  },
  {
   "cell_type": "code",
   "execution_count": null,
   "id": "602aa630",
   "metadata": {},
   "outputs": [],
   "source": []
  },
  {
   "cell_type": "code",
   "execution_count": 298,
   "id": "4ee90981",
   "metadata": {
    "scrolled": false
   },
   "outputs": [],
   "source": [
    "preds = net(to_gpu(dic,device))['pred'].softmax(-1).detach().cpu().to(torch.float32)\n",
    "s,i = preds.max(-1)"
   ]
  },
  {
   "cell_type": "code",
   "execution_count": 299,
   "id": "5c5ee5bc",
   "metadata": {},
   "outputs": [],
   "source": [
    "pred_df = pd.DataFrame({\n",
    "                                    \"token\" : dic['sp_tokens']['tokens'],\n",
    "                                    \"token_id\":np.arange(len(s)),\n",
    "                                    \"label\" : i.numpy() ,\n",
    "                                    \"score\" : np.float32(s.numpy()) ,\n",
    "    #                                  \"o_score\":predictions[:,-1].numpy()\n",
    "                                    })"
   ]
  },
  {
   "cell_type": "code",
   "execution_count": 300,
   "id": "ad030c29",
   "metadata": {},
   "outputs": [
    {
     "data": {
      "text/html": [
       "<div>\n",
       "<style scoped>\n",
       "    .dataframe tbody tr th:only-of-type {\n",
       "        vertical-align: middle;\n",
       "    }\n",
       "\n",
       "    .dataframe tbody tr th {\n",
       "        vertical-align: top;\n",
       "    }\n",
       "\n",
       "    .dataframe thead th {\n",
       "        text-align: right;\n",
       "    }\n",
       "</style>\n",
       "<table border=\"1\" class=\"dataframe\">\n",
       "  <thead>\n",
       "    <tr style=\"text-align: right;\">\n",
       "      <th></th>\n",
       "      <th>token</th>\n",
       "      <th>token_id</th>\n",
       "      <th>label</th>\n",
       "      <th>score</th>\n",
       "    </tr>\n",
       "  </thead>\n",
       "  <tbody>\n",
       "    <tr>\n",
       "      <th>0</th>\n",
       "      <td>Name</td>\n",
       "      <td>0</td>\n",
       "      <td>7</td>\n",
       "      <td>0.9997</td>\n",
       "    </tr>\n",
       "    <tr>\n",
       "      <th>1</th>\n",
       "      <td>:</td>\n",
       "      <td>1</td>\n",
       "      <td>7</td>\n",
       "      <td>0.9999</td>\n",
       "    </tr>\n",
       "    <tr>\n",
       "      <th>2</th>\n",
       "      <td>Emily</td>\n",
       "      <td>2</td>\n",
       "      <td>0</td>\n",
       "      <td>0.9938</td>\n",
       "    </tr>\n",
       "    <tr>\n",
       "      <th>3</th>\n",
       "      <td>Watson</td>\n",
       "      <td>3</td>\n",
       "      <td>0</td>\n",
       "      <td>0.9953</td>\n",
       "    </tr>\n",
       "    <tr>\n",
       "      <th>4</th>\n",
       "      <td>[</td>\n",
       "      <td>4</td>\n",
       "      <td>7</td>\n",
       "      <td>0.9999</td>\n",
       "    </tr>\n",
       "    <tr>\n",
       "      <th>...</th>\n",
       "      <td>...</td>\n",
       "      <td>...</td>\n",
       "      <td>...</td>\n",
       "      <td>...</td>\n",
       "    </tr>\n",
       "    <tr>\n",
       "      <th>498</th>\n",
       "      <td>dedication</td>\n",
       "      <td>498</td>\n",
       "      <td>7</td>\n",
       "      <td>0.9999</td>\n",
       "    </tr>\n",
       "    <tr>\n",
       "      <th>499</th>\n",
       "      <td>to</td>\n",
       "      <td>499</td>\n",
       "      <td>7</td>\n",
       "      <td>0.9999</td>\n",
       "    </tr>\n",
       "    <tr>\n",
       "      <th>500</th>\n",
       "      <td>the</td>\n",
       "      <td>500</td>\n",
       "      <td>7</td>\n",
       "      <td>0.9999</td>\n",
       "    </tr>\n",
       "    <tr>\n",
       "      <th>501</th>\n",
       "      <td>arts</td>\n",
       "      <td>501</td>\n",
       "      <td>7</td>\n",
       "      <td>0.9999</td>\n",
       "    </tr>\n",
       "    <tr>\n",
       "      <th>502</th>\n",
       "      <td>.</td>\n",
       "      <td>502</td>\n",
       "      <td>7</td>\n",
       "      <td>0.9998</td>\n",
       "    </tr>\n",
       "  </tbody>\n",
       "</table>\n",
       "<p>503 rows × 4 columns</p>\n",
       "</div>"
      ],
      "text/plain": [
       "          token  token_id  label  score\n",
       "0          Name         0      7 0.9997\n",
       "1             :         1      7 0.9999\n",
       "2         Emily         2      0 0.9938\n",
       "3        Watson         3      0 0.9953\n",
       "4             [         4      7 0.9999\n",
       "..          ...       ...    ...    ...\n",
       "498  dedication       498      7 0.9999\n",
       "499          to       499      7 0.9999\n",
       "500         the       500      7 0.9999\n",
       "501        arts       501      7 0.9999\n",
       "502           .       502      7 0.9998\n",
       "\n",
       "[503 rows x 4 columns]"
      ]
     },
     "execution_count": 300,
     "metadata": {},
     "output_type": "execute_result"
    }
   ],
   "source": [
    "pred_df"
   ]
  },
  {
   "cell_type": "code",
   "execution_count": 301,
   "id": "f0c9cf98",
   "metadata": {},
   "outputs": [],
   "source": [
    "pred_df[\"label_next_e_prev\"] = pred_df['label'].transform(lambda x: (x.shift(1)==x.shift(-1))*1)\n",
    "pred_df[\"label_next\"] = pred_df['label'].transform(lambda x: x.shift(1))\n",
    "pred_df[\"label_next_e_prev\"] = ((pred_df[\"label_next_e_prev\"]==1) & (pred_df[\"label_next\"]==6))*1\n",
    "pred_df[\"score_next\"] = pred_df['score'].transform(lambda x: x.shift(1))\n",
    "pred_df.loc[pred_df[\"label_next_e_prev\"]==1,\"label\"] = pred_df.loc[pred_df[\"label_next_e_prev\"]==1,\"label_next\"]\n",
    "pred_df.loc[pred_df[\"label_next_e_prev\"]==1,\"score\"] = pred_df.loc[pred_df[\"label_next_e_prev\"]==1,\"score_next\"]"
   ]
  },
  {
   "cell_type": "code",
   "execution_count": 302,
   "id": "6d354826",
   "metadata": {},
   "outputs": [],
   "source": [
    "threshold = 0.15\n",
    "if threshold>0:\n",
    "    pred_df = pred_df[(pred_df.label!=7) & ((pred_df.score>threshold))].reset_index(drop=True)"
   ]
  },
  {
   "cell_type": "code",
   "execution_count": 303,
   "id": "b1a7f563",
   "metadata": {},
   "outputs": [],
   "source": [
    "LABEL2TYPE = ('@NAMES','@EMAIL','@USERNAME','@ID_NUM', '@PHONE_NUM','@URL_PERSONAL','@STREET_ADDRESS','O')\n",
    "TYPE2LABEL = {t: l for l, t in enumerate(LABEL2TYPE)}\n",
    "LABEL2TYPE = {l: t for l, t in enumerate(LABEL2TYPE)}"
   ]
  },
  {
   "cell_type": "code",
   "execution_count": 304,
   "id": "2782db18",
   "metadata": {},
   "outputs": [],
   "source": [
    "pred_df['label'] = pred_df['label'].map(LABEL2TYPE)"
   ]
  },
  {
   "cell_type": "code",
   "execution_count": 305,
   "id": "6b8a1154",
   "metadata": {},
   "outputs": [
    {
     "data": {
      "text/html": [
       "<div>\n",
       "<style scoped>\n",
       "    .dataframe tbody tr th:only-of-type {\n",
       "        vertical-align: middle;\n",
       "    }\n",
       "\n",
       "    .dataframe tbody tr th {\n",
       "        vertical-align: top;\n",
       "    }\n",
       "\n",
       "    .dataframe thead th {\n",
       "        text-align: right;\n",
       "    }\n",
       "</style>\n",
       "<table border=\"1\" class=\"dataframe\">\n",
       "  <thead>\n",
       "    <tr style=\"text-align: right;\">\n",
       "      <th></th>\n",
       "      <th>token</th>\n",
       "      <th>token_id</th>\n",
       "      <th>label</th>\n",
       "      <th>score</th>\n",
       "      <th>label_next_e_prev</th>\n",
       "      <th>label_next</th>\n",
       "      <th>score_next</th>\n",
       "    </tr>\n",
       "  </thead>\n",
       "  <tbody>\n",
       "    <tr>\n",
       "      <th>0</th>\n",
       "      <td>Emily</td>\n",
       "      <td>2</td>\n",
       "      <td>@NAMES</td>\n",
       "      <td>0.9938</td>\n",
       "      <td>0</td>\n",
       "      <td>7.0000</td>\n",
       "      <td>0.9999</td>\n",
       "    </tr>\n",
       "    <tr>\n",
       "      <th>1</th>\n",
       "      <td>Watson</td>\n",
       "      <td>3</td>\n",
       "      <td>@NAMES</td>\n",
       "      <td>0.9953</td>\n",
       "      <td>0</td>\n",
       "      <td>0.0000</td>\n",
       "      <td>0.9938</td>\n",
       "    </tr>\n",
       "    <tr>\n",
       "      <th>2</th>\n",
       "      <td>123</td>\n",
       "      <td>20</td>\n",
       "      <td>@STREET_ADDRESS</td>\n",
       "      <td>0.9992</td>\n",
       "      <td>0</td>\n",
       "      <td>7.0000</td>\n",
       "      <td>0.9999</td>\n",
       "    </tr>\n",
       "    <tr>\n",
       "      <th>3</th>\n",
       "      <td>Maple</td>\n",
       "      <td>21</td>\n",
       "      <td>@STREET_ADDRESS</td>\n",
       "      <td>0.9992</td>\n",
       "      <td>1</td>\n",
       "      <td>6.0000</td>\n",
       "      <td>0.9992</td>\n",
       "    </tr>\n",
       "    <tr>\n",
       "      <th>4</th>\n",
       "      <td>Street</td>\n",
       "      <td>22</td>\n",
       "      <td>@STREET_ADDRESS</td>\n",
       "      <td>0.9995</td>\n",
       "      <td>1</td>\n",
       "      <td>6.0000</td>\n",
       "      <td>0.9995</td>\n",
       "    </tr>\n",
       "    <tr>\n",
       "      <th>5</th>\n",
       "      <td>,</td>\n",
       "      <td>23</td>\n",
       "      <td>@STREET_ADDRESS</td>\n",
       "      <td>0.9996</td>\n",
       "      <td>1</td>\n",
       "      <td>6.0000</td>\n",
       "      <td>0.9996</td>\n",
       "    </tr>\n",
       "    <tr>\n",
       "      <th>6</th>\n",
       "      <td>Apt</td>\n",
       "      <td>24</td>\n",
       "      <td>@STREET_ADDRESS</td>\n",
       "      <td>0.9983</td>\n",
       "      <td>1</td>\n",
       "      <td>6.0000</td>\n",
       "      <td>0.9983</td>\n",
       "    </tr>\n",
       "    <tr>\n",
       "      <th>7</th>\n",
       "      <td>4B</td>\n",
       "      <td>25</td>\n",
       "      <td>@STREET_ADDRESS</td>\n",
       "      <td>0.9987</td>\n",
       "      <td>1</td>\n",
       "      <td>6.0000</td>\n",
       "      <td>0.9987</td>\n",
       "    </tr>\n",
       "    <tr>\n",
       "      <th>8</th>\n",
       "      <td>,</td>\n",
       "      <td>26</td>\n",
       "      <td>@STREET_ADDRESS</td>\n",
       "      <td>0.9991</td>\n",
       "      <td>1</td>\n",
       "      <td>6.0000</td>\n",
       "      <td>0.9991</td>\n",
       "    </tr>\n",
       "    <tr>\n",
       "      <th>9</th>\n",
       "      <td>Springfield</td>\n",
       "      <td>27</td>\n",
       "      <td>@STREET_ADDRESS</td>\n",
       "      <td>0.9934</td>\n",
       "      <td>1</td>\n",
       "      <td>6.0000</td>\n",
       "      <td>0.9934</td>\n",
       "    </tr>\n",
       "    <tr>\n",
       "      <th>10</th>\n",
       "      <td>,</td>\n",
       "      <td>28</td>\n",
       "      <td>@STREET_ADDRESS</td>\n",
       "      <td>0.9948</td>\n",
       "      <td>1</td>\n",
       "      <td>6.0000</td>\n",
       "      <td>0.9948</td>\n",
       "    </tr>\n",
       "    <tr>\n",
       "      <th>11</th>\n",
       "      <td>IL</td>\n",
       "      <td>29</td>\n",
       "      <td>@STREET_ADDRESS</td>\n",
       "      <td>0.9784</td>\n",
       "      <td>1</td>\n",
       "      <td>6.0000</td>\n",
       "      <td>0.9784</td>\n",
       "    </tr>\n",
       "    <tr>\n",
       "      <th>12</th>\n",
       "      <td>,</td>\n",
       "      <td>30</td>\n",
       "      <td>@STREET_ADDRESS</td>\n",
       "      <td>0.9162</td>\n",
       "      <td>1</td>\n",
       "      <td>6.0000</td>\n",
       "      <td>0.9162</td>\n",
       "    </tr>\n",
       "    <tr>\n",
       "      <th>13</th>\n",
       "      <td>62704</td>\n",
       "      <td>31</td>\n",
       "      <td>@STREET_ADDRESS</td>\n",
       "      <td>0.9961</td>\n",
       "      <td>0</td>\n",
       "      <td>6.0000</td>\n",
       "      <td>0.9708</td>\n",
       "    </tr>\n",
       "    <tr>\n",
       "      <th>14</th>\n",
       "      <td>(</td>\n",
       "      <td>38</td>\n",
       "      <td>@PHONE_NUM</td>\n",
       "      <td>0.9995</td>\n",
       "      <td>0</td>\n",
       "      <td>7.0000</td>\n",
       "      <td>0.9999</td>\n",
       "    </tr>\n",
       "    <tr>\n",
       "      <th>15</th>\n",
       "      <td>217</td>\n",
       "      <td>39</td>\n",
       "      <td>@PHONE_NUM</td>\n",
       "      <td>0.9991</td>\n",
       "      <td>0</td>\n",
       "      <td>4.0000</td>\n",
       "      <td>0.9995</td>\n",
       "    </tr>\n",
       "    <tr>\n",
       "      <th>16</th>\n",
       "      <td>)</td>\n",
       "      <td>40</td>\n",
       "      <td>@PHONE_NUM</td>\n",
       "      <td>0.9997</td>\n",
       "      <td>0</td>\n",
       "      <td>4.0000</td>\n",
       "      <td>0.9991</td>\n",
       "    </tr>\n",
       "    <tr>\n",
       "      <th>17</th>\n",
       "      <td>555</td>\n",
       "      <td>41</td>\n",
       "      <td>@PHONE_NUM</td>\n",
       "      <td>0.9997</td>\n",
       "      <td>0</td>\n",
       "      <td>4.0000</td>\n",
       "      <td>0.9997</td>\n",
       "    </tr>\n",
       "    <tr>\n",
       "      <th>18</th>\n",
       "      <td>-</td>\n",
       "      <td>42</td>\n",
       "      <td>@PHONE_NUM</td>\n",
       "      <td>0.9998</td>\n",
       "      <td>0</td>\n",
       "      <td>4.0000</td>\n",
       "      <td>0.9997</td>\n",
       "    </tr>\n",
       "    <tr>\n",
       "      <th>19</th>\n",
       "      <td>0198</td>\n",
       "      <td>43</td>\n",
       "      <td>@PHONE_NUM</td>\n",
       "      <td>0.9997</td>\n",
       "      <td>0</td>\n",
       "      <td>4.0000</td>\n",
       "      <td>0.9998</td>\n",
       "    </tr>\n",
       "    <tr>\n",
       "      <th>20</th>\n",
       "      <td>ewatson87@example.com</td>\n",
       "      <td>49</td>\n",
       "      <td>@EMAIL</td>\n",
       "      <td>0.9999</td>\n",
       "      <td>0</td>\n",
       "      <td>7.0000</td>\n",
       "      <td>0.9999</td>\n",
       "    </tr>\n",
       "    <tr>\n",
       "      <th>21</th>\n",
       "      <td>Michael</td>\n",
       "      <td>303</td>\n",
       "      <td>@NAMES</td>\n",
       "      <td>0.9202</td>\n",
       "      <td>0</td>\n",
       "      <td>7.0000</td>\n",
       "      <td>1.0000</td>\n",
       "    </tr>\n",
       "    <tr>\n",
       "      <th>22</th>\n",
       "      <td>Watson</td>\n",
       "      <td>304</td>\n",
       "      <td>@NAMES</td>\n",
       "      <td>0.9714</td>\n",
       "      <td>0</td>\n",
       "      <td>0.0000</td>\n",
       "      <td>0.9202</td>\n",
       "    </tr>\n",
       "    <tr>\n",
       "      <th>23</th>\n",
       "      <td>Oliver</td>\n",
       "      <td>314</td>\n",
       "      <td>@NAMES</td>\n",
       "      <td>0.8863</td>\n",
       "      <td>0</td>\n",
       "      <td>7.0000</td>\n",
       "      <td>1.0000</td>\n",
       "    </tr>\n",
       "    <tr>\n",
       "      <th>24</th>\n",
       "      <td>Watson</td>\n",
       "      <td>315</td>\n",
       "      <td>@NAMES</td>\n",
       "      <td>0.9634</td>\n",
       "      <td>0</td>\n",
       "      <td>0.0000</td>\n",
       "      <td>0.8863</td>\n",
       "    </tr>\n",
       "    <tr>\n",
       "      <th>25</th>\n",
       "      <td>Sophie</td>\n",
       "      <td>322</td>\n",
       "      <td>@NAMES</td>\n",
       "      <td>0.8088</td>\n",
       "      <td>0</td>\n",
       "      <td>7.0000</td>\n",
       "      <td>1.0000</td>\n",
       "    </tr>\n",
       "    <tr>\n",
       "      <th>26</th>\n",
       "      <td>Watson</td>\n",
       "      <td>323</td>\n",
       "      <td>@NAMES</td>\n",
       "      <td>0.9476</td>\n",
       "      <td>0</td>\n",
       "      <td>0.0000</td>\n",
       "      <td>0.8088</td>\n",
       "    </tr>\n",
       "    <tr>\n",
       "      <th>27</th>\n",
       "      <td>linkedin.com/in/ewatson87</td>\n",
       "      <td>338</td>\n",
       "      <td>@URL_PERSONAL</td>\n",
       "      <td>0.8683</td>\n",
       "      <td>0</td>\n",
       "      <td>7.0000</td>\n",
       "      <td>0.9999</td>\n",
       "    </tr>\n",
       "    <tr>\n",
       "      <th>28</th>\n",
       "      <td>@emwatsonart</td>\n",
       "      <td>344</td>\n",
       "      <td>@USERNAME</td>\n",
       "      <td>0.7593</td>\n",
       "      <td>0</td>\n",
       "      <td>7.0000</td>\n",
       "      <td>0.9998</td>\n",
       "    </tr>\n",
       "    <tr>\n",
       "      <th>29</th>\n",
       "      <td>Emily</td>\n",
       "      <td>448</td>\n",
       "      <td>@NAMES</td>\n",
       "      <td>0.9888</td>\n",
       "      <td>0</td>\n",
       "      <td>7.0000</td>\n",
       "      <td>0.9998</td>\n",
       "    </tr>\n",
       "    <tr>\n",
       "      <th>30</th>\n",
       "      <td>Watson</td>\n",
       "      <td>449</td>\n",
       "      <td>@NAMES</td>\n",
       "      <td>0.9864</td>\n",
       "      <td>0</td>\n",
       "      <td>0.0000</td>\n",
       "      <td>0.9888</td>\n",
       "    </tr>\n",
       "  </tbody>\n",
       "</table>\n",
       "</div>"
      ],
      "text/plain": [
       "                        token  token_id            label  score  label_next_e_prev  label_next  score_next\n",
       "0                       Emily         2           @NAMES 0.9938                  0      7.0000      0.9999\n",
       "1                      Watson         3           @NAMES 0.9953                  0      0.0000      0.9938\n",
       "2                         123        20  @STREET_ADDRESS 0.9992                  0      7.0000      0.9999\n",
       "3                       Maple        21  @STREET_ADDRESS 0.9992                  1      6.0000      0.9992\n",
       "4                      Street        22  @STREET_ADDRESS 0.9995                  1      6.0000      0.9995\n",
       "5                           ,        23  @STREET_ADDRESS 0.9996                  1      6.0000      0.9996\n",
       "6                         Apt        24  @STREET_ADDRESS 0.9983                  1      6.0000      0.9983\n",
       "7                          4B        25  @STREET_ADDRESS 0.9987                  1      6.0000      0.9987\n",
       "8                           ,        26  @STREET_ADDRESS 0.9991                  1      6.0000      0.9991\n",
       "9                 Springfield        27  @STREET_ADDRESS 0.9934                  1      6.0000      0.9934\n",
       "10                          ,        28  @STREET_ADDRESS 0.9948                  1      6.0000      0.9948\n",
       "11                         IL        29  @STREET_ADDRESS 0.9784                  1      6.0000      0.9784\n",
       "12                          ,        30  @STREET_ADDRESS 0.9162                  1      6.0000      0.9162\n",
       "13                      62704        31  @STREET_ADDRESS 0.9961                  0      6.0000      0.9708\n",
       "14                          (        38       @PHONE_NUM 0.9995                  0      7.0000      0.9999\n",
       "15                        217        39       @PHONE_NUM 0.9991                  0      4.0000      0.9995\n",
       "16                          )        40       @PHONE_NUM 0.9997                  0      4.0000      0.9991\n",
       "17                        555        41       @PHONE_NUM 0.9997                  0      4.0000      0.9997\n",
       "18                          -        42       @PHONE_NUM 0.9998                  0      4.0000      0.9997\n",
       "19                       0198        43       @PHONE_NUM 0.9997                  0      4.0000      0.9998\n",
       "20      ewatson87@example.com        49           @EMAIL 0.9999                  0      7.0000      0.9999\n",
       "21                    Michael       303           @NAMES 0.9202                  0      7.0000      1.0000\n",
       "22                     Watson       304           @NAMES 0.9714                  0      0.0000      0.9202\n",
       "23                     Oliver       314           @NAMES 0.8863                  0      7.0000      1.0000\n",
       "24                     Watson       315           @NAMES 0.9634                  0      0.0000      0.8863\n",
       "25                     Sophie       322           @NAMES 0.8088                  0      7.0000      1.0000\n",
       "26                     Watson       323           @NAMES 0.9476                  0      0.0000      0.8088\n",
       "27  linkedin.com/in/ewatson87       338    @URL_PERSONAL 0.8683                  0      7.0000      0.9999\n",
       "28               @emwatsonart       344        @USERNAME 0.7593                  0      7.0000      0.9998\n",
       "29                      Emily       448           @NAMES 0.9888                  0      7.0000      0.9998\n",
       "30                     Watson       449           @NAMES 0.9864                  0      0.0000      0.9888"
      ]
     },
     "execution_count": 305,
     "metadata": {},
     "output_type": "execute_result"
    }
   ],
   "source": [
    "pred_df"
   ]
  },
  {
   "cell_type": "code",
   "execution_count": 306,
   "id": "5a6f42ee",
   "metadata": {},
   "outputs": [
    {
     "data": {
      "text/plain": [
       "(12, 18)"
      ]
     },
     "execution_count": 306,
     "metadata": {},
     "output_type": "execute_result"
    }
   ],
   "source": [
    "dic['sp_offset_mapping'][3]"
   ]
  },
  {
   "cell_type": "code",
   "execution_count": 307,
   "id": "6cdcf60b",
   "metadata": {},
   "outputs": [
    {
     "data": {
      "text/plain": [
       "'son '"
      ]
     },
     "execution_count": 307,
     "metadata": {},
     "output_type": "execute_result"
    }
   ],
   "source": [
    "dic['text'][15:19]"
   ]
  },
  {
   "cell_type": "code",
   "execution_count": 308,
   "id": "1b9bd585",
   "metadata": {},
   "outputs": [
    {
     "name": "stdout",
     "output_type": "stream",
     "text": [
      "Hello universe! This isexampleest.\n"
     ]
    }
   ],
   "source": [
    "def replace_text_elements(full_text, text_elements, text_elements_replaced, offset_mapping):\n",
    "    # Convert full_text to a list of characters to handle replacements\n",
    "    full_text_list = list(full_text)\n",
    "    offset_adjustment = 0\n",
    "\n",
    "    for i, (start, end) in enumerate(offset_mapping):\n",
    "        replacement = text_elements_replaced[i]\n",
    "\n",
    "        # Calculate the current positions considering the offset adjustment\n",
    "        start += offset_adjustment\n",
    "        end += offset_adjustment\n",
    "\n",
    "        # Replace the text in full_text_list\n",
    "        full_text_list[start:end] = list(replacement)\n",
    "\n",
    "        # Calculate the length difference caused by the replacement\n",
    "        length_difference = len(replacement) - (end - start)\n",
    "        \n",
    "        # Update the offset adjustment for subsequent replacements\n",
    "        offset_adjustment += length_difference\n",
    "\n",
    "    # Join the list back into a string\n",
    "    return ''.join(full_text_list)\n",
    "\n",
    "# Example usage\n",
    "full_text = \"Hello world! This is a test.\"\n",
    "text_elements = [\"world\", \"test\"]\n",
    "text_elements_replaced = [\"universe\", \"example\"]\n",
    "offset_mapping = [(6, 11), (20, 24)]  # The positions of \"world\" and \"test\" in full_text\n",
    "\n",
    "result = replace_text_elements(full_text, text_elements, text_elements_replaced, offset_mapping)\n",
    "print(result)  # Output: \"Hello universe! This is a example.\"\n"
   ]
  },
  {
   "cell_type": "code",
   "execution_count": 309,
   "id": "0285bb0e",
   "metadata": {},
   "outputs": [],
   "source": [
    "full_text = dic['text']\n",
    "text_elements =  pred_df.token.values.tolist()\n",
    "text_elements_replaced = pred_df.label.values.tolist()\n",
    "offset_mapping = [dic['sp_offset_mapping'][i] for i in pred_df.token_id.values.tolist()]"
   ]
  },
  {
   "cell_type": "code",
   "execution_count": 310,
   "id": "18041c91",
   "metadata": {
    "scrolled": false
   },
   "outputs": [
    {
     "name": "stdout",
     "output_type": "stream",
     "text": [
      "Name: @NAMES @NAMES [BR] Date of Birth: April 15, 1987 [BR] Address: @STREET_ADDRESS @STREET_ADDRESS @STREET_ADDRESS@STREET_ADDRESS @STREET_ADDRESS @STREET_ADDRESS@STREET_ADDRESS @STREET_ADDRESS@STREET_ADDRESS @STREET_ADDRESS@STREET_ADDRESS @STREET_ADDRESS [BR] Phone Number: @PHONE_NUM@PHONE_NUM@PHONE_NUM @PHONE_NUM@PHONE_NUM@PHONE_NUM [BR] Email: @EMAIL | Occupation: Graphic Designer at Creative Minds Studio | Education: | Bachelor of Fine Arts (BFA) in Graphic Design, University of Illinois at Urbana-Champaign, 2009 [BR] Master of Fine Arts (MFA) in Visual Communication, School of the Art Institute of Chicago, 2011 [BR] Professional Experience: | Creative Minds Studio (2012-Present) | Lead Graphic Designer: Leading a team of designers in creating visual content for various clients including branding, advertisements, and web design. [BR] Key Projects: Rebranding for local businesses, social media campaigns, and website redesign for a mid-sized tech company. [BR] Freelance Designer (2011-2012) | Worked with various clients on projects ranging from logo design to full marketing campaigns. Developed strong client relationships and a diverse portfolio. [BR] Skills: | Proficient in Adobe Creative Suite (Photoshop, Illustrator, InDesign) [BR] Strong understanding of UI/UX principles [BR] HTML/CSS basics [BR] Excellent communication and teamwork skills [BR] Personal Interests: | Avid painter and member of the local art club. [BR] Volunteer at Springfield Animal Shelter, helping with graphic design for their promotional materials. [BR] Enjoys hiking and nature photography. [BR] Family: | Spouse: @NAMES @NAMES, high school teacher [BR] Children: @NAMES @NAMES (8 years old), @NAMES @NAMES (5 years old) [BR] Social Media: | LinkedIn: @URL_PERSONAL [BR] Instagram: @USERNAME [BR] Notable Achievements: | Featured in \"Top 50 Designers Under 40\" by Design World Magazine, 2020. [BR] Awarded \"Best Local Designer\" by Springfield Arts Council, 2019. [BR] Speaker at the 2021 National Design Conference on \"The Future of Graphic Design in Digital Media.\" [BR] Community Involvement: | Organizer of the annual Springfield Art Fair, a community event showcasing local artists. [BR] Guest lecturer at Springfield Community College on graphic design trends and career paths. [BR] @NAMES @NAMES is a dedicated and talented graphic designer with over a decade of experience in the field. Her passion for design is evident in her work and her commitment to helping others through her volunteer efforts and community involvement. She continues to inspire with her creativity and dedication to the arts.\n"
     ]
    }
   ],
   "source": [
    "print(replace_text_elements(full_text, text_elements, text_elements_replaced, offset_mapping))"
   ]
  },
  {
   "cell_type": "code",
   "execution_count": 311,
   "id": "413bc424",
   "metadata": {},
   "outputs": [
    {
     "name": "stdout",
     "output_type": "stream",
     "text": [
      "Name: @NAMES @NAMES\n",
      "Date of Birth: April 15, 1987\n",
      "Address: @STREET_ADDRESS @STREET_ADDRESS @STREET_ADDRESS@STREET_ADDRESS @STREET_ADDRESS @STREET_ADDRESS@STREET_ADDRESS @STREET_ADDRESS@STREET_ADDRESS @STREET_ADDRESS@STREET_ADDRESS @STREET_ADDRESS\n",
      "Phone Number: @PHONE_NUM@PHONE_NUM@PHONE_NUM @PHONE_NUM@PHONE_NUM@PHONE_NUM\n",
      "Email: @EMAIL\n",
      "\n",
      "Occupation: Graphic Designer at Creative Minds Studio\n",
      "\n",
      "Education:\n",
      "\n",
      "Bachelor of Fine Arts (BFA) in Graphic Design, University of Illinois at Urbana-Champaign, 2009\n",
      "Master of Fine Arts (MFA) in Visual Communication, School of the Art Institute of Chicago, 2011\n",
      "Professional Experience:\n",
      "\n",
      "Creative Minds Studio (2012-Present)\n",
      "\n",
      "Lead Graphic Designer: Leading a team of designers in creating visual content for various clients including branding, advertisements, and web design.\n",
      "Key Projects: Rebranding for local businesses, social media campaigns, and website redesign for a mid-sized tech company.\n",
      "Freelance Designer (2011-2012)\n",
      "\n",
      "Worked with various clients on projects ranging from logo design to full marketing campaigns. Developed strong client relationships and a diverse portfolio.\n",
      "Skills:\n",
      "\n",
      "Proficient in Adobe Creative Suite (Photoshop, Illustrator, InDesign)\n",
      "Strong understanding of UI/UX principles\n",
      "HTML/CSS basics\n",
      "Excellent communication and teamwork skills\n",
      "Personal Interests:\n",
      "\n",
      "Avid painter and member of the local art club.\n",
      "Volunteer at Springfield Animal Shelter, helping with graphic design for their promotional materials.\n",
      "Enjoys hiking and nature photography.\n",
      "Family:\n",
      "\n",
      "Spouse: @NAMES @NAMES, high school teacher\n",
      "Children: @NAMES @NAMES (8 years old), @NAMES @NAMES (5 years old)\n",
      "Social Media:\n",
      "\n",
      "LinkedIn: @URL_PERSONAL\n",
      "Instagram: @USERNAME\n",
      "Notable Achievements:\n",
      "\n",
      "Featured in \"Top 50 Designers Under 40\" by Design World Magazine, 2020.\n",
      "Awarded \"Best Local Designer\" by Springfield Arts Council, 2019.\n",
      "Speaker at the 2021 National Design Conference on \"The Future of Graphic Design in Digital Media.\"\n",
      "Community Involvement:\n",
      "\n",
      "Organizer of the annual Springfield Art Fair, a community event showcasing local artists.\n",
      "Guest lecturer at Springfield Community College on graphic design trends and career paths.\n",
      "@NAMES @NAMES is a dedicated and talented graphic designer with over a decade of experience in the field. Her passion for design is evident in her work and her commitment to helping others through her volunteer efforts and community involvement. She continues to inspire with her creativity and dedication to the arts.\n"
     ]
    }
   ],
   "source": [
    "print(reverse_transformation(replace_text_elements(full_text, text_elements, \n",
    "                                                   text_elements_replaced, offset_mapping)))"
   ]
  },
  {
   "cell_type": "code",
   "execution_count": 312,
   "id": "2380b7db",
   "metadata": {},
   "outputs": [],
   "source": [
    "def replace_successive_placeholders(text):\n",
    "    placeholders = ['@NAMES', '@EMAIL', '@USERNAME', '@ID_NUM', '@PHONE_NUM', '@URL_PERSONAL', '@STREET_ADDRESS']\n",
    "    \n",
    "    for placeholder in placeholders:\n",
    "        pattern = re.compile(r'(' + re.escape(placeholder) + r')(\\s*\\1)+')\n",
    "        text = pattern.sub(placeholder, text)\n",
    "    \n",
    "    return text"
   ]
  },
  {
   "cell_type": "code",
   "execution_count": null,
   "id": "6380e1da",
   "metadata": {},
   "outputs": [],
   "source": []
  },
  {
   "cell_type": "code",
   "execution_count": 315,
   "id": "439fab15",
   "metadata": {},
   "outputs": [
    {
     "name": "stdout",
     "output_type": "stream",
     "text": [
      "Name: @NAMES\n",
      "Date of Birth: April 15, 1987\n",
      "Address: @STREET_ADDRESS\n",
      "Phone Number: @PHONE_NUM\n",
      "Email: @EMAIL\n",
      "\n",
      "Occupation: Graphic Designer at Creative Minds Studio\n",
      "\n",
      "Education:\n",
      "\n",
      "Bachelor of Fine Arts (BFA) in Graphic Design, University of Illinois at Urbana-Champaign, 2009\n",
      "Master of Fine Arts (MFA) in Visual Communication, School of the Art Institute of Chicago, 2011\n",
      "Professional Experience:\n",
      "\n",
      "Creative Minds Studio (2012-Present)\n",
      "\n",
      "Lead Graphic Designer: Leading a team of designers in creating visual content for various clients including branding, advertisements, and web design.\n",
      "Key Projects: Rebranding for local businesses, social media campaigns, and website redesign for a mid-sized tech company.\n",
      "Freelance Designer (2011-2012)\n",
      "\n",
      "Worked with various clients on projects ranging from logo design to full marketing campaigns. Developed strong client relationships and a diverse portfolio.\n",
      "Skills:\n",
      "\n",
      "Proficient in Adobe Creative Suite (Photoshop, Illustrator, InDesign)\n",
      "Strong understanding of UI/UX principles\n",
      "HTML/CSS basics\n",
      "Excellent communication and teamwork skills\n",
      "Personal Interests:\n",
      "\n",
      "Avid painter and member of the local art club.\n",
      "Volunteer at Springfield Animal Shelter, helping with graphic design for their promotional materials.\n",
      "Enjoys hiking and nature photography.\n",
      "Family:\n",
      "\n",
      "Spouse: @NAMES, high school teacher\n",
      "Children: @NAMES (8 years old), @NAMES (5 years old)\n",
      "Social Media:\n",
      "\n",
      "LinkedIn: @URL_PERSONAL\n",
      "Instagram: @USERNAME\n",
      "Notable Achievements:\n",
      "\n",
      "Featured in \"Top 50 Designers Under 40\" by Design World Magazine, 2020.\n",
      "Awarded \"Best Local Designer\" by Springfield Arts Council, 2019.\n",
      "Speaker at the 2021 National Design Conference on \"The Future of Graphic Design in Digital Media.\"\n",
      "Community Involvement:\n",
      "\n",
      "Organizer of the annual Springfield Art Fair, a community event showcasing local artists.\n",
      "Guest lecturer at Springfield Community College on graphic design trends and career paths.\n",
      "@NAMES is a dedicated and talented graphic designer with over a decade of experience in the field. Her passion for design is evident in her work and her commitment to helping others through her volunteer efforts and community involvement. She continues to inspire with her creativity and dedication to the arts.\n"
     ]
    }
   ],
   "source": [
    "text_anonymized = replace_successive_placeholders(reverse_transformation(replace_text_elements(full_text, text_elements, \n",
    "                                                   text_elements_replaced, offset_mapping)))\n",
    "print(text_anonymized)"
   ]
  },
  {
   "cell_type": "code",
   "execution_count": 326,
   "id": "1f194e16",
   "metadata": {},
   "outputs": [],
   "source": [
    "import spacy\n",
    "from spacy import displacy\n",
    "from pylab import cm, matplotlib\n",
    "import os\n",
    "\n",
    "colors = {\n",
    "            '@NAME_STUDENT': '#8000ff',\n",
    "            '@EMAIL': '#2b7ff6',\n",
    "            '@USERNAME': '#2adddd',\n",
    "            '@ID_NUM': '#80ffb4',\n",
    "            '@PHONE_NUM': 'd4dd80',\n",
    "            '@URL_PERSONAL': '#ff8042',\n",
    "            '@STREET_ADDRESS': '#ff0000'\n",
    "         }\n",
    "\n",
    "\n",
    "def visualize(full_text,offset_mapping):\n",
    "    \n",
    "    ents = []\n",
    "    for offset in offset_mapping:\n",
    "        ents.append({\n",
    "                        'start': int(offset[\"start_offset\"]), \n",
    "                         'end': int(offset[\"end_offset\"]), \n",
    "                         'label': str(offset[\"placeholder\"]) #+ ' - ' + str(row['discourse_effectiveness'])\n",
    "                    })\n",
    "    \n",
    "    print(ents)\n",
    "    doc2 = {\n",
    "        \"text\": full_text,\n",
    "        \"ents\": ents,\n",
    "#         \"title\": \"idx\"\n",
    "    }\n",
    "\n",
    "    options = {\"ents\": list(colors.keys()), \"colors\": colors}\n",
    "    displacy.render(doc2, style=\"ent\", options=options, manual=True, jupyter=True)"
   ]
  },
  {
   "cell_type": "code",
   "execution_count": 327,
   "id": "f56441b4",
   "metadata": {},
   "outputs": [],
   "source": [
    "import re\n",
    "\n",
    "def find_placeholders_offsets(text):\n",
    "    placeholders = ['@NAMES', '@EMAIL', '@USERNAME', '@ID_NUM', '@PHONE_NUM', '@URL_PERSONAL', '@STREET_ADDRESS']\n",
    "    offsets = []\n",
    "    \n",
    "    for placeholder in placeholders:\n",
    "        for match in re.finditer(re.escape(placeholder), text):\n",
    "            offsets.append({\n",
    "                'placeholder': placeholder,\n",
    "                'start_offset': match.start(),\n",
    "                'end_offset': match.end()\n",
    "            })\n",
    "    \n",
    "    return offsets\n"
   ]
  },
  {
   "cell_type": "code",
   "execution_count": 328,
   "id": "6d437b64",
   "metadata": {},
   "outputs": [],
   "source": [
    "offsets = find_placeholders_offsets(text_anonymized)"
   ]
  },
  {
   "cell_type": "code",
   "execution_count": 329,
   "id": "25bdcb2f",
   "metadata": {},
   "outputs": [
    {
     "data": {
      "text/plain": [
       "[{'placeholder': '@NAMES', 'start_offset': 6, 'end_offset': 12},\n",
       " {'placeholder': '@NAMES', 'start_offset': 1297, 'end_offset': 1303},\n",
       " {'placeholder': '@NAMES', 'start_offset': 1335, 'end_offset': 1341},\n",
       " {'placeholder': '@NAMES', 'start_offset': 1357, 'end_offset': 1363},\n",
       " {'placeholder': '@NAMES', 'start_offset': 1902, 'end_offset': 1908},\n",
       " {'placeholder': '@EMAIL', 'start_offset': 100, 'end_offset': 106},\n",
       " {'placeholder': '@USERNAME', 'start_offset': 1428, 'end_offset': 1437},\n",
       " {'placeholder': '@PHONE_NUM', 'start_offset': 82, 'end_offset': 92},\n",
       " {'placeholder': '@URL_PERSONAL', 'start_offset': 1403, 'end_offset': 1416},\n",
       " {'placeholder': '@STREET_ADDRESS', 'start_offset': 52, 'end_offset': 67}]"
      ]
     },
     "execution_count": 329,
     "metadata": {},
     "output_type": "execute_result"
    }
   ],
   "source": [
    "offsets"
   ]
  },
  {
   "cell_type": "code",
   "execution_count": 330,
   "id": "bea005d8",
   "metadata": {
    "scrolled": true
   },
   "outputs": [
    {
     "name": "stdout",
     "output_type": "stream",
     "text": [
      "[{'start': 6, 'end': 12, 'label': '@NAMES'}, {'start': 1297, 'end': 1303, 'label': '@NAMES'}, {'start': 1335, 'end': 1341, 'label': '@NAMES'}, {'start': 1357, 'end': 1363, 'label': '@NAMES'}, {'start': 1902, 'end': 1908, 'label': '@NAMES'}, {'start': 100, 'end': 106, 'label': '@EMAIL'}, {'start': 1428, 'end': 1437, 'label': '@USERNAME'}, {'start': 82, 'end': 92, 'label': '@PHONE_NUM'}, {'start': 1403, 'end': 1416, 'label': '@URL_PERSONAL'}, {'start': 52, 'end': 67, 'label': '@STREET_ADDRESS'}]\n"
     ]
    },
    {
     "data": {
      "text/html": [
       "<span class=\"tex2jax_ignore\"><div class=\"entities\" style=\"line-height: 2.5; direction: ltr\">Name: @NAMES<br>Date of Birth: April 15, 1987<br>Address: \n",
       "<mark class=\"entity\" style=\"background: #ff0000; padding: 0.45em 0.6em; margin: 0 0.25em; line-height: 1; border-radius: 0.35em;\">\n",
       "    @STREET_ADDRESS\n",
       "    <span style=\"font-size: 0.8em; font-weight: bold; line-height: 1; border-radius: 0.35em; vertical-align: middle; margin-left: 0.5rem\">@STREET_ADDRESS</span>\n",
       "</mark>\n",
       "<br>Phone Number: \n",
       "<mark class=\"entity\" style=\"background: d4dd80; padding: 0.45em 0.6em; margin: 0 0.25em; line-height: 1; border-radius: 0.35em;\">\n",
       "    @PHONE_NUM\n",
       "    <span style=\"font-size: 0.8em; font-weight: bold; line-height: 1; border-radius: 0.35em; vertical-align: middle; margin-left: 0.5rem\">@PHONE_NUM</span>\n",
       "</mark>\n",
       "<br>Email: \n",
       "<mark class=\"entity\" style=\"background: #2b7ff6; padding: 0.45em 0.6em; margin: 0 0.25em; line-height: 1; border-radius: 0.35em;\">\n",
       "    @EMAIL\n",
       "    <span style=\"font-size: 0.8em; font-weight: bold; line-height: 1; border-radius: 0.35em; vertical-align: middle; margin-left: 0.5rem\">@EMAIL</span>\n",
       "</mark>\n",
       "<br><br>Occupation: Graphic Designer at Creative Minds Studio<br><br>Education:<br><br>Bachelor of Fine Arts (BFA) in Graphic Design, University of Illinois at Urbana-Champaign, 2009<br>Master of Fine Arts (MFA) in Visual Communication, School of the Art Institute of Chicago, 2011<br>Professional Experience:<br><br>Creative Minds Studio (2012-Present)<br><br>Lead Graphic Designer: Leading a team of designers in creating visual content for various clients including branding, advertisements, and web design.<br>Key Projects: Rebranding for local businesses, social media campaigns, and website redesign for a mid-sized tech company.<br>Freelance Designer (2011-2012)<br><br>Worked with various clients on projects ranging from logo design to full marketing campaigns. Developed strong client relationships and a diverse portfolio.<br>Skills:<br><br>Proficient in Adobe Creative Suite (Photoshop, Illustrator, InDesign)<br>Strong understanding of UI/UX principles<br>HTML/CSS basics<br>Excellent communication and teamwork skills<br>Personal Interests:<br><br>Avid painter and member of the local art club.<br>Volunteer at Springfield Animal Shelter, helping with graphic design for their promotional materials.<br>Enjoys hiking and nature photography.<br>Family:<br><br>Spouse: @NAMES, high school teacher<br>Children: @NAMES (8 years old), @NAMES (5 years old)<br>Social Media:<br><br>LinkedIn: \n",
       "<mark class=\"entity\" style=\"background: #ff8042; padding: 0.45em 0.6em; margin: 0 0.25em; line-height: 1; border-radius: 0.35em;\">\n",
       "    @URL_PERSONAL\n",
       "    <span style=\"font-size: 0.8em; font-weight: bold; line-height: 1; border-radius: 0.35em; vertical-align: middle; margin-left: 0.5rem\">@URL_PERSONAL</span>\n",
       "</mark>\n",
       "<br>Instagram: \n",
       "<mark class=\"entity\" style=\"background: #2adddd; padding: 0.45em 0.6em; margin: 0 0.25em; line-height: 1; border-radius: 0.35em;\">\n",
       "    @USERNAME\n",
       "    <span style=\"font-size: 0.8em; font-weight: bold; line-height: 1; border-radius: 0.35em; vertical-align: middle; margin-left: 0.5rem\">@USERNAME</span>\n",
       "</mark>\n",
       "<br>Notable Achievements:<br><br>Featured in &quot;Top 50 Designers Under 40&quot; by Design World Magazine, 2020.<br>Awarded &quot;Best Local Designer&quot; by Springfield Arts Council, 2019.<br>Speaker at the 2021 National Design Conference on &quot;The Future of Graphic Design in Digital Media.&quot;<br>Community Involvement:<br><br>Organizer of the annual Springfield Art Fair, a community event showcasing local artists.<br>Guest lecturer at Springfield Community College on graphic design trends and career paths.<br>@NAMES is a dedicated and talented graphic designer with over a decade of experience in the field. Her passion for design is evident in her work and her commitment to helping others through her volunteer efforts and community involvement. She continues to inspire with her creativity and dedication to the arts.</div></span>"
      ],
      "text/plain": [
       "<IPython.core.display.HTML object>"
      ]
     },
     "metadata": {},
     "output_type": "display_data"
    }
   ],
   "source": [
    "visualize(text_anonymized,offsets)"
   ]
  },
  {
   "cell_type": "code",
   "execution_count": 331,
   "id": "7123bb0c",
   "metadata": {},
   "outputs": [],
   "source": [
    "import re\n",
    "import spacy\n",
    "from spacy import displacy\n",
    "\n",
    "# Define colors for placeholders\n",
    "colors = {\n",
    "    '@NAMES': '#8000ff',\n",
    "    '@EMAIL': '#2b7ff6',\n",
    "    '@USERNAME': '#2adddd',\n",
    "    '@ID_NUM': '#80ffb4',\n",
    "    '@PHONE_NUM': '#d4dd80',\n",
    "    '@URL_PERSONAL': '#ff8042',\n",
    "    '@STREET_ADDRESS': '#ff0000'\n",
    "}\n",
    "\n",
    "def find_placeholders_offsets(text):\n",
    "    placeholders = ['@NAMES', '@EMAIL', '@USERNAME', '@ID_NUM', '@PHONE_NUM', '@URL_PERSONAL', '@STREET_ADDRESS']\n",
    "    offsets = []\n",
    "    \n",
    "    for placeholder in placeholders:\n",
    "        for match in re.finditer(re.escape(placeholder), text):\n",
    "            offsets.append({\n",
    "                'placeholder': placeholder,\n",
    "                'start_offset': match.start(),\n",
    "                'end_offset': match.end()\n",
    "            })\n",
    "    \n",
    "    return offsets\n",
    "\n",
    "def visualize(full_text, offset_mapping):\n",
    "    ents = []\n",
    "    for offset in offset_mapping:\n",
    "        ents.append({\n",
    "            'start': int(offset[\"start_offset\"]), \n",
    "            'end': int(offset[\"end_offset\"]), \n",
    "            'label': offset[\"placeholder\"]  # Keeping the label here for displacy, but it won't be shown in output\n",
    "        })\n",
    "    \n",
    "    doc2 = {\n",
    "        \"text\": full_text,\n",
    "        \"ents\": ents,\n",
    "    }\n",
    "\n",
    "    options = {\"ents\": list(colors.keys()), \"colors\": colors}\n",
    "    displacy.render(doc2, style=\"ent\", options=options, manual=True, jupyter=True)\n"
   ]
  },
  {
   "cell_type": "code",
   "execution_count": 332,
   "id": "e8079080",
   "metadata": {
    "scrolled": false
   },
   "outputs": [
    {
     "data": {
      "text/html": [
       "<span class=\"tex2jax_ignore\"><div class=\"entities\" style=\"line-height: 2.5; direction: ltr\">Name: \n",
       "<mark class=\"entity\" style=\"background: #8000ff; padding: 0.45em 0.6em; margin: 0 0.25em; line-height: 1; border-radius: 0.35em;\">\n",
       "    @NAMES\n",
       "    <span style=\"font-size: 0.8em; font-weight: bold; line-height: 1; border-radius: 0.35em; vertical-align: middle; margin-left: 0.5rem\">@NAMES</span>\n",
       "</mark>\n",
       "<br>Date of Birth: April 15, 1987<br>Address: \n",
       "<mark class=\"entity\" style=\"background: #ff0000; padding: 0.45em 0.6em; margin: 0 0.25em; line-height: 1; border-radius: 0.35em;\">\n",
       "    @STREET_ADDRESS\n",
       "    <span style=\"font-size: 0.8em; font-weight: bold; line-height: 1; border-radius: 0.35em; vertical-align: middle; margin-left: 0.5rem\">@STREET_ADDRESS</span>\n",
       "</mark>\n",
       "<br>Phone Number: \n",
       "<mark class=\"entity\" style=\"background: #d4dd80; padding: 0.45em 0.6em; margin: 0 0.25em; line-height: 1; border-radius: 0.35em;\">\n",
       "    @PHONE_NUM\n",
       "    <span style=\"font-size: 0.8em; font-weight: bold; line-height: 1; border-radius: 0.35em; vertical-align: middle; margin-left: 0.5rem\">@PHONE_NUM</span>\n",
       "</mark>\n",
       "<br>Email: \n",
       "<mark class=\"entity\" style=\"background: #2b7ff6; padding: 0.45em 0.6em; margin: 0 0.25em; line-height: 1; border-radius: 0.35em;\">\n",
       "    @EMAIL\n",
       "    <span style=\"font-size: 0.8em; font-weight: bold; line-height: 1; border-radius: 0.35em; vertical-align: middle; margin-left: 0.5rem\">@EMAIL</span>\n",
       "</mark>\n",
       "<br><br>Occupation: Graphic Designer at Creative Minds Studio<br><br>Education:<br><br>Bachelor of Fine Arts (BFA) in Graphic Design, University of Illinois at Urbana-Champaign, 2009<br>Master of Fine Arts (MFA) in Visual Communication, School of the Art Institute of Chicago, 2011<br>Professional Experience:<br><br>Creative Minds Studio (2012-Present)<br><br>Lead Graphic Designer: Leading a team of designers in creating visual content for various clients including branding, advertisements, and web design.<br>Key Projects: Rebranding for local businesses, social media campaigns, and website redesign for a mid-sized tech company.<br>Freelance Designer (2011-2012)<br><br>Worked with various clients on projects ranging from logo design to full marketing campaigns. Developed strong client relationships and a diverse portfolio.<br>Skills:<br><br>Proficient in Adobe Creative Suite (Photoshop, Illustrator, InDesign)<br>Strong understanding of UI/UX principles<br>HTML/CSS basics<br>Excellent communication and teamwork skills<br>Personal Interests:<br><br>Avid painter and member of the local art club.<br>Volunteer at Springfield Animal Shelter, helping with graphic design for their promotional materials.<br>Enjoys hiking and nature photography.<br>Family:<br><br>Spouse: \n",
       "<mark class=\"entity\" style=\"background: #8000ff; padding: 0.45em 0.6em; margin: 0 0.25em; line-height: 1; border-radius: 0.35em;\">\n",
       "    @NAMES\n",
       "    <span style=\"font-size: 0.8em; font-weight: bold; line-height: 1; border-radius: 0.35em; vertical-align: middle; margin-left: 0.5rem\">@NAMES</span>\n",
       "</mark>\n",
       ", high school teacher<br>Children: \n",
       "<mark class=\"entity\" style=\"background: #8000ff; padding: 0.45em 0.6em; margin: 0 0.25em; line-height: 1; border-radius: 0.35em;\">\n",
       "    @NAMES\n",
       "    <span style=\"font-size: 0.8em; font-weight: bold; line-height: 1; border-radius: 0.35em; vertical-align: middle; margin-left: 0.5rem\">@NAMES</span>\n",
       "</mark>\n",
       " (8 years old), \n",
       "<mark class=\"entity\" style=\"background: #8000ff; padding: 0.45em 0.6em; margin: 0 0.25em; line-height: 1; border-radius: 0.35em;\">\n",
       "    @NAMES\n",
       "    <span style=\"font-size: 0.8em; font-weight: bold; line-height: 1; border-radius: 0.35em; vertical-align: middle; margin-left: 0.5rem\">@NAMES</span>\n",
       "</mark>\n",
       " (5 years old)<br>Social Media:<br><br>LinkedIn: \n",
       "<mark class=\"entity\" style=\"background: #ff8042; padding: 0.45em 0.6em; margin: 0 0.25em; line-height: 1; border-radius: 0.35em;\">\n",
       "    @URL_PERSONAL\n",
       "    <span style=\"font-size: 0.8em; font-weight: bold; line-height: 1; border-radius: 0.35em; vertical-align: middle; margin-left: 0.5rem\">@URL_PERSONAL</span>\n",
       "</mark>\n",
       "<br>Instagram: \n",
       "<mark class=\"entity\" style=\"background: #2adddd; padding: 0.45em 0.6em; margin: 0 0.25em; line-height: 1; border-radius: 0.35em;\">\n",
       "    @USERNAME\n",
       "    <span style=\"font-size: 0.8em; font-weight: bold; line-height: 1; border-radius: 0.35em; vertical-align: middle; margin-left: 0.5rem\">@USERNAME</span>\n",
       "</mark>\n",
       "<br>Notable Achievements:<br><br>Featured in &quot;Top 50 Designers Under 40&quot; by Design World Magazine, 2020.<br>Awarded &quot;Best Local Designer&quot; by Springfield Arts Council, 2019.<br>Speaker at the 2021 National Design Conference on &quot;The Future of Graphic Design in Digital Media.&quot;<br>Community Involvement:<br><br>Organizer of the annual Springfield Art Fair, a community event showcasing local artists.<br>Guest lecturer at Springfield Community College on graphic design trends and career paths.<br>\n",
       "<mark class=\"entity\" style=\"background: #8000ff; padding: 0.45em 0.6em; margin: 0 0.25em; line-height: 1; border-radius: 0.35em;\">\n",
       "    @NAMES\n",
       "    <span style=\"font-size: 0.8em; font-weight: bold; line-height: 1; border-radius: 0.35em; vertical-align: middle; margin-left: 0.5rem\">@NAMES</span>\n",
       "</mark>\n",
       " is a dedicated and talented graphic designer with over a decade of experience in the field. Her passion for design is evident in her work and her commitment to helping others through her volunteer efforts and community involvement. She continues to inspire with her creativity and dedication to the arts.</div></span>"
      ],
      "text/plain": [
       "<IPython.core.display.HTML object>"
      ]
     },
     "metadata": {},
     "output_type": "display_data"
    }
   ],
   "source": [
    "offsets = find_placeholders_offsets(text_anonymized)\n",
    "visualize(text_anonymized, offsets)"
   ]
  }
 ],
 "metadata": {
  "kernelspec": {
   "display_name": "Python 3 (ipykernel)",
   "language": "python",
   "name": "python3"
  },
  "language_info": {
   "codemirror_mode": {
    "name": "ipython",
    "version": 3
   },
   "file_extension": ".py",
   "mimetype": "text/x-python",
   "name": "python",
   "nbconvert_exporter": "python",
   "pygments_lexer": "ipython3",
   "version": "3.10.9"
  }
 },
 "nbformat": 4,
 "nbformat_minor": 5
}

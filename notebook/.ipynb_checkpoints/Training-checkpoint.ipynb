{
 "cells": [
  {
   "cell_type": "code",
   "execution_count": 1,
   "id": "7b47bb83",
   "metadata": {},
   "outputs": [
    {
     "name": "stdout",
     "output_type": "stream",
     "text": [
      "/workspace/Script/NLP/CommonLit - Evaluate Student Summaries/src\n"
     ]
    }
   ],
   "source": [
    "cd ../src"
   ]
  },
  {
   "cell_type": "code",
   "execution_count": 2,
   "id": "e51368f3",
   "metadata": {},
   "outputs": [],
   "source": [
    "import os\n",
    "import gc\n",
    "import json\n",
    "import time\n",
    "import torch\n",
    "import joblib\n",
    "import random\n",
    "import numpy as np\n",
    "import pandas as pd\n",
    "from tqdm.auto import tqdm\n",
    "from pathlib import Path\n",
    "import plotly.express as px\n",
    "import matplotlib.pyplot as plt\n",
    "\n",
    "pd.set_option('display.max_rows', 500)\n",
    "pd.set_option('display.max_columns', 500)\n",
    "pd.set_option('display.width', 1000)\n",
    "pd.set_option('display.float_format', lambda x: '%.4f' % x)\n",
    "\n",
    "import warnings\n",
    "warnings.filterwarnings(\"ignore\")"
   ]
  },
  {
   "cell_type": "code",
   "execution_count": 3,
   "id": "6bcc282d",
   "metadata": {},
   "outputs": [
    {
     "data": {
      "text/plain": [
       "'2023-08-12'"
      ]
     },
     "execution_count": 3,
     "metadata": {},
     "output_type": "execute_result"
    }
   ],
   "source": [
    "from datetime import date\n",
    "\n",
    "TODAY = date.today()\n",
    "TODAY = TODAY.strftime('%Y-%m-%d')\n",
    "TODAY"
   ]
  },
  {
   "cell_type": "code",
   "execution_count": 4,
   "id": "ebc312c3",
   "metadata": {},
   "outputs": [],
   "source": [
    "def get_version(start=0):\n",
    "    if not hasattr(get_version, 'counter'):\n",
    "        get_version.counter = start\n",
    "    value = get_version.counter\n",
    "    get_version.counter += 1\n",
    "    return value"
   ]
  },
  {
   "cell_type": "code",
   "execution_count": 5,
   "id": "4fdeefeb",
   "metadata": {},
   "outputs": [],
   "source": [
    "from train_utils import kfold"
   ]
  },
  {
   "cell_type": "code",
   "execution_count": 6,
   "id": "056671ff",
   "metadata": {},
   "outputs": [
    {
     "name": "stdout",
     "output_type": "stream",
     "text": [
      "Sat Aug 12 18:03:07 2023       \n",
      "+-----------------------------------------------------------------------------+\n",
      "| NVIDIA-SMI 470.199.02   Driver Version: 470.199.02   CUDA Version: 11.7     |\n",
      "|-------------------------------+----------------------+----------------------+\n",
      "| GPU  Name        Persistence-M| Bus-Id        Disp.A | Volatile Uncorr. ECC |\n",
      "| Fan  Temp  Perf  Pwr:Usage/Cap|         Memory-Usage | GPU-Util  Compute M. |\n",
      "|                               |                      |               MIG M. |\n",
      "|===============================+======================+======================|\n",
      "|   0  NVIDIA RTX A6000    Off  | 00000000:2D:00.0  On |                  Off |\n",
      "| 30%   46C    P8    33W / 300W |    556MiB / 48677MiB |      9%      Default |\n",
      "|                               |                      |                  N/A |\n",
      "+-------------------------------+----------------------+----------------------+\n",
      "|   1  NVIDIA RTX A6000    Off  | 00000000:99:00.0 Off |                  Off |\n",
      "| 30%   39C    P8    15W / 300W |     10MiB / 48685MiB |      0%      Default |\n",
      "|                               |                      |                  N/A |\n",
      "+-------------------------------+----------------------+----------------------+\n",
      "                                                                               \n",
      "+-----------------------------------------------------------------------------+\n",
      "| Processes:                                                                  |\n",
      "|  GPU   GI   CI        PID   Type   Process name                  GPU Memory |\n",
      "|        ID   ID                                                   Usage      |\n",
      "|=============================================================================|\n",
      "+-----------------------------------------------------------------------------+\n"
     ]
    }
   ],
   "source": [
    "!nvidia-smi"
   ]
  },
  {
   "cell_type": "code",
   "execution_count": 7,
   "id": "9a35a832",
   "metadata": {},
   "outputs": [
    {
     "data": {
      "text/plain": [
       "['summaries_train.csv',\n",
       " 'prompts_train.csv',\n",
       " 'CLEAR_corpus_final.xlsx',\n",
       " 'summaries_test.csv',\n",
       " 'prompts_test.csv',\n",
       " 'sample_submission.csv']"
      ]
     },
     "execution_count": 7,
     "metadata": {},
     "output_type": "execute_result"
    }
   ],
   "source": [
    "DATA_PATH = Path(r\"/database/kaggle/Commontlit/data\")\n",
    "CHECKPOINT_PATH = Path(r\"/database/kaggle/Commontlit/checkpoint\")\n",
    "\n",
    "os.listdir(DATA_PATH)"
   ]
  },
  {
   "cell_type": "markdown",
   "id": "7b8dc498",
   "metadata": {},
   "source": [
    "# Data"
   ]
  },
  {
   "cell_type": "code",
   "execution_count": 8,
   "id": "08705bb0",
   "metadata": {},
   "outputs": [
    {
     "data": {
      "text/plain": [
       "(7165, 5)"
      ]
     },
     "execution_count": 8,
     "metadata": {},
     "output_type": "execute_result"
    }
   ],
   "source": [
    "df = pd.read_csv(DATA_PATH/'summaries_train.csv')\n",
    "df.shape"
   ]
  },
  {
   "cell_type": "code",
   "execution_count": 9,
   "id": "6cc03a54",
   "metadata": {},
   "outputs": [
    {
     "data": {
      "text/html": [
       "<div>\n",
       "<style scoped>\n",
       "    .dataframe tbody tr th:only-of-type {\n",
       "        vertical-align: middle;\n",
       "    }\n",
       "\n",
       "    .dataframe tbody tr th {\n",
       "        vertical-align: top;\n",
       "    }\n",
       "\n",
       "    .dataframe thead th {\n",
       "        text-align: right;\n",
       "    }\n",
       "</style>\n",
       "<table border=\"1\" class=\"dataframe\">\n",
       "  <thead>\n",
       "    <tr style=\"text-align: right;\">\n",
       "      <th></th>\n",
       "      <th>student_id</th>\n",
       "      <th>prompt_id</th>\n",
       "      <th>text</th>\n",
       "      <th>content</th>\n",
       "      <th>wording</th>\n",
       "    </tr>\n",
       "  </thead>\n",
       "  <tbody>\n",
       "    <tr>\n",
       "      <th>0</th>\n",
       "      <td>000e8c3c7ddb</td>\n",
       "      <td>814d6b</td>\n",
       "      <td>The third wave was an experimentto see how peo...</td>\n",
       "      <td>0.2057</td>\n",
       "      <td>0.3805</td>\n",
       "    </tr>\n",
       "    <tr>\n",
       "      <th>1</th>\n",
       "      <td>0020ae56ffbf</td>\n",
       "      <td>ebad26</td>\n",
       "      <td>They would rub it up with soda to make the sme...</td>\n",
       "      <td>-0.5483</td>\n",
       "      <td>0.5068</td>\n",
       "    </tr>\n",
       "    <tr>\n",
       "      <th>2</th>\n",
       "      <td>004e978e639e</td>\n",
       "      <td>3b9047</td>\n",
       "      <td>In Egypt, there were many occupations and soci...</td>\n",
       "      <td>3.1289</td>\n",
       "      <td>4.2312</td>\n",
       "    </tr>\n",
       "    <tr>\n",
       "      <th>3</th>\n",
       "      <td>005ab0199905</td>\n",
       "      <td>3b9047</td>\n",
       "      <td>The highest class was Pharaohs these people we...</td>\n",
       "      <td>-0.2106</td>\n",
       "      <td>-0.4714</td>\n",
       "    </tr>\n",
       "    <tr>\n",
       "      <th>4</th>\n",
       "      <td>0070c9e7af47</td>\n",
       "      <td>814d6b</td>\n",
       "      <td>The Third Wave developed  rapidly because the ...</td>\n",
       "      <td>3.2729</td>\n",
       "      <td>3.2198</td>\n",
       "    </tr>\n",
       "  </tbody>\n",
       "</table>\n",
       "</div>"
      ],
      "text/plain": [
       "     student_id prompt_id                                               text  content  wording\n",
       "0  000e8c3c7ddb    814d6b  The third wave was an experimentto see how peo...   0.2057   0.3805\n",
       "1  0020ae56ffbf    ebad26  They would rub it up with soda to make the sme...  -0.5483   0.5068\n",
       "2  004e978e639e    3b9047  In Egypt, there were many occupations and soci...   3.1289   4.2312\n",
       "3  005ab0199905    3b9047  The highest class was Pharaohs these people we...  -0.2106  -0.4714\n",
       "4  0070c9e7af47    814d6b  The Third Wave developed  rapidly because the ...   3.2729   3.2198"
      ]
     },
     "execution_count": 9,
     "metadata": {},
     "output_type": "execute_result"
    }
   ],
   "source": [
    "df.head()"
   ]
  },
  {
   "cell_type": "code",
   "execution_count": 10,
   "id": "63a96293",
   "metadata": {},
   "outputs": [
    {
     "data": {
      "text/plain": [
       "array(['814d6b', 'ebad26', '3b9047', '39c16e'], dtype=object)"
      ]
     },
     "execution_count": 10,
     "metadata": {},
     "output_type": "execute_result"
    }
   ],
   "source": [
    "df.prompt_id.unique()"
   ]
  },
  {
   "cell_type": "markdown",
   "id": "fcec4351",
   "metadata": {},
   "source": [
    "# CV"
   ]
  },
  {
   "cell_type": "code",
   "execution_count": 11,
   "id": "e3ce3c83",
   "metadata": {},
   "outputs": [],
   "source": [
    "# from sklearn.model_selection import GroupKFold,StratifiedGroupKFold,KFold,StratifiedKFold\n",
    "# from iterstrat.ml_stratifiers import MultilabelStratifiedKFold"
   ]
  },
  {
   "cell_type": "code",
   "execution_count": 12,
   "id": "39587aa3",
   "metadata": {},
   "outputs": [],
   "source": [
    "# train_df = df[df.data==\"train\"].reset_index(drop=True)\n",
    "# valid_df = df[df.data=='valid'].reset_index(drop=True)"
   ]
  },
  {
   "cell_type": "code",
   "execution_count": null,
   "id": "93000759",
   "metadata": {},
   "outputs": [],
   "source": []
  },
  {
   "cell_type": "code",
   "execution_count": 13,
   "id": "83267f24",
   "metadata": {},
   "outputs": [],
   "source": [
    "# seeds = [42]\n",
    "# folds_names = []\n",
    "# for K in [5,10]:  \n",
    "#     for seed in seeds:\n",
    "#         mskf = StratifiedKFold(n_splits=K,shuffle=True,random_state=seed)\n",
    "#         name = f\"fold_sk_{K}_seed_{seed}\"\n",
    "#         train_df[name] = -1\n",
    "#         for fold, (trn_, val_) in enumerate(mskf.split(train_df,train_df['year'])):\n",
    "#             train_df.loc[val_, name] = fold+1\n",
    "#         valid_df[name] = 0"
   ]
  },
  {
   "cell_type": "code",
   "execution_count": 14,
   "id": "c35a54e6",
   "metadata": {},
   "outputs": [],
   "source": [
    "df['fold'] = df['prompt_id'].map({\"814d6b\":0,\"ebad26\":1,\"3b9047\":2,\"39c16e\":3})"
   ]
  },
  {
   "cell_type": "code",
   "execution_count": 15,
   "id": "ce4717ff",
   "metadata": {},
   "outputs": [
    {
     "data": {
      "text/plain": [
       "fold\n",
       "3    2057\n",
       "2    2009\n",
       "1    1996\n",
       "0    1103\n",
       "Name: count, dtype: int64"
      ]
     },
     "execution_count": 15,
     "metadata": {},
     "output_type": "execute_result"
    }
   ],
   "source": [
    "df[\"fold\"].value_counts()"
   ]
  },
  {
   "cell_type": "code",
   "execution_count": 16,
   "id": "dbb8001a",
   "metadata": {},
   "outputs": [],
   "source": [
    "FOLD_NAME = \"fold\""
   ]
  },
  {
   "cell_type": "code",
   "execution_count": 19,
   "id": "ec5e7f69",
   "metadata": {},
   "outputs": [
    {
     "name": "stdout",
     "output_type": "stream",
     "text": [
      "/database/kaggle/Commontlit/checkpoint/fold/microsoft/deberta-v3-large/2023-08-12--v1-test\n"
     ]
    }
   ],
   "source": [
    "class args:\n",
    "    seed = 2022\n",
    "    \n",
    "    # Model\n",
    "    model_name = 'microsoft/deberta-v3-large' #smp.UnetPlusPlus smp.Unet\n",
    "    project_name = \"CommonLit\"\n",
    "    # CV\n",
    "    kfold_name = FOLD_NAME\n",
    "    selected_folds = [0]\n",
    "    not_include_folds = []\n",
    "    # Paths\n",
    "    name = model_name.split('.')[1] if '.' in model_name else model_name\n",
    "    exp_name = f\"{TODAY}--v{get_version(start=0)}-test\"  \n",
    "    checkpoints_path = str(CHECKPOINT_PATH/Path(fr'{kfold_name}/{name}/{exp_name}'))  \n",
    "    \n",
    "    dataset = \"CommonLitDataset\"\n",
    "    data = {\n",
    "            'mask_pct':0\n",
    "           \n",
    "           }\n",
    "    model = {\n",
    "            \"model_params\":{\"model_name\":model_name,\n",
    "                            'num_labels':2,\n",
    "                            \"use_gradient_checkpointing\":False,\n",
    "                            \"config_path\":None ,\n",
    "                            \"pooling_params\":{\"pooling_name\":\"CLS\"}\n",
    "                           },\n",
    "        \n",
    "            'loss':\"FeedbackLoss\",\n",
    "            \"loss_params\":{\"weights\":[0.5,0.5], \n",
    "                          },\n",
    "\n",
    "            \"pretrained_weights\":None, \n",
    "             \n",
    "            }\n",
    "    \n",
    "    optimizer = {\n",
    "            \"name\":\"optim.AdamW\",\n",
    "            'params':{\"encoder_lr\":2e-5,\n",
    "                      \"decoder_lr\":5e-4,\n",
    "                     \"weight_decay\": 0.0,\n",
    "                     },            \n",
    "            }\n",
    "\n",
    "    scheduler = {\n",
    "            \"name\":\"cosine\",\n",
    "            'params':{\n",
    "                      \"lr_end\":1e-7,# defaulkt 1e-7\n",
    "                      \"power\":3\n",
    "                     },\n",
    "            \"warmup\":0.,            \n",
    "            }\n",
    "    \n",
    "    train_loader = {\n",
    "            \"batch_size\":32,\n",
    "            'drop_last':True,\n",
    "            \"num_workers\":16,\n",
    "            \"pin_memory\":False, \n",
    "            \"shuffle\":True,\n",
    "            }\n",
    "    \n",
    "    \n",
    "    val_loader = {\n",
    "            \"batch_size\":128,\n",
    "            'drop_last':False,\n",
    "            \"num_workers\":16,\n",
    "            \"pin_memory\":False,\n",
    "            \"shuffle\":False\n",
    "            }\n",
    "    \n",
    "    trainer = {\"use_amp\":False,\n",
    "                'epochs':10,\n",
    "                \"sample\":False,\n",
    "                \"train_all_data\":False,\n",
    "                \"use_awp\":False,\n",
    "                \"start_epoch_awp\":1,\n",
    "                \"adv_lr\":0.0003,\n",
    "                \"adv_eps\":0.001,\n",
    "                \"grad_clip\":False,\n",
    "                \"max_norm\":10\n",
    "              }\n",
    "    \n",
    "\n",
    "    callbacks = {'save':True,\"es\":False,\"patience\":10,\n",
    "                 'verbose_eval':1,\"epoch_pct_eval\":1/1,\"epoch_eval_dist\":\"uniforme\",#uniforme\n",
    "                 \"metric_track\":\"valid_dice\",\"mode\":\"max\",'top_k':1,\"start_eval_epoch\":0,\n",
    "                 \"save_last_k\":0\n",
    "                }\n",
    "    \n",
    "    device = 1\n",
    "    \n",
    "Path(args.checkpoints_path).mkdir(parents=True,exist_ok=True)\n",
    "print(args.checkpoints_path)"
   ]
  },
  {
   "cell_type": "code",
   "execution_count": 20,
   "id": "a750b220",
   "metadata": {},
   "outputs": [
    {
     "name": "stdout",
     "output_type": "stream",
     "text": [
      "----------- fold ---------\n",
      "\n",
      "-------------   Fold 1 / 4  -------------\n",
      "\n"
     ]
    },
    {
     "data": {
      "text/html": [
       "Finishing last run (ID:408owjwr) before initializing another..."
      ],
      "text/plain": [
       "<IPython.core.display.HTML object>"
      ]
     },
     "metadata": {},
     "output_type": "display_data"
    },
    {
     "data": {
      "text/html": [
       "Waiting for W&B process to finish... <strong style=\"color:green\">(success).</strong>"
      ],
      "text/plain": [
       "<IPython.core.display.HTML object>"
      ]
     },
     "metadata": {},
     "output_type": "display_data"
    },
    {
     "data": {
      "text/html": [
       " View run <strong style=\"color:#cdcd00\">2023-08-12--v0-test_fold_1</strong> at: <a href='https://wandb.ai/amedprof/CommonLit/runs/408owjwr' target=\"_blank\">https://wandb.ai/amedprof/CommonLit/runs/408owjwr</a><br/>Synced 6 W&B file(s), 0 media file(s), 0 artifact file(s) and 0 other file(s)"
      ],
      "text/plain": [
       "<IPython.core.display.HTML object>"
      ]
     },
     "metadata": {},
     "output_type": "display_data"
    },
    {
     "data": {
      "text/html": [
       "Find logs at: <code>./wandb/run-20230812_180308-408owjwr/logs</code>"
      ],
      "text/plain": [
       "<IPython.core.display.HTML object>"
      ]
     },
     "metadata": {},
     "output_type": "display_data"
    },
    {
     "data": {
      "text/html": [
       "Successfully finished last run (ID:408owjwr). Initializing new run:<br/>"
      ],
      "text/plain": [
       "<IPython.core.display.HTML object>"
      ]
     },
     "metadata": {},
     "output_type": "display_data"
    },
    {
     "data": {
      "application/vnd.jupyter.widget-view+json": {
       "model_id": "8b9577a64e53449f8185acf0bac0ad48",
       "version_major": 2,
       "version_minor": 0
      },
      "text/plain": [
       "VBox(children=(Label(value='Waiting for wandb.init()...\\r'), FloatProgress(value=0.01666950341671812, max=1.0)…"
      ]
     },
     "metadata": {},
     "output_type": "display_data"
    },
    {
     "data": {
      "text/html": [
       "wandb version 0.15.8 is available!  To upgrade, please run:\n",
       " $ pip install wandb --upgrade"
      ],
      "text/plain": [
       "<IPython.core.display.HTML object>"
      ]
     },
     "metadata": {},
     "output_type": "display_data"
    },
    {
     "data": {
      "text/html": [
       "Tracking run with wandb version 0.15.5"
      ],
      "text/plain": [
       "<IPython.core.display.HTML object>"
      ]
     },
     "metadata": {},
     "output_type": "display_data"
    },
    {
     "data": {
      "text/html": [
       "Run data is saved locally in <code>/workspace/Script/NLP/CommonLit - Evaluate Student Summaries/src/wandb/run-20230812_180354-h5rlk70q</code>"
      ],
      "text/plain": [
       "<IPython.core.display.HTML object>"
      ]
     },
     "metadata": {},
     "output_type": "display_data"
    },
    {
     "data": {
      "text/html": [
       "Syncing run <strong><a href='https://wandb.ai/amedprof/CommonLit/runs/h5rlk70q' target=\"_blank\">2023-08-12--v1-test_fold_1</a></strong> to <a href='https://wandb.ai/amedprof/CommonLit' target=\"_blank\">Weights & Biases</a> (<a href='https://wandb.me/run' target=\"_blank\">docs</a>)<br/>"
      ],
      "text/plain": [
       "<IPython.core.display.HTML object>"
      ]
     },
     "metadata": {},
     "output_type": "display_data"
    },
    {
     "data": {
      "text/html": [
       " View project at <a href='https://wandb.ai/amedprof/CommonLit' target=\"_blank\">https://wandb.ai/amedprof/CommonLit</a>"
      ],
      "text/plain": [
       "<IPython.core.display.HTML object>"
      ]
     },
     "metadata": {},
     "output_type": "display_data"
    },
    {
     "data": {
      "text/html": [
       " View run at <a href='https://wandb.ai/amedprof/CommonLit/runs/h5rlk70q' target=\"_blank\">https://wandb.ai/amedprof/CommonLit/runs/h5rlk70q</a>"
      ],
      "text/plain": [
       "<IPython.core.display.HTML object>"
      ]
     },
     "metadata": {},
     "output_type": "display_data"
    },
    {
     "name": "stderr",
     "output_type": "stream",
     "text": [
      "Special tokens have been added in the vocabulary, make sure the associated word embeddings are fine-tuned or trained.\n",
      "Special tokens have been added in the vocabulary, make sure the associated word embeddings are fine-tuned or trained.\n"
     ]
    },
    {
     "data": {
      "application/vnd.jupyter.widget-view+json": {
       "model_id": "492a8041bf5b4777b289b37d87ce8a27",
       "version_major": 2,
       "version_minor": 0
      },
      "text/plain": [
       "  0%|          | 0/6062 [00:00<?, ?it/s]"
      ]
     },
     "metadata": {},
     "output_type": "display_data"
    },
    {
     "data": {
      "application/vnd.jupyter.widget-view+json": {
       "model_id": "73770ce3a4c549db87c3f2bd735daec0",
       "version_major": 2,
       "version_minor": 0
      },
      "text/plain": [
       "  0%|          | 0/1103 [00:00<?, ?it/s]"
      ]
     },
     "metadata": {},
     "output_type": "display_data"
    },
    {
     "name": "stderr",
     "output_type": "stream",
     "text": [
      "Some weights of the model checkpoint at microsoft/deberta-v3-large were not used when initializing DebertaV2Model: ['mask_predictions.LayerNorm.weight', 'lm_predictions.lm_head.dense.bias', 'mask_predictions.LayerNorm.bias', 'lm_predictions.lm_head.dense.weight', 'mask_predictions.classifier.weight', 'lm_predictions.lm_head.bias', 'mask_predictions.classifier.bias', 'lm_predictions.lm_head.LayerNorm.bias', 'lm_predictions.lm_head.LayerNorm.weight', 'mask_predictions.dense.bias', 'mask_predictions.dense.weight']\n",
      "- This IS expected if you are initializing DebertaV2Model from the checkpoint of a model trained on another task or with another architecture (e.g. initializing a BertForSequenceClassification model from a BertForPreTraining model).\n",
      "- This IS NOT expected if you are initializing DebertaV2Model from the checkpoint of a model that you expect to be exactly identical (initializing a BertForSequenceClassification model from a BertForSequenceClassification model).\n"
     ]
    },
    {
     "name": "stdout",
     "output_type": "stream",
     "text": [
      "Pooling: CLS\n",
      "    -> 434014210 trainable parameters\n",
      "\n"
     ]
    },
    {
     "ename": "TypeError",
     "evalue": "string indices must be integers",
     "output_type": "error",
     "traceback": [
      "\u001b[0;31m---------------------------------------------------------------------------\u001b[0m",
      "\u001b[0;31mTypeError\u001b[0m                                 Traceback (most recent call last)",
      "Cell \u001b[0;32mIn[20], line 1\u001b[0m\n\u001b[0;32m----> 1\u001b[0m \u001b[43mkfold\u001b[49m\u001b[43m(\u001b[49m\u001b[43margs\u001b[49m\u001b[43m,\u001b[49m\u001b[43mdf\u001b[49m\u001b[43m)\u001b[49m\n",
      "File \u001b[0;32m/workspace/Script/NLP/CommonLit - Evaluate Student Summaries/src/train_utils.py:614\u001b[0m, in \u001b[0;36mkfold\u001b[0;34m(args, df)\u001b[0m\n\u001b[1;32m    606\u001b[0m     json\u001b[38;5;241m.\u001b[39mdump(config, f)\n\u001b[1;32m    608\u001b[0m wandb\u001b[38;5;241m.\u001b[39minit(project\u001b[38;5;241m=\u001b[39margs\u001b[38;5;241m.\u001b[39mproject_name,\n\u001b[1;32m    609\u001b[0m          name\u001b[38;5;241m=\u001b[39m\u001b[38;5;124mf\u001b[39m\u001b[38;5;124m'\u001b[39m\u001b[38;5;132;01m{\u001b[39;00margs\u001b[38;5;241m.\u001b[39mexp_name\u001b[38;5;132;01m}\u001b[39;00m\u001b[38;5;124m_fold_\u001b[39m\u001b[38;5;132;01m{\u001b[39;00mi\u001b[38;5;241m+\u001b[39m\u001b[38;5;241m1\u001b[39m\u001b[38;5;132;01m}\u001b[39;00m\u001b[38;5;124m'\u001b[39m,\n\u001b[1;32m    610\u001b[0m          group\u001b[38;5;241m=\u001b[39m\u001b[38;5;124mf\u001b[39m\u001b[38;5;124m'\u001b[39m\u001b[38;5;132;01m{\u001b[39;00margs\u001b[38;5;241m.\u001b[39mexp_name\u001b[38;5;132;01m}\u001b[39;00m\u001b[38;5;124m'\u001b[39m,\n\u001b[1;32m    611\u001b[0m         \u001b[38;5;66;03m#  job_type=\"training\", \u001b[39;00m\n\u001b[1;32m    612\u001b[0m          config\u001b[38;5;241m=\u001b[39mconfig,\n\u001b[1;32m    613\u001b[0m          )\n\u001b[0;32m--> 614\u001b[0m \u001b[43mtrain_one_fold\u001b[49m\u001b[43m(\u001b[49m\u001b[43margs\u001b[49m\u001b[43m,\u001b[49m\n\u001b[1;32m    615\u001b[0m \u001b[43m                    \u001b[49m\u001b[43mtrain_df\u001b[49m\u001b[43m,\u001b[49m\n\u001b[1;32m    616\u001b[0m \u001b[43m                    \u001b[49m\u001b[43mvalid_df\u001b[49m\u001b[43m,\u001b[49m\n\u001b[1;32m    617\u001b[0m \u001b[43m                    \u001b[49m\u001b[43mi\u001b[49m\u001b[43m,\u001b[49m\n\u001b[1;32m    618\u001b[0m \u001b[43m                    \u001b[49m\u001b[43mwandb\u001b[49m\n\u001b[1;32m    619\u001b[0m \u001b[43m                    \u001b[49m\u001b[43m)\u001b[49m\n",
      "File \u001b[0;32m/workspace/Script/NLP/CommonLit - Evaluate Student Summaries/src/train_utils.py:562\u001b[0m, in \u001b[0;36mtrain_one_fold\u001b[0;34m(args, train_df, valid_df, fold, wandb)\u001b[0m\n\u001b[1;32m    558\u001b[0m     model \u001b[38;5;241m=\u001b[39m model\u001b[38;5;241m.\u001b[39mto(device)\n\u001b[1;32m    560\u001b[0m model\u001b[38;5;241m.\u001b[39mzero_grad()    \n\u001b[0;32m--> 562\u001b[0m \u001b[43mfit_net\u001b[49m\u001b[43m(\u001b[49m\n\u001b[1;32m    563\u001b[0m \u001b[43m    \u001b[49m\u001b[43mmodel\u001b[49m\u001b[43m,\u001b[49m\n\u001b[1;32m    564\u001b[0m \u001b[43m    \u001b[49m\u001b[43mtrain_dataset\u001b[49m\u001b[43m,\u001b[49m\n\u001b[1;32m    565\u001b[0m \u001b[43m    \u001b[49m\u001b[43mvalid_dataset\u001b[49m\u001b[43m,\u001b[49m\n\u001b[1;32m    566\u001b[0m \u001b[43m    \u001b[49m\u001b[43margs\u001b[49m\u001b[43m,\u001b[49m\n\u001b[1;32m    567\u001b[0m \u001b[43m    \u001b[49m\u001b[43mfold\u001b[49m\u001b[43m,\u001b[49m\n\u001b[1;32m    568\u001b[0m \u001b[43m    \u001b[49m\u001b[43mwandb\u001b[49m\n\u001b[1;32m    569\u001b[0m \u001b[43m\u001b[49m\u001b[43m)\u001b[49m\n",
      "File \u001b[0;32m/workspace/Script/NLP/CommonLit - Evaluate Student Summaries/src/train_utils.py:341\u001b[0m, in \u001b[0;36mfit_net\u001b[0;34m(model, train_dataset, valid_dataset, args, fold, wandb)\u001b[0m\n\u001b[1;32m    331\u001b[0m \u001b[38;5;28;01mdef\u001b[39;00m \u001b[38;5;21mfit_net\u001b[39m(\n\u001b[1;32m    332\u001b[0m         model,\n\u001b[1;32m    333\u001b[0m         train_dataset,\n\u001b[0;32m   (...)\u001b[0m\n\u001b[1;32m    337\u001b[0m         wandb\n\u001b[1;32m    338\u001b[0m     ):\n\u001b[1;32m    339\u001b[0m     device \u001b[38;5;241m=\u001b[39m torch\u001b[38;5;241m.\u001b[39mdevice(\u001b[38;5;124mf\u001b[39m\u001b[38;5;124m\"\u001b[39m\u001b[38;5;124mcuda:\u001b[39m\u001b[38;5;132;01m{\u001b[39;00margs\u001b[38;5;241m.\u001b[39mdevice\u001b[38;5;132;01m}\u001b[39;00m\u001b[38;5;124m\"\u001b[39m \u001b[38;5;28;01mif\u001b[39;00m torch\u001b[38;5;241m.\u001b[39mcuda\u001b[38;5;241m.\u001b[39mis_available() \u001b[38;5;28;01melse\u001b[39;00m \u001b[38;5;124m\"\u001b[39m\u001b[38;5;124mcpu\u001b[39m\u001b[38;5;124m\"\u001b[39m)\n\u001b[0;32m--> 341\u001b[0m     criterion \u001b[38;5;241m=\u001b[39m \u001b[38;5;28meval\u001b[39m(\u001b[43margs\u001b[49m\u001b[38;5;241;43m.\u001b[39;49m\u001b[43mmodel\u001b[49m\u001b[43m[\u001b[49m\u001b[38;5;124;43m'\u001b[39;49m\u001b[38;5;124;43mloss\u001b[39;49m\u001b[38;5;124;43m'\u001b[39;49m\u001b[43m]\u001b[49m\u001b[43m[\u001b[49m\u001b[38;5;124;43m\"\u001b[39;49m\u001b[38;5;124;43mloss_name\u001b[39;49m\u001b[38;5;124;43m\"\u001b[39;49m\u001b[43m]\u001b[49m)(\u001b[38;5;241m*\u001b[39m\u001b[38;5;241m*\u001b[39margs\u001b[38;5;241m.\u001b[39mmodel[\u001b[38;5;124m'\u001b[39m\u001b[38;5;124mloss\u001b[39m\u001b[38;5;124m'\u001b[39m][\u001b[38;5;124m'\u001b[39m\u001b[38;5;124mloss_params\u001b[39m\u001b[38;5;124m'\u001b[39m])\u001b[38;5;241m.\u001b[39mto(device)\n\u001b[1;32m    342\u001b[0m     tokenizer \u001b[38;5;241m=\u001b[39m AutoTokenizer\u001b[38;5;241m.\u001b[39mfrom_pretrained(args\u001b[38;5;241m.\u001b[39mmodel_name)\n\u001b[1;32m    343\u001b[0m     collator \u001b[38;5;241m=\u001b[39m CustomCollator(tokenizer)\n",
      "\u001b[0;31mTypeError\u001b[0m: string indices must be integers"
     ]
    }
   ],
   "source": [
    "kfold(args,df)"
   ]
  },
  {
   "cell_type": "code",
   "execution_count": null,
   "id": "317dbce8",
   "metadata": {},
   "outputs": [],
   "source": []
  }
 ],
 "metadata": {
  "kernelspec": {
   "display_name": "Python 3 (ipykernel)",
   "language": "python",
   "name": "python3"
  },
  "language_info": {
   "codemirror_mode": {
    "name": "ipython",
    "version": 3
   },
   "file_extension": ".py",
   "mimetype": "text/x-python",
   "name": "python",
   "nbconvert_exporter": "python",
   "pygments_lexer": "ipython3",
   "version": "3.10.9"
  }
 },
 "nbformat": 4,
 "nbformat_minor": 5
}

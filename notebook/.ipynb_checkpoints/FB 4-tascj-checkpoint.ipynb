{
 "cells": [
  {
   "cell_type": "code",
   "execution_count": 1,
   "id": "84bf958e",
   "metadata": {},
   "outputs": [],
   "source": [
    "import os\n",
    "import gc\n",
    "import sys\n",
    "import json\n",
    "import time\n",
    "import torch\n",
    "import joblib\n",
    "import random\n",
    "import numpy as np\n",
    "import pandas as pd\n",
    "from tqdm.auto import tqdm\n",
    "from pathlib import Path\n",
    "import plotly.express as px\n",
    "import matplotlib.pyplot as plt\n",
    "\n",
    "pd.set_option('display.max_rows', 500)\n",
    "pd.set_option('display.max_columns', 500)\n",
    "pd.set_option('display.width', 1000)\n",
    "pd.set_option('display.float_format', lambda x: '%.4f' % x)"
   ]
  },
  {
   "cell_type": "markdown",
   "id": "8895aef6",
   "metadata": {},
   "source": [
    "# Params"
   ]
  },
  {
   "cell_type": "code",
   "execution_count": 2,
   "id": "5d0104cc",
   "metadata": {},
   "outputs": [
    {
     "data": {
      "text/plain": [
       "['persuade_corpus.csv']"
      ]
     },
     "execution_count": 2,
     "metadata": {},
     "output_type": "execute_result"
    }
   ],
   "source": [
    "data_path = Path(r\"/database/kaggle/Shovel Ready/data\")\n",
    "os.listdir(data_path)"
   ]
  },
  {
   "cell_type": "code",
   "execution_count": 3,
   "id": "bc125ae5",
   "metadata": {},
   "outputs": [
    {
     "name": "stderr",
     "output_type": "stream",
     "text": [
      "/tmp/ipykernel_45/2191408817.py:1: DtypeWarning: Columns (17,24,25) have mixed types. Specify dtype option on import or set low_memory=False.\n",
      "  df = pd.read_csv(data_path/'persuade_corpus.csv')\n"
     ]
    },
    {
     "data": {
      "text/plain": [
       "(285391, 30)"
      ]
     },
     "execution_count": 3,
     "metadata": {},
     "output_type": "execute_result"
    }
   ],
   "source": [
    "df = pd.read_csv(data_path/'persuade_corpus.csv')\n",
    "df.shape"
   ]
  },
  {
   "cell_type": "code",
   "execution_count": 10,
   "id": "777aa2f4",
   "metadata": {},
   "outputs": [
    {
     "data": {
      "text/html": [
       "<div>\n",
       "<style scoped>\n",
       "    .dataframe tbody tr th:only-of-type {\n",
       "        vertical-align: middle;\n",
       "    }\n",
       "\n",
       "    .dataframe tbody tr th {\n",
       "        vertical-align: top;\n",
       "    }\n",
       "\n",
       "    .dataframe thead th {\n",
       "        text-align: right;\n",
       "    }\n",
       "</style>\n",
       "<table border=\"1\" class=\"dataframe\">\n",
       "  <thead>\n",
       "    <tr style=\"text-align: right;\">\n",
       "      <th></th>\n",
       "      <th>essay_id</th>\n",
       "      <th>essay_id_comp</th>\n",
       "      <th>competition_set</th>\n",
       "      <th>full_text</th>\n",
       "      <th>holistic_essay_score</th>\n",
       "      <th>discourse_id</th>\n",
       "      <th>discourse_start</th>\n",
       "      <th>discourse_end</th>\n",
       "      <th>discourse_text</th>\n",
       "      <th>discourse_type</th>\n",
       "      <th>discourse_type_num</th>\n",
       "      <th>discourse_effectiveness</th>\n",
       "      <th>hierarchical_id</th>\n",
       "      <th>hierarchical_text</th>\n",
       "      <th>hierarchical_label</th>\n",
       "      <th>provider</th>\n",
       "      <th>task</th>\n",
       "      <th>source_text</th>\n",
       "      <th>prompt_name</th>\n",
       "      <th>assignment</th>\n",
       "      <th>gender</th>\n",
       "      <th>grade_level</th>\n",
       "      <th>ell_status</th>\n",
       "      <th>race_ethnicity</th>\n",
       "      <th>economically_disadvantaged</th>\n",
       "      <th>student_disability_status</th>\n",
       "      <th>essay_word_count</th>\n",
       "      <th>in_feedback2.0</th>\n",
       "      <th>test_split_feedback_1</th>\n",
       "      <th>test_split_feedback_2</th>\n",
       "    </tr>\n",
       "  </thead>\n",
       "  <tbody>\n",
       "    <tr>\n",
       "      <th>132851</th>\n",
       "      <td>AAAOPP13416000007322</td>\n",
       "      <td>7400CDF18544</td>\n",
       "      <td>test</td>\n",
       "      <td>Based on what I've read some believe that ther...</td>\n",
       "      <td>3</td>\n",
       "      <td>1617677520524.0000</td>\n",
       "      <td>709</td>\n",
       "      <td>938</td>\n",
       "      <td>NASA is a company who study's life outside our...</td>\n",
       "      <td>Evidence</td>\n",
       "      <td>Evidence 4</td>\n",
       "      <td>Adequate</td>\n",
       "      <td>1617677500980.0000</td>\n",
       "      <td>One major factor in this is NASA.</td>\n",
       "      <td>Claim</td>\n",
       "      <td>Indiana</td>\n",
       "      <td>Text dependent</td>\n",
       "      <td>\"Unmasking the Face on Mars\"</td>\n",
       "      <td>The Face on Mars</td>\n",
       "      <td>You have read the article 'Unmasking the Face ...</td>\n",
       "      <td>M</td>\n",
       "      <td>8.0000</td>\n",
       "      <td>No</td>\n",
       "      <td>White</td>\n",
       "      <td>Economically disadvantaged</td>\n",
       "      <td>Not identified as having disability</td>\n",
       "      <td>236</td>\n",
       "      <td>0</td>\n",
       "      <td>Public</td>\n",
       "      <td>NaN</td>\n",
       "    </tr>\n",
       "    <tr>\n",
       "      <th>216962</th>\n",
       "      <td>5367898</td>\n",
       "      <td>B1A87B210C0F</td>\n",
       "      <td>train</td>\n",
       "      <td>Dear Senator,\\n\\nWe should keep the Electoral ...</td>\n",
       "      <td>2</td>\n",
       "      <td>1620249426592.0000</td>\n",
       "      <td>433</td>\n",
       "      <td>549</td>\n",
       "      <td>The people have the majority vote, so they sho...</td>\n",
       "      <td>Evidence</td>\n",
       "      <td>Evidence 2</td>\n",
       "      <td>Ineffective</td>\n",
       "      <td>1620249419201.0000</td>\n",
       "      <td>The votes should be runned by the people and t...</td>\n",
       "      <td>Claim</td>\n",
       "      <td>Florida</td>\n",
       "      <td>Text dependent</td>\n",
       "      <td>Source 1: \"What is the Electoral College?\", by...</td>\n",
       "      <td>Does the electoral college work?</td>\n",
       "      <td>Write a letter to your state senator in which ...</td>\n",
       "      <td>F</td>\n",
       "      <td>9.0000</td>\n",
       "      <td>No</td>\n",
       "      <td>Hispanic/Latino</td>\n",
       "      <td>NaN</td>\n",
       "      <td>NaN</td>\n",
       "      <td>342</td>\n",
       "      <td>1</td>\n",
       "      <td>NaN</td>\n",
       "      <td>NaN</td>\n",
       "    </tr>\n",
       "    <tr>\n",
       "      <th>149473</th>\n",
       "      <td>2091003452</td>\n",
       "      <td>65353E231139</td>\n",
       "      <td>test</td>\n",
       "      <td>Dear principal TEACHER_NAME,\\n\\nCommunity serv...</td>\n",
       "      <td>2</td>\n",
       "      <td>1614622814988.0000</td>\n",
       "      <td>144</td>\n",
       "      <td>212</td>\n",
       "      <td>\\nWell, that's what some student's are thinkin...</td>\n",
       "      <td>Unannotated</td>\n",
       "      <td>Unannotated 2</td>\n",
       "      <td>NaN</td>\n",
       "      <td>NaN</td>\n",
       "      <td>NaN</td>\n",
       "      <td>NaN</td>\n",
       "      <td>NCES</td>\n",
       "      <td>Independent</td>\n",
       "      <td>NaN</td>\n",
       "      <td>Community service</td>\n",
       "      <td>Some of your friends perform community service...</td>\n",
       "      <td>F</td>\n",
       "      <td>8.0000</td>\n",
       "      <td>No</td>\n",
       "      <td>Black/African American</td>\n",
       "      <td>Economically disadvantaged</td>\n",
       "      <td>Not identified as having disability</td>\n",
       "      <td>217</td>\n",
       "      <td>0</td>\n",
       "      <td>NaN</td>\n",
       "      <td>NaN</td>\n",
       "    </tr>\n",
       "    <tr>\n",
       "      <th>30548</th>\n",
       "      <td>6983620</td>\n",
       "      <td>BAC681996825</td>\n",
       "      <td>train</td>\n",
       "      <td>There are good benefits and bad benefits of no...</td>\n",
       "      <td>3</td>\n",
       "      <td>1622312756395.0000</td>\n",
       "      <td>62</td>\n",
       "      <td>180</td>\n",
       "      <td>With your legs being your transportation to ge...</td>\n",
       "      <td>Evidence</td>\n",
       "      <td>Evidence 1</td>\n",
       "      <td>Adequate</td>\n",
       "      <td>1622312594799.0000</td>\n",
       "      <td>staying in shape.</td>\n",
       "      <td>Claim</td>\n",
       "      <td>Florida</td>\n",
       "      <td>Text dependent</td>\n",
       "      <td>Source 1: \"In German Suburb, Life Goes On With...</td>\n",
       "      <td>Car-free cities</td>\n",
       "      <td>Write an explanatory essay to inform fellow ci...</td>\n",
       "      <td>M</td>\n",
       "      <td>10.0000</td>\n",
       "      <td>No</td>\n",
       "      <td>Black/African American</td>\n",
       "      <td>NaN</td>\n",
       "      <td>NaN</td>\n",
       "      <td>231</td>\n",
       "      <td>1</td>\n",
       "      <td>NaN</td>\n",
       "      <td>NaN</td>\n",
       "    </tr>\n",
       "    <tr>\n",
       "      <th>247819</th>\n",
       "      <td>AAAXMP138200001096242125_OR</td>\n",
       "      <td>7EA804FD13A8</td>\n",
       "      <td>train</td>\n",
       "      <td>Students are exhausted. Sitting in a classroom...</td>\n",
       "      <td>5</td>\n",
       "      <td>1622055912385.0000</td>\n",
       "      <td>329</td>\n",
       "      <td>410</td>\n",
       "      <td>I believe that students would benefit from bei...</td>\n",
       "      <td>Position</td>\n",
       "      <td>Position 1</td>\n",
       "      <td>Adequate</td>\n",
       "      <td>NaN</td>\n",
       "      <td>NaN</td>\n",
       "      <td>NaN</td>\n",
       "      <td>Virginia</td>\n",
       "      <td>Independent</td>\n",
       "      <td>NaN</td>\n",
       "      <td>Distance learning</td>\n",
       "      <td>Some schools offer distance learning as an opt...</td>\n",
       "      <td>M</td>\n",
       "      <td>11.0000</td>\n",
       "      <td>No</td>\n",
       "      <td>Asian/Pacific Islander</td>\n",
       "      <td>Economically disadvantaged</td>\n",
       "      <td>Not identified as having disability</td>\n",
       "      <td>538</td>\n",
       "      <td>0</td>\n",
       "      <td>NaN</td>\n",
       "      <td>NaN</td>\n",
       "    </tr>\n",
       "  </tbody>\n",
       "</table>\n",
       "</div>"
      ],
      "text/plain": [
       "                           essay_id essay_id_comp competition_set                                          full_text  holistic_essay_score       discourse_id  discourse_start  discourse_end                                     discourse_text discourse_type discourse_type_num discourse_effectiveness    hierarchical_id                                  hierarchical_text hierarchical_label  provider            task                                        source_text                       prompt_name                                         assignment gender  grade_level ell_status          race_ethnicity  economically_disadvantaged            student_disability_status  essay_word_count  in_feedback2.0 test_split_feedback_1 test_split_feedback_2\n",
       "132851         AAAOPP13416000007322  7400CDF18544            test  Based on what I've read some believe that ther...                     3 1617677520524.0000              709            938  NASA is a company who study's life outside our...       Evidence         Evidence 4                Adequate 1617677500980.0000                  One major factor in this is NASA.              Claim   Indiana  Text dependent                       \"Unmasking the Face on Mars\"                  The Face on Mars  You have read the article 'Unmasking the Face ...      M       8.0000         No                   White  Economically disadvantaged  Not identified as having disability               236               0                Public                   NaN\n",
       "216962                      5367898  B1A87B210C0F           train  Dear Senator,\\n\\nWe should keep the Electoral ...                     2 1620249426592.0000              433            549  The people have the majority vote, so they sho...       Evidence         Evidence 2             Ineffective 1620249419201.0000  The votes should be runned by the people and t...              Claim   Florida  Text dependent  Source 1: \"What is the Electoral College?\", by...  Does the electoral college work?  Write a letter to your state senator in which ...      F       9.0000         No         Hispanic/Latino                         NaN                                  NaN               342               1                   NaN                   NaN\n",
       "149473                   2091003452  65353E231139            test  Dear principal TEACHER_NAME,\\n\\nCommunity serv...                     2 1614622814988.0000              144            212  \\nWell, that's what some student's are thinkin...    Unannotated      Unannotated 2                     NaN                NaN                                                NaN                NaN      NCES     Independent                                                NaN                 Community service  Some of your friends perform community service...      F       8.0000         No  Black/African American  Economically disadvantaged  Not identified as having disability               217               0                   NaN                   NaN\n",
       "30548                       6983620  BAC681996825           train  There are good benefits and bad benefits of no...                     3 1622312756395.0000               62            180  With your legs being your transportation to ge...       Evidence         Evidence 1                Adequate 1622312594799.0000                                  staying in shape.              Claim   Florida  Text dependent  Source 1: \"In German Suburb, Life Goes On With...                   Car-free cities  Write an explanatory essay to inform fellow ci...      M      10.0000         No  Black/African American                         NaN                                  NaN               231               1                   NaN                   NaN\n",
       "247819  AAAXMP138200001096242125_OR  7EA804FD13A8           train  Students are exhausted. Sitting in a classroom...                     5 1622055912385.0000              329            410  I believe that students would benefit from bei...       Position         Position 1                Adequate                NaN                                                NaN                NaN  Virginia     Independent                                                NaN                 Distance learning  Some schools offer distance learning as an opt...      M      11.0000         No  Asian/Pacific Islander  Economically disadvantaged  Not identified as having disability               538               0                   NaN                   NaN"
      ]
     },
     "execution_count": 10,
     "metadata": {},
     "output_type": "execute_result"
    }
   ],
   "source": [
    "df.sample(5)"
   ]
  },
  {
   "cell_type": "code",
   "execution_count": 16,
   "id": "c03b5a27",
   "metadata": {},
   "outputs": [],
   "source": [
    "df['discourse_effectiveness'] = df['discourse_effectiveness'].fillna('NoEffectiveness')"
   ]
  },
  {
   "cell_type": "code",
   "execution_count": 17,
   "id": "dfa9b0d4",
   "metadata": {},
   "outputs": [],
   "source": [
    "# pip install spacy"
   ]
  },
  {
   "cell_type": "code",
   "execution_count": 26,
   "id": "774ec67c",
   "metadata": {},
   "outputs": [],
   "source": [
    "import spacy\n",
    "from spacy import displacy\n",
    "from pylab import cm, matplotlib\n",
    "import os\n",
    "\n",
    "colors = {\n",
    "            'Lead': '#8000ff',\n",
    "            'Position': '#2b7ff6',\n",
    "            'Evidence': '#2adddd',\n",
    "            'Claim': '#80ffb4',\n",
    "            'Concluding Statement': 'd4dd80',\n",
    "            'Counterclaim': '#ff8042',\n",
    "            'Rebuttal': '#ff0000'\n",
    "         }\n",
    "\n",
    "colors_effectiveness = {\n",
    "            'Adequate': '#8000ff',\n",
    "            'Effective': '#2b7ff6',\n",
    "            'Ineffective': '#2adddd',\n",
    "         }\n",
    "\n",
    "def visualize(idx,train):\n",
    "    \n",
    "#     print(train[train['essay_id_comp'] == idx].assignment.values[0])\n",
    "    ents = []\n",
    "    for i, row in train[train['essay_id_comp'] == idx].iterrows():\n",
    "        ents.append({\n",
    "                        'start': int(row['discourse_start']), \n",
    "                         'end': int(row['discourse_end']), \n",
    "                         'label': str(row['discourse_type']) #+ ' - ' + str(row['discourse_effectiveness'])\n",
    "                    })\n",
    "\n",
    "    data = train[train['essay_id_comp'] == idx].full_text.str.strip().values[0]\n",
    "\n",
    "    doc2 = {\n",
    "        \"text\": data,\n",
    "        \"ents\": ents,\n",
    "        \"title\": idx\n",
    "    }\n",
    "\n",
    "    options = {\"ents\": train.discourse_type.unique().tolist(), \"colors\": colors}\n",
    "    displacy.render(doc2, style=\"ent\", options=options, manual=True, jupyter=True)\n",
    "    \n",
    "def visualize_effectiveness(idx,train):\n",
    "    \n",
    "#     print(train[train['essay_id_comp'] == idx].assignment.values[0])\n",
    "    ents = []\n",
    "    for i, row in train[train['essay_id_comp'] == idx].iterrows():\n",
    "        ents.append({\n",
    "                        'start': int(row['discourse_start']), \n",
    "                         'end': int(row['discourse_end']), \n",
    "                         'label': str(row['discourse_effectiveness']) #+ ' - ' + str(row['discourse_effectiveness'])\n",
    "                    })\n",
    "\n",
    "    data = train[train['essay_id_comp'] == idx].full_text.str.strip().values[0]\n",
    "\n",
    "    doc2 = {\n",
    "        \"text\": data,\n",
    "        \"ents\": ents,\n",
    "        \"title\": idx\n",
    "    }\n",
    "\n",
    "    options = {\"ents\": train.discourse_effectiveness.unique().tolist(), \"colors\": colors_effectiveness}\n",
    "    displacy.render(doc2, style=\"ent\", options=options, manual=True, jupyter=True)"
   ]
  },
  {
   "cell_type": "code",
   "execution_count": 36,
   "id": "cdb5590b",
   "metadata": {},
   "outputs": [
    {
     "data": {
      "text/plain": [
       "'2B8374B25171'"
      ]
     },
     "execution_count": 36,
     "metadata": {},
     "output_type": "execute_result"
    }
   ],
   "source": [
    "idx = random.choice(df.essay_id_comp.unique())\n",
    "idx"
   ]
  },
  {
   "cell_type": "code",
   "execution_count": 37,
   "id": "573b3c07",
   "metadata": {},
   "outputs": [
    {
     "data": {
      "text/html": [
       "<span class=\"tex2jax_ignore\"><h2 style=\"margin: 0\">2B8374B25171</h2>\n",
       "\n",
       "<div class=\"entities\" style=\"line-height: 2.5; direction: ltr\">\n",
       "<mark class=\"entity\" style=\"background: #ddd; padding: 0.45em 0.6em; margin: 0 0.25em; line-height: 1; border-radius: 0.35em;\">\n",
       "    Dear Senator,\n",
       "\n",
       "    <span style=\"font-size: 0.8em; font-weight: bold; line-height: 1; border-radius: 0.35em; vertical-align: middle; margin-left: 0.5rem\">Unannotated</span>\n",
       "</mark>\n",
       "<br>\n",
       "<mark class=\"entity\" style=\"background: #2b7ff6; padding: 0.45em 0.6em; margin: 0 0.25em; line-height: 1; border-radius: 0.35em;\">\n",
       "    I think the Electoral Collage is unfair to the citizens of the United States of America.\n",
       "    <span style=\"font-size: 0.8em; font-weight: bold; line-height: 1; border-radius: 0.35em; vertical-align: middle; margin-left: 0.5rem\">Position</span>\n",
       "</mark>\n",
       " \n",
       "<mark class=\"entity\" style=\"background: #80ffb4; padding: 0.45em 0.6em; margin: 0 0.25em; line-height: 1; border-radius: 0.35em;\">\n",
       "    The Electoral collage resembles too much control by the United States government\n",
       "    <span style=\"font-size: 0.8em; font-weight: bold; line-height: 1; border-radius: 0.35em; vertical-align: middle; margin-left: 0.5rem\">Claim</span>\n",
       "</mark>\n",
       ".\n",
       "<mark class=\"entity\" style=\"background: #2adddd; padding: 0.45em 0.6em; margin: 0 0.25em; line-height: 1; border-radius: 0.35em;\">\n",
       "     As said in Source 2: The Indefensible Electoral Collage: Why even the best-laid defenses of the system are wrong, &quot;Back in 1960, segregationists in the Louisiana legislature nearly succeeded in replacing the Democratic electors with new electors who would oppose John F. Kennedy. This dosnt even sound right does it... This is one example of United States government trying to rail  the presidential elections, and i can asure you that this is not the first time this has been attempted by the government. The U.S Constitution delcares that\n",
       "\n",
       "ALL\n",
       "\n",
       "citizens of United States of America have the right to vote. What this looks like is the government trying to vote for u\n",
       "    <span style=\"font-size: 0.8em; font-weight: bold; line-height: 1; border-radius: 0.35em; vertical-align: middle; margin-left: 0.5rem\">Evidence</span>\n",
       "</mark>\n",
       "s\n",
       "<mark class=\"entity\" style=\"background: #80ffb4; padding: 0.45em 0.6em; margin: 0 0.25em; line-height: 1; border-radius: 0.35em;\">\n",
       "    . Another thing that i do not get about the Electoral Collage is why are we voting for the elector instead of just towards the presiden\n",
       "    <span style=\"font-size: 0.8em; font-weight: bold; line-height: 1; border-radius: 0.35em; vertical-align: middle; margin-left: 0.5rem\">Claim</span>\n",
       "</mark>\n",
       "t\n",
       "<mark class=\"entity\" style=\"background: #2adddd; padding: 0.45em 0.6em; margin: 0 0.25em; line-height: 1; border-radius: 0.35em;\">\n",
       "    . I get that they have to monitor the votes but arnt we already using electronic computers to vote... I think voting would go alot smoother if the votes went strait to the presidents through computers instead of having an elector who has a strong personal opinion against one political party who has a chance of twisting the votes around to strongly support the political party that he/she is opinionized towards. This why the Electoral Collage is dangerous. There have been cases of law breaking electors twisting the votes around. It is alot more safe to just let the citizens to just strait up vot\n",
       "    <span style=\"font-size: 0.8em; font-weight: bold; line-height: 1; border-radius: 0.35em; vertical-align: middle; margin-left: 0.5rem\">Evidence</span>\n",
       "</mark>\n",
       "e\n",
       "<mark class=\"entity\" style=\"background: #ff8042; padding: 0.45em 0.6em; margin: 0 0.25em; line-height: 1; border-radius: 0.35em;\">\n",
       "    . In source 3, It tries to tell you all the possitive things about the Electoral Collag\n",
       "    <span style=\"font-size: 0.8em; font-weight: bold; line-height: 1; border-radius: 0.35em; vertical-align: middle; margin-left: 0.5rem\">Counterclaim</span>\n",
       "</mark>\n",
       "e\n",
       "<mark class=\"entity\" style=\"background: #ff0000; padding: 0.45em 0.6em; margin: 0 0.25em; line-height: 1; border-radius: 0.35em;\">\n",
       "    ... The possitive things they mention about the Electoral Collage are small compared to the issues with\n",
       "    <span style=\"font-size: 0.8em; font-weight: bold; line-height: 1; border-radius: 0.35em; vertical-align: middle; margin-left: 0.5rem\">Rebuttal</span>\n",
       "</mark>\n",
       " \n",
       "<mark class=\"entity\" style=\"background: d4dd80; padding: 0.45em 0.6em; margin: 0 0.25em; line-height: 1; border-radius: 0.35em;\">\n",
       "    it. The Electoral Collage is outdated and needs to be taken off. It is just unfair \n",
       "    <span style=\"font-size: 0.8em; font-weight: bold; line-height: 1; border-radius: 0.35em; vertical-align: middle; margin-left: 0.5rem\">Concluding Statement</span>\n",
       "</mark>\n",
       "now.<br><br>thanks, Anonymous...</div></span>"
      ],
      "text/plain": [
       "<IPython.core.display.HTML object>"
      ]
     },
     "metadata": {},
     "output_type": "display_data"
    }
   ],
   "source": [
    "visualize(idx,df)"
   ]
  },
  {
   "cell_type": "code",
   "execution_count": 38,
   "id": "014b5011",
   "metadata": {},
   "outputs": [
    {
     "data": {
      "text/html": [
       "<span class=\"tex2jax_ignore\"><h2 style=\"margin: 0\">2B8374B25171</h2>\n",
       "\n",
       "<div class=\"entities\" style=\"line-height: 2.5; direction: ltr\">\n",
       "<mark class=\"entity\" style=\"background: #ddd; padding: 0.45em 0.6em; margin: 0 0.25em; line-height: 1; border-radius: 0.35em;\">\n",
       "    Dear Senator,\n",
       "\n",
       "    <span style=\"font-size: 0.8em; font-weight: bold; line-height: 1; border-radius: 0.35em; vertical-align: middle; margin-left: 0.5rem\">NoEffectiveness</span>\n",
       "</mark>\n",
       "<br>\n",
       "<mark class=\"entity\" style=\"background: #8000ff; padding: 0.45em 0.6em; margin: 0 0.25em; line-height: 1; border-radius: 0.35em;\">\n",
       "    I think the Electoral Collage is unfair to the citizens of the United States of America.\n",
       "    <span style=\"font-size: 0.8em; font-weight: bold; line-height: 1; border-radius: 0.35em; vertical-align: middle; margin-left: 0.5rem\">Adequate</span>\n",
       "</mark>\n",
       " \n",
       "<mark class=\"entity\" style=\"background: #8000ff; padding: 0.45em 0.6em; margin: 0 0.25em; line-height: 1; border-radius: 0.35em;\">\n",
       "    The Electoral collage resembles too much control by the United States government\n",
       "    <span style=\"font-size: 0.8em; font-weight: bold; line-height: 1; border-radius: 0.35em; vertical-align: middle; margin-left: 0.5rem\">Adequate</span>\n",
       "</mark>\n",
       ".\n",
       "<mark class=\"entity\" style=\"background: #8000ff; padding: 0.45em 0.6em; margin: 0 0.25em; line-height: 1; border-radius: 0.35em;\">\n",
       "     As said in Source 2: The Indefensible Electoral Collage: Why even the best-laid defenses of the system are wrong, &quot;Back in 1960, segregationists in the Louisiana legislature nearly succeeded in replacing the Democratic electors with new electors who would oppose John F. Kennedy. This dosnt even sound right does it... This is one example of United States government trying to rail  the presidential elections, and i can asure you that this is not the first time this has been attempted by the government. The U.S Constitution delcares that\n",
       "\n",
       "ALL\n",
       "\n",
       "citizens of United States of America have the right to vote. What this looks like is the government trying to vote for u\n",
       "    <span style=\"font-size: 0.8em; font-weight: bold; line-height: 1; border-radius: 0.35em; vertical-align: middle; margin-left: 0.5rem\">Adequate</span>\n",
       "</mark>\n",
       "s\n",
       "<mark class=\"entity\" style=\"background: #8000ff; padding: 0.45em 0.6em; margin: 0 0.25em; line-height: 1; border-radius: 0.35em;\">\n",
       "    . Another thing that i do not get about the Electoral Collage is why are we voting for the elector instead of just towards the presiden\n",
       "    <span style=\"font-size: 0.8em; font-weight: bold; line-height: 1; border-radius: 0.35em; vertical-align: middle; margin-left: 0.5rem\">Adequate</span>\n",
       "</mark>\n",
       "t\n",
       "<mark class=\"entity\" style=\"background: #2b7ff6; padding: 0.45em 0.6em; margin: 0 0.25em; line-height: 1; border-radius: 0.35em;\">\n",
       "    . I get that they have to monitor the votes but arnt we already using electronic computers to vote... I think voting would go alot smoother if the votes went strait to the presidents through computers instead of having an elector who has a strong personal opinion against one political party who has a chance of twisting the votes around to strongly support the political party that he/she is opinionized towards. This why the Electoral Collage is dangerous. There have been cases of law breaking electors twisting the votes around. It is alot more safe to just let the citizens to just strait up vot\n",
       "    <span style=\"font-size: 0.8em; font-weight: bold; line-height: 1; border-radius: 0.35em; vertical-align: middle; margin-left: 0.5rem\">Effective</span>\n",
       "</mark>\n",
       "e\n",
       "<mark class=\"entity\" style=\"background: #2adddd; padding: 0.45em 0.6em; margin: 0 0.25em; line-height: 1; border-radius: 0.35em;\">\n",
       "    . In source 3, It tries to tell you all the possitive things about the Electoral Collag\n",
       "    <span style=\"font-size: 0.8em; font-weight: bold; line-height: 1; border-radius: 0.35em; vertical-align: middle; margin-left: 0.5rem\">Ineffective</span>\n",
       "</mark>\n",
       "e\n",
       "<mark class=\"entity\" style=\"background: #2adddd; padding: 0.45em 0.6em; margin: 0 0.25em; line-height: 1; border-radius: 0.35em;\">\n",
       "    ... The possitive things they mention about the Electoral Collage are small compared to the issues with\n",
       "    <span style=\"font-size: 0.8em; font-weight: bold; line-height: 1; border-radius: 0.35em; vertical-align: middle; margin-left: 0.5rem\">Ineffective</span>\n",
       "</mark>\n",
       " \n",
       "<mark class=\"entity\" style=\"background: #8000ff; padding: 0.45em 0.6em; margin: 0 0.25em; line-height: 1; border-radius: 0.35em;\">\n",
       "    it. The Electoral Collage is outdated and needs to be taken off. It is just unfair \n",
       "    <span style=\"font-size: 0.8em; font-weight: bold; line-height: 1; border-radius: 0.35em; vertical-align: middle; margin-left: 0.5rem\">Adequate</span>\n",
       "</mark>\n",
       "now.<br><br>thanks, Anonymous...</div></span>"
      ],
      "text/plain": [
       "<IPython.core.display.HTML object>"
      ]
     },
     "metadata": {},
     "output_type": "display_data"
    }
   ],
   "source": [
    "visualize_effectiveness(idx,df)"
   ]
  },
  {
   "cell_type": "code",
   "execution_count": 39,
   "id": "61317dc8",
   "metadata": {},
   "outputs": [
    {
     "name": "stdout",
     "output_type": "stream",
     "text": [
      "Dear Senator,\n",
      "\n",
      "\n",
      "---------------------------\n",
      "\n",
      "I think the Electoral Collage is unfair to the citizens of the United States of America. \n",
      "---------------------------\n",
      "\n",
      "The Electoral collage resembles too much control by the United States government \n",
      "---------------------------\n",
      "\n",
      "As said in Source 2: The Indefensible Electoral Collage: Why even the best-laid defenses of the system are wrong, \"Back in 1960, segregationists in the Louisiana legislature nearly succeeded in replacing the Democratic electors with new electors who would oppose John F. Kennedy. This dosnt even sound right does it... This is one example of United States government trying to rail  the presidential elections, and i can asure you that this is not the first time this has been attempted by the government. The U.S Constitution delcares that\n",
      "\n",
      "ALL\n",
      "\n",
      "citizens of United States of America have the right to vote. What this looks like is the government trying to vote for us \n",
      "---------------------------\n",
      "\n",
      "Another thing that i do not get about the Electoral Collage is why are we voting for the elector instead of just towards the president. \n",
      "---------------------------\n",
      "\n",
      "I get that they have to monitor the votes but arnt we already using electronic computers to vote... I think voting would go alot smoother if the votes went strait to the presidents through computers instead of having an elector who has a strong personal opinion against one political party who has a chance of twisting the votes around to strongly support the political party that he/she is opinionized towards. This why the Electoral Collage is dangerous. There have been cases of law breaking electors twisting the votes around. It is alot more safe to just let the citizens to just strait up vote. \n",
      "---------------------------\n",
      "\n",
      "In source 3, It tries to tell you all the possitive things about the Electoral Collage. \n",
      "---------------------------\n",
      "\n",
      "The possitive things they mention about the Electoral Collage are small compared to the issues with it. \n",
      "---------------------------\n",
      "\n",
      "The Electoral Collage is outdated and needs to be taken off. It is just unfair now. \n",
      "---------------------------\n",
      "\n"
     ]
    }
   ],
   "source": [
    "for i, row in df[df['essay_id_comp'] == idx].iterrows():\n",
    "    print(row['discourse_text'])\n",
    "    print('---------------------------\\n')"
   ]
  },
  {
   "cell_type": "code",
   "execution_count": 5,
   "id": "3ae1467b",
   "metadata": {},
   "outputs": [
    {
     "data": {
      "text/plain": [
       "competition_set\n",
       "train    173266\n",
       "test     112117\n",
       "Name: count, dtype: int64"
      ]
     },
     "execution_count": 5,
     "metadata": {},
     "output_type": "execute_result"
    }
   ],
   "source": [
    "df.competition_set.value_counts()"
   ]
  },
  {
   "cell_type": "code",
   "execution_count": 32,
   "id": "5c2631a7",
   "metadata": {},
   "outputs": [
    {
     "data": {
      "text/plain": [
       "discourse_type\n",
       "Claim                   82584\n",
       "Evidence                75588\n",
       "Unannotated             47410\n",
       "Position                25669\n",
       "Concluding Statement    22283\n",
       "Lead                    15098\n",
       "Counterclaim             9534\n",
       "Rebuttal                 7217\n",
       "Name: count, dtype: int64"
      ]
     },
     "execution_count": 32,
     "metadata": {},
     "output_type": "execute_result"
    }
   ],
   "source": [
    "df.discourse_type.value_counts()"
   ]
  },
  {
   "cell_type": "code",
   "execution_count": 29,
   "id": "368f7a4c",
   "metadata": {},
   "outputs": [
    {
     "data": {
      "text/plain": [
       "in_feedback2.0\n",
       "0    214928\n",
       "1     70455\n",
       "Name: count, dtype: int64"
      ]
     },
     "execution_count": 29,
     "metadata": {},
     "output_type": "execute_result"
    }
   ],
   "source": [
    "df['in_feedback2.0'].value_counts()"
   ]
  },
  {
   "cell_type": "code",
   "execution_count": 6,
   "id": "2f531241",
   "metadata": {},
   "outputs": [
    {
     "data": {
      "text/plain": [
       "essay_id                           0\n",
       "essay_id_comp                      0\n",
       "competition_set                    0\n",
       "full_text                          0\n",
       "holistic_essay_score               0\n",
       "discourse_id                       0\n",
       "discourse_start                    0\n",
       "discourse_end                      0\n",
       "discourse_text                     0\n",
       "discourse_type                     0\n",
       "discourse_type_num                 0\n",
       "discourse_effectiveness        47417\n",
       "hierarchical_id               128704\n",
       "hierarchical_text             128704\n",
       "hierarchical_label            128704\n",
       "provider                           0\n",
       "task                               0\n",
       "source_text                   159240\n",
       "prompt_name                        0\n",
       "assignment                         0\n",
       "gender                             0\n",
       "grade_level                    12442\n",
       "ell_status                     12759\n",
       "race_ethnicity                     0\n",
       "economically_disadvantaged     56222\n",
       "student_disability_status      55582\n",
       "essay_word_count                   0\n",
       "in_feedback2.0                     0\n",
       "dtype: int64"
      ]
     },
     "execution_count": 6,
     "metadata": {},
     "output_type": "execute_result"
    }
   ],
   "source": [
    "df.isna().sum()"
   ]
  },
  {
   "cell_type": "code",
   "execution_count": 33,
   "id": "621e1268",
   "metadata": {},
   "outputs": [
    {
     "data": {
      "text/html": [
       "<div>\n",
       "<style scoped>\n",
       "    .dataframe tbody tr th:only-of-type {\n",
       "        vertical-align: middle;\n",
       "    }\n",
       "\n",
       "    .dataframe tbody tr th {\n",
       "        vertical-align: top;\n",
       "    }\n",
       "\n",
       "    .dataframe thead th {\n",
       "        text-align: right;\n",
       "    }\n",
       "</style>\n",
       "<table border=\"1\" class=\"dataframe\">\n",
       "  <thead>\n",
       "    <tr style=\"text-align: right;\">\n",
       "      <th>discourse_effectiveness</th>\n",
       "      <th>Adequate</th>\n",
       "      <th>Effective</th>\n",
       "      <th>Ineffective</th>\n",
       "    </tr>\n",
       "    <tr>\n",
       "      <th>competition_set</th>\n",
       "      <th></th>\n",
       "      <th></th>\n",
       "      <th></th>\n",
       "    </tr>\n",
       "  </thead>\n",
       "  <tbody>\n",
       "    <tr>\n",
       "      <th>test</th>\n",
       "      <td>75363</td>\n",
       "      <td>14089</td>\n",
       "      <td>4225</td>\n",
       "    </tr>\n",
       "    <tr>\n",
       "      <th>train</th>\n",
       "      <td>113244</td>\n",
       "      <td>24583</td>\n",
       "      <td>6462</td>\n",
       "    </tr>\n",
       "  </tbody>\n",
       "</table>\n",
       "</div>"
      ],
      "text/plain": [
       "discourse_effectiveness  Adequate  Effective  Ineffective\n",
       "competition_set                                          \n",
       "test                        75363      14089         4225\n",
       "train                      113244      24583         6462"
      ]
     },
     "execution_count": 33,
     "metadata": {},
     "output_type": "execute_result"
    }
   ],
   "source": [
    "mask = (df.discourse_effectiveness.notna()) & (df.discourse_type.notna()) & (df.discourse_type!=\"Unannotated\")\n",
    "\n",
    "pd.crosstab(df[mask].competition_set,\n",
    "            df[mask].discourse_effectiveness)"
   ]
  },
  {
   "cell_type": "code",
   "execution_count": 35,
   "id": "f1a4bcb6",
   "metadata": {},
   "outputs": [
    {
     "data": {
      "text/html": [
       "<div>\n",
       "<style scoped>\n",
       "    .dataframe tbody tr th:only-of-type {\n",
       "        vertical-align: middle;\n",
       "    }\n",
       "\n",
       "    .dataframe tbody tr th {\n",
       "        vertical-align: top;\n",
       "    }\n",
       "\n",
       "    .dataframe thead th {\n",
       "        text-align: right;\n",
       "    }\n",
       "</style>\n",
       "<table border=\"1\" class=\"dataframe\">\n",
       "  <thead>\n",
       "    <tr style=\"text-align: right;\">\n",
       "      <th>discourse_effectiveness</th>\n",
       "      <th>Adequate</th>\n",
       "      <th>Effective</th>\n",
       "    </tr>\n",
       "    <tr>\n",
       "      <th>competition_set</th>\n",
       "      <th></th>\n",
       "      <th></th>\n",
       "    </tr>\n",
       "  </thead>\n",
       "  <tbody>\n",
       "    <tr>\n",
       "      <th>test</th>\n",
       "      <td>61747</td>\n",
       "      <td>8948</td>\n",
       "    </tr>\n",
       "    <tr>\n",
       "      <th>train</th>\n",
       "      <td>92267</td>\n",
       "      <td>15257</td>\n",
       "    </tr>\n",
       "  </tbody>\n",
       "</table>\n",
       "</div>"
      ],
      "text/plain": [
       "discourse_effectiveness  Adequate  Effective\n",
       "competition_set                             \n",
       "test                        61747       8948\n",
       "train                       92267      15257"
      ]
     },
     "execution_count": 35,
     "metadata": {},
     "output_type": "execute_result"
    }
   ],
   "source": [
    "mask = (df['in_feedback2.0']==0)\n",
    "\n",
    "pd.crosstab(df[mask].competition_set,\n",
    "            df[mask].discourse_effectiveness)"
   ]
  },
  {
   "cell_type": "code",
   "execution_count": 1,
   "id": "b05bc588",
   "metadata": {},
   "outputs": [],
   "source": [
    "# df[df['in_feedback2.0']==0]"
   ]
  },
  {
   "cell_type": "code",
   "execution_count": null,
   "id": "e3c6d22f",
   "metadata": {},
   "outputs": [],
   "source": []
  }
 ],
 "metadata": {
  "kernelspec": {
   "display_name": "Python 3 (ipykernel)",
   "language": "python",
   "name": "python3"
  },
  "language_info": {
   "codemirror_mode": {
    "name": "ipython",
    "version": 3
   },
   "file_extension": ".py",
   "mimetype": "text/x-python",
   "name": "python",
   "nbconvert_exporter": "python",
   "pygments_lexer": "ipython3",
   "version": "3.10.9"
  }
 },
 "nbformat": 4,
 "nbformat_minor": 5
}

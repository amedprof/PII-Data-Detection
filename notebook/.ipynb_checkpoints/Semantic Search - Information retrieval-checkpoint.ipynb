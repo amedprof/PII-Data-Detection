{
 "cells": [
  {
   "cell_type": "markdown",
   "id": "aee007b6",
   "metadata": {},
   "source": [
    "# Prerequisites:\n",
    "It is recommended to execute this notebook in a GPU environment. If you do not have access to one, consider running it on Kaggle kernels."
   ]
  },
  {
   "cell_type": "code",
   "execution_count": 26,
   "id": "1e345a36",
   "metadata": {},
   "outputs": [],
   "source": [
    "import os\n",
    "import gc\n",
    "import time\n",
    "import torch\n",
    "import random\n",
    "import numpy as np\n",
    "import pandas as pd\n",
    "from tqdm.auto import tqdm\n",
    "from pathlib import Path\n",
    "\n",
    "pd.set_option('display.max_rows', 500)\n",
    "pd.set_option('display.max_columns', 500)\n",
    "pd.set_option('display.width', 1000)\n",
    "pd.set_option('display.float_format', lambda x: '%.4f' % x)\n",
    "\n",
    "import warnings\n",
    "warnings.filterwarnings(\"ignore\")"
   ]
  },
  {
   "cell_type": "code",
   "execution_count": 3,
   "id": "19c1abcf",
   "metadata": {},
   "outputs": [
    {
     "name": "stdout",
     "output_type": "stream",
     "text": [
      "4.36.2\n"
     ]
    }
   ],
   "source": [
    "from transformers import AutoModel,AutoModelForMaskedLM,AutoTokenizer,AutoConfig\n",
    "import transformers\n",
    "print(transformers.__version__)"
   ]
  },
  {
   "cell_type": "markdown",
   "id": "462a78e9",
   "metadata": {},
   "source": [
    "# Data"
   ]
  },
  {
   "cell_type": "markdown",
   "id": "55b568f1",
   "metadata": {},
   "source": [
    "WDC LSPM\n",
    "\n",
    "Many e-shops have started to mark-up product data within their HTML pages using the schema.org vocabulary. The Web Data Commons project regularly extracts such data from the Common Crawl, a large public web crawl. The Web Data Commons Training and Test Sets for Large-Scale Product Matching contain product offers from different e-shops in the form of binary product pairs (with corresponding label \"match\" or \"no match\") for four product categories, computers, cameras, watches and shoes.\n",
    "\n",
    "In order to support the evaluation of machine learning-based matching methods, the data is split into training, validation and test sets. For each product category, we provide training sets in four different sizes (2.000-70.000 pairs). Furthermore there are sets of ids for each training set for a possible validation split (stratified random draw) available. The test set for each product category consists of 1.100 product pairs. The labels of the test sets were manually checked while those of the training sets were derived using shared product identifiers from the Web via weak supervision.\n",
    "\n",
    "The data stems from the WDC Product Data Corpus for Large-Scale Product Matching - Version 2.0 which consists of 26 million product offers originating from 79 thousand websites."
   ]
  },
  {
   "cell_type": "markdown",
   "id": "7de9b87d",
   "metadata": {},
   "source": [
    "http://webdatacommons.org/largescaleproductcorpus/wdc-products/"
   ]
  },
  {
   "cell_type": "code",
   "execution_count": 4,
   "id": "c006c5bc",
   "metadata": {},
   "outputs": [],
   "source": [
    "from datasets import load_dataset"
   ]
  },
  {
   "cell_type": "code",
   "execution_count": 5,
   "id": "ebd06167",
   "metadata": {},
   "outputs": [],
   "source": [
    "data = load_dataset(\"wdc/products-2017\")"
   ]
  },
  {
   "cell_type": "code",
   "execution_count": 6,
   "id": "1ea02255",
   "metadata": {},
   "outputs": [
    {
     "data": {
      "text/plain": [
       "DatasetDict({\n",
       "    train: Dataset({\n",
       "        features: ['pair_id', 'label', 'id_left', 'category_left', 'cluster_id_left', 'brand_left', 'title_left', 'description_left', 'price_left', 'specTableContent_left', 'id_right', 'category_right', 'cluster_id_right', 'brand_right', 'title_right', 'description_right', 'price_right', 'specTableContent_right'],\n",
       "        num_rows: 6475\n",
       "    })\n",
       "    test: Dataset({\n",
       "        features: ['pair_id', 'label', 'id_left', 'category_left', 'cluster_id_left', 'brand_left', 'title_left', 'description_left', 'price_left', 'specTableContent_left', 'id_right', 'category_right', 'cluster_id_right', 'brand_right', 'title_right', 'description_right', 'price_right', 'specTableContent_right'],\n",
       "        num_rows: 1100\n",
       "    })\n",
       "    validation: Dataset({\n",
       "        features: ['pair_id', 'label', 'id_left', 'category_left', 'cluster_id_left', 'brand_left', 'title_left', 'description_left', 'price_left', 'specTableContent_left', 'id_right', 'category_right', 'cluster_id_right', 'brand_right', 'title_right', 'description_right', 'price_right', 'specTableContent_right'],\n",
       "        num_rows: 1619\n",
       "    })\n",
       "})"
      ]
     },
     "execution_count": 6,
     "metadata": {},
     "output_type": "execute_result"
    }
   ],
   "source": [
    "data"
   ]
  },
  {
   "cell_type": "code",
   "execution_count": 7,
   "id": "925c1ab8",
   "metadata": {},
   "outputs": [
    {
     "data": {
      "text/plain": [
       "(6475, 18)"
      ]
     },
     "execution_count": 7,
     "metadata": {},
     "output_type": "execute_result"
    }
   ],
   "source": [
    "df = pd.DataFrame(data['train'])\n",
    "df.shape"
   ]
  },
  {
   "cell_type": "code",
   "execution_count": 8,
   "id": "69c9df82",
   "metadata": {},
   "outputs": [
    {
     "data": {
      "text/html": [
       "<div>\n",
       "<style scoped>\n",
       "    .dataframe tbody tr th:only-of-type {\n",
       "        vertical-align: middle;\n",
       "    }\n",
       "\n",
       "    .dataframe tbody tr th {\n",
       "        vertical-align: top;\n",
       "    }\n",
       "\n",
       "    .dataframe thead th {\n",
       "        text-align: right;\n",
       "    }\n",
       "</style>\n",
       "<table border=\"1\" class=\"dataframe\">\n",
       "  <thead>\n",
       "    <tr style=\"text-align: right;\">\n",
       "      <th></th>\n",
       "      <th>pair_id</th>\n",
       "      <th>label</th>\n",
       "      <th>id_left</th>\n",
       "      <th>category_left</th>\n",
       "      <th>cluster_id_left</th>\n",
       "      <th>brand_left</th>\n",
       "      <th>title_left</th>\n",
       "      <th>description_left</th>\n",
       "      <th>price_left</th>\n",
       "      <th>specTableContent_left</th>\n",
       "      <th>id_right</th>\n",
       "      <th>category_right</th>\n",
       "      <th>cluster_id_right</th>\n",
       "      <th>brand_right</th>\n",
       "      <th>title_right</th>\n",
       "      <th>description_right</th>\n",
       "      <th>price_right</th>\n",
       "      <th>specTableContent_right</th>\n",
       "    </tr>\n",
       "  </thead>\n",
       "  <tbody>\n",
       "    <tr>\n",
       "      <th>0</th>\n",
       "      <td>14219585#11723285</td>\n",
       "      <td>0</td>\n",
       "      <td>14219585</td>\n",
       "      <td>Computers_and_Accessories</td>\n",
       "      <td>521249</td>\n",
       "      <td>None</td>\n",
       "      <td>\"Apple - Mac Pro Desktop Computer 6-Core Inte...</td>\n",
       "      <td>\"Apple Mac Pro MD878LL/A Desktop: Designed for...</td>\n",
       "      <td>None</td>\n",
       "      <td>None</td>\n",
       "      <td>11723285</td>\n",
       "      <td>Computers_and_Accessories</td>\n",
       "      <td>9835048</td>\n",
       "      <td>\"HP Enterprise\"</td>\n",
       "      <td>\"COMPAQ PL ML530R G3 Xeon 3.0GHz 1GB\", \"Null\"...</td>\n",
       "      <td>\"Description:\\n271246-001  Proliant Xeon 3.0GH...</td>\n",
       "      <td>None</td>\n",
       "      <td>None</td>\n",
       "    </tr>\n",
       "    <tr>\n",
       "      <th>1</th>\n",
       "      <td>12092252#16476204</td>\n",
       "      <td>0</td>\n",
       "      <td>12092252</td>\n",
       "      <td>Computers_and_Accessories</td>\n",
       "      <td>222681</td>\n",
       "      <td>\"HP Enterprise\"</td>\n",
       "      <td>\"DG0300FARVV HP 300-GB 6G 10K 2.5 DP SAS\", \"N...</td>\n",
       "      <td>\"Description:2 x 300GB 2.5-inch Serial Attache...</td>\n",
       "      <td>None</td>\n",
       "      <td>Specifications: Category Proliant HardDrive S...</td>\n",
       "      <td>16476204</td>\n",
       "      <td>Computers_and_Accessories</td>\n",
       "      <td>63553</td>\n",
       "      <td>\"HP Enterprise\"</td>\n",
       "      <td>\"DH0072BALWL HP 72-GB 3G 15K 2.5 DP SAS\" \"Null\"</td>\n",
       "      <td>\"Description:10 x 72GB 2.5-inch Serial Attach...</td>\n",
       "      <td>\"CAD\", \"$757.74 CAD\"</td>\n",
       "      <td>Specifications: Category Proliant HardDrive S...</td>\n",
       "    </tr>\n",
       "    <tr>\n",
       "      <th>2</th>\n",
       "      <td>10693245#16856034</td>\n",
       "      <td>1</td>\n",
       "      <td>10693245</td>\n",
       "      <td>Computers_and_Accessories</td>\n",
       "      <td>1404813</td>\n",
       "      <td>None</td>\n",
       "      <td>\"HP BL460c G7 Intel Xeon E5607 Processor Kit ...</td>\n",
       "      <td>None</td>\n",
       "      <td>None</td>\n",
       "      <td>Categorie Processors Merk HP Product HP BL460...</td>\n",
       "      <td>16856034</td>\n",
       "      <td>Computers_and_Accessories</td>\n",
       "      <td>1404813</td>\n",
       "      <td>\"HP Enterprise\"</td>\n",
       "      <td>\"637414-B21 HP Xeon E5607 2.26GHz BL460c G7 \"...</td>\n",
       "      <td>\"Description:HP Intelï¿½ Xeonï¿½ E5607 BL460c ...</td>\n",
       "      <td>None</td>\n",
       "      <td>Specifications: Category Proliant Processor S...</td>\n",
       "    </tr>\n",
       "    <tr>\n",
       "      <th>3</th>\n",
       "      <td>2042153#7421086</td>\n",
       "      <td>0</td>\n",
       "      <td>2042153</td>\n",
       "      <td>Computers_and_Accessories</td>\n",
       "      <td>212917</td>\n",
       "      <td>\"MIO\"</td>\n",
       "      <td>\"MIO SD1GB-C230 BXP 1GB 9p SD Secure Digital ...</td>\n",
       "      <td>\"SD1GB-C230 BXP 1GB 9p SD Secure Digital Card...</td>\n",
       "      <td>\"USD\", \"4.85\"</td>\n",
       "      <td>None</td>\n",
       "      <td>7421086</td>\n",
       "      <td>Computers_and_Accessories</td>\n",
       "      <td>1441832</td>\n",
       "      <td>\"HP\"</td>\n",
       "      <td>\"HP 358348-B21 ADJ 1GB 184p PC2700 CL2.5 18c ...</td>\n",
       "      <td>\"358348-B21 ADJ 1GB 184p PC2700 CL2.5 18c 128...</td>\n",
       "      <td>\"USD\", \"13.98\"</td>\n",
       "      <td>None</td>\n",
       "    </tr>\n",
       "    <tr>\n",
       "      <th>4</th>\n",
       "      <td>11210178#16709272</td>\n",
       "      <td>1</td>\n",
       "      <td>11210178</td>\n",
       "      <td>Computers_and_Accessories</td>\n",
       "      <td>150997</td>\n",
       "      <td>\"MSI\"</td>\n",
       "      <td>\"MSI - GeForce GTX 1080 8GB GAMING X 8G Video...</td>\n",
       "      <td>None</td>\n",
       "      <td>None</td>\n",
       "      <td>None</td>\n",
       "      <td>16709272</td>\n",
       "      <td>Computers_and_Accessories</td>\n",
       "      <td>150997</td>\n",
       "      <td>None</td>\n",
       "      <td>\"nVidia GTX 1080 Gaming X 8Go\"</td>\n",
       "      <td>\"MSI GeForce GTX 1080 Gaming X 8G, Actif, ATX,...</td>\n",
       "      <td>None</td>\n",
       "      <td>None</td>\n",
       "    </tr>\n",
       "  </tbody>\n",
       "</table>\n",
       "</div>"
      ],
      "text/plain": [
       "             pair_id  label   id_left              category_left  cluster_id_left       brand_left                                         title_left                                   description_left     price_left                              specTableContent_left  id_right             category_right  cluster_id_right      brand_right                                        title_right                                  description_right           price_right                             specTableContent_right\n",
       "0  14219585#11723285      0  14219585  Computers_and_Accessories           521249             None   \"Apple - Mac Pro Desktop Computer 6-Core Inte...  \"Apple Mac Pro MD878LL/A Desktop: Designed for...           None                                               None  11723285  Computers_and_Accessories           9835048  \"HP Enterprise\"   \"COMPAQ PL ML530R G3 Xeon 3.0GHz 1GB\", \"Null\"...  \"Description:\\n271246-001  Proliant Xeon 3.0GH...                  None                                               None\n",
       "1  12092252#16476204      0  12092252  Computers_and_Accessories           222681  \"HP Enterprise\"   \"DG0300FARVV HP 300-GB 6G 10K 2.5 DP SAS\", \"N...  \"Description:2 x 300GB 2.5-inch Serial Attache...           None   Specifications: Category Proliant HardDrive S...  16476204  Computers_and_Accessories             63553  \"HP Enterprise\"    \"DH0072BALWL HP 72-GB 3G 15K 2.5 DP SAS\" \"Null\"   \"Description:10 x 72GB 2.5-inch Serial Attach...  \"CAD\", \"$757.74 CAD\"   Specifications: Category Proliant HardDrive S...\n",
       "2  10693245#16856034      1  10693245  Computers_and_Accessories          1404813             None   \"HP BL460c G7 Intel Xeon E5607 Processor Kit ...                                               None           None   Categorie Processors Merk HP Product HP BL460...  16856034  Computers_and_Accessories           1404813  \"HP Enterprise\"   \"637414-B21 HP Xeon E5607 2.26GHz BL460c G7 \"...  \"Description:HP Intelï¿½ Xeonï¿½ E5607 BL460c ...                  None   Specifications: Category Proliant Processor S...\n",
       "3    2042153#7421086      0   2042153  Computers_and_Accessories           212917            \"MIO\"   \"MIO SD1GB-C230 BXP 1GB 9p SD Secure Digital ...   \"SD1GB-C230 BXP 1GB 9p SD Secure Digital Card...  \"USD\", \"4.85\"                                               None   7421086  Computers_and_Accessories           1441832             \"HP\"   \"HP 358348-B21 ADJ 1GB 184p PC2700 CL2.5 18c ...   \"358348-B21 ADJ 1GB 184p PC2700 CL2.5 18c 128...        \"USD\", \"13.98\"                                               None\n",
       "4  11210178#16709272      1  11210178  Computers_and_Accessories           150997            \"MSI\"   \"MSI - GeForce GTX 1080 8GB GAMING X 8G Video...                                               None           None                                               None  16709272  Computers_and_Accessories            150997             None                     \"nVidia GTX 1080 Gaming X 8Go\"  \"MSI GeForce GTX 1080 Gaming X 8G, Actif, ATX,...                  None                                               None"
      ]
     },
     "execution_count": 8,
     "metadata": {},
     "output_type": "execute_result"
    }
   ],
   "source": [
    "df.head()"
   ]
  },
  {
   "cell_type": "code",
   "execution_count": 9,
   "id": "56626841",
   "metadata": {},
   "outputs": [
    {
     "data": {
      "text/plain": [
       "pair_id                                                   11210178#16709272\n",
       "label                                                                     1\n",
       "id_left                                                            11210178\n",
       "category_left                                     Computers_and_Accessories\n",
       "cluster_id_left                                                      150997\n",
       "brand_left                                                            \"MSI\"\n",
       "title_left                 \"MSI - GeForce GTX 1080 8GB GAMING X 8G Video...\n",
       "description_left                                                       None\n",
       "price_left                                                             None\n",
       "specTableContent_left                                                  None\n",
       "id_right                                                           16709272\n",
       "category_right                                    Computers_and_Accessories\n",
       "cluster_id_right                                                     150997\n",
       "brand_right                                                            None\n",
       "title_right                                  \"nVidia GTX 1080 Gaming X 8Go\"\n",
       "description_right         \"MSI GeForce GTX 1080 Gaming X 8G, Actif, ATX,...\n",
       "price_right                                                            None\n",
       "specTableContent_right                                                 None\n",
       "Name: 4, dtype: object"
      ]
     },
     "execution_count": 9,
     "metadata": {},
     "output_type": "execute_result"
    }
   ],
   "source": [
    "df[df.label==1].iloc[1]"
   ]
  },
  {
   "cell_type": "markdown",
   "id": "def0a902",
   "metadata": {},
   "source": [
    "#### Assess the quality of the labels\n",
    "- Check some exemples and evaluate the quality of the labels"
   ]
  },
  {
   "cell_type": "markdown",
   "id": "c8cee23a",
   "metadata": {},
   "source": [
    "# Dataset"
   ]
  },
  {
   "cell_type": "code",
   "execution_count": 10,
   "id": "c080929e",
   "metadata": {},
   "outputs": [],
   "source": [
    "# Create your Dataset class"
   ]
  },
  {
   "cell_type": "code",
   "execution_count": 11,
   "id": "70948652",
   "metadata": {},
   "outputs": [],
   "source": [
    "# Import necessary modules\n",
    "from torch.utils.data import Dataset, DataLoader\n",
    "\n",
    "## =============================================================================== ##\n",
    "# Define a custom dataset class for retrieval tasks\n",
    "class RetrievalDataset(Dataset):\n",
    "    def __init__(self,\n",
    "                 df,\n",
    "                 tokenizer,\n",
    "                 description_name,\n",
    "                 max_length=512,\n",
    "                ):\n",
    "        # Initialize the dataset with necessary parameters\n",
    "        self.tokenizer = tokenizer\n",
    "        self.max_length = max_length\n",
    "        self.description_name = description_name\n",
    "        \n",
    "        # Prepare the dataframe by handling missing values and sorting by description length\n",
    "        self.df = self.prepare_df(df)\n",
    "\n",
    "    def prepare_df(self, df):\n",
    "        # Convert description column to string, handle missing values, and add a length column\n",
    "        df[self.description_name] = df[self.description_name].astype(str).fillna('')\n",
    "        df[f\"{self.description_name}_len\"] = df[self.description_name].astype(str).apply(len)\n",
    "        # Sort the dataframe based on description length\n",
    "        df = df.sort_values(f\"{self.description_name}_len\").reset_index(drop=True)\n",
    "        return df\n",
    "\n",
    "    def make_one_item(self, idx):\n",
    "        # Tokenize the description at the specified index using the provided tokenizer\n",
    "        encoding = self.tokenizer(\n",
    "            self.df.iloc[idx][self.description_name],\n",
    "            truncation=True if self.max_length else False,\n",
    "            max_length=self.max_length,\n",
    "            add_special_tokens=True,\n",
    "            return_offsets_mapping=False,\n",
    "        )\n",
    "        \n",
    "        # Return the tokenized output as a dictionary\n",
    "        outputs = dict(**encoding)\n",
    "        return outputs\n",
    "    \n",
    "    def __len__(self) -> int:\n",
    "        # Return the length of the dataset\n",
    "        return len(self.df)\n",
    "    \n",
    "    def __getitem__(self, idx):\n",
    "        # Get a single item from the dataset at the specified index\n",
    "        return self.make_one_item(idx)\n",
    "\n",
    "\n",
    "## =============================================================================== ##\n",
    "## =============================================================================== ##\n",
    "# Define a custom collator class for DataLoader\n",
    "class CustomCollator():\n",
    "    def __init__(self, tokenizer):\n",
    "        # Initialize the collator with the provided tokenizer\n",
    "        self.tokenizer = tokenizer\n",
    "\n",
    "    def __call__(self, batch):\n",
    "        # Collate a batch of samples\n",
    "\n",
    "        # Initialize the output dictionary\n",
    "        output = dict()\n",
    "\n",
    "        # Extract input_ids and attention_mask from each sample in the batch\n",
    "        output[\"input_ids\"] = [sample[\"input_ids\"] for sample in batch]\n",
    "        output[\"attention_mask\"] = [sample[\"attention_mask\"] for sample in batch]\n",
    "\n",
    "        # Find the maximum length in the batch\n",
    "        batch_max = max([len(ids) for ids in output[\"input_ids\"]])\n",
    "\n",
    "        # Add padding to the sequences based on the tokenizer's padding side\n",
    "        if self.tokenizer.padding_side == \"right\":\n",
    "            output[\"input_ids\"] = [s + (batch_max - len(s)) * [self.tokenizer.pad_token_id] for s in output[\"input_ids\"]]\n",
    "            output[\"attention_mask\"] = [s + (batch_max - len(s)) * [0] for s in output[\"attention_mask\"]]\n",
    "        else:\n",
    "            output[\"input_ids\"] = [(batch_max - len(s)) * [self.tokenizer.pad_token_id] + s for s in output[\"input_ids\"]]\n",
    "            output[\"attention_mask\"] = [(batch_max - len(s)) * [0] + s for s in output[\"attention_mask\"]]\n",
    "\n",
    "        # Convert the padded sequences to PyTorch tensors\n",
    "        output[\"input_ids\"] = torch.tensor(output[\"input_ids\"], dtype=torch.long)\n",
    "        output[\"attention_mask\"] = torch.tensor(output[\"attention_mask\"], dtype=torch.long)\n",
    "\n",
    "        # Return the collated batch as a dictionary of tensors\n",
    "        return output\n"
   ]
  },
  {
   "cell_type": "code",
   "execution_count": 12,
   "id": "ad82ca79",
   "metadata": {},
   "outputs": [],
   "source": [
    "model_name = \"sentence-transformers/all-MiniLM-L6-v2\"\n",
    "tokenizer = AutoTokenizer.from_pretrained(model_name)"
   ]
  },
  {
   "cell_type": "code",
   "execution_count": 13,
   "id": "53911ac5",
   "metadata": {},
   "outputs": [],
   "source": [
    "ds = RetrievalDataset(df,tokenizer,description_name=\"title_left\",max_length=512)"
   ]
  },
  {
   "cell_type": "code",
   "execution_count": 14,
   "id": "877608b3",
   "metadata": {},
   "outputs": [
    {
     "data": {
      "text/plain": [
       "{'input_ids': [101, 1000, 6522, 21103, 4583, 12740, 1000, 102],\n",
       " 'token_type_ids': [0, 0, 0, 0, 0, 0, 0, 0],\n",
       " 'attention_mask': [1, 1, 1, 1, 1, 1, 1, 1]}"
      ]
     },
     "execution_count": 14,
     "metadata": {},
     "output_type": "execute_result"
    }
   ],
   "source": [
    "ds[0]"
   ]
  },
  {
   "cell_type": "code",
   "execution_count": 15,
   "id": "60614a68",
   "metadata": {},
   "outputs": [
    {
     "data": {
      "text/plain": [
       "' \"HP Envy 5540\"'"
      ]
     },
     "execution_count": 15,
     "metadata": {},
     "output_type": "execute_result"
    }
   ],
   "source": [
    "ds.df.iloc[0]['title_left']"
   ]
  },
  {
   "cell_type": "code",
   "execution_count": 16,
   "id": "1037bf2e",
   "metadata": {},
   "outputs": [
    {
     "data": {
      "text/plain": [
       "['[CLS]', '\"', 'hp', 'envy', '55', '##40', '\"', '[SEP]']"
      ]
     },
     "execution_count": 16,
     "metadata": {},
     "output_type": "execute_result"
    }
   ],
   "source": [
    "tokenizer.convert_ids_to_tokens(ds[0]['input_ids'])"
   ]
  },
  {
   "cell_type": "markdown",
   "id": "3196837c",
   "metadata": {},
   "source": [
    "# Data Loaders"
   ]
  },
  {
   "cell_type": "code",
   "execution_count": 17,
   "id": "db576f3b",
   "metadata": {},
   "outputs": [],
   "source": [
    "def batch_to_device(batch, device):\n",
    "    batch_dict = {key: batch[key].to(device) for key in batch}\n",
    "    return batch_dict"
   ]
  },
  {
   "cell_type": "markdown",
   "id": "46a6c949",
   "metadata": {},
   "source": [
    "# Models"
   ]
  },
  {
   "cell_type": "markdown",
   "id": "baac219a",
   "metadata": {},
   "source": [
    "### Pooling Strategie"
   ]
  },
  {
   "cell_type": "code",
   "execution_count": 18,
   "id": "98664ea8",
   "metadata": {},
   "outputs": [],
   "source": [
    "# Import necessary PyTorch modules\n",
    "import torch.nn as nn\n",
    "import torch.nn.functional as F\n",
    "from torch.nn.parameter import Parameter\n",
    "\n",
    "# Define a MeanPooling module for computing mean embeddings\n",
    "class MeanPooling(nn.Module):\n",
    "    def __init__(self):\n",
    "        super(MeanPooling, self).__init__()\n",
    "\n",
    "    def forward(self, last_hidden_state, attention_mask):\n",
    "        # Apply mean pooling to the last hidden state using attention mask\n",
    "        input_mask_expanded = attention_mask.unsqueeze(-1).expand(last_hidden_state.size())\n",
    "        sum_embeddings = torch.sum(last_hidden_state * input_mask_expanded, 1)\n",
    "        sum_mask = input_mask_expanded.sum(1)\n",
    "        sum_mask = torch.clamp(sum_mask, min=1e-9)\n",
    "        mean_embeddings = sum_embeddings / sum_mask\n",
    "        return mean_embeddings\n",
    "\n",
    "# Define a MaxPooling module for computing max embeddings\n",
    "class MaxPooling(nn.Module):\n",
    "    def __init__(self):\n",
    "        super(MaxPooling, self).__init__()\n",
    "\n",
    "    def forward(self, last_hidden_state, attention_mask):\n",
    "        # Apply max pooling to the last hidden state using attention mask\n",
    "        input_mask_expanded = attention_mask.unsqueeze(-1).expand(last_hidden_state.size())\n",
    "        embeddings = last_hidden_state.clone()\n",
    "        embeddings[input_mask_expanded == 0] = -1e4\n",
    "        max_embeddings, _ = torch.max(embeddings, dim=1)\n",
    "        return max_embeddings\n",
    "\n",
    "# Define a MinPooling module for computing min embeddings\n",
    "class MinPooling(nn.Module):\n",
    "    def __init__(self):\n",
    "        super(MinPooling, self).__init__()\n",
    "\n",
    "    def forward(self, last_hidden_state, attention_mask):\n",
    "        # Apply min pooling to the last hidden state using attention mask\n",
    "        input_mask_expanded = attention_mask.unsqueeze(-1).expand(last_hidden_state.size())\n",
    "        embeddings = last_hidden_state.clone()\n",
    "        embeddings[input_mask_expanded == 0] = 1e4\n",
    "        min_embeddings, _ = torch.min(embeddings, dim=1)\n",
    "        return min_embeddings\n",
    "\n",
    "# Define a general NLP Pooling module that can switch between different pooling strategies\n",
    "class NLPPooling(nn.Module):\n",
    "    def __init__(self, **kwargs):\n",
    "        super().__init__()\n",
    "        # Update module attributes with provided keyword arguments\n",
    "        self.__dict__.update(kwargs)\n",
    "        # Initialize the specified pooling module based on the pooling_name\n",
    "        if self.pooling_name not in (\"CLS\", ''):\n",
    "            self.pooler = eval(self.pooling_name)()\n",
    "\n",
    "        # Print the chosen pooling strategy\n",
    "        print(f'Pooling: {self.pooling_name}')\n",
    "\n",
    "    def forward(self, last_hidden_state, attention_mask):\n",
    "        # Apply the specified pooling strategy to the last hidden state based on pooling_name\n",
    "\n",
    "        if self.pooling_name in ['MeanPooling', 'MaxPooling', 'MinPooling']:\n",
    "            # Pooling between cls and sep / cls and sep embeddings are not included\n",
    "            last_hidden_state = self.pooler(last_hidden_state, attention_mask)\n",
    "        elif self.pooling_name == \"CLS\":\n",
    "            # Use only cls embedding\n",
    "            last_hidden_state = last_hidden_state[:, 0, :]\n",
    "        else:\n",
    "            # No pooling\n",
    "            last_hidden_state = last_hidden_state\n",
    "            # print(f\"{self.pooling_name} not implemented\")\n",
    "        return last_hidden_state\n"
   ]
  },
  {
   "cell_type": "markdown",
   "id": "8014ab42",
   "metadata": {},
   "source": [
    "### Model class"
   ]
  },
  {
   "cell_type": "code",
   "execution_count": 25,
   "id": "95fedff8",
   "metadata": {},
   "outputs": [],
   "source": [
    "# Import necessary PyTorch modules and utility functions\n",
    "\n",
    "\n",
    "# Define a RetrievalModel class as a PyTorch module\n",
    "class RetrievalModel(nn.Module):\n",
    "    def __init__(self, model_name, pooling_params={}):\n",
    "        # Initialize the RetrievalModel with specified model_name and pooling parameters\n",
    "        super().__init__()\n",
    "\n",
    "        # Load model configuration with hidden states and the backbone model\n",
    "        self.model_name = model_name\n",
    "        self.config = AutoConfig.from_pretrained(model_name, output_hidden_states=True)\n",
    "        self.backbone = AutoModel.from_pretrained(model_name)\n",
    "\n",
    "        # Update pooling_params with default in_features and out_features values\n",
    "        self.pooling_params = pooling_params\n",
    "        self.pooling_params.update({\n",
    "            \"in_features\": self.config.hidden_size,\n",
    "            \"out_features\": self.config.hidden_size\n",
    "        })\n",
    "\n",
    "        # Initialize NLPPooling layer with updated pooling_params\n",
    "        self.pool_ly = NLPPooling(**self.pooling_params)\n",
    "\n",
    "    def forward(self, b):\n",
    "        # Forward pass through the model's backbone and apply pooling on the last hidden layers\n",
    "        x = self.backbone(input_ids=b[\"input_ids\"], attention_mask=b[\"attention_mask\"]).last_hidden_state\n",
    "        x = self.pool_ly(x, b['attention_mask'])\n",
    "\n",
    "        # Normalize the embedding vector\n",
    "        x = torch.nn.functional.normalize(x, p=2, dim=1)\n",
    "        return x\n",
    "\n",
    "\n",
    "# ----------------------------------------------------------------------------- #\n",
    "# Define a function to get embeddings using the RetrievalModel\n",
    "def get_embeddings(df, description_name, model_name, pooling_params):\n",
    "    # Initialize the RetrievalModel with specified model_name and pooling_params\n",
    "    model = RetrievalModel(model_name, pooling_params)\n",
    "\n",
    "    # Load the tokenizer corresponding to the model\n",
    "    tokenizer = AutoTokenizer.from_pretrained(model_name)\n",
    "\n",
    "    # Create a RetrievalDataset using the provided dataframe, tokenizer, and description_name\n",
    "    ds = RetrievalDataset(df, tokenizer, description_name, max_length=512)\n",
    "\n",
    "    # Create a DataLoader for batching and collating data\n",
    "    data_collator = CustomCollator(tokenizer)\n",
    "    data_loader = DataLoader(ds, batch_size=32, drop_last=False, num_workers=0, pin_memory=False, shuffle=False,\n",
    "                              collate_fn=data_collator)\n",
    "\n",
    "    # Determine the device (cuda or cpu) for training\n",
    "    device = torch.device(f\"cuda\" if torch.cuda.is_available() else \"cpu\")\n",
    "    print(f\"device :{device}\")\n",
    "\n",
    "    # Move the model to the specified device and set it to evaluation mode\n",
    "    model = model.to(device)\n",
    "    model.eval()\n",
    "\n",
    "    # Create an empty list to store computed embeddings\n",
    "    y_embed = []\n",
    "\n",
    "    # Use torch.no_grad() to avoid unnecessary computations for gradients\n",
    "    with torch.no_grad():\n",
    "        # Iterate through the DataLoader and compute embeddings batch-wise\n",
    "        for data in tqdm(data_loader):\n",
    "            data = batch_to_device(data, device)\n",
    "            pred = model(data)\n",
    "            y_embed.append(pred)\n",
    "\n",
    "    # Concatenate the computed embeddings and move them to the cpu\n",
    "    y_embed = torch.cat(y_embed, dim=0).detach().cpu()\n",
    "\n",
    "    # Return the dataframe and computed embeddings\n",
    "    return ds.df, y_embed"
   ]
  },
  {
   "cell_type": "code",
   "execution_count": 21,
   "id": "6dee7278",
   "metadata": {},
   "outputs": [],
   "source": [
    "pooling_params = {\"pooling_name\":\"MeanPooling\",\"params\":{}}\n",
    "model_name = \"sentence-transformers/all-MiniLM-L6-v2\""
   ]
  },
  {
   "cell_type": "code",
   "execution_count": 22,
   "id": "327c85ce",
   "metadata": {},
   "outputs": [
    {
     "name": "stdout",
     "output_type": "stream",
     "text": [
      "Pooling: MeanPooling\n",
      "device :cuda\n"
     ]
    },
    {
     "name": "stderr",
     "output_type": "stream",
     "text": [
      "100%|██████████████████████████████████████████████████████████████████████████████████████████████████████████████████████████████████████████████████████████████████████████████████████████████████████████████████████████████████████████████████████████████████████████████████████████████████████████████████████████████████████████████████████████████████████████████████████████████████| 203/203 [00:03<00:00, 62.88it/s]\n"
     ]
    },
    {
     "data": {
      "text/plain": [
       "torch.Size([6475, 384])"
      ]
     },
     "execution_count": 22,
     "metadata": {},
     "output_type": "execute_result"
    }
   ],
   "source": [
    "description_name = \"title_left\"\n",
    "df,query_embed = get_embeddings(df,description_name,model_name,pooling_params)\n",
    "query_embed.shape"
   ]
  },
  {
   "cell_type": "code",
   "execution_count": 27,
   "id": "d25f8b4a",
   "metadata": {},
   "outputs": [
    {
     "data": {
      "text/plain": [
       "torch.Size([6475, 384])"
      ]
     },
     "execution_count": 27,
     "metadata": {},
     "output_type": "execute_result"
    }
   ],
   "source": [
    "query_embed.shape"
   ]
  },
  {
   "cell_type": "code",
   "execution_count": 28,
   "id": "002a1e2f",
   "metadata": {},
   "outputs": [
    {
     "data": {
      "text/plain": [
       "' \"Asus H81-Plus\"'"
      ]
     },
     "execution_count": 28,
     "metadata": {},
     "output_type": "execute_result"
    }
   ],
   "source": [
    "df.title_left.values[1]"
   ]
  },
  {
   "cell_type": "code",
   "execution_count": 29,
   "id": "7c4cb194",
   "metadata": {},
   "outputs": [
    {
     "data": {
      "text/plain": [
       "' \"ASUS H81-PLUS\" \"Asus catálogo - Powerplanetonline\"'"
      ]
     },
     "execution_count": 29,
     "metadata": {},
     "output_type": "execute_result"
    }
   ],
   "source": [
    "df.title_right.values[1]"
   ]
  },
  {
   "cell_type": "code",
   "execution_count": 30,
   "id": "7c232886",
   "metadata": {},
   "outputs": [
    {
     "name": "stdout",
     "output_type": "stream",
     "text": [
      "Pooling: MeanPooling\n",
      "device :cuda\n"
     ]
    },
    {
     "data": {
      "application/vnd.jupyter.widget-view+json": {
       "model_id": "df05a2c604f04b37a5a14b9bafa05280",
       "version_major": 2,
       "version_minor": 0
      },
      "text/plain": [
       "  0%|          | 0/203 [00:00<?, ?it/s]"
      ]
     },
     "metadata": {},
     "output_type": "display_data"
    },
    {
     "data": {
      "text/plain": [
       "torch.Size([6475, 384])"
      ]
     },
     "execution_count": 30,
     "metadata": {},
     "output_type": "execute_result"
    }
   ],
   "source": [
    "description_name = \"title_right\"\n",
    "db_df,db_embed = get_embeddings(df.copy(),description_name,model_name,pooling_params)\n",
    "db_embed.shape"
   ]
  },
  {
   "cell_type": "code",
   "execution_count": 31,
   "id": "692d6e78",
   "metadata": {},
   "outputs": [],
   "source": [
    "# Compute cosine similarity\n",
    "def get_sim(a,b):\n",
    "    s = torch.mm(a,b.transpose(0, 1))\n",
    "    return s"
   ]
  },
  {
   "cell_type": "code",
   "execution_count": 32,
   "id": "a2d824b4",
   "metadata": {},
   "outputs": [
    {
     "data": {
      "text/plain": [
       "torch.Size([6475, 6475])"
      ]
     },
     "execution_count": 32,
     "metadata": {},
     "output_type": "execute_result"
    }
   ],
   "source": [
    "sim_score = get_sim(query_embed,db_embed)\n",
    "sim_score.shape"
   ]
  },
  {
   "cell_type": "code",
   "execution_count": 33,
   "id": "43303519",
   "metadata": {},
   "outputs": [
    {
     "data": {
      "text/plain": [
       "torch.Size([6475, 6475])"
      ]
     },
     "execution_count": 33,
     "metadata": {},
     "output_type": "execute_result"
    }
   ],
   "source": [
    "sim_score_idx  = torch.argsort(sim_score,descending=True)\n",
    "sim_score_idx.shape"
   ]
  },
  {
   "cell_type": "code",
   "execution_count": 34,
   "id": "3311543f",
   "metadata": {},
   "outputs": [
    {
     "data": {
      "application/vnd.jupyter.widget-view+json": {
       "model_id": "40b601ad0cfc4f31b92673ceb9c84fea",
       "version_major": 2,
       "version_minor": 0
      },
      "text/plain": [
       "0it [00:00, ?it/s]"
      ]
     },
     "metadata": {},
     "output_type": "display_data"
    }
   ],
   "source": [
    "## Get candidates index \n",
    "TOPK  = 10\n",
    "query_desc = df[\"title_left\"].values\n",
    "db_desc = db_df['title_right'].values\n",
    "\n",
    "df_res = []\n",
    "for i,desc in tqdm(enumerate(query_desc)):\n",
    "\n",
    "    idx = sim_score_idx[i,:TOPK]\n",
    "    s = sim_score[i,idx]\n",
    "    df_res.append(pd.DataFrame({\"title_left\":[query_desc[i]]*TOPK,\n",
    "                                'title_right_pred':db_desc[idx.numpy()],\n",
    "                                'score':s}))"
   ]
  },
  {
   "cell_type": "code",
   "execution_count": 35,
   "id": "5fc9e203",
   "metadata": {},
   "outputs": [
    {
     "data": {
      "text/plain": [
       "(64750, 3)"
      ]
     },
     "execution_count": 35,
     "metadata": {},
     "output_type": "execute_result"
    }
   ],
   "source": [
    "df_res = pd.concat(df_res)\n",
    "df_res.shape"
   ]
  },
  {
   "cell_type": "code",
   "execution_count": 36,
   "id": "3c616535",
   "metadata": {},
   "outputs": [
    {
     "data": {
      "text/html": [
       "<div>\n",
       "<style scoped>\n",
       "    .dataframe tbody tr th:only-of-type {\n",
       "        vertical-align: middle;\n",
       "    }\n",
       "\n",
       "    .dataframe tbody tr th {\n",
       "        vertical-align: top;\n",
       "    }\n",
       "\n",
       "    .dataframe thead th {\n",
       "        text-align: right;\n",
       "    }\n",
       "</style>\n",
       "<table border=\"1\" class=\"dataframe\">\n",
       "  <thead>\n",
       "    <tr style=\"text-align: right;\">\n",
       "      <th></th>\n",
       "      <th>title_left</th>\n",
       "      <th>title_right_pred</th>\n",
       "      <th>score</th>\n",
       "    </tr>\n",
       "  </thead>\n",
       "  <tbody>\n",
       "    <tr>\n",
       "      <th>0</th>\n",
       "      <td>\"HP Envy 5540\"</td>\n",
       "      <td>\"HP ENVY x360 - 15-bp010ca\"@en</td>\n",
       "      <td>0.7794</td>\n",
       "    </tr>\n",
       "    <tr>\n",
       "      <th>1</th>\n",
       "      <td>\"HP Envy 5540\"</td>\n",
       "      <td>\"HP ENVY x360 - 15-bp010ca\"@en</td>\n",
       "      <td>0.7794</td>\n",
       "    </tr>\n",
       "    <tr>\n",
       "      <th>2</th>\n",
       "      <td>\"HP Envy 5540\"</td>\n",
       "      <td>\"HP ENVY x360 15-bp100na Convertible Laptop\"@en</td>\n",
       "      <td>0.7167</td>\n",
       "    </tr>\n",
       "    <tr>\n",
       "      <th>3</th>\n",
       "      <td>\"HP Envy 5540\"</td>\n",
       "      <td>\"HP ENVY x360 15-bp100na Convertible Laptop\"@en</td>\n",
       "      <td>0.7167</td>\n",
       "    </tr>\n",
       "    <tr>\n",
       "      <th>4</th>\n",
       "      <td>\"HP Envy 5540\"</td>\n",
       "      <td>\"HP ENVY x360 15-bp100na Convertible Laptop\"@en</td>\n",
       "      <td>0.7167</td>\n",
       "    </tr>\n",
       "  </tbody>\n",
       "</table>\n",
       "</div>"
      ],
      "text/plain": [
       "        title_left                                  title_right_pred  score\n",
       "0   \"HP Envy 5540\"                    \"HP ENVY x360 - 15-bp010ca\"@en 0.7794\n",
       "1   \"HP Envy 5540\"                    \"HP ENVY x360 - 15-bp010ca\"@en 0.7794\n",
       "2   \"HP Envy 5540\"   \"HP ENVY x360 15-bp100na Convertible Laptop\"@en 0.7167\n",
       "3   \"HP Envy 5540\"   \"HP ENVY x360 15-bp100na Convertible Laptop\"@en 0.7167\n",
       "4   \"HP Envy 5540\"   \"HP ENVY x360 15-bp100na Convertible Laptop\"@en 0.7167"
      ]
     },
     "execution_count": 36,
     "metadata": {},
     "output_type": "execute_result"
    }
   ],
   "source": [
    "df_res.head()"
   ]
  },
  {
   "cell_type": "code",
   "execution_count": 37,
   "id": "222812e4",
   "metadata": {},
   "outputs": [],
   "source": [
    "df_res_grouped = df_res.groupby('title_left').agg(list).reset_index()"
   ]
  },
  {
   "cell_type": "code",
   "execution_count": 38,
   "id": "c6d1cdf3",
   "metadata": {},
   "outputs": [
    {
     "data": {
      "text/html": [
       "<div>\n",
       "<style scoped>\n",
       "    .dataframe tbody tr th:only-of-type {\n",
       "        vertical-align: middle;\n",
       "    }\n",
       "\n",
       "    .dataframe tbody tr th {\n",
       "        vertical-align: top;\n",
       "    }\n",
       "\n",
       "    .dataframe thead th {\n",
       "        text-align: right;\n",
       "    }\n",
       "</style>\n",
       "<table border=\"1\" class=\"dataframe\">\n",
       "  <thead>\n",
       "    <tr style=\"text-align: right;\">\n",
       "      <th></th>\n",
       "      <th>title_left</th>\n",
       "      <th>title_right_pred</th>\n",
       "      <th>score</th>\n",
       "    </tr>\n",
       "  </thead>\n",
       "  <tbody>\n",
       "    <tr>\n",
       "      <th>0</th>\n",
       "      <td>\" AMD Black Edition A8 5600K / 3.6 GHz proces...</td>\n",
       "      <td>[ \" AMD Black Edition A8 5600K / 3.6 GHz proce...</td>\n",
       "      <td>[1.000000238418579, 1.000000238418579, 0.79045...</td>\n",
       "    </tr>\n",
       "    <tr>\n",
       "      <th>1</th>\n",
       "      <td>\" ASUS HD7850-DC2-2GD5-V2 graphics card - Rad...</td>\n",
       "      <td>[ \"Asus - Radeon HD 7850 2GB Video Card\" Card ...</td>\n",
       "      <td>[0.8038597106933594, 0.7793077230453491, 0.779...</td>\n",
       "    </tr>\n",
       "    <tr>\n",
       "      <th>2</th>\n",
       "      <td>\" AUGUSTUS Deckenleuchte Chrom, 1xLED - Leuch...</td>\n",
       "      <td>[ \" AUGUSTUS Deckenleuchte Chrom, 1xLED - Leuc...</td>\n",
       "      <td>[0.9999998807907104, 0.9999998807907104, 0.999...</td>\n",
       "    </tr>\n",
       "    <tr>\n",
       "      <th>3</th>\n",
       "      <td>\" Adaptateur...\", Câble audio...\", \"Adaptateu...</td>\n",
       "      <td>[ \"StarTech.com DisplayPort to HDMI Video Conv...</td>\n",
       "      <td>[0.5635592937469482, 0.5554509162902832, 0.549...</td>\n",
       "    </tr>\n",
       "    <tr>\n",
       "      <th>4</th>\n",
       "      <td>\" Alfa AWUS036H 1000mW 1W Deluxe Bundle 802.1...</td>\n",
       "      <td>[ \"Alfa AWUS036H 1000mW 1W Deluxe Bundle 802.1...</td>\n",
       "      <td>[0.9626172184944153, 0.933559000492096, 0.4446...</td>\n",
       "    </tr>\n",
       "  </tbody>\n",
       "</table>\n",
       "</div>"
      ],
      "text/plain": [
       "                                          title_left                                   title_right_pred                                              score\n",
       "0   \" AMD Black Edition A8 5600K / 3.6 GHz proces...  [ \" AMD Black Edition A8 5600K / 3.6 GHz proce...  [1.000000238418579, 1.000000238418579, 0.79045...\n",
       "1   \" ASUS HD7850-DC2-2GD5-V2 graphics card - Rad...  [ \"Asus - Radeon HD 7850 2GB Video Card\" Card ...  [0.8038597106933594, 0.7793077230453491, 0.779...\n",
       "2   \" AUGUSTUS Deckenleuchte Chrom, 1xLED - Leuch...  [ \" AUGUSTUS Deckenleuchte Chrom, 1xLED - Leuc...  [0.9999998807907104, 0.9999998807907104, 0.999...\n",
       "3   \" Adaptateur...\", Câble audio...\", \"Adaptateu...  [ \"StarTech.com DisplayPort to HDMI Video Conv...  [0.5635592937469482, 0.5554509162902832, 0.549...\n",
       "4   \" Alfa AWUS036H 1000mW 1W Deluxe Bundle 802.1...  [ \"Alfa AWUS036H 1000mW 1W Deluxe Bundle 802.1...  [0.9626172184944153, 0.933559000492096, 0.4446..."
      ]
     },
     "execution_count": 38,
     "metadata": {},
     "output_type": "execute_result"
    }
   ],
   "source": [
    "df_res_grouped.head()"
   ]
  },
  {
   "cell_type": "code",
   "execution_count": 39,
   "id": "4d32fcb9",
   "metadata": {},
   "outputs": [
    {
     "data": {
      "text/html": [
       "<div>\n",
       "<style scoped>\n",
       "    .dataframe tbody tr th:only-of-type {\n",
       "        vertical-align: middle;\n",
       "    }\n",
       "\n",
       "    .dataframe tbody tr th {\n",
       "        vertical-align: top;\n",
       "    }\n",
       "\n",
       "    .dataframe thead th {\n",
       "        text-align: right;\n",
       "    }\n",
       "</style>\n",
       "<table border=\"1\" class=\"dataframe\">\n",
       "  <thead>\n",
       "    <tr style=\"text-align: right;\">\n",
       "      <th></th>\n",
       "      <th>title_left</th>\n",
       "      <th>title_right</th>\n",
       "    </tr>\n",
       "  </thead>\n",
       "  <tbody>\n",
       "    <tr>\n",
       "      <th>0</th>\n",
       "      <td>\" AUGUSTUS Deckenleuchte Chrom, 1xLED - Leuch...</td>\n",
       "      <td>[ \"Scratch &amp; Dent Acer Chromebook C731T-C42N C...</td>\n",
       "    </tr>\n",
       "    <tr>\n",
       "      <th>1</th>\n",
       "      <td>\" Adaptateur...\", Câble audio...\", \"Adaptateu...</td>\n",
       "      <td>[ \"StarTech.com DisplayPort to HDMI Video Adap...</td>\n",
       "    </tr>\n",
       "    <tr>\n",
       "      <th>2</th>\n",
       "      <td>\" Alfa AWUS036H 1000mW 1W Deluxe Bundle 802.1...</td>\n",
       "      <td>[ \"Alfa AWUS036H 1000mW 1W Deluxe Bundle 802.1...</td>\n",
       "    </tr>\n",
       "    <tr>\n",
       "      <th>3</th>\n",
       "      <td>\" Apple 12.9-inch iPad Pro Wi-Fi 256GB - Spac...</td>\n",
       "      <td>[ \"Apple iPad Pro 12.9\" Retina Display 256GB W...</td>\n",
       "    </tr>\n",
       "    <tr>\n",
       "      <th>4</th>\n",
       "      <td>\" Apple Mac Pro MD878LL/A Desktop Computer; I...</td>\n",
       "      <td>[ \"Mac Pro Xeon E5 3.5GHz (256GB)\"]</td>\n",
       "    </tr>\n",
       "  </tbody>\n",
       "</table>\n",
       "</div>"
      ],
      "text/plain": [
       "                                          title_left                                        title_right\n",
       "0   \" AUGUSTUS Deckenleuchte Chrom, 1xLED - Leuch...  [ \"Scratch & Dent Acer Chromebook C731T-C42N C...\n",
       "1   \" Adaptateur...\", Câble audio...\", \"Adaptateu...  [ \"StarTech.com DisplayPort to HDMI Video Adap...\n",
       "2   \" Alfa AWUS036H 1000mW 1W Deluxe Bundle 802.1...  [ \"Alfa AWUS036H 1000mW 1W Deluxe Bundle 802.1...\n",
       "3   \" Apple 12.9-inch iPad Pro Wi-Fi 256GB - Spac...  [ \"Apple iPad Pro 12.9\" Retina Display 256GB W...\n",
       "4   \" Apple Mac Pro MD878LL/A Desktop Computer; I...                [ \"Mac Pro Xeon E5 3.5GHz (256GB)\"]"
      ]
     },
     "execution_count": 39,
     "metadata": {},
     "output_type": "execute_result"
    }
   ],
   "source": [
    "df_gt = df[df.label==1].groupby('title_left').agg({\"title_right\":list}).reset_index()\n",
    "df_gt.head()"
   ]
  },
  {
   "cell_type": "code",
   "execution_count": 40,
   "id": "f88af4e1",
   "metadata": {},
   "outputs": [
    {
     "data": {
      "text/plain": [
       "' \" Dell Inspiron 710M PA-10 Power Adapter (PA-1900-02D) - MachinaElectronics.com'"
      ]
     },
     "execution_count": 40,
     "metadata": {},
     "output_type": "execute_result"
    }
   ],
   "source": [
    "df_gt.iloc[10]['title_left']"
   ]
  },
  {
   "cell_type": "code",
   "execution_count": 41,
   "id": "718e627a",
   "metadata": {},
   "outputs": [
    {
     "data": {
      "text/plain": [
       "[' \" Dell Precision M60 PA-10 Power Adapter (PA-1900-02D) - MachinaElectronics.com']"
      ]
     },
     "execution_count": 41,
     "metadata": {},
     "output_type": "execute_result"
    }
   ],
   "source": [
    "df_gt.iloc[10]['title_right']"
   ]
  },
  {
   "cell_type": "code",
   "execution_count": 42,
   "id": "74f09504",
   "metadata": {},
   "outputs": [
    {
     "data": {
      "text/html": [
       "<div>\n",
       "<style scoped>\n",
       "    .dataframe tbody tr th:only-of-type {\n",
       "        vertical-align: middle;\n",
       "    }\n",
       "\n",
       "    .dataframe tbody tr th {\n",
       "        vertical-align: top;\n",
       "    }\n",
       "\n",
       "    .dataframe thead th {\n",
       "        text-align: right;\n",
       "    }\n",
       "</style>\n",
       "<table border=\"1\" class=\"dataframe\">\n",
       "  <thead>\n",
       "    <tr style=\"text-align: right;\">\n",
       "      <th></th>\n",
       "      <th>title_left</th>\n",
       "      <th>title_right</th>\n",
       "      <th>title_right_pred</th>\n",
       "      <th>score</th>\n",
       "    </tr>\n",
       "  </thead>\n",
       "  <tbody>\n",
       "    <tr>\n",
       "      <th>0</th>\n",
       "      <td>\" AUGUSTUS Deckenleuchte Chrom, 1xLED - Leuch...</td>\n",
       "      <td>[ \"Scratch &amp; Dent Acer Chromebook C731T-C42N C...</td>\n",
       "      <td>[ \" AUGUSTUS Deckenleuchte Chrom, 1xLED - Leuc...</td>\n",
       "      <td>[0.9999998807907104, 0.9999998807907104, 0.999...</td>\n",
       "    </tr>\n",
       "    <tr>\n",
       "      <th>1</th>\n",
       "      <td>\" Adaptateur...\", Câble audio...\", \"Adaptateu...</td>\n",
       "      <td>[ \"StarTech.com DisplayPort to HDMI Video Adap...</td>\n",
       "      <td>[ \"StarTech.com DisplayPort to HDMI Video Conv...</td>\n",
       "      <td>[0.5635592937469482, 0.5554509162902832, 0.549...</td>\n",
       "    </tr>\n",
       "    <tr>\n",
       "      <th>2</th>\n",
       "      <td>\" Alfa AWUS036H 1000mW 1W Deluxe Bundle 802.1...</td>\n",
       "      <td>[ \"Alfa AWUS036H 1000mW 1W Deluxe Bundle 802.1...</td>\n",
       "      <td>[ \"Alfa AWUS036H 1000mW 1W Deluxe Bundle 802.1...</td>\n",
       "      <td>[0.9626172184944153, 0.933559000492096, 0.4446...</td>\n",
       "    </tr>\n",
       "    <tr>\n",
       "      <th>3</th>\n",
       "      <td>\" Apple 12.9-inch iPad Pro Wi-Fi 256GB - Spac...</td>\n",
       "      <td>[ \"Apple iPad Pro 12.9\" Retina Display 256GB W...</td>\n",
       "      <td>[ \" Apple 12.9-inch iPad Pro Wi-Fi 256GB - Spa...</td>\n",
       "      <td>[0.9999995827674866, 0.9662576913833618, 0.966...</td>\n",
       "    </tr>\n",
       "    <tr>\n",
       "      <th>4</th>\n",
       "      <td>\" Apple Mac Pro MD878LL/A Desktop Computer; I...</td>\n",
       "      <td>[ \"Mac Pro Xeon E5 3.5GHz (256GB)\"]</td>\n",
       "      <td>[ \"Apple MacBook Pro - 13.3\" Core i5 4 GB RAM ...</td>\n",
       "      <td>[0.7711371183395386, 0.7711371183395386, 0.771...</td>\n",
       "    </tr>\n",
       "  </tbody>\n",
       "</table>\n",
       "</div>"
      ],
      "text/plain": [
       "                                          title_left                                        title_right                                   title_right_pred                                              score\n",
       "0   \" AUGUSTUS Deckenleuchte Chrom, 1xLED - Leuch...  [ \"Scratch & Dent Acer Chromebook C731T-C42N C...  [ \" AUGUSTUS Deckenleuchte Chrom, 1xLED - Leuc...  [0.9999998807907104, 0.9999998807907104, 0.999...\n",
       "1   \" Adaptateur...\", Câble audio...\", \"Adaptateu...  [ \"StarTech.com DisplayPort to HDMI Video Adap...  [ \"StarTech.com DisplayPort to HDMI Video Conv...  [0.5635592937469482, 0.5554509162902832, 0.549...\n",
       "2   \" Alfa AWUS036H 1000mW 1W Deluxe Bundle 802.1...  [ \"Alfa AWUS036H 1000mW 1W Deluxe Bundle 802.1...  [ \"Alfa AWUS036H 1000mW 1W Deluxe Bundle 802.1...  [0.9626172184944153, 0.933559000492096, 0.4446...\n",
       "3   \" Apple 12.9-inch iPad Pro Wi-Fi 256GB - Spac...  [ \"Apple iPad Pro 12.9\" Retina Display 256GB W...  [ \" Apple 12.9-inch iPad Pro Wi-Fi 256GB - Spa...  [0.9999995827674866, 0.9662576913833618, 0.966...\n",
       "4   \" Apple Mac Pro MD878LL/A Desktop Computer; I...                [ \"Mac Pro Xeon E5 3.5GHz (256GB)\"]  [ \"Apple MacBook Pro - 13.3\" Core i5 4 GB RAM ...  [0.7711371183395386, 0.7711371183395386, 0.771..."
      ]
     },
     "execution_count": 42,
     "metadata": {},
     "output_type": "execute_result"
    }
   ],
   "source": [
    "df_eval = df_gt.merge(df_res_grouped,how='left',on=\"title_left\")\n",
    "df_eval.head()"
   ]
  },
  {
   "cell_type": "code",
   "execution_count": 43,
   "id": "848d1aca",
   "metadata": {},
   "outputs": [
    {
     "data": {
      "text/plain": [
       "1    1065\n",
       "2     150\n",
       "3      15\n",
       "Name: title_right, dtype: int64"
      ]
     },
     "execution_count": 43,
     "metadata": {},
     "output_type": "execute_result"
    }
   ],
   "source": [
    "df_eval['title_right'].apply(len).value_counts()"
   ]
  },
  {
   "cell_type": "code",
   "execution_count": 45,
   "id": "9f63e74e",
   "metadata": {},
   "outputs": [
    {
     "data": {
      "text/plain": [
       "' \" Dell Inspiron 710M PA-10 Power Adapter (PA-1900-02D) - MachinaElectronics.com'"
      ]
     },
     "execution_count": 45,
     "metadata": {},
     "output_type": "execute_result"
    }
   ],
   "source": [
    "df_eval.iloc[10]['title_left']"
   ]
  },
  {
   "cell_type": "code",
   "execution_count": 46,
   "id": "bc01affe",
   "metadata": {},
   "outputs": [
    {
     "data": {
      "text/plain": [
       "[' \" Dell Precision M60 PA-10 Power Adapter (PA-1900-02D) - MachinaElectronics.com']"
      ]
     },
     "execution_count": 46,
     "metadata": {},
     "output_type": "execute_result"
    }
   ],
   "source": [
    "df_eval.iloc[10]['title_right']"
   ]
  },
  {
   "cell_type": "code",
   "execution_count": 47,
   "id": "73437f18",
   "metadata": {},
   "outputs": [
    {
     "data": {
      "text/plain": [
       "[' \" Dell Inspiron N4020 PA-10 Power Adapter (PA-1900-02D) - MachinaElectronics.com',\n",
       " ' \" Dell Inspiron 1521 PA-10 Power Adapter (PA-1900-02D) - MachinaElectronics.com',\n",
       " ' \" Dell Precision M60 PA-10 Power Adapter (PA-1900-02D) - MachinaElectronics.com',\n",
       " ' \"Hewlett Packard Enterprise 64-bit/66-MHz Single Channel Wide Ultra3 SCSI Adapter power adapter & inverter\" \"Product data Hewlett inverter adapters inverters (154457-B21)\"',\n",
       " ' \"Hewlett Packard Enterprise 64-bit/66-MHz Single Channel Wide Ultra3 SCSI Adapter power adapter & inverter\" \"Product data Hewlett inverter adapters inverters (154457-B21)\"',\n",
       " ' \"629142-B21 HP FlexFabric 10Gb 2-Port 554FLR Adapter\", \"Null\" Price 629142-B21\" \"New 629142-B21 Adapter Wholesale',\n",
       " ' \"629142-B21 HP FlexFabric 10Gb 2-Port 554FLR Adapter\", \"Null\" Price 629142-B21\" \"New 629142-B21 Adapter Wholesale',\n",
       " ' \"629142-B21 HP FlexFabric 10Gb 2-Port 554FLR Adapter\", \"Null\" Price 629142-B21\" \"New 629142-B21 Adapter Wholesale',\n",
       " ' \"629142-B21 HP FlexFabric 10Gb 2-Port 554FLR Adapter\", \"Null\" Price 629142-B21\" \"New 629142-B21 Adapter Wholesale',\n",
       " ' \"629142-B21 HP FlexFabric 10Gb 2-Port 554FLR Adapter\", \"Null\" Price 629142-B21\" \"New 629142-B21 Adapter Wholesale']"
      ]
     },
     "execution_count": 47,
     "metadata": {},
     "output_type": "execute_result"
    }
   ],
   "source": [
    "df_eval.iloc[10]['title_right_pred']"
   ]
  },
  {
   "cell_type": "markdown",
   "id": "775a5877",
   "metadata": {},
   "source": [
    "# Evaluation"
   ]
  },
  {
   "cell_type": "code",
   "execution_count": 48,
   "id": "7c70d393",
   "metadata": {},
   "outputs": [],
   "source": [
    "def getMetric(col1,col):\n",
    "    def score(row):\n",
    "        n = len(np.intersect1d(row[col1],row[col]) )\n",
    "        return 1 if n>0 else 0\n",
    "    return score"
   ]
  },
  {
   "cell_type": "code",
   "execution_count": 49,
   "id": "89a07b38",
   "metadata": {},
   "outputs": [],
   "source": [
    "df_eval['score_row'] = df_eval.apply(getMetric('title_right','title_right_pred'),axis=1)"
   ]
  },
  {
   "cell_type": "code",
   "execution_count": 50,
   "id": "c9cffc2e",
   "metadata": {},
   "outputs": [
    {
     "data": {
      "text/html": [
       "<div>\n",
       "<style scoped>\n",
       "    .dataframe tbody tr th:only-of-type {\n",
       "        vertical-align: middle;\n",
       "    }\n",
       "\n",
       "    .dataframe tbody tr th {\n",
       "        vertical-align: top;\n",
       "    }\n",
       "\n",
       "    .dataframe thead th {\n",
       "        text-align: right;\n",
       "    }\n",
       "</style>\n",
       "<table border=\"1\" class=\"dataframe\">\n",
       "  <thead>\n",
       "    <tr style=\"text-align: right;\">\n",
       "      <th></th>\n",
       "      <th>title_left</th>\n",
       "      <th>title_right</th>\n",
       "      <th>title_right_pred</th>\n",
       "      <th>score</th>\n",
       "      <th>score_row</th>\n",
       "    </tr>\n",
       "  </thead>\n",
       "  <tbody>\n",
       "    <tr>\n",
       "      <th>344</th>\n",
       "      <td>\"Acer KA KA240H 24\" Full HD TN Negro pantalla...</td>\n",
       "      <td>[ \"Acer KA240H 24\"@en 24inch LED Monitor - 16:...</td>\n",
       "      <td>[ \"Acer KA KA240H 24\" Full HD TN Negro pantall...</td>\n",
       "      <td>[1.0, 0.7894200682640076, 0.7894200682640076, ...</td>\n",
       "      <td>0</td>\n",
       "    </tr>\n",
       "    <tr>\n",
       "      <th>721</th>\n",
       "      <td>\"Gigaram TS128GCF1000 DFG 128GB 50p CF 1000x ...</td>\n",
       "      <td>[ \"SanDisk SDCFXPS-128G DFC 128GB 50p CF 1066x...</td>\n",
       "      <td>[ \"Gigaram TS32GCF1000 DFE 32GB 50p CF 1000x 1...</td>\n",
       "      <td>[0.9548277854919434, 0.8072405457496643, 0.795...</td>\n",
       "      <td>1</td>\n",
       "    </tr>\n",
       "    <tr>\n",
       "      <th>414</th>\n",
       "      <td>\"Apple Smart Keyboard for 9.7-inch iPad Pro M...</td>\n",
       "      <td>[ \"Smart Keyboard APPLE para iPad Pro 9.7”\"@es]</td>\n",
       "      <td>[ \"Apple Smart Keyboard for 9.7-inch iPad Pro ...</td>\n",
       "      <td>[1.0000003576278687, 0.8883680701255798, 0.888...</td>\n",
       "      <td>0</td>\n",
       "    </tr>\n",
       "    <tr>\n",
       "      <th>1051</th>\n",
       "      <td>\"Samsung - 840 EVO 250GB 2.5\" Solid State Dri...</td>\n",
       "      <td>[ \"Samsung 840 Evo (250GB)\"@en Prices - CNET\"@en]</td>\n",
       "      <td>[ \"Samsung - 840 EVO 250GB 2.5\" Solid State Dr...</td>\n",
       "      <td>[0.9999998211860657, 0.9999998211860657, 0.938...</td>\n",
       "      <td>0</td>\n",
       "    </tr>\n",
       "    <tr>\n",
       "      <th>613</th>\n",
       "      <td>\"Corsair XMS3 8GB (2x4GB) DDR3 PC3-12800 1600...</td>\n",
       "      <td>[ \"Corsair XMS3 8GB (2x4GB) DDR3 PC3-12800C9 1...</td>\n",
       "      <td>[ \"Corsair XMS3 8GB (2x4GB) DDR3 PC3-12800 160...</td>\n",
       "      <td>[0.9999995827674866, 0.9999995827674866, 0.955...</td>\n",
       "      <td>1</td>\n",
       "    </tr>\n",
       "    <tr>\n",
       "      <th>92</th>\n",
       "      <td>\"323146-B21 BL20p Xeon 3.06GHz\" \"Null\"</td>\n",
       "      <td>[ \"323146-B21 BL20P G2 (1P) Xeon 3.06GHz\", \"Nu...</td>\n",
       "      <td>[ \"323146-B21 BL20p Xeon 3.06GHz\" \"Null\",  \"32...</td>\n",
       "      <td>[0.9999998211860657, 0.9999998211860657, 0.902...</td>\n",
       "      <td>0</td>\n",
       "    </tr>\n",
       "    <tr>\n",
       "      <th>1170</th>\n",
       "      <td>\"Tp-Link TL-SF1008D 8 Portlu 10/100 Ethernet ...</td>\n",
       "      <td>[ \"TPLINK - SWITCH 8 PUERTOS MINI 10/100\"@es \"...</td>\n",
       "      <td>[ \"TP-Link TL-SF1008D-8-Port 10/100Mbps Deskto...</td>\n",
       "      <td>[0.7975758910179138, 0.7568085789680481, 0.748...</td>\n",
       "      <td>1</td>\n",
       "    </tr>\n",
       "    <tr>\n",
       "      <th>517</th>\n",
       "      <td>\"Corsair - Air Series SP120 High Performance ...</td>\n",
       "      <td>[ \"Corsair Air Series SP120 High Performance E...</td>\n",
       "      <td>[ \"Corsair - Air Series SP120 High Performance...</td>\n",
       "      <td>[1.0000004768371582, 0.8943998217582703, 0.894...</td>\n",
       "      <td>0</td>\n",
       "    </tr>\n",
       "    <tr>\n",
       "      <th>704</th>\n",
       "      <td>\"Gigabyte GeForce GTX 1060 G1 Gaming 3072MB G...</td>\n",
       "      <td>[ \"Gigabyte GeForce GTX 1060 G1 Gaming 3G - Pr...</td>\n",
       "      <td>[ \"Gigabyte GeForce GTX 1060 G1 Gaming 3072MB ...</td>\n",
       "      <td>[1.0000004768371582, 1.0000004768371582, 1.000...</td>\n",
       "      <td>0</td>\n",
       "    </tr>\n",
       "    <tr>\n",
       "      <th>83</th>\n",
       "      <td>\"3.5 pouces Red 2To IntelliPower 64Mo Sata 6G...</td>\n",
       "      <td>[ \"WD Red 2TB WD20EFRX\"@es]</td>\n",
       "      <td>[ \"3.5 pouces - WD RED NAS 6To 5400T/min 64Mo ...</td>\n",
       "      <td>[0.8323203325271606, 0.823881983757019, 0.8209...</td>\n",
       "      <td>0</td>\n",
       "    </tr>\n",
       "    <tr>\n",
       "      <th>1178</th>\n",
       "      <td>\"Transcend Micro SDHC UHS-I U3 32 GB Class 10...</td>\n",
       "      <td>[ \"Transcend Ultimate - flash memory card 32 G...</td>\n",
       "      <td>[ \"Transcend Micro SDHC UHS-I U3 32 GB Class 1...</td>\n",
       "      <td>[1.0, 0.9999996423721313, 0.9999996423721313, ...</td>\n",
       "      <td>0</td>\n",
       "    </tr>\n",
       "    <tr>\n",
       "      <th>264</th>\n",
       "      <td>\"AMD - Ryzen 5 1600 3.2GHz 6-Core Processor\" ...</td>\n",
       "      <td>[ \"AMD - Ryzen 5 1600 3.2GHz 6-Core Processor\"...</td>\n",
       "      <td>[ \"AMD - Ryzen 5 1600 3.2GHz 6-Core Processor\"...</td>\n",
       "      <td>[0.9649631977081299, 0.9649630784988403, 0.951...</td>\n",
       "      <td>1</td>\n",
       "    </tr>\n",
       "    <tr>\n",
       "      <th>1210</th>\n",
       "      <td>\"Western Digital Red 1TB SATA3 64MB Cache 3.5...</td>\n",
       "      <td>[ \"Western Digital WD10EFRX 1TB SATA Desktop R...</td>\n",
       "      <td>[ \"Western Digital WD10EFRX 1TB SATA Desktop R...</td>\n",
       "      <td>[0.8394665122032166, 0.837192177772522, 0.8240...</td>\n",
       "      <td>1</td>\n",
       "    </tr>\n",
       "    <tr>\n",
       "      <th>1158</th>\n",
       "      <td>\"TP-Link 5-Port Gigabit Ethernet Desktop Swit...</td>\n",
       "      <td>[ \"TP-Link TL-SG1005D\"]</td>\n",
       "      <td>[ \"TP-Link 5-Port Gigabit Ethernet Desktop Swi...</td>\n",
       "      <td>[1.0000003576278687, 0.8421689867973328, 0.840...</td>\n",
       "      <td>0</td>\n",
       "    </tr>\n",
       "    <tr>\n",
       "      <th>91</th>\n",
       "      <td>\"310590-001 HP ProLiant ML370 3.06GHz\", \"Null...</td>\n",
       "      <td>[ \"310590-001 ML370T G3 Xeon 3.06GHz 512k\", \"N...</td>\n",
       "      <td>[ \"310590-001 ML370T G3 Xeon 3.06GHz 512k\", \"N...</td>\n",
       "      <td>[0.829503059387207, 0.8295028805732727, 0.8077...</td>\n",
       "      <td>1</td>\n",
       "    </tr>\n",
       "    <tr>\n",
       "      <th>926</th>\n",
       "      <td>\"Kingston KTH-ZD8000C6/2G - Prijzen \"@NL Twea...</td>\n",
       "      <td>[ \"Nanya/Kingston KTH-ZD8000C6/2G BJE 2GB 200p...</td>\n",
       "      <td>[ \"Kingston ValueRAM KVR13N9S8HK2/8 - Prijzen ...</td>\n",
       "      <td>[0.8074139952659607, 0.8074139952659607, 0.807...</td>\n",
       "      <td>0</td>\n",
       "    </tr>\n",
       "    <tr>\n",
       "      <th>563</th>\n",
       "      <td>\"Corsair CMU16GX4M2C3000C15\"@es</td>\n",
       "      <td>[ \"Corsair - Vengeance LED 16GB (2 x 8GB) DDR4...</td>\n",
       "      <td>[ \"Corsair CMU16GX4M2C3000C15\"@es,  \"Corsair C...</td>\n",
       "      <td>[0.9999995827674866, 0.9999995827674866, 0.969...</td>\n",
       "      <td>0</td>\n",
       "    </tr>\n",
       "    <tr>\n",
       "      <th>830</th>\n",
       "      <td>\"Intel - Core i5-4590 3.3GHz Quad-Core Proces...</td>\n",
       "      <td>[ \"Intel Core i5-4590 Boxed - Prijzen \"@NL Twe...</td>\n",
       "      <td>[ \"Intel - Core i5-4590 3.3GHz Quad-Core Proce...</td>\n",
       "      <td>[0.9999996423721313, 0.9999996423721313, 0.999...</td>\n",
       "      <td>0</td>\n",
       "    </tr>\n",
       "    <tr>\n",
       "      <th>1037</th>\n",
       "      <td>\"SDSDQM-016G-B35\"@en \"SDSDQM-016G-B35-NR | NE...</td>\n",
       "      <td>[ \"TARJETA MEMORIA SANDISK MICRO SECURE DIGITAL\"]</td>\n",
       "      <td>[ \"SDSDB-016G-B35\"@en \"SDSDB-016G-B35-NR | NET...</td>\n",
       "      <td>[0.9315601587295532, 0.8893904685974121, 0.843...</td>\n",
       "      <td>0</td>\n",
       "    </tr>\n",
       "    <tr>\n",
       "      <th>939</th>\n",
       "      <td>\"Lenovo 1TB ThinkServer Gen 5 SATA 6Gb s 7.2K...</td>\n",
       "      <td>[ \"Lenovo 1TB ThinkServer Gen 5 SATA 6Gb s 7.2...</td>\n",
       "      <td>[ \"Lenovo 1TB ThinkServer Gen 5 SATA 6Gb s 7.2...</td>\n",
       "      <td>[0.9306123852729797, 0.7912979125976562, 0.791...</td>\n",
       "      <td>1</td>\n",
       "    </tr>\n",
       "    <tr>\n",
       "      <th>543</th>\n",
       "      <td>\"Corsair 4GB DDR3 1066MHz PC3-8500 SODIMM Mem...</td>\n",
       "      <td>[ \"Corsair Memory 4GB DDR3 SO-DIMM PC3-8500 (1...</td>\n",
       "      <td>[ \"Corsair 4GB DDR3 1066MHz PC3-8500 SODIMM Me...</td>\n",
       "      <td>[0.9999998211860657, 0.9999998211860657, 0.999...</td>\n",
       "      <td>0</td>\n",
       "    </tr>\n",
       "    <tr>\n",
       "      <th>1089</th>\n",
       "      <td>\"Sandisk Cruzer Ultra 32GB USB 3.0\"@es 3.0 \"@es</td>\n",
       "      <td>[ \"Sandisk Ultra USB 3.0 Flash Drive 32GB Zwar...</td>\n",
       "      <td>[ \"SanDisk Ultra Pendrive 32GB USB 3.0\"@es,  \"...</td>\n",
       "      <td>[0.8910647630691528, 0.7417523860931396, 0.741...</td>\n",
       "      <td>0</td>\n",
       "    </tr>\n",
       "    <tr>\n",
       "      <th>358</th>\n",
       "      <td>\"AmazonBasics 13.3-Inch Laptop Sleeve - Black...</td>\n",
       "      <td>[ \"AmazonBasics 13.3-Inch Laptop Sleeve - Blac...</td>\n",
       "      <td>[ \"AmazonBasics 13.3-Inch Laptop Sleeve - Blac...</td>\n",
       "      <td>[1.0000001192092896, 1.0000001192092896, 0.999...</td>\n",
       "      <td>0</td>\n",
       "    </tr>\n",
       "    <tr>\n",
       "      <th>710</th>\n",
       "      <td>\"Gigabyte GeForce GTX 1070 WINDFORCE OC graph...</td>\n",
       "      <td>[ \"Gigabyte NVIDIA GeForce GTX 1070 WINDFORCE ...</td>\n",
       "      <td>[ \"Gigabyte GeForce GTX 1070 WINDFORCE OC grap...</td>\n",
       "      <td>[0.999999463558197, 0.999999463558197, 0.99999...</td>\n",
       "      <td>0</td>\n",
       "    </tr>\n",
       "    <tr>\n",
       "      <th>912</th>\n",
       "      <td>\"Kingston DataTraveler microDuo 3C 32GB Zilve...</td>\n",
       "      <td>[ \"kingston technology gmbh\"@en \"LambdaTek|USB...</td>\n",
       "      <td>[ \"Kingston DataTraveler microDuo 3C 32GB Zilv...</td>\n",
       "      <td>[0.9999998807907104, 0.8944663405418396, 0.830...</td>\n",
       "      <td>0</td>\n",
       "    </tr>\n",
       "    <tr>\n",
       "      <th>197</th>\n",
       "      <td>\"508429-001 HP 400-GB 10K 3.5 DP NHP SAS 10 P...</td>\n",
       "      <td>[ \"508429-001 HP 400-GB 10K 3.5 DP NHP SAS HDD...</td>\n",
       "      <td>[ \"508429-001 HP 400-GB 10K 3.5 DP NHP SAS 5 P...</td>\n",
       "      <td>[0.983502984046936, 0.8989662528038025, 0.8958...</td>\n",
       "      <td>1</td>\n",
       "    </tr>\n",
       "    <tr>\n",
       "      <th>139</th>\n",
       "      <td>\"3R-A3851-AA HP 72.8-GB U320 SCSI 15K\", \"Null...</td>\n",
       "      <td>[ \"3R-A3851-AA HP 72.8-GB U320 SCSI 15K\", \"Nul...</td>\n",
       "      <td>[ \"3R-A3851-AA HP 72.8-GB U320 SCSI 15K\", \"Nul...</td>\n",
       "      <td>[1.0000003576278687, 0.9890497326850891, 0.988...</td>\n",
       "      <td>1</td>\n",
       "    </tr>\n",
       "    <tr>\n",
       "      <th>504</th>\n",
       "      <td>\"CPB-NEW-500GB 6G SATA 7.2K RPM LFF\" \" CPB-NE...</td>\n",
       "      <td>[ \"HP, 658071-B21, 500GB 6G SATA 7.2K rpm LFF\"...</td>\n",
       "      <td>[ \"HP 500GB SATA 7200 RPM 6G 3.5in LFF Hard Dr...</td>\n",
       "      <td>[0.6968419551849365, 0.689390242099762, 0.6893...</td>\n",
       "      <td>1</td>\n",
       "    </tr>\n",
       "    <tr>\n",
       "      <th>1116</th>\n",
       "      <td>\"Seagate Nearline 1TB Enterprise/NAS Internal...</td>\n",
       "      <td>[ \"ST1000NM0033 Seagate 1-TB 7.2K 3.5 6G SP SA...</td>\n",
       "      <td>[ \"Seagate Nearline 1TB Enterprise/NAS Interna...</td>\n",
       "      <td>[0.9999998211860657, 0.8879160284996033, 0.887...</td>\n",
       "      <td>0</td>\n",
       "    </tr>\n",
       "    <tr>\n",
       "      <th>661</th>\n",
       "      <td>\"Epson - WorkForce WF-100 Mobile Wireless Pri...</td>\n",
       "      <td>[ \"Epson WorkForce WF-100 - printer color ink-...</td>\n",
       "      <td>[ \"WorkForce WF-100 Wireless Mobile Printer\"@e...</td>\n",
       "      <td>[0.8575170040130615, 0.8575170040130615, 0.679...</td>\n",
       "      <td>1</td>\n",
       "    </tr>\n",
       "    <tr>\n",
       "      <th>222</th>\n",
       "      <td>\"643778-B21 HP Xeon E78867 2.13GHz BL680c G7 ...</td>\n",
       "      <td>[ \"643778-B21 HP Xeon E78867 2.13GHz BL680c G7...</td>\n",
       "      <td>[ \"643778-B21 HP Xeon E78867 2.13GHz BL680c G7...</td>\n",
       "      <td>[1.0000001192092896, 1.0000001192092896, 1.000...</td>\n",
       "      <td>0</td>\n",
       "    </tr>\n",
       "    <tr>\n",
       "      <th>596</th>\n",
       "      <td>\"Corsair Vengeance Blue CMZ4GX3M1A1600C9 4GB ...</td>\n",
       "      <td>[ \" Corsair Vengeance memory - 4 GB DIMM 240-p...</td>\n",
       "      <td>[ \"Corsair Vengeance Blue CMZ4GX3M1A1600C9 4GB...</td>\n",
       "      <td>[0.9999998807907104, 0.9999998807907104, 0.901...</td>\n",
       "      <td>0</td>\n",
       "    </tr>\n",
       "    <tr>\n",
       "      <th>241</th>\n",
       "      <td>\"750GB CRUCIAL MX300 2.5 7MMN SSD\" SSD | Trad...</td>\n",
       "      <td>[ \"Buy Online | Crucial MX300 750GB SATA 2.5″ ...</td>\n",
       "      <td>[ \"Crucial MX300 750GB SSD SATA 6Gbps 3D Nand ...</td>\n",
       "      <td>[0.8289780020713806, 0.8289780020713806, 0.755...</td>\n",
       "      <td>0</td>\n",
       "    </tr>\n",
       "    <tr>\n",
       "      <th>396</th>\n",
       "      <td>\"Apple Mac mini 2.8GHz Intel Core i5\"@es i5-4...</td>\n",
       "      <td>[ \"MAC MINI I5 8/1TBFD IRIS GRAPHIC\" GRAPHIC |...</td>\n",
       "      <td>[ \"Apple Mac mini 2.8GHz Intel Core i5\"@es i5-...</td>\n",
       "      <td>[1.0, 1.0, 0.9999999403953552, 0.8638935089111...</td>\n",
       "      <td>0</td>\n",
       "    </tr>\n",
       "    <tr>\n",
       "      <th>782</th>\n",
       "      <td>\"HP Power Bank para ordenadores portátiles\"@e...</td>\n",
       "      <td>[ \"HP Power Bank para ordenadores portátiles\"@...</td>\n",
       "      <td>[ \"HP Power Bank para ordenadores portátiles\"@...</td>\n",
       "      <td>[0.9999999403953552, 0.9999999403953552, 0.901...</td>\n",
       "      <td>1</td>\n",
       "    </tr>\n",
       "    <tr>\n",
       "      <th>735</th>\n",
       "      <td>\"HP 15,6-inch (39,62-cm) Spectrum Sleeve (Lad...</td>\n",
       "      <td>[ \"HP 15.6 Valentine fodral\"@sv fodral - HP St...</td>\n",
       "      <td>[ \"HP 15,6-inch (39,62-cm) Spectrum Sleeve (La...</td>\n",
       "      <td>[0.9999997615814209, 0.943619430065155, 0.9436...</td>\n",
       "      <td>0</td>\n",
       "    </tr>\n",
       "    <tr>\n",
       "      <th>298</th>\n",
       "      <td>\"AMD Processor, Ryzen 3 QC 1200 3.1GHz 3.4GHz...</td>\n",
       "      <td>[ \"AMD Ryzen 3 1200 3.1GHz Quad Core (Socket A...</td>\n",
       "      <td>[ \"AMD Processor, Ryzen 3 QC 1200 3.1GHz 3.4GH...</td>\n",
       "      <td>[0.9999998807907104, 0.9999998807907104, 0.967...</td>\n",
       "      <td>0</td>\n",
       "    </tr>\n",
       "    <tr>\n",
       "      <th>67</th>\n",
       "      <td>\"271837-004 HP 72.8-GB U320 SCSI 10K\", \"Null\"...</td>\n",
       "      <td>[ \"271837-004 - HP 72.8Gb Ultra320 SCSI Univer...</td>\n",
       "      <td>[ \"271837-004 HP 72.8-GB U320 SCSI 10K\", \"Null...</td>\n",
       "      <td>[0.9808828830718994, 0.978926420211792, 0.9561...</td>\n",
       "      <td>0</td>\n",
       "    </tr>\n",
       "    <tr>\n",
       "      <th>266</th>\n",
       "      <td>\"AMD 16 Core Ryzen Threadripper 1950X Unlocke...</td>\n",
       "      <td>[ \"AMD Processor, AMD 16C Ryzen Threadripper 1...</td>\n",
       "      <td>[ \"AMD Ryzen Threadripper 1950X 16-Core Proces...</td>\n",
       "      <td>[0.811448872089386, 0.8011453151702881, 0.8011...</td>\n",
       "      <td>0</td>\n",
       "    </tr>\n",
       "    <tr>\n",
       "      <th>359</th>\n",
       "      <td>\"Antec P380 Full Tower PC Case\"@en-GB Case | ...</td>\n",
       "      <td>[ \"Antec P380 Performance Series Windowed Towe...</td>\n",
       "      <td>[ \"Antec P380 Full Tower PC Case\"@en-GB Case |...</td>\n",
       "      <td>[1.0000001192092896, 0.782957911491394, 0.6910...</td>\n",
       "      <td>0</td>\n",
       "    </tr>\n",
       "    <tr>\n",
       "      <th>356</th>\n",
       "      <td>\"AmazonBasics 13.3-Inch Laptop Sleeve - Black...</td>\n",
       "      <td>[ \"AmazonBasics 13.3-Inch Laptop Sleeve - Blac...</td>\n",
       "      <td>[ \"AmazonBasics 13.3-Inch Laptop Sleeve - Blac...</td>\n",
       "      <td>[1.0, 0.8577690720558167, 0.8577690720558167, ...</td>\n",
       "      <td>1</td>\n",
       "    </tr>\n",
       "    <tr>\n",
       "      <th>343</th>\n",
       "      <td>\"Acer KA KA240H 24\" Full HD TN Negro pantalla...</td>\n",
       "      <td>[ \"Acer KA KA240H 24\" Full HD TN Negro pantall...</td>\n",
       "      <td>[ \"Acer KA KA240H 24\" Full HD TN Negro pantall...</td>\n",
       "      <td>[0.8170199394226074, 0.7430380582809448, 0.691...</td>\n",
       "      <td>1</td>\n",
       "    </tr>\n",
       "    <tr>\n",
       "      <th>90</th>\n",
       "      <td>\"310590-001 HP ProLiant ML370 3.06GHz\" \"Null\"</td>\n",
       "      <td>[ \"310590-001 ML370T G3 Xeon 3.06GHz 512k\", \"N...</td>\n",
       "      <td>[ \"Null\" \"462711-B21 HP X5450 3.0GHz ML370 G5\"...</td>\n",
       "      <td>[0.8414669632911682, 0.8414669632911682, 0.841...</td>\n",
       "      <td>0</td>\n",
       "    </tr>\n",
       "    <tr>\n",
       "      <th>1125</th>\n",
       "      <td>\"Star Tech 4-PORT Pci 1394A Fire Wire Adapter...</td>\n",
       "      <td>[ \"Startech PCI1394MP Texas Instruments (TI) C...</td>\n",
       "      <td>[ \"StarTech.com PCI1394_4 Internal IEEE 1394/F...</td>\n",
       "      <td>[0.8308697938919067, 0.8308697938919067, 0.830...</td>\n",
       "      <td>1</td>\n",
       "    </tr>\n",
       "    <tr>\n",
       "      <th>1131</th>\n",
       "      <td>\"StarTech.com 2-Port USB Dual DisplayPort KVM...</td>\n",
       "      <td>[ \"STARTECH.COM SV231DPDDUA 2 Port Dual Displa...</td>\n",
       "      <td>[ \"StarTech.com 2-Port USB Dual DisplayPort KV...</td>\n",
       "      <td>[1.0000003576278687, 1.0000003576278687, 1.000...</td>\n",
       "      <td>1</td>\n",
       "    </tr>\n",
       "    <tr>\n",
       "      <th>366</th>\n",
       "      <td>\"Apple - 12.9-Inch iPad Pro (Latest Model) wi...</td>\n",
       "      <td>[ \" Apple 12.9-inch iPad Pro Wi-Fi 256GB - Sil...</td>\n",
       "      <td>[ \"Apple - 12.9-Inch iPad Pro (Latest Model) w...</td>\n",
       "      <td>[1.0, 0.9589716792106628, 0.9589716792106628, ...</td>\n",
       "      <td>1</td>\n",
       "    </tr>\n",
       "    <tr>\n",
       "      <th>27</th>\n",
       "      <td>\"**B Grade** Intel Core i5-3570 3.40GHz (Ivyb...</td>\n",
       "      <td>[ \"Intel Core i5-3570\" \"Comprar Intel i5-3570 ...</td>\n",
       "      <td>[ \"**B Grade** Intel Core i5-3570 3.40GHz (Ivy...</td>\n",
       "      <td>[0.9999997019767761, 0.9999997019767761, 0.999...</td>\n",
       "      <td>0</td>\n",
       "    </tr>\n",
       "    <tr>\n",
       "      <th>1207</th>\n",
       "      <td>\"WD Red 6TB WD60EFRX\"@es</td>\n",
       "      <td>[ \"Western Digital Red 6 TB Internal HDD\" \" We...</td>\n",
       "      <td>[ \"WD Red 6TB WD60EFRX\"@es,  \"WD Red 2TB WD20E...</td>\n",
       "      <td>[0.9999997615814209, 0.8070961833000183, 0.729...</td>\n",
       "      <td>0</td>\n",
       "    </tr>\n",
       "    <tr>\n",
       "      <th>5</th>\n",
       "      <td>\" Apple Smart Keyboard for 12.9-inch iPad Pro...</td>\n",
       "      <td>[ \"Apple - Smart Keyboard for 12.9 Inch iPad P...</td>\n",
       "      <td>[ \" Apple Smart Keyboard for 12.9-inch iPad Pr...</td>\n",
       "      <td>[1.0000001192092896, 1.0000001192092896, 1.000...</td>\n",
       "      <td>1</td>\n",
       "    </tr>\n",
       "    <tr>\n",
       "      <th>1006</th>\n",
       "      <td>\"Null\" \"175924-001 HP 256MB DDR SDRAM Memory\"</td>\n",
       "      <td>[ \"175924-001 HP 256MB DDR SDRAM Memory\", \"Nul...</td>\n",
       "      <td>[ \"Null\" \"175924-001 HP 256MB DDR SDRAM Memory...</td>\n",
       "      <td>[0.9999998211860657, 0.9999998211860657, 0.886...</td>\n",
       "      <td>1</td>\n",
       "    </tr>\n",
       "    <tr>\n",
       "      <th>1041</th>\n",
       "      <td>\"ST2000NM0011 Seagate 2-TB 7.2K 3.5 6G SP SAT...</td>\n",
       "      <td>[ \"ST2000NM0011 Seagate 2-TB 7.2K 3.5 6G SP SA...</td>\n",
       "      <td>[ \"ST2000NM0011 Seagate 2-TB 7.2K 3.5 6G SP SA...</td>\n",
       "      <td>[1.0000004768371582, 0.9950850605964661, 0.976...</td>\n",
       "      <td>1</td>\n",
       "    </tr>\n",
       "    <tr>\n",
       "      <th>299</th>\n",
       "      <td>\"AMD Processor, Ryzen 3 QC 1300X 3.5GHz 3.7GH...</td>\n",
       "      <td>[ \"AMD Ryzen 3 Quad Core 1300X 3.70GHz (Socket...</td>\n",
       "      <td>[ \"AMD Processor, Ryzen 3 QC 1300X 3.5GHz 3.7G...</td>\n",
       "      <td>[1.0000001192092896, 1.0000001192092896, 1.000...</td>\n",
       "      <td>0</td>\n",
       "    </tr>\n",
       "    <tr>\n",
       "      <th>843</th>\n",
       "      <td>\"Intel Core i3 4150 / 3.5 GHz processor\" \" In...</td>\n",
       "      <td>[ \"Intel Core i3-4150 Boxed - Prijzen \"@NL Twe...</td>\n",
       "      <td>[ \"Intel Core i3 4150 / 3.5 GHz processor\" \" I...</td>\n",
       "      <td>[0.9999997615814209, 0.9999997615814209, 0.999...</td>\n",
       "      <td>0</td>\n",
       "    </tr>\n",
       "    <tr>\n",
       "      <th>764</th>\n",
       "      <td>\"HP LaserJet Pro M102w monochrome ($159-$40 s...</td>\n",
       "      <td>[ \"Imprimante HP LaserJet Pro M102w\"@fr \"HP Im...</td>\n",
       "      <td>[ \"HP LaserJet Pro M102w monochrome ($159-$40 ...</td>\n",
       "      <td>[1.0000004768371582, 0.9972297549247742, 0.997...</td>\n",
       "      <td>1</td>\n",
       "    </tr>\n",
       "    <tr>\n",
       "      <th>1095</th>\n",
       "      <td>\"Sapphire Pulse Radeon RX 580, 4GB GDDR5\" 580</td>\n",
       "      <td>[ \"Sapphire Pulse Radeon RX 580 4GD5 (11265-09...</td>\n",
       "      <td>[ \"Sapphire Pulse Radeon RX 580 4GD5 (11265-09...</td>\n",
       "      <td>[0.8185408711433411, 0.778628945350647, 0.7786...</td>\n",
       "      <td>1</td>\n",
       "    </tr>\n",
       "    <tr>\n",
       "      <th>634</th>\n",
       "      <td>\"DG0300BAHZQ HP 300-GB 3G 10K 2.5 DP SAS HDD\"</td>\n",
       "      <td>[ \"DG0300BAHZQ HP 300-GB 3G 10K 2.5 DP SAS HDD...</td>\n",
       "      <td>[ \"DG0300BAHZQ HP 300-GB 3G 10K 2.5 DP SAS HDD...</td>\n",
       "      <td>[1.0, 1.0, 1.0, 1.0, 1.0, 0.9601035714149475, ...</td>\n",
       "      <td>1</td>\n",
       "    </tr>\n",
       "    <tr>\n",
       "      <th>858</th>\n",
       "      <td>\"Intel Core i5-7600K 3.80GHz (Kaby Lake) Sock...</td>\n",
       "      <td>[ \"S1151 Core I5-7600K (4Core, 3.8Ghz, 6Mb, GT...</td>\n",
       "      <td>[ \"Intel Core i5-7600K 3.80GHz (Kaby Lake) Soc...</td>\n",
       "      <td>[1.0000001192092896, 0.9825349450111389, 0.982...</td>\n",
       "      <td>0</td>\n",
       "    </tr>\n",
       "    <tr>\n",
       "      <th>1080</th>\n",
       "      <td>\"SanDisk Cruzer Fit 16GB USB\" \"Comprar SanDis...</td>\n",
       "      <td>[ \"SanDisk Cruzer Fit 16GB USB\" \"Comprar SanDi...</td>\n",
       "      <td>[ \"SanDisk Cruzer Fit 16GB USB\" \"Comprar SanDi...</td>\n",
       "      <td>[0.9782514572143555, 0.9782514572143555, 0.757...</td>\n",
       "      <td>1</td>\n",
       "    </tr>\n",
       "    <tr>\n",
       "      <th>1078</th>\n",
       "      <td>\"SanDisk 32GB Ultra microSD High Capacity UHS...</td>\n",
       "      <td>[ \"TARJETA MEMORIA SANDISK MICRO SECURE DIGITAL\"]</td>\n",
       "      <td>[ \"SanDisk 32GB Ultra microSD High Capacity UH...</td>\n",
       "      <td>[0.9999997019767761, 0.8493242859840393, 0.769...</td>\n",
       "      <td>0</td>\n",
       "    </tr>\n",
       "    <tr>\n",
       "      <th>616</th>\n",
       "      <td>\"Crucial - DDR3L 4 GB SO-DIMM 204-pin\" \" Cruc...</td>\n",
       "      <td>[ \" Crucial - DDR3L 4 GB SO-DIMM 204-pin \"@en,...</td>\n",
       "      <td>[ \"Crucial - DDR3L 4 GB SO-DIMM 204-pin\" \" Cru...</td>\n",
       "      <td>[1.0000001192092896, 1.0, 0.9974462389945984, ...</td>\n",
       "      <td>0</td>\n",
       "    </tr>\n",
       "    <tr>\n",
       "      <th>421</th>\n",
       "      <td>\"Apple iPad Mini 4 128GB, WiFi, Silver\"@en Wi...</td>\n",
       "      <td>[ \"Apple iPad mini 4 Wi-Fi - tablet 128 GB 7.9...</td>\n",
       "      <td>[ \"Apple iPad Mini 4 128GB, WiFi, Silver\"@en W...</td>\n",
       "      <td>[1.0000003576278687, 0.9155240654945374, 0.915...</td>\n",
       "      <td>0</td>\n",
       "    </tr>\n",
       "    <tr>\n",
       "      <th>1148</th>\n",
       "      <td>\"TARJETA MEMORIA MICRO SECURE DIGITAL SDXC 64...</td>\n",
       "      <td>[ \"Transcend Premium Micro SDXC Class 10 UHSI ...</td>\n",
       "      <td>[ \"Transcend Premium Micro SDXC Class 10 UHSI ...</td>\n",
       "      <td>[0.8069539666175842, 0.7731042504310608, 0.773...</td>\n",
       "      <td>1</td>\n",
       "    </tr>\n",
       "    <tr>\n",
       "      <th>412</th>\n",
       "      <td>\"Apple Smart Cover iPad Pro 2017 10.5 Roze - ...</td>\n",
       "      <td>[ \"Apple Smart flip cover for tablet\" \" Apple ...</td>\n",
       "      <td>[ \"Apple Smart Cover iPad Pro 2017 10.5 Roze -...</td>\n",
       "      <td>[0.9999998807907104, 0.9999998807907104, 0.999...</td>\n",
       "      <td>0</td>\n",
       "    </tr>\n",
       "    <tr>\n",
       "      <th>263</th>\n",
       "      <td>\"AMD - FX-6300 3.5GHz 6-Core Processor\" Proce...</td>\n",
       "      <td>[ \"AMD - FX-6300 3.5GHz 6-Core Processor\" Proc...</td>\n",
       "      <td>[ \"AMD - FX-6300 3.5GHz 6-Core Processor\" Proc...</td>\n",
       "      <td>[1.000000238418579, 1.000000238418579, 1.00000...</td>\n",
       "      <td>1</td>\n",
       "    </tr>\n",
       "    <tr>\n",
       "      <th>988</th>\n",
       "      <td>\"Multilayer 6-Port 1000BASE-SX Switch + 2 GBI...</td>\n",
       "      <td>[ \"Multilayer 6-Port 1000BASE-SX Switch + 2 GB...</td>\n",
       "      <td>[ \"Multilayer 6-Port 1000BASE-SX Switch + 2 GB...</td>\n",
       "      <td>[0.9999998211860657, 0.9999998211860657, 0.893...</td>\n",
       "      <td>1</td>\n",
       "    </tr>\n",
       "    <tr>\n",
       "      <th>614</th>\n",
       "      <td>\"Crucial - 8GB (1 x 8GB) DDR4-2133 Memory\" Me...</td>\n",
       "      <td>[ \"Crucial 8GB PC4-17000 288-pin DDR4 SDRAM UD...</td>\n",
       "      <td>[ \"Corsair - Vengeance 4GB (1 x 4GB) DDR3-1600...</td>\n",
       "      <td>[0.8530141711235046, 0.8530141711235046, 0.852...</td>\n",
       "      <td>0</td>\n",
       "    </tr>\n",
       "    <tr>\n",
       "      <th>678</th>\n",
       "      <td>\"Gigabyte - GA-B250M-D3H Micro ATX LGA1151 Mo...</td>\n",
       "      <td>[ \"Gigabyte - GA-B250M-D3H Micro ATX LGA1151 M...</td>\n",
       "      <td>[ \"Gigabyte - GA-B250M-D3H Micro ATX LGA1151 M...</td>\n",
       "      <td>[1.000000238418579, 1.0000001192092896, 0.9578...</td>\n",
       "      <td>1</td>\n",
       "    </tr>\n",
       "    <tr>\n",
       "      <th>493</th>\n",
       "      <td>\"Buy Online | Intel BOXNUC5i5RYH Core i5 NUC ...</td>\n",
       "      <td>[ \"Intel NUC5i5RYH\"]</td>\n",
       "      <td>[ \"Buy Online | Asus AMD M5A99FX PRO R2.0 Moth...</td>\n",
       "      <td>[0.7459675669670105, 0.7459675669670105, 0.745...</td>\n",
       "      <td>0</td>\n",
       "    </tr>\n",
       "    <tr>\n",
       "      <th>848</th>\n",
       "      <td>\"Intel Core i3-4340 3.60GHz (Haswell) Socket ...</td>\n",
       "      <td>[ \"Intel Core i3-4340 Boxed - Prijzen \"@NL Twe...</td>\n",
       "      <td>[ \"Intel Core i3-4340 3.60GHz (Haswell) Socket...</td>\n",
       "      <td>[0.9999997019767761, 0.9999996423721313, 0.999...</td>\n",
       "      <td>0</td>\n",
       "    </tr>\n",
       "    <tr>\n",
       "      <th>835</th>\n",
       "      <td>\"Intel - Core i7-7700K 4.2GHz Quad-Core Proce...</td>\n",
       "      <td>[ \"Intel Core i7 7700K 4.2GHz Quad (Socket 115...</td>\n",
       "      <td>[ \"Intel - Core i5-7600K 3.8GHz Quad-Core Proc...</td>\n",
       "      <td>[0.9620704650878906, 0.8813905715942383, 0.881...</td>\n",
       "      <td>0</td>\n",
       "    </tr>\n",
       "    <tr>\n",
       "      <th>79</th>\n",
       "      <td>\"3.5 pouces - 20.2mm IronWolf 1To 5900T/min 6...</td>\n",
       "      <td>[ \"Seagate IronWolf ST1000VN002 - hard drive 1...</td>\n",
       "      <td>[ \"3.5 pouces - 20.2mm IronWolf 1To 5900T/min ...</td>\n",
       "      <td>[1.0000007152557373, 0.958629846572876, 0.8957...</td>\n",
       "      <td>0</td>\n",
       "    </tr>\n",
       "    <tr>\n",
       "      <th>572</th>\n",
       "      <td>\"Corsair Carbide Quiet 400Q\"@es</td>\n",
       "      <td>[ \"Corsair Cardbide Quiet 400Q USB 3.0\"@es 3.0...</td>\n",
       "      <td>[ \"Corsair Carbide Quiet 400Q\"@es,  \"Corsair C...</td>\n",
       "      <td>[1.000000238418579, 0.9068223237991333, 0.9068...</td>\n",
       "      <td>0</td>\n",
       "    </tr>\n",
       "    <tr>\n",
       "      <th>221</th>\n",
       "      <td>\"643774-B21 HP Xeon E74820 2.0GHz BL680c G7\" ...</td>\n",
       "      <td>[ \"643774-B21 HP Xeon E74820 2.0GHz BL680c G7\"...</td>\n",
       "      <td>[ \"643774-B21 HP Xeon E74820 2.0GHz BL680c G7\"...</td>\n",
       "      <td>[1.0, 1.0, 1.0, 1.0, 1.0, 0.9896754622459412, ...</td>\n",
       "      <td>0</td>\n",
       "    </tr>\n",
       "    <tr>\n",
       "      <th>399</th>\n",
       "      <td>\"Apple MacBook Air 11.6\" Core i5 128 GB Flash...</td>\n",
       "      <td>[ \"Apple MacBook Air MJVM2LL/A 11.6-Inch lapto...</td>\n",
       "      <td>[ \"Apple MacBook Air 11.6\" Core i5 128 GB Flas...</td>\n",
       "      <td>[1.000000238418579, 0.81659334897995, 0.798586...</td>\n",
       "      <td>0</td>\n",
       "    </tr>\n",
       "    <tr>\n",
       "      <th>178</th>\n",
       "      <td>\"493083-001 HP 300-GB 3G 10K 2.5 DP SAS HDD\" ...</td>\n",
       "      <td>[ \"493083-001 HP 300-GB 3G 10K 2.5 DP SAS HDD\"...</td>\n",
       "      <td>[ \"493083-001 HP 300-GB 3G 10K 2.5 DP SAS HDD\"...</td>\n",
       "      <td>[0.9920694828033447, 0.9920694828033447, 0.873...</td>\n",
       "      <td>1</td>\n",
       "    </tr>\n",
       "    <tr>\n",
       "      <th>534</th>\n",
       "      <td>\"Corsair 256GB Flash Voyager Slider X2 USB 3....</td>\n",
       "      <td>[ \"USB 3.0 Flash Drive with Capless retractabl...</td>\n",
       "      <td>[ \"Corsair Flash Voyager Slider X2 256 GB USB ...</td>\n",
       "      <td>[0.918904721736908, 0.9089794158935547, 0.9077...</td>\n",
       "      <td>0</td>\n",
       "    </tr>\n",
       "    <tr>\n",
       "      <th>516</th>\n",
       "      <td>\"Corsair - 400R ATX Mid Tower Case\" Case (CC-...</td>\n",
       "      <td>[ \" Corsair Carbide Series 400R Mid Tower ATX ...</td>\n",
       "      <td>[ \"Corsair - 400R ATX Mid Tower Case\" Case (CC...</td>\n",
       "      <td>[0.9999998807907104, 0.9999998807907104, 0.981...</td>\n",
       "      <td>1</td>\n",
       "    </tr>\n",
       "    <tr>\n",
       "      <th>609</th>\n",
       "      <td>\"Corsair Vengeance LPX Black 32GB (2x16GB) DD...</td>\n",
       "      <td>[ \"Corsair Vengeance LPX DDR4 3000 PC4-19200 3...</td>\n",
       "      <td>[ \"Corsair Vengeance LPX Black 32GB (2x16GB) D...</td>\n",
       "      <td>[1.0, 0.9848628044128418, 0.9848628044128418, ...</td>\n",
       "      <td>0</td>\n",
       "    </tr>\n",
       "    <tr>\n",
       "      <th>640</th>\n",
       "      <td>\"DH0072BALWL HP 72-GB 3G 15K 2.5 DP SAS\" \"Null\"</td>\n",
       "      <td>[ \"DH0072BALWL HP 72-GB 3G 15K 2.5 DP SAS HDD\"...</td>\n",
       "      <td>[ \"DH0072BALWL HP 72-GB 3G 15K 2.5 DP SAS\" \"Nu...</td>\n",
       "      <td>[1.0000001192092896, 1.0000001192092896, 1.000...</td>\n",
       "      <td>0</td>\n",
       "    </tr>\n",
       "    <tr>\n",
       "      <th>39</th>\n",
       "      <td>\"127005-031 HP 256MB SDRAM MEMORY\", \"Null\" Pr...</td>\n",
       "      <td>[ \"HP-Samsung 127005-031 ACD 256MB 168p PC133 ...</td>\n",
       "      <td>[ \"175924-001 HP 256MB DDR SDRAM Memory\", \"Nul...</td>\n",
       "      <td>[0.840738832950592, 0.840738832950592, 0.84073...</td>\n",
       "      <td>0</td>\n",
       "    </tr>\n",
       "    <tr>\n",
       "      <th>148</th>\n",
       "      <td>\"430165-003 HP 146-GB 3G 10K 2.5 DP SAS 10 Pa...</td>\n",
       "      <td>[ \"430165-003 HP 146-GB 3G 10K 2.5 DP SAS\", \"N...</td>\n",
       "      <td>[ \"430169-002 HP 72-GB 3G 15K 2.5 DP SAS 5 Pac...</td>\n",
       "      <td>[0.9600699543952942, 0.9600699543952942, 0.943...</td>\n",
       "      <td>0</td>\n",
       "    </tr>\n",
       "    <tr>\n",
       "      <th>322</th>\n",
       "      <td>\"ASUS H170M-E D3 - motherboard micro ATX LGA1...</td>\n",
       "      <td>[ \"PLACA BASE ASUS INTEL H170M-E D3\"]</td>\n",
       "      <td>[ \"ASUS H170M-E D3 - motherboard micro ATX LGA...</td>\n",
       "      <td>[1.0000001192092896, 1.0000001192092896, 1.000...</td>\n",
       "      <td>0</td>\n",
       "    </tr>\n",
       "    <tr>\n",
       "      <th>142</th>\n",
       "      <td>\"408851-B21 HP 2GB (2x1GB) PC2-5300 SDRAM Kit...</td>\n",
       "      <td>[ \"Hewlett Packard Enterprise 2GB PC2-5300 DDR...</td>\n",
       "      <td>[ \"408851-B21 HP 2GB (2x1GB) PC2-5300 SDRAM Ki...</td>\n",
       "      <td>[1.0000001192092896, 1.0000001192092896, 1.000...</td>\n",
       "      <td>0</td>\n",
       "    </tr>\n",
       "    <tr>\n",
       "      <th>172</th>\n",
       "      <td>\"483403-B21 HP 8GB (2x4GB) PC2-5300 LP SDRAM ...</td>\n",
       "      <td>[ \"HP 483403-B21 2BWR 4GBx2 240p PC2-5300 CL5 ...</td>\n",
       "      <td>[ \"483403-B21 HP 8GB (2x4GB) PC2-5300 LP SDRAM...</td>\n",
       "      <td>[1.0, 1.0, 1.0, 1.0, 1.0, 1.0, 0.9606279134750...</td>\n",
       "      <td>0</td>\n",
       "    </tr>\n",
       "    <tr>\n",
       "      <th>989</th>\n",
       "      <td>\"Multilayer 6-Port 1000BASE-SX Switch + 2 GBI...</td>\n",
       "      <td>[ \"Multilayer 6-Port 1000BASE-SX Switch + 2 GB...</td>\n",
       "      <td>[ \"Multilayer 6-Port 1000BASE-SX Switch + 2 GB...</td>\n",
       "      <td>[0.9783622026443481, 0.9783622026443481, 0.895...</td>\n",
       "      <td>1</td>\n",
       "    </tr>\n",
       "    <tr>\n",
       "      <th>1165</th>\n",
       "      <td>\"TRENDnet AC1900 Dual Band Wireless Router Hi...</td>\n",
       "      <td>[ \"Trendnet AC1900 (TEW-818DRU) - Prijzen \"@NL...</td>\n",
       "      <td>[ \"TRENDnet TEW-818DRU - wireless router 802.1...</td>\n",
       "      <td>[0.7041182518005371, 0.6998558044433594, 0.653...</td>\n",
       "      <td>1</td>\n",
       "    </tr>\n",
       "    <tr>\n",
       "      <th>127</th>\n",
       "      <td>\"364622-B23 HP 300-GB 10K FC-AL HDD\", \"Null\" ...</td>\n",
       "      <td>[ \"364622-B23 HP 300-GB 10K FC-AL\", \"Null\" \"Ne...</td>\n",
       "      <td>[ \"364622-B23 HP 300-GB 10K FC-AL HDD\", \"Null\"...</td>\n",
       "      <td>[0.9999999403953552, 0.9999999403953552, 0.999...</td>\n",
       "      <td>0</td>\n",
       "    </tr>\n",
       "    <tr>\n",
       "      <th>1017</th>\n",
       "      <td>\"Null\" \"77000455 AccelePort PCI XEM Host Adap...</td>\n",
       "      <td>[ \"AccelePort Xem\" \"Digi 77000455 - Great Pric...</td>\n",
       "      <td>[ \"394793-B21 PCI-E GB Server Adapter\" \"Null\",...</td>\n",
       "      <td>[0.6175923347473145, 0.5634890198707581, 0.563...</td>\n",
       "      <td>0</td>\n",
       "    </tr>\n",
       "    <tr>\n",
       "      <th>382</th>\n",
       "      <td>\"Apple 9.7 iPad Pro Wi-Fi + Modem 4G 32GB - R...</td>\n",
       "      <td>[ \"Apple 9.7 iPad Pro Wi-Fi + Modem 4G 32GB - ...</td>\n",
       "      <td>[ \"Apple 9.7 iPad Pro Wi-Fi + Modem 4G 32GB - ...</td>\n",
       "      <td>[0.9822510480880737, 0.9822510480880737, 0.982...</td>\n",
       "      <td>1</td>\n",
       "    </tr>\n",
       "    <tr>\n",
       "      <th>268</th>\n",
       "      <td>\"AMD A10-9700E Boxed - Prijzen \"@NL Tweakers\"@NL</td>\n",
       "      <td>[ \"AMD Quad Core A10 9700E AM4 CPU/Processor w...</td>\n",
       "      <td>[ \"AMD A10-9700E Boxed - Prijzen \"@NL Tweakers...</td>\n",
       "      <td>[1.0, 0.9028446078300476, 0.9023019671440125, ...</td>\n",
       "      <td>0</td>\n",
       "    </tr>\n",
       "    <tr>\n",
       "      <th>529</th>\n",
       "      <td>\"Corsair 16GB DDR4 Dominator 2666MHz LED Memo...</td>\n",
       "      <td>[ \"Corsair Dominator Platinum Series 16GB (2 x...</td>\n",
       "      <td>[ \"Corsair 16GB DDR4 Dominator 2666MHz LED Mem...</td>\n",
       "      <td>[0.9999999403953552, 0.9999999403953552, 0.906...</td>\n",
       "      <td>0</td>\n",
       "    </tr>\n",
       "    <tr>\n",
       "      <th>320</th>\n",
       "      <td>\"ASUS GeForce GTX 750 Ti Overclocked Graphics...</td>\n",
       "      <td>[ \"Asus GeForce GTX 750Ti OC 2048MB GDDR5 PCI-...</td>\n",
       "      <td>[ \"Gigabyte AMD Radeon RX 550 2GB GAMING OC Gr...</td>\n",
       "      <td>[0.8250811100006104, 0.8250811100006104, 0.825...</td>\n",
       "      <td>0</td>\n",
       "    </tr>\n",
       "    <tr>\n",
       "      <th>1038</th>\n",
       "      <td>\"SSD M.2 2280 Western Digital Green 240GB TLC...</td>\n",
       "      <td>[ \"Western Digital\"@en \"LambdaTek|internal sol...</td>\n",
       "      <td>[ \"WD Green PC SSD WDS240G1G0A - solid state d...</td>\n",
       "      <td>[0.7688519954681396, 0.7688519954681396, 0.766...</td>\n",
       "      <td>0</td>\n",
       "    </tr>\n",
       "    <tr>\n",
       "      <th>94</th>\n",
       "      <td>\"32GB DT MICRODUO 3C USB3.1 TIPO C\" C | Tradi...</td>\n",
       "      <td>[ \"YLI Machine Quilting Thread 3000 yd. #001 N...</td>\n",
       "      <td>[ \"64GB DT MICRODUO USB 3.0 MICRO USB\" | Tradi...</td>\n",
       "      <td>[0.8611552715301514, 0.7793342471122742, 0.779...</td>\n",
       "      <td>0</td>\n",
       "    </tr>\n",
       "    <tr>\n",
       "      <th>216</th>\n",
       "      <td>\"631674-B21 HP Smart Array P421/2GB Controlle...</td>\n",
       "      <td>[ \"HPE Smart Array P421/2GB with FBWC - storag...</td>\n",
       "      <td>[ \"631674-B21 HP Smart Array P421/2GB Controll...</td>\n",
       "      <td>[1.000000238418579, 1.000000238418579, 0.98589...</td>\n",
       "      <td>0</td>\n",
       "    </tr>\n",
       "    <tr>\n",
       "      <th>1226</th>\n",
       "      <td>\"case Logic LAPS116K 16\" Sleeve Negro maletin...</td>\n",
       "      <td>[ \"case Logic LAPS116K 16\" Sleeve Negro maleti...</td>\n",
       "      <td>[ \"case Logic LAPS116K 16\" Sleeve Negro maleti...</td>\n",
       "      <td>[0.9677930474281311, 0.8742963671684265, 0.816...</td>\n",
       "      <td>1</td>\n",
       "    </tr>\n",
       "    <tr>\n",
       "      <th>555</th>\n",
       "      <td>\"Corsair Air Series SP120 PWM High Performanc...</td>\n",
       "      <td>[ \"Corsair Air Series SP120 PWM High Performan...</td>\n",
       "      <td>[ \"Corsair Air Series SP120 PWM Quiet Edition ...</td>\n",
       "      <td>[0.9439177513122559, 0.8417352437973022, 0.841...</td>\n",
       "      <td>0</td>\n",
       "    </tr>\n",
       "    <tr>\n",
       "      <th>1149</th>\n",
       "      <td>\"TDK 4x CD-RW Rewritable, 10-pack jewel case\"...</td>\n",
       "      <td>[ \"Verbatim - CD-RW x 1 700 MB storage media\" ...</td>\n",
       "      <td>[ \"Verbatim - CD-RW x 1 700 MB storage media\" ...</td>\n",
       "      <td>[0.5879241824150085, 0.5818527936935425, 0.557...</td>\n",
       "      <td>1</td>\n",
       "    </tr>\n",
       "    <tr>\n",
       "      <th>765</th>\n",
       "      <td>\"HP LaserJet Pro P1102 Laser Printer\"@en</td>\n",
       "      <td>[ \"HP Laserjet Pro P1102 Laser Printer\"@en \"▷ ...</td>\n",
       "      <td>[ \"HP Laserjet Pro P1102 Laser Printer\"@en \"▷ ...</td>\n",
       "      <td>[0.8700803518295288, 0.7566266059875488, 0.729...</td>\n",
       "      <td>1</td>\n",
       "    </tr>\n",
       "    <tr>\n",
       "      <th>150</th>\n",
       "      <td>\"430169-002 HP 72-GB 3G 15K 2.5 DP SAS HDD\" \"...</td>\n",
       "      <td>[ \"430169-002 HP 72-GB 3G 15K 2.5 DP SAS 2 Pac...</td>\n",
       "      <td>[ \"430165-003 HP 146-GB 3G 10K 2.5 DP SAS HDD\"...</td>\n",
       "      <td>[0.9802629947662354, 0.9802629947662354, 0.944...</td>\n",
       "      <td>1</td>\n",
       "    </tr>\n",
       "  </tbody>\n",
       "</table>\n",
       "</div>"
      ],
      "text/plain": [
       "                                             title_left                                        title_right                                   title_right_pred                                              score  score_row\n",
       "344    \"Acer KA KA240H 24\" Full HD TN Negro pantalla...  [ \"Acer KA240H 24\"@en 24inch LED Monitor - 16:...  [ \"Acer KA KA240H 24\" Full HD TN Negro pantall...  [1.0, 0.7894200682640076, 0.7894200682640076, ...          0\n",
       "721    \"Gigaram TS128GCF1000 DFG 128GB 50p CF 1000x ...  [ \"SanDisk SDCFXPS-128G DFC 128GB 50p CF 1066x...  [ \"Gigaram TS32GCF1000 DFE 32GB 50p CF 1000x 1...  [0.9548277854919434, 0.8072405457496643, 0.795...          1\n",
       "414    \"Apple Smart Keyboard for 9.7-inch iPad Pro M...    [ \"Smart Keyboard APPLE para iPad Pro 9.7”\"@es]  [ \"Apple Smart Keyboard for 9.7-inch iPad Pro ...  [1.0000003576278687, 0.8883680701255798, 0.888...          0\n",
       "1051   \"Samsung - 840 EVO 250GB 2.5\" Solid State Dri...  [ \"Samsung 840 Evo (250GB)\"@en Prices - CNET\"@en]  [ \"Samsung - 840 EVO 250GB 2.5\" Solid State Dr...  [0.9999998211860657, 0.9999998211860657, 0.938...          0\n",
       "613    \"Corsair XMS3 8GB (2x4GB) DDR3 PC3-12800 1600...  [ \"Corsair XMS3 8GB (2x4GB) DDR3 PC3-12800C9 1...  [ \"Corsair XMS3 8GB (2x4GB) DDR3 PC3-12800 160...  [0.9999995827674866, 0.9999995827674866, 0.955...          1\n",
       "92               \"323146-B21 BL20p Xeon 3.06GHz\" \"Null\"  [ \"323146-B21 BL20P G2 (1P) Xeon 3.06GHz\", \"Nu...  [ \"323146-B21 BL20p Xeon 3.06GHz\" \"Null\",  \"32...  [0.9999998211860657, 0.9999998211860657, 0.902...          0\n",
       "1170   \"Tp-Link TL-SF1008D 8 Portlu 10/100 Ethernet ...  [ \"TPLINK - SWITCH 8 PUERTOS MINI 10/100\"@es \"...  [ \"TP-Link TL-SF1008D-8-Port 10/100Mbps Deskto...  [0.7975758910179138, 0.7568085789680481, 0.748...          1\n",
       "517    \"Corsair - Air Series SP120 High Performance ...  [ \"Corsair Air Series SP120 High Performance E...  [ \"Corsair - Air Series SP120 High Performance...  [1.0000004768371582, 0.8943998217582703, 0.894...          0\n",
       "704    \"Gigabyte GeForce GTX 1060 G1 Gaming 3072MB G...  [ \"Gigabyte GeForce GTX 1060 G1 Gaming 3G - Pr...  [ \"Gigabyte GeForce GTX 1060 G1 Gaming 3072MB ...  [1.0000004768371582, 1.0000004768371582, 1.000...          0\n",
       "83     \"3.5 pouces Red 2To IntelliPower 64Mo Sata 6G...                        [ \"WD Red 2TB WD20EFRX\"@es]  [ \"3.5 pouces - WD RED NAS 6To 5400T/min 64Mo ...  [0.8323203325271606, 0.823881983757019, 0.8209...          0\n",
       "1178   \"Transcend Micro SDHC UHS-I U3 32 GB Class 10...  [ \"Transcend Ultimate - flash memory card 32 G...  [ \"Transcend Micro SDHC UHS-I U3 32 GB Class 1...  [1.0, 0.9999996423721313, 0.9999996423721313, ...          0\n",
       "264    \"AMD - Ryzen 5 1600 3.2GHz 6-Core Processor\" ...  [ \"AMD - Ryzen 5 1600 3.2GHz 6-Core Processor\"...  [ \"AMD - Ryzen 5 1600 3.2GHz 6-Core Processor\"...  [0.9649631977081299, 0.9649630784988403, 0.951...          1\n",
       "1210   \"Western Digital Red 1TB SATA3 64MB Cache 3.5...  [ \"Western Digital WD10EFRX 1TB SATA Desktop R...  [ \"Western Digital WD10EFRX 1TB SATA Desktop R...  [0.8394665122032166, 0.837192177772522, 0.8240...          1\n",
       "1158   \"TP-Link 5-Port Gigabit Ethernet Desktop Swit...                            [ \"TP-Link TL-SG1005D\"]  [ \"TP-Link 5-Port Gigabit Ethernet Desktop Swi...  [1.0000003576278687, 0.8421689867973328, 0.840...          0\n",
       "91     \"310590-001 HP ProLiant ML370 3.06GHz\", \"Null...  [ \"310590-001 ML370T G3 Xeon 3.06GHz 512k\", \"N...  [ \"310590-001 ML370T G3 Xeon 3.06GHz 512k\", \"N...  [0.829503059387207, 0.8295028805732727, 0.8077...          1\n",
       "926    \"Kingston KTH-ZD8000C6/2G - Prijzen \"@NL Twea...  [ \"Nanya/Kingston KTH-ZD8000C6/2G BJE 2GB 200p...  [ \"Kingston ValueRAM KVR13N9S8HK2/8 - Prijzen ...  [0.8074139952659607, 0.8074139952659607, 0.807...          0\n",
       "563                     \"Corsair CMU16GX4M2C3000C15\"@es  [ \"Corsair - Vengeance LED 16GB (2 x 8GB) DDR4...  [ \"Corsair CMU16GX4M2C3000C15\"@es,  \"Corsair C...  [0.9999995827674866, 0.9999995827674866, 0.969...          0\n",
       "830    \"Intel - Core i5-4590 3.3GHz Quad-Core Proces...  [ \"Intel Core i5-4590 Boxed - Prijzen \"@NL Twe...  [ \"Intel - Core i5-4590 3.3GHz Quad-Core Proce...  [0.9999996423721313, 0.9999996423721313, 0.999...          0\n",
       "1037   \"SDSDQM-016G-B35\"@en \"SDSDQM-016G-B35-NR | NE...  [ \"TARJETA MEMORIA SANDISK MICRO SECURE DIGITAL\"]  [ \"SDSDB-016G-B35\"@en \"SDSDB-016G-B35-NR | NET...  [0.9315601587295532, 0.8893904685974121, 0.843...          0\n",
       "939    \"Lenovo 1TB ThinkServer Gen 5 SATA 6Gb s 7.2K...  [ \"Lenovo 1TB ThinkServer Gen 5 SATA 6Gb s 7.2...  [ \"Lenovo 1TB ThinkServer Gen 5 SATA 6Gb s 7.2...  [0.9306123852729797, 0.7912979125976562, 0.791...          1\n",
       "543    \"Corsair 4GB DDR3 1066MHz PC3-8500 SODIMM Mem...  [ \"Corsair Memory 4GB DDR3 SO-DIMM PC3-8500 (1...  [ \"Corsair 4GB DDR3 1066MHz PC3-8500 SODIMM Me...  [0.9999998211860657, 0.9999998211860657, 0.999...          0\n",
       "1089    \"Sandisk Cruzer Ultra 32GB USB 3.0\"@es 3.0 \"@es  [ \"Sandisk Ultra USB 3.0 Flash Drive 32GB Zwar...  [ \"SanDisk Ultra Pendrive 32GB USB 3.0\"@es,  \"...  [0.8910647630691528, 0.7417523860931396, 0.741...          0\n",
       "358    \"AmazonBasics 13.3-Inch Laptop Sleeve - Black...  [ \"AmazonBasics 13.3-Inch Laptop Sleeve - Blac...  [ \"AmazonBasics 13.3-Inch Laptop Sleeve - Blac...  [1.0000001192092896, 1.0000001192092896, 0.999...          0\n",
       "710    \"Gigabyte GeForce GTX 1070 WINDFORCE OC graph...  [ \"Gigabyte NVIDIA GeForce GTX 1070 WINDFORCE ...  [ \"Gigabyte GeForce GTX 1070 WINDFORCE OC grap...  [0.999999463558197, 0.999999463558197, 0.99999...          0\n",
       "912    \"Kingston DataTraveler microDuo 3C 32GB Zilve...  [ \"kingston technology gmbh\"@en \"LambdaTek|USB...  [ \"Kingston DataTraveler microDuo 3C 32GB Zilv...  [0.9999998807907104, 0.8944663405418396, 0.830...          0\n",
       "197    \"508429-001 HP 400-GB 10K 3.5 DP NHP SAS 10 P...  [ \"508429-001 HP 400-GB 10K 3.5 DP NHP SAS HDD...  [ \"508429-001 HP 400-GB 10K 3.5 DP NHP SAS 5 P...  [0.983502984046936, 0.8989662528038025, 0.8958...          1\n",
       "139    \"3R-A3851-AA HP 72.8-GB U320 SCSI 15K\", \"Null...  [ \"3R-A3851-AA HP 72.8-GB U320 SCSI 15K\", \"Nul...  [ \"3R-A3851-AA HP 72.8-GB U320 SCSI 15K\", \"Nul...  [1.0000003576278687, 0.9890497326850891, 0.988...          1\n",
       "504    \"CPB-NEW-500GB 6G SATA 7.2K RPM LFF\" \" CPB-NE...  [ \"HP, 658071-B21, 500GB 6G SATA 7.2K rpm LFF\"...  [ \"HP 500GB SATA 7200 RPM 6G 3.5in LFF Hard Dr...  [0.6968419551849365, 0.689390242099762, 0.6893...          1\n",
       "1116   \"Seagate Nearline 1TB Enterprise/NAS Internal...  [ \"ST1000NM0033 Seagate 1-TB 7.2K 3.5 6G SP SA...  [ \"Seagate Nearline 1TB Enterprise/NAS Interna...  [0.9999998211860657, 0.8879160284996033, 0.887...          0\n",
       "661    \"Epson - WorkForce WF-100 Mobile Wireless Pri...  [ \"Epson WorkForce WF-100 - printer color ink-...  [ \"WorkForce WF-100 Wireless Mobile Printer\"@e...  [0.8575170040130615, 0.8575170040130615, 0.679...          1\n",
       "222    \"643778-B21 HP Xeon E78867 2.13GHz BL680c G7 ...  [ \"643778-B21 HP Xeon E78867 2.13GHz BL680c G7...  [ \"643778-B21 HP Xeon E78867 2.13GHz BL680c G7...  [1.0000001192092896, 1.0000001192092896, 1.000...          0\n",
       "596    \"Corsair Vengeance Blue CMZ4GX3M1A1600C9 4GB ...  [ \" Corsair Vengeance memory - 4 GB DIMM 240-p...  [ \"Corsair Vengeance Blue CMZ4GX3M1A1600C9 4GB...  [0.9999998807907104, 0.9999998807907104, 0.901...          0\n",
       "241    \"750GB CRUCIAL MX300 2.5 7MMN SSD\" SSD | Trad...  [ \"Buy Online | Crucial MX300 750GB SATA 2.5″ ...  [ \"Crucial MX300 750GB SSD SATA 6Gbps 3D Nand ...  [0.8289780020713806, 0.8289780020713806, 0.755...          0\n",
       "396    \"Apple Mac mini 2.8GHz Intel Core i5\"@es i5-4...  [ \"MAC MINI I5 8/1TBFD IRIS GRAPHIC\" GRAPHIC |...  [ \"Apple Mac mini 2.8GHz Intel Core i5\"@es i5-...  [1.0, 1.0, 0.9999999403953552, 0.8638935089111...          0\n",
       "782    \"HP Power Bank para ordenadores portátiles\"@e...  [ \"HP Power Bank para ordenadores portátiles\"@...  [ \"HP Power Bank para ordenadores portátiles\"@...  [0.9999999403953552, 0.9999999403953552, 0.901...          1\n",
       "735    \"HP 15,6-inch (39,62-cm) Spectrum Sleeve (Lad...  [ \"HP 15.6 Valentine fodral\"@sv fodral - HP St...  [ \"HP 15,6-inch (39,62-cm) Spectrum Sleeve (La...  [0.9999997615814209, 0.943619430065155, 0.9436...          0\n",
       "298    \"AMD Processor, Ryzen 3 QC 1200 3.1GHz 3.4GHz...  [ \"AMD Ryzen 3 1200 3.1GHz Quad Core (Socket A...  [ \"AMD Processor, Ryzen 3 QC 1200 3.1GHz 3.4GH...  [0.9999998807907104, 0.9999998807907104, 0.967...          0\n",
       "67     \"271837-004 HP 72.8-GB U320 SCSI 10K\", \"Null\"...  [ \"271837-004 - HP 72.8Gb Ultra320 SCSI Univer...  [ \"271837-004 HP 72.8-GB U320 SCSI 10K\", \"Null...  [0.9808828830718994, 0.978926420211792, 0.9561...          0\n",
       "266    \"AMD 16 Core Ryzen Threadripper 1950X Unlocke...  [ \"AMD Processor, AMD 16C Ryzen Threadripper 1...  [ \"AMD Ryzen Threadripper 1950X 16-Core Proces...  [0.811448872089386, 0.8011453151702881, 0.8011...          0\n",
       "359    \"Antec P380 Full Tower PC Case\"@en-GB Case | ...  [ \"Antec P380 Performance Series Windowed Towe...  [ \"Antec P380 Full Tower PC Case\"@en-GB Case |...  [1.0000001192092896, 0.782957911491394, 0.6910...          0\n",
       "356    \"AmazonBasics 13.3-Inch Laptop Sleeve - Black...  [ \"AmazonBasics 13.3-Inch Laptop Sleeve - Blac...  [ \"AmazonBasics 13.3-Inch Laptop Sleeve - Blac...  [1.0, 0.8577690720558167, 0.8577690720558167, ...          1\n",
       "343    \"Acer KA KA240H 24\" Full HD TN Negro pantalla...  [ \"Acer KA KA240H 24\" Full HD TN Negro pantall...  [ \"Acer KA KA240H 24\" Full HD TN Negro pantall...  [0.8170199394226074, 0.7430380582809448, 0.691...          1\n",
       "90        \"310590-001 HP ProLiant ML370 3.06GHz\" \"Null\"  [ \"310590-001 ML370T G3 Xeon 3.06GHz 512k\", \"N...  [ \"Null\" \"462711-B21 HP X5450 3.0GHz ML370 G5\"...  [0.8414669632911682, 0.8414669632911682, 0.841...          0\n",
       "1125   \"Star Tech 4-PORT Pci 1394A Fire Wire Adapter...  [ \"Startech PCI1394MP Texas Instruments (TI) C...  [ \"StarTech.com PCI1394_4 Internal IEEE 1394/F...  [0.8308697938919067, 0.8308697938919067, 0.830...          1\n",
       "1131   \"StarTech.com 2-Port USB Dual DisplayPort KVM...  [ \"STARTECH.COM SV231DPDDUA 2 Port Dual Displa...  [ \"StarTech.com 2-Port USB Dual DisplayPort KV...  [1.0000003576278687, 1.0000003576278687, 1.000...          1\n",
       "366    \"Apple - 12.9-Inch iPad Pro (Latest Model) wi...  [ \" Apple 12.9-inch iPad Pro Wi-Fi 256GB - Sil...  [ \"Apple - 12.9-Inch iPad Pro (Latest Model) w...  [1.0, 0.9589716792106628, 0.9589716792106628, ...          1\n",
       "27     \"**B Grade** Intel Core i5-3570 3.40GHz (Ivyb...  [ \"Intel Core i5-3570\" \"Comprar Intel i5-3570 ...  [ \"**B Grade** Intel Core i5-3570 3.40GHz (Ivy...  [0.9999997019767761, 0.9999997019767761, 0.999...          0\n",
       "1207                           \"WD Red 6TB WD60EFRX\"@es  [ \"Western Digital Red 6 TB Internal HDD\" \" We...  [ \"WD Red 6TB WD60EFRX\"@es,  \"WD Red 2TB WD20E...  [0.9999997615814209, 0.8070961833000183, 0.729...          0\n",
       "5      \" Apple Smart Keyboard for 12.9-inch iPad Pro...  [ \"Apple - Smart Keyboard for 12.9 Inch iPad P...  [ \" Apple Smart Keyboard for 12.9-inch iPad Pr...  [1.0000001192092896, 1.0000001192092896, 1.000...          1\n",
       "1006      \"Null\" \"175924-001 HP 256MB DDR SDRAM Memory\"  [ \"175924-001 HP 256MB DDR SDRAM Memory\", \"Nul...  [ \"Null\" \"175924-001 HP 256MB DDR SDRAM Memory...  [0.9999998211860657, 0.9999998211860657, 0.886...          1\n",
       "1041   \"ST2000NM0011 Seagate 2-TB 7.2K 3.5 6G SP SAT...  [ \"ST2000NM0011 Seagate 2-TB 7.2K 3.5 6G SP SA...  [ \"ST2000NM0011 Seagate 2-TB 7.2K 3.5 6G SP SA...  [1.0000004768371582, 0.9950850605964661, 0.976...          1\n",
       "299    \"AMD Processor, Ryzen 3 QC 1300X 3.5GHz 3.7GH...  [ \"AMD Ryzen 3 Quad Core 1300X 3.70GHz (Socket...  [ \"AMD Processor, Ryzen 3 QC 1300X 3.5GHz 3.7G...  [1.0000001192092896, 1.0000001192092896, 1.000...          0\n",
       "843    \"Intel Core i3 4150 / 3.5 GHz processor\" \" In...  [ \"Intel Core i3-4150 Boxed - Prijzen \"@NL Twe...  [ \"Intel Core i3 4150 / 3.5 GHz processor\" \" I...  [0.9999997615814209, 0.9999997615814209, 0.999...          0\n",
       "764    \"HP LaserJet Pro M102w monochrome ($159-$40 s...  [ \"Imprimante HP LaserJet Pro M102w\"@fr \"HP Im...  [ \"HP LaserJet Pro M102w monochrome ($159-$40 ...  [1.0000004768371582, 0.9972297549247742, 0.997...          1\n",
       "1095      \"Sapphire Pulse Radeon RX 580, 4GB GDDR5\" 580  [ \"Sapphire Pulse Radeon RX 580 4GD5 (11265-09...  [ \"Sapphire Pulse Radeon RX 580 4GD5 (11265-09...  [0.8185408711433411, 0.778628945350647, 0.7786...          1\n",
       "634       \"DG0300BAHZQ HP 300-GB 3G 10K 2.5 DP SAS HDD\"  [ \"DG0300BAHZQ HP 300-GB 3G 10K 2.5 DP SAS HDD...  [ \"DG0300BAHZQ HP 300-GB 3G 10K 2.5 DP SAS HDD...  [1.0, 1.0, 1.0, 1.0, 1.0, 0.9601035714149475, ...          1\n",
       "858    \"Intel Core i5-7600K 3.80GHz (Kaby Lake) Sock...  [ \"S1151 Core I5-7600K (4Core, 3.8Ghz, 6Mb, GT...  [ \"Intel Core i5-7600K 3.80GHz (Kaby Lake) Soc...  [1.0000001192092896, 0.9825349450111389, 0.982...          0\n",
       "1080   \"SanDisk Cruzer Fit 16GB USB\" \"Comprar SanDis...  [ \"SanDisk Cruzer Fit 16GB USB\" \"Comprar SanDi...  [ \"SanDisk Cruzer Fit 16GB USB\" \"Comprar SanDi...  [0.9782514572143555, 0.9782514572143555, 0.757...          1\n",
       "1078   \"SanDisk 32GB Ultra microSD High Capacity UHS...  [ \"TARJETA MEMORIA SANDISK MICRO SECURE DIGITAL\"]  [ \"SanDisk 32GB Ultra microSD High Capacity UH...  [0.9999997019767761, 0.8493242859840393, 0.769...          0\n",
       "616    \"Crucial - DDR3L 4 GB SO-DIMM 204-pin\" \" Cruc...  [ \" Crucial - DDR3L 4 GB SO-DIMM 204-pin \"@en,...  [ \"Crucial - DDR3L 4 GB SO-DIMM 204-pin\" \" Cru...  [1.0000001192092896, 1.0, 0.9974462389945984, ...          0\n",
       "421    \"Apple iPad Mini 4 128GB, WiFi, Silver\"@en Wi...  [ \"Apple iPad mini 4 Wi-Fi - tablet 128 GB 7.9...  [ \"Apple iPad Mini 4 128GB, WiFi, Silver\"@en W...  [1.0000003576278687, 0.9155240654945374, 0.915...          0\n",
       "1148   \"TARJETA MEMORIA MICRO SECURE DIGITAL SDXC 64...  [ \"Transcend Premium Micro SDXC Class 10 UHSI ...  [ \"Transcend Premium Micro SDXC Class 10 UHSI ...  [0.8069539666175842, 0.7731042504310608, 0.773...          1\n",
       "412    \"Apple Smart Cover iPad Pro 2017 10.5 Roze - ...  [ \"Apple Smart flip cover for tablet\" \" Apple ...  [ \"Apple Smart Cover iPad Pro 2017 10.5 Roze -...  [0.9999998807907104, 0.9999998807907104, 0.999...          0\n",
       "263    \"AMD - FX-6300 3.5GHz 6-Core Processor\" Proce...  [ \"AMD - FX-6300 3.5GHz 6-Core Processor\" Proc...  [ \"AMD - FX-6300 3.5GHz 6-Core Processor\" Proc...  [1.000000238418579, 1.000000238418579, 1.00000...          1\n",
       "988    \"Multilayer 6-Port 1000BASE-SX Switch + 2 GBI...  [ \"Multilayer 6-Port 1000BASE-SX Switch + 2 GB...  [ \"Multilayer 6-Port 1000BASE-SX Switch + 2 GB...  [0.9999998211860657, 0.9999998211860657, 0.893...          1\n",
       "614    \"Crucial - 8GB (1 x 8GB) DDR4-2133 Memory\" Me...  [ \"Crucial 8GB PC4-17000 288-pin DDR4 SDRAM UD...  [ \"Corsair - Vengeance 4GB (1 x 4GB) DDR3-1600...  [0.8530141711235046, 0.8530141711235046, 0.852...          0\n",
       "678    \"Gigabyte - GA-B250M-D3H Micro ATX LGA1151 Mo...  [ \"Gigabyte - GA-B250M-D3H Micro ATX LGA1151 M...  [ \"Gigabyte - GA-B250M-D3H Micro ATX LGA1151 M...  [1.000000238418579, 1.0000001192092896, 0.9578...          1\n",
       "493    \"Buy Online | Intel BOXNUC5i5RYH Core i5 NUC ...                               [ \"Intel NUC5i5RYH\"]  [ \"Buy Online | Asus AMD M5A99FX PRO R2.0 Moth...  [0.7459675669670105, 0.7459675669670105, 0.745...          0\n",
       "848    \"Intel Core i3-4340 3.60GHz (Haswell) Socket ...  [ \"Intel Core i3-4340 Boxed - Prijzen \"@NL Twe...  [ \"Intel Core i3-4340 3.60GHz (Haswell) Socket...  [0.9999997019767761, 0.9999996423721313, 0.999...          0\n",
       "835    \"Intel - Core i7-7700K 4.2GHz Quad-Core Proce...  [ \"Intel Core i7 7700K 4.2GHz Quad (Socket 115...  [ \"Intel - Core i5-7600K 3.8GHz Quad-Core Proc...  [0.9620704650878906, 0.8813905715942383, 0.881...          0\n",
       "79     \"3.5 pouces - 20.2mm IronWolf 1To 5900T/min 6...  [ \"Seagate IronWolf ST1000VN002 - hard drive 1...  [ \"3.5 pouces - 20.2mm IronWolf 1To 5900T/min ...  [1.0000007152557373, 0.958629846572876, 0.8957...          0\n",
       "572                     \"Corsair Carbide Quiet 400Q\"@es  [ \"Corsair Cardbide Quiet 400Q USB 3.0\"@es 3.0...  [ \"Corsair Carbide Quiet 400Q\"@es,  \"Corsair C...  [1.000000238418579, 0.9068223237991333, 0.9068...          0\n",
       "221    \"643774-B21 HP Xeon E74820 2.0GHz BL680c G7\" ...  [ \"643774-B21 HP Xeon E74820 2.0GHz BL680c G7\"...  [ \"643774-B21 HP Xeon E74820 2.0GHz BL680c G7\"...  [1.0, 1.0, 1.0, 1.0, 1.0, 0.9896754622459412, ...          0\n",
       "399    \"Apple MacBook Air 11.6\" Core i5 128 GB Flash...  [ \"Apple MacBook Air MJVM2LL/A 11.6-Inch lapto...  [ \"Apple MacBook Air 11.6\" Core i5 128 GB Flas...  [1.000000238418579, 0.81659334897995, 0.798586...          0\n",
       "178    \"493083-001 HP 300-GB 3G 10K 2.5 DP SAS HDD\" ...  [ \"493083-001 HP 300-GB 3G 10K 2.5 DP SAS HDD\"...  [ \"493083-001 HP 300-GB 3G 10K 2.5 DP SAS HDD\"...  [0.9920694828033447, 0.9920694828033447, 0.873...          1\n",
       "534    \"Corsair 256GB Flash Voyager Slider X2 USB 3....  [ \"USB 3.0 Flash Drive with Capless retractabl...  [ \"Corsair Flash Voyager Slider X2 256 GB USB ...  [0.918904721736908, 0.9089794158935547, 0.9077...          0\n",
       "516    \"Corsair - 400R ATX Mid Tower Case\" Case (CC-...  [ \" Corsair Carbide Series 400R Mid Tower ATX ...  [ \"Corsair - 400R ATX Mid Tower Case\" Case (CC...  [0.9999998807907104, 0.9999998807907104, 0.981...          1\n",
       "609    \"Corsair Vengeance LPX Black 32GB (2x16GB) DD...  [ \"Corsair Vengeance LPX DDR4 3000 PC4-19200 3...  [ \"Corsair Vengeance LPX Black 32GB (2x16GB) D...  [1.0, 0.9848628044128418, 0.9848628044128418, ...          0\n",
       "640     \"DH0072BALWL HP 72-GB 3G 15K 2.5 DP SAS\" \"Null\"  [ \"DH0072BALWL HP 72-GB 3G 15K 2.5 DP SAS HDD\"...  [ \"DH0072BALWL HP 72-GB 3G 15K 2.5 DP SAS\" \"Nu...  [1.0000001192092896, 1.0000001192092896, 1.000...          0\n",
       "39     \"127005-031 HP 256MB SDRAM MEMORY\", \"Null\" Pr...  [ \"HP-Samsung 127005-031 ACD 256MB 168p PC133 ...  [ \"175924-001 HP 256MB DDR SDRAM Memory\", \"Nul...  [0.840738832950592, 0.840738832950592, 0.84073...          0\n",
       "148    \"430165-003 HP 146-GB 3G 10K 2.5 DP SAS 10 Pa...  [ \"430165-003 HP 146-GB 3G 10K 2.5 DP SAS\", \"N...  [ \"430169-002 HP 72-GB 3G 15K 2.5 DP SAS 5 Pac...  [0.9600699543952942, 0.9600699543952942, 0.943...          0\n",
       "322    \"ASUS H170M-E D3 - motherboard micro ATX LGA1...              [ \"PLACA BASE ASUS INTEL H170M-E D3\"]  [ \"ASUS H170M-E D3 - motherboard micro ATX LGA...  [1.0000001192092896, 1.0000001192092896, 1.000...          0\n",
       "142    \"408851-B21 HP 2GB (2x1GB) PC2-5300 SDRAM Kit...  [ \"Hewlett Packard Enterprise 2GB PC2-5300 DDR...  [ \"408851-B21 HP 2GB (2x1GB) PC2-5300 SDRAM Ki...  [1.0000001192092896, 1.0000001192092896, 1.000...          0\n",
       "172    \"483403-B21 HP 8GB (2x4GB) PC2-5300 LP SDRAM ...  [ \"HP 483403-B21 2BWR 4GBx2 240p PC2-5300 CL5 ...  [ \"483403-B21 HP 8GB (2x4GB) PC2-5300 LP SDRAM...  [1.0, 1.0, 1.0, 1.0, 1.0, 1.0, 0.9606279134750...          0\n",
       "989    \"Multilayer 6-Port 1000BASE-SX Switch + 2 GBI...  [ \"Multilayer 6-Port 1000BASE-SX Switch + 2 GB...  [ \"Multilayer 6-Port 1000BASE-SX Switch + 2 GB...  [0.9783622026443481, 0.9783622026443481, 0.895...          1\n",
       "1165   \"TRENDnet AC1900 Dual Band Wireless Router Hi...  [ \"Trendnet AC1900 (TEW-818DRU) - Prijzen \"@NL...  [ \"TRENDnet TEW-818DRU - wireless router 802.1...  [0.7041182518005371, 0.6998558044433594, 0.653...          1\n",
       "127    \"364622-B23 HP 300-GB 10K FC-AL HDD\", \"Null\" ...  [ \"364622-B23 HP 300-GB 10K FC-AL\", \"Null\" \"Ne...  [ \"364622-B23 HP 300-GB 10K FC-AL HDD\", \"Null\"...  [0.9999999403953552, 0.9999999403953552, 0.999...          0\n",
       "1017   \"Null\" \"77000455 AccelePort PCI XEM Host Adap...  [ \"AccelePort Xem\" \"Digi 77000455 - Great Pric...  [ \"394793-B21 PCI-E GB Server Adapter\" \"Null\",...  [0.6175923347473145, 0.5634890198707581, 0.563...          0\n",
       "382    \"Apple 9.7 iPad Pro Wi-Fi + Modem 4G 32GB - R...  [ \"Apple 9.7 iPad Pro Wi-Fi + Modem 4G 32GB - ...  [ \"Apple 9.7 iPad Pro Wi-Fi + Modem 4G 32GB - ...  [0.9822510480880737, 0.9822510480880737, 0.982...          1\n",
       "268    \"AMD A10-9700E Boxed - Prijzen \"@NL Tweakers\"@NL  [ \"AMD Quad Core A10 9700E AM4 CPU/Processor w...  [ \"AMD A10-9700E Boxed - Prijzen \"@NL Tweakers...  [1.0, 0.9028446078300476, 0.9023019671440125, ...          0\n",
       "529    \"Corsair 16GB DDR4 Dominator 2666MHz LED Memo...  [ \"Corsair Dominator Platinum Series 16GB (2 x...  [ \"Corsair 16GB DDR4 Dominator 2666MHz LED Mem...  [0.9999999403953552, 0.9999999403953552, 0.906...          0\n",
       "320    \"ASUS GeForce GTX 750 Ti Overclocked Graphics...  [ \"Asus GeForce GTX 750Ti OC 2048MB GDDR5 PCI-...  [ \"Gigabyte AMD Radeon RX 550 2GB GAMING OC Gr...  [0.8250811100006104, 0.8250811100006104, 0.825...          0\n",
       "1038   \"SSD M.2 2280 Western Digital Green 240GB TLC...  [ \"Western Digital\"@en \"LambdaTek|internal sol...  [ \"WD Green PC SSD WDS240G1G0A - solid state d...  [0.7688519954681396, 0.7688519954681396, 0.766...          0\n",
       "94     \"32GB DT MICRODUO 3C USB3.1 TIPO C\" C | Tradi...  [ \"YLI Machine Quilting Thread 3000 yd. #001 N...  [ \"64GB DT MICRODUO USB 3.0 MICRO USB\" | Tradi...  [0.8611552715301514, 0.7793342471122742, 0.779...          0\n",
       "216    \"631674-B21 HP Smart Array P421/2GB Controlle...  [ \"HPE Smart Array P421/2GB with FBWC - storag...  [ \"631674-B21 HP Smart Array P421/2GB Controll...  [1.000000238418579, 1.000000238418579, 0.98589...          0\n",
       "1226   \"case Logic LAPS116K 16\" Sleeve Negro maletin...  [ \"case Logic LAPS116K 16\" Sleeve Negro maleti...  [ \"case Logic LAPS116K 16\" Sleeve Negro maleti...  [0.9677930474281311, 0.8742963671684265, 0.816...          1\n",
       "555    \"Corsair Air Series SP120 PWM High Performanc...  [ \"Corsair Air Series SP120 PWM High Performan...  [ \"Corsair Air Series SP120 PWM Quiet Edition ...  [0.9439177513122559, 0.8417352437973022, 0.841...          0\n",
       "1149   \"TDK 4x CD-RW Rewritable, 10-pack jewel case\"...  [ \"Verbatim - CD-RW x 1 700 MB storage media\" ...  [ \"Verbatim - CD-RW x 1 700 MB storage media\" ...  [0.5879241824150085, 0.5818527936935425, 0.557...          1\n",
       "765            \"HP LaserJet Pro P1102 Laser Printer\"@en  [ \"HP Laserjet Pro P1102 Laser Printer\"@en \"▷ ...  [ \"HP Laserjet Pro P1102 Laser Printer\"@en \"▷ ...  [0.8700803518295288, 0.7566266059875488, 0.729...          1\n",
       "150    \"430169-002 HP 72-GB 3G 15K 2.5 DP SAS HDD\" \"...  [ \"430169-002 HP 72-GB 3G 15K 2.5 DP SAS 2 Pac...  [ \"430165-003 HP 146-GB 3G 10K 2.5 DP SAS HDD\"...  [0.9802629947662354, 0.9802629947662354, 0.944...          1"
      ]
     },
     "execution_count": 50,
     "metadata": {},
     "output_type": "execute_result"
    }
   ],
   "source": [
    "df_eval.sample(100)"
   ]
  },
  {
   "cell_type": "code",
   "execution_count": 51,
   "id": "07e6306b",
   "metadata": {},
   "outputs": [
    {
     "data": {
      "text/plain": [
       "<Axes: >"
      ]
     },
     "execution_count": 51,
     "metadata": {},
     "output_type": "execute_result"
    },
    {
     "data": {
      "image/png": "[encoded data removed]",
      "text/plain": [
       "<Figure size 640x480 with 1 Axes>"
      ]
     },
     "metadata": {},
     "output_type": "display_data"
    }
   ],
   "source": [
    "df_eval['score_row'].hist()"
   ]
  },
  {
   "cell_type": "code",
   "execution_count": null,
   "id": "847a5539",
   "metadata": {},
   "outputs": [],
   "source": []
  },
  {
   "cell_type": "code",
   "execution_count": 52,
   "id": "42891fbf",
   "metadata": {},
   "outputs": [
    {
     "data": {
      "text/plain": [
       "0.367479674796748"
      ]
     },
     "execution_count": 52,
     "metadata": {},
     "output_type": "execute_result"
    }
   ],
   "source": [
    "df_eval['score_row'].mean()"
   ]
  },
  {
   "cell_type": "markdown",
   "id": "367296d3",
   "metadata": {},
   "source": [
    "# Retrieval:  Using Faiss and BAAI/bge-large-en-v1.5"
   ]
  },
  {
   "cell_type": "code",
   "execution_count": 53,
   "id": "5308c803",
   "metadata": {},
   "outputs": [],
   "source": [
    "pooling_params = {\"pooling_name\":\"MeanPooling\",\"params\":{}}\n",
    "model_name = \"BAAI/bge-large-en-v1.5\""
   ]
  },
  {
   "cell_type": "code",
   "execution_count": 54,
   "id": "f8750f6d",
   "metadata": {},
   "outputs": [
    {
     "name": "stdout",
     "output_type": "stream",
     "text": [
      "Pooling: MeanPooling\n",
      "device :cuda\n"
     ]
    },
    {
     "data": {
      "application/vnd.jupyter.widget-view+json": {
       "model_id": "4d15b0051dce4a8abf214307cac22007",
       "version_major": 2,
       "version_minor": 0
      },
      "text/plain": [
       "  0%|          | 0/203 [00:00<?, ?it/s]"
      ]
     },
     "metadata": {},
     "output_type": "display_data"
    },
    {
     "data": {
      "text/plain": [
       "torch.Size([6475, 1024])"
      ]
     },
     "execution_count": 54,
     "metadata": {},
     "output_type": "execute_result"
    }
   ],
   "source": [
    "description_name = \"title_left\"\n",
    "df,query_embed = get_embeddings(df,description_name,model_name,pooling_params)\n",
    "query_embed.shape"
   ]
  },
  {
   "cell_type": "code",
   "execution_count": 55,
   "id": "a467be83",
   "metadata": {},
   "outputs": [
    {
     "name": "stdout",
     "output_type": "stream",
     "text": [
      "Pooling: MeanPooling\n",
      "device :cuda\n"
     ]
    },
    {
     "data": {
      "application/vnd.jupyter.widget-view+json": {
       "model_id": "d824811f035a4dca8138a8e4b44a1dd8",
       "version_major": 2,
       "version_minor": 0
      },
      "text/plain": [
       "  0%|          | 0/203 [00:00<?, ?it/s]"
      ]
     },
     "metadata": {},
     "output_type": "display_data"
    },
    {
     "data": {
      "text/plain": [
       "torch.Size([6475, 1024])"
      ]
     },
     "execution_count": 55,
     "metadata": {},
     "output_type": "execute_result"
    }
   ],
   "source": [
    "description_name = \"title_right\"\n",
    "db_df,db_embed = get_embeddings(df.copy(),description_name,model_name,pooling_params)\n",
    "db_embed.shape"
   ]
  },
  {
   "cell_type": "markdown",
   "id": "f453dc00",
   "metadata": {},
   "source": [
    "### Similarty search with faiss"
   ]
  },
  {
   "cell_type": "code",
   "execution_count": null,
   "id": "19faac27",
   "metadata": {},
   "outputs": [],
   "source": [
    "!pip install faiss-gpu # remplace gpu by cpu if your machine have no gpu"
   ]
  },
  {
   "cell_type": "markdown",
   "id": "8a1c8767",
   "metadata": {},
   "source": [
    "### Faiss git repo and documentation\n",
    "    - https://github.com/facebookresearch/faiss\n",
    "    - https://faiss.ai/index.html "
   ]
  },
  {
   "cell_type": "code",
   "execution_count": 56,
   "id": "5b2c3ee9",
   "metadata": {},
   "outputs": [],
   "source": [
    "import faiss\n",
    "# ======================================================================================= #\n",
    "def create_faiss_embedd(db_embed,path_to_save=None):\n",
    "    vector_dimension = db_embed.shape[1]\n",
    "    \n",
    "    index = faiss.IndexFlatIP(vector_dimension)\n",
    "    index.add(db_embed)\n",
    "    if path_to_save:\n",
    "        faiss.write_index(index,path_to_save)\n",
    "    return index\n",
    "\n",
    "# ======================================================================================= #\n",
    "def search_from_faiss_index(query_embed,query_df,query_desc,db_df,features_database,faiss_index,top_k=3):\n",
    "    \n",
    "    distances,neighbours = faiss_index.search(query_embed,k=top_k)\n",
    "    \n",
    "    if distances.shape[0]:\n",
    "        df_result = []\n",
    "        for i in tqdm(range(distances.shape[0])):\n",
    "            d,idx = distances[i],neighbours[i]\n",
    "            dx = db_df.iloc[idx][features_database]\n",
    "            dx['score'] = d\n",
    "            dx['query_desc'] = query_df[query_desc].values[i]\n",
    "            dx = dx[[\"query_desc\",'score']+features_database]\n",
    "            df_result.append(dx)\n",
    "            \n",
    "        df_result = pd.concat(df_result,axis=0).reset_index(drop=True)\n",
    "    else:\n",
    "        df_result = pd.DataFrame()\n",
    "    \n",
    "    return df_result     "
   ]
  },
  {
   "cell_type": "code",
   "execution_count": 57,
   "id": "1e0b6dd9",
   "metadata": {},
   "outputs": [],
   "source": [
    "faiss_index = create_faiss_embedd(db_embed.numpy(),path_to_save=None)"
   ]
  },
  {
   "cell_type": "code",
   "execution_count": 58,
   "id": "1921a965",
   "metadata": {},
   "outputs": [
    {
     "data": {
      "application/vnd.jupyter.widget-view+json": {
       "model_id": "18dcad3044b14b0eb0b9b15f327bde8c",
       "version_major": 2,
       "version_minor": 0
      },
      "text/plain": [
       "  0%|          | 0/6475 [00:00<?, ?it/s]"
      ]
     },
     "metadata": {},
     "output_type": "display_data"
    }
   ],
   "source": [
    "query_desc = \"title_left\"\n",
    "features_database = ['title_right']\n",
    "\n",
    "df_result = search_from_faiss_index(query_embed.numpy(),df,query_desc,\n",
    "                                    db_df,features_database,faiss_index,top_k=TOPK)"
   ]
  },
  {
   "cell_type": "code",
   "execution_count": 59,
   "id": "16ae2e35",
   "metadata": {},
   "outputs": [
    {
     "data": {
      "text/html": [
       "<div>\n",
       "<style scoped>\n",
       "    .dataframe tbody tr th:only-of-type {\n",
       "        vertical-align: middle;\n",
       "    }\n",
       "\n",
       "    .dataframe tbody tr th {\n",
       "        vertical-align: top;\n",
       "    }\n",
       "\n",
       "    .dataframe thead th {\n",
       "        text-align: right;\n",
       "    }\n",
       "</style>\n",
       "<table border=\"1\" class=\"dataframe\">\n",
       "  <thead>\n",
       "    <tr style=\"text-align: right;\">\n",
       "      <th></th>\n",
       "      <th>query_desc</th>\n",
       "      <th>score</th>\n",
       "      <th>title_right</th>\n",
       "    </tr>\n",
       "  </thead>\n",
       "  <tbody>\n",
       "    <tr>\n",
       "      <th>0</th>\n",
       "      <td>\"HP Envy 5540\"</td>\n",
       "      <td>0.8692</td>\n",
       "      <td>\"HP ENVY 5540 All-in-One Printer\"@en</td>\n",
       "    </tr>\n",
       "    <tr>\n",
       "      <th>1</th>\n",
       "      <td>\"HP Envy 5540\"</td>\n",
       "      <td>0.8321</td>\n",
       "      <td>\"HP ENVY Impresora 5540 All-in-One\"@es Tu tie...</td>\n",
       "    </tr>\n",
       "    <tr>\n",
       "      <th>2</th>\n",
       "      <td>\"HP Envy 5540\"</td>\n",
       "      <td>0.8170</td>\n",
       "      <td>\"HP ENVY x360 - 15-bp010ca\"@en</td>\n",
       "    </tr>\n",
       "    <tr>\n",
       "      <th>3</th>\n",
       "      <td>\"HP Envy 5540\"</td>\n",
       "      <td>0.8170</td>\n",
       "      <td>\"HP ENVY x360 - 15-bp010ca\"@en</td>\n",
       "    </tr>\n",
       "    <tr>\n",
       "      <th>4</th>\n",
       "      <td>\"HP Envy 5540\"</td>\n",
       "      <td>0.8067</td>\n",
       "      <td>\"Imprimante tout-en-un HP ENVY Photo 7130\"@fr</td>\n",
       "    </tr>\n",
       "  </tbody>\n",
       "</table>\n",
       "</div>"
      ],
      "text/plain": [
       "        query_desc  score                                        title_right\n",
       "0   \"HP Envy 5540\" 0.8692               \"HP ENVY 5540 All-in-One Printer\"@en\n",
       "1   \"HP Envy 5540\" 0.8321   \"HP ENVY Impresora 5540 All-in-One\"@es Tu tie...\n",
       "2   \"HP Envy 5540\" 0.8170                     \"HP ENVY x360 - 15-bp010ca\"@en\n",
       "3   \"HP Envy 5540\" 0.8170                     \"HP ENVY x360 - 15-bp010ca\"@en\n",
       "4   \"HP Envy 5540\" 0.8067      \"Imprimante tout-en-un HP ENVY Photo 7130\"@fr"
      ]
     },
     "execution_count": 59,
     "metadata": {},
     "output_type": "execute_result"
    }
   ],
   "source": [
    "df_result.head()"
   ]
  },
  {
   "cell_type": "code",
   "execution_count": 60,
   "id": "e89f6d86",
   "metadata": {},
   "outputs": [
    {
     "data": {
      "text/html": [
       "<div>\n",
       "<style scoped>\n",
       "    .dataframe tbody tr th:only-of-type {\n",
       "        vertical-align: middle;\n",
       "    }\n",
       "\n",
       "    .dataframe tbody tr th {\n",
       "        vertical-align: top;\n",
       "    }\n",
       "\n",
       "    .dataframe thead th {\n",
       "        text-align: right;\n",
       "    }\n",
       "</style>\n",
       "<table border=\"1\" class=\"dataframe\">\n",
       "  <thead>\n",
       "    <tr style=\"text-align: right;\">\n",
       "      <th></th>\n",
       "      <th>query_desc</th>\n",
       "      <th>score</th>\n",
       "      <th>title_right</th>\n",
       "    </tr>\n",
       "  </thead>\n",
       "  <tbody>\n",
       "    <tr>\n",
       "      <th>0</th>\n",
       "      <td>\" AMD Black Edition A8 5600K / 3.6 GHz proces...</td>\n",
       "      <td>[0.9999999403953552, 0.9999999403953552, 0.861...</td>\n",
       "      <td>[ \" AMD Black Edition A8 5600K / 3.6 GHz proce...</td>\n",
       "    </tr>\n",
       "    <tr>\n",
       "      <th>1</th>\n",
       "      <td>\" ASUS HD7850-DC2-2GD5-V2 graphics card - Rad...</td>\n",
       "      <td>[0.928277313709259, 0.8757278919219971, 0.8567...</td>\n",
       "      <td>[ \"Asus - Radeon HD 7850 2GB Video Card\" Card ...</td>\n",
       "    </tr>\n",
       "    <tr>\n",
       "      <th>2</th>\n",
       "      <td>\" AUGUSTUS Deckenleuchte Chrom, 1xLED - Leuch...</td>\n",
       "      <td>[0.9999999403953552, 0.9999999403953552, 0.999...</td>\n",
       "      <td>[ \" AUGUSTUS Deckenleuchte Chrom, 1xLED - Leuc...</td>\n",
       "    </tr>\n",
       "    <tr>\n",
       "      <th>3</th>\n",
       "      <td>\" Adaptateur...\", Câble audio...\", \"Adaptateu...</td>\n",
       "      <td>[0.796923041343689, 0.796923041343689, 0.78933...</td>\n",
       "      <td>[ \"ADAPTADOR USB3.0 A VGA CABLE\" CABLE | Tradi...</td>\n",
       "    </tr>\n",
       "    <tr>\n",
       "      <th>4</th>\n",
       "      <td>\" Alfa AWUS036H 1000mW 1W Deluxe Bundle 802.1...</td>\n",
       "      <td>[0.9778767228126526, 0.9760943651199341, 0.751...</td>\n",
       "      <td>[ \"Alfa AWUS036H 1000mW 1W Deluxe Bundle 802.1...</td>\n",
       "    </tr>\n",
       "  </tbody>\n",
       "</table>\n",
       "</div>"
      ],
      "text/plain": [
       "                                          query_desc                                              score                                        title_right\n",
       "0   \" AMD Black Edition A8 5600K / 3.6 GHz proces...  [0.9999999403953552, 0.9999999403953552, 0.861...  [ \" AMD Black Edition A8 5600K / 3.6 GHz proce...\n",
       "1   \" ASUS HD7850-DC2-2GD5-V2 graphics card - Rad...  [0.928277313709259, 0.8757278919219971, 0.8567...  [ \"Asus - Radeon HD 7850 2GB Video Card\" Card ...\n",
       "2   \" AUGUSTUS Deckenleuchte Chrom, 1xLED - Leuch...  [0.9999999403953552, 0.9999999403953552, 0.999...  [ \" AUGUSTUS Deckenleuchte Chrom, 1xLED - Leuc...\n",
       "3   \" Adaptateur...\", Câble audio...\", \"Adaptateu...  [0.796923041343689, 0.796923041343689, 0.78933...  [ \"ADAPTADOR USB3.0 A VGA CABLE\" CABLE | Tradi...\n",
       "4   \" Alfa AWUS036H 1000mW 1W Deluxe Bundle 802.1...  [0.9778767228126526, 0.9760943651199341, 0.751...  [ \"Alfa AWUS036H 1000mW 1W Deluxe Bundle 802.1..."
      ]
     },
     "execution_count": 60,
     "metadata": {},
     "output_type": "execute_result"
    }
   ],
   "source": [
    "df_result_grouped = df_result.groupby('query_desc').agg(list).reset_index()\n",
    "df_result_grouped.head()"
   ]
  },
  {
   "cell_type": "code",
   "execution_count": 68,
   "id": "272923d5",
   "metadata": {},
   "outputs": [
    {
     "data": {
      "text/html": [
       "<div>\n",
       "<style scoped>\n",
       "    .dataframe tbody tr th:only-of-type {\n",
       "        vertical-align: middle;\n",
       "    }\n",
       "\n",
       "    .dataframe tbody tr th {\n",
       "        vertical-align: top;\n",
       "    }\n",
       "\n",
       "    .dataframe thead th {\n",
       "        text-align: right;\n",
       "    }\n",
       "</style>\n",
       "<table border=\"1\" class=\"dataframe\">\n",
       "  <thead>\n",
       "    <tr style=\"text-align: right;\">\n",
       "      <th></th>\n",
       "      <th>query_desc</th>\n",
       "      <th>score</th>\n",
       "      <th>title_right_pred</th>\n",
       "      <th>title_left</th>\n",
       "      <th>title_right</th>\n",
       "    </tr>\n",
       "  </thead>\n",
       "  <tbody>\n",
       "    <tr>\n",
       "      <th>0</th>\n",
       "      <td>\" AUGUSTUS Deckenleuchte Chrom, 1xLED - Leuch...</td>\n",
       "      <td>[0.9999999403953552, 0.9999999403953552, 0.999...</td>\n",
       "      <td>[ \" AUGUSTUS Deckenleuchte Chrom, 1xLED - Leuc...</td>\n",
       "      <td>\" AUGUSTUS Deckenleuchte Chrom, 1xLED - Leuch...</td>\n",
       "      <td>[ \"Scratch &amp; Dent Acer Chromebook C731T-C42N C...</td>\n",
       "    </tr>\n",
       "    <tr>\n",
       "      <th>1</th>\n",
       "      <td>\" Adaptateur...\", Câble audio...\", \"Adaptateu...</td>\n",
       "      <td>[0.796923041343689, 0.796923041343689, 0.78933...</td>\n",
       "      <td>[ \"ADAPTADOR USB3.0 A VGA CABLE\" CABLE | Tradi...</td>\n",
       "      <td>\" Adaptateur...\", Câble audio...\", \"Adaptateu...</td>\n",
       "      <td>[ \"StarTech.com DisplayPort to HDMI Video Adap...</td>\n",
       "    </tr>\n",
       "    <tr>\n",
       "      <th>2</th>\n",
       "      <td>\" Alfa AWUS036H 1000mW 1W Deluxe Bundle 802.1...</td>\n",
       "      <td>[0.9778767228126526, 0.9760943651199341, 0.751...</td>\n",
       "      <td>[ \"Alfa AWUS036H 1000mW 1W Deluxe Bundle 802.1...</td>\n",
       "      <td>\" Alfa AWUS036H 1000mW 1W Deluxe Bundle 802.1...</td>\n",
       "      <td>[ \"Alfa AWUS036H 1000mW 1W Deluxe Bundle 802.1...</td>\n",
       "    </tr>\n",
       "    <tr>\n",
       "      <th>3</th>\n",
       "      <td>\" Apple 12.9-inch iPad Pro Wi-Fi 256GB - Spac...</td>\n",
       "      <td>[1.0, 0.9632233381271362, 0.9632233381271362, ...</td>\n",
       "      <td>[ \" Apple 12.9-inch iPad Pro Wi-Fi 256GB - Spa...</td>\n",
       "      <td>\" Apple 12.9-inch iPad Pro Wi-Fi 256GB - Spac...</td>\n",
       "      <td>[ \"Apple iPad Pro 12.9\" Retina Display 256GB W...</td>\n",
       "    </tr>\n",
       "    <tr>\n",
       "      <th>4</th>\n",
       "      <td>\" Apple Mac Pro MD878LL/A Desktop Computer; I...</td>\n",
       "      <td>[0.8839761018753052, 0.8839761018753052, 0.824...</td>\n",
       "      <td>[ \"Mac Pro Xeon E5 3.5GHz (256GB)\",  \"Mac Pro ...</td>\n",
       "      <td>\" Apple Mac Pro MD878LL/A Desktop Computer; I...</td>\n",
       "      <td>[ \"Mac Pro Xeon E5 3.5GHz (256GB)\"]</td>\n",
       "    </tr>\n",
       "  </tbody>\n",
       "</table>\n",
       "</div>"
      ],
      "text/plain": [
       "                                          query_desc                                              score                                   title_right_pred                                         title_left                                        title_right\n",
       "0   \" AUGUSTUS Deckenleuchte Chrom, 1xLED - Leuch...  [0.9999999403953552, 0.9999999403953552, 0.999...  [ \" AUGUSTUS Deckenleuchte Chrom, 1xLED - Leuc...   \" AUGUSTUS Deckenleuchte Chrom, 1xLED - Leuch...  [ \"Scratch & Dent Acer Chromebook C731T-C42N C...\n",
       "1   \" Adaptateur...\", Câble audio...\", \"Adaptateu...  [0.796923041343689, 0.796923041343689, 0.78933...  [ \"ADAPTADOR USB3.0 A VGA CABLE\" CABLE | Tradi...   \" Adaptateur...\", Câble audio...\", \"Adaptateu...  [ \"StarTech.com DisplayPort to HDMI Video Adap...\n",
       "2   \" Alfa AWUS036H 1000mW 1W Deluxe Bundle 802.1...  [0.9778767228126526, 0.9760943651199341, 0.751...  [ \"Alfa AWUS036H 1000mW 1W Deluxe Bundle 802.1...   \" Alfa AWUS036H 1000mW 1W Deluxe Bundle 802.1...  [ \"Alfa AWUS036H 1000mW 1W Deluxe Bundle 802.1...\n",
       "3   \" Apple 12.9-inch iPad Pro Wi-Fi 256GB - Spac...  [1.0, 0.9632233381271362, 0.9632233381271362, ...  [ \" Apple 12.9-inch iPad Pro Wi-Fi 256GB - Spa...   \" Apple 12.9-inch iPad Pro Wi-Fi 256GB - Spac...  [ \"Apple iPad Pro 12.9\" Retina Display 256GB W...\n",
       "4   \" Apple Mac Pro MD878LL/A Desktop Computer; I...  [0.8839761018753052, 0.8839761018753052, 0.824...  [ \"Mac Pro Xeon E5 3.5GHz (256GB)\",  \"Mac Pro ...   \" Apple Mac Pro MD878LL/A Desktop Computer; I...                [ \"Mac Pro Xeon E5 3.5GHz (256GB)\"]"
      ]
     },
     "execution_count": 68,
     "metadata": {},
     "output_type": "execute_result"
    }
   ],
   "source": [
    "df_eval2 = df_result_grouped.merge(df_gt,how='right',left_on=\"query_desc\",right_on=\"title_left\",suffixes=('_pred',\"\"))\n",
    "df_eval2.head()"
   ]
  },
  {
   "cell_type": "code",
   "execution_count": 69,
   "id": "4fe1c1e9",
   "metadata": {},
   "outputs": [
    {
     "data": {
      "text/html": [
       "<div>\n",
       "<style scoped>\n",
       "    .dataframe tbody tr th:only-of-type {\n",
       "        vertical-align: middle;\n",
       "    }\n",
       "\n",
       "    .dataframe tbody tr th {\n",
       "        vertical-align: top;\n",
       "    }\n",
       "\n",
       "    .dataframe thead th {\n",
       "        text-align: right;\n",
       "    }\n",
       "</style>\n",
       "<table border=\"1\" class=\"dataframe\">\n",
       "  <thead>\n",
       "    <tr style=\"text-align: right;\">\n",
       "      <th></th>\n",
       "      <th>pair_id</th>\n",
       "      <th>label</th>\n",
       "      <th>id_left</th>\n",
       "      <th>category_left</th>\n",
       "      <th>cluster_id_left</th>\n",
       "      <th>brand_left</th>\n",
       "      <th>title_left</th>\n",
       "      <th>description_left</th>\n",
       "      <th>price_left</th>\n",
       "      <th>specTableContent_left</th>\n",
       "      <th>id_right</th>\n",
       "      <th>category_right</th>\n",
       "      <th>cluster_id_right</th>\n",
       "      <th>brand_right</th>\n",
       "      <th>title_right</th>\n",
       "      <th>description_right</th>\n",
       "      <th>price_right</th>\n",
       "      <th>specTableContent_right</th>\n",
       "      <th>title_left_len</th>\n",
       "    </tr>\n",
       "  </thead>\n",
       "  <tbody>\n",
       "    <tr>\n",
       "      <th>2172</th>\n",
       "      <td>10111579#7937053</td>\n",
       "      <td>0</td>\n",
       "      <td>10111579</td>\n",
       "      <td>Computers_and_Accessories</td>\n",
       "      <td>1295417</td>\n",
       "      <td>\"Apple\"@us</td>\n",
       "      <td>\" Apple Smart Cover for 10.5-inch iPad Pro - ...</td>\n",
       "      <td>\"Smart Cover for 10.5-inch iPad Pro - Midnigh...</td>\n",
       "      <td>\"49.00\"@us, \"USD\"@us</td>\n",
       "      <td>None</td>\n",
       "      <td>7937053</td>\n",
       "      <td>Computers_and_Accessories</td>\n",
       "      <td>196870</td>\n",
       "      <td>None</td>\n",
       "      <td>\"Apple Smart Cover iPad Pro 2017 10.5 Roze - ...</td>\n",
       "      <td>None</td>\n",
       "      <td>None</td>\n",
       "      <td>Categorie Tablet-accessoires Merk Apple Produ...</td>\n",
       "      <td>74</td>\n",
       "    </tr>\n",
       "  </tbody>\n",
       "</table>\n",
       "</div>"
      ],
      "text/plain": [
       "               pair_id  label   id_left              category_left  cluster_id_left  brand_left                                         title_left                                   description_left            price_left specTableContent_left  id_right             category_right  cluster_id_right brand_right                                        title_right description_right price_right                             specTableContent_right  title_left_len\n",
       "2172  10111579#7937053      0  10111579  Computers_and_Accessories          1295417  \"Apple\"@us   \" Apple Smart Cover for 10.5-inch iPad Pro - ...   \"Smart Cover for 10.5-inch iPad Pro - Midnigh...  \"49.00\"@us, \"USD\"@us                  None   7937053  Computers_and_Accessories            196870        None   \"Apple Smart Cover iPad Pro 2017 10.5 Roze - ...              None        None   Categorie Tablet-accessoires Merk Apple Produ...              74"
      ]
     },
     "execution_count": 69,
     "metadata": {},
     "output_type": "execute_result"
    }
   ],
   "source": [
    "df[df.title_left==' \" Apple Smart Cover for 10.5-inch iPad Pro - Midnight Blue MQ092ZM/A \"@us']"
   ]
  },
  {
   "cell_type": "code",
   "execution_count": 70,
   "id": "bdab4ef3",
   "metadata": {},
   "outputs": [
    {
     "data": {
      "text/plain": [
       "' \" Dell Inspiron 710M PA-10 Power Adapter (PA-1900-02D) - MachinaElectronics.com'"
      ]
     },
     "execution_count": 70,
     "metadata": {},
     "output_type": "execute_result"
    }
   ],
   "source": [
    "df_eval2.iloc[10]['query_desc']"
   ]
  },
  {
   "cell_type": "code",
   "execution_count": 71,
   "id": "02780274",
   "metadata": {},
   "outputs": [
    {
     "data": {
      "text/plain": [
       "[' \" Dell Precision M60 PA-10 Power Adapter (PA-1900-02D) - MachinaElectronics.com']"
      ]
     },
     "execution_count": 71,
     "metadata": {},
     "output_type": "execute_result"
    }
   ],
   "source": [
    "df_eval2.iloc[10]['title_right']"
   ]
  },
  {
   "cell_type": "code",
   "execution_count": 72,
   "id": "acf16fbc",
   "metadata": {},
   "outputs": [
    {
     "data": {
      "text/plain": [
       "[' \" Dell Inspiron 1521 PA-10 Power Adapter (PA-1900-02D) - MachinaElectronics.com',\n",
       " ' \" Dell Inspiron N4020 PA-10 Power Adapter (PA-1900-02D) - MachinaElectronics.com',\n",
       " ' \" Dell Precision M60 PA-10 Power Adapter (PA-1900-02D) - MachinaElectronics.com',\n",
       " ' \"629142-B21 HP FlexFabric 10Gb 2-Port 554FLR Adapter\" \"Null\"',\n",
       " ' \"629142-B21 HP FlexFabric 10Gb 2-Port 554FLR Adapter\" \"Null\"',\n",
       " ' \"629142-B21 HP FlexFabric 10Gb 2-Port 554FLR Adapter\" \"Null\"',\n",
       " ' \"629142-B21 HP FlexFabric 10Gb 2-Port 554FLR Adapter\" \"Null\"',\n",
       " ' \"629142-B21 HP FlexFabric 10Gb 2-Port 554FLR Adapter\" \"Null\"',\n",
       " ' \"629142-B21 HP FlexFabric 10Gb 2-Port 554FLR Adapter\", \"Null\" Price 629142-B21\" \"New 629142-B21 Adapter Wholesale',\n",
       " ' \"629142-B21 HP FlexFabric 10Gb 2-Port 554FLR Adapter\", \"Null\" Price 629142-B21\" \"New 629142-B21 Adapter Wholesale']"
      ]
     },
     "execution_count": 72,
     "metadata": {},
     "output_type": "execute_result"
    }
   ],
   "source": [
    "df_eval2.iloc[10]['title_right_pred']"
   ]
  },
  {
   "cell_type": "code",
   "execution_count": 73,
   "id": "cafbd4e9",
   "metadata": {},
   "outputs": [],
   "source": [
    "df_eval2['score_row'] = df_eval2.apply(getMetric('title_right','title_right_pred'),axis=1)"
   ]
  },
  {
   "cell_type": "code",
   "execution_count": 74,
   "id": "7e910e69",
   "metadata": {},
   "outputs": [
    {
     "data": {
      "text/plain": [
       "<Axes: >"
      ]
     },
     "execution_count": 74,
     "metadata": {},
     "output_type": "execute_result"
    },
    {
     "data": {
      "image/png": "[encoded data removed]",
      "text/plain": [
       "<Figure size 640x480 with 1 Axes>"
      ]
     },
     "metadata": {},
     "output_type": "display_data"
    }
   ],
   "source": [
    "df_eval2['score_row'].hist()"
   ]
  },
  {
   "cell_type": "code",
   "execution_count": 75,
   "id": "b151167e",
   "metadata": {},
   "outputs": [
    {
     "data": {
      "text/plain": [
       "0.46016260162601624"
      ]
     },
     "execution_count": 75,
     "metadata": {},
     "output_type": "execute_result"
    }
   ],
   "source": [
    "df_eval2['score_row'].mean()"
   ]
  },
  {
   "cell_type": "code",
   "execution_count": 76,
   "id": "f71bb3bb",
   "metadata": {},
   "outputs": [
    {
     "data": {
      "text/plain": [
       "0.367479674796748"
      ]
     },
     "execution_count": 76,
     "metadata": {},
     "output_type": "execute_result"
    }
   ],
   "source": [
    "df_eval['score_row'].mean()"
   ]
  },
  {
   "cell_type": "code",
   "execution_count": null,
   "id": "5056f42d",
   "metadata": {},
   "outputs": [],
   "source": []
  },
  {
   "cell_type": "markdown",
   "id": "b743ff13",
   "metadata": {},
   "source": [
    "# MTEB GITHUB \n",
    "https://github.com/embeddings-benchmark/mteb#leaderboard"
   ]
  },
  {
   "cell_type": "markdown",
   "id": "8e08fd41",
   "metadata": {},
   "source": [
    "# MTEB HUGGING FACE\n",
    "https://huggingface.co/spaces/mteb/leaderboard"
   ]
  },
  {
   "cell_type": "markdown",
   "id": "0fe42d3e",
   "metadata": {},
   "source": [
    "# Exercise 1: RAG application\n",
    "1. Add more context (such as product category_left, description, brand etc.. ) to title_left and title_right before searching\n",
    "2. Search for relevante products\n",
    "3. Evaluate your RAG model\n"
   ]
  },
  {
   "cell_type": "code",
   "execution_count": null,
   "id": "ff761262",
   "metadata": {},
   "outputs": [],
   "source": []
  },
  {
   "cell_type": "markdown",
   "id": "33d8794d",
   "metadata": {},
   "source": [
    "# Exercise 2: Implement SFR-Embedding-Mistral for Information Retrieval"
   ]
  },
  {
   "cell_type": "markdown",
   "id": "90a20a24",
   "metadata": {},
   "source": [
    "https://huggingface.co/Salesforce/SFR-Embedding-Mistral"
   ]
  },
  {
   "cell_type": "code",
   "execution_count": null,
   "id": "766e8ab1",
   "metadata": {},
   "outputs": [],
   "source": [
    "# Your code\n"
   ]
  },
  {
   "cell_type": "code",
   "execution_count": null,
   "id": "94561922",
   "metadata": {},
   "outputs": [],
   "source": [
    "# Your code\n"
   ]
  },
  {
   "cell_type": "code",
   "execution_count": null,
   "id": "585f9f9d",
   "metadata": {},
   "outputs": [],
   "source": [
    "# Your code\n"
   ]
  },
  {
   "cell_type": "code",
   "execution_count": null,
   "id": "b23952ce",
   "metadata": {},
   "outputs": [],
   "source": [
    "# Your Evaluation\n"
   ]
  },
  {
   "cell_type": "code",
   "execution_count": null,
   "id": "f686a385",
   "metadata": {},
   "outputs": [],
   "source": [
    "# Compare your result with result from \"sentence-transformers/all-MiniLM-L6-v2\"\n"
   ]
  }
 ],
 "metadata": {
  "kernelspec": {
   "display_name": "Python 3 (ipykernel)",
   "language": "python",
   "name": "python3"
  },
  "language_info": {
   "codemirror_mode": {
    "name": "ipython",
    "version": 3
   },
   "file_extension": ".py",
   "mimetype": "text/x-python",
   "name": "python",
   "nbconvert_exporter": "python",
   "pygments_lexer": "ipython3",
   "version": "3.10.9"
  }
 },
 "nbformat": 4,
 "nbformat_minor": 5
}
